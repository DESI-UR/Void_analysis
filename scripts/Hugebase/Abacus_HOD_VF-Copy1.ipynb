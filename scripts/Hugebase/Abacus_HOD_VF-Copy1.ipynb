{
 "cells": [
  {
   "cell_type": "markdown",
   "id": "32b75d20-06b6-48fc-8f75-13c9a4587d2f",
   "metadata": {},
   "source": [
    "# This notebook saves the Abacus hugebase catalog halo positions for use with void-finding algorithms"
   ]
  },
  {
   "cell_type": "code",
   "execution_count": 51,
   "id": "598737b0-391c-498e-a2c6-4310c4f4e484",
   "metadata": {},
   "outputs": [],
   "source": [
    "import os\n",
    "from asdf.asdf import open_asdf\n",
    "import matplotlib.pyplot as plt\n",
    "from pathlib import Path\n",
    "import numpy as np\n",
    "from abacusnbody.data.compaso_halo_catalog import CompaSOHaloCatalog"
   ]
  },
  {
   "cell_type": "code",
   "execution_count": 56,
   "id": "913615b6-f2c8-4a43-b823-0ccad63e0fb1",
   "metadata": {},
   "outputs": [],
   "source": [
    "#multiplier used to convert catalog units to Mpc\n",
    "scale = 2000\n",
    "#name of output file\n",
    "title = \"hugebase.txt\"\n",
    "#run the program so long as the output file name is not already taken\n",
    "if (os.path.exists(title)):\n",
    "        print(f\"File {title} already exists. Input a different file name to use the program. Terminating program\")\n",
    "else:\n",
    "    #file header\n",
    "    np.savetxt(title,[],header=\"x y z\",fmt='%s')\n",
    "    \n",
    "    #assemble data from the 34 catalog files\n",
    "    for i in range(0,34):\n",
    "        #create current file name\n",
    "        idx = str(i).zfill(3)\n",
    "        catdir =  f\"/global/cfs/cdirs/desi/cosmosim/Abacus/AbacusSummit_base_c000_ph000/halos/z0.100/halo_info/halo_info_{idx}.asdf\"\n",
    "        #open file\n",
    "        cat = open_asdf(catdir)\n",
    "        #get halo positions\n",
    "        pos = cat['data']['x_L2com'] * scale\n",
    "        #save halo positions\n",
    "        with open(title,'ab') as f:\n",
    "            np.savetxt(f,pos,fmt='%s')\n",
    "    "
   ]
  },
  {
   "cell_type": "code",
   "execution_count": null,
   "id": "f63c38e2-2d11-459d-9cec-e387147aaf5a",
   "metadata": {},
   "outputs": [],
   "source": []
  }
 ],
 "metadata": {
  "kernelspec": {
   "display_name": "NERSC Python",
   "language": "python",
   "name": "python3"
  },
  "language_info": {
   "codemirror_mode": {
    "name": "ipython",
    "version": 3
   },
   "file_extension": ".py",
   "mimetype": "text/x-python",
   "name": "python",
   "nbconvert_exporter": "python",
   "pygments_lexer": "ipython3",
   "version": "3.9.7"
  }
 },
 "nbformat": 4,
 "nbformat_minor": 5
}
