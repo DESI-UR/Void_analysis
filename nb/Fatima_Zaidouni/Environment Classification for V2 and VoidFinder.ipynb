{
 "cells": [
  {
   "cell_type": "markdown",
   "metadata": {},
   "source": [
    "This notebook takes in a list of galaxies and the voids found using $V^2$ and VoidFinder and appends to the list of galaxies columns that denote which are void, wall, edge, and outside the survey for each algorithm.  It also appends to the file the normalized depth within a V$^2$ void (calculated using Dahlia's C++ code)."
   ]
  },
  {
   "cell_type": "code",
   "execution_count": 1,
   "metadata": {},
   "outputs": [],
   "source": [
    "from astropy.table import Table\n",
    "from astropy.io import fits\n",
    "from astropy.coordinates import SkyCoord\n",
    "from astropy import units as u\n",
    "import astropy.constants as const\n",
    "\n",
    "from vast.voidfinder.distance import z_to_comoving_dist\n",
    "from vast.voidfinder.vflag import determine_vflag\n",
    "\n",
    "import numpy as np\n",
    "\n",
    "import pickle\n",
    "\n",
    "import matplotlib.pyplot as plt\n",
    "%matplotlib notebook"
   ]
  },
  {
   "cell_type": "markdown",
   "metadata": {},
   "source": [
    "#### Miscellaneous functions"
   ]
  },
  {
   "cell_type": "code",
   "execution_count": 2,
   "metadata": {},
   "outputs": [],
   "source": [
    "def flatten(array): # when np.flatten() doesn't work\n",
    "    temp = []\n",
    "    for sublist in array:\n",
    "        for item in sublist:\n",
    "            temp.append(item)\n",
    "    return np.array(temp)"
   ]
  },
  {
   "cell_type": "code",
   "execution_count": 3,
   "metadata": {},
   "outputs": [],
   "source": [
    "def rmv(array, out): # removing galaxies in \"out\" from galaxies in \"array\"\n",
    "    '''\n",
    "    test_out =[] \n",
    "    for i in array:\n",
    "        if i in out:\n",
    "            test_out.append(False)\n",
    "        else:\n",
    "            test_out.append(True)\n",
    "    '''\n",
    "    test_out = np.ones(len(array), dtype=bool)\n",
    "    \n",
    "    for i,obj in enumerate(array):\n",
    "        if obj in out:\n",
    "            test_out[i] = False\n",
    "    \n",
    "    return array[test_out]"
   ]
  },
  {
   "cell_type": "markdown",
   "metadata": {},
   "source": [
    "# Galaxies"
   ]
  },
  {
   "cell_type": "code",
   "execution_count": 4,
   "metadata": {},
   "outputs": [],
   "source": [
    "#gal_filename = 'data_all.txt'\n",
    "#data = Table.read('data_all.txt', format='ascii')\n",
    "\n",
    "gal_filename = '../../../../data/nsa_v1_0_1_VAGC.fits'\n",
    "\n",
    "hdu = fits.open(gal_filename)\n",
    "data = Table(hdu[1].data)\n",
    "hdu.close()"
   ]
  },
  {
   "cell_type": "code",
   "execution_count": 5,
   "metadata": {},
   "outputs": [
    {
     "data": {
      "text/html": [
       "<div><i>Table length=5</i>\n",
       "<table id=\"table140716007366960\" class=\"table-striped table-bordered table-condensed\">\n",
       "<thead><tr><th>IAUNAME</th><th>SUBDIR</th><th>RA</th><th>DEC</th><th>ISDSS</th><th>INED</th><th>ISIXDF</th><th>IALFALFA</th><th>IZCAT</th><th>ITWODF</th><th>MAG</th><th>Z</th><th>ZSRC</th><th>SIZE</th><th>RUN</th><th>CAMCOL</th><th>FIELD</th><th>RERUN</th><th>XPOS</th><th>YPOS</th><th>NSAID</th><th>ZDIST</th><th>SERSIC_NMGY [7]</th><th>SERSIC_NMGY_IVAR [7]</th><th>SERSIC_OK</th><th>SERSIC_RNMGY [7]</th><th>SERSIC_ABSMAG [7]</th><th>SERSIC_AMIVAR [7]</th><th>EXTINCTION [7]</th><th>SERSIC_KCORRECT [7]</th><th>SERSIC_KCOEFF [5]</th><th>SERSIC_MTOL [7]</th><th>SERSIC_B300</th><th>SERSIC_B1000</th><th>SERSIC_METS</th><th>SERSIC_MASS</th><th>XCEN</th><th>YCEN</th><th>NPROF [7]</th><th>PROFMEAN [15,7]</th><th>PROFMEAN_IVAR [15,7]</th><th>QSTOKES [15,7]</th><th>USTOKES [15,7]</th><th>BASTOKES [15,7]</th><th>PHISTOKES [15,7]</th><th>PETRO_FLUX [7]</th><th>PETRO_FLUX_IVAR [7]</th><th>FIBER_FLUX [7]</th><th>FIBER_FLUX_IVAR [7]</th><th>PETRO_BA50</th><th>PETRO_PHI50</th><th>PETRO_BA90</th><th>PETRO_PHI90</th><th>SERSIC_FLUX [7]</th><th>SERSIC_FLUX_IVAR [7]</th><th>SERSIC_N</th><th>SERSIC_BA</th><th>SERSIC_PHI</th><th>ASYMMETRY [7]</th><th>CLUMPY [7]</th><th>DFLAGS [7]</th><th>AID</th><th>PID</th><th>DVERSION</th><th>PROFTHETA [15]</th><th>PETRO_THETA</th><th>PETRO_TH50</th><th>PETRO_TH90</th><th>SERSIC_TH50</th><th>PLATE</th><th>FIBERID</th><th>MJD</th><th>RACAT</th><th>DECCAT</th><th>ZSDSSLINE</th><th>SURVEY</th><th>PROGRAMNAME</th><th>PLATEQUALITY</th><th>TILE</th><th>PLUG_RA</th><th>PLUG_DEC</th><th>ELPETRO_BA</th><th>ELPETRO_PHI</th><th>ELPETRO_FLUX_R</th><th>ELPETRO_FLUX_IVAR_R</th><th>ELPETRO_THETA_R</th><th>ELPETRO_TH50_R</th><th>ELPETRO_TH90_R</th><th>ELPETRO_THETA</th><th>ELPETRO_FLUX [7]</th><th>ELPETRO_FLUX_IVAR [7]</th><th>ELPETRO_TH50 [7]</th><th>ELPETRO_TH90 [7]</th><th>ELPETRO_APCORR_R</th><th>ELPETRO_APCORR [7]</th><th>ELPETRO_APCORR_SELF [7]</th><th>ELPETRO_NMGY [7]</th><th>ELPETRO_NMGY_IVAR [7]</th><th>ELPETRO_OK</th><th>ELPETRO_RNMGY [7]</th><th>ELPETRO_ABSMAG [7]</th><th>ELPETRO_AMIVAR [7]</th><th>ELPETRO_KCORRECT [7]</th><th>ELPETRO_KCOEFF [5]</th><th>ELPETRO_MASS</th><th>ELPETRO_MTOL [7]</th><th>ELPETRO_B300</th><th>ELPETRO_B1000</th><th>ELPETRO_METS</th><th>IN_DR7_LSS</th><th>u_r</th><th>g_r</th><th>NUV_r</th><th>index</th><th>imc</th><th>aimc</th><th>cd</th><th>conx1</th><th>u_r_KIAS</th><th>prmag</th><th>BPTclass</th><th>SFR</th><th>sSFR</th><th>HImass</th><th>flag3727</th><th>t3</th><th>Z12logOH</th><th>Zerr</th><th>N12logNH</th><th>NHerr</th><th>logNO</th><th>NOerr</th><th>Ne12logNeH</th><th>NeHerr</th><th>logNeO</th><th>NeOerr</th><th>Z_N2O2</th><th>vorvol</th></tr></thead>\n",
       "<thead><tr><th>str19</th><th>str27</th><th>float64</th><th>float64</th><th>int32</th><th>int32</th><th>int32</th><th>int32</th><th>int32</th><th>int32</th><th>float32</th><th>float32</th><th>str7</th><th>float32</th><th>int16</th><th>uint8</th><th>int16</th><th>str3</th><th>float32</th><th>float32</th><th>int32</th><th>float32</th><th>float32</th><th>float32</th><th>int16</th><th>float32</th><th>float32</th><th>float32</th><th>float32</th><th>float32</th><th>float32</th><th>float32</th><th>float32</th><th>float32</th><th>float32</th><th>float32</th><th>float64</th><th>float64</th><th>uint8</th><th>float32</th><th>float32</th><th>float32</th><th>float32</th><th>float32</th><th>float32</th><th>float32</th><th>float32</th><th>float32</th><th>float32</th><th>float32</th><th>float32</th><th>float32</th><th>float32</th><th>float32</th><th>float32</th><th>float32</th><th>float32</th><th>float32</th><th>float32</th><th>float32</th><th>int32</th><th>int32</th><th>int32</th><th>str8</th><th>float32</th><th>float32</th><th>float32</th><th>float32</th><th>float32</th><th>int32</th><th>int16</th><th>int32</th><th>float64</th><th>float64</th><th>float32</th><th>str6</th><th>str27</th><th>str8</th><th>int32</th><th>float64</th><th>float64</th><th>float32</th><th>float32</th><th>float32</th><th>float32</th><th>float32</th><th>float32</th><th>float32</th><th>float32</th><th>float32</th><th>float32</th><th>float32</th><th>float32</th><th>float32</th><th>float32</th><th>float32</th><th>float32</th><th>float32</th><th>int16</th><th>float32</th><th>float32</th><th>float32</th><th>float32</th><th>float32</th><th>float32</th><th>float32</th><th>float32</th><th>float32</th><th>float32</th><th>float64</th><th>float64</th><th>float64</th><th>float64</th><th>int64</th><th>int64</th><th>float64</th><th>float64</th><th>float64</th><th>float64</th><th>float64</th><th>float64</th><th>float64</th><th>float64</th><th>float64</th><th>float64</th><th>float64</th><th>float64</th><th>float64</th><th>float64</th><th>float64</th><th>float64</th><th>float64</th><th>float64</th><th>float64</th><th>float64</th><th>float64</th><th>float64</th><th>float64</th></tr></thead>\n",
       "<tr><td>J094651.40-010228.5</td><td>09h/m00/J094651.40-010228.5</td><td>146.714215072841</td><td>-1.0412800233313741</td><td>0</td><td>72212</td><td>37354</td><td>-1</td><td>-1</td><td>-1</td><td>15.178774</td><td>0.021222278</td><td>sdss</td><td>0.07</td><td>756</td><td>1</td><td>206</td><td>301</td><td>136.2967</td><td>1095.152</td><td>0</td><td>0.020687785</td><td>29.696056 .. 3267.6895</td><td>0.29814342 .. 0.00012172792</td><td>1</td><td>31.368013 .. 3501.2527</td><td>-15.17281 .. -20.302134</td><td>223.03555 .. 1102.6129</td><td>0.4536473 .. 0.080934174</td><td>-0.005893635 .. 0.019576037</td><td>0.00017777947 .. 5.1533486e-11</td><td>0.00020792194 .. 0.98780394</td><td>2.7473723e-05</td><td>0.31195974</td><td>0.035135116</td><td>8898397000.0</td><td>215.39407348632812</td><td>213.4535369873047</td><td>10 .. 12</td><td>0.3149959 .. 0.0</td><td>233.37904 .. 0.0</td><td>0.062215745 .. -0.07950058</td><td>0.0006146176 .. -0.1274703</td><td>0.8828513 .. 0.7387829</td><td>0.2829979 .. -60.97547</td><td>18.203371 .. 2264.6604</td><td>1.9946122 .. 0.015697604</td><td>1.0260131 .. 561.97687</td><td>47.3397 .. 0.33574256</td><td>0.88909996</td><td>14.777527</td><td>0.80408496</td><td>17.367554</td><td>19.554192 .. 3146.785</td><td>1.0691423 .. 0.017162137</td><td>4.7761517</td><td>0.6651653</td><td>15.97821</td><td>-0.0109440535 .. 0.004525926</td><td>0.042470127 .. 0.042621203</td><td>0 .. 0</td><td>0</td><td>36</td><td>v2_1_13</td><td>0.22341923 .. 258.39</td><td>7.2478933</td><td>3.4641922</td><td>10.453795</td><td>5.882104</td><td>266</td><td>1</td><td>51630</td><td>146.71420341874853</td><td>-1.0412749124036818</td><td>0.0</td><td>sdss</td><td>legacy</td><td>good</td><td>122</td><td>146.71421</td><td>-1.0413043</td><td>0.80408496</td><td>17.367554</td><td>1144.0713</td><td>0.4582725</td><td>7.3913364</td><td>3.7061903</td><td>10.666219</td><td>7.3913364</td><td>18.787916 .. 2225.009</td><td>1.8480047 .. 0.017611798</td><td>5.8557696 .. 3.4004514</td><td>11.650886 .. 10.1460905</td><td>0.9986329</td><td>1.0687045 .. 1.001099</td><td>1.0695114 .. 1.0010818</td><td>28.532349 .. 2310.4973</td><td>0.42499655 .. 0.00024172392</td><td>1</td><td>28.661283 .. 2337.7668</td><td>-15.124495 .. -19.915525</td><td>293.50247 .. 1094.6666</td><td>-0.010805 .. 0.009306902</td><td>3.9630737e-05 .. 2.6251464e-06</td><td>6833158000.0</td><td>0.00017553588 .. 1.14686</td><td>0.004447123</td><td>0.09061434</td><td>0.025269886</td><td>0.0</td><td>2.3124398291110992</td><td>0.7627769559621811</td><td>3.9262890815734863</td><td>4000000</td><td>-99</td><td>-99.0</td><td>-99.0</td><td>-99.0</td><td>-99.0</td><td>-99.0</td><td>nan</td><td>nan</td><td>nan</td><td>nan</td><td>nan</td><td>nan</td><td>nan</td><td>nan</td><td>nan</td><td>nan</td><td>nan</td><td>nan</td><td>nan</td><td>nan</td><td>nan</td><td>nan</td><td>nan</td><td>nan</td></tr>\n",
       "<tr><td>J094630.85-004554.5</td><td>09h/m00/J094630.85-004554.5</td><td>146.6285851269414</td><td>-0.7651620976591762</td><td>1</td><td>-1</td><td>-1</td><td>-1</td><td>-1</td><td>-1</td><td>17.318521</td><td>0.06465632</td><td>sdss</td><td>0.06491773</td><td>1239</td><td>2</td><td>175</td><td>301</td><td>735.56384</td><td>1277.3636</td><td>1</td><td>0.06403577</td><td>2.4606192 .. 443.66675</td><td>5.447516 .. 0.006137319</td><td>1</td><td>2.6590455 .. 454.05856</td><td>-14.978118 .. -20.688284</td><td>27.979414 .. 1024.811</td><td>0.60185605 .. 0.10737576</td><td>-0.018567445 .. 0.051569887</td><td>1.7666649e-05 .. 6.712402e-13</td><td>0.00035330586 .. 1.0529422</td><td>1.4492807e-05</td><td>0.21530226</td><td>0.031020422</td><td>12929411000.0</td><td>145.3625946044922</td><td>121.33534240722656</td><td>10 .. 11</td><td>0.044930786 .. 0.0</td><td>1644.0168 .. 0.0</td><td>0.15447958 .. 0.1804297</td><td>0.0016548077 .. 0.05960713</td><td>0.73236895 .. 0.680643</td><td>0.30686864 .. 9.140798</td><td>1.5539132 .. 380.1313</td><td>11.729078 .. 0.018252498</td><td>0.10988019 .. 131.71373</td><td>345.7848 .. 0.57769156</td><td>0.7371746</td><td>87.53705</td><td>0.50988674</td><td>87.96927</td><td>1.4135201 .. 416.9717</td><td>17.281208 .. 0.089459315</td><td>2.222374</td><td>0.27854216</td><td>86.21106</td><td>-0.0066564083 .. 0.0052427053</td><td>0.04789895 .. 0.075857244</td><td>0 .. 0</td><td>0</td><td>29</td><td>v2_1_13</td><td>0.22341923 .. 258.39</td><td>5.6178217</td><td>2.3269887</td><td>6.7219906</td><td>3.291051</td><td>266</td><td>4</td><td>51630</td><td>146.62857001083813</td><td>-0.7651439853236099</td><td>0.0</td><td>sdss</td><td>legacy</td><td>good</td><td>122</td><td>146.62857</td><td>-0.76513683</td><td>0.50988674</td><td>87.96926</td><td>185.97183</td><td>0.62044895</td><td>6.581605</td><td>2.9719684</td><td>8.093729</td><td>6.581605</td><td>1.614101 .. 385.6091</td><td>12.512996 .. 0.025627436</td><td>6.0647826 .. 2.8283458</td><td>9.8568735 .. 8.044135</td><td>1.0033052</td><td>1.101541 .. 0.9988729</td><td>1.1308625 .. 0.99827486</td><td>2.8097854 .. 410.2963</td><td>3.9543293 .. 0.005790308</td><td>1</td><td>2.917754 .. 415.73123</td><td>-15.113855 .. -20.591503</td><td>26.483196 .. 826.89087</td><td>-0.026901115 .. 0.039683696</td><td>1.06661e-05 .. 1.3970519e-12</td><td>12135996000.0</td><td>0.0003045496 .. 1.0913272</td><td>1.6861053e-05</td><td>0.14151204</td><td>0.027635332</td><td>1.0</td><td>2.976039946079254</td><td>0.8633808791637421</td><td>4.488303065299988</td><td>180229</td><td>1</td><td>1.0</td><td>-0.169</td><td>0.356</td><td>2.697</td><td>16.627</td><td>3.0</td><td>-0.6210674047470093</td><td>-11.241625785827637</td><td>nan</td><td>nan</td><td>nan</td><td>nan</td><td>nan</td><td>nan</td><td>nan</td><td>nan</td><td>nan</td><td>nan</td><td>nan</td><td>nan</td><td>nan</td><td>9.48280122055993</td><td>0.0</td></tr>\n",
       "<tr><td>J094631.59-005917.7</td><td>09h/m00/J094631.59-005917.7</td><td>146.63170644325592</td><td>-0.9883467023052999</td><td>2</td><td>72132</td><td>-1</td><td>-1</td><td>-1</td><td>-1</td><td>18.123354</td><td>0.05265425</td><td>sdss</td><td>0.07</td><td>756</td><td>1</td><td>206</td><td>301</td><td>618.0556</td><td>344.6873</td><td>2</td><td>0.052030597</td><td>5.9062114 .. 117.6328</td><td>2.735704 .. 0.048443027</td><td>1</td><td>5.766684 .. 117.70143</td><td>-15.453841 .. -18.720377</td><td>80.95401 .. 568.64264</td><td>0.43238893 .. 0.07714152</td><td>-0.024124824 .. -0.005638472</td><td>2.5192165e-07 .. 4.9804896e-07</td><td>3.070332e-05 .. 0.8028418</td><td>0.024668738</td><td>0.0852406</td><td>0.021334123</td><td>1573399200.0</td><td>79.96614074707031</td><td>90.70097351074219</td><td>9 .. 10</td><td>0.15507016 .. 0.0</td><td>454.9598 .. 0.0</td><td>-0.006260235 .. -0.12462888</td><td>0.00027153647 .. -0.03455963</td><td>0.9875458 .. 0.7709587</td><td>88.75818 .. -82.25064</td><td>3.430186 .. 138.60387</td><td>8.568999 .. 0.018438479</td><td>0.4591055 .. 31.897715</td><td>115.09581 .. 0.68231297</td><td>0.76752096</td><td>161.0622</td><td>0.5954031</td><td>162.72363</td><td>3.9660065 .. 113.676796</td><td>6.9698696 .. 0.10624967</td><td>0.88311815</td><td>0.45403665</td><td>163.90436</td><td>0.04256475 .. 0.012925059</td><td>0.2935813 .. -0.043825477</td><td>0 .. 0</td><td>0</td><td>33</td><td>v2_1_13</td><td>0.22341923 .. 258.39</td><td>4.7698913</td><td>2.278736</td><td>5.1779103</td><td>2.8177862</td><td>266</td><td>6</td><td>51630</td><td>146.63164771049065</td><td>-0.9882588093923149</td><td>0.0</td><td>sdss</td><td>legacy</td><td>good</td><td>122</td><td>146.63167</td><td>-0.98827781</td><td>0.5954031</td><td>162.72362</td><td>73.537186</td><td>0.70116085</td><td>5.5319614</td><td>2.7789824</td><td>6.0893784</td><td>5.5319614</td><td>4.895678 .. 115.44117</td><td>7.500193 .. 0.022838634</td><td>4.4029393 .. 2.9222565</td><td>9.300362 .. 6.7642803</td><td>1.0013566</td><td>1.108137 .. 1.0008979</td><td>1.0882177 .. 1.0029837</td><td>7.290686 .. 119.45858</td><td>2.7185972 .. 0.01730672</td><td>1</td><td>6.974619 .. 122.09129</td><td>-15.660282 .. -18.744165</td><td>122.58378 .. 209.5081</td><td>-0.046333067 .. 0.001428483</td><td>5.522025e-11 .. 1.388793e-07</td><td>1788938800.0</td><td>2.9459869e-05 .. 0.8742925</td><td>0.006104483</td><td>0.057695847</td><td>0.021391599</td><td>0.0</td><td>1.7119742929935455</td><td>0.5155415460467339</td><td>2.713152766227722</td><td>4000001</td><td>-99</td><td>-99.0</td><td>-99.0</td><td>-99.0</td><td>-99.0</td><td>-99.0</td><td>nan</td><td>nan</td><td>nan</td><td>nan</td><td>nan</td><td>nan</td><td>nan</td><td>nan</td><td>nan</td><td>nan</td><td>nan</td><td>nan</td><td>nan</td><td>nan</td><td>nan</td><td>nan</td><td>nan</td><td>nan</td></tr>\n",
       "<tr><td>J094744.18-004013.4</td><td>09h/m00/J094744.18-004013.4</td><td>146.9341288729797</td><td>-0.6704053610430766</td><td>3</td><td>-1</td><td>-1</td><td>-1</td><td>-1</td><td>-1</td><td>17.660961</td><td>0.121270485</td><td>sdss</td><td>0.035120796</td><td>1239</td><td>2</td><td>177</td><td>301</td><td>1596.5807</td><td>1332.545</td><td>3</td><td>0.1206503</td><td>0.59546506 .. 578.8718</td><td>9.035561 .. 0.0035411348</td><td>1</td><td>0.7218249 .. 553.9784</td><td>-14.764457 .. -22.449923</td><td>2.7178097 .. 1006.60394</td><td>0.7170526 .. 0.12792772</td><td>-0.1506549 .. 0.06549595</td><td>1.19462175e-05 .. 1.7515072e-08</td><td>0.002110761 .. 1.223524</td><td>0.00011213933</td><td>0.09278005</td><td>0.025959628</td><td>71169860000.0</td><td>137.42404174804688</td><td>125.49797058105469</td><td>8 .. 11</td><td>0.003647356 .. 0.0</td><td>8113.7544 .. 0.0</td><td>-0.19626419 .. -0.055742305</td><td>-0.030730866 .. 0.05399963</td><td>0.668536 .. 0.85596067</td><td>-85.55046 .. 67.95488</td><td>0.20122944 .. 426.2722</td><td>17.745825 .. 0.012332003</td><td>0.034221034 .. 143.77124</td><td>967.08167 .. 0.45689023</td><td>0.86656487</td><td>143.07059</td><td>0.8717792</td><td>137.78821</td><td>0.30763465 .. 533.8403</td><td>34.00086 .. 0.044268627</td><td>6.0</td><td>0.9274694</td><td>151.60822</td><td>-0.948365 .. -0.035975456</td><td>0.03786385 .. -0.040295005</td><td>0 .. 0</td><td>0</td><td>10</td><td>v2_1_13</td><td>0.22341923 .. 258.39</td><td>6.243227</td><td>2.6551907</td><td>9.177605</td><td>2.3659685</td><td>266</td><td>11</td><td>51630</td><td>146.93412051706812</td><td>-0.6704051378070931</td><td>0.0</td><td>sdss</td><td>legacy</td><td>good</td><td>122</td><td>146.9341</td><td>-0.67040397</td><td>0.8717792</td><td>137.78822</td><td>188.01964</td><td>0.0045111887</td><td>6.0937533</td><td>2.5156991</td><td>8.819097</td><td>6.0937533</td><td>0.17188334 .. 430.66693</td><td>17.761442 .. 0.014656738</td><td>2.0069053 .. 2.448878</td><td>5.1804347 .. 8.978253</td><td>1.000473</td><td>1.0810981 .. 1.0031528</td><td>1.0690908 .. 1.0021293</td><td>0.33270153 .. 466.9954</td><td>4.7372575 .. 0.0040530795</td><td>1</td><td>0.3503071 .. 468.5555</td><td>-14.501482 .. -22.221018</td><td>0.44482368 .. 749.82794</td><td>0.21837461 .. 0.069767624</td><td>1.23576565e-05 .. 9.264894e-12</td><td>57484075000.0</td><td>0.0025006996 .. 1.1638231</td><td>4.5900248e-07</td><td>0.124371074</td><td>0.027231464</td><td>1.0</td><td>3.0934733152389526</td><td>1.1193519085645676</td><td>5.987549424171448</td><td>180235</td><td>1</td><td>1.0</td><td>-0.008</td><td>0.297</td><td>2.798</td><td>16.643</td><td>-1.0</td><td>-0.5</td><td>-11.71275806427002</td><td>nan</td><td>nan</td><td>nan</td><td>nan</td><td>nan</td><td>nan</td><td>nan</td><td>nan</td><td>nan</td><td>nan</td><td>nan</td><td>nan</td><td>nan</td><td>nan</td><td>0.0</td></tr>\n",
       "<tr><td>J094751.74-003242.0</td><td>09h/m00/J094751.74-003242.0</td><td>146.9634997327016</td><td>-0.5447758299302171</td><td>4</td><td>-1</td><td>-1</td><td>-1</td><td>-1</td><td>-1</td><td>17.616278</td><td>0.055980586</td><td>sdss</td><td>0.069483906</td><td>756</td><td>2</td><td>208</td><td>301</td><td>832.6433</td><td>656.1359</td><td>4</td><td>0.05536205</td><td>0.7154174 .. 211.616</td><td>3.600482 .. 0.014102565</td><td>1</td><td>0.37144002 .. 225.01274</td><td>-13.724207 .. -19.51415</td><td>1.5632591 .. 535.7306</td><td>0.94210875 .. 0.16807947</td><td>0.3981669 .. 0.010639639</td><td>1.8537781e-09 .. 6.416469e-19</td><td>0.0008305247 .. 1.0635056</td><td>6.856937e-11</td><td>0.028299168</td><td>0.021570811</td><td>4601116000.0</td><td>106.61283874511719</td><td>109.63866424560547</td><td>10 .. 11</td><td>-0.0007803262 .. 0.0</td><td>4345.746 .. 0.0</td><td>1.0194967 .. -0.04170214</td><td>-0.01024972 .. -0.19242804</td><td>-0.009680829 .. 0.6709904</td><td>-0.28800777 .. -51.113895</td><td>0.641641 .. 180.71252</td><td>8.058507 .. 0.0057766167</td><td>0.006776376 .. 19.828875</td><td>605.97186 .. 0.76043653</td><td>0.7563008</td><td>146.59833</td><td>0.5640161</td><td>139.09671</td><td>0.3004111 .. 188.06877</td><td>20.470825 .. 0.034479737</td><td>0.5</td><td>0.46315262</td><td>135.73392</td><td>-1.2211314 .. 0.09449971</td><td>-0.6252341 .. 0.07285082</td><td>0 .. 0</td><td>0</td><td>30</td><td>v2_1_13</td><td>0.22341923 .. 258.39</td><td>8.891541</td><td>4.383704</td><td>10.253274</td><td>5.9572287</td><td>266</td><td>12</td><td>51630</td><td>146.96560224016943</td><td>-0.5450110833644051</td><td>0.0</td><td>sdss</td><td>legacy</td><td>good</td><td>122</td><td>146.9639</td><td>-0.54500256</td><td>0.5640161</td><td>139.09673</td><td>101.91166</td><td>0.24633221</td><td>10.235785</td><td>5.6257644</td><td>10.441939</td><td>10.235785</td><td>0.578448 .. 197.53346</td><td>9.235534 .. 0.0076996405</td><td>9.599341 .. 5.6851897</td><td>14.973279 .. 11.595498</td><td>0.999509</td><td>1.0575701 .. 1.0006093</td><td>1.0556166 .. 1.0001466</td><td>1.3775514 .. 222.26572</td><td>1.6216505 .. 0.004946779</td><td>1</td><td>0.3789356 .. 240.93816</td><td>-14.453494 .. -19.579548</td><td>2.6105032 .. 207.30931</td><td>0.416085 .. 0.022728156</td><td>3.6889899e-06 .. 1.2268236e-16</td><td>4724134000.0</td><td>0.00082218135 .. 1.0084745</td><td>1.2681366e-10</td><td>0.11364883</td><td>0.025576953</td><td>1.0</td><td>2.044341266155243</td><td>0.7173917442560196</td><td>5.40194034576416</td><td>4000002</td><td>-99</td><td>-99.0</td><td>-99.0</td><td>-99.0</td><td>-99.0</td><td>-99.0</td><td>nan</td><td>nan</td><td>nan</td><td>nan</td><td>nan</td><td>nan</td><td>nan</td><td>nan</td><td>nan</td><td>nan</td><td>nan</td><td>nan</td><td>nan</td><td>nan</td><td>nan</td><td>nan</td><td>nan</td><td>nan</td></tr>\n",
       "</table></div>"
      ],
      "text/plain": [
       "<Table length=5>\n",
       "      IAUNAME                  SUBDIR                   RA                 DEC         ISDSS  INED ISIXDF IALFALFA IZCAT ITWODF    MAG    ... N12logNH  NHerr   logNO   NOerr  Ne12logNeH  NeHerr  logNeO  NeOerr      Z_N2O2       vorvol\n",
       "       str19                   str27                 float64             float64       int32 int32 int32   int32   int32 int32   float32  ... float64  float64 float64 float64  float64   float64 float64 float64     float64      float64\n",
       "------------------- --------------------------- ------------------ ------------------- ----- ----- ------ -------- ----- ------ --------- ... -------- ------- ------- ------- ---------- ------- ------- ------- ---------------- -------\n",
       "J094651.40-010228.5 09h/m00/J094651.40-010228.5   146.714215072841 -1.0412800233313741     0 72212  37354       -1    -1     -1 15.178774 ...      nan     nan     nan     nan        nan     nan     nan     nan              nan     nan\n",
       "J094630.85-004554.5 09h/m00/J094630.85-004554.5  146.6285851269414 -0.7651620976591762     1    -1     -1       -1    -1     -1 17.318521 ...      nan     nan     nan     nan        nan     nan     nan     nan 9.48280122055993     0.0\n",
       "J094631.59-005917.7 09h/m00/J094631.59-005917.7 146.63170644325592 -0.9883467023052999     2 72132     -1       -1    -1     -1 18.123354 ...      nan     nan     nan     nan        nan     nan     nan     nan              nan     nan\n",
       "J094744.18-004013.4 09h/m00/J094744.18-004013.4  146.9341288729797 -0.6704053610430766     3    -1     -1       -1    -1     -1 17.660961 ...      nan     nan     nan     nan        nan     nan     nan     nan              nan     0.0\n",
       "J094751.74-003242.0 09h/m00/J094751.74-003242.0  146.9634997327016 -0.5447758299302171     4    -1     -1       -1    -1     -1 17.616278 ...      nan     nan     nan     nan        nan     nan     nan     nan              nan     nan"
      ]
     },
     "execution_count": 5,
     "metadata": {},
     "output_type": "execute_result"
    }
   ],
   "source": [
    "data[:5]"
   ]
  },
  {
   "cell_type": "markdown",
   "metadata": {},
   "source": [
    "## $V^2$ void depths"
   ]
  },
  {
   "cell_type": "code",
   "execution_count": 6,
   "metadata": {},
   "outputs": [],
   "source": [
    "depth_filename = '../../../data/SDSS/NSA_VIDE_v101_depths_norm.txt'\n",
    "\n",
    "V2_depths = Table.read(depth_filename, format='ascii.commented_header')"
   ]
  },
  {
   "cell_type": "code",
   "execution_count": 7,
   "metadata": {},
   "outputs": [
    {
     "data": {
      "text/html": [
       "<div><i>Table length=5</i>\n",
       "<table id=\"table140716006909792\" class=\"table-striped table-bordered table-condensed\">\n",
       "<thead><tr><th>GAL_ID</th><th>DEPTH</th></tr></thead>\n",
       "<thead><tr><th>int64</th><th>float64</th></tr></thead>\n",
       "<tr><td>3</td><td>-1.0</td></tr>\n",
       "<tr><td>7</td><td>-1.0</td></tr>\n",
       "<tr><td>10</td><td>0.17724354461186687</td></tr>\n",
       "<tr><td>12</td><td>-1.0</td></tr>\n",
       "<tr><td>13</td><td>-1.0</td></tr>\n",
       "</table></div>"
      ],
      "text/plain": [
       "<Table length=5>\n",
       "GAL_ID        DEPTH       \n",
       "int64        float64      \n",
       "------ -------------------\n",
       "     3                -1.0\n",
       "     7                -1.0\n",
       "    10 0.17724354461186687\n",
       "    12                -1.0\n",
       "    13                -1.0"
      ]
     },
     "execution_count": 7,
     "metadata": {},
     "output_type": "execute_result"
    }
   ],
   "source": [
    "V2_depths[:5]"
   ]
  },
  {
   "cell_type": "markdown",
   "metadata": {},
   "source": [
    "# $V^2$ classification"
   ]
  },
  {
   "cell_type": "code",
   "execution_count": 8,
   "metadata": {},
   "outputs": [],
   "source": [
    "#galzones_filename = 'DR7_galzones.dat'\n",
    "#zonevoids_filename = 'DR7_zonevoids.dat'\n",
    "\n",
    "V2_gal_filename = '../../../void_catalogs/public/v1.1.0/V2_nsa_v1_0_1_gal.txt'\n",
    "galzones_filename = '../../../void_catalogs/public/v1.1.0/V2_VIDE-nsa_v1_0_1_galzones.dat'\n",
    "zonevoids_filename = '../../../void_catalogs/public/v1.1.0/V2_VIDE-nsa_v1_0_1_zonevoids.dat'\n",
    "\n",
    "V2_gals = Table.read(V2_gal_filename, format='ascii.commented_header')\n",
    "#galzones_old = Table.read('old_data/old/DR7_galzones.dat', format = 'ascii')\n",
    "galzones = Table.read(galzones_filename, format='ascii.commented_header') \n",
    "zonevoids = Table.read(zonevoids_filename, format='ascii.commented_header')\n",
    "\n",
    "total_glx = len(galzones)"
   ]
  },
  {
   "cell_type": "code",
   "execution_count": 9,
   "metadata": {},
   "outputs": [
    {
     "data": {
      "text/html": [
       "<div><i>Table length=5</i>\n",
       "<table id=\"table140715934803568\" class=\"table-striped table-bordered table-condensed\">\n",
       "<thead><tr><th>gal</th><th>ra</th><th>dec</th><th>redshift</th><th>rabsmag</th></tr></thead>\n",
       "<thead><tr><th>int64</th><th>float64</th><th>float64</th><th>float64</th><th>float64</th></tr></thead>\n",
       "<tr><td>0</td><td>146.6285851269414</td><td>-0.7651620976591762</td><td>0.0646563172340393</td><td>-19.97649574279785</td></tr>\n",
       "<tr><td>1</td><td>146.9341288729797</td><td>-0.6704053610430766</td><td>0.12127048522233963</td><td>-21.559162139892578</td></tr>\n",
       "<tr><td>2</td><td>146.9634997327016</td><td>-0.5447758299302171</td><td>0.055980585515499115</td><td>-19.10099220275879</td></tr>\n",
       "<tr><td>3</td><td>146.96352370262414</td><td>-0.7593404235056136</td><td>0.09708637744188309</td><td>-20.089942932128906</td></tr>\n",
       "<tr><td>4</td><td>146.85984630722874</td><td>-0.8089065016506019</td><td>0.12658987939357758</td><td>-21.062517166137695</td></tr>\n",
       "</table></div>"
      ],
      "text/plain": [
       "<Table length=5>\n",
       " gal          ra                 dec               redshift             rabsmag      \n",
       "int64      float64             float64             float64              float64      \n",
       "----- ------------------ ------------------- -------------------- -------------------\n",
       "    0  146.6285851269414 -0.7651620976591762   0.0646563172340393  -19.97649574279785\n",
       "    1  146.9341288729797 -0.6704053610430766  0.12127048522233963 -21.559162139892578\n",
       "    2  146.9634997327016 -0.5447758299302171 0.055980585515499115  -19.10099220275879\n",
       "    3 146.96352370262414 -0.7593404235056136  0.09708637744188309 -20.089942932128906\n",
       "    4 146.85984630722874 -0.8089065016506019  0.12658987939357758 -21.062517166137695"
      ]
     },
     "execution_count": 9,
     "metadata": {},
     "output_type": "execute_result"
    }
   ],
   "source": [
    "V2_gals[:5]"
   ]
  },
  {
   "cell_type": "code",
   "execution_count": 10,
   "metadata": {},
   "outputs": [
    {
     "data": {
      "text/html": [
       "<div><i>Table length=5</i>\n",
       "<table id=\"table140716007743248\" class=\"table-striped table-bordered table-condensed\">\n",
       "<thead><tr><th>gal</th><th>zone</th><th>depth</th><th>edge</th><th>out</th></tr></thead>\n",
       "<thead><tr><th>int64</th><th>int64</th><th>int64</th><th>int64</th><th>int64</th></tr></thead>\n",
       "<tr><td>3</td><td>1036</td><td>0</td><td>1</td><td>0</td></tr>\n",
       "<tr><td>7</td><td>1036</td><td>0</td><td>1</td><td>0</td></tr>\n",
       "<tr><td>10</td><td>433</td><td>3</td><td>0</td><td>0</td></tr>\n",
       "<tr><td>12</td><td>1036</td><td>0</td><td>1</td><td>0</td></tr>\n",
       "<tr><td>13</td><td>1036</td><td>0</td><td>1</td><td>0</td></tr>\n",
       "</table></div>"
      ],
      "text/plain": [
       "<Table length=5>\n",
       " gal   zone depth  edge  out \n",
       "int64 int64 int64 int64 int64\n",
       "----- ----- ----- ----- -----\n",
       "    3  1036     0     1     0\n",
       "    7  1036     0     1     0\n",
       "   10   433     3     0     0\n",
       "   12  1036     0     1     0\n",
       "   13  1036     0     1     0"
      ]
     },
     "execution_count": 10,
     "metadata": {},
     "output_type": "execute_result"
    }
   ],
   "source": [
    "galzones[:5]"
   ]
  },
  {
   "cell_type": "code",
   "execution_count": 11,
   "metadata": {},
   "outputs": [
    {
     "data": {
      "text/html": [
       "<div><i>Table length=5</i>\n",
       "<table id=\"table140716007742816\" class=\"table-striped table-bordered table-condensed\">\n",
       "<thead><tr><th>zone</th><th>void0</th><th>void1</th></tr></thead>\n",
       "<thead><tr><th>int64</th><th>int64</th><th>int64</th></tr></thead>\n",
       "<tr><td>0</td><td>-1</td><td>-1</td></tr>\n",
       "<tr><td>1</td><td>-1</td><td>-1</td></tr>\n",
       "<tr><td>2</td><td>-1</td><td>-1</td></tr>\n",
       "<tr><td>3</td><td>96</td><td>96</td></tr>\n",
       "<tr><td>4</td><td>-1</td><td>-1</td></tr>\n",
       "</table></div>"
      ],
      "text/plain": [
       "<Table length=5>\n",
       " zone void0 void1\n",
       "int64 int64 int64\n",
       "----- ----- -----\n",
       "    0    -1    -1\n",
       "    1    -1    -1\n",
       "    2    -1    -1\n",
       "    3    96    96\n",
       "    4    -1    -1"
      ]
     },
     "execution_count": 11,
     "metadata": {},
     "output_type": "execute_result"
    }
   ],
   "source": [
    "zonevoids[:5]"
   ]
  },
  {
   "cell_type": "code",
   "execution_count": 12,
   "metadata": {},
   "outputs": [],
   "source": [
    "#gal_indx = galzones_old['gal']\n",
    "gal_indx = galzones['gal']"
   ]
  },
  {
   "cell_type": "code",
   "execution_count": 13,
   "metadata": {},
   "outputs": [
    {
     "name": "stdout",
     "output_type": "stream",
     "text": [
      "194125\n"
     ]
    }
   ],
   "source": [
    "print(total_glx)"
   ]
  },
  {
   "cell_type": "code",
   "execution_count": 14,
   "metadata": {},
   "outputs": [
    {
     "name": "stdout",
     "output_type": "stream",
     "text": [
      "514587 641409\n"
     ]
    }
   ],
   "source": [
    "print(len(V2_gals), len(data))"
   ]
  },
  {
   "cell_type": "markdown",
   "metadata": {},
   "source": [
    "So we need to determine which galaxies from the input galaxy catalog remain in the volume-limited catalog to figure out the $V^2$ classification.  Ugh...\n",
    "\n",
    "**Note (2/15/2022):** This is now obsolete, as we reran $V^2$ on the NSA after generating an index column.\n",
    "\n",
    "##### Identify objects in the volume-limited catalog, and add their index number to a column in `galzones`"
   ]
  },
  {
   "cell_type": "code",
   "execution_count": 15,
   "metadata": {},
   "outputs": [],
   "source": [
    "'''\n",
    "vollim_boolean = (V2_gals['redshift'] <= 0.114) & (V2_gals['rabsmag'] <= -20.0)\n",
    "\n",
    "vollim_V2_gals = V2_gals[vollim_boolean]\n",
    "\n",
    "print(len(vollim_V2_gals))\n",
    "''';"
   ]
  },
  {
   "cell_type": "code",
   "execution_count": 16,
   "metadata": {},
   "outputs": [],
   "source": [
    "data_coords = SkyCoord(ra=data['RA']*u.degree, \n",
    "                       dec=data['DEC']*u.degree, \n",
    "                       radial_velocity=const.c*data['Z'])\n",
    "V2_coords = SkyCoord(ra=V2_gals['ra']*u.degree, \n",
    "                     dec=V2_gals['dec']*u.degree, \n",
    "                     radial_velocity=const.c*V2_gals['redshift'])\n",
    "\n",
    "idx, d2d, d3d = V2_coords.match_to_catalog_3d(data_coords)"
   ]
  },
  {
   "cell_type": "markdown",
   "metadata": {},
   "source": [
    "## Add $V^2$ void depths"
   ]
  },
  {
   "cell_type": "code",
   "execution_count": 17,
   "metadata": {},
   "outputs": [],
   "source": [
    "V2_gals['depth'] = -1.\n",
    "\n",
    "# We can cheat - the galaxy's index number is the same as its row number in V2_gals\n",
    "V2_gals['depth'][V2_depths['GAL_ID']] = V2_depths['DEPTH']"
   ]
  },
  {
   "cell_type": "code",
   "execution_count": 18,
   "metadata": {},
   "outputs": [],
   "source": [
    "data['V2_depth'] = -1.\n",
    "\n",
    "data['V2_depth'][idx] = V2_gals['depth']"
   ]
  },
  {
   "cell_type": "markdown",
   "metadata": {},
   "source": [
    "#### Edge and outside galaxies"
   ]
  },
  {
   "cell_type": "code",
   "execution_count": 19,
   "metadata": {},
   "outputs": [
    {
     "name": "stdout",
     "output_type": "stream",
     "text": [
      "V2 has 12981 galaxies at the edge.\n"
     ]
    }
   ],
   "source": [
    "'''\n",
    "edge_bool = [bool(x) for x in np.array(np.array(galzones['edge']))] \n",
    "edge_gal = np.array(gal_indx[edge_bool])\n",
    "'''\n",
    "edge_gal = galzones['gal'][galzones['edge'].astype(bool)]\n",
    "# edge_gal is a list of the row indices in V2_gals that are edge galaxies.\n",
    "\n",
    "print('V2 has', len(edge_gal), 'galaxies at the edge.')"
   ]
  },
  {
   "cell_type": "code",
   "execution_count": 20,
   "metadata": {},
   "outputs": [
    {
     "name": "stdout",
     "output_type": "stream",
     "text": [
      "V2 has 0 galaxies outside.\n"
     ]
    }
   ],
   "source": [
    "'''\n",
    "out_bool = [bool(x) for x in np.array(np.array(galzones['out']))]\n",
    "out_gal = np.array(gal_indx[out_bool])\n",
    "'''\n",
    "out_gal = galzones['gal'][galzones['out'].astype(bool)]\n",
    "# out_gal is a list of the row indices in V2_gals that are outside the survey.\n",
    "\n",
    "print('V2 has', len(out_gal), 'galaxies outside.')"
   ]
  },
  {
   "cell_type": "markdown",
   "metadata": {},
   "source": [
    "#### Void galaxies"
   ]
  },
  {
   "cell_type": "code",
   "execution_count": 21,
   "metadata": {},
   "outputs": [
    {
     "name": "stdout",
     "output_type": "stream",
     "text": [
      "V2 has 555 zones that are in voids.\n"
     ]
    }
   ],
   "source": [
    "# zones that are in voids\n",
    "void_zones = zonevoids['zone'][(zonevoids['void0'] != -1) & (zonevoids['void1'] != -1)]\n",
    "\n",
    "print('V2 has', len(void_zones), 'zones that are in voids.')"
   ]
  },
  {
   "cell_type": "code",
   "execution_count": 22,
   "metadata": {},
   "outputs": [
    {
     "name": "stdout",
     "output_type": "stream",
     "text": [
      "V2 has 125062 galaxies that are part of a zone that is in a void.\n"
     ]
    }
   ],
   "source": [
    "# Make a list of all the galaxies that are in each of the zones that are part of a void\n",
    "void_gal_ = []\n",
    "\n",
    "for i in void_zones:\n",
    "    void_gal_.append(list(galzones['gal'][galzones['zone'] == i]))\n",
    "\n",
    "void_gal_flat = flatten(void_gal_) # around 200,000 are void galaxies <-- updated to 125,062\n",
    "\n",
    "print('V2 has', len(void_gal_flat), 'galaxies that are part of a zone that is in a void.')"
   ]
  },
  {
   "cell_type": "code",
   "execution_count": 23,
   "metadata": {},
   "outputs": [],
   "source": [
    "#void_gal_flat[199377] # galaxy that's outside that is in zone that is in void"
   ]
  },
  {
   "cell_type": "markdown",
   "metadata": {},
   "source": [
    "#### Fact #1: edge and outside galaxies exist in zones that are in voids\n",
    "\n",
    "These need to therefore be removed from the list of void galaxies."
   ]
  },
  {
   "cell_type": "code",
   "execution_count": 24,
   "metadata": {},
   "outputs": [
    {
     "name": "stdout",
     "output_type": "stream",
     "text": [
      "V2 has 125062 galaxies that are in voids but not along the edge of the survey.\n"
     ]
    }
   ],
   "source": [
    "void_gal = rmv(void_gal_flat, edge_gal) # eliminating edge galaxies, True for non edge, about 8000\n",
    "\n",
    "print('V2 has', len(void_gal), 'galaxies that are in voids but not along the edge of the survey.')"
   ]
  },
  {
   "cell_type": "code",
   "execution_count": 25,
   "metadata": {},
   "outputs": [
    {
     "name": "stdout",
     "output_type": "stream",
     "text": [
      "V2 has 125062 galaxies that are in voids but not outside the survey.\n"
     ]
    }
   ],
   "source": [
    "void_gal = rmv(void_gal, out_gal)\n",
    "\n",
    "print('V2 has', len(void_gal), 'galaxies that are in voids but not outside the survey.')"
   ]
  },
  {
   "cell_type": "markdown",
   "metadata": {},
   "source": [
    "#### wall galaxies"
   ]
  },
  {
   "cell_type": "code",
   "execution_count": 26,
   "metadata": {},
   "outputs": [
    {
     "name": "stdout",
     "output_type": "stream",
     "text": [
      "V2 has 69063 wall galaxies.\n",
      "V2 has 56082 wall galaxies that are not on the edge.\n",
      "V2 has 56082 wall galaxies that are not outside.\n"
     ]
    }
   ],
   "source": [
    "non_void_zones = zonevoids['zone'][(zonevoids['void0'] == -1)] # zones that are not in voids\n",
    "\n",
    "non_void_gal = []\n",
    "\n",
    "for i in non_void_zones:\n",
    "    non_void_gal.append(list(galzones['gal'][galzones['zone'] == i]))\n",
    "    \n",
    "print('V2 has', len(flatten(non_void_gal)), 'wall galaxies.')\n",
    "        \n",
    "wall_gal = rmv(flatten(non_void_gal), edge_gal)\n",
    "\n",
    "print('V2 has', len(wall_gal), 'wall galaxies that are not on the edge.')\n",
    "\n",
    "wall_gal = rmv(wall_gal, out_gal)\n",
    "\n",
    "print('V2 has', len(wall_gal), 'wall galaxies that are not outside.')"
   ]
  },
  {
   "cell_type": "markdown",
   "metadata": {},
   "source": [
    "### Check"
   ]
  },
  {
   "cell_type": "code",
   "execution_count": 27,
   "metadata": {},
   "outputs": [
    {
     "data": {
      "text/plain": [
       "(194125, 194125)"
      ]
     },
     "execution_count": 27,
     "metadata": {},
     "output_type": "execute_result"
    }
   ],
   "source": [
    "len(wall_gal) + len(void_gal) + len(edge_gal) + len(out_gal), total_glx"
   ]
  },
  {
   "cell_type": "markdown",
   "metadata": {},
   "source": [
    "### Add vflag column to main footprint array"
   ]
  },
  {
   "cell_type": "code",
   "execution_count": 28,
   "metadata": {},
   "outputs": [],
   "source": [
    "V2_gals['vflag_V2'] = -9\n",
    "\n",
    "V2_gals['vflag_V2'][wall_gal] = 0\n",
    "V2_gals['vflag_V2'][void_gal] = 1\n",
    "V2_gals['vflag_V2'][edge_gal] = 2\n",
    "V2_gals['vflag_V2'][out_gal] = 9"
   ]
  },
  {
   "cell_type": "code",
   "execution_count": 29,
   "metadata": {},
   "outputs": [
    {
     "data": {
      "text/html": [
       "<div><i>Table length=5</i>\n",
       "<table id=\"table140716007265568\" class=\"table-striped table-bordered table-condensed\">\n",
       "<thead><tr><th>gal</th><th>ra</th><th>dec</th><th>redshift</th><th>rabsmag</th><th>depth</th><th>vflag_V2</th></tr></thead>\n",
       "<thead><tr><th>int64</th><th>float64</th><th>float64</th><th>float64</th><th>float64</th><th>float64</th><th>int64</th></tr></thead>\n",
       "<tr><td>0</td><td>146.6285851269414</td><td>-0.7651620976591762</td><td>0.0646563172340393</td><td>-19.97649574279785</td><td>-1.0</td><td>-9</td></tr>\n",
       "<tr><td>1</td><td>146.9341288729797</td><td>-0.6704053610430766</td><td>0.12127048522233963</td><td>-21.559162139892578</td><td>-1.0</td><td>-9</td></tr>\n",
       "<tr><td>2</td><td>146.9634997327016</td><td>-0.5447758299302171</td><td>0.055980585515499115</td><td>-19.10099220275879</td><td>-1.0</td><td>-9</td></tr>\n",
       "<tr><td>3</td><td>146.96352370262414</td><td>-0.7593404235056136</td><td>0.09708637744188309</td><td>-20.089942932128906</td><td>-1.0</td><td>2</td></tr>\n",
       "<tr><td>4</td><td>146.85984630722874</td><td>-0.8089065016506019</td><td>0.12658987939357758</td><td>-21.062517166137695</td><td>-1.0</td><td>-9</td></tr>\n",
       "</table></div>"
      ],
      "text/plain": [
       "<Table length=5>\n",
       " gal          ra                 dec               redshift             rabsmag        depth  vflag_V2\n",
       "int64      float64             float64             float64              float64       float64  int64  \n",
       "----- ------------------ ------------------- -------------------- ------------------- ------- --------\n",
       "    0  146.6285851269414 -0.7651620976591762   0.0646563172340393  -19.97649574279785    -1.0       -9\n",
       "    1  146.9341288729797 -0.6704053610430766  0.12127048522233963 -21.559162139892578    -1.0       -9\n",
       "    2  146.9634997327016 -0.5447758299302171 0.055980585515499115  -19.10099220275879    -1.0       -9\n",
       "    3 146.96352370262414 -0.7593404235056136  0.09708637744188309 -20.089942932128906    -1.0        2\n",
       "    4 146.85984630722874 -0.8089065016506019  0.12658987939357758 -21.062517166137695    -1.0       -9"
      ]
     },
     "execution_count": 29,
     "metadata": {},
     "output_type": "execute_result"
    }
   ],
   "source": [
    "V2_gals[:5]"
   ]
  },
  {
   "cell_type": "code",
   "execution_count": 30,
   "metadata": {},
   "outputs": [
    {
     "data": {
      "application/javascript": [
       "/* Put everything inside the global mpl namespace */\n",
       "/* global mpl */\n",
       "window.mpl = {};\n",
       "\n",
       "mpl.get_websocket_type = function () {\n",
       "    if (typeof WebSocket !== 'undefined') {\n",
       "        return WebSocket;\n",
       "    } else if (typeof MozWebSocket !== 'undefined') {\n",
       "        return MozWebSocket;\n",
       "    } else {\n",
       "        alert(\n",
       "            'Your browser does not have WebSocket support. ' +\n",
       "                'Please try Chrome, Safari or Firefox ≥ 6. ' +\n",
       "                'Firefox 4 and 5 are also supported but you ' +\n",
       "                'have to enable WebSockets in about:config.'\n",
       "        );\n",
       "    }\n",
       "};\n",
       "\n",
       "mpl.figure = function (figure_id, websocket, ondownload, parent_element) {\n",
       "    this.id = figure_id;\n",
       "\n",
       "    this.ws = websocket;\n",
       "\n",
       "    this.supports_binary = this.ws.binaryType !== undefined;\n",
       "\n",
       "    if (!this.supports_binary) {\n",
       "        var warnings = document.getElementById('mpl-warnings');\n",
       "        if (warnings) {\n",
       "            warnings.style.display = 'block';\n",
       "            warnings.textContent =\n",
       "                'This browser does not support binary websocket messages. ' +\n",
       "                'Performance may be slow.';\n",
       "        }\n",
       "    }\n",
       "\n",
       "    this.imageObj = new Image();\n",
       "\n",
       "    this.context = undefined;\n",
       "    this.message = undefined;\n",
       "    this.canvas = undefined;\n",
       "    this.rubberband_canvas = undefined;\n",
       "    this.rubberband_context = undefined;\n",
       "    this.format_dropdown = undefined;\n",
       "\n",
       "    this.image_mode = 'full';\n",
       "\n",
       "    this.root = document.createElement('div');\n",
       "    this.root.setAttribute('style', 'display: inline-block');\n",
       "    this._root_extra_style(this.root);\n",
       "\n",
       "    parent_element.appendChild(this.root);\n",
       "\n",
       "    this._init_header(this);\n",
       "    this._init_canvas(this);\n",
       "    this._init_toolbar(this);\n",
       "\n",
       "    var fig = this;\n",
       "\n",
       "    this.waiting = false;\n",
       "\n",
       "    this.ws.onopen = function () {\n",
       "        fig.send_message('supports_binary', { value: fig.supports_binary });\n",
       "        fig.send_message('send_image_mode', {});\n",
       "        if (fig.ratio !== 1) {\n",
       "            fig.send_message('set_device_pixel_ratio', {\n",
       "                device_pixel_ratio: fig.ratio,\n",
       "            });\n",
       "        }\n",
       "        fig.send_message('refresh', {});\n",
       "    };\n",
       "\n",
       "    this.imageObj.onload = function () {\n",
       "        if (fig.image_mode === 'full') {\n",
       "            // Full images could contain transparency (where diff images\n",
       "            // almost always do), so we need to clear the canvas so that\n",
       "            // there is no ghosting.\n",
       "            fig.context.clearRect(0, 0, fig.canvas.width, fig.canvas.height);\n",
       "        }\n",
       "        fig.context.drawImage(fig.imageObj, 0, 0);\n",
       "    };\n",
       "\n",
       "    this.imageObj.onunload = function () {\n",
       "        fig.ws.close();\n",
       "    };\n",
       "\n",
       "    this.ws.onmessage = this._make_on_message_function(this);\n",
       "\n",
       "    this.ondownload = ondownload;\n",
       "};\n",
       "\n",
       "mpl.figure.prototype._init_header = function () {\n",
       "    var titlebar = document.createElement('div');\n",
       "    titlebar.classList =\n",
       "        'ui-dialog-titlebar ui-widget-header ui-corner-all ui-helper-clearfix';\n",
       "    var titletext = document.createElement('div');\n",
       "    titletext.classList = 'ui-dialog-title';\n",
       "    titletext.setAttribute(\n",
       "        'style',\n",
       "        'width: 100%; text-align: center; padding: 3px;'\n",
       "    );\n",
       "    titlebar.appendChild(titletext);\n",
       "    this.root.appendChild(titlebar);\n",
       "    this.header = titletext;\n",
       "};\n",
       "\n",
       "mpl.figure.prototype._canvas_extra_style = function (_canvas_div) {};\n",
       "\n",
       "mpl.figure.prototype._root_extra_style = function (_canvas_div) {};\n",
       "\n",
       "mpl.figure.prototype._init_canvas = function () {\n",
       "    var fig = this;\n",
       "\n",
       "    var canvas_div = (this.canvas_div = document.createElement('div'));\n",
       "    canvas_div.setAttribute(\n",
       "        'style',\n",
       "        'border: 1px solid #ddd;' +\n",
       "            'box-sizing: content-box;' +\n",
       "            'clear: both;' +\n",
       "            'min-height: 1px;' +\n",
       "            'min-width: 1px;' +\n",
       "            'outline: 0;' +\n",
       "            'overflow: hidden;' +\n",
       "            'position: relative;' +\n",
       "            'resize: both;'\n",
       "    );\n",
       "\n",
       "    function on_keyboard_event_closure(name) {\n",
       "        return function (event) {\n",
       "            return fig.key_event(event, name);\n",
       "        };\n",
       "    }\n",
       "\n",
       "    canvas_div.addEventListener(\n",
       "        'keydown',\n",
       "        on_keyboard_event_closure('key_press')\n",
       "    );\n",
       "    canvas_div.addEventListener(\n",
       "        'keyup',\n",
       "        on_keyboard_event_closure('key_release')\n",
       "    );\n",
       "\n",
       "    this._canvas_extra_style(canvas_div);\n",
       "    this.root.appendChild(canvas_div);\n",
       "\n",
       "    var canvas = (this.canvas = document.createElement('canvas'));\n",
       "    canvas.classList.add('mpl-canvas');\n",
       "    canvas.setAttribute('style', 'box-sizing: content-box;');\n",
       "\n",
       "    this.context = canvas.getContext('2d');\n",
       "\n",
       "    var backingStore =\n",
       "        this.context.backingStorePixelRatio ||\n",
       "        this.context.webkitBackingStorePixelRatio ||\n",
       "        this.context.mozBackingStorePixelRatio ||\n",
       "        this.context.msBackingStorePixelRatio ||\n",
       "        this.context.oBackingStorePixelRatio ||\n",
       "        this.context.backingStorePixelRatio ||\n",
       "        1;\n",
       "\n",
       "    this.ratio = (window.devicePixelRatio || 1) / backingStore;\n",
       "\n",
       "    var rubberband_canvas = (this.rubberband_canvas = document.createElement(\n",
       "        'canvas'\n",
       "    ));\n",
       "    rubberband_canvas.setAttribute(\n",
       "        'style',\n",
       "        'box-sizing: content-box; position: absolute; left: 0; top: 0; z-index: 1;'\n",
       "    );\n",
       "\n",
       "    // Apply a ponyfill if ResizeObserver is not implemented by browser.\n",
       "    if (this.ResizeObserver === undefined) {\n",
       "        if (window.ResizeObserver !== undefined) {\n",
       "            this.ResizeObserver = window.ResizeObserver;\n",
       "        } else {\n",
       "            var obs = _JSXTOOLS_RESIZE_OBSERVER({});\n",
       "            this.ResizeObserver = obs.ResizeObserver;\n",
       "        }\n",
       "    }\n",
       "\n",
       "    this.resizeObserverInstance = new this.ResizeObserver(function (entries) {\n",
       "        var nentries = entries.length;\n",
       "        for (var i = 0; i < nentries; i++) {\n",
       "            var entry = entries[i];\n",
       "            var width, height;\n",
       "            if (entry.contentBoxSize) {\n",
       "                if (entry.contentBoxSize instanceof Array) {\n",
       "                    // Chrome 84 implements new version of spec.\n",
       "                    width = entry.contentBoxSize[0].inlineSize;\n",
       "                    height = entry.contentBoxSize[0].blockSize;\n",
       "                } else {\n",
       "                    // Firefox implements old version of spec.\n",
       "                    width = entry.contentBoxSize.inlineSize;\n",
       "                    height = entry.contentBoxSize.blockSize;\n",
       "                }\n",
       "            } else {\n",
       "                // Chrome <84 implements even older version of spec.\n",
       "                width = entry.contentRect.width;\n",
       "                height = entry.contentRect.height;\n",
       "            }\n",
       "\n",
       "            // Keep the size of the canvas and rubber band canvas in sync with\n",
       "            // the canvas container.\n",
       "            if (entry.devicePixelContentBoxSize) {\n",
       "                // Chrome 84 implements new version of spec.\n",
       "                canvas.setAttribute(\n",
       "                    'width',\n",
       "                    entry.devicePixelContentBoxSize[0].inlineSize\n",
       "                );\n",
       "                canvas.setAttribute(\n",
       "                    'height',\n",
       "                    entry.devicePixelContentBoxSize[0].blockSize\n",
       "                );\n",
       "            } else {\n",
       "                canvas.setAttribute('width', width * fig.ratio);\n",
       "                canvas.setAttribute('height', height * fig.ratio);\n",
       "            }\n",
       "            canvas.setAttribute(\n",
       "                'style',\n",
       "                'width: ' + width + 'px; height: ' + height + 'px;'\n",
       "            );\n",
       "\n",
       "            rubberband_canvas.setAttribute('width', width);\n",
       "            rubberband_canvas.setAttribute('height', height);\n",
       "\n",
       "            // And update the size in Python. We ignore the initial 0/0 size\n",
       "            // that occurs as the element is placed into the DOM, which should\n",
       "            // otherwise not happen due to the minimum size styling.\n",
       "            if (fig.ws.readyState == 1 && width != 0 && height != 0) {\n",
       "                fig.request_resize(width, height);\n",
       "            }\n",
       "        }\n",
       "    });\n",
       "    this.resizeObserverInstance.observe(canvas_div);\n",
       "\n",
       "    function on_mouse_event_closure(name) {\n",
       "        return function (event) {\n",
       "            return fig.mouse_event(event, name);\n",
       "        };\n",
       "    }\n",
       "\n",
       "    rubberband_canvas.addEventListener(\n",
       "        'mousedown',\n",
       "        on_mouse_event_closure('button_press')\n",
       "    );\n",
       "    rubberband_canvas.addEventListener(\n",
       "        'mouseup',\n",
       "        on_mouse_event_closure('button_release')\n",
       "    );\n",
       "    rubberband_canvas.addEventListener(\n",
       "        'dblclick',\n",
       "        on_mouse_event_closure('dblclick')\n",
       "    );\n",
       "    // Throttle sequential mouse events to 1 every 20ms.\n",
       "    rubberband_canvas.addEventListener(\n",
       "        'mousemove',\n",
       "        on_mouse_event_closure('motion_notify')\n",
       "    );\n",
       "\n",
       "    rubberband_canvas.addEventListener(\n",
       "        'mouseenter',\n",
       "        on_mouse_event_closure('figure_enter')\n",
       "    );\n",
       "    rubberband_canvas.addEventListener(\n",
       "        'mouseleave',\n",
       "        on_mouse_event_closure('figure_leave')\n",
       "    );\n",
       "\n",
       "    canvas_div.addEventListener('wheel', function (event) {\n",
       "        if (event.deltaY < 0) {\n",
       "            event.step = 1;\n",
       "        } else {\n",
       "            event.step = -1;\n",
       "        }\n",
       "        on_mouse_event_closure('scroll')(event);\n",
       "    });\n",
       "\n",
       "    canvas_div.appendChild(canvas);\n",
       "    canvas_div.appendChild(rubberband_canvas);\n",
       "\n",
       "    this.rubberband_context = rubberband_canvas.getContext('2d');\n",
       "    this.rubberband_context.strokeStyle = '#000000';\n",
       "\n",
       "    this._resize_canvas = function (width, height, forward) {\n",
       "        if (forward) {\n",
       "            canvas_div.style.width = width + 'px';\n",
       "            canvas_div.style.height = height + 'px';\n",
       "        }\n",
       "    };\n",
       "\n",
       "    // Disable right mouse context menu.\n",
       "    this.rubberband_canvas.addEventListener('contextmenu', function (_e) {\n",
       "        event.preventDefault();\n",
       "        return false;\n",
       "    });\n",
       "\n",
       "    function set_focus() {\n",
       "        canvas.focus();\n",
       "        canvas_div.focus();\n",
       "    }\n",
       "\n",
       "    window.setTimeout(set_focus, 100);\n",
       "};\n",
       "\n",
       "mpl.figure.prototype._init_toolbar = function () {\n",
       "    var fig = this;\n",
       "\n",
       "    var toolbar = document.createElement('div');\n",
       "    toolbar.classList = 'mpl-toolbar';\n",
       "    this.root.appendChild(toolbar);\n",
       "\n",
       "    function on_click_closure(name) {\n",
       "        return function (_event) {\n",
       "            return fig.toolbar_button_onclick(name);\n",
       "        };\n",
       "    }\n",
       "\n",
       "    function on_mouseover_closure(tooltip) {\n",
       "        return function (event) {\n",
       "            if (!event.currentTarget.disabled) {\n",
       "                return fig.toolbar_button_onmouseover(tooltip);\n",
       "            }\n",
       "        };\n",
       "    }\n",
       "\n",
       "    fig.buttons = {};\n",
       "    var buttonGroup = document.createElement('div');\n",
       "    buttonGroup.classList = 'mpl-button-group';\n",
       "    for (var toolbar_ind in mpl.toolbar_items) {\n",
       "        var name = mpl.toolbar_items[toolbar_ind][0];\n",
       "        var tooltip = mpl.toolbar_items[toolbar_ind][1];\n",
       "        var image = mpl.toolbar_items[toolbar_ind][2];\n",
       "        var method_name = mpl.toolbar_items[toolbar_ind][3];\n",
       "\n",
       "        if (!name) {\n",
       "            /* Instead of a spacer, we start a new button group. */\n",
       "            if (buttonGroup.hasChildNodes()) {\n",
       "                toolbar.appendChild(buttonGroup);\n",
       "            }\n",
       "            buttonGroup = document.createElement('div');\n",
       "            buttonGroup.classList = 'mpl-button-group';\n",
       "            continue;\n",
       "        }\n",
       "\n",
       "        var button = (fig.buttons[name] = document.createElement('button'));\n",
       "        button.classList = 'mpl-widget';\n",
       "        button.setAttribute('role', 'button');\n",
       "        button.setAttribute('aria-disabled', 'false');\n",
       "        button.addEventListener('click', on_click_closure(method_name));\n",
       "        button.addEventListener('mouseover', on_mouseover_closure(tooltip));\n",
       "\n",
       "        var icon_img = document.createElement('img');\n",
       "        icon_img.src = '_images/' + image + '.png';\n",
       "        icon_img.srcset = '_images/' + image + '_large.png 2x';\n",
       "        icon_img.alt = tooltip;\n",
       "        button.appendChild(icon_img);\n",
       "\n",
       "        buttonGroup.appendChild(button);\n",
       "    }\n",
       "\n",
       "    if (buttonGroup.hasChildNodes()) {\n",
       "        toolbar.appendChild(buttonGroup);\n",
       "    }\n",
       "\n",
       "    var fmt_picker = document.createElement('select');\n",
       "    fmt_picker.classList = 'mpl-widget';\n",
       "    toolbar.appendChild(fmt_picker);\n",
       "    this.format_dropdown = fmt_picker;\n",
       "\n",
       "    for (var ind in mpl.extensions) {\n",
       "        var fmt = mpl.extensions[ind];\n",
       "        var option = document.createElement('option');\n",
       "        option.selected = fmt === mpl.default_extension;\n",
       "        option.innerHTML = fmt;\n",
       "        fmt_picker.appendChild(option);\n",
       "    }\n",
       "\n",
       "    var status_bar = document.createElement('span');\n",
       "    status_bar.classList = 'mpl-message';\n",
       "    toolbar.appendChild(status_bar);\n",
       "    this.message = status_bar;\n",
       "};\n",
       "\n",
       "mpl.figure.prototype.request_resize = function (x_pixels, y_pixels) {\n",
       "    // Request matplotlib to resize the figure. Matplotlib will then trigger a resize in the client,\n",
       "    // which will in turn request a refresh of the image.\n",
       "    this.send_message('resize', { width: x_pixels, height: y_pixels });\n",
       "};\n",
       "\n",
       "mpl.figure.prototype.send_message = function (type, properties) {\n",
       "    properties['type'] = type;\n",
       "    properties['figure_id'] = this.id;\n",
       "    this.ws.send(JSON.stringify(properties));\n",
       "};\n",
       "\n",
       "mpl.figure.prototype.send_draw_message = function () {\n",
       "    if (!this.waiting) {\n",
       "        this.waiting = true;\n",
       "        this.ws.send(JSON.stringify({ type: 'draw', figure_id: this.id }));\n",
       "    }\n",
       "};\n",
       "\n",
       "mpl.figure.prototype.handle_save = function (fig, _msg) {\n",
       "    var format_dropdown = fig.format_dropdown;\n",
       "    var format = format_dropdown.options[format_dropdown.selectedIndex].value;\n",
       "    fig.ondownload(fig, format);\n",
       "};\n",
       "\n",
       "mpl.figure.prototype.handle_resize = function (fig, msg) {\n",
       "    var size = msg['size'];\n",
       "    if (size[0] !== fig.canvas.width || size[1] !== fig.canvas.height) {\n",
       "        fig._resize_canvas(size[0], size[1], msg['forward']);\n",
       "        fig.send_message('refresh', {});\n",
       "    }\n",
       "};\n",
       "\n",
       "mpl.figure.prototype.handle_rubberband = function (fig, msg) {\n",
       "    var x0 = msg['x0'] / fig.ratio;\n",
       "    var y0 = (fig.canvas.height - msg['y0']) / fig.ratio;\n",
       "    var x1 = msg['x1'] / fig.ratio;\n",
       "    var y1 = (fig.canvas.height - msg['y1']) / fig.ratio;\n",
       "    x0 = Math.floor(x0) + 0.5;\n",
       "    y0 = Math.floor(y0) + 0.5;\n",
       "    x1 = Math.floor(x1) + 0.5;\n",
       "    y1 = Math.floor(y1) + 0.5;\n",
       "    var min_x = Math.min(x0, x1);\n",
       "    var min_y = Math.min(y0, y1);\n",
       "    var width = Math.abs(x1 - x0);\n",
       "    var height = Math.abs(y1 - y0);\n",
       "\n",
       "    fig.rubberband_context.clearRect(\n",
       "        0,\n",
       "        0,\n",
       "        fig.canvas.width / fig.ratio,\n",
       "        fig.canvas.height / fig.ratio\n",
       "    );\n",
       "\n",
       "    fig.rubberband_context.strokeRect(min_x, min_y, width, height);\n",
       "};\n",
       "\n",
       "mpl.figure.prototype.handle_figure_label = function (fig, msg) {\n",
       "    // Updates the figure title.\n",
       "    fig.header.textContent = msg['label'];\n",
       "};\n",
       "\n",
       "mpl.figure.prototype.handle_cursor = function (fig, msg) {\n",
       "    fig.rubberband_canvas.style.cursor = msg['cursor'];\n",
       "};\n",
       "\n",
       "mpl.figure.prototype.handle_message = function (fig, msg) {\n",
       "    fig.message.textContent = msg['message'];\n",
       "};\n",
       "\n",
       "mpl.figure.prototype.handle_draw = function (fig, _msg) {\n",
       "    // Request the server to send over a new figure.\n",
       "    fig.send_draw_message();\n",
       "};\n",
       "\n",
       "mpl.figure.prototype.handle_image_mode = function (fig, msg) {\n",
       "    fig.image_mode = msg['mode'];\n",
       "};\n",
       "\n",
       "mpl.figure.prototype.handle_history_buttons = function (fig, msg) {\n",
       "    for (var key in msg) {\n",
       "        if (!(key in fig.buttons)) {\n",
       "            continue;\n",
       "        }\n",
       "        fig.buttons[key].disabled = !msg[key];\n",
       "        fig.buttons[key].setAttribute('aria-disabled', !msg[key]);\n",
       "    }\n",
       "};\n",
       "\n",
       "mpl.figure.prototype.handle_navigate_mode = function (fig, msg) {\n",
       "    if (msg['mode'] === 'PAN') {\n",
       "        fig.buttons['Pan'].classList.add('active');\n",
       "        fig.buttons['Zoom'].classList.remove('active');\n",
       "    } else if (msg['mode'] === 'ZOOM') {\n",
       "        fig.buttons['Pan'].classList.remove('active');\n",
       "        fig.buttons['Zoom'].classList.add('active');\n",
       "    } else {\n",
       "        fig.buttons['Pan'].classList.remove('active');\n",
       "        fig.buttons['Zoom'].classList.remove('active');\n",
       "    }\n",
       "};\n",
       "\n",
       "mpl.figure.prototype.updated_canvas_event = function () {\n",
       "    // Called whenever the canvas gets updated.\n",
       "    this.send_message('ack', {});\n",
       "};\n",
       "\n",
       "// A function to construct a web socket function for onmessage handling.\n",
       "// Called in the figure constructor.\n",
       "mpl.figure.prototype._make_on_message_function = function (fig) {\n",
       "    return function socket_on_message(evt) {\n",
       "        if (evt.data instanceof Blob) {\n",
       "            var img = evt.data;\n",
       "            if (img.type !== 'image/png') {\n",
       "                /* FIXME: We get \"Resource interpreted as Image but\n",
       "                 * transferred with MIME type text/plain:\" errors on\n",
       "                 * Chrome.  But how to set the MIME type?  It doesn't seem\n",
       "                 * to be part of the websocket stream */\n",
       "                img.type = 'image/png';\n",
       "            }\n",
       "\n",
       "            /* Free the memory for the previous frames */\n",
       "            if (fig.imageObj.src) {\n",
       "                (window.URL || window.webkitURL).revokeObjectURL(\n",
       "                    fig.imageObj.src\n",
       "                );\n",
       "            }\n",
       "\n",
       "            fig.imageObj.src = (window.URL || window.webkitURL).createObjectURL(\n",
       "                img\n",
       "            );\n",
       "            fig.updated_canvas_event();\n",
       "            fig.waiting = false;\n",
       "            return;\n",
       "        } else if (\n",
       "            typeof evt.data === 'string' &&\n",
       "            evt.data.slice(0, 21) === 'data:image/png;base64'\n",
       "        ) {\n",
       "            fig.imageObj.src = evt.data;\n",
       "            fig.updated_canvas_event();\n",
       "            fig.waiting = false;\n",
       "            return;\n",
       "        }\n",
       "\n",
       "        var msg = JSON.parse(evt.data);\n",
       "        var msg_type = msg['type'];\n",
       "\n",
       "        // Call the  \"handle_{type}\" callback, which takes\n",
       "        // the figure and JSON message as its only arguments.\n",
       "        try {\n",
       "            var callback = fig['handle_' + msg_type];\n",
       "        } catch (e) {\n",
       "            console.log(\n",
       "                \"No handler for the '\" + msg_type + \"' message type: \",\n",
       "                msg\n",
       "            );\n",
       "            return;\n",
       "        }\n",
       "\n",
       "        if (callback) {\n",
       "            try {\n",
       "                // console.log(\"Handling '\" + msg_type + \"' message: \", msg);\n",
       "                callback(fig, msg);\n",
       "            } catch (e) {\n",
       "                console.log(\n",
       "                    \"Exception inside the 'handler_\" + msg_type + \"' callback:\",\n",
       "                    e,\n",
       "                    e.stack,\n",
       "                    msg\n",
       "                );\n",
       "            }\n",
       "        }\n",
       "    };\n",
       "};\n",
       "\n",
       "// from https://stackoverflow.com/questions/1114465/getting-mouse-location-in-canvas\n",
       "mpl.findpos = function (e) {\n",
       "    //this section is from http://www.quirksmode.org/js/events_properties.html\n",
       "    var targ;\n",
       "    if (!e) {\n",
       "        e = window.event;\n",
       "    }\n",
       "    if (e.target) {\n",
       "        targ = e.target;\n",
       "    } else if (e.srcElement) {\n",
       "        targ = e.srcElement;\n",
       "    }\n",
       "    if (targ.nodeType === 3) {\n",
       "        // defeat Safari bug\n",
       "        targ = targ.parentNode;\n",
       "    }\n",
       "\n",
       "    // pageX,Y are the mouse positions relative to the document\n",
       "    var boundingRect = targ.getBoundingClientRect();\n",
       "    var x = e.pageX - (boundingRect.left + document.body.scrollLeft);\n",
       "    var y = e.pageY - (boundingRect.top + document.body.scrollTop);\n",
       "\n",
       "    return { x: x, y: y };\n",
       "};\n",
       "\n",
       "/*\n",
       " * return a copy of an object with only non-object keys\n",
       " * we need this to avoid circular references\n",
       " * https://stackoverflow.com/a/24161582/3208463\n",
       " */\n",
       "function simpleKeys(original) {\n",
       "    return Object.keys(original).reduce(function (obj, key) {\n",
       "        if (typeof original[key] !== 'object') {\n",
       "            obj[key] = original[key];\n",
       "        }\n",
       "        return obj;\n",
       "    }, {});\n",
       "}\n",
       "\n",
       "mpl.figure.prototype.mouse_event = function (event, name) {\n",
       "    var canvas_pos = mpl.findpos(event);\n",
       "\n",
       "    if (name === 'button_press') {\n",
       "        this.canvas.focus();\n",
       "        this.canvas_div.focus();\n",
       "    }\n",
       "\n",
       "    var x = canvas_pos.x * this.ratio;\n",
       "    var y = canvas_pos.y * this.ratio;\n",
       "\n",
       "    this.send_message(name, {\n",
       "        x: x,\n",
       "        y: y,\n",
       "        button: event.button,\n",
       "        step: event.step,\n",
       "        guiEvent: simpleKeys(event),\n",
       "    });\n",
       "\n",
       "    /* This prevents the web browser from automatically changing to\n",
       "     * the text insertion cursor when the button is pressed.  We want\n",
       "     * to control all of the cursor setting manually through the\n",
       "     * 'cursor' event from matplotlib */\n",
       "    event.preventDefault();\n",
       "    return false;\n",
       "};\n",
       "\n",
       "mpl.figure.prototype._key_event_extra = function (_event, _name) {\n",
       "    // Handle any extra behaviour associated with a key event\n",
       "};\n",
       "\n",
       "mpl.figure.prototype.key_event = function (event, name) {\n",
       "    // Prevent repeat events\n",
       "    if (name === 'key_press') {\n",
       "        if (event.key === this._key) {\n",
       "            return;\n",
       "        } else {\n",
       "            this._key = event.key;\n",
       "        }\n",
       "    }\n",
       "    if (name === 'key_release') {\n",
       "        this._key = null;\n",
       "    }\n",
       "\n",
       "    var value = '';\n",
       "    if (event.ctrlKey && event.key !== 'Control') {\n",
       "        value += 'ctrl+';\n",
       "    }\n",
       "    else if (event.altKey && event.key !== 'Alt') {\n",
       "        value += 'alt+';\n",
       "    }\n",
       "    else if (event.shiftKey && event.key !== 'Shift') {\n",
       "        value += 'shift+';\n",
       "    }\n",
       "\n",
       "    value += 'k' + event.key;\n",
       "\n",
       "    this._key_event_extra(event, name);\n",
       "\n",
       "    this.send_message(name, { key: value, guiEvent: simpleKeys(event) });\n",
       "    return false;\n",
       "};\n",
       "\n",
       "mpl.figure.prototype.toolbar_button_onclick = function (name) {\n",
       "    if (name === 'download') {\n",
       "        this.handle_save(this, null);\n",
       "    } else {\n",
       "        this.send_message('toolbar_button', { name: name });\n",
       "    }\n",
       "};\n",
       "\n",
       "mpl.figure.prototype.toolbar_button_onmouseover = function (tooltip) {\n",
       "    this.message.textContent = tooltip;\n",
       "};\n",
       "\n",
       "///////////////// REMAINING CONTENT GENERATED BY embed_js.py /////////////////\n",
       "// prettier-ignore\n",
       "var _JSXTOOLS_RESIZE_OBSERVER=function(A){var t,i=new WeakMap,n=new WeakMap,a=new WeakMap,r=new WeakMap,o=new Set;function s(e){if(!(this instanceof s))throw new TypeError(\"Constructor requires 'new' operator\");i.set(this,e)}function h(){throw new TypeError(\"Function is not a constructor\")}function c(e,t,i,n){e=0 in arguments?Number(arguments[0]):0,t=1 in arguments?Number(arguments[1]):0,i=2 in arguments?Number(arguments[2]):0,n=3 in arguments?Number(arguments[3]):0,this.right=(this.x=this.left=e)+(this.width=i),this.bottom=(this.y=this.top=t)+(this.height=n),Object.freeze(this)}function d(){t=requestAnimationFrame(d);var s=new WeakMap,p=new Set;o.forEach((function(t){r.get(t).forEach((function(i){var r=t instanceof window.SVGElement,o=a.get(t),d=r?0:parseFloat(o.paddingTop),f=r?0:parseFloat(o.paddingRight),l=r?0:parseFloat(o.paddingBottom),u=r?0:parseFloat(o.paddingLeft),g=r?0:parseFloat(o.borderTopWidth),m=r?0:parseFloat(o.borderRightWidth),w=r?0:parseFloat(o.borderBottomWidth),b=u+f,F=d+l,v=(r?0:parseFloat(o.borderLeftWidth))+m,W=g+w,y=r?0:t.offsetHeight-W-t.clientHeight,E=r?0:t.offsetWidth-v-t.clientWidth,R=b+v,z=F+W,M=r?t.width:parseFloat(o.width)-R-E,O=r?t.height:parseFloat(o.height)-z-y;if(n.has(t)){var k=n.get(t);if(k[0]===M&&k[1]===O)return}n.set(t,[M,O]);var S=Object.create(h.prototype);S.target=t,S.contentRect=new c(u,d,M,O),s.has(i)||(s.set(i,[]),p.add(i)),s.get(i).push(S)}))})),p.forEach((function(e){i.get(e).call(e,s.get(e),e)}))}return s.prototype.observe=function(i){if(i instanceof window.Element){r.has(i)||(r.set(i,new Set),o.add(i),a.set(i,window.getComputedStyle(i)));var n=r.get(i);n.has(this)||n.add(this),cancelAnimationFrame(t),t=requestAnimationFrame(d)}},s.prototype.unobserve=function(i){if(i instanceof window.Element&&r.has(i)){var n=r.get(i);n.has(this)&&(n.delete(this),n.size||(r.delete(i),o.delete(i))),n.size||r.delete(i),o.size||cancelAnimationFrame(t)}},A.DOMRectReadOnly=c,A.ResizeObserver=s,A.ResizeObserverEntry=h,A}; // eslint-disable-line\n",
       "mpl.toolbar_items = [[\"Home\", \"Reset original view\", \"fa fa-home icon-home\", \"home\"], [\"Back\", \"Back to previous view\", \"fa fa-arrow-left icon-arrow-left\", \"back\"], [\"Forward\", \"Forward to next view\", \"fa fa-arrow-right icon-arrow-right\", \"forward\"], [\"\", \"\", \"\", \"\"], [\"Pan\", \"Left button pans, Right button zooms\\nx/y fixes axis, CTRL fixes aspect\", \"fa fa-arrows icon-move\", \"pan\"], [\"Zoom\", \"Zoom to rectangle\\nx/y fixes axis\", \"fa fa-square-o icon-check-empty\", \"zoom\"], [\"\", \"\", \"\", \"\"], [\"Download\", \"Download plot\", \"fa fa-floppy-o icon-save\", \"download\"]];\n",
       "\n",
       "mpl.extensions = [\"eps\", \"jpeg\", \"pgf\", \"pdf\", \"png\", \"ps\", \"raw\", \"svg\", \"tif\"];\n",
       "\n",
       "mpl.default_extension = \"png\";/* global mpl */\n",
       "\n",
       "var comm_websocket_adapter = function (comm) {\n",
       "    // Create a \"websocket\"-like object which calls the given IPython comm\n",
       "    // object with the appropriate methods. Currently this is a non binary\n",
       "    // socket, so there is still some room for performance tuning.\n",
       "    var ws = {};\n",
       "\n",
       "    ws.binaryType = comm.kernel.ws.binaryType;\n",
       "    ws.readyState = comm.kernel.ws.readyState;\n",
       "    function updateReadyState(_event) {\n",
       "        if (comm.kernel.ws) {\n",
       "            ws.readyState = comm.kernel.ws.readyState;\n",
       "        } else {\n",
       "            ws.readyState = 3; // Closed state.\n",
       "        }\n",
       "    }\n",
       "    comm.kernel.ws.addEventListener('open', updateReadyState);\n",
       "    comm.kernel.ws.addEventListener('close', updateReadyState);\n",
       "    comm.kernel.ws.addEventListener('error', updateReadyState);\n",
       "\n",
       "    ws.close = function () {\n",
       "        comm.close();\n",
       "    };\n",
       "    ws.send = function (m) {\n",
       "        //console.log('sending', m);\n",
       "        comm.send(m);\n",
       "    };\n",
       "    // Register the callback with on_msg.\n",
       "    comm.on_msg(function (msg) {\n",
       "        //console.log('receiving', msg['content']['data'], msg);\n",
       "        var data = msg['content']['data'];\n",
       "        if (data['blob'] !== undefined) {\n",
       "            data = {\n",
       "                data: new Blob(msg['buffers'], { type: data['blob'] }),\n",
       "            };\n",
       "        }\n",
       "        // Pass the mpl event to the overridden (by mpl) onmessage function.\n",
       "        ws.onmessage(data);\n",
       "    });\n",
       "    return ws;\n",
       "};\n",
       "\n",
       "mpl.mpl_figure_comm = function (comm, msg) {\n",
       "    // This is the function which gets called when the mpl process\n",
       "    // starts-up an IPython Comm through the \"matplotlib\" channel.\n",
       "\n",
       "    var id = msg.content.data.id;\n",
       "    // Get hold of the div created by the display call when the Comm\n",
       "    // socket was opened in Python.\n",
       "    var element = document.getElementById(id);\n",
       "    var ws_proxy = comm_websocket_adapter(comm);\n",
       "\n",
       "    function ondownload(figure, _format) {\n",
       "        window.open(figure.canvas.toDataURL());\n",
       "    }\n",
       "\n",
       "    var fig = new mpl.figure(id, ws_proxy, ondownload, element);\n",
       "\n",
       "    // Call onopen now - mpl needs it, as it is assuming we've passed it a real\n",
       "    // web socket which is closed, not our websocket->open comm proxy.\n",
       "    ws_proxy.onopen();\n",
       "\n",
       "    fig.parent_element = element;\n",
       "    fig.cell_info = mpl.find_output_cell(\"<div id='\" + id + \"'></div>\");\n",
       "    if (!fig.cell_info) {\n",
       "        console.error('Failed to find cell for figure', id, fig);\n",
       "        return;\n",
       "    }\n",
       "    fig.cell_info[0].output_area.element.on(\n",
       "        'cleared',\n",
       "        { fig: fig },\n",
       "        fig._remove_fig_handler\n",
       "    );\n",
       "};\n",
       "\n",
       "mpl.figure.prototype.handle_close = function (fig, msg) {\n",
       "    var width = fig.canvas.width / fig.ratio;\n",
       "    fig.cell_info[0].output_area.element.off(\n",
       "        'cleared',\n",
       "        fig._remove_fig_handler\n",
       "    );\n",
       "    fig.resizeObserverInstance.unobserve(fig.canvas_div);\n",
       "\n",
       "    // Update the output cell to use the data from the current canvas.\n",
       "    fig.push_to_output();\n",
       "    var dataURL = fig.canvas.toDataURL();\n",
       "    // Re-enable the keyboard manager in IPython - without this line, in FF,\n",
       "    // the notebook keyboard shortcuts fail.\n",
       "    IPython.keyboard_manager.enable();\n",
       "    fig.parent_element.innerHTML =\n",
       "        '<img src=\"' + dataURL + '\" width=\"' + width + '\">';\n",
       "    fig.close_ws(fig, msg);\n",
       "};\n",
       "\n",
       "mpl.figure.prototype.close_ws = function (fig, msg) {\n",
       "    fig.send_message('closing', msg);\n",
       "    // fig.ws.close()\n",
       "};\n",
       "\n",
       "mpl.figure.prototype.push_to_output = function (_remove_interactive) {\n",
       "    // Turn the data on the canvas into data in the output cell.\n",
       "    var width = this.canvas.width / this.ratio;\n",
       "    var dataURL = this.canvas.toDataURL();\n",
       "    this.cell_info[1]['text/html'] =\n",
       "        '<img src=\"' + dataURL + '\" width=\"' + width + '\">';\n",
       "};\n",
       "\n",
       "mpl.figure.prototype.updated_canvas_event = function () {\n",
       "    // Tell IPython that the notebook contents must change.\n",
       "    IPython.notebook.set_dirty(true);\n",
       "    this.send_message('ack', {});\n",
       "    var fig = this;\n",
       "    // Wait a second, then push the new image to the DOM so\n",
       "    // that it is saved nicely (might be nice to debounce this).\n",
       "    setTimeout(function () {\n",
       "        fig.push_to_output();\n",
       "    }, 1000);\n",
       "};\n",
       "\n",
       "mpl.figure.prototype._init_toolbar = function () {\n",
       "    var fig = this;\n",
       "\n",
       "    var toolbar = document.createElement('div');\n",
       "    toolbar.classList = 'btn-toolbar';\n",
       "    this.root.appendChild(toolbar);\n",
       "\n",
       "    function on_click_closure(name) {\n",
       "        return function (_event) {\n",
       "            return fig.toolbar_button_onclick(name);\n",
       "        };\n",
       "    }\n",
       "\n",
       "    function on_mouseover_closure(tooltip) {\n",
       "        return function (event) {\n",
       "            if (!event.currentTarget.disabled) {\n",
       "                return fig.toolbar_button_onmouseover(tooltip);\n",
       "            }\n",
       "        };\n",
       "    }\n",
       "\n",
       "    fig.buttons = {};\n",
       "    var buttonGroup = document.createElement('div');\n",
       "    buttonGroup.classList = 'btn-group';\n",
       "    var button;\n",
       "    for (var toolbar_ind in mpl.toolbar_items) {\n",
       "        var name = mpl.toolbar_items[toolbar_ind][0];\n",
       "        var tooltip = mpl.toolbar_items[toolbar_ind][1];\n",
       "        var image = mpl.toolbar_items[toolbar_ind][2];\n",
       "        var method_name = mpl.toolbar_items[toolbar_ind][3];\n",
       "\n",
       "        if (!name) {\n",
       "            /* Instead of a spacer, we start a new button group. */\n",
       "            if (buttonGroup.hasChildNodes()) {\n",
       "                toolbar.appendChild(buttonGroup);\n",
       "            }\n",
       "            buttonGroup = document.createElement('div');\n",
       "            buttonGroup.classList = 'btn-group';\n",
       "            continue;\n",
       "        }\n",
       "\n",
       "        button = fig.buttons[name] = document.createElement('button');\n",
       "        button.classList = 'btn btn-default';\n",
       "        button.href = '#';\n",
       "        button.title = name;\n",
       "        button.innerHTML = '<i class=\"fa ' + image + ' fa-lg\"></i>';\n",
       "        button.addEventListener('click', on_click_closure(method_name));\n",
       "        button.addEventListener('mouseover', on_mouseover_closure(tooltip));\n",
       "        buttonGroup.appendChild(button);\n",
       "    }\n",
       "\n",
       "    if (buttonGroup.hasChildNodes()) {\n",
       "        toolbar.appendChild(buttonGroup);\n",
       "    }\n",
       "\n",
       "    // Add the status bar.\n",
       "    var status_bar = document.createElement('span');\n",
       "    status_bar.classList = 'mpl-message pull-right';\n",
       "    toolbar.appendChild(status_bar);\n",
       "    this.message = status_bar;\n",
       "\n",
       "    // Add the close button to the window.\n",
       "    var buttongrp = document.createElement('div');\n",
       "    buttongrp.classList = 'btn-group inline pull-right';\n",
       "    button = document.createElement('button');\n",
       "    button.classList = 'btn btn-mini btn-primary';\n",
       "    button.href = '#';\n",
       "    button.title = 'Stop Interaction';\n",
       "    button.innerHTML = '<i class=\"fa fa-power-off icon-remove icon-large\"></i>';\n",
       "    button.addEventListener('click', function (_evt) {\n",
       "        fig.handle_close(fig, {});\n",
       "    });\n",
       "    button.addEventListener(\n",
       "        'mouseover',\n",
       "        on_mouseover_closure('Stop Interaction')\n",
       "    );\n",
       "    buttongrp.appendChild(button);\n",
       "    var titlebar = this.root.querySelector('.ui-dialog-titlebar');\n",
       "    titlebar.insertBefore(buttongrp, titlebar.firstChild);\n",
       "};\n",
       "\n",
       "mpl.figure.prototype._remove_fig_handler = function (event) {\n",
       "    var fig = event.data.fig;\n",
       "    if (event.target !== this) {\n",
       "        // Ignore bubbled events from children.\n",
       "        return;\n",
       "    }\n",
       "    fig.close_ws(fig, {});\n",
       "};\n",
       "\n",
       "mpl.figure.prototype._root_extra_style = function (el) {\n",
       "    el.style.boxSizing = 'content-box'; // override notebook setting of border-box.\n",
       "};\n",
       "\n",
       "mpl.figure.prototype._canvas_extra_style = function (el) {\n",
       "    // this is important to make the div 'focusable\n",
       "    el.setAttribute('tabindex', 0);\n",
       "    // reach out to IPython and tell the keyboard manager to turn it's self\n",
       "    // off when our div gets focus\n",
       "\n",
       "    // location in version 3\n",
       "    if (IPython.notebook.keyboard_manager) {\n",
       "        IPython.notebook.keyboard_manager.register_events(el);\n",
       "    } else {\n",
       "        // location in version 2\n",
       "        IPython.keyboard_manager.register_events(el);\n",
       "    }\n",
       "};\n",
       "\n",
       "mpl.figure.prototype._key_event_extra = function (event, _name) {\n",
       "    // Check for shift+enter\n",
       "    if (event.shiftKey && event.which === 13) {\n",
       "        this.canvas_div.blur();\n",
       "        // select the cell after this one\n",
       "        var index = IPython.notebook.find_cell_index(this.cell_info[0]);\n",
       "        IPython.notebook.select(index + 1);\n",
       "    }\n",
       "};\n",
       "\n",
       "mpl.figure.prototype.handle_save = function (fig, _msg) {\n",
       "    fig.ondownload(fig, null);\n",
       "};\n",
       "\n",
       "mpl.find_output_cell = function (html_output) {\n",
       "    // Return the cell and output element which can be found *uniquely* in the notebook.\n",
       "    // Note - this is a bit hacky, but it is done because the \"notebook_saving.Notebook\"\n",
       "    // IPython event is triggered only after the cells have been serialised, which for\n",
       "    // our purposes (turning an active figure into a static one), is too late.\n",
       "    var cells = IPython.notebook.get_cells();\n",
       "    var ncells = cells.length;\n",
       "    for (var i = 0; i < ncells; i++) {\n",
       "        var cell = cells[i];\n",
       "        if (cell.cell_type === 'code') {\n",
       "            for (var j = 0; j < cell.output_area.outputs.length; j++) {\n",
       "                var data = cell.output_area.outputs[j];\n",
       "                if (data.data) {\n",
       "                    // IPython >= 3 moved mimebundle to data attribute of output\n",
       "                    data = data.data;\n",
       "                }\n",
       "                if (data['text/html'] === html_output) {\n",
       "                    return [cell, data, j];\n",
       "                }\n",
       "            }\n",
       "        }\n",
       "    }\n",
       "};\n",
       "\n",
       "// Register the function which deals with the matplotlib target/channel.\n",
       "// The kernel may be null if the page has been refreshed.\n",
       "if (IPython.notebook.kernel !== null) {\n",
       "    IPython.notebook.kernel.comm_manager.register_target(\n",
       "        'matplotlib',\n",
       "        mpl.mpl_figure_comm\n",
       "    );\n",
       "}\n"
      ],
      "text/plain": [
       "<IPython.core.display.Javascript object>"
      ]
     },
     "metadata": {},
     "output_type": "display_data"
    },
    {
     "data": {
      "text/html": [
       "<img src=\"data:image/png;base64,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\" width=\"640\">"
      ],
      "text/plain": [
       "<IPython.core.display.HTML object>"
      ]
     },
     "metadata": {},
     "output_type": "display_data"
    }
   ],
   "source": [
    "plt.figure(tight_layout=True)\n",
    "\n",
    "z_bins = np.arange(0,0.16,0.002)\n",
    "\n",
    "plt.hist(V2_gals['redshift'], bins=z_bins, color='gainsboro', ec='gainsboro', label='SDSS DR7 main')\n",
    "plt.hist(V2_gals['redshift'][V2_gals['vflag_V2'] == 0], \n",
    "         bins=z_bins, histtype='step', linestyle='dotted', color='k', label='Wall')\n",
    "plt.hist(V2_gals['redshift'][V2_gals['vflag_V2'] == 1], \n",
    "         bins=z_bins, histtype='step', color='r', label='Void')\n",
    "plt.hist(V2_gals['redshift'][V2_gals['vflag_V2'] == 2], \n",
    "         bins=z_bins, histtype='step', color='g', linestyle='dashed', label='Edge')\n",
    "plt.hist(V2_gals['redshift'][V2_gals['vflag_V2'] == 9], \n",
    "         bins=z_bins, color='b', alpha=0.1, label='Out')\n",
    "\n",
    "plt.vlines(0.114, 0, 30000, colors='y')\n",
    "\n",
    "plt.ylim(0,12000)\n",
    "\n",
    "plt.xlabel('redshift')\n",
    "plt.ylabel('number of galaxies')\n",
    "\n",
    "plt.title('V$^2$')\n",
    "\n",
    "plt.legend();"
   ]
  },
  {
   "cell_type": "markdown",
   "metadata": {},
   "source": [
    "For objects that are within the same volume as the volume-limited sample, but are not part of the volume-limited sample, they get the classification of their nearest neighbor that is in the volume-limited catalog."
   ]
  },
  {
   "cell_type": "code",
   "execution_count": 31,
   "metadata": {},
   "outputs": [],
   "source": [
    "missing_bool = (V2_gals['vflag_V2'] == -9) & (V2_gals['redshift'] <= 0.114)\n",
    "\n",
    "missing_gal_coords = SkyCoord(ra=V2_gals['ra'][missing_bool]*u.degree, \n",
    "                              dec=V2_gals['dec'][missing_bool]*u.degree, \n",
    "                              radial_velocity=const.c*V2_gals['redshift'][missing_bool])\n",
    "\n",
    "vollim_coords = SkyCoord(ra=V2_gals['ra'][V2_gals['vflag_V2'] != -9]*u.degree, \n",
    "                         dec=V2_gals['dec'][V2_gals['vflag_V2'] != -9]*u.degree, \n",
    "                         radial_velocity=const.c*V2_gals['redshift'][V2_gals['vflag_V2'] != -9])\n",
    "\n",
    "idx_V2gals,_,_ = missing_gal_coords.match_to_catalog_3d(vollim_coords)\n",
    "\n",
    "V2_gals['vflag_V2'][missing_bool] = V2_gals['vflag_V2'][V2_gals['vflag_V2'] != -9][idx_V2gals]\n",
    "\n",
    "V2_gals['vflag_V2'][V2_gals['vflag_V2'] == -9] = 9"
   ]
  },
  {
   "cell_type": "code",
   "execution_count": 32,
   "metadata": {},
   "outputs": [
    {
     "data": {
      "text/html": [
       "<div><i>Table length=5</i>\n",
       "<table id=\"table140713725721040\" class=\"table-striped table-bordered table-condensed\">\n",
       "<thead><tr><th>gal</th><th>ra</th><th>dec</th><th>redshift</th><th>rabsmag</th><th>depth</th><th>vflag_V2</th></tr></thead>\n",
       "<thead><tr><th>int64</th><th>float64</th><th>float64</th><th>float64</th><th>float64</th><th>float64</th><th>int64</th></tr></thead>\n",
       "<tr><td>0</td><td>146.6285851269414</td><td>-0.7651620976591762</td><td>0.0646563172340393</td><td>-19.97649574279785</td><td>-1.0</td><td>2</td></tr>\n",
       "<tr><td>1</td><td>146.9341288729797</td><td>-0.6704053610430766</td><td>0.12127048522233963</td><td>-21.559162139892578</td><td>-1.0</td><td>9</td></tr>\n",
       "<tr><td>2</td><td>146.9634997327016</td><td>-0.5447758299302171</td><td>0.055980585515499115</td><td>-19.10099220275879</td><td>-1.0</td><td>2</td></tr>\n",
       "<tr><td>3</td><td>146.96352370262414</td><td>-0.7593404235056136</td><td>0.09708637744188309</td><td>-20.089942932128906</td><td>-1.0</td><td>2</td></tr>\n",
       "<tr><td>4</td><td>146.85984630722874</td><td>-0.8089065016506019</td><td>0.12658987939357758</td><td>-21.062517166137695</td><td>-1.0</td><td>9</td></tr>\n",
       "</table></div>"
      ],
      "text/plain": [
       "<Table length=5>\n",
       " gal          ra                 dec               redshift             rabsmag        depth  vflag_V2\n",
       "int64      float64             float64             float64              float64       float64  int64  \n",
       "----- ------------------ ------------------- -------------------- ------------------- ------- --------\n",
       "    0  146.6285851269414 -0.7651620976591762   0.0646563172340393  -19.97649574279785    -1.0        2\n",
       "    1  146.9341288729797 -0.6704053610430766  0.12127048522233963 -21.559162139892578    -1.0        9\n",
       "    2  146.9634997327016 -0.5447758299302171 0.055980585515499115  -19.10099220275879    -1.0        2\n",
       "    3 146.96352370262414 -0.7593404235056136  0.09708637744188309 -20.089942932128906    -1.0        2\n",
       "    4 146.85984630722874 -0.8089065016506019  0.12658987939357758 -21.062517166137695    -1.0        9"
      ]
     },
     "execution_count": 32,
     "metadata": {},
     "output_type": "execute_result"
    }
   ],
   "source": [
    "V2_gals[:5]"
   ]
  },
  {
   "cell_type": "markdown",
   "metadata": {},
   "source": [
    "### Add vflag column to main data sample\n",
    "\n",
    "Objects that are not in the main footprint are assigned a `vflag` value corresponding to out (9)."
   ]
  },
  {
   "cell_type": "code",
   "execution_count": 33,
   "metadata": {},
   "outputs": [],
   "source": [
    "data['vflag_V2'] = 9\n",
    "\n",
    "data['vflag_V2'][idx] = V2_gals['vflag_V2']"
   ]
  },
  {
   "cell_type": "code",
   "execution_count": 34,
   "metadata": {},
   "outputs": [
    {
     "data": {
      "text/html": [
       "&lt;Column name=&apos;vflag_V2&apos; dtype=&apos;int64&apos; length=10&gt;\n",
       "<table>\n",
       "<tr><td>9</td></tr>\n",
       "<tr><td>2</td></tr>\n",
       "<tr><td>9</td></tr>\n",
       "<tr><td>9</td></tr>\n",
       "<tr><td>2</td></tr>\n",
       "<tr><td>2</td></tr>\n",
       "<tr><td>9</td></tr>\n",
       "<tr><td>2</td></tr>\n",
       "<tr><td>2</td></tr>\n",
       "<tr><td>9</td></tr>\n",
       "</table>"
      ],
      "text/plain": [
       "<Column name='vflag_V2' dtype='int64' length=10>\n",
       "9\n",
       "2\n",
       "9\n",
       "9\n",
       "2\n",
       "2\n",
       "9\n",
       "2\n",
       "2\n",
       "9"
      ]
     },
     "execution_count": 34,
     "metadata": {},
     "output_type": "execute_result"
    }
   ],
   "source": [
    "data['vflag_V2'][:10]"
   ]
  },
  {
   "cell_type": "markdown",
   "metadata": {},
   "source": [
    "# VoidFinder classification"
   ]
  },
  {
   "cell_type": "code",
   "execution_count": 35,
   "metadata": {},
   "outputs": [],
   "source": [
    "'''\n",
    "data_voidfinder = Table.read('ALL_vflag_comoving.txt', format='ascii')\n",
    "\n",
    "wall_gal_vf = np.argwhere(np.array(data_voidfinder['vflag']) == 0)\n",
    "void_gal_vf = np.argwhere(np.array(data_voidfinder['vflag']) == 1)\n",
    "\n",
    "out_gal_vf = np.argwhere(np.array(data_voidfinder['vflag']) == 9)\n",
    "edge_gal_vf = np.argwhere(np.array(data_voidfinder['vflag']) == 2)\n",
    "''';"
   ]
  },
  {
   "cell_type": "code",
   "execution_count": 36,
   "metadata": {},
   "outputs": [],
   "source": [
    "VF_holes_filename = '../../../void_catalogs/public/v1.0.0/VoidFinder-nsa_v1_0_1_main_comoving_holes.txt'\n",
    "\n",
    "VF_holes = Table.read(VF_holes_filename, format='ascii.commented_header')"
   ]
  },
  {
   "cell_type": "code",
   "execution_count": 37,
   "metadata": {},
   "outputs": [],
   "source": [
    "mask_filename = '../../../void_catalogs/SDSS/VoidFinder/python_implementation/NSA_main_mask.pickle'\n",
    "\n",
    "mask_infile = open(mask_filename, 'rb')\n",
    "mask, mask_resolution = pickle.load(mask_infile)\n",
    "mask_infile.close()"
   ]
  },
  {
   "cell_type": "markdown",
   "metadata": {},
   "source": [
    "##### Convert galaxy (ra, dec, z) to (x, y, z)"
   ]
  },
  {
   "cell_type": "code",
   "execution_count": 38,
   "metadata": {},
   "outputs": [],
   "source": [
    "DtoR = np.pi/180.\n",
    "\n",
    "s = z_to_comoving_dist(data['Z'].data.astype(np.float32), 0.315, 1)\n",
    "\n",
    "x = s*np.cos(data['DEC']*DtoR)*np.cos(data['RA']*DtoR)\n",
    "y = s*np.cos(data['DEC']*DtoR)*np.sin(data['RA']*DtoR)\n",
    "z = s*np.sin(data['DEC']*DtoR)"
   ]
  },
  {
   "cell_type": "code",
   "execution_count": 39,
   "metadata": {},
   "outputs": [],
   "source": [
    "z_max = np.array([0.114], dtype=np.float32)\n",
    "\n",
    "r_max = z_to_comoving_dist(z_max, 0.315, 1)"
   ]
  },
  {
   "cell_type": "markdown",
   "metadata": {},
   "source": [
    "### Add vflag column to main data array"
   ]
  },
  {
   "cell_type": "code",
   "execution_count": 40,
   "metadata": {},
   "outputs": [],
   "source": [
    "data['vflag_VF'] = 9\n",
    "\n",
    "for i in range(len(data)):\n",
    "    data['vflag_VF'][i] = determine_vflag(x[i], y[i], z[i], VF_holes, mask, mask_resolution, 0, r_max)"
   ]
  },
  {
   "cell_type": "code",
   "execution_count": 41,
   "metadata": {},
   "outputs": [
    {
     "data": {
      "text/html": [
       "<div><i>Table length=5</i>\n",
       "<table id=\"table140713726428208\" class=\"table-striped table-bordered table-condensed\">\n",
       "<thead><tr><th>IAUNAME</th><th>SUBDIR</th><th>RA</th><th>DEC</th><th>ISDSS</th><th>INED</th><th>ISIXDF</th><th>IALFALFA</th><th>IZCAT</th><th>ITWODF</th><th>MAG</th><th>Z</th><th>ZSRC</th><th>SIZE</th><th>RUN</th><th>CAMCOL</th><th>FIELD</th><th>RERUN</th><th>XPOS</th><th>YPOS</th><th>NSAID</th><th>ZDIST</th><th>SERSIC_NMGY [7]</th><th>SERSIC_NMGY_IVAR [7]</th><th>SERSIC_OK</th><th>SERSIC_RNMGY [7]</th><th>SERSIC_ABSMAG [7]</th><th>SERSIC_AMIVAR [7]</th><th>EXTINCTION [7]</th><th>SERSIC_KCORRECT [7]</th><th>SERSIC_KCOEFF [5]</th><th>SERSIC_MTOL [7]</th><th>SERSIC_B300</th><th>SERSIC_B1000</th><th>SERSIC_METS</th><th>SERSIC_MASS</th><th>XCEN</th><th>YCEN</th><th>NPROF [7]</th><th>PROFMEAN [15,7]</th><th>PROFMEAN_IVAR [15,7]</th><th>QSTOKES [15,7]</th><th>USTOKES [15,7]</th><th>BASTOKES [15,7]</th><th>PHISTOKES [15,7]</th><th>PETRO_FLUX [7]</th><th>PETRO_FLUX_IVAR [7]</th><th>FIBER_FLUX [7]</th><th>FIBER_FLUX_IVAR [7]</th><th>PETRO_BA50</th><th>PETRO_PHI50</th><th>PETRO_BA90</th><th>PETRO_PHI90</th><th>SERSIC_FLUX [7]</th><th>SERSIC_FLUX_IVAR [7]</th><th>SERSIC_N</th><th>SERSIC_BA</th><th>SERSIC_PHI</th><th>ASYMMETRY [7]</th><th>CLUMPY [7]</th><th>DFLAGS [7]</th><th>AID</th><th>PID</th><th>DVERSION</th><th>PROFTHETA [15]</th><th>PETRO_THETA</th><th>PETRO_TH50</th><th>PETRO_TH90</th><th>SERSIC_TH50</th><th>PLATE</th><th>FIBERID</th><th>MJD</th><th>RACAT</th><th>DECCAT</th><th>ZSDSSLINE</th><th>SURVEY</th><th>PROGRAMNAME</th><th>PLATEQUALITY</th><th>TILE</th><th>PLUG_RA</th><th>PLUG_DEC</th><th>ELPETRO_BA</th><th>ELPETRO_PHI</th><th>ELPETRO_FLUX_R</th><th>ELPETRO_FLUX_IVAR_R</th><th>ELPETRO_THETA_R</th><th>ELPETRO_TH50_R</th><th>ELPETRO_TH90_R</th><th>ELPETRO_THETA</th><th>ELPETRO_FLUX [7]</th><th>ELPETRO_FLUX_IVAR [7]</th><th>ELPETRO_TH50 [7]</th><th>ELPETRO_TH90 [7]</th><th>ELPETRO_APCORR_R</th><th>ELPETRO_APCORR [7]</th><th>ELPETRO_APCORR_SELF [7]</th><th>ELPETRO_NMGY [7]</th><th>ELPETRO_NMGY_IVAR [7]</th><th>ELPETRO_OK</th><th>ELPETRO_RNMGY [7]</th><th>ELPETRO_ABSMAG [7]</th><th>ELPETRO_AMIVAR [7]</th><th>ELPETRO_KCORRECT [7]</th><th>ELPETRO_KCOEFF [5]</th><th>ELPETRO_MASS</th><th>ELPETRO_MTOL [7]</th><th>ELPETRO_B300</th><th>ELPETRO_B1000</th><th>ELPETRO_METS</th><th>IN_DR7_LSS</th><th>u_r</th><th>g_r</th><th>NUV_r</th><th>index</th><th>imc</th><th>aimc</th><th>cd</th><th>conx1</th><th>u_r_KIAS</th><th>prmag</th><th>BPTclass</th><th>SFR</th><th>sSFR</th><th>HImass</th><th>flag3727</th><th>t3</th><th>Z12logOH</th><th>Zerr</th><th>N12logNH</th><th>NHerr</th><th>logNO</th><th>NOerr</th><th>Ne12logNeH</th><th>NeHerr</th><th>logNeO</th><th>NeOerr</th><th>Z_N2O2</th><th>vorvol</th><th>V2_depth</th><th>vflag_V2</th><th>vflag_VF</th></tr></thead>\n",
       "<thead><tr><th>str19</th><th>str27</th><th>float64</th><th>float64</th><th>int32</th><th>int32</th><th>int32</th><th>int32</th><th>int32</th><th>int32</th><th>float32</th><th>float32</th><th>str7</th><th>float32</th><th>int16</th><th>uint8</th><th>int16</th><th>str3</th><th>float32</th><th>float32</th><th>int32</th><th>float32</th><th>float32</th><th>float32</th><th>int16</th><th>float32</th><th>float32</th><th>float32</th><th>float32</th><th>float32</th><th>float32</th><th>float32</th><th>float32</th><th>float32</th><th>float32</th><th>float32</th><th>float64</th><th>float64</th><th>uint8</th><th>float32</th><th>float32</th><th>float32</th><th>float32</th><th>float32</th><th>float32</th><th>float32</th><th>float32</th><th>float32</th><th>float32</th><th>float32</th><th>float32</th><th>float32</th><th>float32</th><th>float32</th><th>float32</th><th>float32</th><th>float32</th><th>float32</th><th>float32</th><th>float32</th><th>int32</th><th>int32</th><th>int32</th><th>str8</th><th>float32</th><th>float32</th><th>float32</th><th>float32</th><th>float32</th><th>int32</th><th>int16</th><th>int32</th><th>float64</th><th>float64</th><th>float32</th><th>str6</th><th>str27</th><th>str8</th><th>int32</th><th>float64</th><th>float64</th><th>float32</th><th>float32</th><th>float32</th><th>float32</th><th>float32</th><th>float32</th><th>float32</th><th>float32</th><th>float32</th><th>float32</th><th>float32</th><th>float32</th><th>float32</th><th>float32</th><th>float32</th><th>float32</th><th>float32</th><th>int16</th><th>float32</th><th>float32</th><th>float32</th><th>float32</th><th>float32</th><th>float32</th><th>float32</th><th>float32</th><th>float32</th><th>float32</th><th>float64</th><th>float64</th><th>float64</th><th>float64</th><th>int64</th><th>int64</th><th>float64</th><th>float64</th><th>float64</th><th>float64</th><th>float64</th><th>float64</th><th>float64</th><th>float64</th><th>float64</th><th>float64</th><th>float64</th><th>float64</th><th>float64</th><th>float64</th><th>float64</th><th>float64</th><th>float64</th><th>float64</th><th>float64</th><th>float64</th><th>float64</th><th>float64</th><th>float64</th><th>float64</th><th>int64</th><th>int64</th></tr></thead>\n",
       "<tr><td>J094651.40-010228.5</td><td>09h/m00/J094651.40-010228.5</td><td>146.714215072841</td><td>-1.0412800233313741</td><td>0</td><td>72212</td><td>37354</td><td>-1</td><td>-1</td><td>-1</td><td>15.178774</td><td>0.021222278</td><td>sdss</td><td>0.07</td><td>756</td><td>1</td><td>206</td><td>301</td><td>136.2967</td><td>1095.152</td><td>0</td><td>0.020687785</td><td>29.696056 .. 3267.6895</td><td>0.29814342 .. 0.00012172792</td><td>1</td><td>31.368013 .. 3501.2527</td><td>-15.17281 .. -20.302134</td><td>223.03555 .. 1102.6129</td><td>0.4536473 .. 0.080934174</td><td>-0.005893635 .. 0.019576037</td><td>0.00017777947 .. 5.1533486e-11</td><td>0.00020792194 .. 0.98780394</td><td>2.7473723e-05</td><td>0.31195974</td><td>0.035135116</td><td>8898397000.0</td><td>215.39407348632812</td><td>213.4535369873047</td><td>10 .. 12</td><td>0.3149959 .. 0.0</td><td>233.37904 .. 0.0</td><td>0.062215745 .. -0.07950058</td><td>0.0006146176 .. -0.1274703</td><td>0.8828513 .. 0.7387829</td><td>0.2829979 .. -60.97547</td><td>18.203371 .. 2264.6604</td><td>1.9946122 .. 0.015697604</td><td>1.0260131 .. 561.97687</td><td>47.3397 .. 0.33574256</td><td>0.88909996</td><td>14.777527</td><td>0.80408496</td><td>17.367554</td><td>19.554192 .. 3146.785</td><td>1.0691423 .. 0.017162137</td><td>4.7761517</td><td>0.6651653</td><td>15.97821</td><td>-0.0109440535 .. 0.004525926</td><td>0.042470127 .. 0.042621203</td><td>0 .. 0</td><td>0</td><td>36</td><td>v2_1_13</td><td>0.22341923 .. 258.39</td><td>7.2478933</td><td>3.4641922</td><td>10.453795</td><td>5.882104</td><td>266</td><td>1</td><td>51630</td><td>146.71420341874853</td><td>-1.0412749124036818</td><td>0.0</td><td>sdss</td><td>legacy</td><td>good</td><td>122</td><td>146.71421</td><td>-1.0413043</td><td>0.80408496</td><td>17.367554</td><td>1144.0713</td><td>0.4582725</td><td>7.3913364</td><td>3.7061903</td><td>10.666219</td><td>7.3913364</td><td>18.787916 .. 2225.009</td><td>1.8480047 .. 0.017611798</td><td>5.8557696 .. 3.4004514</td><td>11.650886 .. 10.1460905</td><td>0.9986329</td><td>1.0687045 .. 1.001099</td><td>1.0695114 .. 1.0010818</td><td>28.532349 .. 2310.4973</td><td>0.42499655 .. 0.00024172392</td><td>1</td><td>28.661283 .. 2337.7668</td><td>-15.124495 .. -19.915525</td><td>293.50247 .. 1094.6666</td><td>-0.010805 .. 0.009306902</td><td>3.9630737e-05 .. 2.6251464e-06</td><td>6833158000.0</td><td>0.00017553588 .. 1.14686</td><td>0.004447123</td><td>0.09061434</td><td>0.025269886</td><td>0.0</td><td>2.3124398291110992</td><td>0.7627769559621811</td><td>3.9262890815734863</td><td>4000000</td><td>-99</td><td>-99.0</td><td>-99.0</td><td>-99.0</td><td>-99.0</td><td>-99.0</td><td>nan</td><td>nan</td><td>nan</td><td>nan</td><td>nan</td><td>nan</td><td>nan</td><td>nan</td><td>nan</td><td>nan</td><td>nan</td><td>nan</td><td>nan</td><td>nan</td><td>nan</td><td>nan</td><td>nan</td><td>nan</td><td>-1.0</td><td>9</td><td>9</td></tr>\n",
       "<tr><td>J094630.85-004554.5</td><td>09h/m00/J094630.85-004554.5</td><td>146.6285851269414</td><td>-0.7651620976591762</td><td>1</td><td>-1</td><td>-1</td><td>-1</td><td>-1</td><td>-1</td><td>17.318521</td><td>0.06465632</td><td>sdss</td><td>0.06491773</td><td>1239</td><td>2</td><td>175</td><td>301</td><td>735.56384</td><td>1277.3636</td><td>1</td><td>0.06403577</td><td>2.4606192 .. 443.66675</td><td>5.447516 .. 0.006137319</td><td>1</td><td>2.6590455 .. 454.05856</td><td>-14.978118 .. -20.688284</td><td>27.979414 .. 1024.811</td><td>0.60185605 .. 0.10737576</td><td>-0.018567445 .. 0.051569887</td><td>1.7666649e-05 .. 6.712402e-13</td><td>0.00035330586 .. 1.0529422</td><td>1.4492807e-05</td><td>0.21530226</td><td>0.031020422</td><td>12929411000.0</td><td>145.3625946044922</td><td>121.33534240722656</td><td>10 .. 11</td><td>0.044930786 .. 0.0</td><td>1644.0168 .. 0.0</td><td>0.15447958 .. 0.1804297</td><td>0.0016548077 .. 0.05960713</td><td>0.73236895 .. 0.680643</td><td>0.30686864 .. 9.140798</td><td>1.5539132 .. 380.1313</td><td>11.729078 .. 0.018252498</td><td>0.10988019 .. 131.71373</td><td>345.7848 .. 0.57769156</td><td>0.7371746</td><td>87.53705</td><td>0.50988674</td><td>87.96927</td><td>1.4135201 .. 416.9717</td><td>17.281208 .. 0.089459315</td><td>2.222374</td><td>0.27854216</td><td>86.21106</td><td>-0.0066564083 .. 0.0052427053</td><td>0.04789895 .. 0.075857244</td><td>0 .. 0</td><td>0</td><td>29</td><td>v2_1_13</td><td>0.22341923 .. 258.39</td><td>5.6178217</td><td>2.3269887</td><td>6.7219906</td><td>3.291051</td><td>266</td><td>4</td><td>51630</td><td>146.62857001083813</td><td>-0.7651439853236099</td><td>0.0</td><td>sdss</td><td>legacy</td><td>good</td><td>122</td><td>146.62857</td><td>-0.76513683</td><td>0.50988674</td><td>87.96926</td><td>185.97183</td><td>0.62044895</td><td>6.581605</td><td>2.9719684</td><td>8.093729</td><td>6.581605</td><td>1.614101 .. 385.6091</td><td>12.512996 .. 0.025627436</td><td>6.0647826 .. 2.8283458</td><td>9.8568735 .. 8.044135</td><td>1.0033052</td><td>1.101541 .. 0.9988729</td><td>1.1308625 .. 0.99827486</td><td>2.8097854 .. 410.2963</td><td>3.9543293 .. 0.005790308</td><td>1</td><td>2.917754 .. 415.73123</td><td>-15.113855 .. -20.591503</td><td>26.483196 .. 826.89087</td><td>-0.026901115 .. 0.039683696</td><td>1.06661e-05 .. 1.3970519e-12</td><td>12135996000.0</td><td>0.0003045496 .. 1.0913272</td><td>1.6861053e-05</td><td>0.14151204</td><td>0.027635332</td><td>1.0</td><td>2.976039946079254</td><td>0.8633808791637421</td><td>4.488303065299988</td><td>180229</td><td>1</td><td>1.0</td><td>-0.169</td><td>0.356</td><td>2.697</td><td>16.627</td><td>3.0</td><td>-0.6210674047470093</td><td>-11.241625785827637</td><td>nan</td><td>nan</td><td>nan</td><td>nan</td><td>nan</td><td>nan</td><td>nan</td><td>nan</td><td>nan</td><td>nan</td><td>nan</td><td>nan</td><td>nan</td><td>9.48280122055993</td><td>0.0</td><td>-1.0</td><td>2</td><td>2</td></tr>\n",
       "<tr><td>J094631.59-005917.7</td><td>09h/m00/J094631.59-005917.7</td><td>146.63170644325592</td><td>-0.9883467023052999</td><td>2</td><td>72132</td><td>-1</td><td>-1</td><td>-1</td><td>-1</td><td>18.123354</td><td>0.05265425</td><td>sdss</td><td>0.07</td><td>756</td><td>1</td><td>206</td><td>301</td><td>618.0556</td><td>344.6873</td><td>2</td><td>0.052030597</td><td>5.9062114 .. 117.6328</td><td>2.735704 .. 0.048443027</td><td>1</td><td>5.766684 .. 117.70143</td><td>-15.453841 .. -18.720377</td><td>80.95401 .. 568.64264</td><td>0.43238893 .. 0.07714152</td><td>-0.024124824 .. -0.005638472</td><td>2.5192165e-07 .. 4.9804896e-07</td><td>3.070332e-05 .. 0.8028418</td><td>0.024668738</td><td>0.0852406</td><td>0.021334123</td><td>1573399200.0</td><td>79.96614074707031</td><td>90.70097351074219</td><td>9 .. 10</td><td>0.15507016 .. 0.0</td><td>454.9598 .. 0.0</td><td>-0.006260235 .. -0.12462888</td><td>0.00027153647 .. -0.03455963</td><td>0.9875458 .. 0.7709587</td><td>88.75818 .. -82.25064</td><td>3.430186 .. 138.60387</td><td>8.568999 .. 0.018438479</td><td>0.4591055 .. 31.897715</td><td>115.09581 .. 0.68231297</td><td>0.76752096</td><td>161.0622</td><td>0.5954031</td><td>162.72363</td><td>3.9660065 .. 113.676796</td><td>6.9698696 .. 0.10624967</td><td>0.88311815</td><td>0.45403665</td><td>163.90436</td><td>0.04256475 .. 0.012925059</td><td>0.2935813 .. -0.043825477</td><td>0 .. 0</td><td>0</td><td>33</td><td>v2_1_13</td><td>0.22341923 .. 258.39</td><td>4.7698913</td><td>2.278736</td><td>5.1779103</td><td>2.8177862</td><td>266</td><td>6</td><td>51630</td><td>146.63164771049065</td><td>-0.9882588093923149</td><td>0.0</td><td>sdss</td><td>legacy</td><td>good</td><td>122</td><td>146.63167</td><td>-0.98827781</td><td>0.5954031</td><td>162.72362</td><td>73.537186</td><td>0.70116085</td><td>5.5319614</td><td>2.7789824</td><td>6.0893784</td><td>5.5319614</td><td>4.895678 .. 115.44117</td><td>7.500193 .. 0.022838634</td><td>4.4029393 .. 2.9222565</td><td>9.300362 .. 6.7642803</td><td>1.0013566</td><td>1.108137 .. 1.0008979</td><td>1.0882177 .. 1.0029837</td><td>7.290686 .. 119.45858</td><td>2.7185972 .. 0.01730672</td><td>1</td><td>6.974619 .. 122.09129</td><td>-15.660282 .. -18.744165</td><td>122.58378 .. 209.5081</td><td>-0.046333067 .. 0.001428483</td><td>5.522025e-11 .. 1.388793e-07</td><td>1788938800.0</td><td>2.9459869e-05 .. 0.8742925</td><td>0.006104483</td><td>0.057695847</td><td>0.021391599</td><td>0.0</td><td>1.7119742929935455</td><td>0.5155415460467339</td><td>2.713152766227722</td><td>4000001</td><td>-99</td><td>-99.0</td><td>-99.0</td><td>-99.0</td><td>-99.0</td><td>-99.0</td><td>nan</td><td>nan</td><td>nan</td><td>nan</td><td>nan</td><td>nan</td><td>nan</td><td>nan</td><td>nan</td><td>nan</td><td>nan</td><td>nan</td><td>nan</td><td>nan</td><td>nan</td><td>nan</td><td>nan</td><td>nan</td><td>-1.0</td><td>9</td><td>2</td></tr>\n",
       "<tr><td>J094744.18-004013.4</td><td>09h/m00/J094744.18-004013.4</td><td>146.9341288729797</td><td>-0.6704053610430766</td><td>3</td><td>-1</td><td>-1</td><td>-1</td><td>-1</td><td>-1</td><td>17.660961</td><td>0.121270485</td><td>sdss</td><td>0.035120796</td><td>1239</td><td>2</td><td>177</td><td>301</td><td>1596.5807</td><td>1332.545</td><td>3</td><td>0.1206503</td><td>0.59546506 .. 578.8718</td><td>9.035561 .. 0.0035411348</td><td>1</td><td>0.7218249 .. 553.9784</td><td>-14.764457 .. -22.449923</td><td>2.7178097 .. 1006.60394</td><td>0.7170526 .. 0.12792772</td><td>-0.1506549 .. 0.06549595</td><td>1.19462175e-05 .. 1.7515072e-08</td><td>0.002110761 .. 1.223524</td><td>0.00011213933</td><td>0.09278005</td><td>0.025959628</td><td>71169860000.0</td><td>137.42404174804688</td><td>125.49797058105469</td><td>8 .. 11</td><td>0.003647356 .. 0.0</td><td>8113.7544 .. 0.0</td><td>-0.19626419 .. -0.055742305</td><td>-0.030730866 .. 0.05399963</td><td>0.668536 .. 0.85596067</td><td>-85.55046 .. 67.95488</td><td>0.20122944 .. 426.2722</td><td>17.745825 .. 0.012332003</td><td>0.034221034 .. 143.77124</td><td>967.08167 .. 0.45689023</td><td>0.86656487</td><td>143.07059</td><td>0.8717792</td><td>137.78821</td><td>0.30763465 .. 533.8403</td><td>34.00086 .. 0.044268627</td><td>6.0</td><td>0.9274694</td><td>151.60822</td><td>-0.948365 .. -0.035975456</td><td>0.03786385 .. -0.040295005</td><td>0 .. 0</td><td>0</td><td>10</td><td>v2_1_13</td><td>0.22341923 .. 258.39</td><td>6.243227</td><td>2.6551907</td><td>9.177605</td><td>2.3659685</td><td>266</td><td>11</td><td>51630</td><td>146.93412051706812</td><td>-0.6704051378070931</td><td>0.0</td><td>sdss</td><td>legacy</td><td>good</td><td>122</td><td>146.9341</td><td>-0.67040397</td><td>0.8717792</td><td>137.78822</td><td>188.01964</td><td>0.0045111887</td><td>6.0937533</td><td>2.5156991</td><td>8.819097</td><td>6.0937533</td><td>0.17188334 .. 430.66693</td><td>17.761442 .. 0.014656738</td><td>2.0069053 .. 2.448878</td><td>5.1804347 .. 8.978253</td><td>1.000473</td><td>1.0810981 .. 1.0031528</td><td>1.0690908 .. 1.0021293</td><td>0.33270153 .. 466.9954</td><td>4.7372575 .. 0.0040530795</td><td>1</td><td>0.3503071 .. 468.5555</td><td>-14.501482 .. -22.221018</td><td>0.44482368 .. 749.82794</td><td>0.21837461 .. 0.069767624</td><td>1.23576565e-05 .. 9.264894e-12</td><td>57484075000.0</td><td>0.0025006996 .. 1.1638231</td><td>4.5900248e-07</td><td>0.124371074</td><td>0.027231464</td><td>1.0</td><td>3.0934733152389526</td><td>1.1193519085645676</td><td>5.987549424171448</td><td>180235</td><td>1</td><td>1.0</td><td>-0.008</td><td>0.297</td><td>2.798</td><td>16.643</td><td>-1.0</td><td>-0.5</td><td>-11.71275806427002</td><td>nan</td><td>nan</td><td>nan</td><td>nan</td><td>nan</td><td>nan</td><td>nan</td><td>nan</td><td>nan</td><td>nan</td><td>nan</td><td>nan</td><td>nan</td><td>nan</td><td>0.0</td><td>-1.0</td><td>9</td><td>9</td></tr>\n",
       "<tr><td>J094751.74-003242.0</td><td>09h/m00/J094751.74-003242.0</td><td>146.9634997327016</td><td>-0.5447758299302171</td><td>4</td><td>-1</td><td>-1</td><td>-1</td><td>-1</td><td>-1</td><td>17.616278</td><td>0.055980586</td><td>sdss</td><td>0.069483906</td><td>756</td><td>2</td><td>208</td><td>301</td><td>832.6433</td><td>656.1359</td><td>4</td><td>0.05536205</td><td>0.7154174 .. 211.616</td><td>3.600482 .. 0.014102565</td><td>1</td><td>0.37144002 .. 225.01274</td><td>-13.724207 .. -19.51415</td><td>1.5632591 .. 535.7306</td><td>0.94210875 .. 0.16807947</td><td>0.3981669 .. 0.010639639</td><td>1.8537781e-09 .. 6.416469e-19</td><td>0.0008305247 .. 1.0635056</td><td>6.856937e-11</td><td>0.028299168</td><td>0.021570811</td><td>4601116000.0</td><td>106.61283874511719</td><td>109.63866424560547</td><td>10 .. 11</td><td>-0.0007803262 .. 0.0</td><td>4345.746 .. 0.0</td><td>1.0194967 .. -0.04170214</td><td>-0.01024972 .. -0.19242804</td><td>-0.009680829 .. 0.6709904</td><td>-0.28800777 .. -51.113895</td><td>0.641641 .. 180.71252</td><td>8.058507 .. 0.0057766167</td><td>0.006776376 .. 19.828875</td><td>605.97186 .. 0.76043653</td><td>0.7563008</td><td>146.59833</td><td>0.5640161</td><td>139.09671</td><td>0.3004111 .. 188.06877</td><td>20.470825 .. 0.034479737</td><td>0.5</td><td>0.46315262</td><td>135.73392</td><td>-1.2211314 .. 0.09449971</td><td>-0.6252341 .. 0.07285082</td><td>0 .. 0</td><td>0</td><td>30</td><td>v2_1_13</td><td>0.22341923 .. 258.39</td><td>8.891541</td><td>4.383704</td><td>10.253274</td><td>5.9572287</td><td>266</td><td>12</td><td>51630</td><td>146.96560224016943</td><td>-0.5450110833644051</td><td>0.0</td><td>sdss</td><td>legacy</td><td>good</td><td>122</td><td>146.9639</td><td>-0.54500256</td><td>0.5640161</td><td>139.09673</td><td>101.91166</td><td>0.24633221</td><td>10.235785</td><td>5.6257644</td><td>10.441939</td><td>10.235785</td><td>0.578448 .. 197.53346</td><td>9.235534 .. 0.0076996405</td><td>9.599341 .. 5.6851897</td><td>14.973279 .. 11.595498</td><td>0.999509</td><td>1.0575701 .. 1.0006093</td><td>1.0556166 .. 1.0001466</td><td>1.3775514 .. 222.26572</td><td>1.6216505 .. 0.004946779</td><td>1</td><td>0.3789356 .. 240.93816</td><td>-14.453494 .. -19.579548</td><td>2.6105032 .. 207.30931</td><td>0.416085 .. 0.022728156</td><td>3.6889899e-06 .. 1.2268236e-16</td><td>4724134000.0</td><td>0.00082218135 .. 1.0084745</td><td>1.2681366e-10</td><td>0.11364883</td><td>0.025576953</td><td>1.0</td><td>2.044341266155243</td><td>0.7173917442560196</td><td>5.40194034576416</td><td>4000002</td><td>-99</td><td>-99.0</td><td>-99.0</td><td>-99.0</td><td>-99.0</td><td>-99.0</td><td>nan</td><td>nan</td><td>nan</td><td>nan</td><td>nan</td><td>nan</td><td>nan</td><td>nan</td><td>nan</td><td>nan</td><td>nan</td><td>nan</td><td>nan</td><td>nan</td><td>nan</td><td>nan</td><td>nan</td><td>nan</td><td>-1.0</td><td>2</td><td>2</td></tr>\n",
       "</table></div>"
      ],
      "text/plain": [
       "<Table length=5>\n",
       "      IAUNAME                  SUBDIR                   RA                 DEC         ISDSS  INED ISIXDF IALFALFA IZCAT ITWODF ...  NOerr  Ne12logNeH  NeHerr  logNeO  NeOerr      Z_N2O2       vorvol V2_depth vflag_V2 vflag_VF\n",
       "       str19                   str27                 float64             float64       int32 int32 int32   int32   int32 int32  ... float64  float64   float64 float64 float64     float64      float64 float64   int64    int64  \n",
       "------------------- --------------------------- ------------------ ------------------- ----- ----- ------ -------- ----- ------ ... ------- ---------- ------- ------- ------- ---------------- ------- -------- -------- --------\n",
       "J094651.40-010228.5 09h/m00/J094651.40-010228.5   146.714215072841 -1.0412800233313741     0 72212  37354       -1    -1     -1 ...     nan        nan     nan     nan     nan              nan     nan     -1.0        9        9\n",
       "J094630.85-004554.5 09h/m00/J094630.85-004554.5  146.6285851269414 -0.7651620976591762     1    -1     -1       -1    -1     -1 ...     nan        nan     nan     nan     nan 9.48280122055993     0.0     -1.0        2        2\n",
       "J094631.59-005917.7 09h/m00/J094631.59-005917.7 146.63170644325592 -0.9883467023052999     2 72132     -1       -1    -1     -1 ...     nan        nan     nan     nan     nan              nan     nan     -1.0        9        2\n",
       "J094744.18-004013.4 09h/m00/J094744.18-004013.4  146.9341288729797 -0.6704053610430766     3    -1     -1       -1    -1     -1 ...     nan        nan     nan     nan     nan              nan     0.0     -1.0        9        9\n",
       "J094751.74-003242.0 09h/m00/J094751.74-003242.0  146.9634997327016 -0.5447758299302171     4    -1     -1       -1    -1     -1 ...     nan        nan     nan     nan     nan              nan     nan     -1.0        2        2"
      ]
     },
     "execution_count": 41,
     "metadata": {},
     "output_type": "execute_result"
    }
   ],
   "source": [
    "data[:5]"
   ]
  },
  {
   "cell_type": "markdown",
   "metadata": {},
   "source": [
    "### Check"
   ]
  },
  {
   "cell_type": "code",
   "execution_count": 42,
   "metadata": {},
   "outputs": [],
   "source": [
    "#len(out_gal_vf)+len(edge_gal_vf)+len(wall_gal_vf)+len(void_gal_vf) == len(data_voidfinder)"
   ]
  },
  {
   "cell_type": "markdown",
   "metadata": {},
   "source": [
    "### add flag columns and save file"
   ]
  },
  {
   "cell_type": "code",
   "execution_count": 44,
   "metadata": {},
   "outputs": [],
   "source": [
    "'''\n",
    "flag_vsquared=[] # checks all galaxies in each statement as a double check for any overlaps\n",
    "for i in range(len(data)):\n",
    "    if i in wall_gal:\n",
    "        flag_vsquared.append(0)\n",
    "    if i in void_gal:\n",
    "        flag_vsquared.append(1)\n",
    "    if i in edge_gal:\n",
    "        flag_vsquared.append(2)\n",
    "    if i in out_gal:\n",
    "        flag_vsquared.append(9)\n",
    "    \n",
    "# flag_vsquared_vf=[]\n",
    "# for i in range(len(data)):\n",
    "#     if i in wall_gal_vf:\n",
    "#         flag_vsquared_vf.append(0)\n",
    "#     if i in void_gal_vf:\n",
    "#         flag_vsquared_vf.append(1)\n",
    "#     if i in edge_gal_vf:\n",
    "#         flag_vsquared_vf.append(2)\n",
    "#     if i in out_gal_vf:\n",
    "#         flag_vsquared_vf.append(9)\n",
    "        \n",
    "print(len(flag_vsquared),len(flag_vsquared_vf), len(data)) #check\n",
    "''';"
   ]
  },
  {
   "cell_type": "code",
   "execution_count": 45,
   "metadata": {},
   "outputs": [],
   "source": [
    "'''\n",
    "flags_table = Table([flag_vsquared_vf,flag_vsquared], names=('flag_voidfinder', 'flag_vsquared'))\n",
    "\n",
    "data.add_columns(flags_table.columns.values())\n",
    "\n",
    "ascii.write(data, 'data_flags_updated_Nov1.dat')\n",
    "'''\n",
    "data.write('../../../../data/NSA_v1_0_1_VAGC_vflag-V2-VF.fits', format='fits', overwrite=True)"
   ]
  },
  {
   "cell_type": "code",
   "execution_count": null,
   "metadata": {},
   "outputs": [],
   "source": []
  }
 ],
 "metadata": {
  "kernelspec": {
   "display_name": "Python 3 (ipykernel)",
   "language": "python",
   "name": "python3"
  },
  "language_info": {
   "codemirror_mode": {
    "name": "ipython",
    "version": 3
   },
   "file_extension": ".py",
   "mimetype": "text/x-python",
   "name": "python",
   "nbconvert_exporter": "python",
   "pygments_lexer": "ipython3",
   "version": "3.8.12"
  },
  "toc": {
   "base_numbering": 1,
   "nav_menu": {},
   "number_sections": true,
   "sideBar": true,
   "skip_h1_title": false,
   "title_cell": "Table of Contents",
   "title_sidebar": "Contents",
   "toc_cell": false,
   "toc_position": {},
   "toc_section_display": true,
   "toc_window_display": false
  }
 },
 "nbformat": 4,
 "nbformat_minor": 4
}
