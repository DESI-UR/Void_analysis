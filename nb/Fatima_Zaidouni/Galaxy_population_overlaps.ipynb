{
 "cells": [
  {
   "cell_type": "markdown",
   "id": "273ef2c4",
   "metadata": {},
   "source": [
    "Determine the overlap between void and wall populations between the different catalogs."
   ]
  },
  {
   "cell_type": "code",
   "execution_count": 3,
   "id": "e0822959",
   "metadata": {},
   "outputs": [],
   "source": [
    "from astropy.io import fits\n",
    "from astropy.table import Table\n",
    "\n",
    "import numpy as np"
   ]
  },
  {
   "cell_type": "markdown",
   "id": "b73dfb1b",
   "metadata": {},
   "source": [
    "# Data"
   ]
  },
  {
   "cell_type": "code",
   "execution_count": 4,
   "id": "ca50d4de",
   "metadata": {},
   "outputs": [],
   "source": [
    "data_filename = '../../../../data/NSA_v1_0_1_VAGC_vflag-V2-VF.fits'\n",
    "\n",
    "hdu = fits.open(data_filename)\n",
    "data = Table(hdu[1].data)\n",
    "hdu.close()"
   ]
  },
  {
   "cell_type": "markdown",
   "id": "1bce3637",
   "metadata": {},
   "source": [
    "## Just keep the main SDSS DR7 footprint"
   ]
  },
  {
   "cell_type": "code",
   "execution_count": 5,
   "id": "3534ba87",
   "metadata": {},
   "outputs": [],
   "source": [
    "# When the catalog is the NSA, only keep those objects which were originally in the DR7 LSS\n",
    "catalog_SDSS = data[data['IN_DR7_LSS'] == 1]\n",
    "\n",
    "ra_boolean = np.logical_and(catalog_SDSS['RA'] > 110, catalog_SDSS['RA'] < 270)\n",
    "catalog_north = catalog_SDSS[ra_boolean]\n",
    "\n",
    "strip_boolean = np.logical_and.reduce([catalog_north['RA'] > 250, \n",
    "                                       catalog_north['RA'] < 269, \n",
    "                                       catalog_north['DEC'] > 51, \n",
    "                                       catalog_north['DEC'] < 67])\n",
    "catalog_main = catalog_north[~strip_boolean]"
   ]
  },
  {
   "cell_type": "markdown",
   "id": "30750933",
   "metadata": {},
   "source": [
    "## Separate the galaxies by their LSS classifications\n",
    "\n",
    "### VoidFinder"
   ]
  },
  {
   "cell_type": "code",
   "execution_count": 6,
   "id": "15ceb6e5",
   "metadata": {},
   "outputs": [],
   "source": [
    "wall_vf = catalog_main['vflag_VF'] == 0\n",
    "void_vf = catalog_main['vflag_VF'] == 1\n",
    "edge_vf = catalog_main['vflag_VF'] == 2\n",
    "out_vf = catalog_main['vflag_VF'] == 9"
   ]
  },
  {
   "cell_type": "markdown",
   "id": "2712d521",
   "metadata": {},
   "source": [
    "### V$^2$"
   ]
  },
  {
   "cell_type": "code",
   "execution_count": 7,
   "id": "0d6676ff",
   "metadata": {},
   "outputs": [],
   "source": [
    "wall_v2 = catalog_main['vflag_V2'] == 0\n",
    "void_v2 = catalog_main['vflag_V2'] == 1\n",
    "edge_v2 = catalog_main['vflag_V2'] == 2\n",
    "out_v2 = catalog_main['vflag_V2'] == 9"
   ]
  },
  {
   "cell_type": "markdown",
   "id": "8b387668",
   "metadata": {},
   "source": [
    "# How many of VoidFinder's wall galaxies are considered void by V$^2$?"
   ]
  },
  {
   "cell_type": "code",
   "execution_count": 8,
   "id": "1b5698bf",
   "metadata": {},
   "outputs": [
    {
     "data": {
      "text/plain": [
       "0.23420586874281435"
      ]
     },
     "execution_count": 8,
     "metadata": {},
     "output_type": "execute_result"
    }
   ],
   "source": [
    "np.sum(wall_vf & void_v2)/np.sum(wall_vf)"
   ]
  },
  {
   "cell_type": "markdown",
   "id": "a9a2fd14",
   "metadata": {},
   "source": [
    "# How many V$^2$ void galaxies are considered wall by VoidFinder?"
   ]
  },
  {
   "cell_type": "code",
   "execution_count": 9,
   "id": "c4b8253d",
   "metadata": {},
   "outputs": [
    {
     "data": {
      "text/plain": [
       "0.40528001584995377"
      ]
     },
     "execution_count": 9,
     "metadata": {},
     "output_type": "execute_result"
    }
   ],
   "source": [
    "np.sum(void_v2 & wall_vf)/np.sum(void_v2)"
   ]
  },
  {
   "cell_type": "code",
   "execution_count": null,
   "id": "6d74ca48",
   "metadata": {},
   "outputs": [],
   "source": []
  }
 ],
 "metadata": {
  "kernelspec": {
   "display_name": "Python 3 (ipykernel)",
   "language": "python",
   "name": "python3"
  },
  "language_info": {
   "codemirror_mode": {
    "name": "ipython",
    "version": 3
   },
   "file_extension": ".py",
   "mimetype": "text/x-python",
   "name": "python",
   "nbconvert_exporter": "python",
   "pygments_lexer": "ipython3",
   "version": "3.8.12"
  }
 },
 "nbformat": 4,
 "nbformat_minor": 5
}
