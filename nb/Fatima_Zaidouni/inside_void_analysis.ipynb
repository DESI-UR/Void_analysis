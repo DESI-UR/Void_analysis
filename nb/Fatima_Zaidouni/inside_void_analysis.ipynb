{
 "cells": [
  {
   "cell_type": "code",
   "execution_count": 1,
   "metadata": {},
   "outputs": [],
   "source": [
    "from sklearn import neighbors\n",
    "from astropy.table import Table\n",
    "from astropy.io import fits\n",
    "import numpy as np\n",
    "import pickle"
   ]
  },
  {
   "cell_type": "code",
   "execution_count": 2,
   "metadata": {},
   "outputs": [],
   "source": [
    "galzone = Table.read('DR7_galzones.dat', format =  'ascii' )\n",
    "depth = np.array(galzone['depth'])"
   ]
  },
  {
   "cell_type": "code",
   "execution_count": 30,
   "metadata": {},
   "outputs": [],
   "source": [
    "galaxy_depth = []\n",
    "for i in range(np.max(depth)):\n",
    "    galaxy_depth.append(np.argwhere(depth==i))\n",
    "galaxy_depth=np.array(galaxy_depth)"
   ]
  },
  {
   "cell_type": "code",
   "execution_count": 2,
   "metadata": {},
   "outputs": [],
   "source": [
    "t = Table.read('DR7_zobovoids.dat', format =  'ascii' )\n",
    "x_voidv2 = np.array(t['x'])\n",
    "y_voidv2  = np.array(t['y'])\n",
    "z_voidv2  = np.array(t['z'])\n",
    "radius_voidv2  = np.array(t['radius'])\n",
    "\n",
    "num_voidv2  = x_voidv2.shape[0]\n",
    "voidv2_xyz = np.concatenate((x_voidv2.reshape(num_voidv2 ,1),\n",
    "                                 y_voidv2.reshape(num_voidv2 ,1),\n",
    "                                 z_voidv2.reshape(num_voidv2 ,1)), axis=1)"
   ]
  },
  {
   "cell_type": "code",
   "execution_count": 4,
   "metadata": {},
   "outputs": [],
   "source": []
  },
  {
   "cell_type": "code",
   "execution_count": 8,
   "metadata": {},
   "outputs": [],
   "source": [
    "cols = ['ra', 'dec','redshift']\n",
    "galaxy_table = Table.read('data_flags_updated.dat', format =  'ascii',include_names=cols )"
   ]
  },
  {
   "cell_type": "code",
   "execution_count": 9,
   "metadata": {},
   "outputs": [],
   "source": [
    "# galaxy_table = galaxy_table[table['redshift']< 0.1026]"
   ]
  },
  {
   "cell_type": "code",
   "execution_count": 10,
   "metadata": {},
   "outputs": [],
   "source": [
    "h=1\n",
    "DtoR = np.pi/180.\n",
    "RtoD = 180./np.pi\n",
    "c = 3e5\n",
    "\n",
    "r_gal = c*galaxy_table['redshift'].data/(100*h)\n",
    "ra = galaxy_table['ra'].data\n",
    "dec = galaxy_table['dec'].data"
   ]
  },
  {
   "cell_type": "code",
   "execution_count": 12,
   "metadata": {},
   "outputs": [],
   "source": [
    "ra_radian = ra*DtoR\n",
    "\n",
    "dec_radian = dec*DtoR\n",
    "\n",
    "x_gal = r_gal*np.cos(ra_radian)*np.cos(dec_radian)\n",
    "\n",
    "y_gal = r_gal*np.sin(ra_radian)*np.cos(dec_radian)\n",
    "\n",
    "z_gal = r_gal*np.sin(dec_radian)\n",
    "\n",
    "num_gal = x_gal.shape[0]\n",
    "    \n",
    "gals_xyz = np.concatenate((x_gal.reshape(num_gal,1),\n",
    "                                 y_gal.reshape(num_gal,1),\n",
    "                                 z_gal.reshape(num_gal,1)), axis=1)"
   ]
  },
  {
   "cell_type": "code",
   "execution_count": 13,
   "metadata": {},
   "outputs": [],
   "source": [
    "for i in np.linspace(0.1,2,100):\n",
    "    tree = neighbors.KDTree(gals_xyz, metric = 'euclidean')\n",
    "    ind =  tree.query_radius(voidv2_xyz, r =i*radius_voidv2)\n",
    "    with open('galaxy_in_voidv2_indices'+str(i), 'wb') as ind_file:\n",
    "        pickle.dump(ind, ind_file)\n"
   ]
  },
  {
   "cell_type": "code",
   "execution_count": 30,
   "metadata": {},
   "outputs": [
    {
     "name": "stdout",
     "output_type": "stream",
     "text": [
      "index of closest neighbour [array([0, 1]) array([0, 1]) array([1]) array([0, 1])]\n"
     ]
    }
   ],
   "source": [
    "trial = [[0,0,0],[1,1,1]]\n",
    "trial_test = [[0,0,2],[0,5,0],[5,1,0],[5,0,0]] \n",
    "trial = np.array(trial)\n",
    "trial_test = np.array(trial_test)\n",
    "\n",
    "tree = neighbors.KDTree(trial, metric = 'euclidean')\n",
    "ind =  tree.query_radius(trial_test, r =5)\n",
    "# print(\"distance to closest neighbour is: \", dist) # distance between entry of trial_test and closest neighbour in trial\n",
    "print(\"index of closest neighbour\", ind) # indices from trial that are within radius r of entry in trial_test"
   ]
  },
  {
   "cell_type": "code",
   "execution_count": 16,
   "metadata": {},
   "outputs": [],
   "source": [
    "import pickle\n",
    "with open('galaxy_in_maximal_indices', 'wb') as ind_file:\n",
    "    pickle.dump(ind, ind_file)"
   ]
  },
  {
   "cell_type": "code",
   "execution_count": null,
   "metadata": {},
   "outputs": [],
   "source": []
  }
 ],
 "metadata": {
  "kernelspec": {
   "display_name": "TestKernel",
   "language": "python",
   "name": "testkernel"
  },
  "language_info": {
   "codemirror_mode": {
    "name": "ipython",
    "version": 3
   },
   "file_extension": ".py",
   "mimetype": "text/x-python",
   "name": "python",
   "nbconvert_exporter": "python",
   "pygments_lexer": "ipython3",
   "version": "3.6.10"
  },
  "toc": {
   "base_numbering": 1,
   "nav_menu": {},
   "number_sections": true,
   "sideBar": true,
   "skip_h1_title": false,
   "title_cell": "Table of Contents",
   "title_sidebar": "Contents",
   "toc_cell": false,
   "toc_position": {},
   "toc_section_display": true,
   "toc_window_display": false
  }
 },
 "nbformat": 4,
 "nbformat_minor": 2
}
