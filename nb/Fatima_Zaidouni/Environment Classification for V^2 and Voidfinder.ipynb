{
 "cells": [
  {
   "cell_type": "code",
   "execution_count": 1,
   "metadata": {},
   "outputs": [],
   "source": [
    "from astropy.table import Table\n",
    "import numpy as np\n",
    "import matplotlib.pyplot as plt\n",
    "from astropy.io import ascii"
   ]
  },
  {
   "cell_type": "markdown",
   "metadata": {},
   "source": [
    "#### Miscellaneous functions"
   ]
  },
  {
   "cell_type": "code",
   "execution_count": 2,
   "metadata": {},
   "outputs": [],
   "source": [
    "def flatten(array): # when np.flatten() doesn't work\n",
    "    temp = []\n",
    "    for sublist in array:\n",
    "        for item in sublist:\n",
    "            temp.append(item)\n",
    "    return np.array(temp)\n",
    "  \n",
    "def rmv(array,out): # removing galaxies in \"out\" from galaxies in \"array\"\n",
    "    test_out =[] \n",
    "    for i in array:\n",
    "        if i in out:\n",
    "            test_out.append(False)\n",
    "        else:\n",
    "            test_out.append(True)\n",
    "           \n",
    "    return np.array(array)[test_out]\n"
   ]
  },
  {
   "cell_type": "code",
   "execution_count": 3,
   "metadata": {},
   "outputs": [],
   "source": [
    "data = Table.read('data_all.txt', format = 'ascii')\n"
   ]
  },
  {
   "cell_type": "markdown",
   "metadata": {},
   "source": [
    "### V^2 classification"
   ]
  },
  {
   "cell_type": "code",
   "execution_count": 47,
   "metadata": {},
   "outputs": [],
   "source": [
    "galzones_old = Table.read('old_data/old/DR7_galzones.dat', format = 'ascii') \n",
    "galzones = Table.read('DR7_galzones.dat', format = 'ascii') \n",
    "zonevoids = Table.read('DR7_zonevoids.dat', format = 'ascii')\n",
    "total_glx = len(galzones)"
   ]
  },
  {
   "cell_type": "code",
   "execution_count": 49,
   "metadata": {},
   "outputs": [],
   "source": [
    "gal_indx = galzones_old['gal']\n"
   ]
  },
  {
   "cell_type": "code",
   "execution_count": 5,
   "metadata": {},
   "outputs": [
    {
     "name": "stdout",
     "output_type": "stream",
     "text": [
      "707817\n"
     ]
    }
   ],
   "source": [
    "print(total_glx)"
   ]
  },
  {
   "cell_type": "code",
   "execution_count": 6,
   "metadata": {},
   "outputs": [
    {
     "name": "stdout",
     "output_type": "stream",
     "text": [
      "707817\n"
     ]
    }
   ],
   "source": [
    "print(len(data))"
   ]
  },
  {
   "cell_type": "markdown",
   "metadata": {},
   "source": [
    "#### edge and outside galaxies"
   ]
  },
  {
   "cell_type": "code",
   "execution_count": 50,
   "metadata": {},
   "outputs": [],
   "source": [
    "edge_bool = [bool(x) for x in np.array(np.array(galzones['edge']))] \n",
    "edge_gal = np.array(gal_indx[edge_bool])"
   ]
  },
  {
   "cell_type": "code",
   "execution_count": 52,
   "metadata": {},
   "outputs": [],
   "source": [
    "out_bool = [bool(x) for x in np.array(np.array(galzones['out']))]\n",
    "out_gal = np.array(gal_indx[out_bool])"
   ]
  },
  {
   "cell_type": "code",
   "execution_count": 53,
   "metadata": {},
   "outputs": [
    {
     "data": {
      "text/plain": [
       "375542"
      ]
     },
     "execution_count": 53,
     "metadata": {},
     "output_type": "execute_result"
    }
   ],
   "source": [
    "len(out_gal)+len(edge_gal)"
   ]
  },
  {
   "cell_type": "markdown",
   "metadata": {},
   "source": [
    "#### void galaxies"
   ]
  },
  {
   "cell_type": "code",
   "execution_count": 54,
   "metadata": {},
   "outputs": [],
   "source": [
    "void_zones = zonevoids[(zonevoids['void0'] != -1) & (zonevoids['void1'] != -1)]['zone'] # zones that are in voids"
   ]
  },
  {
   "cell_type": "code",
   "execution_count": 55,
   "metadata": {},
   "outputs": [],
   "source": [
    "void_gal_ = []\n",
    "for i in void_zones:\n",
    "    void_gal_.append(list(gal_indx[galzones['zone'] == i]))\n",
    "\n",
    "void_gal_flat = flatten(void_gal_) # around 200,000 are void galaxies"
   ]
  },
  {
   "cell_type": "code",
   "execution_count": 56,
   "metadata": {},
   "outputs": [
    {
     "data": {
      "text/plain": [
       "328267"
      ]
     },
     "execution_count": 56,
     "metadata": {},
     "output_type": "execute_result"
    }
   ],
   "source": [
    "void_gal_flat[199377] # galaxy thats outside that is in zone that is in void"
   ]
  },
  {
   "cell_type": "markdown",
   "metadata": {},
   "source": [
    "#### Fact #1: edge and outside galaxies exist in zones that are in voids"
   ]
  },
  {
   "cell_type": "code",
   "execution_count": 57,
   "metadata": {},
   "outputs": [],
   "source": [
    "void_gal = rmv(void_gal_flat,edge_gal) # eliminating edge galazies, True for non edge, about 8000"
   ]
  },
  {
   "cell_type": "code",
   "execution_count": 58,
   "metadata": {},
   "outputs": [],
   "source": [
    "void_gal = rmv(void_gal,out_gal)"
   ]
  },
  {
   "cell_type": "code",
   "execution_count": 59,
   "metadata": {},
   "outputs": [
    {
     "data": {
      "text/plain": [
       "(array([], dtype=int64), array([], dtype=int64), array([], dtype=int64))"
      ]
     },
     "execution_count": 59,
     "metadata": {},
     "output_type": "execute_result"
    }
   ],
   "source": [
    "np.intersect1d(void_gal,out_gal , return_indices=True) "
   ]
  },
  {
   "cell_type": "markdown",
   "metadata": {},
   "source": [
    "#### wall galaxies"
   ]
  },
  {
   "cell_type": "code",
   "execution_count": 60,
   "metadata": {},
   "outputs": [],
   "source": [
    "non_void_zones = zonevoids[(zonevoids['void0'] == -1)]['zone'] # zones that are not in voids\n",
    "\n",
    "non_void_gal = []\n",
    "for i in non_void_zones:\n",
    "    non_void_gal.append(list(gal_indx[galzones['zone'] == i]))\n",
    "        \n",
    "wall_gal = rmv(flatten(non_void_gal),edge_gal)"
   ]
  },
  {
   "cell_type": "code",
   "execution_count": 61,
   "metadata": {},
   "outputs": [
    {
     "data": {
      "text/plain": [
       "(array([], dtype=int64), array([], dtype=int64), array([], dtype=int64))"
      ]
     },
     "execution_count": 61,
     "metadata": {},
     "output_type": "execute_result"
    }
   ],
   "source": [
    "np.intersect1d(wall_gal,edge_gal , return_indices=True) "
   ]
  },
  {
   "cell_type": "code",
   "execution_count": 62,
   "metadata": {},
   "outputs": [],
   "source": [
    "wall_gal = rmv(wall_gal,out_gal)"
   ]
  },
  {
   "cell_type": "markdown",
   "metadata": {},
   "source": [
    "### Check"
   ]
  },
  {
   "cell_type": "code",
   "execution_count": 63,
   "metadata": {},
   "outputs": [
    {
     "data": {
      "text/plain": [
       "(707817, 707817)"
      ]
     },
     "execution_count": 63,
     "metadata": {},
     "output_type": "execute_result"
    }
   ],
   "source": [
    "len(wall_gal)+len(void_gal)+len(edge_gal)+len(out_gal), total_glx"
   ]
  },
  {
   "cell_type": "code",
   "execution_count": 64,
   "metadata": {},
   "outputs": [
    {
     "data": {
      "text/plain": [
       "array([314760, 315352, 315353, ...,  17725,  16020,  44490])"
      ]
     },
     "execution_count": 64,
     "metadata": {},
     "output_type": "execute_result"
    }
   ],
   "source": [
    "wall_gal"
   ]
  },
  {
   "cell_type": "markdown",
   "metadata": {},
   "source": [
    "### Voidfinder classification"
   ]
  },
  {
   "cell_type": "code",
   "execution_count": 21,
   "metadata": {},
   "outputs": [],
   "source": [
    "data_voidfinder = Table.read('ALL_vflag_comoving.txt', format = 'ascii')"
   ]
  },
  {
   "cell_type": "code",
   "execution_count": 22,
   "metadata": {},
   "outputs": [],
   "source": [
    "wall_gal_vf = np.argwhere(np.array(data_voidfinder['vflag']) == 0)\n",
    "void_gal_vf = np.argwhere(np.array(data_voidfinder['vflag']) == 1)"
   ]
  },
  {
   "cell_type": "code",
   "execution_count": 23,
   "metadata": {},
   "outputs": [],
   "source": [
    "out_gal_vf = np.argwhere(np.array(data_voidfinder['vflag']) == 9)\n",
    "edge_gal_vf = np.argwhere(np.array(data_voidfinder['vflag']) == 2)"
   ]
  },
  {
   "cell_type": "markdown",
   "metadata": {},
   "source": [
    "### Check"
   ]
  },
  {
   "cell_type": "code",
   "execution_count": 24,
   "metadata": {},
   "outputs": [
    {
     "data": {
      "text/plain": [
       "True"
      ]
     },
     "execution_count": 24,
     "metadata": {},
     "output_type": "execute_result"
    }
   ],
   "source": [
    "len(out_gal_vf)+len(edge_gal_vf)+len(wall_gal_vf)+len(void_gal_vf) == len(data_voidfinder)"
   ]
  },
  {
   "cell_type": "markdown",
   "metadata": {},
   "source": [
    "### add flag columns and save file"
   ]
  },
  {
   "cell_type": "code",
   "execution_count": 65,
   "metadata": {},
   "outputs": [
    {
     "name": "stdout",
     "output_type": "stream",
     "text": [
      "707817 707817 707817\n"
     ]
    }
   ],
   "source": [
    "flag_vsquared=[] # checks all galaxies in each statement as a double check for any overlaps\n",
    "for i in range(len(data)):\n",
    "    if i in wall_gal:\n",
    "        flag_vsquared.append(0)\n",
    "    if i in void_gal:\n",
    "        flag_vsquared.append(1)\n",
    "    if i in edge_gal:\n",
    "        flag_vsquared.append(2)\n",
    "    if i in out_gal:\n",
    "        flag_vsquared.append(9)\n",
    "        \n",
    "# flag_vsquared_vf=[]\n",
    "# for i in range(len(data)):\n",
    "#     if i in wall_gal_vf:\n",
    "#         flag_vsquared_vf.append(0)\n",
    "#     if i in void_gal_vf:\n",
    "#         flag_vsquared_vf.append(1)\n",
    "#     if i in edge_gal_vf:\n",
    "#         flag_vsquared_vf.append(2)\n",
    "#     if i in out_gal_vf:\n",
    "#         flag_vsquared_vf.append(9)\n",
    "        \n",
    "print(len(flag_vsquared),len(flag_vsquared_vf), len(data)) #check\n",
    "\n"
   ]
  },
  {
   "cell_type": "code",
   "execution_count": null,
   "metadata": {},
   "outputs": [],
   "source": []
  },
  {
   "cell_type": "code",
   "execution_count": 66,
   "metadata": {},
   "outputs": [],
   "source": [
    "flags_table = Table([flag_vsquared_vf,flag_vsquared], names=('flag_voidfinder', 'flag_vsquared'))\n",
    "\n",
    "data.add_columns(flags_table.columns.values())\n",
    "\n",
    "ascii.write(data, 'data_flags_updated_Nov1.dat')  "
   ]
  },
  {
   "cell_type": "code",
   "execution_count": null,
   "metadata": {},
   "outputs": [],
   "source": []
  }
 ],
 "metadata": {
  "kernelspec": {
   "display_name": "Python 3 (3.6.5)",
   "language": "python",
   "name": "python3"
  },
  "language_info": {
   "codemirror_mode": {
    "name": "ipython",
    "version": 3
   },
   "file_extension": ".py",
   "mimetype": "text/x-python",
   "name": "python",
   "nbconvert_exporter": "python",
   "pygments_lexer": "ipython3",
   "version": "3.6.5"
  },
  "toc": {
   "base_numbering": 1,
   "nav_menu": {},
   "number_sections": true,
   "sideBar": true,
   "skip_h1_title": false,
   "title_cell": "Table of Contents",
   "title_sidebar": "Contents",
   "toc_cell": false,
   "toc_position": {},
   "toc_section_display": true,
   "toc_window_display": false
  }
 },
 "nbformat": 4,
 "nbformat_minor": 4
}
