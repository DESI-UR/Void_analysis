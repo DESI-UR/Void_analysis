{
 "cells": [
  {
   "cell_type": "markdown",
   "metadata": {},
   "source": [
    "This notebook takes in a list of galaxies and the voids found using $V^2$ and VoidFinder and appends to the list of galaxies columns that denote which are void, wall, edge, and outside the survey for each algorithm."
   ]
  },
  {
   "cell_type": "code",
   "execution_count": 1,
   "metadata": {},
   "outputs": [],
   "source": [
    "from astropy.table import Table\n",
    "from astropy.io import fits\n",
    "from astropy.coordinates import SkyCoord\n",
    "from astropy import units as u\n",
    "import astropy.constants as const\n",
    "\n",
    "from vast.voidfinder.distance import z_to_comoving_dist\n",
    "from vast.voidfinder.vflag import determine_vflag\n",
    "\n",
    "import numpy as np\n",
    "\n",
    "import pickle\n",
    "\n",
    "import matplotlib.pyplot as plt\n",
    "%matplotlib notebook"
   ]
  },
  {
   "cell_type": "markdown",
   "metadata": {},
   "source": [
    "#### Miscellaneous functions"
   ]
  },
  {
   "cell_type": "code",
   "execution_count": 2,
   "metadata": {},
   "outputs": [],
   "source": [
    "def flatten(array): # when np.flatten() doesn't work\n",
    "    temp = []\n",
    "    for sublist in array:\n",
    "        for item in sublist:\n",
    "            temp.append(item)\n",
    "    return np.array(temp)"
   ]
  },
  {
   "cell_type": "code",
   "execution_count": 3,
   "metadata": {},
   "outputs": [],
   "source": [
    "def rmv(array,out): # removing galaxies in \"out\" from galaxies in \"array\"\n",
    "    '''\n",
    "    test_out =[] \n",
    "    for i in array:\n",
    "        if i in out:\n",
    "            test_out.append(False)\n",
    "        else:\n",
    "            test_out.append(True)\n",
    "    '''\n",
    "    test_out = np.ones(len(array), dtype=bool)\n",
    "    \n",
    "    for i,obj in enumerate(array):\n",
    "        if obj in out:\n",
    "            test_out[i] = False\n",
    "    \n",
    "    return np.array(array)[test_out]"
   ]
  },
  {
   "cell_type": "markdown",
   "metadata": {},
   "source": [
    "# Galaxies"
   ]
  },
  {
   "cell_type": "code",
   "execution_count": 4,
   "metadata": {},
   "outputs": [],
   "source": [
    "#gal_filename = 'data_all.txt'\n",
    "#data = Table.read('data_all.txt', format='ascii')\n",
    "\n",
    "gal_filename = '../../../../data/nsa_v1_0_1_VAGC.fits'\n",
    "\n",
    "hdu = fits.open(gal_filename)\n",
    "data = Table(hdu[1].data)\n",
    "hdu.close()"
   ]
  },
  {
   "cell_type": "code",
   "execution_count": null,
   "metadata": {},
   "outputs": [],
   "source": [
    "data[:5]"
   ]
  },
  {
   "cell_type": "markdown",
   "metadata": {},
   "source": [
    "# $V^2$ classification"
   ]
  },
  {
   "cell_type": "code",
   "execution_count": 5,
   "metadata": {},
   "outputs": [],
   "source": [
    "#galzones_filename = 'DR7_galzones.dat'\n",
    "#zonevoids_filename = 'DR7_zonevoids.dat'\n",
    "\n",
    "V2_gal_filename = '../../../void_catalogs/public/v1.0.0/nsa_v1_0_1_main.txt'\n",
    "galzones_filename = '../../../void_catalogs/public/v1.0.0/V2_VIDE-nsa_v1_0_1_galzones.dat'\n",
    "zonevoids_filename = '../../../void_catalogs/public/v1.0.0/V2_VIDE-nsa_v1_0_1_zonevoids.dat'\n",
    "\n",
    "V2_gals = Table.read(V2_gal_filename, format='ascii.commented_header')\n",
    "#galzones_old = Table.read('old_data/old/DR7_galzones.dat', format = 'ascii')\n",
    "galzones = Table.read(galzones_filename, format='ascii.commented_header') \n",
    "zonevoids = Table.read(zonevoids_filename, format='ascii.commented_header')\n",
    "\n",
    "total_glx = len(galzones)"
   ]
  },
  {
   "cell_type": "code",
   "execution_count": 6,
   "metadata": {},
   "outputs": [],
   "source": [
    "#gal_indx = galzones_old['gal']\n",
    "gal_indx = galzones['gal']"
   ]
  },
  {
   "cell_type": "code",
   "execution_count": null,
   "metadata": {},
   "outputs": [],
   "source": [
    "print(total_glx)"
   ]
  },
  {
   "cell_type": "code",
   "execution_count": null,
   "metadata": {},
   "outputs": [],
   "source": [
    "print(len(V2_gals))"
   ]
  },
  {
   "cell_type": "markdown",
   "metadata": {},
   "source": [
    "So we need to determine which galaxies from the input galaxy catalog remain in the volume-limited catalog to figure out the $V^2$ classification.  Ugh...\n",
    "\n",
    "##### Identify objects in the volume-limited catalog, and add their index number to a column in `galzones`"
   ]
  },
  {
   "cell_type": "code",
   "execution_count": 7,
   "metadata": {},
   "outputs": [
    {
     "name": "stdout",
     "output_type": "stream",
     "text": [
      "194125\n"
     ]
    }
   ],
   "source": [
    "vollim_boolean = (V2_gals['redshift'] <= 0.114) & (V2_gals['rabsmag'] <= -20.0)\n",
    "\n",
    "vollim_V2_gals = V2_gals[vollim_boolean]\n",
    "\n",
    "print(len(vollim_V2_gals))"
   ]
  },
  {
   "cell_type": "code",
   "execution_count": 8,
   "metadata": {},
   "outputs": [],
   "source": [
    "data_coords = SkyCoord(ra=data['RA']*u.degree, \n",
    "                       dec=data['DEC']*u.degree, \n",
    "                       radial_velocity=const.c*data['Z'])\n",
    "vollim_V2_coords = SkyCoord(ra=vollim_V2_gals['ra']*u.degree, \n",
    "                            dec=vollim_V2_gals['dec']*u.degree, \n",
    "                            radial_velocity=const.c*vollim_V2_gals['redshift'])\n",
    "\n",
    "idx, d2d, d3d = vollim_V2_coords.match_to_catalog_sky(data_coords)\n",
    "\n",
    "galzones['i_NSA'] = idx"
   ]
  },
  {
   "cell_type": "markdown",
   "metadata": {},
   "source": [
    "#### Edge and outside galaxies"
   ]
  },
  {
   "cell_type": "code",
   "execution_count": 9,
   "metadata": {},
   "outputs": [],
   "source": [
    "edge_bool = [bool(x) for x in np.array(np.array(galzones['edge']))] \n",
    "edge_gal = np.array(gal_indx[edge_bool])"
   ]
  },
  {
   "cell_type": "code",
   "execution_count": 10,
   "metadata": {},
   "outputs": [],
   "source": [
    "out_bool = [bool(x) for x in np.array(np.array(galzones['out']))]\n",
    "out_gal = np.array(gal_indx[out_bool])"
   ]
  },
  {
   "cell_type": "code",
   "execution_count": 11,
   "metadata": {},
   "outputs": [
    {
     "data": {
      "text/plain": [
       "12981"
      ]
     },
     "execution_count": 11,
     "metadata": {},
     "output_type": "execute_result"
    }
   ],
   "source": [
    "len(out_gal)+len(edge_gal)"
   ]
  },
  {
   "cell_type": "markdown",
   "metadata": {},
   "source": [
    "#### Void galaxies"
   ]
  },
  {
   "cell_type": "code",
   "execution_count": 12,
   "metadata": {},
   "outputs": [],
   "source": [
    "void_zones = zonevoids[(zonevoids['void0'] != -1) & (zonevoids['void1'] != -1)]['zone'] # zones that are in voids"
   ]
  },
  {
   "cell_type": "code",
   "execution_count": 13,
   "metadata": {},
   "outputs": [],
   "source": [
    "void_gal_ = []\n",
    "for i in void_zones:\n",
    "    void_gal_.append(list(gal_indx[galzones['zone'] == i]))\n",
    "\n",
    "void_gal_flat = flatten(void_gal_) # around 200,000 are void galaxies <-- updated to 125,062"
   ]
  },
  {
   "cell_type": "code",
   "execution_count": 14,
   "metadata": {},
   "outputs": [],
   "source": [
    "#void_gal_flat[199377] # galaxy that's outside that is in zone that is in void"
   ]
  },
  {
   "cell_type": "markdown",
   "metadata": {},
   "source": [
    "#### Fact #1: edge and outside galaxies exist in zones that are in voids"
   ]
  },
  {
   "cell_type": "code",
   "execution_count": 15,
   "metadata": {},
   "outputs": [],
   "source": [
    "void_gal = rmv(void_gal_flat,edge_gal) # eliminating edge galaxies, True for non edge, about 8000"
   ]
  },
  {
   "cell_type": "code",
   "execution_count": 16,
   "metadata": {},
   "outputs": [],
   "source": [
    "void_gal = rmv(void_gal,out_gal)"
   ]
  },
  {
   "cell_type": "code",
   "execution_count": 17,
   "metadata": {},
   "outputs": [
    {
     "data": {
      "text/plain": [
       "(array([], dtype=int64), array([], dtype=int64), array([], dtype=int64))"
      ]
     },
     "execution_count": 17,
     "metadata": {},
     "output_type": "execute_result"
    }
   ],
   "source": [
    "np.intersect1d(void_gal,out_gal , return_indices=True) "
   ]
  },
  {
   "cell_type": "markdown",
   "metadata": {},
   "source": [
    "#### wall galaxies"
   ]
  },
  {
   "cell_type": "code",
   "execution_count": 18,
   "metadata": {},
   "outputs": [],
   "source": [
    "non_void_zones = zonevoids[(zonevoids['void0'] == -1)]['zone'] # zones that are not in voids\n",
    "\n",
    "non_void_gal = []\n",
    "for i in non_void_zones:\n",
    "    non_void_gal.append(list(gal_indx[galzones['zone'] == i]))\n",
    "        \n",
    "wall_gal = rmv(flatten(non_void_gal),edge_gal)"
   ]
  },
  {
   "cell_type": "code",
   "execution_count": 19,
   "metadata": {},
   "outputs": [
    {
     "data": {
      "text/plain": [
       "(array([], dtype=int64), array([], dtype=int64), array([], dtype=int64))"
      ]
     },
     "execution_count": 19,
     "metadata": {},
     "output_type": "execute_result"
    }
   ],
   "source": [
    "np.intersect1d(wall_gal,edge_gal , return_indices=True) "
   ]
  },
  {
   "cell_type": "code",
   "execution_count": 20,
   "metadata": {},
   "outputs": [],
   "source": [
    "wall_gal = rmv(wall_gal,out_gal)"
   ]
  },
  {
   "cell_type": "markdown",
   "metadata": {},
   "source": [
    "### Check"
   ]
  },
  {
   "cell_type": "code",
   "execution_count": 21,
   "metadata": {},
   "outputs": [
    {
     "data": {
      "text/plain": [
       "(194125, 194125)"
      ]
     },
     "execution_count": 21,
     "metadata": {},
     "output_type": "execute_result"
    }
   ],
   "source": [
    "len(wall_gal)+len(void_gal)+len(edge_gal)+len(out_gal), total_glx"
   ]
  },
  {
   "cell_type": "code",
   "execution_count": 22,
   "metadata": {},
   "outputs": [
    {
     "data": {
      "text/plain": [
       "array([  6131,   6140,   6153, ...,  24804, 174257,  69783])"
      ]
     },
     "execution_count": 22,
     "metadata": {},
     "output_type": "execute_result"
    }
   ],
   "source": [
    "wall_gal"
   ]
  },
  {
   "cell_type": "markdown",
   "metadata": {},
   "source": [
    "### Add vflag column to main data array\n",
    "\n",
    "For objects that are not in the main footprint, they are classified as outside."
   ]
  },
  {
   "cell_type": "code",
   "execution_count": 23,
   "metadata": {},
   "outputs": [],
   "source": [
    "data['vflag_V2'] = 9 # Initialize the vflag column for V2, setting the default to outside the survey mask\n",
    "\n",
    "data['vflag_V2'][galzones['i_NSA'][wall_gal]] = 0\n",
    "data['vflag_V2'][galzones['i_NSA'][void_gal]] = 1\n",
    "data['vflag_V2'][galzones['i_NSA'][edge_gal]] = 2\n",
    "data['vflag_V2'][galzones['i_NSA'][out_gal]] = 9"
   ]
  },
  {
   "cell_type": "markdown",
   "metadata": {},
   "source": [
    "For objects that are in the main footprint but not in the volume-limited sample, they get the classification of their nearest neighbor that is in the volume-limited catalog."
   ]
  },
  {
   "cell_type": "code",
   "execution_count": 24,
   "metadata": {},
   "outputs": [],
   "source": [
    "V2_coords = SkyCoord(ra=V2_gals['ra']*u.degree, \n",
    "                     dec=V2_gals['dec']*u.degree, \n",
    "                     radial_velocity=const.c*V2_gals['redshift'])\n",
    "\n",
    "idx_vollim,_,_ = V2_coords.match_to_catalog_sky(vollim_V2_coords)\n",
    "\n",
    "idx_data,_,_ = V2_coords.match_to_catalog_sky(data_coords)\n",
    "\n",
    "data['vflag_V2'][idx_data] = data['vflag_V2'][idx[idx_vollim]]"
   ]
  },
  {
   "cell_type": "markdown",
   "metadata": {},
   "source": [
    "# VoidFinder classification"
   ]
  },
  {
   "cell_type": "code",
   "execution_count": 25,
   "metadata": {},
   "outputs": [],
   "source": [
    "'''\n",
    "data_voidfinder = Table.read('ALL_vflag_comoving.txt', format='ascii')\n",
    "\n",
    "wall_gal_vf = np.argwhere(np.array(data_voidfinder['vflag']) == 0)\n",
    "void_gal_vf = np.argwhere(np.array(data_voidfinder['vflag']) == 1)\n",
    "\n",
    "out_gal_vf = np.argwhere(np.array(data_voidfinder['vflag']) == 9)\n",
    "edge_gal_vf = np.argwhere(np.array(data_voidfinder['vflag']) == 2)\n",
    "''';"
   ]
  },
  {
   "cell_type": "code",
   "execution_count": 26,
   "metadata": {},
   "outputs": [],
   "source": [
    "VF_holes_filename = '../../../void_catalogs/public/v1.0.0/VoidFinder-nsa_v1_0_1_main_comoving_holes.txt'\n",
    "\n",
    "VF_holes = Table.read(VF_holes_filename, format='ascii.commented_header')"
   ]
  },
  {
   "cell_type": "code",
   "execution_count": 27,
   "metadata": {},
   "outputs": [],
   "source": [
    "mask_filename = '../../../void_catalogs/SDSS/VoidFinder/python_implementation/NSA_main_mask.pickle'\n",
    "\n",
    "mask_infile = open(mask_filename, 'rb')\n",
    "mask, mask_resolution = pickle.load(mask_infile)\n",
    "mask_infile.close()"
   ]
  },
  {
   "cell_type": "markdown",
   "metadata": {},
   "source": [
    "##### Convert galaxy (ra, dec, z) to (x, y, z)"
   ]
  },
  {
   "cell_type": "code",
   "execution_count": 28,
   "metadata": {},
   "outputs": [],
   "source": [
    "DtoR = np.pi/180.\n",
    "\n",
    "s = z_to_comoving_dist(data['Z'].data.astype(np.float32), 0.315, 1)\n",
    "\n",
    "x = s*np.cos(data['DEC']*DtoR)*np.cos(data['RA']*DtoR)\n",
    "y = s*np.cos(data['DEC']*DtoR)*np.sin(data['RA']*DtoR)\n",
    "z = s*np.sin(data['DEC']*DtoR)"
   ]
  },
  {
   "cell_type": "markdown",
   "metadata": {},
   "source": [
    "### Add vflag column to main data array"
   ]
  },
  {
   "cell_type": "code",
   "execution_count": 29,
   "metadata": {},
   "outputs": [],
   "source": [
    "data['vflag_VF'] = 9\n",
    "\n",
    "for i in range(len(data)):\n",
    "    data['vflag_VF'][i] = determine_vflag(x[i], y[i], z[i], VF_holes, mask, mask_resolution)"
   ]
  },
  {
   "cell_type": "code",
   "execution_count": 30,
   "metadata": {},
   "outputs": [
    {
     "data": {
      "text/html": [
       "<div><i>Table length=5</i>\n",
       "<table id=\"table140385203857296\" class=\"table-striped table-bordered table-condensed\">\n",
       "<thead><tr><th>IAUNAME</th><th>SUBDIR</th><th>RA</th><th>DEC</th><th>ISDSS</th><th>INED</th><th>ISIXDF</th><th>IALFALFA</th><th>IZCAT</th><th>ITWODF</th><th>MAG</th><th>Z</th><th>ZSRC</th><th>SIZE</th><th>RUN</th><th>CAMCOL</th><th>FIELD</th><th>RERUN</th><th>XPOS</th><th>YPOS</th><th>NSAID</th><th>ZDIST</th><th>SERSIC_NMGY [7]</th><th>SERSIC_NMGY_IVAR [7]</th><th>SERSIC_OK</th><th>SERSIC_RNMGY [7]</th><th>SERSIC_ABSMAG [7]</th><th>SERSIC_AMIVAR [7]</th><th>EXTINCTION [7]</th><th>SERSIC_KCORRECT [7]</th><th>SERSIC_KCOEFF [5]</th><th>SERSIC_MTOL [7]</th><th>SERSIC_B300</th><th>SERSIC_B1000</th><th>SERSIC_METS</th><th>SERSIC_MASS</th><th>XCEN</th><th>YCEN</th><th>NPROF [7]</th><th>PROFMEAN [15,7]</th><th>PROFMEAN_IVAR [15,7]</th><th>QSTOKES [15,7]</th><th>USTOKES [15,7]</th><th>BASTOKES [15,7]</th><th>PHISTOKES [15,7]</th><th>PETRO_FLUX [7]</th><th>PETRO_FLUX_IVAR [7]</th><th>FIBER_FLUX [7]</th><th>FIBER_FLUX_IVAR [7]</th><th>PETRO_BA50</th><th>PETRO_PHI50</th><th>PETRO_BA90</th><th>PETRO_PHI90</th><th>SERSIC_FLUX [7]</th><th>SERSIC_FLUX_IVAR [7]</th><th>SERSIC_N</th><th>SERSIC_BA</th><th>SERSIC_PHI</th><th>ASYMMETRY [7]</th><th>CLUMPY [7]</th><th>DFLAGS [7]</th><th>AID</th><th>PID</th><th>DVERSION</th><th>PROFTHETA [15]</th><th>PETRO_THETA</th><th>PETRO_TH50</th><th>PETRO_TH90</th><th>SERSIC_TH50</th><th>PLATE</th><th>FIBERID</th><th>MJD</th><th>RACAT</th><th>DECCAT</th><th>ZSDSSLINE</th><th>SURVEY</th><th>PROGRAMNAME</th><th>PLATEQUALITY</th><th>TILE</th><th>PLUG_RA</th><th>PLUG_DEC</th><th>ELPETRO_BA</th><th>ELPETRO_PHI</th><th>ELPETRO_FLUX_R</th><th>ELPETRO_FLUX_IVAR_R</th><th>ELPETRO_THETA_R</th><th>ELPETRO_TH50_R</th><th>ELPETRO_TH90_R</th><th>ELPETRO_THETA</th><th>ELPETRO_FLUX [7]</th><th>ELPETRO_FLUX_IVAR [7]</th><th>ELPETRO_TH50 [7]</th><th>ELPETRO_TH90 [7]</th><th>ELPETRO_APCORR_R</th><th>ELPETRO_APCORR [7]</th><th>ELPETRO_APCORR_SELF [7]</th><th>ELPETRO_NMGY [7]</th><th>ELPETRO_NMGY_IVAR [7]</th><th>ELPETRO_OK</th><th>ELPETRO_RNMGY [7]</th><th>ELPETRO_ABSMAG [7]</th><th>ELPETRO_AMIVAR [7]</th><th>ELPETRO_KCORRECT [7]</th><th>ELPETRO_KCOEFF [5]</th><th>ELPETRO_MASS</th><th>ELPETRO_MTOL [7]</th><th>ELPETRO_B300</th><th>ELPETRO_B1000</th><th>ELPETRO_METS</th><th>IN_DR7_LSS</th><th>u_r</th><th>g_r</th><th>NUV_r</th><th>index</th><th>imc</th><th>aimc</th><th>cd</th><th>conx1</th><th>u_r_KIAS</th><th>prmag</th><th>BPTclass</th><th>SFR</th><th>sSFR</th><th>HImass</th><th>flag3727</th><th>t3</th><th>Z12logOH</th><th>Zerr</th><th>N12logNH</th><th>NHerr</th><th>logNO</th><th>NOerr</th><th>Ne12logNeH</th><th>NeHerr</th><th>logNeO</th><th>NeOerr</th><th>Z_N2O2</th><th>vorvol</th><th>vflag_V2</th><th>vflag_VF</th></tr></thead>\n",
       "<thead><tr><th>str19</th><th>str27</th><th>float64</th><th>float64</th><th>int32</th><th>int32</th><th>int32</th><th>int32</th><th>int32</th><th>int32</th><th>float32</th><th>float32</th><th>str7</th><th>float32</th><th>int16</th><th>uint8</th><th>int16</th><th>str3</th><th>float32</th><th>float32</th><th>int32</th><th>float32</th><th>float32</th><th>float32</th><th>int16</th><th>float32</th><th>float32</th><th>float32</th><th>float32</th><th>float32</th><th>float32</th><th>float32</th><th>float32</th><th>float32</th><th>float32</th><th>float32</th><th>float64</th><th>float64</th><th>uint8</th><th>float32</th><th>float32</th><th>float32</th><th>float32</th><th>float32</th><th>float32</th><th>float32</th><th>float32</th><th>float32</th><th>float32</th><th>float32</th><th>float32</th><th>float32</th><th>float32</th><th>float32</th><th>float32</th><th>float32</th><th>float32</th><th>float32</th><th>float32</th><th>float32</th><th>int32</th><th>int32</th><th>int32</th><th>str8</th><th>float32</th><th>float32</th><th>float32</th><th>float32</th><th>float32</th><th>int32</th><th>int16</th><th>int32</th><th>float64</th><th>float64</th><th>float32</th><th>str6</th><th>str27</th><th>str8</th><th>int32</th><th>float64</th><th>float64</th><th>float32</th><th>float32</th><th>float32</th><th>float32</th><th>float32</th><th>float32</th><th>float32</th><th>float32</th><th>float32</th><th>float32</th><th>float32</th><th>float32</th><th>float32</th><th>float32</th><th>float32</th><th>float32</th><th>float32</th><th>int16</th><th>float32</th><th>float32</th><th>float32</th><th>float32</th><th>float32</th><th>float32</th><th>float32</th><th>float32</th><th>float32</th><th>float32</th><th>float64</th><th>float64</th><th>float64</th><th>float64</th><th>int64</th><th>int64</th><th>float64</th><th>float64</th><th>float64</th><th>float64</th><th>float64</th><th>float64</th><th>float64</th><th>float64</th><th>float64</th><th>float64</th><th>float64</th><th>float64</th><th>float64</th><th>float64</th><th>float64</th><th>float64</th><th>float64</th><th>float64</th><th>float64</th><th>float64</th><th>float64</th><th>float64</th><th>float64</th><th>int64</th><th>int64</th></tr></thead>\n",
       "<tr><td>J094651.40-010228.5</td><td>09h/m00/J094651.40-010228.5</td><td>146.714215072841</td><td>-1.0412800233313741</td><td>0</td><td>72212</td><td>37354</td><td>-1</td><td>-1</td><td>-1</td><td>15.178774</td><td>0.021222278</td><td>sdss</td><td>0.07</td><td>756</td><td>1</td><td>206</td><td>301</td><td>136.2967</td><td>1095.152</td><td>0</td><td>0.020687785</td><td>29.696056 .. 3267.6895</td><td>0.29814342 .. 0.00012172792</td><td>1</td><td>31.368013 .. 3501.2527</td><td>-15.17281 .. -20.302134</td><td>223.03555 .. 1102.6129</td><td>0.4536473 .. 0.080934174</td><td>-0.005893635 .. 0.019576037</td><td>0.00017777947 .. 5.1533486e-11</td><td>0.00020792194 .. 0.98780394</td><td>2.7473723e-05</td><td>0.31195974</td><td>0.035135116</td><td>8898397000.0</td><td>215.39407348632812</td><td>213.4535369873047</td><td>10 .. 12</td><td>0.3149959 .. 0.0</td><td>233.37904 .. 0.0</td><td>0.062215745 .. -0.07950058</td><td>0.0006146176 .. -0.1274703</td><td>0.8828513 .. 0.7387829</td><td>0.2829979 .. -60.97547</td><td>18.203371 .. 2264.6604</td><td>1.9946122 .. 0.015697604</td><td>1.0260131 .. 561.97687</td><td>47.3397 .. 0.33574256</td><td>0.88909996</td><td>14.777527</td><td>0.80408496</td><td>17.367554</td><td>19.554192 .. 3146.785</td><td>1.0691423 .. 0.017162137</td><td>4.7761517</td><td>0.6651653</td><td>15.97821</td><td>-0.0109440535 .. 0.004525926</td><td>0.042470127 .. 0.042621203</td><td>0 .. 0</td><td>0</td><td>36</td><td>v2_1_13</td><td>0.22341923 .. 258.39</td><td>7.2478933</td><td>3.4641922</td><td>10.453795</td><td>5.882104</td><td>266</td><td>1</td><td>51630</td><td>146.71420341874853</td><td>-1.0412749124036818</td><td>0.0</td><td>sdss</td><td>legacy</td><td>good</td><td>122</td><td>146.71421</td><td>-1.0413043</td><td>0.80408496</td><td>17.367554</td><td>1144.0713</td><td>0.4582725</td><td>7.3913364</td><td>3.7061903</td><td>10.666219</td><td>7.3913364</td><td>18.787916 .. 2225.009</td><td>1.8480047 .. 0.017611798</td><td>5.8557696 .. 3.4004514</td><td>11.650886 .. 10.1460905</td><td>0.9986329</td><td>1.0687045 .. 1.001099</td><td>1.0695114 .. 1.0010818</td><td>28.532349 .. 2310.4973</td><td>0.42499655 .. 0.00024172392</td><td>1</td><td>28.661283 .. 2337.7668</td><td>-15.124495 .. -19.915525</td><td>293.50247 .. 1094.6666</td><td>-0.010805 .. 0.009306902</td><td>3.9630737e-05 .. 2.6251464e-06</td><td>6833158000.0</td><td>0.00017553588 .. 1.14686</td><td>0.004447123</td><td>0.09061434</td><td>0.025269886</td><td>0.0</td><td>2.3124398291110992</td><td>0.7627769559621811</td><td>3.9262890815734863</td><td>4000000</td><td>-99</td><td>-99.0</td><td>-99.0</td><td>-99.0</td><td>-99.0</td><td>-99.0</td><td>nan</td><td>nan</td><td>nan</td><td>nan</td><td>nan</td><td>nan</td><td>nan</td><td>nan</td><td>nan</td><td>nan</td><td>nan</td><td>nan</td><td>nan</td><td>nan</td><td>nan</td><td>nan</td><td>nan</td><td>nan</td><td>9</td><td>9</td></tr>\n",
       "<tr><td>J094630.85-004554.5</td><td>09h/m00/J094630.85-004554.5</td><td>146.6285851269414</td><td>-0.7651620976591762</td><td>1</td><td>-1</td><td>-1</td><td>-1</td><td>-1</td><td>-1</td><td>17.318521</td><td>0.06465632</td><td>sdss</td><td>0.06491773</td><td>1239</td><td>2</td><td>175</td><td>301</td><td>735.56384</td><td>1277.3636</td><td>1</td><td>0.06403577</td><td>2.4606192 .. 443.66675</td><td>5.447516 .. 0.006137319</td><td>1</td><td>2.6590455 .. 454.05856</td><td>-14.978118 .. -20.688284</td><td>27.979414 .. 1024.811</td><td>0.60185605 .. 0.10737576</td><td>-0.018567445 .. 0.051569887</td><td>1.7666649e-05 .. 6.712402e-13</td><td>0.00035330586 .. 1.0529422</td><td>1.4492807e-05</td><td>0.21530226</td><td>0.031020422</td><td>12929411000.0</td><td>145.3625946044922</td><td>121.33534240722656</td><td>10 .. 11</td><td>0.044930786 .. 0.0</td><td>1644.0168 .. 0.0</td><td>0.15447958 .. 0.1804297</td><td>0.0016548077 .. 0.05960713</td><td>0.73236895 .. 0.680643</td><td>0.30686864 .. 9.140798</td><td>1.5539132 .. 380.1313</td><td>11.729078 .. 0.018252498</td><td>0.10988019 .. 131.71373</td><td>345.7848 .. 0.57769156</td><td>0.7371746</td><td>87.53705</td><td>0.50988674</td><td>87.96927</td><td>1.4135201 .. 416.9717</td><td>17.281208 .. 0.089459315</td><td>2.222374</td><td>0.27854216</td><td>86.21106</td><td>-0.0066564083 .. 0.0052427053</td><td>0.04789895 .. 0.075857244</td><td>0 .. 0</td><td>0</td><td>29</td><td>v2_1_13</td><td>0.22341923 .. 258.39</td><td>5.6178217</td><td>2.3269887</td><td>6.7219906</td><td>3.291051</td><td>266</td><td>4</td><td>51630</td><td>146.62857001083813</td><td>-0.7651439853236099</td><td>0.0</td><td>sdss</td><td>legacy</td><td>good</td><td>122</td><td>146.62857</td><td>-0.76513683</td><td>0.50988674</td><td>87.96926</td><td>185.97183</td><td>0.62044895</td><td>6.581605</td><td>2.9719684</td><td>8.093729</td><td>6.581605</td><td>1.614101 .. 385.6091</td><td>12.512996 .. 0.025627436</td><td>6.0647826 .. 2.8283458</td><td>9.8568735 .. 8.044135</td><td>1.0033052</td><td>1.101541 .. 0.9988729</td><td>1.1308625 .. 0.99827486</td><td>2.8097854 .. 410.2963</td><td>3.9543293 .. 0.005790308</td><td>1</td><td>2.917754 .. 415.73123</td><td>-15.113855 .. -20.591503</td><td>26.483196 .. 826.89087</td><td>-0.026901115 .. 0.039683696</td><td>1.06661e-05 .. 1.3970519e-12</td><td>12135996000.0</td><td>0.0003045496 .. 1.0913272</td><td>1.6861053e-05</td><td>0.14151204</td><td>0.027635332</td><td>1.0</td><td>2.976039946079254</td><td>0.8633808791637421</td><td>4.488303065299988</td><td>180229</td><td>1</td><td>1.0</td><td>-0.169</td><td>0.356</td><td>2.697</td><td>16.627</td><td>3.0</td><td>-0.6210674047470093</td><td>-11.241625785827637</td><td>nan</td><td>nan</td><td>nan</td><td>nan</td><td>nan</td><td>nan</td><td>nan</td><td>nan</td><td>nan</td><td>nan</td><td>nan</td><td>nan</td><td>nan</td><td>9.48280122055993</td><td>0.0</td><td>2</td><td>2</td></tr>\n",
       "<tr><td>J094631.59-005917.7</td><td>09h/m00/J094631.59-005917.7</td><td>146.63170644325592</td><td>-0.9883467023052999</td><td>2</td><td>72132</td><td>-1</td><td>-1</td><td>-1</td><td>-1</td><td>18.123354</td><td>0.05265425</td><td>sdss</td><td>0.07</td><td>756</td><td>1</td><td>206</td><td>301</td><td>618.0556</td><td>344.6873</td><td>2</td><td>0.052030597</td><td>5.9062114 .. 117.6328</td><td>2.735704 .. 0.048443027</td><td>1</td><td>5.766684 .. 117.70143</td><td>-15.453841 .. -18.720377</td><td>80.95401 .. 568.64264</td><td>0.43238893 .. 0.07714152</td><td>-0.024124824 .. -0.005638472</td><td>2.5192165e-07 .. 4.9804896e-07</td><td>3.070332e-05 .. 0.8028418</td><td>0.024668738</td><td>0.0852406</td><td>0.021334123</td><td>1573399200.0</td><td>79.96614074707031</td><td>90.70097351074219</td><td>9 .. 10</td><td>0.15507016 .. 0.0</td><td>454.9598 .. 0.0</td><td>-0.006260235 .. -0.12462888</td><td>0.00027153647 .. -0.03455963</td><td>0.9875458 .. 0.7709587</td><td>88.75818 .. -82.25064</td><td>3.430186 .. 138.60387</td><td>8.568999 .. 0.018438479</td><td>0.4591055 .. 31.897715</td><td>115.09581 .. 0.68231297</td><td>0.76752096</td><td>161.0622</td><td>0.5954031</td><td>162.72363</td><td>3.9660065 .. 113.676796</td><td>6.9698696 .. 0.10624967</td><td>0.88311815</td><td>0.45403665</td><td>163.90436</td><td>0.04256475 .. 0.012925059</td><td>0.2935813 .. -0.043825477</td><td>0 .. 0</td><td>0</td><td>33</td><td>v2_1_13</td><td>0.22341923 .. 258.39</td><td>4.7698913</td><td>2.278736</td><td>5.1779103</td><td>2.8177862</td><td>266</td><td>6</td><td>51630</td><td>146.63164771049065</td><td>-0.9882588093923149</td><td>0.0</td><td>sdss</td><td>legacy</td><td>good</td><td>122</td><td>146.63167</td><td>-0.98827781</td><td>0.5954031</td><td>162.72362</td><td>73.537186</td><td>0.70116085</td><td>5.5319614</td><td>2.7789824</td><td>6.0893784</td><td>5.5319614</td><td>4.895678 .. 115.44117</td><td>7.500193 .. 0.022838634</td><td>4.4029393 .. 2.9222565</td><td>9.300362 .. 6.7642803</td><td>1.0013566</td><td>1.108137 .. 1.0008979</td><td>1.0882177 .. 1.0029837</td><td>7.290686 .. 119.45858</td><td>2.7185972 .. 0.01730672</td><td>1</td><td>6.974619 .. 122.09129</td><td>-15.660282 .. -18.744165</td><td>122.58378 .. 209.5081</td><td>-0.046333067 .. 0.001428483</td><td>5.522025e-11 .. 1.388793e-07</td><td>1788938800.0</td><td>2.9459869e-05 .. 0.8742925</td><td>0.006104483</td><td>0.057695847</td><td>0.021391599</td><td>0.0</td><td>1.7119742929935455</td><td>0.5155415460467339</td><td>2.713152766227722</td><td>4000001</td><td>-99</td><td>-99.0</td><td>-99.0</td><td>-99.0</td><td>-99.0</td><td>-99.0</td><td>nan</td><td>nan</td><td>nan</td><td>nan</td><td>nan</td><td>nan</td><td>nan</td><td>nan</td><td>nan</td><td>nan</td><td>nan</td><td>nan</td><td>nan</td><td>nan</td><td>nan</td><td>nan</td><td>nan</td><td>nan</td><td>9</td><td>2</td></tr>\n",
       "<tr><td>J094744.18-004013.4</td><td>09h/m00/J094744.18-004013.4</td><td>146.9341288729797</td><td>-0.6704053610430766</td><td>3</td><td>-1</td><td>-1</td><td>-1</td><td>-1</td><td>-1</td><td>17.660961</td><td>0.121270485</td><td>sdss</td><td>0.035120796</td><td>1239</td><td>2</td><td>177</td><td>301</td><td>1596.5807</td><td>1332.545</td><td>3</td><td>0.1206503</td><td>0.59546506 .. 578.8718</td><td>9.035561 .. 0.0035411348</td><td>1</td><td>0.7218249 .. 553.9784</td><td>-14.764457 .. -22.449923</td><td>2.7178097 .. 1006.60394</td><td>0.7170526 .. 0.12792772</td><td>-0.1506549 .. 0.06549595</td><td>1.19462175e-05 .. 1.7515072e-08</td><td>0.002110761 .. 1.223524</td><td>0.00011213933</td><td>0.09278005</td><td>0.025959628</td><td>71169860000.0</td><td>137.42404174804688</td><td>125.49797058105469</td><td>8 .. 11</td><td>0.003647356 .. 0.0</td><td>8113.7544 .. 0.0</td><td>-0.19626419 .. -0.055742305</td><td>-0.030730866 .. 0.05399963</td><td>0.668536 .. 0.85596067</td><td>-85.55046 .. 67.95488</td><td>0.20122944 .. 426.2722</td><td>17.745825 .. 0.012332003</td><td>0.034221034 .. 143.77124</td><td>967.08167 .. 0.45689023</td><td>0.86656487</td><td>143.07059</td><td>0.8717792</td><td>137.78821</td><td>0.30763465 .. 533.8403</td><td>34.00086 .. 0.044268627</td><td>6.0</td><td>0.9274694</td><td>151.60822</td><td>-0.948365 .. -0.035975456</td><td>0.03786385 .. -0.040295005</td><td>0 .. 0</td><td>0</td><td>10</td><td>v2_1_13</td><td>0.22341923 .. 258.39</td><td>6.243227</td><td>2.6551907</td><td>9.177605</td><td>2.3659685</td><td>266</td><td>11</td><td>51630</td><td>146.93412051706812</td><td>-0.6704051378070931</td><td>0.0</td><td>sdss</td><td>legacy</td><td>good</td><td>122</td><td>146.9341</td><td>-0.67040397</td><td>0.8717792</td><td>137.78822</td><td>188.01964</td><td>0.0045111887</td><td>6.0937533</td><td>2.5156991</td><td>8.819097</td><td>6.0937533</td><td>0.17188334 .. 430.66693</td><td>17.761442 .. 0.014656738</td><td>2.0069053 .. 2.448878</td><td>5.1804347 .. 8.978253</td><td>1.000473</td><td>1.0810981 .. 1.0031528</td><td>1.0690908 .. 1.0021293</td><td>0.33270153 .. 466.9954</td><td>4.7372575 .. 0.0040530795</td><td>1</td><td>0.3503071 .. 468.5555</td><td>-14.501482 .. -22.221018</td><td>0.44482368 .. 749.82794</td><td>0.21837461 .. 0.069767624</td><td>1.23576565e-05 .. 9.264894e-12</td><td>57484075000.0</td><td>0.0025006996 .. 1.1638231</td><td>4.5900248e-07</td><td>0.124371074</td><td>0.027231464</td><td>1.0</td><td>3.0934733152389526</td><td>1.1193519085645676</td><td>5.987549424171448</td><td>180235</td><td>1</td><td>1.0</td><td>-0.008</td><td>0.297</td><td>2.798</td><td>16.643</td><td>-1.0</td><td>-0.5</td><td>-11.71275806427002</td><td>nan</td><td>nan</td><td>nan</td><td>nan</td><td>nan</td><td>nan</td><td>nan</td><td>nan</td><td>nan</td><td>nan</td><td>nan</td><td>nan</td><td>nan</td><td>nan</td><td>0.0</td><td>2</td><td>9</td></tr>\n",
       "<tr><td>J094751.74-003242.0</td><td>09h/m00/J094751.74-003242.0</td><td>146.9634997327016</td><td>-0.5447758299302171</td><td>4</td><td>-1</td><td>-1</td><td>-1</td><td>-1</td><td>-1</td><td>17.616278</td><td>0.055980586</td><td>sdss</td><td>0.069483906</td><td>756</td><td>2</td><td>208</td><td>301</td><td>832.6433</td><td>656.1359</td><td>4</td><td>0.05536205</td><td>0.7154174 .. 211.616</td><td>3.600482 .. 0.014102565</td><td>1</td><td>0.37144002 .. 225.01274</td><td>-13.724207 .. -19.51415</td><td>1.5632591 .. 535.7306</td><td>0.94210875 .. 0.16807947</td><td>0.3981669 .. 0.010639639</td><td>1.8537781e-09 .. 6.416469e-19</td><td>0.0008305247 .. 1.0635056</td><td>6.856937e-11</td><td>0.028299168</td><td>0.021570811</td><td>4601116000.0</td><td>106.61283874511719</td><td>109.63866424560547</td><td>10 .. 11</td><td>-0.0007803262 .. 0.0</td><td>4345.746 .. 0.0</td><td>1.0194967 .. -0.04170214</td><td>-0.01024972 .. -0.19242804</td><td>-0.009680829 .. 0.6709904</td><td>-0.28800777 .. -51.113895</td><td>0.641641 .. 180.71252</td><td>8.058507 .. 0.0057766167</td><td>0.006776376 .. 19.828875</td><td>605.97186 .. 0.76043653</td><td>0.7563008</td><td>146.59833</td><td>0.5640161</td><td>139.09671</td><td>0.3004111 .. 188.06877</td><td>20.470825 .. 0.034479737</td><td>0.5</td><td>0.46315262</td><td>135.73392</td><td>-1.2211314 .. 0.09449971</td><td>-0.6252341 .. 0.07285082</td><td>0 .. 0</td><td>0</td><td>30</td><td>v2_1_13</td><td>0.22341923 .. 258.39</td><td>8.891541</td><td>4.383704</td><td>10.253274</td><td>5.9572287</td><td>266</td><td>12</td><td>51630</td><td>146.96560224016943</td><td>-0.5450110833644051</td><td>0.0</td><td>sdss</td><td>legacy</td><td>good</td><td>122</td><td>146.9639</td><td>-0.54500256</td><td>0.5640161</td><td>139.09673</td><td>101.91166</td><td>0.24633221</td><td>10.235785</td><td>5.6257644</td><td>10.441939</td><td>10.235785</td><td>0.578448 .. 197.53346</td><td>9.235534 .. 0.0076996405</td><td>9.599341 .. 5.6851897</td><td>14.973279 .. 11.595498</td><td>0.999509</td><td>1.0575701 .. 1.0006093</td><td>1.0556166 .. 1.0001466</td><td>1.3775514 .. 222.26572</td><td>1.6216505 .. 0.004946779</td><td>1</td><td>0.3789356 .. 240.93816</td><td>-14.453494 .. -19.579548</td><td>2.6105032 .. 207.30931</td><td>0.416085 .. 0.022728156</td><td>3.6889899e-06 .. 1.2268236e-16</td><td>4724134000.0</td><td>0.00082218135 .. 1.0084745</td><td>1.2681366e-10</td><td>0.11364883</td><td>0.025576953</td><td>1.0</td><td>2.044341266155243</td><td>0.7173917442560196</td><td>5.40194034576416</td><td>4000002</td><td>-99</td><td>-99.0</td><td>-99.0</td><td>-99.0</td><td>-99.0</td><td>-99.0</td><td>nan</td><td>nan</td><td>nan</td><td>nan</td><td>nan</td><td>nan</td><td>nan</td><td>nan</td><td>nan</td><td>nan</td><td>nan</td><td>nan</td><td>nan</td><td>nan</td><td>nan</td><td>nan</td><td>nan</td><td>nan</td><td>2</td><td>2</td></tr>\n",
       "</table></div>"
      ],
      "text/plain": [
       "<Table length=5>\n",
       "      IAUNAME                  SUBDIR                   RA                 DEC         ISDSS  INED ISIXDF IALFALFA IZCAT ITWODF    MAG    ...  logNO   NOerr  Ne12logNeH  NeHerr  logNeO  NeOerr      Z_N2O2       vorvol vflag_V2 vflag_VF\n",
       "       str19                   str27                 float64             float64       int32 int32 int32   int32   int32 int32   float32  ... float64 float64  float64   float64 float64 float64     float64      float64  int64    int64  \n",
       "------------------- --------------------------- ------------------ ------------------- ----- ----- ------ -------- ----- ------ --------- ... ------- ------- ---------- ------- ------- ------- ---------------- ------- -------- --------\n",
       "J094651.40-010228.5 09h/m00/J094651.40-010228.5   146.714215072841 -1.0412800233313741     0 72212  37354       -1    -1     -1 15.178774 ...     nan     nan        nan     nan     nan     nan              nan     nan        9        9\n",
       "J094630.85-004554.5 09h/m00/J094630.85-004554.5  146.6285851269414 -0.7651620976591762     1    -1     -1       -1    -1     -1 17.318521 ...     nan     nan        nan     nan     nan     nan 9.48280122055993     0.0        2        2\n",
       "J094631.59-005917.7 09h/m00/J094631.59-005917.7 146.63170644325592 -0.9883467023052999     2 72132     -1       -1    -1     -1 18.123354 ...     nan     nan        nan     nan     nan     nan              nan     nan        9        2\n",
       "J094744.18-004013.4 09h/m00/J094744.18-004013.4  146.9341288729797 -0.6704053610430766     3    -1     -1       -1    -1     -1 17.660961 ...     nan     nan        nan     nan     nan     nan              nan     0.0        2        9\n",
       "J094751.74-003242.0 09h/m00/J094751.74-003242.0  146.9634997327016 -0.5447758299302171     4    -1     -1       -1    -1     -1 17.616278 ...     nan     nan        nan     nan     nan     nan              nan     nan        2        2"
      ]
     },
     "execution_count": 30,
     "metadata": {},
     "output_type": "execute_result"
    }
   ],
   "source": [
    "data[:5]"
   ]
  },
  {
   "cell_type": "markdown",
   "metadata": {},
   "source": [
    "### Check"
   ]
  },
  {
   "cell_type": "code",
   "execution_count": null,
   "metadata": {},
   "outputs": [],
   "source": [
    "#len(out_gal_vf)+len(edge_gal_vf)+len(wall_gal_vf)+len(void_gal_vf) == len(data_voidfinder)"
   ]
  },
  {
   "cell_type": "markdown",
   "metadata": {},
   "source": [
    "### add flag columns and save file"
   ]
  },
  {
   "cell_type": "code",
   "execution_count": null,
   "metadata": {},
   "outputs": [],
   "source": [
    "'''\n",
    "flag_vsquared=[] # checks all galaxies in each statement as a double check for any overlaps\n",
    "for i in range(len(data)):\n",
    "    if i in wall_gal:\n",
    "        flag_vsquared.append(0)\n",
    "    if i in void_gal:\n",
    "        flag_vsquared.append(1)\n",
    "    if i in edge_gal:\n",
    "        flag_vsquared.append(2)\n",
    "    if i in out_gal:\n",
    "        flag_vsquared.append(9)\n",
    "    \n",
    "# flag_vsquared_vf=[]\n",
    "# for i in range(len(data)):\n",
    "#     if i in wall_gal_vf:\n",
    "#         flag_vsquared_vf.append(0)\n",
    "#     if i in void_gal_vf:\n",
    "#         flag_vsquared_vf.append(1)\n",
    "#     if i in edge_gal_vf:\n",
    "#         flag_vsquared_vf.append(2)\n",
    "#     if i in out_gal_vf:\n",
    "#         flag_vsquared_vf.append(9)\n",
    "        \n",
    "print(len(flag_vsquared),len(flag_vsquared_vf), len(data)) #check\n",
    "'''"
   ]
  },
  {
   "cell_type": "code",
   "execution_count": 32,
   "metadata": {},
   "outputs": [],
   "source": [
    "'''\n",
    "flags_table = Table([flag_vsquared_vf,flag_vsquared], names=('flag_voidfinder', 'flag_vsquared'))\n",
    "\n",
    "data.add_columns(flags_table.columns.values())\n",
    "\n",
    "ascii.write(data, 'data_flags_updated_Nov1.dat')\n",
    "'''\n",
    "data.write('../../../../data/NSA_v1_0_1_VAGC_vflag-V2-VF.fits', format='fits')"
   ]
  },
  {
   "cell_type": "code",
   "execution_count": null,
   "metadata": {},
   "outputs": [],
   "source": []
  }
 ],
 "metadata": {
  "kernelspec": {
   "display_name": "Python 3 (ipykernel)",
   "language": "python",
   "name": "python3"
  },
  "language_info": {
   "codemirror_mode": {
    "name": "ipython",
    "version": 3
   },
   "file_extension": ".py",
   "mimetype": "text/x-python",
   "name": "python",
   "nbconvert_exporter": "python",
   "pygments_lexer": "ipython3",
   "version": "3.8.12"
  },
  "toc": {
   "base_numbering": 1,
   "nav_menu": {},
   "number_sections": true,
   "sideBar": true,
   "skip_h1_title": false,
   "title_cell": "Table of Contents",
   "title_sidebar": "Contents",
   "toc_cell": false,
   "toc_position": {},
   "toc_section_display": true,
   "toc_window_display": false
  }
 },
 "nbformat": 4,
 "nbformat_minor": 4
}
