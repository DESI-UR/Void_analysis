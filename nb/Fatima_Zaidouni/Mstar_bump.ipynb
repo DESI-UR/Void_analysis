{
 "cells": [
  {
   "cell_type": "markdown",
   "id": "d64b383b",
   "metadata": {},
   "source": [
    "This notebook was originally part of `galaxy properties by environment-updated.ipynb` and studies what is going on with the bump that we observe for faint objects in the $V^2$ wall distribution."
   ]
  },
  {
   "cell_type": "code",
   "execution_count": 1,
   "id": "188edb54",
   "metadata": {},
   "outputs": [],
   "source": [
    "import numpy as np\n",
    "\n",
    "from astropy.table import Table\n",
    "from astropy.io import fits\n",
    "\n",
    "from sklearn.neighbors import NearestNeighbors\n",
    "\n",
    "import matplotlib\n",
    "import matplotlib.pyplot as plt\n",
    "from matplotlib import ticker\n",
    "%matplotlib notebook"
   ]
  },
  {
   "cell_type": "markdown",
   "id": "17dcff7d",
   "metadata": {},
   "source": [
    "# Data"
   ]
  },
  {
   "cell_type": "code",
   "execution_count": 2,
   "id": "f26c9f3b",
   "metadata": {},
   "outputs": [],
   "source": [
    "#data_filename = 'data_flags_updated_Nov1.dat'\n",
    "data_filename = '../../../../data/NSA_v1_0_1_VAGC_vflag-V2-VF.fits'\n",
    "\n",
    "#catalog_SDSS = Table.read(data_filename, format='ascii')\n",
    "hdu = fits.open(data_filename)\n",
    "data = Table(hdu[1].data)\n",
    "hdu.close()"
   ]
  },
  {
   "cell_type": "markdown",
   "id": "44595ef1",
   "metadata": {},
   "source": [
    "## Keep the main SDSS footprint"
   ]
  },
  {
   "cell_type": "code",
   "execution_count": 3,
   "id": "c47c53fc",
   "metadata": {},
   "outputs": [],
   "source": [
    "# When the catalog is the NSA, only keep those objects which were originally in the DR7 LSS\n",
    "catalog_SDSS = data[data['IN_DR7_LSS'] == 1]\n",
    "\n",
    "ra_boolean = np.logical_and(catalog_SDSS['RA'] > 110, catalog_SDSS['RA'] < 270)\n",
    "catalog_north = catalog_SDSS[ra_boolean]\n",
    "\n",
    "strip_boolean = np.logical_and.reduce([catalog_north['RA'] > 250, \n",
    "                                       catalog_north['RA'] < 269, \n",
    "                                       catalog_north['DEC'] > 51, \n",
    "                                       catalog_north['DEC'] < 67])\n",
    "catalog_main = catalog_north[~strip_boolean]"
   ]
  },
  {
   "cell_type": "markdown",
   "id": "0ce97f0a",
   "metadata": {},
   "source": [
    "# What is up with the bump that we see in the $M_*$ distribution?"
   ]
  },
  {
   "cell_type": "code",
   "execution_count": null,
   "id": "2b1ab766",
   "metadata": {},
   "outputs": [],
   "source": [
    "all_survey = data[data['redshift'] < 0.1026]  # galaxies within the redshift cut\n",
    "\n",
    "glx_excess= np.logical_and(all_survey['rabsmag']>-18.2,all_survey['rabsmag']<-16.8)\n",
    "\n",
    "wall_vf_excess = np.logical_and(np.logical_and(all_survey['rabsmag']>-18.2,all_survey['rabsmag']<-16.8), all_survey['flag_voidfinder'] == 0)\n",
    "# void_vf_excess = np.logical_and(np.logical_and(all_survey['rabsmag']>-18.2,all_survey['rabsmag']<-16.8), all_survey['flag_voidfinder'] == 1)\n",
    "wall_v2_range = np.logical_and(np.logical_and(all_survey['rabsmag']>b,all_survey['rabsmag']<a), all_survey['flag_vsquared'] == 0)\n",
    "    \n",
    "wall_v2_excess = np.logical_and(np.logical_and(all_survey['rabsmag']>-18.2,all_survey['rabsmag']<-16.8), all_survey['flag_vsquared'] == 0)\n",
    "void_v2_excess = np.logical_and(np.logical_and(all_survey['rabsmag']>-18.2,all_survey['rabsmag']<-16.8), all_survey['flag_vsquared'] == 1)\n",
    "    \n",
    "wall_v2_bool= (all_survey['flag_vsquared'] == 0)"
   ]
  },
  {
   "cell_type": "markdown",
   "id": "2a90ce40",
   "metadata": {},
   "source": [
    "##### Nearest Neighbours"
   ]
  },
  {
   "cell_type": "code",
   "execution_count": null,
   "id": "b7ad775c",
   "metadata": {},
   "outputs": [],
   "source": [
    "# wall_v2_range = np.logical_and(np.logical_and(all_survey['rabsmag']>b,all_survey['rabsmag']<a), all_survey['flag_vsquared'] == 0)\n",
    "#     void_v2_rand = np.logical_and(np.logical_and(all_survey['rabsmag']>b,all_survey['rabsmag']<a), all_survey['flag_vsquared'] == 1)\n",
    "galaxy_table_wall_v2=all_survey[wall_v2_bool]\n",
    "galaxy_table_wall_v2_xyz=ra_dec_z_to_xyz(galaxy_table_wall_v2)\n",
    "\n",
    "X1 = galaxy_table_wall_v2_xyz\n",
    "Y1= galaxy_table_wall_v2_xyz\n",
    "nbrs = NearestNeighbors(n_neighbors=2, algorithm='ball_tree').fit(X1)\n",
    "distances, indices = nbrs.kneighbors(Y1)\n",
    "distances_wall_v2=distances[:,1]"
   ]
  },
  {
   "cell_type": "code",
   "execution_count": null,
   "id": "c3cf0ede",
   "metadata": {},
   "outputs": [],
   "source": [
    "plt.figure(figsize=(12,7))\n",
    "\n",
    "plt.scatter(all_survey[wall_v2_bool]['rabsmag'],distances_wall_v2,alpha=0.1, s=1, color=\"g\") # void vf\n",
    "plt.ylim(0,12)\n",
    "plt.xlim(-10,-24)\n",
    "plt.xlabel(\"absolute magnitude\", fontsize=14)\n",
    "plt.title(\"WALL V2\")\n",
    "plt.ylabel(\"distance to nearest neighbor\", fontsize=14);\n",
    "# the deeper objects are brighter"
   ]
  },
  {
   "cell_type": "code",
   "execution_count": null,
   "id": "685048b1",
   "metadata": {},
   "outputs": [],
   "source": [
    "# ## x y z radius flag r ra dec\n",
    "# maximal_=np.loadtxt('ALL_comoving_maximal.txt')"
   ]
  },
  {
   "cell_type": "code",
   "execution_count": null,
   "id": "1db9d480",
   "metadata": {},
   "outputs": [],
   "source": [
    "# ra_maximal=maximal_[:,6]\n",
    "# dec_maximal=maximal_[:,7]\n",
    "# r_maximal=maximal_[:,5]"
   ]
  },
  {
   "cell_type": "code",
   "execution_count": null,
   "id": "cf5d429f",
   "metadata": {},
   "outputs": [],
   "source": [
    "# c = 299792\n",
    "# def f(a,omega_m):\n",
    "#      return 1/(np.sqrt(a*omega_m*(1+((1-omega_m)*a**3/omega_m))))\n",
    "\n",
    "# def Distance(z,omega_m,h):\n",
    "#     dist = np.ones(len(z))\n",
    "#     H0 = 100*h\n",
    "#     for i,redshift in enumerate(z):\n",
    "#         a_start = 1/(1+redshift)\n",
    "#         I = quad(f,a_start,1,args=omega_m)\n",
    "#         dist[i] = I[0]*(c/H0)\n",
    "#     return dist"
   ]
  },
  {
   "cell_type": "code",
   "execution_count": null,
   "id": "79f8f88f",
   "metadata": {},
   "outputs": [],
   "source": [
    "a_=[]\n",
    "b_=[]\n",
    "for i in [-13,-14,-15,-16,-17,-18,-19,-20,-21,-22]:\n",
    "    a = i#np.random.uniform(-22+(18.2-16.8),-16+(18.2-16.8))\n",
    "    b = a-(18.2-16.8)\n",
    "    a_.append(a)\n",
    "    b_.append(b)\n",
    "    \n",
    "#     wall_vf_rand = np.logical_and(np.logical_and(all_survey['rabsmag']>b,all_survey['rabsmag']<a), all_survey['flag_voidfinder'] == 0)\n",
    "#     void_vf_rand = np.logical_and(np.logical_and(all_survey['rabsmag']>b,all_survey['rabsmag']<a), all_survey['flag_voidfinder'] == 1)\n",
    "def range_neig(a,b):\n",
    "    wall_v2_range = np.logical_and(np.logical_and(all_survey['rabsmag']>b,all_survey['rabsmag']<a), all_survey['flag_vsquared'] == 0)\n",
    "#     void_v2_rand = np.logical_and(np.logical_and(all_survey['rabsmag']>b,all_survey['rabsmag']<a), all_survey['flag_vsquared'] == 1)\n",
    "    galaxy_table_range_wall_v2=all_survey[wall_v2_range]\n",
    "    galaxy_table_range_wall_v2_xyz=ra_dec_z_to_xyz(galaxy_table_range_wall_v2)\n",
    "    \n",
    "    X1 = galaxy_table_wall_v2_xyz # all wall galaxies\n",
    "    Y1= galaxy_table_range_wall_v2_xyz \n",
    "    nbrs = NearestNeighbors(n_neighbors=2, algorithm='ball_tree').fit(X1)\n",
    "    distances, indices = nbrs.kneighbors(Y1)\n",
    "    distances_range=distances[:,1]\n",
    "    return distances_range\n",
    "\n",
    "plt.figure(figsize=(20,14))\n",
    "for i in range(len(a_)):\n",
    "    plt.hist(range_neig(a_[i],b_[i]), bins=50, density=True, label=str((a_[i],b_[i])), histtype='step')\n",
    "# plt.hist(range_neig(a_[-1],b_[-1]), bins=200, density=True, label=str((a,b)), histtype='step')\n",
    "# plt.hist(distances_range, bins=500, density=True, label=str((a,b)), histtype='step')\n",
    "# plt.hist(distances_range, bins=500, density=True, label=str((a,b)), histtype='step')\n",
    "# plt.hist(distances_range, bins=500, density=True, label=str((a,b)), histtype='step')\n",
    "# plt.hist(distances_range, bins=500, density=True, label=str((a,b)), histtype='step')\n",
    "# plt.hist(distances_range, bins=500, density=True, label=str((a,b)), histtype='step')\n",
    "# plt.hist(distances_range, bins=500, density=True, label=str((a,b)), histtype='step')\n",
    "# plt.hist(distances_range, bins=500, density=True, label=str((a,b)), histtype='step')\n",
    "#     plt.hist(distances_excess, bins=100,density=True, alpha=0.5, label=\"excess\")\n",
    "plt.xlim(0,4)\n",
    "plt.legend();\n",
    "\n",
    "#     plt.scatter(np.array(all_survey[void_v2_rand]['ra']),np.array(all_survey[void_v2_rand]['dec']))\n",
    "#     plt.title(str((a,b))+\"  V2 void\" )\n",
    "#     plt.xlabel(\"ra\")\n",
    "#     plt.ylabel(\"dec\")\n",
    "# #     plt.xlim(-10,370)\n",
    "# #     plt.ylim(-30,85)\n",
    "#     plt.show()\n",
    "#     plt.hist(np.array(all_survey[void_v2_rand]['redshift']))\n",
    "# #     plt.xlim(0,0.1026)\n",
    "#     plt.xlabel(\"redshift\"+str((a,b)))\n",
    "#     plt.ylabel(\"count\");"
   ]
  },
  {
   "cell_type": "code",
   "execution_count": null,
   "id": "7ede84e1",
   "metadata": {},
   "outputs": [],
   "source": [
    "# ind_gal_depth_voidv2_new = np.load('galaxy_in_maximal_indices', allow_pickle=True)"
   ]
  },
  {
   "cell_type": "markdown",
   "id": "2ff22014",
   "metadata": {},
   "source": [
    "## Bump depths"
   ]
  },
  {
   "cell_type": "code",
   "execution_count": null,
   "id": "36f1142a",
   "metadata": {},
   "outputs": [],
   "source": [
    "ind_gal_depth_voidv2_new = np.load('ind_gal_depth_voidv2_equal_slices.npy', allow_pickle=True)"
   ]
  },
  {
   "cell_type": "code",
   "execution_count": null,
   "id": "32271a95",
   "metadata": {},
   "outputs": [],
   "source": [
    "np.sum(wall_v2_bool), np.sum(wall_v2_excess)"
   ]
  },
  {
   "cell_type": "markdown",
   "id": "e75d99a2",
   "metadata": {},
   "source": [
    "### Save excess range for visualization"
   ]
  },
  {
   "cell_type": "code",
   "execution_count": null,
   "id": "f2940f58",
   "metadata": {},
   "outputs": [],
   "source": [
    "ra_excess=np.array(all_survey[wall_v2_bool]['ra'])\n",
    "redshift_excess=np.array(all_survey[wall_v2_bool]['redshift'])\n",
    "dec_excess=np.array(all_survey[wall_v2_bool]['dec'])\n",
    "Rgal_excess=np.array(all_survey[wall_v2_bool]['Rgal'])\n",
    "rabsmag_excess=np.array(all_survey[wall_v2_bool]['rabsmag'])"
   ]
  },
  {
   "cell_type": "code",
   "execution_count": null,
   "id": "674087cc",
   "metadata": {},
   "outputs": [],
   "source": [
    "galaxies_excess_table = Table([ra_excess,dec_excess,redshift_excess,Rgal_excess,rabsmag_excess], \n",
    "                              names=('ra','dec','redshift','Rgal','rabsmag'))\n",
    "galaxies_excess_table.write('wall_v2_bool.dat', format='ascii.commented_header', overwrite=True)  "
   ]
  },
  {
   "cell_type": "markdown",
   "id": "3fa7f771",
   "metadata": {},
   "source": [
    "### Nearest distance of excess range"
   ]
  },
  {
   "cell_type": "code",
   "execution_count": null,
   "id": "e81059a0",
   "metadata": {},
   "outputs": [],
   "source": [
    "galaxy_table_excess_wall_v2=all_survey[wall_v2_excess]\n",
    "galaxy_table_wall_v2=all_survey[wall_v2_bool]\n",
    "galaxy_table_range_wall_v2=all_survey[wall_v2_range]"
   ]
  },
  {
   "cell_type": "code",
   "execution_count": null,
   "id": "ca3b375e",
   "metadata": {},
   "outputs": [],
   "source": [
    "def ra_dec_z_to_xyz(galaxy_table):\n",
    "    h=1\n",
    "    DtoR = np.pi/180.\n",
    "    RtoD = 180./np.pi\n",
    "    c = 3e5\n",
    "\n",
    "    r_gal = c*galaxy_table['redshift'].data/(100*h)\n",
    "    ra = galaxy_table['ra'].data\n",
    "    dec = galaxy_table['dec'].data\n",
    "    \n",
    "    ra_radian = ra*DtoR\n",
    "\n",
    "    dec_radian = dec*DtoR\n",
    "\n",
    "    x_gal = r_gal*np.cos(ra_radian)*np.cos(dec_radian)\n",
    "\n",
    "    y_gal = r_gal*np.sin(ra_radian)*np.cos(dec_radian)\n",
    "\n",
    "    z_gal = r_gal*np.sin(dec_radian)\n",
    "\n",
    "    num_gal = x_gal.shape[0]\n",
    "\n",
    "    gals_xyz = np.concatenate((x_gal.reshape(num_gal,1),\n",
    "                               y_gal.reshape(num_gal,1),\n",
    "                               z_gal.reshape(num_gal,1)), \n",
    "                              axis=1)\n",
    "    return gals_xyz"
   ]
  },
  {
   "cell_type": "code",
   "execution_count": null,
   "id": "7508cf0f",
   "metadata": {},
   "outputs": [],
   "source": [
    "galaxy_table_excess_wall_v2_xyz=ra_dec_z_to_xyz(galaxy_table_excess_wall_v2)\n",
    "galaxy_table_wall_v2_xyz=ra_dec_z_to_xyz(galaxy_table_wall_v2)\n",
    "galaxy_table_range_wall_v2_xyz=ra_dec_z_to_xyz(galaxy_table_range_wall_v2)"
   ]
  },
  {
   "cell_type": "code",
   "execution_count": null,
   "id": "0611bc98",
   "metadata": {},
   "outputs": [],
   "source": [
    "# tree = neighbors.KDTree(gals_xyz, metric = 'euclidean')\n",
    "# ind =  tree.query_radius(gals_xyz_all, r =i*radius_voidv2)"
   ]
  },
  {
   "cell_type": "code",
   "execution_count": null,
   "id": "91eada66",
   "metadata": {},
   "outputs": [],
   "source": [
    "X1 = galaxy_table_wall_v2_xyz # all wall galaxies\n",
    "Y1= galaxy_table_range_wall_v2_xyz \n",
    "nbrs = NearestNeighbors(n_neighbors=2, algorithm='ball_tree').fit(X1)\n",
    "distances, indices = nbrs.kneighbors(Y1)\n",
    "distances_range=distances[:,1]"
   ]
  },
  {
   "cell_type": "code",
   "execution_count": null,
   "id": "ad2d6075",
   "metadata": {},
   "outputs": [],
   "source": [
    "X = galaxy_table_wall_v2_xyz # all wall galaxies\n",
    "Y= galaxy_table_excess_wall_v2_xyz # excess galaxies\n",
    "nbrs = NearestNeighbors(n_neighbors=2, algorithm='ball_tree').fit(X)\n",
    "distances, indices = nbrs.kneighbors(Y)\n",
    "distances_excess=distances[:,1]"
   ]
  },
  {
   "cell_type": "code",
   "execution_count": null,
   "id": "87732412",
   "metadata": {},
   "outputs": [],
   "source": [
    "plt.figure(figsize=(15,8))\n",
    "plt.hist(distances_range, bins=1000, density=True, label=\"random\")\n",
    "plt.hist(distances_excess, bins=100,density=True, alpha=0.5, label=\"excess\")\n",
    "plt.legend();"
   ]
  },
  {
   "cell_type": "code",
   "execution_count": null,
   "id": "8aa0a656",
   "metadata": {},
   "outputs": [],
   "source": [
    "# this finds the the closest neighbours from X to Y and their distances.\n",
    "X = [[0,0],[1,1]]\n",
    "Y=[[0,2],[0,1],[5,0],[0.9,1],[1,1]] \n",
    "nbrs = NearestNeighbors(n_neighbors=1, algorithm='ball_tree').fit(X)\n",
    "distances, indices = nbrs.kneighbors(Y)\n",
    "distances"
   ]
  },
  {
   "cell_type": "code",
   "execution_count": null,
   "id": "2af814cc",
   "metadata": {},
   "outputs": [],
   "source": [
    "indices"
   ]
  },
  {
   "cell_type": "code",
   "execution_count": null,
   "id": "b5894924",
   "metadata": {},
   "outputs": [],
   "source": [
    "trial = [[0,0,0],[1,1,1]]\n",
    "trial_test = [[0,0,2],[0,5,0],[5,1,0],[5,0,0]] \n",
    "trial = np.array(trial)\n",
    "trial_test = np.array(trial_test)\n",
    "\n",
    "tree = neighbors.KDTree(trial, metric = 'euclidean')\n",
    "ind =  tree.query_radius(trial_test, r =5)\n",
    "# print(\"distance to closest neighbour is: \", dist) # distance between entry of trial_test and closest neighbour in trial\n",
    "print(\"index of closest neighbour\", ind) # indices from trial that are within radius r of entry in trial_test"
   ]
  },
  {
   "cell_type": "markdown",
   "id": "fba27db9",
   "metadata": {},
   "source": [
    "### back to bump"
   ]
  },
  {
   "cell_type": "code",
   "execution_count": null,
   "id": "1f03742a",
   "metadata": {},
   "outputs": [],
   "source": [
    "hd = fits.open('galdepth10.fits', format='ascii')\n",
    "new_depths = Table(hd[1].data) # depth_norm : 0 at the edge of a void to 1 at the deepest.\n",
    "gal_depth = new_depths['GAL_ID'][(new_depths['DEPTH_NORM'] != -1)]\n",
    "norm_depth = new_depths['DEPTH_NORM'][(new_depths['DEPTH_NORM'] != -1)]"
   ]
  },
  {
   "cell_type": "code",
   "execution_count": null,
   "id": "4f8e58a1",
   "metadata": {},
   "outputs": [],
   "source": [
    "plt.hist(new_depths[data['redshift']< 0.1026]['DEPTH_NORM'][void_vf_excess],bins=np.linspace(0,1, 40), density=True, alpha = 0.5,color=\"red\", label=\"void VF out of void V2 sample\")\n",
    "plt.hist(new_depths[data['redshift']< 0.1026]['DEPTH_NORM'][wall_vf_excess],bins=np.linspace(0,1, 40), density=True, alpha = 0.5,color=\"black\", label=\"wall VF out of void V2 sample\")\n",
    "plt.legend();\n",
    "\n",
    "#     ax.hist(bins_wall[:-1], bins=bins_wall, weights=counts_wall, label = 'Wall' , color=color_wall, histtype='step',linestyle=('dashed'))"
   ]
  },
  {
   "cell_type": "code",
   "execution_count": null,
   "id": "6477555f",
   "metadata": {},
   "outputs": [],
   "source": [
    "plt.figure(figsize=(10,5))\n",
    "plt.hist(new_depths[data['redshift']< 0.1026]['DEPTH_NORM'], bins=np.linspace(0,1, 40), density=True, label=\"all V^2 void galaxies\", color='blue', alpha=0.8, histtype='step')\n",
    "plt.hist(new_depths[data['redshift']< 0.1026]['DEPTH_NORM'][void_v2_excess], bins=np.linspace(0,1, 40), density=True, alpha = 0.5,color=\"red\", label=\"V^2 void galaxies -18.2<M_abs<-16.8\", histtype='step')\n",
    "# plt.ylim(0,100000)\n",
    "\n",
    "plt.xlabel(\"normalized distance from edge\")\n",
    "plt.ylabel(\"normalized\")\n",
    "plt.legend(fontsize=14)\n",
    "plt.xlim(-0.05,1);"
   ]
  },
  {
   "cell_type": "markdown",
   "id": "505bc593",
   "metadata": {},
   "source": [
    "The $x$-axis is the closest distance from the position of the galaxy to the edge of the void which is defined as all of the Voronoi cell edges that make up the boundary between a cell inside the void and a cell outside of it.  Thus, 0 is at the edge and 1 is at the center.  The distance to the edge of each galaxy is normalized by the largest distance to the edge in the host void."
   ]
  },
  {
   "cell_type": "code",
   "execution_count": null,
   "id": "107fafc5",
   "metadata": {},
   "outputs": [],
   "source": [
    "plt.figure(figsize=(15,8))\n",
    "\n",
    "# plt.hist(new_depths[data['redshift']< 0.1026]['DEPTH_NORM'], bins=np.linspace(0,1, 40), density=True, label=\"all V^2 void galaxies\", color='cyan', alpha=0.8, histtype='step')\n",
    "# plt.hist(new_depths[data['redshift']< 0.1026]['DEPTH_NORM'][void_v2_excess], bins=np.linspace(0,1, 40), density=True, alpha = 0.5,color=\"orange\", label=\"V^2 void galaxies -18.2<M_abs<-16.8\", histtype='step')\n",
    "\n",
    "plt.hist(new_depths[data['redshift']< 0.1026]['DEPTH_NORM'][all_survey['flag_voidfinder'] == 1],bins=np.linspace(0,1, 40), density=True, alpha = 0.5,color=\"green\", label=\"void VF out of void V2 sample\",histtype='step')\n",
    "plt.hist(new_depths[data['redshift']< 0.1026]['DEPTH_NORM'][all_survey['flag_voidfinder'] == 0],bins=np.linspace(0,1, 40), density=True, alpha = 0.5,color=\"blue\", label=\"wall VF out of void V2 sample\",histtype='step')\n",
    "\n",
    "plt.hist(new_depths[data['redshift']< 0.1026]['DEPTH_NORM'][void_vf_excess],bins=np.linspace(0,1, 40), density=True, alpha = 0.5,color=\"red\", label=\"void VF out of void V2 sample -18.2<M_abs<-16.8\",histtype='step')\n",
    "plt.hist(new_depths[data['redshift']< 0.1026]['DEPTH_NORM'][wall_vf_excess],bins=np.linspace(0,1, 40), density=True, alpha = 0.5,color=\"black\", label=\"wall VF out of void V2 sample -18.2<M_abs<-16.8\",histtype='step')\n",
    "# plt.ylim(0,100000)\n",
    "\n",
    "plt.xlabel(\"normalized distance from edge\")\n",
    "plt.ylabel(\"normalized\")\n",
    "plt.legend(fontsize=14)\n",
    "plt.xlim(-0.05,1);"
   ]
  },
  {
   "cell_type": "code",
   "execution_count": null,
   "id": "00c80b77",
   "metadata": {},
   "outputs": [],
   "source": [
    "plt.figure(figsize=(15,8))\n",
    "\n",
    "# plt.hist(new_depths[data['redshift']< 0.1026]['DEPTH_NORM'], bins=np.linspace(0,1, 40), density=True, label=\"all V^2 void galaxies\", color='cyan', alpha=0.8, histtype='step')\n",
    "plt.hist(new_depths[data['redshift']< 0.1026]['DEPTH_NORM'][void_v2_excess], bins=np.linspace(0,1, 40), density=True, alpha = 0.5,color=\"orange\", label=\"V^2 void galaxies -18.2<M_abs<-16.8\", histtype='step')\n",
    "\n",
    "plt.hist(new_depths[data['redshift']< 0.1026]['DEPTH_NORM'][all_survey['flag_voidfinder'] == 1],bins=np.linspace(0,1, 40), density=True, alpha = 0.5,color=\"green\", label=\"void VF out of void V2 sample\",histtype='step')\n",
    "plt.hist(new_depths[data['redshift']< 0.1026]['DEPTH_NORM'][all_survey['flag_voidfinder'] == 0],bins=np.linspace(0,1, 40), density=True, alpha = 0.5,color=\"blue\", label=\"wall VF out of void V2 sample\",histtype='step')\n",
    "\n",
    "plt.hist(new_depths[data['redshift']< 0.1026]['DEPTH_NORM'][void_vf_excess],bins=np.linspace(0,1, 40), density=True, alpha = 0.5,color=\"red\", label=\"void VF out of void V2 sample -18.2<M_abs<-16.8\",histtype='step')\n",
    "# plt.hist(new_depths[data['redshift']< 0.1026]['DEPTH_NORM'][wall_vf_excess],bins=np.linspace(0,1, 40), density=True, alpha = 0.5,color=\"black\", label=\"wall VF out of void V2 sample -18.2<M_abs<-16.8\",histtype='step')\n",
    "# plt.ylim(0,100000)\n",
    "\n",
    "plt.xlabel(\"normalized distance from edge\")\n",
    "plt.ylabel(\"normalized\")\n",
    "plt.legend(fontsize=14)\n",
    "plt.xlim(-0.05,1);"
   ]
  },
  {
   "cell_type": "code",
   "execution_count": null,
   "id": "990d3b99",
   "metadata": {},
   "outputs": [],
   "source": [
    "# plt.figure(figsize=(15,8))\n",
    "\n",
    "# plt.hist(new_depths[data['redshift']< 0.1026]['DEPTH_NORM'], bins=np.linspace(0,1, 40), density=True, label=\"all V^2 void galaxies\", color='cyan', alpha=0.8, histtype='step')\n",
    "# plt.hist(new_depths[data['redshift']< 0.1026]['DEPTH_NORM'][void_v2_excess], bins=np.linspace(0,1, 40), density=True, alpha = 0.5,color=\"orange\", label=\"V^2 void galaxies -18.2<M_abs<-16.8\", histtype='step')\n",
    "\n",
    "# # plt.hist(new_depths[data['redshift']< 0.1026]['DEPTH_NORM'][all_survey['flag_voidfinder'] == 1],bins=np.linspace(0,1, 40), density=True, alpha = 0.5,color=\"green\", label=\"void VF out of void V2 sample\",histtype='step')\n",
    "# # plt.hist(new_depths[data['redshift']< 0.1026]['DEPTH_NORM'][all_survey['flag_voidfinder'] == 0],bins=np.linspace(0,1, 40), density=True, alpha = 0.5,color=\"blue\", label=\"wall VF out of void V2 sample\",histtype='step')\n",
    "\n",
    "# plt.hist(new_depths[data['redshift']< 0.1026]['DEPTH_NORM'][void_vf_excess],bins=np.linspace(0,1, 40), density=True, alpha = 0.1,color=\"red\", label=\"void VF out of void V2 sample -18.2<M_abs<-16.8\")\n",
    "# plt.hist(new_depths[data['redshift']< 0.1026]['DEPTH_NORM'][wall_vf_excess],bins=np.linspace(0,1, 40), density=True, alpha = 0.2,color=\"black\", label=\"wall VF out of void V2 sample -18.2<M_abs<-16.8\")\n",
    "# # plt.ylim(0,100000)\n",
    "\n",
    "# plt.xlabel(\"normalized distance from edge\")\n",
    "# plt.ylabel(\"normalized\")\n",
    "# plt.legend(fontsize=14)\n",
    "# plt.xlim(-0.05,1);"
   ]
  },
  {
   "cell_type": "markdown",
   "id": "16908029",
   "metadata": {},
   "source": [
    "Both $V^2$ voids are in the middle. void VF tend away from the edge and void wall tend towards the edge as expected."
   ]
  },
  {
   "cell_type": "code",
   "execution_count": null,
   "id": "0d5f7b23",
   "metadata": {},
   "outputs": [],
   "source": [
    "for i in [-13,-14,-15,-16,-17,-18,-19,-20,-21,-22]:\n",
    "    a = i#np.random.uniform(-22+(18.2-16.8),-16+(18.2-16.8))\n",
    "    b = a-(18.2-16.8)\n",
    "    print(a,b)\n",
    "\n",
    "    wall_vf_rand = np.logical_and(np.logical_and(all_survey['rabsmag']>b,all_survey['rabsmag']<a), all_survey['flag_voidfinder'] == 0)\n",
    "    void_vf_rand = np.logical_and(np.logical_and(all_survey['rabsmag']>b,all_survey['rabsmag']<a), all_survey['flag_voidfinder'] == 1)\n",
    "\n",
    "    wall_v2_rand = np.logical_and(np.logical_and(all_survey['rabsmag']>b,all_survey['rabsmag']<a), all_survey['flag_vsquared'] == 0)\n",
    "    void_v2_rand = np.logical_and(np.logical_and(all_survey['rabsmag']>b,all_survey['rabsmag']<a), all_survey['flag_vsquared'] == 1)\n",
    "\n",
    "    plt.figure(figsize=(15,8))\n",
    "\n",
    "    # plt.hist(new_depths[data['redshift']< 0.1026]['DEPTH_NORM'], bins=np.linspace(0,1, 40), density=True, label=\"all V^2 void galaxies\", color='cyan', alpha=0.8, histtype='step')\n",
    "    # plt.hist(new_depths[data['redshift']< 0.1026]['DEPTH_NORM'][void_v2_excess], bins=np.linspace(0,1, 40), density=True, alpha = 0.5,color=\"orange\", label=\"V^2 void galaxies -18.2<M_abs<-16.8\", histtype='step')\n",
    "\n",
    "    plt.hist(new_depths[data['redshift']< 0.1026]['DEPTH_NORM'][all_survey['flag_voidfinder'] == 1],bins=np.linspace(0,1, 40), density=True, alpha = 0.5,color=\"green\", label=\"void VF out of void V2 sample\",histtype='step')\n",
    "    plt.hist(new_depths[data['redshift']< 0.1026]['DEPTH_NORM'][void_vf_rand],bins=np.linspace(0,1, 40), density=True, alpha = 0.5,color=\"red\", label=\"void VF out of void V2 sample random\",histtype='step')\n",
    "\n",
    "    plt.hist(new_depths[data['redshift']< 0.1026]['DEPTH_NORM'][all_survey['flag_voidfinder'] == 0],bins=np.linspace(0,1, 40), density=True, alpha = 0.5,color=\"blue\", label=\"wall VF out of void V2 sample\",histtype='step')\n",
    "\n",
    "    plt.hist(new_depths[data['redshift']< 0.1026]['DEPTH_NORM'][wall_vf_rand],bins=np.linspace(0,1, 40), density=True, alpha = 0.5,color=\"black\", label=\"wall VF out of void V2 sample random\",histtype='step')\n",
    "    # plt.ylim(0,100000)\n",
    "\n",
    "    plt.xlabel(\"normalized distance from edge\")\n",
    "    plt.ylabel(\"normalized\")\n",
    "    plt.legend(fontsize=14)\n",
    "    plt.xlim(-0.05,1);"
   ]
  },
  {
   "cell_type": "code",
   "execution_count": null,
   "id": "8730ac4f",
   "metadata": {},
   "outputs": [],
   "source": [
    "ind_v2_void = new_depths['GAL_ID'][data['flag_vsquared'] == 1] # void vf"
   ]
  },
  {
   "cell_type": "code",
   "execution_count": null,
   "id": "d8f664a3",
   "metadata": {},
   "outputs": [],
   "source": [
    "# new_depths[data['redshift']< 0.1026]['DEPTH_NORM'][all_survey['flag_voidfinder'] == 1] # void vf"
   ]
  },
  {
   "cell_type": "code",
   "execution_count": null,
   "id": "68fb798b",
   "metadata": {},
   "outputs": [],
   "source": [
    "ind_vf_wall = new_depths['GAL_ID'][data['flag_voidfinder'] == 0] # void vf\n",
    "ind_vf_void = new_depths['GAL_ID'][data['flag_voidfinder'] == 1] # void vf"
   ]
  },
  {
   "cell_type": "code",
   "execution_count": null,
   "id": "e659bb15",
   "metadata": {},
   "outputs": [],
   "source": [
    "plt.figure(figsize=(12,7))\n",
    "\n",
    "plt.scatter(data['rabsmag'][ind_vf_wall],new_depths['DEPTH_NORM'][data['flag_voidfinder'] == 0],alpha=0.1, s=1) # void vf\n",
    "plt.ylim(0,1)\n",
    "plt.xlim(-12,-24)\n",
    "plt.xlabel(\"absolute magnitude\", fontsize=14)\n",
    "plt.title(\"WALL VF sample with depths\")\n",
    "plt.ylabel(\"distance from edge\", fontsize=14);\n",
    "# the deeper objects are brighter"
   ]
  },
  {
   "cell_type": "code",
   "execution_count": null,
   "id": "f22cd54b",
   "metadata": {},
   "outputs": [],
   "source": [
    "plt.figure(figsize=(12,7))\n",
    "plt.scatter(data['rabsmag'][ind_vf_void],new_depths['DEPTH_NORM'][data['flag_voidfinder'] == 1],alpha=0.1, s=1) # void vf\n",
    "plt.ylim(0,1)\n",
    "plt.xlim(-12,-24)\n",
    "plt.xlabel(\"absolute magnitude\", fontsize=14)\n",
    "plt.title(\"VOID VF sample with depths\")\n",
    "plt.ylabel(\"distance from edge\", fontsize=14);\n",
    "# the deeper objects are brighter"
   ]
  },
  {
   "cell_type": "code",
   "execution_count": null,
   "id": "fd9c6077",
   "metadata": {},
   "outputs": [],
   "source": [
    "plt.figure(figsize=(12,7))\n",
    "\n",
    "plt.scatter(data['rabsmag'][ind],new_depths['DEPTH_NORM'][data['flag_vsquared'] == 1],alpha=0.1, s=1) # void vf\n",
    "plt.ylim(0,1)\n",
    "plt.xlim(-12,-24)\n",
    "plt.xlabel(\"absolute magnitude\", fontsize=14)\n",
    "plt.title(\"Void V2 sample\")\n",
    "plt.ylabel(\"distance from edge\", fontsize=14)\n",
    "# the deeper objects are brighter # voidfinder depths # slides"
   ]
  },
  {
   "cell_type": "code",
   "execution_count": null,
   "id": "2b3416b2",
   "metadata": {},
   "outputs": [],
   "source": [
    "plt.figure(tight_layout=True)\n",
    "\n",
    "plt.scatter(new_depths['DEPTH_NORM'][data['flag_voidfinder'] == 1],data['rabsmag'][ind]) # void vf\n",
    "plt.xlim(0,1)\n",
    "plt.ylabel(\"absolute magnitude\")\n",
    "plt.title(\"VOID VF sample with depths\")\n",
    "plt.xlabel(\"distance from edge\");\n",
    "\n",
    "# for i in [-13,-14,-15,-16,-17,-18,-19,-20,-21,-22]:\n",
    "#     a = i#np.random.uniform(-22+(18.2-16.8),-16+(18.2-16.8))\n",
    "#     b = a-(18.2-16.8)\n",
    "#     print(a,b)\n",
    "\n",
    "#     wall_vf_rand = np.logical_and(np.logical_and(all_survey['rabsmag']>b,all_survey['rabsmag']<a), all_survey['flag_voidfinder'] == 0)\n",
    "#     void_vf_rand = np.logical_and(np.logical_and(all_survey['rabsmag']>b,all_survey['rabsmag']<a), all_survey['flag_voidfinder'] == 1)\n",
    "\n",
    "#     wall_v2_rand = np.logical_and(np.logical_and(all_survey['rabsmag']>b,all_survey['rabsmag']<a), all_survey['flag_vsquared'] == 0)\n",
    "#     void_v2_rand = np.logical_and(np.logical_and(all_survey['rabsmag']>b,all_survey['rabsmag']<a), all_survey['flag_vsquared'] == 1)\n",
    "\n",
    "#     plt.figure(figsize=(15,8))\n",
    "\n",
    "#     # plt.hist(new_depths[data['redshift']< 0.1026]['DEPTH_NORM'], bins=np.linspace(0,1, 40), density=True, label=\"all V^2 void galaxies\", color='cyan', alpha=0.8, histtype='step')\n",
    "#     # plt.hist(new_depths[data['redshift']< 0.1026]['DEPTH_NORM'][void_v2_excess], bins=np.linspace(0,1, 40), density=True, alpha = 0.5,color=\"orange\", label=\"V^2 void galaxies -18.2<M_abs<-16.8\", histtype='step')\n",
    "\n",
    "#     plt.hist(new_depths[data['redshift']< 0.1026]['DEPTH_NORM'][all_survey['flag_voidfinder'] == 1],bins=np.linspace(0,1, 40), density=True, alpha = 0.5,color=\"green\", label=\"void VF out of void V2 sample\",histtype='step')\n",
    "#     plt.hist(new_depths[data['redshift']< 0.1026]['DEPTH_NORM'][void_vf_rand],bins=np.linspace(0,1, 40), density=True, alpha = 0.5,color=\"red\", label=\"void VF out of void V2 sample random\",histtype='step')\n",
    "\n",
    "#     plt.hist(new_depths[data['redshift']< 0.1026]['DEPTH_NORM'][all_survey['flag_voidfinder'] == 0],bins=np.linspace(0,1, 40), density=True, alpha = 0.5,color=\"blue\", label=\"wall VF out of void V2 sample\",histtype='step')\n",
    "\n",
    "#     plt.hist(new_depths[data['redshift']< 0.1026]['DEPTH_NORM'][wall_vf_rand],bins=np.linspace(0,1, 40), density=True, alpha = 0.5,color=\"black\", label=\"wall VF out of void V2 sample random\",histtype='step')\n",
    "#     # plt.ylim(0,100000)\n",
    "\n",
    "#     plt.xlabel(\"normalized distance from edge\")\n",
    "#     plt.ylabel(\"normalized\")\n",
    "#     plt.legend(fontsize=14)\n",
    "#     plt.xlim(-0.05,1);"
   ]
  },
  {
   "cell_type": "code",
   "execution_count": null,
   "id": "0163f673",
   "metadata": {},
   "outputs": [],
   "source": [
    "a,b"
   ]
  },
  {
   "cell_type": "code",
   "execution_count": null,
   "id": "add69158",
   "metadata": {},
   "outputs": [],
   "source": [
    "np.array(np.histogram(new_depths[data['redshift']< 0.1026]['DEPTH_NORM'][all_survey['flag_voidfinder'] == 1],\n",
    "                      bins=np.linspace(0,1, 40))[0])"
   ]
  },
  {
   "cell_type": "code",
   "execution_count": null,
   "id": "297047e4",
   "metadata": {},
   "outputs": [],
   "source": [
    "a,b"
   ]
  },
  {
   "cell_type": "code",
   "execution_count": null,
   "id": "3b5393ba",
   "metadata": {},
   "outputs": [],
   "source": [
    "plt.figure(tight_layout=True)\n",
    "\n",
    "plt.hist(new_depths[data['redshift']< 0.1026]['DEPTH_NORM'][void_v2_excess], \n",
    "         bins=30);"
   ]
  },
  {
   "cell_type": "code",
   "execution_count": null,
   "id": "5a7946c3",
   "metadata": {},
   "outputs": [],
   "source": [
    "# plt.hist(new_depths['DEPTH_NORM'],bins=np.linspace(0,1,100), density=True, label=\"all\")\n",
    "\n",
    "# plt.hist(new_depths['DEPTH_NORM'][np.intersect1d(wall_v2,bump_mstar_index)],bins=np.linspace(0,1,100), density=True, alpha=0.3)\n",
    "# plt.legend();"
   ]
  },
  {
   "cell_type": "code",
   "execution_count": null,
   "id": "de231680",
   "metadata": {},
   "outputs": [],
   "source": [
    "# len(np.intersect1d(void_v2,bump_mstar_index))"
   ]
  },
  {
   "cell_type": "code",
   "execution_count": null,
   "id": "f7968bf4",
   "metadata": {},
   "outputs": [],
   "source": [
    "plt.figure(tight_layout=True)\n",
    "\n",
    "plt.hist(new_depths['DEPTH_NORM'],bins=np.linspace(0,1,100), density=True, label=\"all\")\n",
    "\n",
    "plt.hist(new_depths['DEPTH_NORM'][np.intersect1d(wall_v2,bump_mstar_index)],bins=np.linspace(0,1,100), density=True, alpha=0.3)\n",
    "plt.legend();"
   ]
  },
  {
   "cell_type": "code",
   "execution_count": null,
   "id": "28a3074e",
   "metadata": {},
   "outputs": [],
   "source": [
    "\n",
    "# gal_sorted = gal_depth[np.flip(np.argsort(norm_depth))] # galaxies sorted by largest depth to smallest\n",
    "# # norm_depth[np.argwhere(gal_depth == X)]  # to find norm_depth associated with galaxy X\n",
    "# #check that the galaxies are sorted in ascending order of the normalized depths\n",
    "# gal_sorted[500] == gal_depth[np.argwhere(norm_depth==np.flip(np.sort(norm_depth))[500])]\n",
    "\n",
    "\n",
    "# num_slices = 50\n",
    "# last_slice_count =len(gal_sorted[:(np.int(len(gal_sorted)/num_slices))*num_slices])\n",
    "\n",
    "# ind_gal_depth_voidv2_new = []\n",
    "# temp=[]\n",
    "# # for i in binning_log_e:\n",
    "# #     temp.append(new_depths['GAL_ID'][(new_depths['DEPTH_NORM'] != -1) &(new_depths['DEPTH_NORM']>i)])\n",
    "# #     ind_gal_depth_voidv2_new.append(temp)\n",
    "# #     temp=[]\n",
    "\n",
    "# for i in range(num_slices):\n",
    "#     temp.append(gal_sorted[:(np.int(len(gal_sorted)/num_slices))*(i+1)])\n",
    "#     ind_gal_depth_voidv2_new.append(temp)\n",
    "#     temp=[]  \n",
    "# for i in range(len(gal_sorted)-last_slice_count):\n",
    "#     ind_gal_depth_voidv2_new[-1][0] = np.append(gal_sorted[last_slice_count:len(gal_sorted)][i],ind_gal_depth_voidv2_new[-1][0])\n",
    "    \n",
    "# ind_gal_depth_voidv2_new = np.array(ind_gal_depth_voidv2_new).reshape((num_slices,))\n",
    "\n",
    "# #check\n",
    "# len(ind_gal_depth_voidv2_new[-1]) == len(gal_sorted)\n",
    "\n",
    "# # np.save('ind_gal_depth_voidv2_50_log_e', ind_gal_depth_voidv2_new)\n",
    "# np.save('ind_gal_depth_voidv2_equal_slices', ind_gal_depth_voidv2_new)\n",
    "\n",
    "# # sorted_gal_in=[]\n",
    "# # for i in range(len(norm_depth)):\n",
    "# #     sorted_gal_in.append(np.argwhere(norm_depth == np.flip(np.sort(norm_depth))[i]))\n",
    "# # sorted_gal=[]\n",
    "# # for i in range(len(gal_depth)):\n",
    "# #     sorted_gal.append(gal_depth[np.array(sorted_gal_in)[i].flatten().astype('int')])\n",
    "# # sorted_gal_int=[]\n",
    "# # for i in range(len(sorted_gal)):\n",
    "# #     for k in range(len(sorted_gal[i])):\n",
    "# #         sorted_gal_int.append(sorted_gal[i][k])  \n",
    "# # sorted_gal_int= np.array(sorted_gal_int)\n",
    "\n",
    "# # binning = np.abs(np.log(np.linspace(1,0.01,80)))\n",
    "# # binning = binning[binning<1]\n",
    "# # binning_log_e= np.append(binning,1)\n",
    "# # binning_log_e = np.flip(binning_log_e)[1:]\n",
    "# # binning_log_e\n",
    "\n",
    "# # ind_gal_depth_voidv2_new = []\n",
    "# # temp=[]\n",
    "# # for i in binning_log_e:\n",
    "# #     temp.append(new_depths['GAL_ID'][(new_depths['DEPTH_NORM'] != -1) &(new_depths['DEPTH_NORM']>i)])\n",
    "# #     ind_gal_depth_voidv2_new.append(temp)\n",
    "# #     temp=[]"
   ]
  },
  {
   "cell_type": "code",
   "execution_count": null,
   "id": "3fbe0243",
   "metadata": {},
   "outputs": [],
   "source": [
    "# void_depth = new_depths[void_v2]['DEPTH_NORM']\n",
    "# void_depth_ind = new_depths[np.argwhere(new_depths['DEPTH_NORM']==new_depths[void_v2]['DEPTH_NORM'])]"
   ]
  },
  {
   "cell_type": "code",
   "execution_count": null,
   "id": "603eeb07",
   "metadata": {},
   "outputs": [],
   "source": [
    "# void_depth_ind=[]\n",
    "# for i in range(len(void_depth)):\n",
    "#     void_depth_ind.append()"
   ]
  },
  {
   "cell_type": "code",
   "execution_count": null,
   "id": "d2e2dceb",
   "metadata": {},
   "outputs": [],
   "source": [
    "# void_depth_bump=np.intersect1d(bump_mstar_index,void_depth_ind)"
   ]
  },
  {
   "cell_type": "code",
   "execution_count": null,
   "id": "c8e2c6df",
   "metadata": {},
   "outputs": [],
   "source": [
    "# fig = plt.figure(figsize=(15,10))\n",
    "# plt.hist(new_depths[void_bump]['DEPTH_NORM'], np.linspace(-2,1,300), label=\"bump\")\n",
    "# plt.hist(random.sample(new_depths[np.argwhere(new_depths[void_v2]['DEPTH_NORM']!= -1)]['DEPTH_NORM'],len(void_bump)), np.linspace(-2,1,300), alpha=0.5, label=\"random\")\n",
    "# plt.legend();"
   ]
  },
  {
   "cell_type": "code",
   "execution_count": null,
   "id": "8631debe",
   "metadata": {},
   "outputs": [],
   "source": [
    "Mstar_nan = remove_nan(Mstar)\n",
    "Mstar_nan_NSA = remove_nan(Mstar_NSA)"
   ]
  },
  {
   "cell_type": "code",
   "execution_count": null,
   "id": "41566ae8",
   "metadata": {},
   "outputs": [],
   "source": [
    "len(Mstar_nan_NSA),len(Mstar_nan)"
   ]
  },
  {
   "cell_type": "code",
   "execution_count": null,
   "id": "53866291",
   "metadata": {},
   "outputs": [],
   "source": [
    "Mstar_nan=np.nan_to_num(Mstar, copy=True, nan=0.0, posinf=0, neginf=0)"
   ]
  },
  {
   "cell_type": "code",
   "execution_count": null,
   "id": "86795d8a",
   "metadata": {},
   "outputs": [],
   "source": [
    "bump_1= np.argwhere(Mstar_nan<9.5)\n",
    "bump_2= np.argwhere(Mstar_nan>8.7)"
   ]
  },
  {
   "cell_type": "code",
   "execution_count": null,
   "id": "436b4f8d",
   "metadata": {},
   "outputs": [],
   "source": [
    "test=np.intersect1d(np.argwhere(Mstar_nan>9.7),np.argwhere(Mstar_nan<10.5))"
   ]
  },
  {
   "cell_type": "code",
   "execution_count": null,
   "id": "d2be5d4d",
   "metadata": {},
   "outputs": [],
   "source": [
    "test_=random.sample(list(test),35526)\n",
    "len(test_)"
   ]
  },
  {
   "cell_type": "code",
   "execution_count": null,
   "id": "b1452ce2",
   "metadata": {},
   "outputs": [],
   "source": [
    "bump_mstar_index = np.intersect1d(bump_1,bump_2)"
   ]
  },
  {
   "cell_type": "code",
   "execution_count": null,
   "id": "37b30be3",
   "metadata": {},
   "outputs": [],
   "source": [
    "len(bump_mstar_index) # the indices of galaxies whose mass is between 9.5 and 8.7"
   ]
  },
  {
   "cell_type": "code",
   "execution_count": null,
   "id": "bf11beb1",
   "metadata": {},
   "outputs": [],
   "source": [
    "len(np.intersect1d(bump_mstar_index, void_v2)), len(np.intersect1d(bump_mstar_index, wall_v2))"
   ]
  },
  {
   "cell_type": "code",
   "execution_count": null,
   "id": "dc20108b",
   "metadata": {},
   "outputs": [],
   "source": [
    "fig = plt.figure(figsize=(15,10), tight_layout=True)\n",
    "\n",
    "# plt.hist(Mstar_nan[np.array(data['flag_voidfinder'])==9], bins=np.linspace(5.9,12, 135), label=\"outside\",histtype='step', color=\"black\", density=True)\n",
    "plt.hist(Mstar_nan[np.array(data['flag_voidfinder'])==0], bins=np.linspace(5.9,12, 135), label=\"wall\",histtype='step', color=\"blue\",density=True)\n",
    "# plt.hist(Mstar_nan[np.array(data['flag_voidfinder'])==2], bins=np.linspace(5.9,12, 135), label=\"edge\",histtype='step', color=\"purple\",density=True)\n",
    "plt.hist(Mstar_nan[np.array(data['flag_voidfinder'])==1], bins=np.linspace(5.9,12, 135), color=\"red\",label=\"void\", histtype='step',density=True)\n",
    "\n",
    "# plt.hist(Mstar_nan[np.array(data['flag_vsquared'])==9], bins=np.linspace(5.9,12, 135), label=\"outside v2\",linestyle=('dashed'),histtype='step', color=\"black\",density=True)\n",
    "plt.hist(Mstar_nan[np.array(data['flag_vsquared'])==0], bins=np.linspace(5.9,12, 135), label=\"wall v2\",linestyle=('dashed'),histtype='step', color=\"blue\",density=True)\n",
    "# plt.hist(Mstar_nan[np.array(data['flag_vsquared'])==2], bins=np.linspace(5.9,12, 135), label=\"edge v2\",linestyle=('dashed'),histtype='step', color=\"purple\",density=True)\n",
    "plt.hist(Mstar_nan[np.array(data['flag_vsquared'])==1], bins=np.linspace(5.9,12, 135), color=\"red\",linestyle=('dashed'),label=\"void v2\", histtype='step',density=True)\n",
    "\n",
    "plt.hist(Mstar_nan[data['redshift']< 0.1026], bins=np.linspace(5.9,12, 135), color = 'gray',alpha = 0.2,density=True)\n",
    "plt.legend();"
   ]
  },
  {
   "cell_type": "code",
   "execution_count": null,
   "id": "f406a9fe",
   "metadata": {},
   "outputs": [],
   "source": [
    "#wall=0 , void = 1, edge= 2, out = 9\n",
    "print(\"wall\")\n",
    "print(np.sum(np.array(data['flag_voidfinder'][bump_mstar_index])==0)- np.sum(np.array(data['flag_vsquared'][bump_mstar_index])==0))\n",
    "print(\"void\")\n",
    "print(np.sum(np.array(data['flag_voidfinder'][bump_mstar_index])==1)- np.sum(np.array(data['flag_vsquared'][bump_mstar_index])==1))\n",
    "print(\"edge\")\n",
    "print(np.sum(np.array(data['flag_voidfinder'][bump_mstar_index])==2)- np.sum(np.array(data['flag_vsquared'][bump_mstar_index])==2))\n",
    "print(\"out\")\n",
    "print(np.sum(np.array(data['flag_voidfinder'][bump_mstar_index])==9)- np.sum(np.array(data['flag_vsquared'][bump_mstar_index])==9))"
   ]
  },
  {
   "cell_type": "code",
   "execution_count": null,
   "id": "0b109f2b",
   "metadata": {},
   "outputs": [],
   "source": [
    "np.sum(np.array(data['flag_voidfinder'][bump_mstar_index])==1), \n",
    "np.sum(np.array(data['flag_vsquared'][bump_mstar_index])==1)"
   ]
  },
  {
   "cell_type": "code",
   "execution_count": null,
   "id": "97728d9d",
   "metadata": {},
   "outputs": [],
   "source": [
    "np.sum(np.array(data['flag_voidfinder'][bump_mstar_index])==1), \n",
    "np.sum(np.array(data['flag_vsquared'][bump_mstar_index])==1)"
   ]
  },
  {
   "cell_type": "code",
   "execution_count": null,
   "id": "371dbd99",
   "metadata": {},
   "outputs": [],
   "source": [
    "fig = plt.figure(figsize=(10,5), tight_layout=True)\n",
    "\n",
    "plt.hist(random.sample(list(data['flag_voidfinder']),35526), label=\"voidfinder\")\n",
    "plt.hist(random.sample(list(data['flag_vsquared']),35526), color = \"orange\", alpha=0.3, label=\"vsquared\")\n",
    "plt.legend();"
   ]
  },
  {
   "cell_type": "code",
   "execution_count": null,
   "id": "22cb711a",
   "metadata": {},
   "outputs": [],
   "source": [
    "#wall=0 , void = 1, edge= 2, out = 9\n",
    "fig = plt.figure(figsize=(10,5), tight_layout=True)\n",
    "\n",
    "plt.hist(np.array(data['flag_voidfinder'][test_]), label=\"voidfinder\")\n",
    "plt.hist(np.array(data['flag_vsquared'][test_]), color = \"orange\", alpha=0.3, label=\"vsquared\")\n",
    "plt.legend();"
   ]
  },
  {
   "cell_type": "markdown",
   "id": "10661129",
   "metadata": {},
   "source": [
    "There are much more void galaxies in $V^2$ than VoidFinder in this region."
   ]
  },
  {
   "cell_type": "code",
   "execution_count": null,
   "id": "77a8305b",
   "metadata": {},
   "outputs": [],
   "source": [
    "plt.hist(np.array(data['flag_voidfinder']), label=\"voidfinder\")\n",
    "plt.hist(np.array(data['flag_vsquared']), color = \"orange\", alpha=0.3, label=\"vsquared\")\n",
    "plt.legend();"
   ]
  },
  {
   "cell_type": "code",
   "execution_count": null,
   "id": "bed760cb",
   "metadata": {},
   "outputs": [],
   "source": [
    "#wall=0 , void = 1, edge= 2, out = 9\n",
    "fig = plt.figure(figsize=(10,5))\n",
    "plt.hist(np.array(data['flag_voidfinder'][bump_mstar_index]), label=\"voidfinder\")\n",
    "plt.hist(np.array(data['flag_vsquared'][bump_mstar_index]), color = \"orange\", alpha=0.3, label=\"vsquared\")\n",
    "plt.legend();"
   ]
  },
  {
   "cell_type": "markdown",
   "id": "e3bd5c85",
   "metadata": {},
   "source": [
    "There are much more void galaxies in $V^2$ than VoidFinder in this region."
   ]
  },
  {
   "cell_type": "code",
   "execution_count": null,
   "id": "b8350437",
   "metadata": {},
   "outputs": [],
   "source": [
    "fig = plt.figure(figsize=(10,5))\n",
    "plt.hist(np.array(data['flag_voidfinder'][35526+35526:35526+35526+35526]), label=\"voidfinder\")\n",
    "plt.hist(np.array(data['flag_vsquared'][35526+35526:35526+35526+35526]), alpha=0.3, label=\"vsquared\")\n",
    "plt.legend();"
   ]
  },
  {
   "cell_type": "code",
   "execution_count": null,
   "id": "e60efb14",
   "metadata": {},
   "outputs": [],
   "source": [
    "fig = plt.figure(figsize=(15,10))\n",
    "plt.hist(Mstar_nan[wall_v2], bins=np.linspace(5.9,12, 135), label=\"wall v2\")\n",
    "plt.hist(Mstar_nan[void_v2], bins=np.linspace(5.9,12, 135), alpha=0.3, label=\"void v2\")\n",
    "plt.hist(Mstar_nan[data['redshift']< 0.1026], bins=np.linspace(5.9,12, 135), color = 'gray',alpha = 0.2)\n",
    "\n",
    "plt.legend();"
   ]
  },
  {
   "cell_type": "code",
   "execution_count": null,
   "id": "b64ccb13",
   "metadata": {},
   "outputs": [],
   "source": [
    "fig = plt.figure(figsize=(15,10))\n",
    "plt.hist(Mstar_nan[wall_vf], bins=np.linspace(5.9,12, 135), label=\"wall vf\")\n",
    "plt.hist(Mstar_nan[void_vf], bins=np.linspace(5.9,12, 135), alpha=0.3, label=\"void vf\")\n",
    "plt.hist(Mstar_nan[data['redshift']< 0.1026], bins=np.linspace(5.9,12, 135), color = 'gray',alpha = 0.2)\n",
    "\n",
    "plt.legend();"
   ]
  },
  {
   "cell_type": "code",
   "execution_count": null,
   "id": "f439af65",
   "metadata": {},
   "outputs": [],
   "source": [
    "char(Mstar_nan,np.linspace(5.9,12, 135),r'Star Mass - Voidfinder',r'$\\log(M_*/M_\\odot)$',x=6,y=00.025)"
   ]
  }
 ],
 "metadata": {
  "kernelspec": {
   "display_name": "Python 3 (ipykernel)",
   "language": "python",
   "name": "python3"
  },
  "language_info": {
   "codemirror_mode": {
    "name": "ipython",
    "version": 3
   },
   "file_extension": ".py",
   "mimetype": "text/x-python",
   "name": "python",
   "nbconvert_exporter": "python",
   "pygments_lexer": "ipython3",
   "version": "3.8.12"
  }
 },
 "nbformat": 4,
 "nbformat_minor": 5
}
