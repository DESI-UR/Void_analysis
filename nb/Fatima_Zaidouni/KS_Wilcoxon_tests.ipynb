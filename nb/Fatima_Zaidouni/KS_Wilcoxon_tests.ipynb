{
 "cells": [
  {
   "cell_type": "markdown",
   "metadata": {},
   "source": [
    "Compute the KS test to determine whether the void and wall samples are drawn from the same or different parent distributions.\n",
    "\n",
    "Also compute the Wilcoxon rank-sum test to determine if the void or wall sample is stochastically larger than the other."
   ]
  },
  {
   "cell_type": "code",
   "execution_count": 1,
   "metadata": {
    "hide_input": false
   },
   "outputs": [],
   "source": [
    "from astropy.table import Table\n",
    "from astropy.io import fits\n",
    "\n",
    "import numpy as np\n",
    "\n",
    "import sys\n",
    "\n",
    "import pickle\n",
    "\n",
    "import dynesty\n",
    "from dynesty import plotting as dyplot\n",
    "\n",
    "import matplotlib\n",
    "import matplotlib.pyplot as plt\n",
    "\n",
    "from functions import Model_1_fit, Model_2_fit, Model_1_plot, Model_2_plot, Model_1_sampler, Model_2_sampler, uniform, jeffreys\n",
    "\n",
    "from scipy.stats import ks_2samp, ranksums\n",
    "#from scipy import stats\n",
    "#from scipy.optimize import curve_fit\n",
    "#from scipy.stats import skewnorm\n",
    "\n",
    "np.set_printoptions(threshold=sys.maxsize)"
   ]
  },
  {
   "cell_type": "code",
   "execution_count": 2,
   "metadata": {
    "hide_input": false
   },
   "outputs": [],
   "source": [
    "#matplotlib.rcParams['text.usetex']=True\n",
    "matplotlib.rc('font', size=14)\n",
    "#matplotlib.rc('text', usetex=True)\n",
    "matplotlib.rc('font', family='DejaVu Sans')"
   ]
  },
  {
   "cell_type": "markdown",
   "metadata": {},
   "source": [
    "# Data"
   ]
  },
  {
   "cell_type": "code",
   "execution_count": 3,
   "metadata": {},
   "outputs": [],
   "source": [
    "data_filename = '../../../../data/NSA_v1_0_1_VAGC_vflag-V2-VF.fits'\n",
    "\n",
    "hdu = fits.open(data_filename)\n",
    "data = Table(hdu[1].data)\n",
    "hdu.close()"
   ]
  },
  {
   "cell_type": "markdown",
   "metadata": {},
   "source": [
    "## Just keep the main SDSS DR7 footprint"
   ]
  },
  {
   "cell_type": "code",
   "execution_count": 4,
   "metadata": {},
   "outputs": [],
   "source": [
    "# When the catalog is the NSA, only keep those objects which were originally in the DR7 LSS\n",
    "catalog_SDSS = data[data['IN_DR7_LSS'] == 1]\n",
    "\n",
    "ra_boolean = np.logical_and(catalog_SDSS['RA'] > 110, catalog_SDSS['RA'] < 270)\n",
    "catalog_north = catalog_SDSS[ra_boolean]\n",
    "\n",
    "strip_boolean = np.logical_and.reduce([catalog_north['RA'] > 250, \n",
    "                                       catalog_north['RA'] < 269, \n",
    "                                       catalog_north['DEC'] > 51, \n",
    "                                       catalog_north['DEC'] < 67])\n",
    "catalog_main = catalog_north[~strip_boolean]"
   ]
  },
  {
   "cell_type": "code",
   "execution_count": 5,
   "metadata": {},
   "outputs": [
    {
     "name": "stderr",
     "output_type": "stream",
     "text": [
      "/var/folders/5x/2533z9ns34n_8ghxd5f6hl0c0000gn/T/ipykernel_60830/2049853064.py:4: RuntimeWarning: divide by zero encountered in log10\n",
      "  Mstar_NSA = np.log10(catalog_main['ELPETRO_MASS'])\n"
     ]
    }
   ],
   "source": [
    "################################################################################\n",
    "# stellar mass\n",
    "#-------------------------------------------------------------------------------\n",
    "Mstar_NSA = np.log10(catalog_main['ELPETRO_MASS'])\n",
    "################################################################################\n",
    "\n",
    "\n",
    "################################################################################\n",
    "# color\n",
    "#-------------------------------------------------------------------------------\n",
    "u_r_NSA = np.array(catalog_main['u_r'])\n",
    "\n",
    "g_r_NSA = np.array(catalog_main['g_r'])\n",
    "################################################################################\n",
    "\n",
    "\n",
    "################################################################################\n",
    "# absolute magnitude\n",
    "#-------------------------------------------------------------------------------\n",
    "rabsmag_NSA = np.array(catalog_main['ELPETRO_ABSMAG'][:,4])\n",
    "################################################################################\n",
    "\n",
    "\n",
    "################################################################################\n",
    "# star formation rate and specific SPR\n",
    "#-------------------------------------------------------------------------------\n",
    "SFR  = np.array(catalog_main['SFR'])\n",
    "\n",
    "sSFR = np.array(catalog_main['sSFR'])\n",
    "################################################################################"
   ]
  },
  {
   "cell_type": "markdown",
   "metadata": {},
   "source": [
    "## Separate galaxies by their LSS classifications\n",
    "\n",
    "### $V^2$"
   ]
  },
  {
   "cell_type": "code",
   "execution_count": 6,
   "metadata": {},
   "outputs": [],
   "source": [
    "wall_v2 = catalog_main['vflag_V2'] == 0\n",
    "void_v2 = catalog_main['vflag_V2'] == 1\n",
    "edge_v2 = catalog_main['vflag_V2'] == 2\n",
    "out_v2 = catalog_main['vflag_V2'] == 9"
   ]
  },
  {
   "cell_type": "markdown",
   "metadata": {},
   "source": [
    "### VoidFinder"
   ]
  },
  {
   "cell_type": "code",
   "execution_count": 7,
   "metadata": {},
   "outputs": [],
   "source": [
    "wall_vf = catalog_main['vflag_VF'] == 0\n",
    "void_vf = catalog_main['vflag_VF'] == 1\n",
    "edge_vf = catalog_main['vflag_VF'] == 2\n",
    "out_vf = catalog_main['vflag_VF'] == 9"
   ]
  },
  {
   "cell_type": "markdown",
   "metadata": {},
   "source": [
    "# Calculate the KS test statistic and associated $p$-value\n",
    "\n",
    "## $M_*$"
   ]
  },
  {
   "cell_type": "code",
   "execution_count": 9,
   "metadata": {},
   "outputs": [
    {
     "name": "stdout",
     "output_type": "stream",
     "text": [
      "VF KS statistic = 0.134    p-value = 0.000e+00\n",
      "V2 KS statistic = 0.012    p-value = 3.079e-09\n"
     ]
    }
   ],
   "source": [
    "VF_Mstar_ks_stat, VF_Mstar_p = ks_2samp(Mstar_NSA[void_vf], Mstar_NSA[wall_vf])\n",
    "\n",
    "V2_Mstar_ks_stat, V2_Mstar_p = ks_2samp(Mstar_NSA[void_v2], Mstar_NSA[wall_v2])\n",
    "\n",
    "print('VF KS statistic = {:.3f}    p-value = {:.3e}'.format(VF_Mstar_ks_stat, VF_Mstar_p))\n",
    "print('V2 KS statistic = {:.3f}    p-value = {:.3e}'.format(V2_Mstar_ks_stat, V2_Mstar_p))"
   ]
  },
  {
   "cell_type": "code",
   "execution_count": 11,
   "metadata": {},
   "outputs": [
    {
     "name": "stdout",
     "output_type": "stream",
     "text": [
      "One of the two is stochastically greater than the other.\n",
      "VF Wilcoxon statistic = -83.197    p-value = 0.000e+00\n",
      "V2 Wilcoxon statistic = -6.393    p-value = 1.623e-10\n"
     ]
    }
   ],
   "source": [
    "VF_Mstar_wilcoxon_stat, VF_Mstar_wilcoxon_p = ranksums(Mstar_NSA[void_vf], Mstar_NSA[wall_vf])#, nan_policy='omit')\n",
    "\n",
    "V2_Mstar_wilcoxon_stat, V2_Mstar_wilcoxon_p = ranksums(Mstar_NSA[void_v2], Mstar_NSA[wall_v2])#, nan_policy='omit')\n",
    "\n",
    "print('One of the two is stochastically greater than the other.')\n",
    "print('VF Wilcoxon statistic = {:.3f}    p-value = {:.3e}'.format(VF_Mstar_wilcoxon_stat, VF_Mstar_wilcoxon_p))\n",
    "print('V2 Wilcoxon statistic = {:.3f}    p-value = {:.3e}'.format(V2_Mstar_wilcoxon_stat, V2_Mstar_wilcoxon_p))"
   ]
  },
  {
   "cell_type": "code",
   "execution_count": 13,
   "metadata": {},
   "outputs": [
    {
     "name": "stdout",
     "output_type": "stream",
     "text": [
      "Void is stochastically less than wall.\n",
      "VF Wilcoxon statistic = -83.197    p-value = 0.000e+00\n",
      "V2 Wilcoxon statistic = -6.393    p-value = 8.116e-11\n"
     ]
    }
   ],
   "source": [
    "VF_Mstar_wilcoxon_stat, VF_Mstar_wilcoxon_p = ranksums(Mstar_NSA[void_vf], \n",
    "                                                       Mstar_NSA[wall_vf], \n",
    "                                                       alternative='less')#, nan_policy='omit')\n",
    "\n",
    "V2_Mstar_wilcoxon_stat, V2_Mstar_wilcoxon_p = ranksums(Mstar_NSA[void_v2], \n",
    "                                                       Mstar_NSA[wall_v2], \n",
    "                                                       alternative='less')#, nan_policy='omit')\n",
    "\n",
    "print('Void is stochastically less than wall.')\n",
    "print('VF Wilcoxon statistic = {:.3f}    p-value = {:.3e}'.format(VF_Mstar_wilcoxon_stat, VF_Mstar_wilcoxon_p))\n",
    "print('V2 Wilcoxon statistic = {:.3f}    p-value = {:.3e}'.format(V2_Mstar_wilcoxon_stat, V2_Mstar_wilcoxon_p))"
   ]
  },
  {
   "cell_type": "code",
   "execution_count": 15,
   "metadata": {},
   "outputs": [
    {
     "name": "stdout",
     "output_type": "stream",
     "text": [
      "Void is stochastically greater than wall.\n",
      "VF Wilcoxon statistic = -83.197    p-value = 1.000e+00\n",
      "V2 Wilcoxon statistic = -6.393    p-value = 1.000e+00\n"
     ]
    }
   ],
   "source": [
    "VF_Mstar_wilcoxon_stat, VF_Mstar_wilcoxon_p = ranksums(Mstar_NSA[void_vf], \n",
    "                                                       Mstar_NSA[wall_vf], \n",
    "                                                       alternative='greater')#, nan_policy='omit')\n",
    "\n",
    "V2_Mstar_wilcoxon_stat, V2_Mstar_wilcoxon_p = ranksums(Mstar_NSA[void_v2], \n",
    "                                                       Mstar_NSA[wall_v2], \n",
    "                                                       alternative='greater')#, nan_policy='omit')\n",
    "\n",
    "print('Void is stochastically greater than wall.')\n",
    "print('VF Wilcoxon statistic = {:.3f}    p-value = {:.3e}'.format(VF_Mstar_wilcoxon_stat, VF_Mstar_wilcoxon_p))\n",
    "print('V2 Wilcoxon statistic = {:.3f}    p-value = {:.3e}'.format(V2_Mstar_wilcoxon_stat, V2_Mstar_wilcoxon_p))"
   ]
  },
  {
   "cell_type": "markdown",
   "metadata": {},
   "source": [
    "## $M_r$"
   ]
  },
  {
   "cell_type": "code",
   "execution_count": 17,
   "metadata": {},
   "outputs": [
    {
     "name": "stdout",
     "output_type": "stream",
     "text": [
      "VF KS statistic = 0.118    p-value = 0.000e+00\n",
      "V2 KS statistic = 0.013    p-value = 7.780e-12\n"
     ]
    }
   ],
   "source": [
    "VF_rabsmag_ks_stat, VF_rabsmag_p = ks_2samp(rabsmag_NSA[void_vf], rabsmag_NSA[wall_vf])\n",
    "\n",
    "V2_rabsmag_ks_stat, V2_rabsmag_p = ks_2samp(rabsmag_NSA[void_v2], rabsmag_NSA[wall_v2])\n",
    "\n",
    "print('VF KS statistic = {:.3f}    p-value = {:.3e}'.format(VF_rabsmag_ks_stat, VF_rabsmag_p))\n",
    "print('V2 KS statistic = {:.3f}    p-value = {:.3e}'.format(V2_rabsmag_ks_stat, V2_rabsmag_p))"
   ]
  },
  {
   "cell_type": "code",
   "execution_count": 18,
   "metadata": {},
   "outputs": [
    {
     "name": "stdout",
     "output_type": "stream",
     "text": [
      "One of the two is stochastically greater than the other.\n",
      "VF Wilcoxon statistic = 69.823    p-value = 0.000e+00\n",
      "V2 Wilcoxon statistic = 7.386    p-value = 1.512e-13\n"
     ]
    }
   ],
   "source": [
    "VF_rabsmag_wilcoxon_stat, VF_rabsmag_wilcoxon_p = ranksums(rabsmag_NSA[void_vf], \n",
    "                                                           rabsmag_NSA[wall_vf])#, nan_policy='omit')\n",
    "\n",
    "V2_rabsmag_wilcoxon_stat, V2_rabsmag_wilcoxon_p = ranksums(rabsmag_NSA[void_v2], \n",
    "                                                           rabsmag_NSA[wall_v2])#, nan_policy='omit')\n",
    "\n",
    "print('One of the two is stochastically greater than the other.')\n",
    "print('VF Wilcoxon statistic = {:.3f}    p-value = {:.3e}'.format(VF_rabsmag_wilcoxon_stat, VF_rabsmag_wilcoxon_p))\n",
    "print('V2 Wilcoxon statistic = {:.3f}    p-value = {:.3e}'.format(V2_rabsmag_wilcoxon_stat, V2_rabsmag_wilcoxon_p))"
   ]
  },
  {
   "cell_type": "code",
   "execution_count": 19,
   "metadata": {},
   "outputs": [
    {
     "name": "stdout",
     "output_type": "stream",
     "text": [
      "Void is stochastically less than wall.\n",
      "VF Wilcoxon statistic = 69.823    p-value = 1.000e+00\n",
      "V2 Wilcoxon statistic = 7.386    p-value = 1.000e+00\n"
     ]
    }
   ],
   "source": [
    "VF_rabsmag_wilcoxon_stat, VF_rabsmag_wilcoxon_p = ranksums(rabsmag_NSA[void_vf], \n",
    "                                                           rabsmag_NSA[wall_vf], \n",
    "                                                           alternative='less')#, nan_policy='omit')\n",
    "\n",
    "V2_rabsmag_wilcoxon_stat, V2_rabsmag_wilcoxon_p = ranksums(rabsmag_NSA[void_v2], \n",
    "                                                           rabsmag_NSA[wall_v2], \n",
    "                                                           alternative='less')#, nan_policy='omit')\n",
    "\n",
    "print('Void is stochastically less than wall.')\n",
    "print('VF Wilcoxon statistic = {:.3f}    p-value = {:.3e}'.format(VF_rabsmag_wilcoxon_stat, VF_rabsmag_wilcoxon_p))\n",
    "print('V2 Wilcoxon statistic = {:.3f}    p-value = {:.3e}'.format(V2_rabsmag_wilcoxon_stat, V2_rabsmag_wilcoxon_p))"
   ]
  },
  {
   "cell_type": "code",
   "execution_count": 20,
   "metadata": {},
   "outputs": [
    {
     "name": "stdout",
     "output_type": "stream",
     "text": [
      "Void is stochastically greater than wall.\n",
      "VF Wilcoxon statistic = 69.823    p-value = 0.000e+00\n",
      "V2 Wilcoxon statistic = 7.386    p-value = 7.560e-14\n"
     ]
    }
   ],
   "source": [
    "VF_rabsmag_wilcoxon_stat, VF_rabsmag_wilcoxon_p = ranksums(rabsmag_NSA[void_vf], \n",
    "                                                           rabsmag_NSA[wall_vf], \n",
    "                                                           alternative='greater')#, nan_policy='omit')\n",
    "\n",
    "V2_rabsmag_wilcoxon_stat, V2_rabsmag_wilcoxon_p = ranksums(rabsmag_NSA[void_v2], \n",
    "                                                           rabsmag_NSA[wall_v2], \n",
    "                                                           alternative='greater')#, nan_policy='omit')\n",
    "\n",
    "print('Void is stochastically greater than wall.')\n",
    "print('VF Wilcoxon statistic = {:.3f}    p-value = {:.3e}'.format(VF_rabsmag_wilcoxon_stat, VF_rabsmag_wilcoxon_p))\n",
    "print('V2 Wilcoxon statistic = {:.3f}    p-value = {:.3e}'.format(V2_rabsmag_wilcoxon_stat, V2_rabsmag_wilcoxon_p))"
   ]
  },
  {
   "cell_type": "markdown",
   "metadata": {},
   "source": [
    "## Color\n",
    "\n",
    "### $u - r$"
   ]
  },
  {
   "cell_type": "code",
   "execution_count": 21,
   "metadata": {},
   "outputs": [
    {
     "name": "stdout",
     "output_type": "stream",
     "text": [
      "VF KS statistic = 0.148    p-value = 0.000e+00\n",
      "V2 KS statistic = 0.007    p-value = 3.251e-03\n"
     ]
    }
   ],
   "source": [
    "VF_ur_ks_stat, VF_ur_p = ks_2samp(u_r_NSA[void_vf], u_r_NSA[wall_vf])\n",
    "\n",
    "V2_ur_ks_stat, V2_ur_p = ks_2samp(u_r_NSA[void_v2], u_r_NSA[wall_v2])\n",
    "\n",
    "print('VF KS statistic = {:.3f}    p-value = {:.3e}'.format(VF_ur_ks_stat, VF_ur_p))\n",
    "print('V2 KS statistic = {:.3f}    p-value = {:.3e}'.format(V2_ur_ks_stat, V2_ur_p))"
   ]
  },
  {
   "cell_type": "code",
   "execution_count": 22,
   "metadata": {},
   "outputs": [
    {
     "name": "stdout",
     "output_type": "stream",
     "text": [
      "One of the two is stochastically greater than the other.\n",
      "VF Wilcoxon statistic = -84.308    p-value = 0.000e+00\n",
      "V2 Wilcoxon statistic = -2.613    p-value = 8.974e-03\n"
     ]
    }
   ],
   "source": [
    "VF_ur_wilcoxon_stat, VF_ur_wilcoxon_p = ranksums(u_r_NSA[void_vf], \n",
    "                                                 u_r_NSA[wall_vf])#, nan_policy='omit')\n",
    "\n",
    "V2_ur_wilcoxon_stat, V2_ur_wilcoxon_p = ranksums(u_r_NSA[void_v2], \n",
    "                                                 u_r_NSA[wall_v2])#, nan_policy='omit')\n",
    "\n",
    "print('One of the two is stochastically greater than the other.')\n",
    "print('VF Wilcoxon statistic = {:.3f}    p-value = {:.3e}'.format(VF_ur_wilcoxon_stat, VF_ur_wilcoxon_p))\n",
    "print('V2 Wilcoxon statistic = {:.3f}    p-value = {:.3e}'.format(V2_ur_wilcoxon_stat, V2_ur_wilcoxon_p))"
   ]
  },
  {
   "cell_type": "code",
   "execution_count": 23,
   "metadata": {},
   "outputs": [
    {
     "name": "stdout",
     "output_type": "stream",
     "text": [
      "Void is stochastically less than wall.\n",
      "VF Wilcoxon statistic = -84.308    p-value = 0.000e+00\n",
      "V2 Wilcoxon statistic = -2.613    p-value = 4.487e-03\n"
     ]
    }
   ],
   "source": [
    "VF_ur_wilcoxon_stat, VF_ur_wilcoxon_p = ranksums(u_r_NSA[void_vf], \n",
    "                                                 u_r_NSA[wall_vf], \n",
    "                                                 alternative='less')#, nan_policy='omit')\n",
    "\n",
    "V2_ur_wilcoxon_stat, V2_ur_wilcoxon_p = ranksums(u_r_NSA[void_v2], \n",
    "                                                 u_r_NSA[wall_v2], \n",
    "                                                 alternative='less')#, nan_policy='omit')\n",
    "\n",
    "print('Void is stochastically less than wall.')\n",
    "print('VF Wilcoxon statistic = {:.3f}    p-value = {:.3e}'.format(VF_ur_wilcoxon_stat, VF_ur_wilcoxon_p))\n",
    "print('V2 Wilcoxon statistic = {:.3f}    p-value = {:.3e}'.format(V2_ur_wilcoxon_stat, V2_ur_wilcoxon_p))"
   ]
  },
  {
   "cell_type": "code",
   "execution_count": 29,
   "metadata": {},
   "outputs": [
    {
     "name": "stdout",
     "output_type": "stream",
     "text": [
      "Void is stochastically greater than wall.\n",
      "VF Wilcoxon statistic = -84.308    p-value = 1.000e+00\n",
      "V2 Wilcoxon statistic = -2.613    p-value = 0.996\n"
     ]
    }
   ],
   "source": [
    "VF_ur_wilcoxon_stat, VF_ur_wilcoxon_p = ranksums(u_r_NSA[void_vf], \n",
    "                                                 u_r_NSA[wall_vf], \n",
    "                                                 alternative='greater')#, nan_policy='omit')\n",
    "\n",
    "V2_ur_wilcoxon_stat, V2_ur_wilcoxon_p = ranksums(u_r_NSA[void_v2], \n",
    "                                                 u_r_NSA[wall_v2], \n",
    "                                                 alternative='greater')#, nan_policy='omit')\n",
    "\n",
    "print('Void is stochastically greater than wall.')\n",
    "print('VF Wilcoxon statistic = {:.3f}    p-value = {:.3e}'.format(VF_ur_wilcoxon_stat, VF_ur_wilcoxon_p))\n",
    "print('V2 Wilcoxon statistic = {:.3f}    p-value = {:.3f}'.format(V2_ur_wilcoxon_stat, V2_ur_wilcoxon_p))"
   ]
  },
  {
   "cell_type": "markdown",
   "metadata": {},
   "source": [
    "### $g - r$"
   ]
  },
  {
   "cell_type": "code",
   "execution_count": 25,
   "metadata": {},
   "outputs": [
    {
     "name": "stdout",
     "output_type": "stream",
     "text": [
      "VF KS statistic = 0.150    p-value = 0.000e+00\n",
      "V2 KS statistic = 0.012    p-value = 4.457e-09\n"
     ]
    }
   ],
   "source": [
    "VF_gr_ks_stat, VF_gr_p = ks_2samp(g_r_NSA[void_vf], g_r_NSA[wall_vf])\n",
    "\n",
    "V2_gr_ks_stat, V2_gr_p = ks_2samp(g_r_NSA[void_v2], g_r_NSA[wall_v2])\n",
    "\n",
    "print('VF KS statistic = {:.3f}    p-value = {:.3e}'.format(VF_gr_ks_stat, VF_gr_p))\n",
    "print('V2 KS statistic = {:.3f}    p-value = {:.3e}'.format(V2_gr_ks_stat, V2_gr_p))"
   ]
  },
  {
   "cell_type": "code",
   "execution_count": 26,
   "metadata": {},
   "outputs": [
    {
     "name": "stdout",
     "output_type": "stream",
     "text": [
      "One of the two is stochastically greater than the other.\n",
      "VF Wilcoxon statistic = -85.948    p-value = 0.000e+00\n",
      "V2 Wilcoxon statistic = -4.522    p-value = 6.123e-06\n"
     ]
    }
   ],
   "source": [
    "VF_gr_wilcoxon_stat, VF_gr_wilcoxon_p = ranksums(g_r_NSA[void_vf], \n",
    "                                                 g_r_NSA[wall_vf])#, nan_policy='omit')\n",
    "\n",
    "V2_gr_wilcoxon_stat, V2_gr_wilcoxon_p = ranksums(g_r_NSA[void_v2], \n",
    "                                                 g_r_NSA[wall_v2])#, nan_policy='omit')\n",
    "\n",
    "print('One of the two is stochastically greater than the other.')\n",
    "print('VF Wilcoxon statistic = {:.3f}    p-value = {:.3e}'.format(VF_gr_wilcoxon_stat, VF_gr_wilcoxon_p))\n",
    "print('V2 Wilcoxon statistic = {:.3f}    p-value = {:.3e}'.format(V2_gr_wilcoxon_stat, V2_gr_wilcoxon_p))"
   ]
  },
  {
   "cell_type": "code",
   "execution_count": 27,
   "metadata": {},
   "outputs": [
    {
     "name": "stdout",
     "output_type": "stream",
     "text": [
      "Void is stochastically less than wall.\n",
      "VF Wilcoxon statistic = -85.948    p-value = 0.000e+00\n",
      "V2 Wilcoxon statistic = -4.522    p-value = 3.062e-06\n"
     ]
    }
   ],
   "source": [
    "VF_gr_wilcoxon_stat, VF_gr_wilcoxon_p = ranksums(g_r_NSA[void_vf], \n",
    "                                                 g_r_NSA[wall_vf], \n",
    "                                                 alternative='less')#, nan_policy='omit')\n",
    "\n",
    "V2_gr_wilcoxon_stat, V2_gr_wilcoxon_p = ranksums(g_r_NSA[void_v2], \n",
    "                                                 g_r_NSA[wall_v2], \n",
    "                                                 alternative='less')#, nan_policy='omit')\n",
    "\n",
    "print('Void is stochastically less than wall.')\n",
    "print('VF Wilcoxon statistic = {:.3f}    p-value = {:.3e}'.format(VF_gr_wilcoxon_stat, VF_gr_wilcoxon_p))\n",
    "print('V2 Wilcoxon statistic = {:.3f}    p-value = {:.3e}'.format(V2_gr_wilcoxon_stat, V2_gr_wilcoxon_p))"
   ]
  },
  {
   "cell_type": "code",
   "execution_count": 28,
   "metadata": {},
   "outputs": [
    {
     "name": "stdout",
     "output_type": "stream",
     "text": [
      "Void is stochastically greater than wall.\n",
      "VF Wilcoxon statistic = -85.948    p-value = 1.000e+00\n",
      "V2 Wilcoxon statistic = -4.522    p-value = 1.000e+00\n"
     ]
    }
   ],
   "source": [
    "VF_gr_wilcoxon_stat, VF_gr_wilcoxon_p = ranksums(g_r_NSA[void_vf], \n",
    "                                                 g_r_NSA[wall_vf], \n",
    "                                                 alternative='greater')#, nan_policy='omit')\n",
    "\n",
    "V2_gr_wilcoxon_stat, V2_gr_wilcoxon_p = ranksums(g_r_NSA[void_v2], \n",
    "                                                 g_r_NSA[wall_v2], \n",
    "                                                 alternative='greater')#, nan_policy='omit')\n",
    "\n",
    "print('Void is stochastically greater than wall.')\n",
    "print('VF Wilcoxon statistic = {:.3f}    p-value = {:.3e}'.format(VF_gr_wilcoxon_stat, VF_gr_wilcoxon_p))\n",
    "print('V2 Wilcoxon statistic = {:.3f}    p-value = {:.3e}'.format(V2_gr_wilcoxon_stat, V2_gr_wilcoxon_p))"
   ]
  },
  {
   "cell_type": "markdown",
   "metadata": {},
   "source": [
    "## SFR"
   ]
  },
  {
   "cell_type": "code",
   "execution_count": 30,
   "metadata": {},
   "outputs": [
    {
     "name": "stdout",
     "output_type": "stream",
     "text": [
      "VF KS statistic = 0.088    p-value = 0.000e+00\n",
      "V2 KS statistic = 0.008    p-value = 6.842e-05\n"
     ]
    }
   ],
   "source": [
    "VF_SFR_ks_stat, VF_SFR_p = ks_2samp(SFR[void_vf], SFR[wall_vf])\n",
    "\n",
    "V2_SFR_ks_stat, V2_SFR_p = ks_2samp(SFR[void_v2], SFR[wall_v2])\n",
    "\n",
    "print('VF KS statistic = {:.3f}    p-value = {:.3e}'.format(VF_SFR_ks_stat, VF_SFR_p))\n",
    "print('V2 KS statistic = {:.3f}    p-value = {:.3e}'.format(V2_SFR_ks_stat, V2_SFR_p))"
   ]
  },
  {
   "cell_type": "code",
   "execution_count": 32,
   "metadata": {},
   "outputs": [
    {
     "name": "stdout",
     "output_type": "stream",
     "text": [
      "One of the two is stochastically greater than the other.\n",
      "VF Wilcoxon statistic = 44.075    p-value = 0.000e+00\n",
      "V2 Wilcoxon statistic = -0.861    p-value = 0.389\n"
     ]
    }
   ],
   "source": [
    "VF_SFR_wilcoxon_stat, VF_SFR_wilcoxon_p = ranksums(SFR[void_vf], \n",
    "                                                   SFR[wall_vf])#, nan_policy='omit')\n",
    "\n",
    "V2_SFR_wilcoxon_stat, V2_SFR_wilcoxon_p = ranksums(SFR[void_v2], \n",
    "                                                   SFR[wall_v2])#, nan_policy='omit')\n",
    "\n",
    "print('One of the two is stochastically greater than the other.')\n",
    "print('VF Wilcoxon statistic = {:.3f}    p-value = {:.3e}'.format(VF_SFR_wilcoxon_stat, VF_SFR_wilcoxon_p))\n",
    "print('V2 Wilcoxon statistic = {:.3f}    p-value = {:.3f}'.format(V2_SFR_wilcoxon_stat, V2_SFR_wilcoxon_p))"
   ]
  },
  {
   "cell_type": "code",
   "execution_count": 33,
   "metadata": {},
   "outputs": [
    {
     "name": "stdout",
     "output_type": "stream",
     "text": [
      "Void is stochastically less than wall.\n",
      "VF Wilcoxon statistic = 44.075    p-value = 1.000e+00\n",
      "V2 Wilcoxon statistic = -0.861    p-value = 0.195\n"
     ]
    }
   ],
   "source": [
    "VF_SFR_wilcoxon_stat, VF_SFR_wilcoxon_p = ranksums(SFR[void_vf], \n",
    "                                                   SFR[wall_vf], \n",
    "                                                   alternative='less')#, nan_policy='omit')\n",
    "\n",
    "V2_SFR_wilcoxon_stat, V2_SFR_wilcoxon_p = ranksums(SFR[void_v2], \n",
    "                                                   SFR[wall_v2], \n",
    "                                                   alternative='less')#, nan_policy='omit')\n",
    "\n",
    "print('Void is stochastically less than wall.')\n",
    "print('VF Wilcoxon statistic = {:.3f}    p-value = {:.3e}'.format(VF_SFR_wilcoxon_stat, VF_SFR_wilcoxon_p))\n",
    "print('V2 Wilcoxon statistic = {:.3f}    p-value = {:.3f}'.format(V2_SFR_wilcoxon_stat, V2_SFR_wilcoxon_p))"
   ]
  },
  {
   "cell_type": "code",
   "execution_count": 34,
   "metadata": {},
   "outputs": [
    {
     "name": "stdout",
     "output_type": "stream",
     "text": [
      "Void is stochastically greater than wall.\n",
      "VF Wilcoxon statistic = 44.075    p-value = 0.000e+00\n",
      "V2 Wilcoxon statistic = -0.861    p-value = 0.805\n"
     ]
    }
   ],
   "source": [
    "VF_SFR_wilcoxon_stat, VF_SFR_wilcoxon_p = ranksums(SFR[void_vf], \n",
    "                                                   SFR[wall_vf], \n",
    "                                                   alternative='greater')#, nan_policy='omit')\n",
    "\n",
    "V2_SFR_wilcoxon_stat, V2_SFR_wilcoxon_p = ranksums(SFR[void_v2], \n",
    "                                                   SFR[wall_v2], \n",
    "                                                   alternative='greater')#, nan_policy='omit')\n",
    "\n",
    "print('Void is stochastically greater than wall.')\n",
    "print('VF Wilcoxon statistic = {:.3f}    p-value = {:.3e}'.format(VF_SFR_wilcoxon_stat, VF_SFR_wilcoxon_p))\n",
    "print('V2 Wilcoxon statistic = {:.3f}    p-value = {:.3f}'.format(V2_SFR_wilcoxon_stat, V2_SFR_wilcoxon_p))"
   ]
  },
  {
   "cell_type": "markdown",
   "metadata": {},
   "source": [
    "## sSFR"
   ]
  },
  {
   "cell_type": "code",
   "execution_count": 35,
   "metadata": {},
   "outputs": [
    {
     "name": "stdout",
     "output_type": "stream",
     "text": [
      "VF KS statistic = 0.144    p-value = 0.000e+00\n",
      "V2 KS statistic = 0.005    p-value = 0.038\n"
     ]
    }
   ],
   "source": [
    "VF_sSFR_ks_stat, VF_sSFR_p = ks_2samp(sSFR[void_vf], sSFR[wall_vf])\n",
    "\n",
    "V2_sSFR_ks_stat, V2_sSFR_p = ks_2samp(sSFR[void_v2], sSFR[wall_v2])\n",
    "\n",
    "print('VF KS statistic = {:.3f}    p-value = {:.3e}'.format(VF_sSFR_ks_stat, VF_sSFR_p))\n",
    "print('V2 KS statistic = {:.3f}    p-value = {:.3f}'.format(V2_sSFR_ks_stat, V2_sSFR_p))"
   ]
  },
  {
   "cell_type": "code",
   "execution_count": 37,
   "metadata": {},
   "outputs": [
    {
     "name": "stdout",
     "output_type": "stream",
     "text": [
      "One of the two is stochastically greater than the other.\n",
      "VF Wilcoxon statistic = 80.796    p-value = 0.000e+00\n",
      "V2 Wilcoxon statistic = 4.083    p-value = 4.443e-05\n"
     ]
    }
   ],
   "source": [
    "VF_sSFR_wilcoxon_stat, VF_sSFR_wilcoxon_p = ranksums(sSFR[void_vf], \n",
    "                                                     sSFR[wall_vf])#, nan_policy='omit')\n",
    "\n",
    "V2_sSFR_wilcoxon_stat, V2_sSFR_wilcoxon_p = ranksums(sSFR[void_v2], \n",
    "                                                     sSFR[wall_v2])#, nan_policy='omit')\n",
    "\n",
    "print('One of the two is stochastically greater than the other.')\n",
    "print('VF Wilcoxon statistic = {:.3f}    p-value = {:.3e}'.format(VF_sSFR_wilcoxon_stat, VF_sSFR_wilcoxon_p))\n",
    "print('V2 Wilcoxon statistic = {:.3f}    p-value = {:.3e}'.format(V2_sSFR_wilcoxon_stat, V2_sSFR_wilcoxon_p))"
   ]
  },
  {
   "cell_type": "code",
   "execution_count": 39,
   "metadata": {},
   "outputs": [
    {
     "name": "stdout",
     "output_type": "stream",
     "text": [
      "Void is stochastically less than wall.\n",
      "VF Wilcoxon statistic = 80.796    p-value = 1.000e+00\n",
      "V2 Wilcoxon statistic = 4.083    p-value = 1.000e+00\n"
     ]
    }
   ],
   "source": [
    "VF_sSFR_wilcoxon_stat, VF_sSFR_wilcoxon_p = ranksums(sSFR[void_vf], \n",
    "                                                     sSFR[wall_vf], \n",
    "                                                     alternative='less')#, nan_policy='omit')\n",
    "\n",
    "V2_sSFR_wilcoxon_stat, V2_sSFR_wilcoxon_p = ranksums(sSFR[void_v2], \n",
    "                                                     sSFR[wall_v2], \n",
    "                                                     alternative='less')#, nan_policy='omit')\n",
    "\n",
    "print('Void is stochastically less than wall.')\n",
    "print('VF Wilcoxon statistic = {:.3f}    p-value = {:.3e}'.format(VF_sSFR_wilcoxon_stat, VF_sSFR_wilcoxon_p))\n",
    "print('V2 Wilcoxon statistic = {:.3f}    p-value = {:.3e}'.format(V2_sSFR_wilcoxon_stat, V2_sSFR_wilcoxon_p))"
   ]
  },
  {
   "cell_type": "code",
   "execution_count": 41,
   "metadata": {},
   "outputs": [
    {
     "name": "stdout",
     "output_type": "stream",
     "text": [
      "Void is stochastically greater than wall.\n",
      "VF Wilcoxon statistic = 80.796    p-value = 0.000e+00\n",
      "V2 Wilcoxon statistic = 4.083    p-value = 2.221e-05\n"
     ]
    }
   ],
   "source": [
    "VF_sSFR_wilcoxon_stat, VF_sSFR_wilcoxon_p = ranksums(sSFR[void_vf], \n",
    "                                                     sSFR[wall_vf], \n",
    "                                                     alternative='greater')#, nan_policy='omit')\n",
    "\n",
    "V2_sSFR_wilcoxon_stat, V2_sSFR_wilcoxon_p = ranksums(sSFR[void_v2], \n",
    "                                                     sSFR[wall_v2], \n",
    "                                                     alternative='greater')#, nan_policy='omit')\n",
    "\n",
    "print('Void is stochastically greater than wall.')\n",
    "print('VF Wilcoxon statistic = {:.3f}    p-value = {:.3e}'.format(VF_sSFR_wilcoxon_stat, VF_sSFR_wilcoxon_p))\n",
    "print('V2 Wilcoxon statistic = {:.3f}    p-value = {:.3e}'.format(V2_sSFR_wilcoxon_stat, V2_sSFR_wilcoxon_p))"
   ]
  },
  {
   "cell_type": "code",
   "execution_count": null,
   "metadata": {},
   "outputs": [],
   "source": []
  }
 ],
 "metadata": {
  "kernelspec": {
   "display_name": "Python 3 (ipykernel)",
   "language": "python",
   "name": "python3"
  },
  "language_info": {
   "codemirror_mode": {
    "name": "ipython",
    "version": 3
   },
   "file_extension": ".py",
   "mimetype": "text/x-python",
   "name": "python",
   "nbconvert_exporter": "python",
   "pygments_lexer": "ipython3",
   "version": "3.8.12"
  },
  "toc": {
   "base_numbering": 1,
   "nav_menu": {},
   "number_sections": true,
   "sideBar": true,
   "skip_h1_title": false,
   "title_cell": "Table of Contents",
   "title_sidebar": "Contents",
   "toc_cell": false,
   "toc_position": {},
   "toc_section_display": true,
   "toc_window_display": false
  }
 },
 "nbformat": 4,
 "nbformat_minor": 4
}
