{
 "cells": [
  {
   "cell_type": "markdown",
   "metadata": {},
   "source": [
    "This was orignally a section in `galaxy properties by environment-updated.ipynb`.  I have no idea what Fatima was looking at in here, but it is not part of the main code."
   ]
  },
  {
   "cell_type": "code",
   "execution_count": 1,
   "metadata": {
    "hide_input": false
   },
   "outputs": [],
   "source": [
    "from astropy.table import Table\n",
    "from astropy.io import fits\n",
    "#from astropy.io import ascii\n",
    "\n",
    "#from sklearn import neighbors\n",
    "from sklearn.neighbors import NearestNeighbors\n",
    "\n",
    "import numpy as np\n",
    "\n",
    "import sys\n",
    "\n",
    "import matplotlib\n",
    "import matplotlib.pyplot as plt\n",
    "from matplotlib import ticker\n",
    "\n",
    "from scipy import stats\n",
    "from scipy.integrate import quad\n",
    "\n",
    "import pickle\n",
    "\n",
    "import random\n",
    "\n",
    "# np.set_printoptions(threshold=sys.maxsize)"
   ]
  },
  {
   "cell_type": "markdown",
   "metadata": {},
   "source": [
    "### Importing data and classification"
   ]
  },
  {
   "cell_type": "code",
   "execution_count": 46,
   "metadata": {},
   "outputs": [],
   "source": [
    "# data_old = Table.read('data_flags_updated_Oct8.dat', format = 'ascii')\n",
    "data = Table.read('data_flags_updated_Nov1.dat', format = 'ascii')"
   ]
  },
  {
   "cell_type": "code",
   "execution_count": 3,
   "metadata": {},
   "outputs": [],
   "source": [
    "# list_ = []\n",
    "# for i in np.linspace(0.1,2,100):\n",
    "#     with open('galaxy_in_voidv2_indices'+str(i), 'rb') as ind_file:\n",
    "#         list_.append(pickle.load(ind_file))\n",
    "# list_= np.array(list_)\n",
    "# len(list_)\n",
    "\n",
    "# #flatten the index file, np.flatten doesnt get it done\n",
    "# ind_maximal_voidgal=[] # 18 arrays, each contains the list of galaxies within that radius of the maximal sphere\n",
    "# temp=[]\n",
    "# for k in range(len(list_)):\n",
    "#     for i in range(len(list_[k])): #641\n",
    "#         for j in range(len(list_[k][i])): # number of particles in maximal sphere\n",
    "#             temp.append(list_[k][i][j]) \n",
    "#     ind_maximal_voidgal.append(temp)\n",
    "#     temp=[]\n",
    "# ind_maximal_voidgal=np.array(ind_maximal_voidgal)\n",
    "\n",
    "# np.array(ind_maximal_voidgal).shape"
   ]
  },
  {
   "cell_type": "code",
   "execution_count": 47,
   "metadata": {},
   "outputs": [],
   "source": [
    "# ra,dec,z\n",
    "ra = np.array(data['ra'])\n",
    "dec = np.array(data['dec'])\n",
    "z = np.array(data['redshift'])\n",
    "\n",
    "#stellar mass\n",
    "Mstar = np.array(data['Mstar'])\n",
    "# Mstar = Mstar[np.logical_not(np.isnan(Mstar))] \n",
    "Mstar_NSA= np.array(data['Mstar_NSA'])\n",
    "# color\n",
    "u_r = np.array(data['u_r'])\n",
    "# u_r = u_r[np.logical_not(np.isnan(u_r))] \n",
    "\n",
    "g_r = np.array(data['g_r'])\n",
    "# g_r = g_r[np.logical_not(np.isnan(g_r))] \n",
    "\n",
    "# u_r_NSA = np.array(data['u_r_NSA'])\n",
    "# g_r_NSA = np.array(data['g_r_NSA'])\n",
    "# absolute magniture\n",
    "rabsmag = np.array(data['rabsmag'])\n",
    "# rabsmag = rabsmag[np.logical_not(np.isnan(rabsmag))] \n",
    "\n",
    "rabsmag_NSA = np.array(data['rabsmag_NSA'])\n",
    "#star formation rate and specific SPR\n",
    "SFR  = np.array(data['SFR'])\n",
    "# SFR = SFR[np.logical_not(np.isnan(SFR))] \n",
    "\n",
    "sSFR = np.array(data['sSFR'])\n",
    "# sSFR = sSFR[np.logical_not(np.isnan(sSFR))] \n",
    "\n",
    "#classification V^2\n",
    "\n",
    "wall_v2 = np.argwhere(data['flag_vsquared'] == 0).flatten()\n",
    "void_v2 = np.argwhere(data['flag_vsquared'] == 1).flatten()\n",
    "edge_v2 = np.argwhere(data['flag_vsquared'] == 2).flatten()\n",
    "out_v2 = np.argwhere(data['flag_vsquared'] == 9).flatten()\n",
    "\n",
    "#classification voidfinder\n",
    "\n",
    "wall_vf = np.argwhere(data['flag_voidfinder'] == 0).flatten()\n",
    "void_vf = np.argwhere(data['flag_voidfinder'] == 1).flatten()\n",
    "edge_vf = np.argwhere(data['flag_voidfinder'] == 2).flatten()\n",
    "out_vf = np.argwhere(data['flag_voidfinder'] == 9).flatten()\n",
    "\n",
    "# len(wall_v2)+len(void_v2)+len(edge_v2)+len(out_v2),len(wall_vf)+len(void_vf)+len(edge_vf)+len(out_vf), len(data) #check"
   ]
  },
  {
   "cell_type": "code",
   "execution_count": 48,
   "metadata": {},
   "outputs": [],
   "source": []
  },
  {
   "cell_type": "code",
   "execution_count": 51,
   "metadata": {},
   "outputs": [],
   "source": []
  },
  {
   "cell_type": "code",
   "execution_count": 43,
   "metadata": {},
   "outputs": [],
   "source": [
    "all_survey = data[data['redshift']< 0.1026]"
   ]
  },
  {
   "cell_type": "code",
   "execution_count": 212,
   "metadata": {},
   "outputs": [
    {
     "data": {
      "text/plain": [
       "81.505031"
      ]
     },
     "execution_count": 212,
     "metadata": {},
     "output_type": "execute_result"
    }
   ],
   "source": [
    "np.max(all_survey['dec'])-np.min(all_survey['dec'])"
   ]
  },
  {
   "cell_type": "code",
   "execution_count": 59,
   "metadata": {},
   "outputs": [],
   "source": [
    "wall_vf_survey = np.argwhere(all_survey['flag_voidfinder'] == 0).flatten()\n",
    "void_vf_survey = np.argwhere(all_survey['flag_voidfinder'] == 1).flatten()\n",
    "edge_vf_survey = np.argwhere(all_survey['flag_voidfinder'] == 2).flatten()\n",
    "out_vf_survey = np.argwhere(all_survey['flag_voidfinder'] == 9).flatten()\n",
    "\n",
    "wall_v2_survey = np.argwhere(all_survey['flag_vsquared'] == 0).flatten()\n",
    "void_v2_survey = np.argwhere(all_survey['flag_vsquared'] == 1).flatten()\n",
    "edge_v2_survey = np.argwhere(all_survey['flag_vsquared'] == 2).flatten()\n",
    "out_v2_survey = np.argwhere(all_survey['flag_vsquared'] == 9).flatten()"
   ]
  },
  {
   "cell_type": "code",
   "execution_count": null,
   "metadata": {},
   "outputs": [],
   "source": [
    "# all_survey = data[data['redshift']< 0.1026]\n",
    "# glx_M_ind = np.logical_and(all_survey['rabsmag']>-18.2, all_survey['rabsmag']<-16.8)\n",
    "\n",
    "# wall_vf_M_ind = all_survey[glx_M_ind]['flag_voidfinder'] ==0\n",
    "# void_vf_M_ind = all_survey[glx_M_ind]['flag_voidfinder'] ==1\n",
    "\n",
    "# void_v2_M_ind = all_survey[glx_M_ind]['flag_vsquared'] ==1\n",
    "# wall_v2_M_ind = all_survey[glx_M_ind]['flag_vsquared'] ==0\n",
    "\n"
   ]
  },
  {
   "cell_type": "code",
   "execution_count": 190,
   "metadata": {},
   "outputs": [],
   "source": [
    "glx_M_ind = np.logical_and(all_survey['rabsmag']>-18.2, all_survey['rabsmag']<-16.8) # index from all survey of \n",
    "# galaxies with -18.2<M<-16.8 total of 29433 galaxies.\n",
    "# out of these for  #np.sum(all_survey[glx_M_ind]['flag_vsquared'] ==9)\n",
    "#---VF: 14035 are wall , 8506 are void, 6892 are edge , 0 outside.\n",
    "#---V2: 11716 are wall , 14665 are void, 3039 are edge , 13 outside."
   ]
  },
  {
   "cell_type": "code",
   "execution_count": 196,
   "metadata": {},
   "outputs": [],
   "source": [
    "wall_v2_M_ind = all_survey[glx_M_ind]['flag_vsquared'] ==0\n",
    "wall_vf_M_ind = all_survey[glx_M_ind]['flag_voidfinder'] ==0\n",
    "\n",
    "void_v2_M_ind = all_survey[glx_M_ind]['flag_vsquared'] ==1\n",
    "void_vf_M_ind = all_survey[glx_M_ind]['flag_voidfinder'] ==1"
   ]
  },
  {
   "cell_type": "code",
   "execution_count": 38,
   "metadata": {},
   "outputs": [],
   "source": [
    "\n",
    "\n",
    "\n",
    "c = 299792\n",
    "\n",
    "\n",
    "\n",
    "\n",
    "def f(a,omega_m):\n",
    "     return 1/(np.sqrt(a*omega_m*(1+((1-omega_m)*a**3/omega_m))))\n",
    "\n",
    "\n",
    "\n",
    "def Distance(z,omega_m,h):\n",
    "    dist = np.ones(len(z))\n",
    "    H0 = 100*h\n",
    "    for i,redshift in enumerate(z):\n",
    "        a_start = 1/(1+redshift)\n",
    "        I = quad(f,a_start,1,args=omega_m)\n",
    "        dist[i] = I[0]*(c/H0)\n",
    "    return dist\n",
    "\n",
    "# def Rabsmag(omega_m,app_mag,z,h):\n",
    "#     comovingdist = Distance(z,omega_m,h)*1e6\n",
    "#     return app_mag -(5*np.log10(comovingdist))+5"
   ]
  },
  {
   "cell_type": "code",
   "execution_count": 213,
   "metadata": {},
   "outputs": [],
   "source": [
    "from astropy import units as u"
   ]
  },
  {
   "cell_type": "code",
   "execution_count": 220,
   "metadata": {},
   "outputs": [],
   "source": [
    "d = 301*u.parsec*10**(-6)"
   ]
  },
  {
   "cell_type": "code",
   "execution_count": 225,
   "metadata": {},
   "outputs": [
    {
     "data": {
      "text/latex": [
       "$0.000301 \\; \\mathrm{pc}$"
      ],
      "text/plain": [
       "<Quantity 0.000301 pc>"
      ]
     },
     "execution_count": 225,
     "metadata": {},
     "output_type": "execute_result"
    }
   ],
   "source": [
    "d"
   ]
  },
  {
   "cell_type": "code",
   "execution_count": 230,
   "metadata": {},
   "outputs": [],
   "source": [
    "ra_=(360*u.deg).to(u.rad)\n",
    "dec_=(81*u.deg).to(u.rad)"
   ]
  },
  {
   "cell_type": "code",
   "execution_count": 231,
   "metadata": {},
   "outputs": [
    {
     "data": {
      "text/latex": [
       "$284631.44 \\; \\mathrm{rad}$"
      ],
      "text/plain": [
       "<Quantity 284631.43600789 rad>"
      ]
     },
     "execution_count": 231,
     "metadata": {},
     "output_type": "execute_result"
    }
   ],
   "source": [
    "A=(ra_/2)*(301**2) #Mpc^2\n",
    "A"
   ]
  },
  {
   "cell_type": "code",
   "execution_count": 221,
   "metadata": {},
   "outputs": [
    {
     "ename": "UnitConversionError",
     "evalue": "'pc' (length) and 'deg' (angle) are not convertible",
     "output_type": "error",
     "traceback": [
      "\u001b[0;31m---------------------------------------------------------------------------\u001b[0m",
      "\u001b[0;31mUnitConversionError\u001b[0m                       Traceback (most recent call last)",
      "\u001b[0;32m<ipython-input-221-3e6c9c85a27f>\u001b[0m in \u001b[0;36m<module>\u001b[0;34m()\u001b[0m\n\u001b[0;32m----> 1\u001b[0;31m \u001b[0md\u001b[0m\u001b[0;34m.\u001b[0m\u001b[0mto\u001b[0m\u001b[0;34m(\u001b[0m\u001b[0mu\u001b[0m\u001b[0;34m.\u001b[0m\u001b[0mdeg\u001b[0m\u001b[0;34m)\u001b[0m\u001b[0;34m\u001b[0m\u001b[0m\n\u001b[0m",
      "\u001b[0;32m/software/python3/3.6.5/lib/python3.6/site-packages/astropy/units/quantity.py\u001b[0m in \u001b[0;36mto\u001b[0;34m(self, unit, equivalencies)\u001b[0m\n\u001b[1;32m    687\u001b[0m         \u001b[0;31m# and don't want to slow down this method (esp. the scalar case).\u001b[0m\u001b[0;34m\u001b[0m\u001b[0;34m\u001b[0m\u001b[0m\n\u001b[1;32m    688\u001b[0m         \u001b[0munit\u001b[0m \u001b[0;34m=\u001b[0m \u001b[0mUnit\u001b[0m\u001b[0;34m(\u001b[0m\u001b[0munit\u001b[0m\u001b[0;34m)\u001b[0m\u001b[0;34m\u001b[0m\u001b[0m\n\u001b[0;32m--> 689\u001b[0;31m         \u001b[0;32mreturn\u001b[0m \u001b[0mself\u001b[0m\u001b[0;34m.\u001b[0m\u001b[0m_new_view\u001b[0m\u001b[0;34m(\u001b[0m\u001b[0mself\u001b[0m\u001b[0;34m.\u001b[0m\u001b[0m_to_value\u001b[0m\u001b[0;34m(\u001b[0m\u001b[0munit\u001b[0m\u001b[0;34m,\u001b[0m \u001b[0mequivalencies\u001b[0m\u001b[0;34m)\u001b[0m\u001b[0;34m,\u001b[0m \u001b[0munit\u001b[0m\u001b[0;34m)\u001b[0m\u001b[0;34m\u001b[0m\u001b[0m\n\u001b[0m\u001b[1;32m    690\u001b[0m \u001b[0;34m\u001b[0m\u001b[0m\n\u001b[1;32m    691\u001b[0m     \u001b[0;32mdef\u001b[0m \u001b[0mto_value\u001b[0m\u001b[0;34m(\u001b[0m\u001b[0mself\u001b[0m\u001b[0;34m,\u001b[0m \u001b[0munit\u001b[0m\u001b[0;34m=\u001b[0m\u001b[0;32mNone\u001b[0m\u001b[0;34m,\u001b[0m \u001b[0mequivalencies\u001b[0m\u001b[0;34m=\u001b[0m\u001b[0;34m[\u001b[0m\u001b[0;34m]\u001b[0m\u001b[0;34m)\u001b[0m\u001b[0;34m:\u001b[0m\u001b[0;34m\u001b[0m\u001b[0m\n",
      "\u001b[0;32m/software/python3/3.6.5/lib/python3.6/site-packages/astropy/units/quantity.py\u001b[0m in \u001b[0;36m_to_value\u001b[0;34m(self, unit, equivalencies)\u001b[0m\n\u001b[1;32m    659\u001b[0m             \u001b[0mequivalencies\u001b[0m \u001b[0;34m=\u001b[0m \u001b[0mself\u001b[0m\u001b[0;34m.\u001b[0m\u001b[0m_equivalencies\u001b[0m\u001b[0;34m\u001b[0m\u001b[0m\n\u001b[1;32m    660\u001b[0m         return self.unit.to(unit, self.view(np.ndarray),\n\u001b[0;32m--> 661\u001b[0;31m                             equivalencies=equivalencies)\n\u001b[0m\u001b[1;32m    662\u001b[0m \u001b[0;34m\u001b[0m\u001b[0m\n\u001b[1;32m    663\u001b[0m     \u001b[0;32mdef\u001b[0m \u001b[0mto\u001b[0m\u001b[0;34m(\u001b[0m\u001b[0mself\u001b[0m\u001b[0;34m,\u001b[0m \u001b[0munit\u001b[0m\u001b[0;34m,\u001b[0m \u001b[0mequivalencies\u001b[0m\u001b[0;34m=\u001b[0m\u001b[0;34m[\u001b[0m\u001b[0;34m]\u001b[0m\u001b[0;34m)\u001b[0m\u001b[0;34m:\u001b[0m\u001b[0;34m\u001b[0m\u001b[0m\n",
      "\u001b[0;32m/software/python3/3.6.5/lib/python3.6/site-packages/astropy/units/core.py\u001b[0m in \u001b[0;36mto\u001b[0;34m(self, other, value, equivalencies)\u001b[0m\n\u001b[1;32m    985\u001b[0m             \u001b[0;32mreturn\u001b[0m \u001b[0mUNITY\u001b[0m\u001b[0;34m\u001b[0m\u001b[0m\n\u001b[1;32m    986\u001b[0m         \u001b[0;32melse\u001b[0m\u001b[0;34m:\u001b[0m\u001b[0;34m\u001b[0m\u001b[0m\n\u001b[0;32m--> 987\u001b[0;31m             \u001b[0;32mreturn\u001b[0m \u001b[0mself\u001b[0m\u001b[0;34m.\u001b[0m\u001b[0m_get_converter\u001b[0m\u001b[0;34m(\u001b[0m\u001b[0mother\u001b[0m\u001b[0;34m,\u001b[0m \u001b[0mequivalencies\u001b[0m\u001b[0;34m=\u001b[0m\u001b[0mequivalencies\u001b[0m\u001b[0;34m)\u001b[0m\u001b[0;34m(\u001b[0m\u001b[0mvalue\u001b[0m\u001b[0;34m)\u001b[0m\u001b[0;34m\u001b[0m\u001b[0m\n\u001b[0m\u001b[1;32m    988\u001b[0m \u001b[0;34m\u001b[0m\u001b[0m\n\u001b[1;32m    989\u001b[0m     \u001b[0;32mdef\u001b[0m \u001b[0min_units\u001b[0m\u001b[0;34m(\u001b[0m\u001b[0mself\u001b[0m\u001b[0;34m,\u001b[0m \u001b[0mother\u001b[0m\u001b[0;34m,\u001b[0m \u001b[0mvalue\u001b[0m\u001b[0;34m=\u001b[0m\u001b[0;36m1.0\u001b[0m\u001b[0;34m,\u001b[0m \u001b[0mequivalencies\u001b[0m\u001b[0;34m=\u001b[0m\u001b[0;34m[\u001b[0m\u001b[0;34m]\u001b[0m\u001b[0;34m)\u001b[0m\u001b[0;34m:\u001b[0m\u001b[0;34m\u001b[0m\u001b[0m\n",
      "\u001b[0;32m/software/python3/3.6.5/lib/python3.6/site-packages/astropy/units/core.py\u001b[0m in \u001b[0;36m_get_converter\u001b[0;34m(self, other, equivalencies)\u001b[0m\n\u001b[1;32m    916\u001b[0m                             \u001b[0;32mpass\u001b[0m\u001b[0;34m\u001b[0m\u001b[0m\n\u001b[1;32m    917\u001b[0m \u001b[0;34m\u001b[0m\u001b[0m\n\u001b[0;32m--> 918\u001b[0;31m             \u001b[0;32mraise\u001b[0m \u001b[0mexc\u001b[0m\u001b[0;34m\u001b[0m\u001b[0m\n\u001b[0m\u001b[1;32m    919\u001b[0m \u001b[0;34m\u001b[0m\u001b[0m\n\u001b[1;32m    920\u001b[0m     \u001b[0;32mdef\u001b[0m \u001b[0m_to\u001b[0m\u001b[0;34m(\u001b[0m\u001b[0mself\u001b[0m\u001b[0;34m,\u001b[0m \u001b[0mother\u001b[0m\u001b[0;34m)\u001b[0m\u001b[0;34m:\u001b[0m\u001b[0;34m\u001b[0m\u001b[0m\n",
      "\u001b[0;32m/software/python3/3.6.5/lib/python3.6/site-packages/astropy/units/core.py\u001b[0m in \u001b[0;36m_get_converter\u001b[0;34m(self, other, equivalencies)\u001b[0m\n\u001b[1;32m    902\u001b[0m         \u001b[0;32mtry\u001b[0m\u001b[0;34m:\u001b[0m\u001b[0;34m\u001b[0m\u001b[0m\n\u001b[1;32m    903\u001b[0m             return self._apply_equivalencies(\n\u001b[0;32m--> 904\u001b[0;31m                 self, other, self._normalize_equivalencies(equivalencies))\n\u001b[0m\u001b[1;32m    905\u001b[0m         \u001b[0;32mexcept\u001b[0m \u001b[0mUnitsError\u001b[0m \u001b[0;32mas\u001b[0m \u001b[0mexc\u001b[0m\u001b[0;34m:\u001b[0m\u001b[0;34m\u001b[0m\u001b[0m\n\u001b[1;32m    906\u001b[0m             \u001b[0;31m# Last hope: maybe other knows how to do it?\u001b[0m\u001b[0;34m\u001b[0m\u001b[0;34m\u001b[0m\u001b[0m\n",
      "\u001b[0;32m/software/python3/3.6.5/lib/python3.6/site-packages/astropy/units/core.py\u001b[0m in \u001b[0;36m_apply_equivalencies\u001b[0;34m(self, unit, other, equivalencies)\u001b[0m\n\u001b[1;32m    886\u001b[0m         raise UnitConversionError(\n\u001b[1;32m    887\u001b[0m             \"{} and {} are not convertible\".format(\n\u001b[0;32m--> 888\u001b[0;31m                 unit_str, other_str))\n\u001b[0m\u001b[1;32m    889\u001b[0m \u001b[0;34m\u001b[0m\u001b[0m\n\u001b[1;32m    890\u001b[0m     \u001b[0;32mdef\u001b[0m \u001b[0m_get_converter\u001b[0m\u001b[0;34m(\u001b[0m\u001b[0mself\u001b[0m\u001b[0;34m,\u001b[0m \u001b[0mother\u001b[0m\u001b[0;34m,\u001b[0m \u001b[0mequivalencies\u001b[0m\u001b[0;34m=\u001b[0m\u001b[0;34m[\u001b[0m\u001b[0;34m]\u001b[0m\u001b[0;34m)\u001b[0m\u001b[0;34m:\u001b[0m\u001b[0;34m\u001b[0m\u001b[0m\n",
      "\u001b[0;31mUnitConversionError\u001b[0m: 'pc' (length) and 'deg' (angle) are not convertible"
     ]
    }
   ],
   "source": [
    "ra=s/d  # radi"
   ]
  },
  {
   "cell_type": "code",
   "execution_count": 209,
   "metadata": {},
   "outputs": [
    {
     "data": {
      "text/plain": [
       "array([  0.        , 301.27299424])"
      ]
     },
     "execution_count": 209,
     "metadata": {},
     "output_type": "execute_result"
    }
   ],
   "source": [
    "Distance([0,0.1026],0.26,1)  #Mpc"
   ]
  },
  {
   "cell_type": "code",
   "execution_count": 195,
   "metadata": {},
   "outputs": [
    {
     "data": {
      "text/plain": [
       "0.046657"
      ]
     },
     "execution_count": 195,
     "metadata": {},
     "output_type": "execute_result"
    }
   ],
   "source": [
    "np.max(all_survey[glx_M_ind][wall_vf_M_ind]['redshift'])-np.min(all_survey[glx_M_ind][wall_vf_M_ind]['redshift'])"
   ]
  },
  {
   "cell_type": "code",
   "execution_count": 194,
   "metadata": {},
   "outputs": [
    {
     "data": {
      "text/plain": [
       "0.050605"
      ]
     },
     "execution_count": 194,
     "metadata": {},
     "output_type": "execute_result"
    }
   ],
   "source": [
    "np.max(all_survey[glx_M_ind][wall_v2_M_ind]['redshift'])-np.min(all_survey[glx_M_ind][wall_v2_M_ind]['redshift'])"
   ]
  },
  {
   "cell_type": "code",
   "execution_count": 198,
   "metadata": {},
   "outputs": [
    {
     "data": {
      "text/plain": [
       "0.048368"
      ]
     },
     "execution_count": 198,
     "metadata": {},
     "output_type": "execute_result"
    }
   ],
   "source": [
    "np.max(all_survey[glx_M_ind][void_v2_M_ind]['redshift'])-np.min(all_survey[glx_M_ind][void_v2_M_ind]['redshift'])"
   ]
  },
  {
   "cell_type": "code",
   "execution_count": 199,
   "metadata": {},
   "outputs": [
    {
     "data": {
      "text/plain": [
       "0.050605"
      ]
     },
     "execution_count": 199,
     "metadata": {},
     "output_type": "execute_result"
    }
   ],
   "source": [
    "np.max(all_survey[glx_M_ind][wall_v2_M_ind]['redshift'])-np.min(all_survey[glx_M_ind][wall_v2_M_ind]['redshift'])"
   ]
  },
  {
   "cell_type": "code",
   "execution_count": 183,
   "metadata": {},
   "outputs": [
    {
     "data": {
      "text/html": [
       "&lt;Column name=&apos;redshift&apos; dtype=&apos;float64&apos; length=0&gt;\n",
       "<table>\n",
       "</table>"
      ],
      "text/plain": [
       "<Column name='redshift' dtype='float64' length=0>"
      ]
     },
     "execution_count": 183,
     "metadata": {},
     "output_type": "execute_result"
    }
   ],
   "source": [
    "all_survey[glx_M_ind][wall_vf_M_ind]['redshift']"
   ]
  },
  {
   "cell_type": "code",
   "execution_count": 182,
   "metadata": {},
   "outputs": [
    {
     "ename": "ValueError",
     "evalue": "zero-size array to reduction operation maximum which has no identity",
     "output_type": "error",
     "traceback": [
      "\u001b[0;31m---------------------------------------------------------------------------\u001b[0m",
      "\u001b[0;31mValueError\u001b[0m                                Traceback (most recent call last)",
      "\u001b[0;32m<ipython-input-182-0b6cf0aa6147>\u001b[0m in \u001b[0;36m<module>\u001b[0;34m()\u001b[0m\n\u001b[0;32m----> 1\u001b[0;31m \u001b[0mnp\u001b[0m\u001b[0;34m.\u001b[0m\u001b[0mmax\u001b[0m\u001b[0;34m(\u001b[0m\u001b[0mall_survey\u001b[0m\u001b[0;34m[\u001b[0m\u001b[0mglx_M_ind\u001b[0m\u001b[0;34m]\u001b[0m\u001b[0;34m[\u001b[0m\u001b[0mwall_vf_M_ind\u001b[0m\u001b[0;34m]\u001b[0m\u001b[0;34m[\u001b[0m\u001b[0;34m'redshift'\u001b[0m\u001b[0;34m]\u001b[0m\u001b[0;34m)\u001b[0m\u001b[0;34m-\u001b[0m\u001b[0mnp\u001b[0m\u001b[0;34m.\u001b[0m\u001b[0mmin\u001b[0m\u001b[0;34m(\u001b[0m\u001b[0mall_survey\u001b[0m\u001b[0;34m[\u001b[0m\u001b[0mglx_M_ind\u001b[0m\u001b[0;34m]\u001b[0m\u001b[0;34m[\u001b[0m\u001b[0mwall_vf_M_ind\u001b[0m\u001b[0;34m]\u001b[0m\u001b[0;34m[\u001b[0m\u001b[0;34m'redshift'\u001b[0m\u001b[0;34m]\u001b[0m\u001b[0;34m)\u001b[0m\u001b[0;34m\u001b[0m\u001b[0m\n\u001b[0m",
      "\u001b[0;32m<__array_function__ internals>\u001b[0m in \u001b[0;36mamax\u001b[0;34m(*args, **kwargs)\u001b[0m\n",
      "\u001b[0;32m/software/python3/3.6.5/lib/python3.6/site-packages/numpy/core/fromnumeric.py\u001b[0m in \u001b[0;36mamax\u001b[0;34m(a, axis, out, keepdims, initial, where)\u001b[0m\n\u001b[1;32m   2666\u001b[0m     \"\"\"\n\u001b[1;32m   2667\u001b[0m     return _wrapreduction(a, np.maximum, 'max', axis, None, out,\n\u001b[0;32m-> 2668\u001b[0;31m                           keepdims=keepdims, initial=initial, where=where)\n\u001b[0m\u001b[1;32m   2669\u001b[0m \u001b[0;34m\u001b[0m\u001b[0m\n\u001b[1;32m   2670\u001b[0m \u001b[0;34m\u001b[0m\u001b[0m\n",
      "\u001b[0;32m/software/python3/3.6.5/lib/python3.6/site-packages/numpy/core/fromnumeric.py\u001b[0m in \u001b[0;36m_wrapreduction\u001b[0;34m(obj, ufunc, method, axis, dtype, out, **kwargs)\u001b[0m\n\u001b[1;32m     86\u001b[0m                 \u001b[0;32mreturn\u001b[0m \u001b[0mreduction\u001b[0m\u001b[0;34m(\u001b[0m\u001b[0maxis\u001b[0m\u001b[0;34m=\u001b[0m\u001b[0maxis\u001b[0m\u001b[0;34m,\u001b[0m \u001b[0mdtype\u001b[0m\u001b[0;34m=\u001b[0m\u001b[0mdtype\u001b[0m\u001b[0;34m,\u001b[0m \u001b[0mout\u001b[0m\u001b[0;34m=\u001b[0m\u001b[0mout\u001b[0m\u001b[0;34m,\u001b[0m \u001b[0;34m**\u001b[0m\u001b[0mpasskwargs\u001b[0m\u001b[0;34m)\u001b[0m\u001b[0;34m\u001b[0m\u001b[0m\n\u001b[1;32m     87\u001b[0m             \u001b[0;32melse\u001b[0m\u001b[0;34m:\u001b[0m\u001b[0;34m\u001b[0m\u001b[0m\n\u001b[0;32m---> 88\u001b[0;31m                 \u001b[0;32mreturn\u001b[0m \u001b[0mreduction\u001b[0m\u001b[0;34m(\u001b[0m\u001b[0maxis\u001b[0m\u001b[0;34m=\u001b[0m\u001b[0maxis\u001b[0m\u001b[0;34m,\u001b[0m \u001b[0mout\u001b[0m\u001b[0;34m=\u001b[0m\u001b[0mout\u001b[0m\u001b[0;34m,\u001b[0m \u001b[0;34m**\u001b[0m\u001b[0mpasskwargs\u001b[0m\u001b[0;34m)\u001b[0m\u001b[0;34m\u001b[0m\u001b[0m\n\u001b[0m\u001b[1;32m     89\u001b[0m \u001b[0;34m\u001b[0m\u001b[0m\n\u001b[1;32m     90\u001b[0m     \u001b[0;32mreturn\u001b[0m \u001b[0mufunc\u001b[0m\u001b[0;34m.\u001b[0m\u001b[0mreduce\u001b[0m\u001b[0;34m(\u001b[0m\u001b[0mobj\u001b[0m\u001b[0;34m,\u001b[0m \u001b[0maxis\u001b[0m\u001b[0;34m,\u001b[0m \u001b[0mdtype\u001b[0m\u001b[0;34m,\u001b[0m \u001b[0mout\u001b[0m\u001b[0;34m,\u001b[0m \u001b[0;34m**\u001b[0m\u001b[0mpasskwargs\u001b[0m\u001b[0;34m)\u001b[0m\u001b[0;34m\u001b[0m\u001b[0m\n",
      "\u001b[0;32m/software/python3/3.6.5/lib/python3.6/site-packages/numpy/core/_methods.py\u001b[0m in \u001b[0;36m_amax\u001b[0;34m(a, axis, out, keepdims, initial, where)\u001b[0m\n\u001b[1;32m     28\u001b[0m def _amax(a, axis=None, out=None, keepdims=False,\n\u001b[1;32m     29\u001b[0m           initial=_NoValue, where=True):\n\u001b[0;32m---> 30\u001b[0;31m     \u001b[0;32mreturn\u001b[0m \u001b[0mumr_maximum\u001b[0m\u001b[0;34m(\u001b[0m\u001b[0ma\u001b[0m\u001b[0;34m,\u001b[0m \u001b[0maxis\u001b[0m\u001b[0;34m,\u001b[0m \u001b[0;32mNone\u001b[0m\u001b[0;34m,\u001b[0m \u001b[0mout\u001b[0m\u001b[0;34m,\u001b[0m \u001b[0mkeepdims\u001b[0m\u001b[0;34m,\u001b[0m \u001b[0minitial\u001b[0m\u001b[0;34m,\u001b[0m \u001b[0mwhere\u001b[0m\u001b[0;34m)\u001b[0m\u001b[0;34m\u001b[0m\u001b[0m\n\u001b[0m\u001b[1;32m     31\u001b[0m \u001b[0;34m\u001b[0m\u001b[0m\n\u001b[1;32m     32\u001b[0m def _amin(a, axis=None, out=None, keepdims=False,\n",
      "\u001b[0;31mValueError\u001b[0m: zero-size array to reduction operation maximum which has no identity"
     ]
    }
   ],
   "source": [
    "np.max(all_survey[glx_M_ind][wall_vf_M_ind]['redshift'])-np.min(all_survey[glx_M_ind][wall_vf_M_ind]['redshift'])"
   ]
  },
  {
   "cell_type": "code",
   "execution_count": 171,
   "metadata": {},
   "outputs": [
    {
     "data": {
      "text/plain": [
       "(29433, 366727)"
      ]
     },
     "execution_count": 171,
     "metadata": {},
     "output_type": "execute_result"
    }
   ],
   "source": [
    "len(wall_v2_M_ind), len(glx_M_ind)"
   ]
  },
  {
   "cell_type": "code",
   "execution_count": 160,
   "metadata": {},
   "outputs": [],
   "source": [
    "z_gap=[]\n",
    "ra_gap=[]\n",
    "dec_gap=[]\n",
    "z_max=[]\n",
    "z_min=[]\n",
    "for i in range(500):\n",
    "    a = np.random.uniform(-22+(18.2-16.8),-16+(18.2-16.8))\n",
    "    b = a-(18.2-16.8)\n",
    "#     a,b\n",
    "    glx_M_ind_test = np.logical_and(all_survey['rabsmag']>b, all_survey['rabsmag']<a) # index from all survey of \n",
    "    z_gap.append((np.max(all_survey[glx_M_ind_test]['redshift'])-np.min(all_survey[glx_M_ind_test]['redshift'])))\n",
    "    ra_gap.append((np.max(all_survey[glx_M_ind_test]['ra'])-np.min(all_survey[glx_M_ind_test]['ra'])))\n",
    "    dec_gap.append((np.max(all_survey[glx_M_ind_test]['dec'])-np.min(all_survey[glx_M_ind_test]['dec'])))\n",
    "    z_max.append(np.max(all_survey[glx_M_ind_test]['redshift']))\n",
    "    z_min.append(np.min(all_survey[glx_M_ind_test]['redshift']))\n",
    "\n",
    "    # total redshift gap: 0.1026, dec_gap=81.505031, ra_gap=359.988597\n",
    "#     z_gap,ra_gap,dec_gap"
   ]
  },
  {
   "cell_type": "code",
   "execution_count": 237,
   "metadata": {},
   "outputs": [
    {
     "data": {
      "text/plain": [
       "[-20.6, -19.200000000000003, -17.800000000000004, -16.400000000000006]"
      ]
     },
     "execution_count": 237,
     "metadata": {},
     "output_type": "execute_result"
    }
   ],
   "source": [
    "0.095261, 0.099704,0.080,0.04"
   ]
  },
  {
   "cell_type": "code",
   "execution_count": 249,
   "metadata": {},
   "outputs": [],
   "source": [
    "glx_M_ind_test = np.logical_and(all_survey['rabsmag']>-22+4*(18.2-16.8), all_survey['rabsmag']<-22+5*(18.2-16.8)) # index from all survey of \n",
    "z_gap=(np.max(all_survey[glx_M_ind_test]['redshift'])-np.min(all_survey[glx_M_ind_test]['redshift']))\n",
    "ra_gap=(np.max(all_survey[glx_M_ind_test]['ra'])-np.min(all_survey[glx_M_ind_test]['ra']))\n",
    "dec_gap=(np.max(all_survey[glx_M_ind_test]['dec'])-np.min(all_survey[glx_M_ind_test]['dec']))\n",
    "z_max=np.max(all_survey[glx_M_ind_test]['redshift'])\n",
    "z_min=np.min(all_survey[glx_M_ind_test]['redshift'])"
   ]
  },
  {
   "cell_type": "code",
   "execution_count": 250,
   "metadata": {},
   "outputs": [
    {
     "data": {
      "text/plain": [
       "0.02461"
      ]
     },
     "execution_count": 250,
     "metadata": {},
     "output_type": "execute_result"
    }
   ],
   "source": [
    "z_gap"
   ]
  },
  {
   "cell_type": "code",
   "execution_count": 232,
   "metadata": {},
   "outputs": [
    {
     "data": {
      "image/png": "[encoded data removed]",
      "text/plain": [
       "<Figure size 432x288 with 1 Axes>"
      ]
     },
     "metadata": {},
     "output_type": "display_data"
    }
   ],
   "source": [
    "plt.hist(z_gap) # similar to z_max\n",
    "plt.xlabel(\"z_range\")\n",
    "plt.ylabel(\"counts\")\n",
    "plt.show()"
   ]
  },
  {
   "cell_type": "code",
   "execution_count": 151,
   "metadata": {},
   "outputs": [
    {
     "data": {
      "text/plain": [
       "(0.07550100000000001, 359.95642699999996, 81.348173)"
      ]
     },
     "execution_count": 151,
     "metadata": {},
     "output_type": "execute_result"
    }
   ],
   "source": []
  },
  {
   "cell_type": "code",
   "execution_count": 105,
   "metadata": {},
   "outputs": [
    {
     "data": {
      "text/plain": [
       "0.052938"
      ]
     },
     "execution_count": 105,
     "metadata": {},
     "output_type": "execute_result"
    }
   ],
   "source": [
    "np.max(all_survey[glx_M_ind]['redshift'])"
   ]
  },
  {
   "cell_type": "code",
   "execution_count": 100,
   "metadata": {},
   "outputs": [
    {
     "data": {
      "text/plain": [
       "0.051803999999999996"
      ]
     },
     "execution_count": 100,
     "metadata": {},
     "output_type": "execute_result"
    }
   ],
   "source": [
    "(np.max(all_survey[glx_M_ind]['redshift'])-np.min(all_survey[glx_M_ind]['redshift']))"
   ]
  },
  {
   "cell_type": "code",
   "execution_count": 102,
   "metadata": {},
   "outputs": [
    {
     "data": {
      "text/plain": [
       "(359.88966500000004, 359.98859799999997)"
      ]
     },
     "execution_count": 102,
     "metadata": {},
     "output_type": "execute_result"
    }
   ],
   "source": [
    "(np.max(all_survey[glx_M_ind]['ra'])-np.min(all_survey[glx_M_ind]['ra'])), np.max(all_survey['ra'])-np.min(all_survey['ra'])"
   ]
  },
  {
   "cell_type": "code",
   "execution_count": 103,
   "metadata": {},
   "outputs": [
    {
     "data": {
      "text/plain": [
       "(81.333935, 81.505031)"
      ]
     },
     "execution_count": 103,
     "metadata": {},
     "output_type": "execute_result"
    }
   ],
   "source": [
    "(np.max(all_survey[glx_M_ind]['dec'])-np.min(all_survey[glx_M_ind]['dec'])), np.max(all_survey['dec'])-np.min(all_survey['dec'])"
   ]
  },
  {
   "cell_type": "code",
   "execution_count": 55,
   "metadata": {},
   "outputs": [
    {
     "data": {
      "text/plain": [
       "29433"
      ]
     },
     "execution_count": 55,
     "metadata": {},
     "output_type": "execute_result"
    }
   ],
   "source": [
    "np.sum(glx_M_ind)"
   ]
  },
  {
   "cell_type": "code",
   "execution_count": null,
   "metadata": {},
   "outputs": [],
   "source": []
  },
  {
   "cell_type": "code",
   "execution_count": 10,
   "metadata": {},
   "outputs": [
    {
     "data": {
      "text/plain": [
       "(0.501055631519114, 0.5258210572719592)"
      ]
     },
     "execution_count": 10,
     "metadata": {},
     "output_type": "execute_result"
    }
   ],
   "source": [
    "len(void_vf)/len(wall_vf), len(wall_v2)/len(void_v2)"
   ]
  },
  {
   "cell_type": "code",
   "execution_count": 22,
   "metadata": {},
   "outputs": [
    {
     "name": "stdout",
     "output_type": "stream",
     "text": [
      "why would the galaxies with -18<M<-16 be more likely to fall in the walls of v^2. if they subtend a small volume of the survey \n"
     ]
    }
   ],
   "source": [
    "print(\"why would the galaxies with -18<M<-16 be more likely to fall in the walls of v^2. if they subtend a small volume of the survey \")"
   ]
  },
  {
   "cell_type": "code",
   "execution_count": 19,
   "metadata": {},
   "outputs": [
    {
     "data": {
      "text/plain": [
       "(114507, 217768)"
      ]
     },
     "execution_count": 19,
     "metadata": {},
     "output_type": "execute_result"
    }
   ],
   "source": [
    "len(wall_v2), len(void_v2)"
   ]
  },
  {
   "cell_type": "code",
   "execution_count": 33,
   "metadata": {},
   "outputs": [],
   "source": [
    "np.intersect1d??"
   ]
  },
  {
   "cell_type": "code",
   "execution_count": 35,
   "metadata": {},
   "outputs": [
    {
     "data": {
      "text/plain": [
       "(114507, 114507)"
      ]
     },
     "execution_count": 35,
     "metadata": {},
     "output_type": "execute_result"
    }
   ],
   "source": [
    "len(np.unique(wall_v2)), len(wall_v2)"
   ]
  },
  {
   "cell_type": "code",
   "execution_count": 30,
   "metadata": {},
   "outputs": [],
   "source": [
    "inter_wall = np.intersect1d(wall_vf, wall_v2, return_indices=True)"
   ]
  },
  {
   "cell_type": "code",
   "execution_count": 40,
   "metadata": {},
   "outputs": [
    {
     "data": {
      "text/plain": [
       "(114507, 190881, 58814)"
      ]
     },
     "execution_count": 40,
     "metadata": {},
     "output_type": "execute_result"
    }
   ],
   "source": [
    "len(wall_v2), len(wall_vf), len(inter_wall[0])"
   ]
  },
  {
   "cell_type": "code",
   "execution_count": 36,
   "metadata": {},
   "outputs": [
    {
     "data": {
      "text/plain": [
       "array([   466,    471,    594, ..., 707812, 707813, 707816])"
      ]
     },
     "execution_count": 36,
     "metadata": {},
     "output_type": "execute_result"
    }
   ],
   "source": [
    "wall_vf[np.array(inter_wall)[1]]"
   ]
  },
  {
   "cell_type": "code",
   "execution_count": 37,
   "metadata": {},
   "outputs": [
    {
     "data": {
      "text/plain": [
       "array([   466,    471,    594, ..., 707812, 707813, 707816])"
      ]
     },
     "execution_count": 37,
     "metadata": {},
     "output_type": "execute_result"
    }
   ],
   "source": [
    "wall_v2[np.array(inter_wall)[2]]"
   ]
  },
  {
   "cell_type": "code",
   "execution_count": 14,
   "metadata": {},
   "outputs": [
    {
     "data": {
      "text/plain": [
       "(66867, 95642, 217768)"
      ]
     },
     "execution_count": 14,
     "metadata": {},
     "output_type": "execute_result"
    }
   ],
   "source": [
    "len(np.intersect1d(void_vf, void_v2)), len(void_vf), len(void_v2)"
   ]
  },
  {
   "cell_type": "code",
   "execution_count": 17,
   "metadata": {},
   "outputs": [
    {
     "data": {
      "text/plain": [
       "(131980, 217768, 190881)"
      ]
     },
     "execution_count": 17,
     "metadata": {},
     "output_type": "execute_result"
    }
   ],
   "source": [
    "len(np.intersect1d(void_v2, wall_vf)), len(void_v2), len(wall_vf)"
   ]
  },
  {
   "cell_type": "markdown",
   "metadata": {},
   "source": [
    "### void environment of galaxies with apparents magnitude <-20 and >-20"
   ]
  },
  {
   "cell_type": "code",
   "execution_count": 24,
   "metadata": {},
   "outputs": [],
   "source": [
    "bright_ind=np.argwhere(data['rabsmag'] <-20).flatten()"
   ]
  },
  {
   "cell_type": "code",
   "execution_count": 28,
   "metadata": {},
   "outputs": [],
   "source": [
    "bright_wall_v2=np.intersect1d(wall_v2,bright_ind)\n",
    "bright_out_v2=np.intersect1d(out_v2,bright_ind)\n",
    "bright_void_v2=np.intersect1d(void_v2,bright_ind)\n",
    "bright_edge_v2=np.intersect1d(edge_v2,bright_ind)\n",
    "\n",
    "bright_wall_vf=np.intersect1d(wall_vf,bright_ind)\n",
    "bright_out_vf=np.intersect1d(out_vf,bright_ind)\n",
    "bright_void_vf=np.intersect1d(void_vf,bright_ind)\n",
    "bright_edge_vf=np.intersect1d(edge_vf,bright_ind)"
   ]
  },
  {
   "cell_type": "code",
   "execution_count": 29,
   "metadata": {},
   "outputs": [],
   "source": [
    "faint_ind=np.argwhere(data['rabsmag'] >-20).flatten()"
   ]
  },
  {
   "cell_type": "code",
   "execution_count": 30,
   "metadata": {},
   "outputs": [],
   "source": [
    "faint_wall_v2=np.intersect1d(wall_v2,faint_ind)\n",
    "faint_out_v2=np.intersect1d(out_v2,faint_ind)\n",
    "faint_void_v2=np.intersect1d(void_v2,faint_ind)\n",
    "faint_edge_v2=np.intersect1d(edge_v2,faint_ind)\n",
    "\n",
    "faint_wall_vf=np.intersect1d(wall_vf,faint_ind)\n",
    "faint_out_vf=np.intersect1d(out_vf,faint_ind)\n",
    "faint_void_vf=np.intersect1d(void_vf,faint_ind)\n",
    "faint_edge_vf=np.intersect1d(edge_vf,faint_ind)"
   ]
  },
  {
   "cell_type": "code",
   "execution_count": 188,
   "metadata": {},
   "outputs": [],
   "source": [
    "def hist_bright(voidfinder=True):\n",
    "    if voidfinder:\n",
    "        wall=bright_wall_vf\n",
    "        void=bright_void_vf\n",
    "        edge=bright_edge_vf\n",
    "        out=bright_out_vf\n",
    "        label=\"bright VF\"\n",
    "    if voidfinder ==False:\n",
    "        wall=bright_wall_v2\n",
    "        void=bright_void_v2\n",
    "        edge=bright_edge_v2\n",
    "        out=bright_out_v2     \n",
    "        label=\"bright V2\"\n",
    "    plt.figure(figsize=(35, 20))\n",
    "    plt.hist(rabsmag[edge], label=\"edge\",bins=np.linspace(-21,-5, 350), color=\"purple\", alpha=0.4)\n",
    "    plt.hist(rabsmag[wall], alpha =0.5, color=\"green\",label=\"wall\",bins=np.linspace(-23,-19.9, 250))\n",
    "    plt.hist(rabsmag[bright_ind], alpha =0.1,color='gray', label=\"all faint\",bins=np.linspace(-23,-19.9, 250))\n",
    "\n",
    "#     plt.hist(rabsmag[out], alpha=0.4, color=\"blue\",label=\"out\",bins=np.linspace(-23,-19.9, 250))\n",
    "    plt.hist(rabsmag[void], alpha =0.4,color=\"red\", label=\"void\",bins=np.linspace(-23,-19.9, 250))\n",
    "    plt.title(label, fontsize=35)\n",
    "    plt.legend(fontsize=35)\n",
    "    plt.xlim(-19.8,-23.1)\n",
    "    plt.xlabel(\"abs_mag\", fontsize=35)\n",
    "    plt.show()"
   ]
  },
  {
   "cell_type": "code",
   "execution_count": 194,
   "metadata": {},
   "outputs": [],
   "source": [
    "def hist_faint(voidfinder=True):\n",
    "    if voidfinder:\n",
    "        wall=faint_wall_vf\n",
    "        void=faint_void_vf\n",
    "        edge=faint_edge_vf\n",
    "        out=faint_out_vf\n",
    "        label=\"faint VF\"\n",
    "    if voidfinder ==False:\n",
    "        wall=faint_wall_v2\n",
    "        void=faint_void_v2\n",
    "        edge=faint_edge_v2\n",
    "        out=faint_out_v2     \n",
    "        label=\"faint V2\"\n",
    "    plt.figure(figsize=(35, 20))\n",
    "    plt.hist(rabsmag[edge], label=\"edge\",bins=np.linspace(-21,-5, 350), color=\"purple\", alpha=0.4)\n",
    "    plt.hist(rabsmag[wall], alpha =0.5, color=\"green\",label=\"wall\",bins=np.linspace(-21,-5, 200))\n",
    "    plt.hist(rabsmag[faint_ind], alpha =0.2,color='gray', label=\"all faint\",bins=np.linspace(-21,-5, 200))\n",
    "\n",
    "#     plt.hist(rabsmag[out], alpha=0.4, color=\"blue\",label=\"out\",bins=np.linspace(-21,-5, 200))\n",
    "    plt.hist(rabsmag[void], alpha =0.4,color=\"red\", label=\"void\",bins=np.linspace(-21,-5, 200))\n",
    "    plt.title(label, fontsize=35)\n",
    "    plt.legend(fontsize=35)\n",
    "    plt.xlim(-5,-21)\n",
    "    plt.xlabel(\"abs_mag\", fontsize=35)\n",
    "\n",
    "    plt.show()"
   ]
  },
  {
   "cell_type": "code",
   "execution_count": 195,
   "metadata": {},
   "outputs": [
    {
     "data": {
      "image/png": "[encoded data removed]",
      "text/plain": [
       "<Figure size 2520x1440 with 1 Axes>"
      ]
     },
     "metadata": {},
     "output_type": "display_data"
    }
   ],
   "source": [
    "hist_bright()"
   ]
  },
  {
   "cell_type": "code",
   "execution_count": 196,
   "metadata": {
    "scrolled": false
   },
   "outputs": [
    {
     "data": {
      "image/png": "[encoded data removed]",
      "text/plain": [
       "<Figure size 2520x1440 with 1 Axes>"
      ]
     },
     "metadata": {},
     "output_type": "display_data"
    }
   ],
   "source": [
    "hist_faint()"
   ]
  },
  {
   "cell_type": "code",
   "execution_count": 201,
   "metadata": {},
   "outputs": [
    {
     "data": {
      "text/plain": [
       "95642"
      ]
     },
     "execution_count": 201,
     "metadata": {},
     "output_type": "execute_result"
    }
   ],
   "source": [
    "len(void_vf)"
   ]
  },
  {
   "cell_type": "code",
   "execution_count": 197,
   "metadata": {},
   "outputs": [
    {
     "data": {
      "image/png": "[encoded data removed]",
      "text/plain": [
       "<Figure size 2520x1440 with 1 Axes>"
      ]
     },
     "metadata": {},
     "output_type": "display_data"
    }
   ],
   "source": [
    "hist_bright(voidfinder=False)"
   ]
  },
  {
   "cell_type": "code",
   "execution_count": 198,
   "metadata": {},
   "outputs": [
    {
     "data": {
      "image/png": "[encoded data removed]",
      "text/plain": [
       "<Figure size 2520x1440 with 1 Axes>"
      ]
     },
     "metadata": {},
     "output_type": "display_data"
    }
   ],
   "source": [
    "hist_faint(voidfinder=False)"
   ]
  },
  {
   "cell_type": "markdown",
   "metadata": {},
   "source": [
    "test"
   ]
  },
  {
   "cell_type": "code",
   "execution_count": 16,
   "metadata": {},
   "outputs": [],
   "source": [
    "# wall_v2_old = np.argwhere(data_old['flag_vsquared'] == 0).flatten()\n",
    "# void_v2_old = np.argwhere(data_old['flag_vsquared'] == 1).flatten()\n",
    "# edge_v2_old = np.argwhere(data_old['flag_vsquared'] == 2).flatten()\n",
    "# out_v2_old = np.argwhere(data_old['flag_vsquared'] == 9).flatten()\n",
    "\n",
    "# #classification voidfinder\n",
    "\n",
    "# wall_vf_old = np.argwhere(data_old['flag_voidfinder'] == 0).flatten()\n",
    "# void_vf_old = np.argwhere(data_old['flag_voidfinder'] == 1).flatten()\n",
    "# edge_vf_old = np.argwhere(data_old['flag_voidfinder'] == 2).flatten()\n",
    "# out_vf_old = np.argwhere(data_old['flag_voidfinder'] == 9).flatten()"
   ]
  },
  {
   "cell_type": "code",
   "execution_count": 8,
   "metadata": {},
   "outputs": [
    {
     "name": "stdout",
     "output_type": "stream",
     "text": [
      "114507 217768 34392 341150\n",
      "190881 95642 78696 342598\n"
     ]
    }
   ],
   "source": [
    "print(len(wall_v2),len(void_v2) ,len(edge_v2),len(out_v2))\n",
    "print(len(wall_vf),len(void_vf) , len(edge_vf), len(out_vf))\n"
   ]
  },
  {
   "cell_type": "code",
   "execution_count": 12,
   "metadata": {
    "scrolled": true
   },
   "outputs": [],
   "source": [
    "# ind_gal_maximal_voidv2 = []\n",
    "\n",
    "# for i in range(len(ind_maximal_voidgal)):\n",
    "#     ind_gal_maximal_voidv2.append(list(set(ind_maximal_voidgal[i]) & set(void_v2)))\n",
    "\n",
    "# ind_gal_maximal_voidv2= np.array(ind_gal_maximal_voidv2)\n",
    "# ind_gal_maximal_voidv2.shape"
   ]
  },
  {
   "cell_type": "code",
   "execution_count": 13,
   "metadata": {},
   "outputs": [],
   "source": [
    "# galzone = Table.read('DR7_galzones.dat', format =  'ascii' )\n",
    "# depth = np.array(galzone['depth'])\n",
    "# galaxy_depth = []\n",
    "# for i in range(np.max(depth)):\n",
    "#     galaxy_depth.append(np.argwhere(depth==i))\n",
    "# galaxy_depth=np.array(galaxy_depth)"
   ]
  },
  {
   "cell_type": "code",
   "execution_count": 14,
   "metadata": {},
   "outputs": [],
   "source": [
    "# ind_gal_depth_voidv2 = []\n",
    "\n",
    "# for j in range(galaxy_depth.shape[0]):\n",
    "#     print(j)\n",
    "#     ind_gal_depth_voidv2.append(galaxy_depth[j][np.isin(galaxy_depth[j],void_v2)])\n",
    "# ind_gal_depth_voidv2= np.array(ind_gal_depth_voidv2)\n",
    "# ind_gal_depth_voidv2.shape"
   ]
  },
  {
   "cell_type": "markdown",
   "metadata": {},
   "source": [
    "### Where does the galaxies that are assigned a depth lie?"
   ]
  },
  {
   "cell_type": "code",
   "execution_count": 15,
   "metadata": {
    "scrolled": true
   },
   "outputs": [],
   "source": [
    "# plt.hist(z[void_v2])\n",
    "# plt.show()\n",
    "# plt.hist(z[gal_depth])\n",
    "# plt.show()"
   ]
  },
  {
   "cell_type": "code",
   "execution_count": 16,
   "metadata": {},
   "outputs": [],
   "source": [
    "# plt.figure(figsize=(45, 25))\n",
    "# plt.scatter(ra[gal_depth][0.1<z<0.2], dec[gal_depth][0.1<z<0.2], color='orange', alpha=0.5, label=\"depth\")\n",
    "# # plt.scatter(ra,dec, alpha=0.01)\n",
    "# # plt.scatter(ra[void_v2],dec[void_v2], alpha=0.05, label=\"void\")\n",
    "# # plt.title(\"dec/ra overlap of void galaxies and galaxies with depth\", fontsize=45)\n",
    "# # plt.legend(fontsize=45)\n",
    "# # plt.xlabel(\"ra\",fontsize=45)\n",
    "# # plt.ylabel(\"dec\",fontsize=45)\n",
    "# # plt.savefig(\"overlap_void_depth.eps\", dpi=150)\n",
    "# # plt.show()"
   ]
  },
  {
   "cell_type": "markdown",
   "metadata": {},
   "source": [
    "### plotting as a function of depth"
   ]
  },
  {
   "cell_type": "code",
   "execution_count": 9,
   "metadata": {},
   "outputs": [],
   "source": [
    "def char_inside(char_, bins_,i, title='galaxy property', label='x-label', voidfinder=False,x=None,y=None):\n",
    "    '''\n",
    "    Plots a histogram for a galaxy charachterstic for wall and void galaxies for void depth analysis\n",
    "    \n",
    "    arguments:\n",
    "    \n",
    "    char_ : (numpy array) charachteristic of galaxy desired for plotting\n",
    "    bins_ : (numpy linear space) histogram bins\n",
    "    voidfinder : (bool) True if the classification comes from the voidfinder algorithm, False if it comes from V^2\n",
    "    x: x coordinate of the location of the algorithm's name \n",
    "    y: y coordinate of the location of the algorithm's name\n",
    "    '''    \n",
    "#     void_vf = ind_maximal_voidgal[i]\n",
    "    void_v2=ind_gal_depth_voidv2_new[i]\n",
    "#     for j in range(i+1):\n",
    "#         void_v2= np.append(void_v2,ind_gal_depth_voidv2_new[j])\n",
    "#     void_v2.astype(int)\n",
    "\n",
    "#     void_v2=np.array(new_depths['GAL_ID'][(new_depths['DEPTH_NORM'] != -1)])#ind_gal_depth_voidv2_new[i]\n",
    "    if voidfinder == True:\n",
    "        char_wall = char_[wall_vf]\n",
    "        char_void = char_[void_vf]\n",
    "#         char_edge = char_[edge_vf]\n",
    "#         char_out = char_[out_vf]\n",
    "        x_vf=x\n",
    "        y_vf=y\n",
    "    else:\n",
    "        char_wall = char_[wall_v2]\n",
    "        char_void = char_[void_v2]\n",
    "#         char_edge = char_[edge_v2]\n",
    "#         char_out = char_[out_v2]\n",
    "        x_v2=x\n",
    "        y_v2=y\n",
    "    fig, ax = plt.subplots(figsize=(10, 6))\n",
    "    \n",
    "    counts_wall, bins_wall = np.histogram(char_wall, bins= bins_)\n",
    "    counts_void, bins_void = np.histogram(char_void, bins= bins_)\n",
    "    \n",
    "#     counts_edge, bins_edge = np.histogram(char_edge, bins= bins_)\n",
    "#     counts_out, bins_out = np.histogram(char_out, bins= bins_)\n",
    "    \n",
    "    counts_all, bins_all = np.histogram(char_[data['redshift']< 0.1026], bins= bins_)\n",
    "    \n",
    "    \n",
    "    counts_wall,counts_void = np.array(counts_wall)/len(char_wall), np.array(counts_void)/len(char_void)\n",
    "#     counts_edge, counts_out = np.array(counts_edge)/len(char_edge), np.array(counts_out)/len(char_out)\n",
    "    counts_all = np.array(counts_all)/len(char_[data['redshift']< 0.1026])\n",
    "    \n",
    "    ax.hist(bins_wall[:-1], bins=bins_wall, weights=counts_wall, label = 'Wall' , color='black', histtype='step')\n",
    "    ax.hist(bins_void[:-1], bins=bins_void, weights=counts_void ,label = 'Void', color = 'red',histtype='step')\n",
    "    \n",
    "#     ax.hist(bins_edge[:-1], bins=bins_edge, weights=counts_edge ,label = 'Edge', color = 'green',histtype='step')\n",
    "#     ax.hist(bins_out[:-1], bins=bins_out, weights=counts_out ,label = 'Out', color = 'purple',histtype='step')\n",
    "\n",
    "    ax.hist(bins_all[:-1], bins=bins_all, weights=counts_all,  label = 'All', color = 'gray',alpha = 0.3)\n",
    "    \n",
    "#     if (voidfinder == True) & (x!= None):\n",
    "#         ax.text(x_vf, y_vf, \"VoidFinder\", fontsize=20)\n",
    "#     if (voidfinder == False) & (x!= None):\n",
    "#         ax.text(x_v2, y_v2, r'\\boldmath$V^{2}$', fontsize=20)\n",
    "        \n",
    "    \n",
    "    ax.legend(fontsize=14)\n",
    "#     plt.title(title, fontsize=18)\n",
    "    ax.set_xlabel(label, fontsize=20)\n",
    "    ax.set_ylabel(r\"Fraction of galaxies\",fontsize=20)\n",
    "    \n",
    "    if label == 'Absolute Magnitude' or label == 'Absolute Magnitude - NSA':\n",
    "        ax.set_xlim(-12, -24) \n",
    "    \n",
    "    plt.savefig(\"Figures_V2_radius_new/g-r/\"+\"g-r_depth\"+\"{:04d}\".format(i)+\".png\")\n",
    "    plt.show()\n",
    "    \n",
    "    \n"
   ]
  },
  {
   "cell_type": "code",
   "execution_count": 4,
   "metadata": {
    "scrolled": true
   },
   "outputs": [],
   "source": [
    "# for i in range(len(ind_gal_depth_voidv2_new)):\n",
    "# #     char_inside(g_r,np.linspace(-0.5,1.5, 250),i,'Color g_r - V^2',r'\\boldmath$g-r$',x=-0.35,y=0.025)\n",
    "#     char_inside(Mstar,np.linspace(5.5,12.5, 250),i,r'\\textbf{Star Mass - }\\boldmath${V^{2}}$',r'\\boldmath$M_{star} [ log(M_{sun}) ]$',x=6,y=0.8*0.019)\n",
    "# # char_inside(SFR,np.linspace(-3,2, 250),len(ind_gal_depth_voidv2_new)\n",
    "# # ,'star formation rate ','SFR [log(Msun/yr)]',x=-2.7,y=0.0105)"
   ]
  },
  {
   "cell_type": "code",
   "execution_count": 5,
   "metadata": {},
   "outputs": [],
   "source": [
    "# for i in range(len(ind_gal_depth_voidv2_new)):\n",
    "# #     char_inside(g_r,np.linspace(-0.5,1.5, 250),i,'Color g_r - V^2',r'\\boldmath$g-r$',x=-0.35,y=0.025)\n",
    "#     char_inside(SFR,np.linspace(-3,2, 250),i,'star formation rate ','SFR [log(Msun/yr)]',x=-2.7,y=0.0105)\n",
    "# # char_inside(SFR,np.linspace(-3,2, 250),len(ind_gal_depth_voidv2_new)\n",
    "# # ,'star formation rate ','SFR [log(Msun/yr)]',x=-2.7,y=0.0105)"
   ]
  },
  {
   "cell_type": "code",
   "execution_count": 6,
   "metadata": {
    "scrolled": true
   },
   "outputs": [],
   "source": [
    "# for i in range(len(ind_gal_depth_voidv2_new)):\n",
    "#     char_inside(g_r,np.linspace(-0.5,1.5, 250),i,'Color g_r - V^2',r'\\boldmath$g-r$',x=-0.35,y=0.025)\n",
    "# #     char_inside(SFR,np.linspace(-3,2, 250),i,'star formation rate ','SFR [log(Msun/yr)]',x=-2.7,y=0.0105)\n",
    "# # char_inside(SFR,np.linspace(-3,2, 250),len(ind_gal_depth_voidv2_new)\n",
    "# # ,'star formation rate ','SFR [log(Msun/yr)]',x=-2.7,y=0.0105)\n",
    "\n",
    "# #     char_inside(u_r,np.linspace(0,4, 250),i,'Color u_r - V^2',r'\\boldmath$u-r$',x=0.2,y=0.016)\n",
    "# #     char_inside(Mstar,np.linspace(5.5,12.5, 250),i,r'\\textbf{Star Mass - }\\boldmath${V^{2}}$',r'\\boldmath$M_{star} [ log(M_{sun}) ]$',x=6,y=0.8*0.019)\n",
    "# #     char_inside(Mstar,np.linspace(5.5,12.5, 250),i,r'\\textbf{Star Mass - Voidfinder}',r'\\boldmath$M_{star} [ log(M_{sun}) ]$',x=6,y=0.0178)\n",
    "# #     char_inside(sSFR,np.linspace(-13,-8, 250),i,'specific star formation rate - V^2','sSFR [log(1/yr)] ',x=-12.7,y=0.0105)\n",
    "# # char_void(Mstar,np.linspace(5.5,12.5, 250),'Star Mass - void galaxies',r'\\boldmath$Mstar [log(M_{sun})]$')\n",
    "# # CDF(Mstar,np.linspace(5.5,12.5, 700),'Cumulative Star Mass',r'\\boldmath$Mstar [log(M_{sun})]$')"
   ]
  },
  {
   "cell_type": "code",
   "execution_count": 10,
   "metadata": {},
   "outputs": [],
   "source": [
    "# print(\"since the last picture still shows a difference between the void galaxies and the wall galaxies, what are the extra galaxies that are causing the shift to diseappear?\")"
   ]
  },
  {
   "cell_type": "code",
   "execution_count": 26,
   "metadata": {
    "scrolled": true
   },
   "outputs": [],
   "source": [
    "# for i in range(len(ind_gal_maximal_voidv2)):\n",
    "\n",
    "#     char_inside(Mstar,np.linspace(5.5,12.5, 250),i,r'\\textbf{Star Mass - }\\boldmath${V^{2}}$',r'\\boldmath$M_{star} [ log(M_{sun}) ]$',x=6,y=0.8*0.019)\n",
    "#     char_inside(Mstar,np.linspace(5.5,12.5, 250),r'\\textbf{Star Mass - Voidfinder}',r'\\boldmath$M_{star} [ log(M_{sun}) ]$', voidfinder = True,x=6,y=0.0178)\n",
    "# char_void(Mstar,np.linspace(5.5,12.5, 250),'Star Mass - void galaxies',r'\\boldmath$Mstar [log(M_{sun})]$')\n",
    "# CDF(Mstar,np.linspace(5.5,12.5, 700),'Cumulative Star Mass',r'\\boldmath$Mstar [log(M_{sun})]$')"
   ]
  },
  {
   "cell_type": "markdown",
   "metadata": {},
   "source": [
    "### Overlap"
   ]
  },
  {
   "cell_type": "code",
   "execution_count": 12,
   "metadata": {},
   "outputs": [],
   "source": [
    "count1 =0\n",
    "for i in wall_vf:\n",
    "    if i in void_v2:\n",
    "        count1+=1"
   ]
  },
  {
   "cell_type": "code",
   "execution_count": 13,
   "metadata": {},
   "outputs": [
    {
     "data": {
      "text/plain": [
       "0.504377285679029"
      ]
     },
     "execution_count": 13,
     "metadata": {},
     "output_type": "execute_result"
    }
   ],
   "source": [
    "count1/len(wall_vf) #70% of V^2 void galaxies are classified wall in voidfinder"
   ]
  },
  {
   "cell_type": "code",
   "execution_count": 14,
   "metadata": {},
   "outputs": [
    {
     "data": {
      "text/plain": [
       "(222855, 376785)"
      ]
     },
     "execution_count": 14,
     "metadata": {},
     "output_type": "execute_result"
    }
   ],
   "source": [
    "len(wall_vf),len(void_v2) # around 200,000 for both"
   ]
  },
  {
   "cell_type": "code",
   "execution_count": 15,
   "metadata": {},
   "outputs": [],
   "source": [
    "count2=0\n",
    "test=[]\n",
    "for i in void_vf:\n",
    "    if i in void_v2:\n",
    "        count2+=1\n",
    "    else:\n",
    "        test.append(i)"
   ]
  },
  {
   "cell_type": "code",
   "execution_count": 16,
   "metadata": {},
   "outputs": [
    {
     "data": {
      "text/plain": [
       "0.5359504404560532"
      ]
     },
     "execution_count": 16,
     "metadata": {},
     "output_type": "execute_result"
    }
   ],
   "source": [
    "count2/len(void_vf) # 68% of voidfinder voids galaxies are classified void in V^2, the leftover 32% are classified wall."
   ]
  },
  {
   "cell_type": "code",
   "execution_count": 17,
   "metadata": {},
   "outputs": [
    {
     "data": {
      "text/plain": [
       "(45521, 376785)"
      ]
     },
     "execution_count": 17,
     "metadata": {},
     "output_type": "execute_result"
    }
   ],
   "source": [
    "len(void_vf), len(void_v2)"
   ]
  },
  {
   "cell_type": "code",
   "execution_count": 18,
   "metadata": {},
   "outputs": [],
   "source": [
    "count3=0\n",
    "for i in test:\n",
    "    if i in wall_v2:\n",
    "        count3+=1"
   ]
  },
  {
   "cell_type": "code",
   "execution_count": 19,
   "metadata": {},
   "outputs": [
    {
     "data": {
      "text/plain": [
       "0.9819163037303541"
      ]
     },
     "execution_count": 19,
     "metadata": {},
     "output_type": "execute_result"
    }
   ],
   "source": [
    "count3/len(test) # 95% of the 32% from above are classified wall by V^2"
   ]
  },
  {
   "cell_type": "markdown",
   "metadata": {},
   "source": [
    "#### Where do these 32% live? --- nowhere specific"
   ]
  },
  {
   "cell_type": "code",
   "execution_count": 20,
   "metadata": {},
   "outputs": [],
   "source": [
    "#test # voidfinder void galaxies that are mostly classified as wall in V^2"
   ]
  },
  {
   "cell_type": "code",
   "execution_count": 30,
   "metadata": {
    "scrolled": true
   },
   "outputs": [
    {
     "data": {
      "image/png": "[encoded data removed]",
      "text/plain": [
       "<Figure size 432x288 with 1 Axes>"
      ]
     },
     "metadata": {
      "needs_background": "light"
     },
     "output_type": "display_data"
    }
   ],
   "source": [
    "bins_=np.linspace(np.min(z),0.1026,100)\n",
    "plt.hist(z[z< 0.1026],alpha=0.8,density=True,bins=bins_,label='all',color='gray')\n",
    "plt.hist(z[edge_vf],bins=bins_,density=True,color='orange',label=\"edge\",alpha=0.3)\n",
    "plt.hist(z[test],bins=bins_,color='blue',density=True,label=\"test\", alpha =0.5)\n",
    "\n",
    "plt.legend()\n",
    "plt.title(r\"$V^{2}$\")\n",
    "plt.show()"
   ]
  },
  {
   "cell_type": "code",
   "execution_count": 31,
   "metadata": {
    "scrolled": false
   },
   "outputs": [
    {
     "data": {
      "text/plain": [
       "<matplotlib.collections.PathCollection at 0x1a2d3f7990>"
      ]
     },
     "execution_count": 31,
     "metadata": {},
     "output_type": "execute_result"
    },
    {
     "data": {
      "image/png": "[encoded data removed]",
      "text/plain": [
       "<Figure size 432x288 with 1 Axes>"
      ]
     },
     "metadata": {
      "needs_background": "light"
     },
     "output_type": "display_data"
    }
   ],
   "source": [
    "plt.scatter(ra[z< 0.1026], dec[z< 0.1026], color='orange', alpha=0.1)\n",
    "plt.scatter(ra[test],dec[test])\n"
   ]
  },
  {
   "cell_type": "code",
   "execution_count": 309,
   "metadata": {},
   "outputs": [
    {
     "data": {
      "image/png": "[encoded data removed]",
      "text/plain": [
       "<Figure size 432x288 with 1 Axes>"
      ]
     },
     "metadata": {
      "needs_background": "light"
     },
     "output_type": "display_data"
    }
   ],
   "source": [
    "counts, bins = np.histogram([1,1,1,5,5,6,7,8,9,10], np.linspace(1,10, 20))\n",
    "counts = np.array(counts)/ len(arr)\n",
    "plt.hist(bins[:-1], bins, weights=counts)\n",
    "plt.show()"
   ]
  },
  {
   "cell_type": "code",
   "execution_count": 767,
   "metadata": {},
   "outputs": [],
   "source": [
    "# ax = plt.figure(figsize=(8,4))\n",
    "# all = Mstar[data['redshift']< 0.1026]\n",
    "# counts_wall, bins_wall = np.histogram(Mstar[wall_vf], np.linspace(5.5,12.5, 250))\n",
    "# counts_void, bins_void = np.histogram(Mstar[void_vf], np.linspace(5.5,12.5, 250))\n",
    "# counts_all, bins_all = np.histogram(all, np.linspace(5.5,12.5, 250))\n",
    "\n",
    "# counts_wall,counts_void,counts_all = np.array(counts_wall)/ len(Mstar[wall_vf]),np.array(counts_void)/ len(Mstar[void_vf]),np.array(counts_all)/ len(all)\n",
    "# # plt.hist(bins_wall[:-1], bins=bins_wall, weights=counts_wall)\n",
    "# # plt.hist(bins_all[:-1], bins=bins_all, weights=counts_void)\n",
    "# # plt.hist(bins_all[:-1], bins=bins_all, weights=counts_all)\n",
    "\n",
    "# ax.plt.hist(bins_wall[:-1], bins=bins_wall, weights=counts_wall, label = 'Wall' , color='black', histtype='step')\n",
    "# ax.hist(bins_void[:-1], bins=bins_void, weights=counts_void ,label = 'Void', color = 'red',histtype='step')\n",
    "# ax.hist(bins_all[:-1], bins=bins_all, weights=counts_all,  label = 'All', color = 'gray',alpha = 0.3)\n",
    "# ax.title('Star Mass - Voidfinder')\n",
    "# ax.ylabel(r\"$\\frac{count}{total}=$ (Fraction)\",fontsize=16)\n",
    "# ax.legend()\n",
    "# ax.show()"
   ]
  },
  {
   "cell_type": "code",
   "execution_count": 7,
   "metadata": {},
   "outputs": [],
   "source": [
    "# def CDF(char_, bins_, title='galaxy property', label='x-label'):\n",
    "#     '''\n",
    "#     Plots the cumulative distribution for void,wall galaxies for both algorithms for a given galaxy property\n",
    "    \n",
    "#     arguments:\n",
    "    \n",
    "#     char_ : (numpy array) charachteristic of galaxy desired for plotting\n",
    "#     bins_ : (numpy linear space) histogram bins\n",
    "#     '''\n",
    "\n",
    "#     fig, ax = plt.subplots(figsize=(20, 6))\n",
    "\n",
    "#     ax.hist(char_[void_vf].flatten(), bins=bins_, density=True, histtype='step', label='VoidFinder Void', cumulative=True, color='red')\n",
    "#     ax.hist(char_[wall_vf].flatten(), bins=bins_, density=True, histtype='step', label='VoidFinder Wall',cumulative=True, color='red',linestyle='-.')\n",
    "#     ax.hist(char_[void_v2], bins=bins_, density=True, histtype='step', label= r'$V^{2}$ Void',cumulative=True, color='blue')\n",
    "#     ax.hist(char_[wall_v2], bins=bins_, density=True, histtype='step', label= r'$V^{2}$ Wall',cumulative=True,linestyle='-.', color='blue')\n",
    "#     ax.hist(char_[data['redshift']< 0.1026], bins=bins_, density=True, histtype='step', label='All galaxies',cumulative=True, color='gray')\n",
    "\n",
    "#     ax.grid(True)\n",
    "#     ax.legend(loc='upper right',fontsize=18)\n",
    "# #     ax.set_title(title)\n",
    "#     ax.set_xlabel(label,fontsize=20)\n",
    "#     ax.set_ylabel('Likelihood of occurrence',fontsize=20)\n",
    "\n",
    "#     if label == 'Absolute Magnitude' or label == 'Absolute Magnitude - NSA':\n",
    "#         ax.set_xlim(-12, -24) \n",
    "        \n",
    "# #     plt.savefig('figures/'+title+\".png\")\n",
    "#     plt.show()"
   ]
  },
  {
   "cell_type": "markdown",
   "metadata": {},
   "source": [
    "#### Star Mass"
   ]
  },
  {
   "cell_type": "code",
   "execution_count": 8,
   "metadata": {},
   "outputs": [],
   "source": [
    "# def scott_bin_width(data, return_bins=False):\n",
    "#     \"\"\"\n",
    "#         Scott's rule is a normal reference rule: it minimizes the integrated\n",
    "#     mean squared error in the bin approximation under the assumption that the\n",
    "#     data is approximately Gaussian.\n",
    "#     \"\"\"\n",
    "#     data = np.asarray(data)\n",
    "#     if data.ndim != 1:\n",
    "#         raise ValueError(\"data should be one-dimensional\")\n",
    "\n",
    "#     n = data.size\n",
    "#     sigma = np.std(data)\n",
    "#     dx = 3.5 * sigma / (n ** (1 / 3))\n",
    "#     if return_bins:\n",
    "#         Nbins = np.ceil((data.max() - data.min()) / dx)\n",
    "#         Nbins = max(1, Nbins)\n",
    "#         bins = data.min() + dx * np.arange(Nbins + 1)\n",
    "#         return dx, bins\n",
    "#     else:\n",
    "#         return dx"
   ]
  },
  {
   "cell_type": "code",
   "execution_count": 9,
   "metadata": {},
   "outputs": [],
   "source": [
    "# def freedman_bin_width(data, return_bins=False):\n",
    "#     \"\"\"\n",
    "#         The Freedman-Diaconis rule is a normal reference rule like Scott's\n",
    "#     rule, but uses rank-based statistics for results which are more robust\n",
    "#     to deviations from a normal distribution.\n",
    "    \n",
    "#     \"\"\"\n",
    "#     data = np.asarray(data)\n",
    "#     if data.ndim != 1:\n",
    "#         raise ValueError(\"data should be one-dimensional\")\n",
    "\n",
    "#     n = data.size\n",
    "#     if n < 4:\n",
    "#         raise ValueError(\"data should have more than three entries\")\n",
    "\n",
    "#     v25, v75 = np.percentile(data, [25, 75])\n",
    "#     dx = 2 * (v75 - v25) / (n ** (1 / 3))\n",
    "#     if return_bins:\n",
    "#         dmin, dmax = data.min(), data.max()\n",
    "#         Nbins = max(1, np.ceil((dmax - dmin) / dx))\n",
    "#         try:\n",
    "#             bins = dmin + dx * np.arange(Nbins + 1)\n",
    "#         except ValueError as e:\n",
    "#             if 'Maximum allowed size exceeded' in str(e):\n",
    "#                 raise ValueError(\n",
    "#                     'The inter-quartile range of the data is too small: '\n",
    "#                     'failed to construct histogram with {} bins. '\n",
    "#                     'Please use another bin method, such as '\n",
    "#                     'bins=\"scott\"'.format(Nbins + 1))\n",
    "#             else:  # Something else  # pragma: no cover\n",
    "#                 raise\n",
    "#         return dx, bins\n",
    "#     else:\n",
    "#         return dx"
   ]
  },
  {
   "cell_type": "code",
   "execution_count": 10,
   "metadata": {},
   "outputs": [],
   "source": [
    "# class _KnuthF:\n",
    "#     r\"\"\"Class which implements the function minimized by knuth_bin_width\n",
    "# \"\"\"\n",
    "#     def __init__(self, data):\n",
    "#         self.data = np.array(data, copy=True)\n",
    "#         if self.data.ndim != 1:\n",
    "#             raise ValueError(\"data should be 1-dimensional\")\n",
    "#         self.data.sort()\n",
    "#         self.n = self.data.size\n",
    "\n",
    "#         # import here rather than globally: scipy is an optional dependency.\n",
    "#         # Note that scipy is imported in the function which calls this,\n",
    "#         # so there shouldn't be any issue importing here.\n",
    "#         from scipy import special\n",
    "\n",
    "#         # create a reference to gammaln to use in self.eval()\n",
    "#         self.gammaln = special.gammaln\n",
    "\n",
    "#     def bins(self, M):\n",
    "#         \"\"\"Return the bin edges given a width dx\"\"\"\n",
    "#         return np.linspace(self.data[0], self.data[-1], int(M) + 1)\n",
    "\n",
    "#     def __call__(self, M):\n",
    "#         return self.eval(M)\n",
    "\n",
    "#     def eval(self, M):\n",
    "#         \"\"\"Evaluate the Knuth function\n",
    "\n",
    "#         Parameters\n",
    "#         ----------\n",
    "#         dx : float\n",
    "#             Width of bins\n",
    "\n",
    "#         Returns\n",
    "#         -------\n",
    "#         F : float\n",
    "#             evaluation of the negative Knuth likelihood function:\n",
    "#             smaller values indicate a better fit.\n",
    "#         \"\"\"\n",
    "#         M = int(M)\n",
    "\n",
    "#         if M <= 0:\n",
    "#             return np.inf\n",
    "\n",
    "#         bins = self.bins(M)\n",
    "#         nk, bins = np.histogram(self.data, bins)\n",
    "\n",
    "#         return -(self.n * np.log(M) +\n",
    "#                  self.gammaln(0.5 * M) -\n",
    "#                  M * self.gammaln(0.5) -\n",
    "#                  self.gammaln(self.n + 0.5 * M) +\n",
    "#                  np.sum(self.gammaln(nk + 0.5)))\n",
    "\n",
    "# def knuth_bin_width(data, return_bins=False, quiet=True):\n",
    "#     r\"\"\"Return the optimal histogram bin width using Knuth's rule.\n",
    "\n",
    "#     Knuth's rule is a fixed-width, Bayesian approach to determining\n",
    "#     the optimal bin width of a histogram.\n",
    "# \"\"\"\n",
    "\n",
    "#     # import here because of optional scipy dependency\n",
    "#     from scipy import optimize\n",
    "\n",
    "#     knuthF = _KnuthF(data)\n",
    "#     dx0, bins0 = freedman_bin_width(data, True)\n",
    "#     M = optimize.fmin(knuthF, len(bins0), disp=not quiet)[0]\n",
    "#     bins = knuthF.bins(M)\n",
    "#     dx = bins[1] - bins[0]\n",
    "\n",
    "#     if return_bins:\n",
    "#         return dx, bins\n",
    "#     else:\n",
    "#         return dx"
   ]
  },
  {
   "cell_type": "code",
   "execution_count": 11,
   "metadata": {},
   "outputs": [],
   "source": [
    "# scott_bin_width(Mstar[np.logical_not(np.isnan(Mstar))] )"
   ]
  },
  {
   "cell_type": "code",
   "execution_count": 12,
   "metadata": {},
   "outputs": [],
   "source": [
    "# freedman_bin_width(Mstar[np.logical_not(np.isnan(Mstar))] )"
   ]
  },
  {
   "cell_type": "code",
   "execution_count": 13,
   "metadata": {},
   "outputs": [],
   "source": [
    "# knuth_bin_width(Mstar[np.logical_not(np.isnan(Mstar))] )"
   ]
  },
  {
   "cell_type": "code",
   "execution_count": 14,
   "metadata": {},
   "outputs": [],
   "source": [
    "# np.linspace(5.5,12.5, 155)[-4]-np.linspace(5.5,12.5, 155)[-5]"
   ]
  },
  {
   "cell_type": "code",
   "execution_count": null,
   "metadata": {},
   "outputs": [],
   "source": [
    "# char(g_r,np.linspace(-0.5,1.5, 250),'Color g_r - V^2',r'\\boldmath$g-r$',x=-0.35,y=0.025)\n",
    "char_inside(g_r,np.linspace(-0.5,1.5, 250),'Color g_r - Voidfinder',r'\\boldmath$g-r$', voidfinder = True,x=-0.35,y=0.025)\n",
    "# char_void(g_r,np.linspace(-0.5,1.5, 250),'Color g_r - void galaxies',r'\\boldmath$g-r$')\n",
    "# CDF(g_r,np.linspace(-0.5,1.5, 700),'Cumulative Color g_r',r'\\boldmath$g-r$')"
   ]
  },
  {
   "cell_type": "code",
   "execution_count": null,
   "metadata": {},
   "outputs": [],
   "source": [
    "char_inside(sSFR,np.linspace(-13,-8, 250),'specific star formation rate - V^2','sSFR [log(1/yr)] ',x=-12.7,y=0.0105)\n",
    "# char(sSFR,np.linspace(-13,-8, 250),'specific star formation rate - Voidfinder','sSFR [log(1/yr)]', voidfinder = True,x=-12.7,y=0.013)\n",
    "# char_void(sSFR,np.linspace(-13,-8, 250),'specific star formation rate- void galaxies','sSFR [log(1/yr)] ')\n",
    "# CDF(sSFR,np.linspace(-13,-8, 700),'Cumulative specific star formation rate','sSFR [log(1/yr)] ')"
   ]
  }
 ],
 "metadata": {
  "kernelspec": {
   "display_name": "Python 3 (ipykernel)",
   "language": "python",
   "name": "python3"
  },
  "language_info": {
   "codemirror_mode": {
    "name": "ipython",
    "version": 3
   },
   "file_extension": ".py",
   "mimetype": "text/x-python",
   "name": "python",
   "nbconvert_exporter": "python",
   "pygments_lexer": "ipython3",
   "version": "3.8.12"
  },
  "toc": {
   "base_numbering": 1,
   "nav_menu": {},
   "number_sections": true,
   "sideBar": true,
   "skip_h1_title": false,
   "title_cell": "Table of Contents",
   "title_sidebar": "Contents",
   "toc_cell": false,
   "toc_position": {},
   "toc_section_display": true,
   "toc_window_display": false
  }
 },
 "nbformat": 4,
 "nbformat_minor": 4
}
