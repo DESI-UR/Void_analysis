{
 "cells": [
  {
   "cell_type": "code",
   "execution_count": 1,
   "id": "0a5babb8",
   "metadata": {},
   "outputs": [],
   "source": [
    "from astropy.table import Table\n",
    "import numpy as np\n",
    "import mpmath as mm\n",
    "\n",
    "from scipy.spatial import KDTree\n",
    "\n",
    "from vast.voidfinder.distance import z_to_comoving_dist"
   ]
  },
  {
   "cell_type": "code",
   "execution_count": 2,
   "id": "5ce8cbda",
   "metadata": {},
   "outputs": [],
   "source": [
    "vfv = Table.read('/home/codebind/Bootes/Holes.txt', format = 'ascii.commented_header')"
   ]
  },
  {
   "cell_type": "code",
   "execution_count": 3,
   "id": "ef135713",
   "metadata": {},
   "outputs": [],
   "source": [
    "D2R = np.pi/180\n",
    "\n",
    "def radec_to_cart(ra,decl,dist):\n",
    "    x = dist*np.cos(ra*D2R)*np.cos(decl*D2R)\n",
    "    y = dist*np.sin(ra*D2R)*np.cos(decl*D2R)\n",
    "    z = dist*np.sin(decl*D2R)\n",
    "    return x,y,z    "
   ]
  },
  {
   "cell_type": "code",
   "execution_count": 4,
   "id": "29cf9552",
   "metadata": {},
   "outputs": [],
   "source": [
    "bootes_z = 15500/300000\n",
    "bra, bdecl, bdist = 222.5, 46, z_to_comoving_dist(np.array([bootes_z],dtype=np.float32),0.315,1)\n",
    "bx,by,bz = radec_to_cart(bra, bdecl, bdist)"
   ]
  },
  {
   "cell_type": "code",
   "execution_count": 5,
   "id": "2b2473ab",
   "metadata": {},
   "outputs": [],
   "source": [
    "#centering all void finder voids on the bootes region\n",
    "vfvb = Table()\n",
    "vfvb['x'] = vfv['x']-bx\n",
    "vfvb['y'] = vfv['y']-by\n",
    "vfvb['z'] = vfv['z']-bz\n",
    "vfvb['radius'] = vfv['radius']\n",
    "vfvb['flag'] = vfv['flag']"
   ]
  },
  {
   "cell_type": "code",
   "execution_count": 6,
   "id": "be17c461",
   "metadata": {},
   "outputs": [],
   "source": [
    "def create_grid(prec):\n",
    "    #creating a cube coordinate grid in the region of Bootes and putting them into a table\n",
    "    xs = np.linspace(-62,62,int(124/prec))\n",
    "    ys = np.linspace(-62,62,int(124/prec))\n",
    "    zs = np.linspace(-62,62,int(124/prec))\n",
    "    X, Y, Z = np.meshgrid(xs, ys, zs,sparse=True)\n",
    "    x = X.reshape((np.prod(X.shape),))\n",
    "    y = Y.reshape((np.prod(Y.shape),))\n",
    "    z = Z.reshape((np.prod(Z.shape),))\n",
    "    table = list(zip(x,y,z))\n",
    "    \n",
    "    coords = Table()\n",
    "    coords['x'] = ()\n",
    "    coords['y'] = ()\n",
    "    coords['z'] = ()\n",
    "    for i in range(len(table)):\n",
    "        coords.add_row(table[i])\n",
    "    \n",
    "    #cutting off all points outside the spherical radius of Bootes Region\n",
    "    bpoints = []\n",
    "    for j in range(len(coords)):\n",
    "        rad = mm.sqrt(coords['x'][j]**2+coords['y'][j]**2+coords['z'][j]**2)\n",
    "        if (rad <= 62):\n",
    "            bpoints.append(j)\n",
    "    \n",
    "    grid = coords[bpoints]\n",
    "    grid['pnum'] = range(len(grid))\n",
    "    return grid"
   ]
  },
  {
   "cell_type": "code",
   "execution_count": 7,
   "id": "1605811c",
   "metadata": {},
   "outputs": [],
   "source": [
    "vfgrid = create_grid(.01)"
   ]
  },
  {
   "cell_type": "code",
   "execution_count": 8,
   "id": "fb027cf5",
   "metadata": {},
   "outputs": [],
   "source": [
    "def VF_volume_search(grid, depth):\n",
    "    #compiling all void points\n",
    "    vfpoints = []\n",
    "    \n",
    "    #creating a KDTree to match gridpoints to the nearest void\n",
    "    kdt = KDTree(np.array([vfvb['x'],vfvb['y'],vfvb['z']]).T)\n",
    "    distance, index = kdt.query(np.array([grid['x'],grid['y'],grid['z']]).T, k = depth)\n",
    "    grid['void_id'] = index\n",
    "    grid['void_dis'] = distance\n",
    "    \n",
    "    for i in range(len(grid)):\n",
    "        a = grid['void_id'][i]\n",
    "        b = grid['void_dis'][i]\n",
    "        for j,v in enumerate(a):\n",
    "            if b[j] <= vfvb['radius'][v]:\n",
    "                vfpoints.append(i)\n",
    "                break\n",
    "\n",
    "    vfvol = grid[vfpoints]\n",
    "    return vfvol"
   ]
  },
  {
   "cell_type": "code",
   "execution_count": 9,
   "id": "f3bd1fae",
   "metadata": {},
   "outputs": [
    {
     "name": "stdout",
     "output_type": "stream",
     "text": [
      "5020\n",
      "7158\n",
      "0.7013132159821179\n"
     ]
    }
   ],
   "source": [
    "vfvol = VF_volume_search(vfgrid, 25)\n",
    "print(len(vfvol))\n",
    "print(len(vfgrid))\n",
    "print(len(vfvol)/len(vfgrid)) #percentage of Bootes region that is in the VF voids"
   ]
  },
  {
   "cell_type": "code",
   "execution_count": 10,
   "id": "a3f7ef3f",
   "metadata": {},
   "outputs": [],
   "source": [
    "#start of V2 stuff\n",
    "\n",
    "#V2 Files\n",
    "gdata = Table.read(\"/home/codebind/Bootes/NSA_Gals.txt\", format='ascii.commented_header')\n",
    "gzdata = Table.read(\"/home/codebind/Bootes/DR7_galzones.dat\",format='ascii.commented_header')\n",
    "zvdata = Table.read(\"/home/codebind/Bootes/DR7_zonevoids.dat\",format='ascii.commented_header')"
   ]
  },
  {
   "cell_type": "code",
   "execution_count": 11,
   "id": "d52dc846",
   "metadata": {},
   "outputs": [],
   "source": [
    "gdata['zone'] = gzdata['zone']"
   ]
  },
  {
   "cell_type": "code",
   "execution_count": 12,
   "id": "dce8521a",
   "metadata": {},
   "outputs": [],
   "source": [
    "def toCoord(r,ra,dec):\n",
    "    c1 = r*np.cos(ra*D2R)*np.cos(dec*D2R)\n",
    "    c2 = r*np.sin(ra*D2R)*np.cos(dec*D2R)\n",
    "    c3 = r*np.sin(dec*D2R)\n",
    "    return c1,c2,c3"
   ]
  },
  {
   "cell_type": "code",
   "execution_count": 13,
   "id": "138e7ace",
   "metadata": {},
   "outputs": [],
   "source": [
    "v2grid = create_grid(.01)"
   ]
  },
  {
   "cell_type": "code",
   "execution_count": 14,
   "id": "b9894007",
   "metadata": {},
   "outputs": [],
   "source": [
    "def V2_volume_search(grid):\n",
    "    #matching void ID to zones in the galaxy data \n",
    "    gz = gdata['zone']\n",
    "    zv = zvdata['void0']\n",
    "    gv = -1*np.ones(len(gz))\n",
    "    for i,z in enumerate(gz):\n",
    "        if z >-1:\n",
    "            gv[i] = zv[z]\n",
    "\n",
    "    gdata['void0'] = gv\n",
    "    \n",
    "    #creating a KDTree to match grid points to the nearest galaxy\n",
    "    gr   = z_to_comoving_dist(np.array(gdata['redshift'],dtype=np.float32),0.315,1)\n",
    "    gra  = gdata['ra']\n",
    "    gdec = gdata['dec']\n",
    "    \n",
    "    gx,gy,gz = toCoord(gr,gra,gdec)\n",
    "    kdt = KDTree(np.array([(gx-bx),(gy-by),(gz-bz)]).T)\n",
    "    x = grid['x']\n",
    "    y = grid['y']\n",
    "    z = grid['z']\n",
    "    distance, galaxy = kdt.query(np.array([x,y,z]).T, k =[1])\n",
    "    grid['gal'] = galaxy\n",
    "    \n",
    "    #determining if grid point is in a void by the status of its nearest neighboring galaxy\n",
    "    grid['void0'] = -1*np.ones(len(grid))\n",
    "    for i,g in enumerate(grid['gal']):\n",
    "        grid['void0'][i] = gdata['void0'][g]\n",
    "        \n",
    "    #compiling all void points (use the the commented lines instead of the table for a simple tally)\n",
    "    v2points = []\n",
    "    for x in range(len(grid)):\n",
    "        if grid['void0'][x] >= 0:\n",
    "            v2points.append(x)\n",
    "    \n",
    "    v2vol = grid[v2points]\n",
    "    return v2vol"
   ]
  },
  {
   "cell_type": "code",
   "execution_count": 15,
   "id": "a2b78d88",
   "metadata": {},
   "outputs": [
    {
     "name": "stdout",
     "output_type": "stream",
     "text": [
      "4742\n",
      "7158\n",
      "0.6624755518301202\n"
     ]
    }
   ],
   "source": [
    "v2vol = V2_volume_search(v2grid)\n",
    "print(len(v2vol))\n",
    "print(len(v2grid))\n",
    "print(len(v2vol)/len(v2grid)) #percentage of the Bootes region that is in the V2 voids"
   ]
  },
  {
   "cell_type": "code",
   "execution_count": 16,
   "id": "b2a010e3",
   "metadata": {},
   "outputs": [],
   "source": [
    "def volume_match(vol1, vol2):\n",
    "    tally = 0\n",
    "    for num in vol1['pnum']:\n",
    "        if num in vol2['pnum']:\n",
    "            tally = tally + 1\n",
    "    return tally"
   ]
  },
  {
   "cell_type": "code",
   "execution_count": 17,
   "id": "4603bdbe",
   "metadata": {},
   "outputs": [],
   "source": [
    "matchpoints = (volume_match(v2vol,vfvol))"
   ]
  },
  {
   "cell_type": "code",
   "execution_count": 18,
   "id": "744398b4",
   "metadata": {},
   "outputs": [
    {
     "name": "stdout",
     "output_type": "stream",
     "text": [
      "0.6193227091633466\n",
      "0.6556305356389709\n",
      "0.4343392008941045\n"
     ]
    }
   ],
   "source": [
    "vf_overlap = matchpoints/len(vfvol) #percentage of the VF volume that overlaps V2\n",
    "v2_overlap = matchpoints/len(v2vol) #percentage of the V2 volume that overlaps VF\n",
    "total_overlap = matchpoints/len(vfgrid) #percentage of the total Bootes Volume that is overlapped by both VF & V2\n",
    "\n",
    "print(vf_overlap)\n",
    "print(v2_overlap)\n",
    "print(total_overlap)"
   ]
  },
  {
   "cell_type": "code",
   "execution_count": null,
   "id": "53ca1dfc",
   "metadata": {},
   "outputs": [],
   "source": []
  }
 ],
 "metadata": {
  "kernelspec": {
   "display_name": "Python 3 (ipykernel)",
   "language": "python",
   "name": "python3"
  },
  "language_info": {
   "codemirror_mode": {
    "name": "ipython",
    "version": 3
   },
   "file_extension": ".py",
   "mimetype": "text/x-python",
   "name": "python",
   "nbconvert_exporter": "python",
   "pygments_lexer": "ipython3",
   "version": "3.8.13"
  }
 },
 "nbformat": 4,
 "nbformat_minor": 5
}
