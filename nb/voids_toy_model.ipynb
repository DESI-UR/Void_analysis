{
 "cells": [
  {
   "cell_type": "markdown",
   "id": "2d0e6c91-c14d-435b-acc2-69f19c2d1e4c",
   "metadata": {},
   "source": [
    "Generate random voids (spheres) of various radii."
   ]
  },
  {
   "cell_type": "code",
   "execution_count": 21,
   "id": "db6188de-a78e-48b1-abde-74bfa1e5a64a",
   "metadata": {},
   "outputs": [],
   "source": [
    "#import math\n",
    "\n",
    "import numpy as np\n",
    "import numpy.ma as ma\n",
    "from numpy.random import default_rng\n",
    "\n",
    "import matplotlib.pyplot as plt\n",
    "from mpl_toolkits.mplot3d import Axes3D\n",
    "\n",
    "#import random\n",
    "\n",
    "import time\n",
    "\n",
    "from sklearn import neighbors"
   ]
  },
  {
   "cell_type": "markdown",
   "id": "73b68d78-5d68-4f6c-8230-489630bed156",
   "metadata": {},
   "source": [
    "# Generate mock survey grid"
   ]
  },
  {
   "cell_type": "code",
   "execution_count": 2,
   "id": "9078e5e7-a39c-405b-b657-fda9c3bb049e",
   "metadata": {},
   "outputs": [],
   "source": [
    "# Size of mock survey\n",
    "N = 10 # Mpc/h\n",
    "\n",
    "x_start, x_end = 1, N\n",
    "y_start, y_end = 1, N\n",
    "z_start, z_end = 1, N\n",
    "\n",
    "# Generate grid of points\n",
    "x = np.linspace(x_start, x_end, N)\n",
    "y = np.linspace(y_start, y_end, N)\n",
    "z = np.linspace(z_start, z_end, N)\n",
    "\n",
    "X, Y, Z = np.meshgrid(x, y, z)\n",
    "\n",
    "x_points = np.ravel(X)\n",
    "y_points = np.ravel(Y)\n",
    "z_points = np.ravel(Z)\n",
    "\n",
    "point_coords = np.array([x_points, y_points, z_points])"
   ]
  },
  {
   "cell_type": "markdown",
   "id": "ffa23c27-e7b1-4a15-a076-490953134c2a",
   "metadata": {},
   "source": [
    "# Generate fake voids"
   ]
  },
  {
   "cell_type": "code",
   "execution_count": 9,
   "id": "e7bf8b1c-8771-4b7b-8bb3-443fea63c002",
   "metadata": {},
   "outputs": [],
   "source": [
    "# Number of fake voids to generate\n",
    "n_circles = 5\n",
    "\n",
    "rng = default_rng(42)\n",
    "\n",
    "# Generate random set of void radii\n",
    "r = rng.uniform(1, 3, n_circles)\n",
    "\n",
    "# Generate random set of void centers\n",
    "circle = rng.integers(1, N, (n_circles, 3))"
   ]
  },
  {
   "cell_type": "markdown",
   "id": "c7e778b4-1085-4e4a-9173-50b293f108e6",
   "metadata": {},
   "source": [
    "# Flag all grid points that are inside a void"
   ]
  },
  {
   "cell_type": "code",
   "execution_count": 11,
   "id": "168f9732-f68f-41d5-9a18-2404c40a610e",
   "metadata": {},
   "outputs": [
    {
     "name": "stdout",
     "output_type": "stream",
     "text": [
      "[1. 1. 1.] [ 6.40312424  8.1240384  10.67707825] [3 2 4] [[5 5 4]\n",
      " [5 2 8]\n",
      " [2 9 8]] [2.39473606 2.71719584 1.1883547 ]\n",
      "False\n",
      "0.003236055374145508\n"
     ]
    }
   ],
   "source": [
    "start_time = time.time()\n",
    "\n",
    "# Build a KDTree of the voids\n",
    "circle_tree = neighbors.KDTree(circle)\n",
    "\n",
    "# Query the tree for the nearest 2 neighboring voids \n",
    "# (in case a point is closer to a smaller void but inside a larger one)\n",
    "dist, idx = circle_tree.query(point_coords.T, k=3)\n",
    "print(point_coords.T[0], dist[0], idx[0], circle[idx[0]], r[idx[0]])\n",
    "\n",
    "# Figure out which points are inside the voids\n",
    "pts2 = dist < r[idx]\n",
    "#print(pts2.shape)\n",
    "\n",
    "pts = np.any(pts2, axis=1)\n",
    "#pts = pts[:, np.newaxis]\n",
    "print(pts[0])\n",
    "#print(pts.shape)\n",
    "\n",
    "print(time.time() - start_time)"
   ]
  },
  {
   "cell_type": "markdown",
   "id": "54652076-55aa-4d81-89ac-06fbdf107f9b",
   "metadata": {},
   "source": [
    "# Create the survey mask\n",
    "\n",
    "1 = Not a void\n",
    "\n",
    "0 = Void"
   ]
  },
  {
   "cell_type": "code",
   "execution_count": 12,
   "id": "c00f19a0-4fae-4e08-9332-854a67b7c9c2",
   "metadata": {},
   "outputs": [],
   "source": [
    "# Mask\n",
    "M = np.ones(X.shape)"
   ]
  },
  {
   "cell_type": "code",
   "execution_count": 13,
   "id": "f35b194e-a934-479f-b40b-472b36a4d923",
   "metadata": {},
   "outputs": [],
   "source": [
    "M[pts.reshape(X.shape)] = 0"
   ]
  },
  {
   "cell_type": "code",
   "execution_count": 14,
   "id": "4ec47157-7744-4448-95dc-7b47c4c6b9e6",
   "metadata": {},
   "outputs": [
    {
     "data": {
      "image/png": "[encoded data removed]",
      "text/plain": [
       "<Figure size 432x288 with 2 Axes>"
      ]
     },
     "metadata": {
      "needs_background": "light"
     },
     "output_type": "display_data"
    }
   ],
   "source": [
    "#M = M[:,:,0]\n",
    "plt.figure(tight_layout=True)\n",
    "\n",
    "im = plt.pcolormesh(M[:,:,1], edgecolors='gray', vmin=0, vmax=1)\n",
    "\n",
    "ax = plt.gca()\n",
    "ax.set_aspect('equal')\n",
    "#ax.grid(which='minor')#, color='w', linestyle='-', linewidth=10);\n",
    "\n",
    "plt.colorbar(im, orientation='vertical');"
   ]
  },
  {
   "cell_type": "markdown",
   "id": "cccaa4a2-0506-4f66-ac2c-49f1ac9c000f",
   "metadata": {},
   "source": [
    "# Create the survey mask\n",
    "\n",
    "Not a void = 0\n",
    "\n",
    "Void = radius of largest void in which that point sits"
   ]
  },
  {
   "cell_type": "code",
   "execution_count": 34,
   "id": "10874317-b7dd-4686-bff8-09f1039526d1",
   "metadata": {},
   "outputs": [],
   "source": [
    "# Mask\n",
    "M = np.zeros(X.shape)"
   ]
  },
  {
   "cell_type": "markdown",
   "id": "91d8d57c-b145-46c0-a3a8-f0827ed1d5f8",
   "metadata": {},
   "source": [
    "## Determine the radius of the largest void that the grid cell falls in"
   ]
  },
  {
   "cell_type": "code",
   "execution_count": 30,
   "id": "68b834d1-490d-4ce7-8d9e-5ca54ce088ff",
   "metadata": {},
   "outputs": [
    {
     "data": {
      "text/plain": [
       "(1000, 3)"
      ]
     },
     "execution_count": 30,
     "metadata": {},
     "output_type": "execute_result"
    }
   ],
   "source": [
    "mr = ma.array(r[idx], mask=~pts2)\n",
    "mr.shape"
   ]
  },
  {
   "cell_type": "code",
   "execution_count": 31,
   "id": "8355fd76-41df-4747-af04-c4f6f39b5041",
   "metadata": {},
   "outputs": [
    {
     "data": {
      "text/plain": [
       "masked"
      ]
     },
     "execution_count": 31,
     "metadata": {},
     "output_type": "execute_result"
    }
   ],
   "source": [
    "# Find the maximum void radius for the closest void\n",
    "max_radii = ma.max(mr, axis=1)\n",
    "max_radii[0]"
   ]
  },
  {
   "cell_type": "code",
   "execution_count": 35,
   "id": "ace28713-21b4-4fee-9ec8-8eb4ead757af",
   "metadata": {},
   "outputs": [],
   "source": [
    "M[pts.reshape(X.shape)] = max_radii[pts].data"
   ]
  },
  {
   "cell_type": "code",
   "execution_count": 48,
   "id": "b5c978e2-bccb-43ca-884a-3a104ddd7ade",
   "metadata": {},
   "outputs": [
    {
     "data": {
      "image/png": "[encoded data removed]",
      "text/plain": [
       "<Figure size 432x288 with 2 Axes>"
      ]
     },
     "metadata": {
      "needs_background": "light"
     },
     "output_type": "display_data"
    }
   ],
   "source": [
    "#M = M[:,:,0]\n",
    "plt.figure(tight_layout=True)\n",
    "\n",
    "im = plt.pcolormesh(M[:,:,7], edgecolors='gray', vmin=0)\n",
    "\n",
    "ax = plt.gca()\n",
    "ax.set_aspect('equal')\n",
    "#ax.grid(which='minor')#, color='w', linestyle='-', linewidth=10);\n",
    "\n",
    "plt.colorbar(im, orientation='vertical');"
   ]
  },
  {
   "cell_type": "code",
   "execution_count": null,
   "id": "65e7a2eb-2b38-43b7-9193-b56036f7a22c",
   "metadata": {},
   "outputs": [],
   "source": []
  }
 ],
 "metadata": {
  "kernelspec": {
   "display_name": "Python 3 (ipykernel)",
   "language": "python",
   "name": "python3"
  },
  "language_info": {
   "codemirror_mode": {
    "name": "ipython",
    "version": 3
   },
   "file_extension": ".py",
   "mimetype": "text/x-python",
   "name": "python",
   "nbconvert_exporter": "python",
   "pygments_lexer": "ipython3",
   "version": "3.8.13"
  }
 },
 "nbformat": 4,
 "nbformat_minor": 5
}
