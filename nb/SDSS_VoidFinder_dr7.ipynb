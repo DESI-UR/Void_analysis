{
 "cells": [
  {
   "cell_type": "code",
   "execution_count": 1,
   "id": "bf9d72b2-1d0d-4685-9527-6cb7d4e29215",
   "metadata": {},
   "outputs": [],
   "source": [
    "'''VoidFinder - Hoyle & Vogeley (2002)'''\n",
    "\n",
    "\n",
    "\n",
    "################################################################################\n",
    "#\n",
    "# If you have control over your python environment, voidfinder can be installed\n",
    "# as a normal python package via 'python setup.py install', in which case the \n",
    "# below import of 'sys' and 'sys.path.insert(0, '/abspath/to/VoidFinder/python'\n",
    "# is unnecessary.  If you aren't able to install the voidfinder package,\n",
    "# you can use the sys.path.insert to add it to the list of available packages\n",
    "# in your python environment.\n",
    "#\n",
    "# Alternately, \"python setup.py develop\" will 'install' some symlinks which\n",
    "# point back to the current directory and you can run off the same voidfinder\n",
    "# repository that you're working on as if it was installed\n",
    "#\n",
    "################################################################################\n",
    "\n",
    "\n",
    "#import sys\n",
    "#sys.path.insert(1, 'local/path/VAST/VoidFinder/vast/voidfinder/')\n",
    "\n",
    "################################################################################\n",
    "#\n",
    "#   IMPORT MODULES\n",
    "#\n",
    "################################################################################\n",
    "\n",
    "from vast.voidfinder import find_voids, filter_galaxies\n",
    "\n",
    "from vast.voidfinder.multizmask import generate_mask\n",
    "from vast.voidfinder.preprocessing import file_preprocess\n",
    "from vast.voidfinder.table_functions import to_vector, to_array\n",
    "\n",
    "import pickle\n",
    "import numpy as np"
   ]
  },
  {
   "cell_type": "code",
   "execution_count": 2,
   "id": "252e676a-ad3e-47c4-937f-0fee5a848e3a",
   "metadata": {},
   "outputs": [],
   "source": [
    "################################################################################\n",
    "#\n",
    "#   USER INPUTS\n",
    "#\n",
    "################################################################################\n",
    "\n",
    "\n",
    "# Number of CPUs available for analysis.\n",
    "# A value of None will use one less than all available CPUs.\n",
    "num_cpus = 1\n",
    "\n",
    "#-------------------------------------------------------------------------------\n",
    "survey_name = 'vollim_dr7_cbp_102709_'\n",
    "\n",
    "# File header\n",
    "# Change these directory paths to where your data is stored, and where you want \n",
    "# the output to be saved.\n",
    "in_directory = '/global/homes/s/schampat/Voids/Void_analysis/Data/'\n",
    "out_directory = '/global/homes/s/schampat/Voids/Voidfinder_Output/SDSS Output'\n",
    "\n",
    "\n",
    "# Input file name\n",
    "galaxies_filename = 'deltatable.fits'  # File format: RA, dec, redshift, comoving distance, absolute magnitude\n",
    "#-------------------------------------------------------------------------------\n",
    "\n",
    "#-------------------------------------------------------------------------------\n",
    "# Survey parameters\n",
    "# Note: These can be set to None, in which case VoidFinder will use the limits \n",
    "# of the galaxy catalog.\n",
    "min_z = 0\n",
    "max_z = 0.107\n",
    "\n",
    "# Cosmology (uncomment and change values to change cosmology)\n",
    "# Need to also uncomment relevent inputs in function calls below\n",
    "Omega_M = 0.26\n",
    "#h = 1\n",
    "\n",
    "# Uncomment if you do NOT want to use comoving distances\n",
    "# Need to also uncomment relevent inputs in function calls below\n",
    "dist_metric = 'comoving'\n",
    "#-------------------------------------------------------------------------------\n",
    "\n",
    "#-------------------------------------------------------------------------------\n",
    "# Uncomment if you do NOT want to remove galaxies with Mr > -20\n",
    "# Need to also uncomment relevent input in function calls below\n",
    "#mag_cut = False\n",
    "\n",
    "\n",
    "# Uncomment if you do NOT want to remove isolated galaxies\n",
    "# Need to also uncomment relevent input in function calls below\n",
    "#rm_isolated = False\n",
    "#-------------------------------------------------------------------------------"
   ]
  },
  {
   "cell_type": "code",
   "execution_count": 3,
   "id": "67b2abf9-4b90-4be2-9a6b-3871bad8cb06",
   "metadata": {},
   "outputs": [
    {
     "name": "stdout",
     "output_type": "stream",
     "text": [
      "Loading galaxy data table at:  /global/homes/s/schampat/Voids/Void_analysis/Data/deltatable.fits\n",
      "Galaxy data table load time:  0.008092403411865234\n",
      "Calculating Rgal data table column\n",
      "Finished Rgal calculation time:  0.09394598007202148\n",
      "Dist limits:  [3716.344 4981.063]\n"
     ]
    }
   ],
   "source": [
    "################################################################################\n",
    "#\n",
    "#   PREPROCESS DATA\n",
    "#\n",
    "################################################################################\n",
    "\n",
    "galaxy_data_table, dist_limits, out1_filename, out2_filename = file_preprocess(galaxies_filename, \n",
    "                                                                               in_directory, \n",
    "                                                                               out_directory,\n",
    "                                                                               mag_cut=False,\n",
    "                                                                               #rm_isolated=rm_isolated,\n",
    "                                                                               dist_metric=dist_metric,\n",
    "                                                                               #min_z=min_z, \n",
    "                                                                               #max_z=max_z,\n",
    "                                                                               Omega_M=Omega_M,\n",
    "                                                                               #h=h,\n",
    "                                                                               verbose=0)\n",
    "\n",
    "print(\"Dist limits: \", dist_limits)"
   ]
  },
  {
   "cell_type": "code",
   "execution_count": 4,
   "id": "339b3f78-704d-4d1c-b24e-9dc60dbd3bc5",
   "metadata": {},
   "outputs": [
    {
     "name": "stdout",
     "output_type": "stream",
     "text": [
      "Generating mask\n"
     ]
    }
   ],
   "source": [
    "################################################################################\n",
    "#\n",
    "#   GENERATE MASK\n",
    "#\n",
    "################################################################################\n",
    "\n",
    "mask, mask_resolution = generate_mask(galaxy_data_table, \n",
    "                                      max_z, \n",
    "                                      dist_metric=dist_metric, \n",
    "                                      smooth_mask=True,\n",
    "                                      #h=h,\n",
    "                                     )\n",
    "\n",
    "\n",
    "temp_outfile = open(out_directory + survey_name + 'mask.pickle', 'wb')\n",
    "pickle.dump((mask, mask_resolution), temp_outfile)\n",
    "temp_outfile.close()"
   ]
  },
  {
   "cell_type": "code",
   "execution_count": 5,
   "id": "18928450-e9bd-4a73-89a3-13c433a8c839",
   "metadata": {},
   "outputs": [
    {
     "name": "stdout",
     "output_type": "stream",
     "text": [
      "Filter Galaxies Start\n",
      "    ra       dec     redshift    Delta        Rgal  \n",
      "--------- --------- --------- ------------ ---------\n",
      "2.4381757 1.4254737 1.9605263     4.355421  3716.344\n",
      "2.4381757 1.4254737 1.9625721     1.663106 3718.5845\n",
      "2.4381757 1.4254737 1.9646193    1.2053988  3720.824\n",
      "2.4381757 1.4254737 1.9666679    1.8245617 3723.0637\n",
      "2.4381757 1.4254737 1.9687178   -1.0706358 3725.3025\n",
      "2.4381757 1.4254737 1.9707693    1.4216183 3727.5408\n",
      "2.4381757 1.4254737 1.9728222   0.71694505 3729.7786\n",
      "2.4381757 1.4254737 1.9748764  -0.36280432 3732.0154\n",
      "2.4381757 1.4254737  1.976932   -0.7164737  3734.252\n",
      "2.4381757 1.4254737 1.9789891   0.50402004  3736.488\n",
      "      ...       ...       ...          ...       ...\n",
      " 2.356985 1.4730321 2.4061904   0.14506601 4159.6436\n",
      " 2.356985 1.4730321  2.408544      0.47213 4161.7686\n",
      " 2.356985 1.4730321 2.4108994   0.11319674  4163.893\n",
      " 2.356985 1.4730321 2.4132564   0.49564514  4166.017\n",
      " 2.356985 1.4730321  2.415615  -0.45444122 4168.1406\n",
      " 2.356985 1.4730321 2.4179754 -0.040889047  4170.263\n",
      " 2.356985 1.4730321 2.4203372    1.2626777 4172.3853\n",
      " 2.356985 1.4730321 2.4227006  -0.60151684  4174.507\n",
      " 2.356985 1.4730321 2.4250658   0.04354024  4176.628\n",
      " 2.356985 1.4730321 2.4274325    0.3150415  4178.748\n",
      " 2.356985 1.4730321  2.429801    0.5523243 4180.8677\n",
      "Length = 28034 rows galaxy_table1\n",
      "[ True  True  True ...  True  True  True] distance_boolean\n",
      "    ra       dec     redshift    Delta        Rgal  \n",
      "--------- --------- --------- ------------ ---------\n",
      "2.4381757 1.4254737 1.9605263     4.355421  3716.344\n",
      "2.4381757 1.4254737 1.9625721     1.663106 3718.5845\n",
      "2.4381757 1.4254737 1.9646193    1.2053988  3720.824\n",
      "2.4381757 1.4254737 1.9666679    1.8245617 3723.0637\n",
      "2.4381757 1.4254737 1.9687178   -1.0706358 3725.3025\n",
      "2.4381757 1.4254737 1.9707693    1.4216183 3727.5408\n",
      "2.4381757 1.4254737 1.9728222   0.71694505 3729.7786\n",
      "2.4381757 1.4254737 1.9748764  -0.36280432 3732.0154\n",
      "2.4381757 1.4254737  1.976932   -0.7164737  3734.252\n",
      "2.4381757 1.4254737 1.9789891   0.50402004  3736.488\n",
      "      ...       ...       ...          ...       ...\n",
      " 2.356985 1.4730321 2.4061904   0.14506601 4159.6436\n",
      " 2.356985 1.4730321  2.408544      0.47213 4161.7686\n",
      " 2.356985 1.4730321 2.4108994   0.11319674  4163.893\n",
      " 2.356985 1.4730321 2.4132564   0.49564514  4166.017\n",
      " 2.356985 1.4730321  2.415615  -0.45444122 4168.1406\n",
      " 2.356985 1.4730321 2.4179754 -0.040889047  4170.263\n",
      " 2.356985 1.4730321 2.4203372    1.2626777 4172.3853\n",
      " 2.356985 1.4730321 2.4227006  -0.60151684  4174.507\n",
      " 2.356985 1.4730321 2.4250658   0.04354024  4176.628\n",
      " 2.356985 1.4730321 2.4274325    0.3150415  4178.748\n",
      " 2.356985 1.4730321  2.429801    0.5523243 4180.8677\n",
      "Length = 28034 rows galaxy_table\n",
      "Finding isolated galaxy distance\n",
      "Time to find isolated galaxy distance: 0.08585333824157715\n",
      "Removing all galaxies with 3rd nearest neighbors further than 2.7001485998688604\n",
      "Number of field gals: 1329 Number of wall gals: 26705\n"
     ]
    }
   ],
   "source": [
    "################################################################################\n",
    "#\n",
    "#   FILTER GALAXIES\n",
    "#\n",
    "################################################################################\n",
    "\n",
    "temp_infile = open(out_directory + survey_name + 'mask.pickle', 'rb')\n",
    "mask, mask_resolution = pickle.load(temp_infile)\n",
    "temp_infile.close()\n",
    "\n",
    "wall_coords_xyz, field_coords_xyz, hole_grid_shape, coords_min = filter_galaxies(galaxy_data_table,\n",
    "                                                                                 survey_name,\n",
    "                                                                                 out_directory,\n",
    "                                                                                 mag_cut=False,\n",
    "                                                                                 dist_limits=dist_limits,\n",
    "                                                                                 #mag_cut_flag=mag_cut,\n",
    "                                                                                 #rm_isolated_flag=rm_isolated,\n",
    "                                                                                 #hole_grid_edge_length=5.0,\n",
    "                                                                                 dist_metric=dist_metric,\n",
    "                                                                                 #h=h,\n",
    "                                                                                 verbose=0)\n",
    "\n",
    "del galaxy_data_table\n",
    "\n",
    "\n",
    "temp_outfile = open(survey_name + \"filter_galaxies_output.pickle\", 'wb')\n",
    "pickle.dump((wall_coords_xyz, field_coords_xyz, hole_grid_shape, coords_min), temp_outfile)\n",
    "temp_outfile.close()"
   ]
  },
  {
   "cell_type": "code",
   "execution_count": 6,
   "id": "d34a28e7-6401-4fec-875e-eba28bfc1558",
   "metadata": {},
   "outputs": [
    {
     "name": "stdout",
     "output_type": "stream",
     "text": [
      "float32\n"
     ]
    }
   ],
   "source": [
    "print(wall_coords_xyz.dtype)"
   ]
  },
  {
   "cell_type": "code",
   "execution_count": 7,
   "id": "f48a63ca-69ec-424d-8373-5e2ae7ca30dc",
   "metadata": {},
   "outputs": [
    {
     "name": "stdout",
     "output_type": "stream",
     "text": [
      "Growing holes\n",
      "Processed 9118 cells of 41674 empty cells 5.15\n",
      "Processed 18133 cells of 41674 empty cells 11.44\n",
      "Processed 37187 cells of 41674 empty cells 18.47\n",
      "WORKER EXITING GRACEFULLY 0\n",
      "Found a total of 8714 potential voids.\n",
      "Time to grow all holes: 20.238237857818604\n",
      "Starting volume cut\n",
      "Found  2292 holes to cut 0.19937849044799805\n",
      "Sorting holes based on radius\n",
      "Combining holes into unique voids\n",
      "Starting hole combine\n",
      "Removing duplicate spheres: 0.0001697540283203125\n",
      "Find maximal holes: 0.0019583702087402344\n",
      "Merging holes into voids: 0.0052759647369384766\n",
      "Combine time: 0.011632204055786133\n",
      "Number of unique voids is 112\n",
      "Saving maximals to /global/homes/s/schampat/Voids/Voidfinder_Output/SDSS Outputdeltatable._comoving_maximal_noMagCut.txt\n"
     ]
    }
   ],
   "source": [
    "################################################################################\n",
    "#\n",
    "#   FIND VOIDS\n",
    "#\n",
    "################################################################################\n",
    "\n",
    "\n",
    "temp_infile = open(survey_name + \"filter_galaxies_output.pickle\", 'rb')\n",
    "wall_coords_xyz, field_coords_xyz, hole_grid_shape, coords_min = pickle.load(temp_infile)\n",
    "temp_infile.close()\n",
    "\n",
    "\n",
    "\n",
    "find_voids(wall_coords_xyz,\n",
    "           coords_min.astype(np.float64),\n",
    "           hole_grid_shape,\n",
    "           survey_name,\n",
    "           min_dist = dist_limits[0],\n",
    "           max_dist = dist_limits[1],\n",
    "           mask=mask, \n",
    "           mask_resolution=mask_resolution,\n",
    "           #save_after=50000,\n",
    "           #use_start_checkpoint=True,\n",
    "           #hole_grid_edge_length=5.0,\n",
    "           #galaxy_map_grid_edge_length=None,\n",
    "           #hole_center_iter_dist=1.0,\n",
    "           maximal_spheres_filename=out1_filename,\n",
    "           void_table_filename=out2_filename,\n",
    "           potential_voids_filename=out_directory + survey_name + 'potential_voids_list.txt',\n",
    "           num_cpus=num_cpus,\n",
    "           batch_size=10000,\n",
    "           verbose=0,\n",
    "           print_after=5.0)"
   ]
  },
  {
   "cell_type": "code",
   "execution_count": 9,
   "id": "350717e8-6f76-4bd7-867f-87d2316f3931",
   "metadata": {},
   "outputs": [
    {
     "data": {
      "text/plain": [
       "'VoidFinder - Hoyle & Vogeley (2002)'"
      ]
     },
     "execution_count": 9,
     "metadata": {},
     "output_type": "execute_result"
    }
   ],
   "source": [
    "'''VoidFinder - Hoyle & Vogeley (2002)'''\n",
    "\n",
    "\n",
    "\n",
    "\n",
    "\n",
    "\n"
   ]
  },
  {
   "cell_type": "code",
   "execution_count": null,
   "id": "d8344400-e8d7-4c7a-8d6a-854c78f7e170",
   "metadata": {},
   "outputs": [],
   "source": []
  },
  {
   "cell_type": "code",
   "execution_count": null,
   "id": "f4e86d59-f67d-4eb2-8d0e-bdd77f2b830c",
   "metadata": {},
   "outputs": [],
   "source": []
  }
 ],
 "metadata": {
  "kernelspec": {
   "display_name": "DESI 21.3",
   "language": "python",
   "name": "desi-21.3"
  },
  "language_info": {
   "codemirror_mode": {
    "name": "ipython",
    "version": 3
   },
   "file_extension": ".py",
   "mimetype": "text/x-python",
   "name": "python",
   "nbconvert_exporter": "python",
   "pygments_lexer": "ipython3",
   "version": "3.8.3"
  }
 },
 "nbformat": 4,
 "nbformat_minor": 5
}
