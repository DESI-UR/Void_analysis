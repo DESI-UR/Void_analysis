{
 "cells": [
  {
   "cell_type": "code",
   "execution_count": 1,
   "id": "dc963357-3f11-4b0a-9ba0-ea060b65f3c6",
   "metadata": {},
   "outputs": [],
   "source": [
    "import os\n",
    "import numpy as np\n",
    "import fitsio\n",
    "from astropy.cosmology import FlatLambdaCDM"
   ]
  },
  {
   "attachments": {},
   "cell_type": "markdown",
   "id": "9f4c67df",
   "metadata": {},
   "source": [
    "The below code should be run at NERSC to generate a himalayas catalog usable for voidfinding"
   ]
  },
  {
   "cell_type": "code",
   "execution_count": 2,
   "id": "be8eee70-37ae-4f6a-af82-4e56a6766594",
   "metadata": {},
   "outputs": [],
   "source": [
    "#location of himalayas tiles\n",
    "directory_a = \"/global/cfs/cdirs/desi/spectro/redux/himalayas/tiles/cumulative\"\n"
   ]
  },
  {
   "cell_type": "code",
   "execution_count": 3,
   "id": "6a753b91-a93b-4986-8c55-a71c1993bdb0",
   "metadata": {},
   "outputs": [],
   "source": [
    "#matter fraction\n",
    "omega_M=0.315\n",
    "#create cosmology\n",
    "csm0 = FlatLambdaCDM(H0=100, Om0=omega_M)"
   ]
  },
  {
   "cell_type": "code",
   "execution_count": 4,
   "id": "1bb5b496-9ba5-408c-a26e-0ca36e82ccd7",
   "metadata": {},
   "outputs": [],
   "source": [
    "#converts flux in nanomaggies to a magnitude\n",
    "f_to_m = lambda f: 22.5-2.5*np.log10(f)\n"
   ]
  },
  {
   "cell_type": "code",
   "execution_count": 5,
   "id": "9ebd2f1c-821a-4c51-9f7d-576c6ef339d8",
   "metadata": {},
   "outputs": [],
   "source": [
    "#the maximum redshift of himalayas galaxies to be selected\n",
    "zlim = 0.24"
   ]
  },
  {
   "cell_type": "code",
   "execution_count": 7,
   "id": "d8b67424-106c-47c2-a738-0494f620fd2f",
   "metadata": {},
   "outputs": [],
   "source": [
    "#the path to the output for the error log\n",
    "#the error log saves where in the himalayas tiles the program terminated,\n",
    "#allowing future attempts to resume in the correct location\n",
    "error_log=\"error_log.txt\""
   ]
  },
  {
   "cell_type": "code",
   "execution_count": 52,
   "id": "8b7a9733-f604-4086-b324-027ace98916e",
   "metadata": {},
   "outputs": [
    {
     "name": "stdout",
     "output_type": "stream",
     "text": [
      "6167\n"
     ]
    }
   ],
   "source": [
    "print(len(os.listdir(directory_a)))"
   ]
  },
  {
   "cell_type": "code",
   "execution_count": 55,
   "id": "ec32b249-f149-40d9-be19-36a0d1935298",
   "metadata": {},
   "outputs": [],
   "source": [
    "#the path to the output for the himilayas catalog\n",
    "himalayas=\"himalayas.txt\""
   ]
  },
  {
   "cell_type": "code",
   "execution_count": 56,
   "id": "08bfddf9-ac2b-4569-bfe6-06ac4eb0ca81",
   "metadata": {},
   "outputs": [],
   "source": [
    "try:\n",
    "    #remove previous attempt\n",
    "    #in final version, this will be optional\n",
    "    if os.path.exists(himalayas):\n",
    "        os.remove(himalayas)\n",
    "    #create output file\n",
    "    np.savetxt(himalayas,[],header=\"ra dec redshift rabsmag\",fmt='%s')\n",
    "    #loop through himilayas folders and files\n",
    "    #in final version, teh slice will be removed\n",
    "    for directory_b in os.listdir(directory_a):\n",
    "        for directory_c in os.listdir(f\"{directory_a}/{directory_b}\"):\n",
    "            directory=f\"{directory_a}/{directory_b}/{directory_c}\"\n",
    "            #select redrock files\n",
    "            for file in os.listdir (directory):\n",
    "                if len(file)>=7 and file[:7]==\"redrock\":\n",
    "                    \n",
    "                    #open the current redrock file\n",
    "                    with fitsio.FITS(f'{directory}/{file}') as fits:\n",
    "                        \n",
    "                        redshifts = fits[1]['TARGETID','Z','ZWARN','DELTACHI2','SPECTYPE'][:]\n",
    "                        fibermap = fits[2]['TARGETID','TARGET_RA','TARGET_DEC','BGS_TARGET','FLUX_R'][:]\n",
    "                        #ensure that targetids are matched\n",
    "                        if np.array_equal(redshifts[\"TARGETID\"],fibermap[\"TARGETID\"]):\n",
    "                            pass\n",
    "                        else:\n",
    "                            raise Exception(\"redrock redshift and fibermap tables do not have matching TARGET_ID values\")\n",
    "                        #cuts on redshift range, redshift fit quality, \n",
    "                        #galaxies only, bgs bright\n",
    "                        select = np.where((redshifts['Z']>0) \n",
    "                                           & (redshifts['Z']<=zlim) \n",
    "                                           & (redshifts['ZWARN']==0) \n",
    "                                           & (redshifts['DELTACHI2']>30) \n",
    "                                           & (redshifts['SPECTYPE']=='GALAXY') \n",
    "                                           & (fibermap['BGS_TARGET'] & 2**1 != 0))\n",
    "                        \n",
    "                        fibermap = fibermap[['TARGET_RA','TARGET_DEC','FLUX_R']][select]\n",
    "                        redshifts=redshifts['Z'][select]\n",
    "\n",
    "                        magMr = -np.array(csm0.distmod(redshifts)) + f_to_m(fibermap['FLUX_R'])\n",
    "\n",
    "                        #magnitude cut\n",
    "                        select = (magMr<-19.5)\n",
    "                        fibermap=fibermap[select]\n",
    "                        redshifts=redshifts[select]\n",
    "                        magMr=magMr[select]\n",
    "\n",
    "                        out=np.rec.fromarrays([fibermap['TARGET_RA'],\n",
    "                                               fibermap['TARGET_DEC'],\n",
    "                                               redshifts,\n",
    "                                               magMr], \n",
    "                                              dtype=[('ra',fibermap['TARGET_RA'].dtype),\n",
    "                                                     ('dec',fibermap['TARGET_DEC'].dtype),\n",
    "                                                     ('redshift',redshifts.dtype),\n",
    "                                                     ('rabsmag',magMr.dtype)])\n",
    "\n",
    "                        with open(himalayas,'ab') as f:\n",
    "                            np.savetxt(f,out,fmt='%s')\n",
    "except Exception as e:\n",
    "    with open(error_log,'a') as f:\n",
    "        f.write(f'Program terminated while in {directory}/{file}')\n",
    "        f.write('\\n')\n",
    "        #the below line can caluse errors, replace with logging\n",
    "        #f.write(e.message)\n",
    "        #f.write('\\n')"
   ]
  },
  {
   "cell_type": "code",
   "execution_count": null,
   "id": "54359314-fc33-4e66-8e3c-cdc62c13e21d",
   "metadata": {},
   "outputs": [],
   "source": []
  }
 ],
 "metadata": {
  "kernelspec": {
   "display_name": "NERSC Python",
   "language": "python",
   "name": "python3"
  },
  "language_info": {
   "codemirror_mode": {
    "name": "ipython",
    "version": 3
   },
   "file_extension": ".py",
   "mimetype": "text/x-python",
   "name": "python",
   "nbconvert_exporter": "python",
   "pygments_lexer": "ipython3",
   "version": "3.9.7"
  }
 },
 "nbformat": 4,
 "nbformat_minor": 5
}
