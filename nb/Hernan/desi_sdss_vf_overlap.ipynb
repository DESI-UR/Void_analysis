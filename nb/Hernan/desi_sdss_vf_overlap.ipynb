{
 "cells": [
  {
   "cell_type": "code",
   "execution_count": 9,
   "metadata": {},
   "outputs": [],
   "source": [
    "from astropy.table import Table\n",
    "import matplotlib.pyplot as plt\n",
    "from mpl_toolkits import mplot3d\n",
    "import numpy as np\n",
    "import time\n",
    "from sklearn import neighbors\n",
    "from vast.voidfinder.multizmask import generate_mask\n",
    "from vast.voidfinder._voidfinder_cython_find_next import MaskChecker\n",
    "import pickle"
   ]
  },
  {
   "cell_type": "markdown",
   "metadata": {},
   "source": [
    "### Read in data and Generate Mask"
   ]
  },
  {
   "cell_type": "code",
   "execution_count": 2,
   "metadata": {},
   "outputs": [],
   "source": [
    "file_name1 = \"desi_slice_holes.fits\"\n",
    "data_table_V1 = Table.read(file_name1)\n",
    "\n",
    "file_name2 = \"desi_slice_maximals.fits\"\n",
    "data_table_V1max = Table.read(file_name2)\n",
    "\n",
    "file_name3 = \"sdss_slice_holes.fits\"\n",
    "data_table_V2 = Table.read(file_name3)\n",
    "\n",
    "file_name4 = \"sdss_slice_maximals.fits\"\n",
    "data_table_V2max = Table.read(file_name4)"
   ]
  },
  {
   "cell_type": "code",
   "execution_count": 12,
   "metadata": {},
   "outputs": [
    {
     "name": "stdout",
     "output_type": "stream",
     "text": [
      "Generating mask\n"
     ]
    }
   ],
   "source": [
    "galaxy_data_table = Table.read('sdss_slice_galaxies.fits')\n",
    "\n",
    "mask, mask_resolution = generate_mask(galaxy_data_table, \n",
    "                                      .114, \n",
    "                                      smooth_mask=True,\n",
    "                                      #h=h,\n",
    "                                      )"
   ]
  },
  {
   "cell_type": "markdown",
   "metadata": {},
   "source": [
    "### Functions that assist in the volume calculation"
   ]
  },
  {
   "cell_type": "code",
   "execution_count": 21,
   "metadata": {},
   "outputs": [],
   "source": [
    "def calc_volume_boundaries(void_cat_A, void_cat_B):\n",
    "    \"\"\"Compute the boundaries of the minimal rectangular volume (parallelpiped)\n",
    "    that completely contains two void catalogs.\n",
    "    \n",
    "    Parameters\n",
    "    ----------\n",
    "    void_cat_A : astropy.Table\n",
    "        Table of void data from first catalog.\n",
    "    void_cat_B : astropy.Table\n",
    "        Table of void data from second catalog.\n",
    "        \n",
    "    Returns\n",
    "    -------\n",
    "    x_min : float\n",
    "    x_max : float\n",
    "    y_min : float\n",
    "    y_max : float\n",
    "    z_min : float\n",
    "    z_max : float\n",
    "    \"\"\"\n",
    "    x_min = np.minimum(np.min(void_cat_A['x']), np.min(void_cat_B['x']))\n",
    "    x_max = np.maximum(np.max(void_cat_A['x']), np.max(void_cat_B['x']))\n",
    "    \n",
    "    y_min = np.minimum(np.min(void_cat_A['y']), np.min(void_cat_B['y']))\n",
    "    y_max = np.maximum(np.max(void_cat_A['y']), np.max(void_cat_B['y']))\n",
    "\n",
    "    z_min = np.minimum(np.min(void_cat_A['z']), np.min(void_cat_B['z']))\n",
    "    z_max = np.maximum(np.max(void_cat_A['z']), np.max(void_cat_B['z']))\n",
    "\n",
    "    return x_min, x_max, y_min, y_max, z_min, z_max\n",
    "\n",
    "def generate_grid_points(x_min, x_max, y_min, y_max, z_min, z_max):\n",
    "    \"\"\"Creates a dense rectangular grid of points in 3D for the void volume calculation.\n",
    "    \n",
    "    Returns\n",
    "    -------\n",
    "    xyz : list\n",
    "        2D list of points in 3D space.\n",
    "    \"\"\"\n",
    "    \n",
    "    x_range = np.arange(x_min, x_max) # default spacing: 1 Megaparsec\n",
    "    y_range = np.arange(y_min, y_max)\n",
    "    z_range = np.arange(z_min, z_max)\n",
    "\n",
    "    # Creating a meshgrid from the ranges to \n",
    "    X,Y,Z = np.meshgrid(x_range,y_range,z_range)\n",
    "\n",
    "    x_points = np.ravel(X)\n",
    "    y_points = np.ravel(Y)\n",
    "    z_points = np.ravel(Z)\n",
    "    \n",
    "    point_coords = np.array([x_points, y_points, z_points])\n",
    "    \n",
    "    return point_coords"
   ]
  },
  {
   "cell_type": "markdown",
   "metadata": {},
   "source": [
    "### Begin Volume Calculation"
   ]
  },
  {
   "cell_type": "code",
   "execution_count": 22,
   "metadata": {},
   "outputs": [
    {
     "name": "stdout",
     "output_type": "stream",
     "text": [
      "(3, 1232616)\n"
     ]
    }
   ],
   "source": [
    "#This line creates the boundaries (like the whole min and max)\n",
    "xmin, xmax, ymin, ymax, zmin, zmax = calc_volume_boundaries(data_table_V1, data_table_V2)\n",
    "\n",
    "#This line makes creates the points in between \n",
    "pts = generate_grid_points(xmin, xmax, ymin, ymax, zmin, zmax)\n",
    "\n",
    "b = pts.shape\n",
    "print(b)"
   ]
  },
  {
   "cell_type": "code",
   "execution_count": 23,
   "metadata": {},
   "outputs": [
    {
     "name": "stdout",
     "output_type": "stream",
     "text": [
      "2.256254196166992\n",
      "\n",
      "Points in Mask Shape: (3, 478584)\n",
      "\n",
      "Sum of Points IN: 478584\n",
      "\n",
      "Sum of Points OUT: 754032\n",
      "\n",
      "Boolean Shape: (1232616,)\n",
      "\n",
      "Points in Mask: [[-175.05090492 -175.05090492 -175.05090492 ...  -89.05090492\n",
      "   -89.05090492  -89.05090492]\n",
      " [-259.28190302 -259.28190302 -259.28190302 ...  -41.28190302\n",
      "   -41.28190302  -41.28190302]\n",
      " [  -4.65119965   -3.65119965   -2.65119965 ...    2.34880035\n",
      "     3.34880035    4.34880035]]\n"
     ]
    }
   ],
   "source": [
    "start_time = time.time()\n",
    "\n",
    "rmin = 0\n",
    "rmax = 312.89816 # Where are these computed?\n",
    "\n",
    "points_boolean = np.ones(pts.shape[1], dtype = bool)\n",
    "\n",
    "# print(time.time() - start_time)\n",
    "\n",
    "# Declares MaskChecker object from VAST\n",
    "\n",
    "mask_checker = MaskChecker(0,\n",
    "                        mask,\n",
    "                        mask_resolution,\n",
    "                        rmin,\n",
    "                        rmax,)\n",
    "\n",
    "start_time = time.time()\n",
    "for i in range(pts.shape[1]):\n",
    "\n",
    "    # Current point will iterate through all points at \n",
    "    \n",
    "    curr_pt = pts[:,i].reshape((1,3))\n",
    "    \n",
    "    # References MC object to declare if not_in_mask\n",
    "    not_in_mask = mask_checker.not_in_mask(curr_pt[0])\n",
    "#     print(not_in_mask, not bool(not_in_mask))\n",
    "\n",
    "    points_boolean[i] = not bool(not_in_mask)\n",
    "                                    \n",
    "points_in_mask = pts[:,points_boolean]\n",
    "(var, n_points) = points_in_mask.shape\n",
    "print(time.time() - start_time)\n",
    "print('\\nPoints in Mask Shape:', points_in_mask.shape)\n",
    "\n",
    "print('\\nSum of Points IN:', np.sum(points_boolean))\n",
    "\n",
    "print('\\nSum of Points OUT:', np.sum(~points_boolean))\n",
    "\n",
    "print('\\nBoolean Shape:', points_boolean.shape)\n",
    "\n",
    "print('\\nPoints in Mask:',points_in_mask)\n"
   ]
  },
  {
   "cell_type": "markdown",
   "metadata": {},
   "source": [
    "#### KDTree Data Structure: Find closest point given large number of points\n",
    "- Splits by dimension in halves from middle point\n",
    "- Stores points as nodes in tree\n",
    "- Continous to split within halves from middle point and stores childs\n",
    "- Leafs nodes when splitting can occur no more\n",
    "\n",
    "- Traverse through tree by dimensions. Levels: X -> Y -> Z -> X...\n",
    "- Moves to child with nearest coordinate\n",
    "- Repeats until reaches leaf node, return min dist.\n",
    "- Travel back up tree and compare with nodes to determine no other possible min dist\n",
    "- Prunes children with parents > min dist\n",
    "Complexity: O(d*nlog*n) & O(dn) storage, d - dimensions\n",
    "\n",
    "\n"
   ]
  },
  {
   "cell_type": "code",
   "execution_count": 24,
   "metadata": {},
   "outputs": [],
   "source": [
    "def kd_tree(void_cat):\n",
    "    \"\"\"We are creating a function to make a KDTree to find the number of points in \n",
    "    and out of a catalogue.\n",
    "    \n",
    "    Parameters\n",
    "    ----------\n",
    "    point_coords: ndarray has a shape of (3,N)\n",
    "        This is the list of points to query the given void catalogue. N is the number of points given. \n",
    "    void_cat: Astropy Table\n",
    "        This is the given void catalogue.\n",
    "    \n",
    "    Returns\n",
    "    -------\n",
    "    true_inside: ndarray of shape (N,1)\n",
    "        Is this the boolean array of length N (same length as point_coords). True means that 1 point \n",
    "        is inside the hole.\n",
    "    \"\"\"\n",
    "#############\n",
    "    cx = void_cat['x']\n",
    "    cy = void_cat['y']\n",
    "    cz = void_cat['z']\n",
    "\n",
    "    sphere_coords = np.array([cx, cy, cz])\n",
    "\n",
    "    #The .T is meant to transpose the array from (3,1054) to (1054,3)\n",
    "    sphere_tree = neighbors.KDTree(sphere_coords.T)\n",
    "    print(\"KDTree\")\n",
    "\n",
    "##############\n",
    "    \n",
    "    return sphere_tree"
   ]
  },
  {
   "cell_type": "markdown",
   "metadata": {},
   "source": [
    "### Points Query\n",
    " - Parameters: Points in Mask Coor, KDTree, Data Catalog\n",
    " - Will get the distance and index of that point from KDTree\n",
    " - dist: Distance of point in KDtree from hole\n",
    " - idx: Index of point\n",
    " - Compare dist to the index of that point to the actual distance in the catalog\n",
    " - if < then the point falls within the hole\n",
    " - Return query of every point inside catalog"
   ]
  },
  {
   "cell_type": "code",
   "execution_count": 25,
   "metadata": {},
   "outputs": [],
   "source": [
    "def point_query(point_coords, sphere_tree, void_cat):\n",
    "\n",
    "    dist, idx = sphere_tree.query(point_coords.T, k = 1)\n",
    "\n",
    "    true_inside = dist < void_cat['radius'][idx]\n",
    "    \n",
    "    print(\"Point Query\")\n",
    "\n",
    "    return true_inside"
   ]
  },
  {
   "cell_type": "markdown",
   "metadata": {},
   "source": [
    "### Comparison of Void Catalogs\n",
    "1. Declare False boolean arrays, size U = 21. \n",
    "    - Why? 21 is the sweet spot\n",
    "2. Copy points_in_mask data matrix\n",
    "3. Create KDTree of each Void Catalog\n",
    "4. For loop through size of each array\n",
    "    - Δ = Array size 3 with Random values. \n",
    "        - Why? In order for the KDTree to structure efficently,\n",
    "          it must be randomized. Hence why we shift by 3.\n",
    "    - Copy each array from points_in_mask and add Δ[i]\n",
    "    - Run Point Querery Function on both data sets.\n",
    "    - Gather sum of inside and sum of outside point for each\n",
    "    - Logic functions\n",
    "    \n",
    "    \n",
    "    "
   ]
  },
  {
   "cell_type": "code",
   "execution_count": 26,
   "metadata": {},
   "outputs": [
    {
     "name": "stdout",
     "output_type": "stream",
     "text": [
      "KDTree\n",
      "KDTree\n",
      "Point Query\n",
      "Point Query\n",
      "1.3022019863128662\n",
      "\n",
      "Number of points inside V1: [230926.]\n",
      "\n",
      "Number of points outside V2: [247658.]\n",
      "\n",
      "Number of points inside V1: [258640.]\n",
      "\n",
      "Number of points outside V2: [219944.]\n",
      "\n",
      "This is the total number of points: 478584\n"
     ]
    }
   ],
   "source": [
    "start_time = time.time()\n",
    "\n",
    "U = 1\n",
    "\n",
    "count_in_V1 = np.zeros(U)\n",
    "count_out_V1 = np.zeros(U)\n",
    "\n",
    "count_in_V2 = np.zeros(U)\n",
    "count_out_V2 = np.zeros(U)\n",
    "\n",
    "inside_both = np.zeros(U)\n",
    "inside_neither = np.zeros(U)\n",
    "inside_V1 = np.zeros(U)\n",
    "inside_V2 = np.zeros(U)\n",
    "\n",
    "points_in_mask_copy = points_in_mask.copy()\n",
    "\n",
    "kdTree_V1 = kd_tree(data_table_V1)\n",
    "kdTree_V2 = kd_tree(data_table_V2)\n",
    "\n",
    "\n",
    "for i in range(U):\n",
    "    \n",
    "\n",
    "    \n",
    "    delta = np.random.rand(3)\n",
    "    \n",
    "    points_in_mask_copy[0] = points_in_mask[0] + delta[0]\n",
    "    points_in_mask_copy[1] = points_in_mask[1] + delta[1]\n",
    "    points_in_mask_copy[2] = points_in_mask[2] + delta[2]\n",
    "    \n",
    "#     print(points_in_mask_copy[:,:10])\n",
    "    \n",
    "    true_inside_V1 = point_query(points_in_mask_copy, kdTree_V1, data_table_V1)\n",
    "\n",
    "    count_in_V1[i] = np.sum(true_inside_V1)\n",
    "\n",
    "    # The \"~\" inverts the array. So we have true_inside inverted to add up the falses instead of the trues\n",
    "    count_out_V1[i] = np.sum(~true_inside_V1)\n",
    "    \n",
    "    # print(time.time() - start_time)\n",
    "\n",
    "    # total_KIAS = count_in_KIAS + count_out_KIAS\n",
    "\n",
    "    true_inside_V2 = point_query(points_in_mask_copy, kdTree_V2, data_table_V2)\n",
    "\n",
    "    count_in_V2[i] = np.sum(true_inside_V2)\n",
    "\n",
    "    # The \"~\" inverts the array. So we have true_inside inverted to add up the falses instead of the trues\n",
    "    count_out_V2[i] = np.sum(~true_inside_V2)\n",
    "\n",
    "    #total_DEL = count_in_DEL + count_out_DEL\n",
    "    \n",
    "    # This is the number of points that are inside both A and B\n",
    "    inside_V1_and_V2 = np.logical_and(true_inside_V1, true_inside_V2)\n",
    "    inside_both[i] = np.sum(inside_V1_and_V2)\n",
    "    \n",
    "    # This is the number of points that are in neither A and B\n",
    "    not_inside_V1_and_V2 = np.logical_and(~true_inside_V1, ~true_inside_V2)\n",
    "    inside_neither[i] = np.sum(not_inside_V1_and_V2)\n",
    "    \n",
    "    # This is the number of points that are in A but not B\n",
    "    inside_v1 = np.logical_and(true_inside_V1, ~true_inside_V2)\n",
    "    inside_V1[i] = np.sum(inside_v1)\n",
    "    \n",
    "    # This is the number of points that are not in A but are in B\n",
    "    inside_v2 = np.logical_and(~true_inside_V1, true_inside_V2)\n",
    "    inside_V2[i] = np.sum(inside_v2)\n",
    "    \n",
    "print(time.time() - start_time)\n",
    "print('\\nNumber of points inside V1:', count_in_V1)\n",
    "print('\\nNumber of points outside V2:', count_out_V1)\n",
    "print('\\nNumber of points inside V1:', count_in_V2)\n",
    "print('\\nNumber of points outside V2:', count_out_V2)\n",
    "print(\"\\nThis is the total number of points: {}\".format(n_points))\n",
    "# print(\"\\nThis is the total number of points in Delaunay: {}\".format(total_DEL))"
   ]
  },
  {
   "cell_type": "markdown",
   "metadata": {},
   "source": [
    "### This is the number of points that are inside both A and B"
   ]
  },
  {
   "cell_type": "code",
   "execution_count": 27,
   "metadata": {},
   "outputs": [
    {
     "data": {
      "text/plain": [
       "(197566, array([230926.]), array([258640.]))"
      ]
     },
     "execution_count": 27,
     "metadata": {},
     "output_type": "execute_result"
    }
   ],
   "source": [
    "inside_V1_and_V2 = np.logical_and(true_inside_V1, true_inside_V2)\n",
    "\n",
    "np.sum(inside_V1_and_V2), count_in_V1, count_in_V2"
   ]
  },
  {
   "cell_type": "markdown",
   "metadata": {},
   "source": [
    "### This is the number of points that are in neither A and B"
   ]
  },
  {
   "cell_type": "code",
   "execution_count": 28,
   "metadata": {},
   "outputs": [
    {
     "data": {
      "text/plain": [
       "(186584, array([230926.]), array([258640.]))"
      ]
     },
     "execution_count": 28,
     "metadata": {},
     "output_type": "execute_result"
    }
   ],
   "source": [
    "not_inside_V1_and_V2 = np.logical_and(~true_inside_V1, ~true_inside_V2)\n",
    "\n",
    "np.sum(not_inside_V1_and_V2), count_in_V1, count_in_V2"
   ]
  },
  {
   "cell_type": "markdown",
   "metadata": {},
   "source": [
    "### This is the number of points that are in A but not B"
   ]
  },
  {
   "cell_type": "code",
   "execution_count": 29,
   "metadata": {},
   "outputs": [
    {
     "data": {
      "text/plain": [
       "33360"
      ]
     },
     "execution_count": 29,
     "metadata": {},
     "output_type": "execute_result"
    }
   ],
   "source": [
    "inside_V1 = np.logical_and(true_inside_V1, ~true_inside_V2)\n",
    "\n",
    "np.sum(inside_V1)"
   ]
  },
  {
   "cell_type": "markdown",
   "metadata": {},
   "source": [
    "### This is the number of points that are not in A but are in B"
   ]
  },
  {
   "cell_type": "code",
   "execution_count": 30,
   "metadata": {},
   "outputs": [
    {
     "data": {
      "text/plain": [
       "61074"
      ]
     },
     "execution_count": 30,
     "metadata": {},
     "output_type": "execute_result"
    }
   ],
   "source": [
    "inside_V2 = np.logical_and(~true_inside_V1, true_inside_V2)\n",
    "\n",
    "np.sum(inside_V2)"
   ]
  },
  {
   "cell_type": "markdown",
   "metadata": {},
   "source": [
    "## Fraction of points: Calculate the ratios of the given sums\n",
    "\n",
    "- in A\n",
    "- in B\n",
    "- in A ∧ B\n",
    "- in ¬(A ∧ B)\n",
    "- in A ∧¬B\n",
    "- in B ∧¬A\n",
    "-   |\n",
    "-   |\n",
    "- \\ /\n",
    "- The closer they are to zero, the more similar they are"
   ]
  },
  {
   "cell_type": "markdown",
   "metadata": {},
   "source": [
    "Fraction of points in DESI voids"
   ]
  },
  {
   "cell_type": "code",
   "execution_count": 31,
   "metadata": {},
   "outputs": [
    {
     "name": "stdout",
     "output_type": "stream",
     "text": [
      "[0.48251927]\n"
     ]
    }
   ],
   "source": [
    "r_V1 = count_in_V1 / n_points\n",
    "print(r_V1)"
   ]
  },
  {
   "cell_type": "markdown",
   "metadata": {},
   "source": [
    "Fraction of points in SDSS voids"
   ]
  },
  {
   "cell_type": "code",
   "execution_count": 32,
   "metadata": {},
   "outputs": [
    {
     "name": "stdout",
     "output_type": "stream",
     "text": [
      "[0.54042759]\n"
     ]
    }
   ],
   "source": [
    "r_V2 = count_in_V2 / n_points\n",
    "print(r_V2)"
   ]
  },
  {
   "cell_type": "markdown",
   "metadata": {},
   "source": [
    "Fraction of points in both DESI and SDSS voids"
   ]
  },
  {
   "cell_type": "code",
   "execution_count": 34,
   "metadata": {},
   "outputs": [
    {
     "name": "stdout",
     "output_type": "stream",
     "text": [
      "0.41281363355231265\n"
     ]
    }
   ],
   "source": [
    "r_V1_V2 = np.sum(inside_V1_and_V2) / n_points\n",
    "print(r_V1_V2)"
   ]
  },
  {
   "cell_type": "markdown",
   "metadata": {},
   "source": [
    "Fraction of points in neither DESI nor SDSS voids"
   ]
  },
  {
   "cell_type": "code",
   "execution_count": 35,
   "metadata": {},
   "outputs": [
    {
     "name": "stdout",
     "output_type": "stream",
     "text": [
      "0.389866773648931\n"
     ]
    }
   ],
   "source": [
    "r_not_V1_V2 = np.sum(not_inside_V1_and_V2) / n_points\n",
    "print(r_not_V1_V2)"
   ]
  },
  {
   "cell_type": "markdown",
   "metadata": {},
   "source": [
    "Fraction of points in DESI but not SDSS voids"
   ]
  },
  {
   "cell_type": "code",
   "execution_count": 36,
   "metadata": {},
   "outputs": [
    {
     "name": "stdout",
     "output_type": "stream",
     "text": [
      "0.06970563161325911\n"
     ]
    }
   ],
   "source": [
    "r_V1_not_V2 = np.sum(inside_V1) / n_points\n",
    "print(r_V1_not_V2)"
   ]
  },
  {
   "cell_type": "markdown",
   "metadata": {},
   "source": [
    "Fraction of points in SDSS but not DESI voids"
   ]
  },
  {
   "cell_type": "code",
   "execution_count": 38,
   "metadata": {},
   "outputs": [
    {
     "name": "stdout",
     "output_type": "stream",
     "text": [
      "0.12761396118549723\n"
     ]
    }
   ],
   "source": [
    "r_V2_not_V1 = np.sum(inside_V2) / n_points\n",
    "print(r_V2_not_V1)"
   ]
  },
  {
   "cell_type": "code",
   "execution_count": 47,
   "metadata": {},
   "outputs": [],
   "source": [
    "#Sum = r_V1 + r_not_V1_V2 + r_V2_not_V1  \n",
    "#Sum"
   ]
  },
  {
   "cell_type": "markdown",
   "metadata": {},
   "source": [
    "### x̄ & σ of Void Catalogs Ratios"
   ]
  },
  {
   "cell_type": "markdown",
   "metadata": {},
   "source": [
    "### Catalog 1"
   ]
  },
  {
   "cell_type": "code",
   "execution_count": 40,
   "metadata": {},
   "outputs": [
    {
     "name": "stdout",
     "output_type": "stream",
     "text": [
      "\n",
      "Ratio of V1 Points: 0.48251926516557175\n",
      "\n",
      "Ratio SD: 0.0\n"
     ]
    }
   ],
   "source": [
    "average_V1 = np.mean(count_in_V1)\n",
    "r_average_V1 = average_V1 / n_points\n",
    "std_V1 = np.std(count_in_V1)\n",
    "r_std_V1 = std_V1 / n_points\n",
    "\n",
    "print('\\nRatio of V1 Points:', r_average_V1)\n",
    "print('\\nRatio SD:', r_std_V1)"
   ]
  },
  {
   "cell_type": "markdown",
   "metadata": {},
   "source": [
    "### Catalog 2"
   ]
  },
  {
   "cell_type": "code",
   "execution_count": 41,
   "metadata": {},
   "outputs": [
    {
     "name": "stdout",
     "output_type": "stream",
     "text": [
      "\n",
      "Ratio of V2 Points: 0.5404275947378099\n",
      "\n",
      "Ratio SD: 0.0\n"
     ]
    }
   ],
   "source": [
    "average_V2 = np.mean(count_in_V2)\n",
    "r_average_V2 = average_V2 / n_points\n",
    "std_V2 = np.std(count_in_V2)\n",
    "r_std_V2 = std_V2 / n_points\n",
    "\n",
    "print('\\nRatio of V2 Points:', r_average_V2)\n",
    "print('\\nRatio SD:', r_std_V2)"
   ]
  },
  {
   "cell_type": "markdown",
   "metadata": {},
   "source": [
    "### x̄ & σ"
   ]
  },
  {
   "cell_type": "code",
   "execution_count": 42,
   "metadata": {},
   "outputs": [
    {
     "name": "stdout",
     "output_type": "stream",
     "text": [
      "\n",
      "Ratio of Points Inside: 0.41281363355231265\n",
      "\n",
      "Ratio SD: 0.0\n"
     ]
    }
   ],
   "source": [
    "average_inside = np.mean(inside_both)\n",
    "r_average_inside = average_inside / n_points\n",
    "\n",
    "std_both = np.std(inside_both)\n",
    "r_std_both = std_both / n_points\n",
    "\n",
    "print('\\nRatio of Points Inside:', r_average_inside)\n",
    "print('\\nRatio SD:', r_std_both)"
   ]
  },
  {
   "cell_type": "code",
   "execution_count": 43,
   "metadata": {},
   "outputs": [
    {
     "name": "stdout",
     "output_type": "stream",
     "text": [
      "\n",
      "Ratio of Points Outside: 0.389866773648931\n",
      "\n",
      "Ratio SD: 0.0\n"
     ]
    }
   ],
   "source": [
    "average_outside = np.mean(inside_neither)\n",
    "r_average_outside = average_outside / n_points\n",
    "\n",
    "std_outside = np.std(inside_neither)\n",
    "r_std_outside = std_outside / n_points\n",
    "\n",
    "print('\\nRatio of Points Outside:', r_average_outside)\n",
    "print('\\nRatio SD:', r_std_outside)"
   ]
  },
  {
   "cell_type": "code",
   "execution_count": 44,
   "metadata": {},
   "outputs": [
    {
     "name": "stdout",
     "output_type": "stream",
     "text": [
      "\\Ratio of Points in V1: 1.45649732572044e-07\n",
      "\n",
      "Ratio SD: 0.0\n"
     ]
    }
   ],
   "source": [
    "average_in_V1 = np.mean(inside_V1)\n",
    "r_average_in_V1 = average_in_V1 / n_points\n",
    "\n",
    "std_in_V1 = np.std(inside_neither)\n",
    "r_std_in_V1 = std_in_V1 / n_points\n",
    "\n",
    "\n",
    "print('\\Ratio of Points in V1:', r_average_in_V1)\n",
    "print('\\nRatio SD:', r_std_in_V1)"
   ]
  },
  {
   "cell_type": "code",
   "execution_count": 45,
   "metadata": {},
   "outputs": [
    {
     "name": "stdout",
     "output_type": "stream",
     "text": [
      "\\Ratio of Points in V2: 0.12761396118549723\n",
      "\n",
      "Ratio SD: 0.0\n"
     ]
    }
   ],
   "source": [
    "average_in_V2 = np.mean(inside_V2)\n",
    "r_average_in_V2 = average_in_V2 / n_points\n",
    "\n",
    "std_in_V2 = np.std(inside_neither)\n",
    "r_std_in_V2 = std_in_V2 / n_points\n",
    "\n",
    "print('\\Ratio of Points in V2:', average_in_V2)\n",
    "print('\\nRatio SD:', r_std_in_V2)"
   ]
  },
  {
   "cell_type": "code",
   "execution_count": null,
   "metadata": {},
   "outputs": [],
   "source": []
  }
 ],
 "metadata": {
  "kernelspec": {
   "display_name": "Python 3",
   "language": "python",
   "name": "python3"
  },
  "language_info": {
   "codemirror_mode": {
    "name": "ipython",
    "version": 3
   },
   "file_extension": ".py",
   "mimetype": "text/x-python",
   "name": "python",
   "nbconvert_exporter": "python",
   "pygments_lexer": "ipython3",
   "version": "3.7.6"
  },
  "vscode": {
   "interpreter": {
    "hash": "4e852ab7dee056a3846416fbd1c7b8b363282943004d86aa6f780d4fe5988d25"
   }
  }
 },
 "nbformat": 4,
 "nbformat_minor": 5
}
