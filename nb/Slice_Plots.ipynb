{
 "cells": [
  {
   "cell_type": "code",
   "execution_count": 23,
   "id": "60a52e00-9807-4066-b7a1-d50c45627b52",
   "metadata": {},
   "outputs": [],
   "source": [
    "import numpy as np\n",
    "\n",
    "from astropy.io import fits\n",
    "from astropy.table import Table\n",
    "\n",
    "from vast.voidfinder.distance import z_to_comoving_dist\n",
    "from vast.voidfinder.preprocessing import load_data_to_Table\n",
    "\n",
    "# from slice_plot_functions import pvfmine"
   ]
  },
  {
   "cell_type": "code",
   "execution_count": null,
   "id": "5df49d1c-3fc1-43dc-8191-d9b8d6d98765",
   "metadata": {},
   "outputs": [],
   "source": []
  },
  {
   "cell_type": "code",
   "execution_count": 24,
   "id": "309dd70f-365f-410d-9012-056e5935d053",
   "metadata": {},
   "outputs": [],
   "source": []
  },
  {
   "cell_type": "code",
   "execution_count": 3,
   "id": "847a0bc7-ba80-4790-94b1-f825964f4337",
   "metadata": {},
   "outputs": [
    {
     "ename": "FileNotFoundError",
     "evalue": "[Errno 2] No such file or directory: '/global/homes/s/schampat/Voids/Void_analysis/Data/Cosmos-deltatable.fits'",
     "output_type": "error",
     "traceback": [
      "\u001b[0;31m---------------------------------------------------------------------------\u001b[0m",
      "\u001b[0;31mFileNotFoundError\u001b[0m                         Traceback (most recent call last)",
      "\u001b[0;32m<ipython-input-3-88b59228a1ce>\u001b[0m in \u001b[0;36m<module>\u001b[0;34m\u001b[0m\n\u001b[1;32m      1\u001b[0m \u001b[0mfilename\u001b[0m \u001b[0;34m=\u001b[0m \u001b[0;34m\"/global/homes/s/schampat/Voids/Void_analysis/Data/Cosmos-deltatable.fits\"\u001b[0m\u001b[0;34m\u001b[0m\u001b[0;34m\u001b[0m\u001b[0m\n\u001b[0;32m----> 2\u001b[0;31m \u001b[0mhdul\u001b[0m\u001b[0;34m=\u001b[0m\u001b[0mfits\u001b[0m\u001b[0;34m.\u001b[0m\u001b[0mopen\u001b[0m\u001b[0;34m(\u001b[0m\u001b[0mfilename\u001b[0m\u001b[0;34m)\u001b[0m\u001b[0;34m\u001b[0m\u001b[0;34m\u001b[0m\u001b[0m\n\u001b[0m\u001b[1;32m      3\u001b[0m \u001b[0mdata\u001b[0m \u001b[0;34m=\u001b[0m \u001b[0mTable\u001b[0m\u001b[0;34m(\u001b[0m\u001b[0mhdul\u001b[0m\u001b[0;34m[\u001b[0m\u001b[0;36m1\u001b[0m\u001b[0;34m]\u001b[0m\u001b[0;34m.\u001b[0m\u001b[0mdata\u001b[0m\u001b[0;34m)\u001b[0m\u001b[0;34m\u001b[0m\u001b[0;34m\u001b[0m\u001b[0m\n\u001b[1;32m      4\u001b[0m \u001b[0mdata\u001b[0m\u001b[0;34m[\u001b[0m\u001b[0;34m'ra'\u001b[0m\u001b[0;34m]\u001b[0m\u001b[0;34m[\u001b[0m\u001b[0;36m0\u001b[0m\u001b[0;34m]\u001b[0m\u001b[0;34m\u001b[0m\u001b[0;34m\u001b[0m\u001b[0m\n",
      "\u001b[0;32m/global/common/software/desi/cori/desiconda/20200801-1.4.0-spec/conda/lib/python3.8/site-packages/astropy/io/fits/hdu/hdulist.py\u001b[0m in \u001b[0;36mfitsopen\u001b[0;34m(name, mode, memmap, save_backup, cache, lazy_load_hdus, **kwargs)\u001b[0m\n\u001b[1;32m    162\u001b[0m         \u001b[0;32mraise\u001b[0m \u001b[0mValueError\u001b[0m\u001b[0;34m(\u001b[0m\u001b[0;34mf'Empty filename: {name!r}'\u001b[0m\u001b[0;34m)\u001b[0m\u001b[0;34m\u001b[0m\u001b[0;34m\u001b[0m\u001b[0m\n\u001b[1;32m    163\u001b[0m \u001b[0;34m\u001b[0m\u001b[0m\n\u001b[0;32m--> 164\u001b[0;31m     return HDUList.fromfile(name, mode, memmap, save_backup, cache,\n\u001b[0m\u001b[1;32m    165\u001b[0m                             lazy_load_hdus, **kwargs)\n\u001b[1;32m    166\u001b[0m \u001b[0;34m\u001b[0m\u001b[0m\n",
      "\u001b[0;32m/global/common/software/desi/cori/desiconda/20200801-1.4.0-spec/conda/lib/python3.8/site-packages/astropy/io/fits/hdu/hdulist.py\u001b[0m in \u001b[0;36mfromfile\u001b[0;34m(cls, fileobj, mode, memmap, save_backup, cache, lazy_load_hdus, **kwargs)\u001b[0m\n\u001b[1;32m    401\u001b[0m         \"\"\"\n\u001b[1;32m    402\u001b[0m \u001b[0;34m\u001b[0m\u001b[0m\n\u001b[0;32m--> 403\u001b[0;31m         return cls._readfrom(fileobj=fileobj, mode=mode, memmap=memmap,\n\u001b[0m\u001b[1;32m    404\u001b[0m                              \u001b[0msave_backup\u001b[0m\u001b[0;34m=\u001b[0m\u001b[0msave_backup\u001b[0m\u001b[0;34m,\u001b[0m \u001b[0mcache\u001b[0m\u001b[0;34m=\u001b[0m\u001b[0mcache\u001b[0m\u001b[0;34m,\u001b[0m\u001b[0;34m\u001b[0m\u001b[0;34m\u001b[0m\u001b[0m\n\u001b[1;32m    405\u001b[0m                              lazy_load_hdus=lazy_load_hdus, **kwargs)\n",
      "\u001b[0;32m/global/common/software/desi/cori/desiconda/20200801-1.4.0-spec/conda/lib/python3.8/site-packages/astropy/io/fits/hdu/hdulist.py\u001b[0m in \u001b[0;36m_readfrom\u001b[0;34m(cls, fileobj, data, mode, memmap, save_backup, cache, lazy_load_hdus, **kwargs)\u001b[0m\n\u001b[1;32m   1052\u001b[0m             \u001b[0;32mif\u001b[0m \u001b[0;32mnot\u001b[0m \u001b[0misinstance\u001b[0m\u001b[0;34m(\u001b[0m\u001b[0mfileobj\u001b[0m\u001b[0;34m,\u001b[0m \u001b[0m_File\u001b[0m\u001b[0;34m)\u001b[0m\u001b[0;34m:\u001b[0m\u001b[0;34m\u001b[0m\u001b[0;34m\u001b[0m\u001b[0m\n\u001b[1;32m   1053\u001b[0m                 \u001b[0;31m# instantiate a FITS file object (ffo)\u001b[0m\u001b[0;34m\u001b[0m\u001b[0;34m\u001b[0m\u001b[0;34m\u001b[0m\u001b[0m\n\u001b[0;32m-> 1054\u001b[0;31m                 \u001b[0mfileobj\u001b[0m \u001b[0;34m=\u001b[0m \u001b[0m_File\u001b[0m\u001b[0;34m(\u001b[0m\u001b[0mfileobj\u001b[0m\u001b[0;34m,\u001b[0m \u001b[0mmode\u001b[0m\u001b[0;34m=\u001b[0m\u001b[0mmode\u001b[0m\u001b[0;34m,\u001b[0m \u001b[0mmemmap\u001b[0m\u001b[0;34m=\u001b[0m\u001b[0mmemmap\u001b[0m\u001b[0;34m,\u001b[0m \u001b[0mcache\u001b[0m\u001b[0;34m=\u001b[0m\u001b[0mcache\u001b[0m\u001b[0;34m)\u001b[0m\u001b[0;34m\u001b[0m\u001b[0;34m\u001b[0m\u001b[0m\n\u001b[0m\u001b[1;32m   1055\u001b[0m             \u001b[0;31m# The Astropy mode is determined by the _File initializer if the\u001b[0m\u001b[0;34m\u001b[0m\u001b[0;34m\u001b[0m\u001b[0;34m\u001b[0m\u001b[0m\n\u001b[1;32m   1056\u001b[0m             \u001b[0;31m# supplied mode was None\u001b[0m\u001b[0;34m\u001b[0m\u001b[0;34m\u001b[0m\u001b[0;34m\u001b[0m\u001b[0m\n",
      "\u001b[0;32m/global/common/software/desi/cori/desiconda/20200801-1.4.0-spec/conda/lib/python3.8/site-packages/astropy/utils/decorators.py\u001b[0m in \u001b[0;36mwrapper\u001b[0;34m(*args, **kwargs)\u001b[0m\n\u001b[1;32m    533\u001b[0m                     \u001b[0mwarnings\u001b[0m\u001b[0;34m.\u001b[0m\u001b[0mwarn\u001b[0m\u001b[0;34m(\u001b[0m\u001b[0mmessage\u001b[0m\u001b[0;34m,\u001b[0m \u001b[0mwarning_type\u001b[0m\u001b[0;34m,\u001b[0m \u001b[0mstacklevel\u001b[0m\u001b[0;34m=\u001b[0m\u001b[0;36m2\u001b[0m\u001b[0;34m)\u001b[0m\u001b[0;34m\u001b[0m\u001b[0;34m\u001b[0m\u001b[0m\n\u001b[1;32m    534\u001b[0m \u001b[0;34m\u001b[0m\u001b[0m\n\u001b[0;32m--> 535\u001b[0;31m             \u001b[0;32mreturn\u001b[0m \u001b[0mfunction\u001b[0m\u001b[0;34m(\u001b[0m\u001b[0;34m*\u001b[0m\u001b[0margs\u001b[0m\u001b[0;34m,\u001b[0m \u001b[0;34m**\u001b[0m\u001b[0mkwargs\u001b[0m\u001b[0;34m)\u001b[0m\u001b[0;34m\u001b[0m\u001b[0;34m\u001b[0m\u001b[0m\n\u001b[0m\u001b[1;32m    536\u001b[0m \u001b[0;34m\u001b[0m\u001b[0m\n\u001b[1;32m    537\u001b[0m         \u001b[0;32mreturn\u001b[0m \u001b[0mwrapper\u001b[0m\u001b[0;34m\u001b[0m\u001b[0;34m\u001b[0m\u001b[0m\n",
      "\u001b[0;32m/global/common/software/desi/cori/desiconda/20200801-1.4.0-spec/conda/lib/python3.8/site-packages/astropy/io/fits/file.py\u001b[0m in \u001b[0;36m__init__\u001b[0;34m(self, fileobj, mode, memmap, overwrite, cache)\u001b[0m\n\u001b[1;32m    191\u001b[0m             \u001b[0mself\u001b[0m\u001b[0;34m.\u001b[0m\u001b[0m_open_fileobj\u001b[0m\u001b[0;34m(\u001b[0m\u001b[0mfileobj\u001b[0m\u001b[0;34m,\u001b[0m \u001b[0mmode\u001b[0m\u001b[0;34m,\u001b[0m \u001b[0moverwrite\u001b[0m\u001b[0;34m)\u001b[0m\u001b[0;34m\u001b[0m\u001b[0;34m\u001b[0m\u001b[0m\n\u001b[1;32m    192\u001b[0m         \u001b[0;32melif\u001b[0m \u001b[0misinstance\u001b[0m\u001b[0;34m(\u001b[0m\u001b[0mfileobj\u001b[0m\u001b[0;34m,\u001b[0m \u001b[0mstr\u001b[0m\u001b[0;34m)\u001b[0m\u001b[0;34m:\u001b[0m\u001b[0;34m\u001b[0m\u001b[0;34m\u001b[0m\u001b[0m\n\u001b[0;32m--> 193\u001b[0;31m             \u001b[0mself\u001b[0m\u001b[0;34m.\u001b[0m\u001b[0m_open_filename\u001b[0m\u001b[0;34m(\u001b[0m\u001b[0mfileobj\u001b[0m\u001b[0;34m,\u001b[0m \u001b[0mmode\u001b[0m\u001b[0;34m,\u001b[0m \u001b[0moverwrite\u001b[0m\u001b[0;34m)\u001b[0m\u001b[0;34m\u001b[0m\u001b[0;34m\u001b[0m\u001b[0m\n\u001b[0m\u001b[1;32m    194\u001b[0m         \u001b[0;32melse\u001b[0m\u001b[0;34m:\u001b[0m\u001b[0;34m\u001b[0m\u001b[0;34m\u001b[0m\u001b[0m\n\u001b[1;32m    195\u001b[0m             \u001b[0mself\u001b[0m\u001b[0;34m.\u001b[0m\u001b[0m_open_filelike\u001b[0m\u001b[0;34m(\u001b[0m\u001b[0mfileobj\u001b[0m\u001b[0;34m,\u001b[0m \u001b[0mmode\u001b[0m\u001b[0;34m,\u001b[0m \u001b[0moverwrite\u001b[0m\u001b[0;34m)\u001b[0m\u001b[0;34m\u001b[0m\u001b[0;34m\u001b[0m\u001b[0m\n",
      "\u001b[0;32m/global/common/software/desi/cori/desiconda/20200801-1.4.0-spec/conda/lib/python3.8/site-packages/astropy/io/fits/file.py\u001b[0m in \u001b[0;36m_open_filename\u001b[0;34m(self, filename, mode, overwrite)\u001b[0m\n\u001b[1;32m    572\u001b[0m \u001b[0;34m\u001b[0m\u001b[0m\n\u001b[1;32m    573\u001b[0m         \u001b[0;32mif\u001b[0m \u001b[0;32mnot\u001b[0m \u001b[0mself\u001b[0m\u001b[0;34m.\u001b[0m\u001b[0m_try_read_compressed\u001b[0m\u001b[0;34m(\u001b[0m\u001b[0mself\u001b[0m\u001b[0;34m.\u001b[0m\u001b[0mname\u001b[0m\u001b[0;34m,\u001b[0m \u001b[0mmagic\u001b[0m\u001b[0;34m,\u001b[0m \u001b[0mmode\u001b[0m\u001b[0;34m,\u001b[0m \u001b[0mext\u001b[0m\u001b[0;34m=\u001b[0m\u001b[0mext\u001b[0m\u001b[0;34m)\u001b[0m\u001b[0;34m:\u001b[0m\u001b[0;34m\u001b[0m\u001b[0;34m\u001b[0m\u001b[0m\n\u001b[0;32m--> 574\u001b[0;31m             \u001b[0mself\u001b[0m\u001b[0;34m.\u001b[0m\u001b[0m_file\u001b[0m \u001b[0;34m=\u001b[0m \u001b[0mfileobj_open\u001b[0m\u001b[0;34m(\u001b[0m\u001b[0mself\u001b[0m\u001b[0;34m.\u001b[0m\u001b[0mname\u001b[0m\u001b[0;34m,\u001b[0m \u001b[0mIO_FITS_MODES\u001b[0m\u001b[0;34m[\u001b[0m\u001b[0mmode\u001b[0m\u001b[0;34m]\u001b[0m\u001b[0;34m)\u001b[0m\u001b[0;34m\u001b[0m\u001b[0;34m\u001b[0m\u001b[0m\n\u001b[0m\u001b[1;32m    575\u001b[0m             \u001b[0mself\u001b[0m\u001b[0;34m.\u001b[0m\u001b[0mclose_on_error\u001b[0m \u001b[0;34m=\u001b[0m \u001b[0;32mTrue\u001b[0m\u001b[0;34m\u001b[0m\u001b[0;34m\u001b[0m\u001b[0m\n\u001b[1;32m    576\u001b[0m \u001b[0;34m\u001b[0m\u001b[0m\n",
      "\u001b[0;32m/global/common/software/desi/cori/desiconda/20200801-1.4.0-spec/conda/lib/python3.8/site-packages/astropy/io/fits/util.py\u001b[0m in \u001b[0;36mfileobj_open\u001b[0;34m(filename, mode)\u001b[0m\n\u001b[1;32m    394\u001b[0m     \"\"\"\n\u001b[1;32m    395\u001b[0m \u001b[0;34m\u001b[0m\u001b[0m\n\u001b[0;32m--> 396\u001b[0;31m     \u001b[0;32mreturn\u001b[0m \u001b[0mopen\u001b[0m\u001b[0;34m(\u001b[0m\u001b[0mfilename\u001b[0m\u001b[0;34m,\u001b[0m \u001b[0mmode\u001b[0m\u001b[0;34m,\u001b[0m \u001b[0mbuffering\u001b[0m\u001b[0;34m=\u001b[0m\u001b[0;36m0\u001b[0m\u001b[0;34m)\u001b[0m\u001b[0;34m\u001b[0m\u001b[0;34m\u001b[0m\u001b[0m\n\u001b[0m\u001b[1;32m    397\u001b[0m \u001b[0;34m\u001b[0m\u001b[0m\n\u001b[1;32m    398\u001b[0m \u001b[0;34m\u001b[0m\u001b[0m\n",
      "\u001b[0;31mFileNotFoundError\u001b[0m: [Errno 2] No such file or directory: '/global/homes/s/schampat/Voids/Void_analysis/Data/Cosmos-deltatable.fits'"
     ]
    }
   ],
   "source": [
    "filename = \"/global/homes/s/schampat/Voids/Void_analysis/Data/Cosmos-deltatable.fits\"\n",
    "hdul=fits.open(filename)\n",
    "data = Table(hdul[1].data)\n",
    "data['ra'][0]"
   ]
  },
  {
   "cell_type": "code",
   "execution_count": 31,
   "id": "101c8e0e-0bdb-4e16-9cd2-d7f02ffdaf56",
   "metadata": {},
   "outputs": [],
   "source": [
    "filename = \"/global/homes/s/schampat/Voids/Void_analysis/Data/deltatable.fits\"\n",
    "hdul = fits.open(filename)\n",
    "datatable = Table(hdul[1].data)\n",
    "\n",
    "datatable['Rgal']= z_to_comoving_dist(datatable['z'].astype(np.float32),0.26,1)\n",
    "\n",
    "RAs = np.array([])\n",
    "DECs = np.array([])\n",
    "Deltas = np.array([])\n",
    "Redshifts = np.array([])\n",
    "Comoving = np.array([])\n",
    "\n",
    "for m in range (len(datatable)):\n",
    "    RAs = np.append(RAs,datatable['ra'][m])\n",
    "    DECs = np.append(DECs,datatable['dec'][m])\n",
    "    Deltas = np.append(Deltas,datatable['Delta'][m])\n",
    "    Redshifts = np.append(Redshifts,datatable['z'][m])\n",
    "    Comoving = np.append(Comoving,datatable['Rgal'][m])"
   ]
  },
  {
   "cell_type": "code",
   "execution_count": 41,
   "id": "68d5b3f0-eea9-4b42-a91f-ec950ccda601",
   "metadata": {},
   "outputs": [],
   "source": [
    "col1 = fits.Column(name='ra', array=RAs, format=\"E\")\n",
    "col2 = fits.Column(name='dec', array=DECs, format=\"E\")\n",
    "col3 = fits.Column(name='z', array=Redshifts, format=\"E\")\n",
    "col4 = fits.Column(name='delta', array=Deltas, format=\"E\")\n",
    "col5 = fits.Column(name='comoving', array=Comoving, format=\"E\")\n",
    "\n",
    "cols = fits.ColDefs([col1,col2,col3,col4,col5])\n",
    "hdu = fits.BinTableHDU.from_columns(cols)\n",
    "hdu.writeto(\"/global/homes/s/schampat/Voids/Void_analysis/Data/Slice Plots/Comoving-deltas.fits\", \n",
    "            overwrite=True)"
   ]
  },
  {
   "cell_type": "code",
   "execution_count": 4,
   "id": "c189a222-6d2f-418a-a19c-99a57d39f8bc",
   "metadata": {},
   "outputs": [
    {
     "ename": "FileNotFoundError",
     "evalue": "[Errno 2] No such file or directory: '/global/homes/s/schampat/Voids/Void_analysis/Data/Slice Plots/Comoving-deltas.fits'",
     "output_type": "error",
     "traceback": [
      "\u001b[0;31m---------------------------------------------------------------------------\u001b[0m",
      "\u001b[0;31mFileNotFoundError\u001b[0m                         Traceback (most recent call last)",
      "\u001b[0;32m<ipython-input-4-14793226cb70>\u001b[0m in \u001b[0;36m<module>\u001b[0;34m\u001b[0m\n\u001b[1;32m      1\u001b[0m \u001b[0mfilename\u001b[0m \u001b[0;34m=\u001b[0m \u001b[0;34m\"/global/homes/s/schampat/Voids/Void_analysis/Data/Slice Plots/Comoving-deltas.fits\"\u001b[0m\u001b[0;34m\u001b[0m\u001b[0;34m\u001b[0m\u001b[0m\n\u001b[0;32m----> 2\u001b[0;31m \u001b[0mhdul\u001b[0m \u001b[0;34m=\u001b[0m \u001b[0mfits\u001b[0m\u001b[0;34m.\u001b[0m\u001b[0mopen\u001b[0m\u001b[0;34m(\u001b[0m\u001b[0mfilename\u001b[0m\u001b[0;34m)\u001b[0m\u001b[0;34m\u001b[0m\u001b[0;34m\u001b[0m\u001b[0m\n\u001b[0m\u001b[1;32m      3\u001b[0m \u001b[0mdatatable\u001b[0m \u001b[0;34m=\u001b[0m \u001b[0mTable\u001b[0m\u001b[0;34m(\u001b[0m\u001b[0mhdul\u001b[0m\u001b[0;34m[\u001b[0m\u001b[0;36m1\u001b[0m\u001b[0;34m]\u001b[0m\u001b[0;34m.\u001b[0m\u001b[0mdata\u001b[0m\u001b[0;34m)\u001b[0m\u001b[0;34m\u001b[0m\u001b[0;34m\u001b[0m\u001b[0m\n\u001b[1;32m      4\u001b[0m \u001b[0mdatatable\u001b[0m\u001b[0;34m\u001b[0m\u001b[0;34m\u001b[0m\u001b[0m\n",
      "\u001b[0;32m/global/common/software/desi/cori/desiconda/20200801-1.4.0-spec/conda/lib/python3.8/site-packages/astropy/io/fits/hdu/hdulist.py\u001b[0m in \u001b[0;36mfitsopen\u001b[0;34m(name, mode, memmap, save_backup, cache, lazy_load_hdus, **kwargs)\u001b[0m\n\u001b[1;32m    162\u001b[0m         \u001b[0;32mraise\u001b[0m \u001b[0mValueError\u001b[0m\u001b[0;34m(\u001b[0m\u001b[0;34mf'Empty filename: {name!r}'\u001b[0m\u001b[0;34m)\u001b[0m\u001b[0;34m\u001b[0m\u001b[0;34m\u001b[0m\u001b[0m\n\u001b[1;32m    163\u001b[0m \u001b[0;34m\u001b[0m\u001b[0m\n\u001b[0;32m--> 164\u001b[0;31m     return HDUList.fromfile(name, mode, memmap, save_backup, cache,\n\u001b[0m\u001b[1;32m    165\u001b[0m                             lazy_load_hdus, **kwargs)\n\u001b[1;32m    166\u001b[0m \u001b[0;34m\u001b[0m\u001b[0m\n",
      "\u001b[0;32m/global/common/software/desi/cori/desiconda/20200801-1.4.0-spec/conda/lib/python3.8/site-packages/astropy/io/fits/hdu/hdulist.py\u001b[0m in \u001b[0;36mfromfile\u001b[0;34m(cls, fileobj, mode, memmap, save_backup, cache, lazy_load_hdus, **kwargs)\u001b[0m\n\u001b[1;32m    401\u001b[0m         \"\"\"\n\u001b[1;32m    402\u001b[0m \u001b[0;34m\u001b[0m\u001b[0m\n\u001b[0;32m--> 403\u001b[0;31m         return cls._readfrom(fileobj=fileobj, mode=mode, memmap=memmap,\n\u001b[0m\u001b[1;32m    404\u001b[0m                              \u001b[0msave_backup\u001b[0m\u001b[0;34m=\u001b[0m\u001b[0msave_backup\u001b[0m\u001b[0;34m,\u001b[0m \u001b[0mcache\u001b[0m\u001b[0;34m=\u001b[0m\u001b[0mcache\u001b[0m\u001b[0;34m,\u001b[0m\u001b[0;34m\u001b[0m\u001b[0;34m\u001b[0m\u001b[0m\n\u001b[1;32m    405\u001b[0m                              lazy_load_hdus=lazy_load_hdus, **kwargs)\n",
      "\u001b[0;32m/global/common/software/desi/cori/desiconda/20200801-1.4.0-spec/conda/lib/python3.8/site-packages/astropy/io/fits/hdu/hdulist.py\u001b[0m in \u001b[0;36m_readfrom\u001b[0;34m(cls, fileobj, data, mode, memmap, save_backup, cache, lazy_load_hdus, **kwargs)\u001b[0m\n\u001b[1;32m   1052\u001b[0m             \u001b[0;32mif\u001b[0m \u001b[0;32mnot\u001b[0m \u001b[0misinstance\u001b[0m\u001b[0;34m(\u001b[0m\u001b[0mfileobj\u001b[0m\u001b[0;34m,\u001b[0m \u001b[0m_File\u001b[0m\u001b[0;34m)\u001b[0m\u001b[0;34m:\u001b[0m\u001b[0;34m\u001b[0m\u001b[0;34m\u001b[0m\u001b[0m\n\u001b[1;32m   1053\u001b[0m                 \u001b[0;31m# instantiate a FITS file object (ffo)\u001b[0m\u001b[0;34m\u001b[0m\u001b[0;34m\u001b[0m\u001b[0;34m\u001b[0m\u001b[0m\n\u001b[0;32m-> 1054\u001b[0;31m                 \u001b[0mfileobj\u001b[0m \u001b[0;34m=\u001b[0m \u001b[0m_File\u001b[0m\u001b[0;34m(\u001b[0m\u001b[0mfileobj\u001b[0m\u001b[0;34m,\u001b[0m \u001b[0mmode\u001b[0m\u001b[0;34m=\u001b[0m\u001b[0mmode\u001b[0m\u001b[0;34m,\u001b[0m \u001b[0mmemmap\u001b[0m\u001b[0;34m=\u001b[0m\u001b[0mmemmap\u001b[0m\u001b[0;34m,\u001b[0m \u001b[0mcache\u001b[0m\u001b[0;34m=\u001b[0m\u001b[0mcache\u001b[0m\u001b[0;34m)\u001b[0m\u001b[0;34m\u001b[0m\u001b[0;34m\u001b[0m\u001b[0m\n\u001b[0m\u001b[1;32m   1055\u001b[0m             \u001b[0;31m# The Astropy mode is determined by the _File initializer if the\u001b[0m\u001b[0;34m\u001b[0m\u001b[0;34m\u001b[0m\u001b[0;34m\u001b[0m\u001b[0m\n\u001b[1;32m   1056\u001b[0m             \u001b[0;31m# supplied mode was None\u001b[0m\u001b[0;34m\u001b[0m\u001b[0;34m\u001b[0m\u001b[0;34m\u001b[0m\u001b[0m\n",
      "\u001b[0;32m/global/common/software/desi/cori/desiconda/20200801-1.4.0-spec/conda/lib/python3.8/site-packages/astropy/utils/decorators.py\u001b[0m in \u001b[0;36mwrapper\u001b[0;34m(*args, **kwargs)\u001b[0m\n\u001b[1;32m    533\u001b[0m                     \u001b[0mwarnings\u001b[0m\u001b[0;34m.\u001b[0m\u001b[0mwarn\u001b[0m\u001b[0;34m(\u001b[0m\u001b[0mmessage\u001b[0m\u001b[0;34m,\u001b[0m \u001b[0mwarning_type\u001b[0m\u001b[0;34m,\u001b[0m \u001b[0mstacklevel\u001b[0m\u001b[0;34m=\u001b[0m\u001b[0;36m2\u001b[0m\u001b[0;34m)\u001b[0m\u001b[0;34m\u001b[0m\u001b[0;34m\u001b[0m\u001b[0m\n\u001b[1;32m    534\u001b[0m \u001b[0;34m\u001b[0m\u001b[0m\n\u001b[0;32m--> 535\u001b[0;31m             \u001b[0;32mreturn\u001b[0m \u001b[0mfunction\u001b[0m\u001b[0;34m(\u001b[0m\u001b[0;34m*\u001b[0m\u001b[0margs\u001b[0m\u001b[0;34m,\u001b[0m \u001b[0;34m**\u001b[0m\u001b[0mkwargs\u001b[0m\u001b[0;34m)\u001b[0m\u001b[0;34m\u001b[0m\u001b[0;34m\u001b[0m\u001b[0m\n\u001b[0m\u001b[1;32m    536\u001b[0m \u001b[0;34m\u001b[0m\u001b[0m\n\u001b[1;32m    537\u001b[0m         \u001b[0;32mreturn\u001b[0m \u001b[0mwrapper\u001b[0m\u001b[0;34m\u001b[0m\u001b[0;34m\u001b[0m\u001b[0m\n",
      "\u001b[0;32m/global/common/software/desi/cori/desiconda/20200801-1.4.0-spec/conda/lib/python3.8/site-packages/astropy/io/fits/file.py\u001b[0m in \u001b[0;36m__init__\u001b[0;34m(self, fileobj, mode, memmap, overwrite, cache)\u001b[0m\n\u001b[1;32m    191\u001b[0m             \u001b[0mself\u001b[0m\u001b[0;34m.\u001b[0m\u001b[0m_open_fileobj\u001b[0m\u001b[0;34m(\u001b[0m\u001b[0mfileobj\u001b[0m\u001b[0;34m,\u001b[0m \u001b[0mmode\u001b[0m\u001b[0;34m,\u001b[0m \u001b[0moverwrite\u001b[0m\u001b[0;34m)\u001b[0m\u001b[0;34m\u001b[0m\u001b[0;34m\u001b[0m\u001b[0m\n\u001b[1;32m    192\u001b[0m         \u001b[0;32melif\u001b[0m \u001b[0misinstance\u001b[0m\u001b[0;34m(\u001b[0m\u001b[0mfileobj\u001b[0m\u001b[0;34m,\u001b[0m \u001b[0mstr\u001b[0m\u001b[0;34m)\u001b[0m\u001b[0;34m:\u001b[0m\u001b[0;34m\u001b[0m\u001b[0;34m\u001b[0m\u001b[0m\n\u001b[0;32m--> 193\u001b[0;31m             \u001b[0mself\u001b[0m\u001b[0;34m.\u001b[0m\u001b[0m_open_filename\u001b[0m\u001b[0;34m(\u001b[0m\u001b[0mfileobj\u001b[0m\u001b[0;34m,\u001b[0m \u001b[0mmode\u001b[0m\u001b[0;34m,\u001b[0m \u001b[0moverwrite\u001b[0m\u001b[0;34m)\u001b[0m\u001b[0;34m\u001b[0m\u001b[0;34m\u001b[0m\u001b[0m\n\u001b[0m\u001b[1;32m    194\u001b[0m         \u001b[0;32melse\u001b[0m\u001b[0;34m:\u001b[0m\u001b[0;34m\u001b[0m\u001b[0;34m\u001b[0m\u001b[0m\n\u001b[1;32m    195\u001b[0m             \u001b[0mself\u001b[0m\u001b[0;34m.\u001b[0m\u001b[0m_open_filelike\u001b[0m\u001b[0;34m(\u001b[0m\u001b[0mfileobj\u001b[0m\u001b[0;34m,\u001b[0m \u001b[0mmode\u001b[0m\u001b[0;34m,\u001b[0m \u001b[0moverwrite\u001b[0m\u001b[0;34m)\u001b[0m\u001b[0;34m\u001b[0m\u001b[0;34m\u001b[0m\u001b[0m\n",
      "\u001b[0;32m/global/common/software/desi/cori/desiconda/20200801-1.4.0-spec/conda/lib/python3.8/site-packages/astropy/io/fits/file.py\u001b[0m in \u001b[0;36m_open_filename\u001b[0;34m(self, filename, mode, overwrite)\u001b[0m\n\u001b[1;32m    572\u001b[0m \u001b[0;34m\u001b[0m\u001b[0m\n\u001b[1;32m    573\u001b[0m         \u001b[0;32mif\u001b[0m \u001b[0;32mnot\u001b[0m \u001b[0mself\u001b[0m\u001b[0;34m.\u001b[0m\u001b[0m_try_read_compressed\u001b[0m\u001b[0;34m(\u001b[0m\u001b[0mself\u001b[0m\u001b[0;34m.\u001b[0m\u001b[0mname\u001b[0m\u001b[0;34m,\u001b[0m \u001b[0mmagic\u001b[0m\u001b[0;34m,\u001b[0m \u001b[0mmode\u001b[0m\u001b[0;34m,\u001b[0m \u001b[0mext\u001b[0m\u001b[0;34m=\u001b[0m\u001b[0mext\u001b[0m\u001b[0;34m)\u001b[0m\u001b[0;34m:\u001b[0m\u001b[0;34m\u001b[0m\u001b[0;34m\u001b[0m\u001b[0m\n\u001b[0;32m--> 574\u001b[0;31m             \u001b[0mself\u001b[0m\u001b[0;34m.\u001b[0m\u001b[0m_file\u001b[0m \u001b[0;34m=\u001b[0m \u001b[0mfileobj_open\u001b[0m\u001b[0;34m(\u001b[0m\u001b[0mself\u001b[0m\u001b[0;34m.\u001b[0m\u001b[0mname\u001b[0m\u001b[0;34m,\u001b[0m \u001b[0mIO_FITS_MODES\u001b[0m\u001b[0;34m[\u001b[0m\u001b[0mmode\u001b[0m\u001b[0;34m]\u001b[0m\u001b[0;34m)\u001b[0m\u001b[0;34m\u001b[0m\u001b[0;34m\u001b[0m\u001b[0m\n\u001b[0m\u001b[1;32m    575\u001b[0m             \u001b[0mself\u001b[0m\u001b[0;34m.\u001b[0m\u001b[0mclose_on_error\u001b[0m \u001b[0;34m=\u001b[0m \u001b[0;32mTrue\u001b[0m\u001b[0;34m\u001b[0m\u001b[0;34m\u001b[0m\u001b[0m\n\u001b[1;32m    576\u001b[0m \u001b[0;34m\u001b[0m\u001b[0m\n",
      "\u001b[0;32m/global/common/software/desi/cori/desiconda/20200801-1.4.0-spec/conda/lib/python3.8/site-packages/astropy/io/fits/util.py\u001b[0m in \u001b[0;36mfileobj_open\u001b[0;34m(filename, mode)\u001b[0m\n\u001b[1;32m    394\u001b[0m     \"\"\"\n\u001b[1;32m    395\u001b[0m \u001b[0;34m\u001b[0m\u001b[0m\n\u001b[0;32m--> 396\u001b[0;31m     \u001b[0;32mreturn\u001b[0m \u001b[0mopen\u001b[0m\u001b[0;34m(\u001b[0m\u001b[0mfilename\u001b[0m\u001b[0;34m,\u001b[0m \u001b[0mmode\u001b[0m\u001b[0;34m,\u001b[0m \u001b[0mbuffering\u001b[0m\u001b[0;34m=\u001b[0m\u001b[0;36m0\u001b[0m\u001b[0;34m)\u001b[0m\u001b[0;34m\u001b[0m\u001b[0;34m\u001b[0m\u001b[0m\n\u001b[0m\u001b[1;32m    397\u001b[0m \u001b[0;34m\u001b[0m\u001b[0m\n\u001b[1;32m    398\u001b[0m \u001b[0;34m\u001b[0m\u001b[0m\n",
      "\u001b[0;31mFileNotFoundError\u001b[0m: [Errno 2] No such file or directory: '/global/homes/s/schampat/Voids/Void_analysis/Data/Slice Plots/Comoving-deltas.fits'"
     ]
    }
   ],
   "source": [
    "filename = \"/global/homes/s/schampat/Voids/Void_analysis/Data/Slice Plots/Comoving-deltas.fits\"\n",
    "hdul = fits.open(filename)\n",
    "datatable = Table(hdul[1].data)\n",
    "datatable"
   ]
  },
  {
   "cell_type": "code",
   "execution_count": 25,
   "id": "7ee509ed-9292-4e13-a418-823a6d282372",
   "metadata": {},
   "outputs": [
    {
     "data": {
      "text/html": [
       "<i>Table length=80748</i>\n",
       "<table id=\"table23455441831392\" class=\"table-striped table-bordered table-condensed\">\n",
       "<thead><tr><th>ra</th><th>dec</th><th>z</th><th>delta</th><th>comoving</th></tr></thead>\n",
       "<thead><tr><th>float32</th><th>float32</th><th>float32</th><th>float32</th><th>float32</th></tr></thead>\n",
       "<tr><td>2.5950856</td><td>0.03995798</td><td>2.9162366</td><td>0.5633348</td><td>4576.8843</td></tr>\n",
       "<tr><td>2.5950856</td><td>0.03995798</td><td>2.918943</td><td>-0.16900143</td><td>4578.8896</td></tr>\n",
       "<tr><td>2.5950856</td><td>0.03995798</td><td>2.921651</td><td>0.680851</td><td>4580.894</td></tr>\n",
       "<tr><td>2.5950856</td><td>0.03995798</td><td>2.9243608</td><td>1.1129243</td><td>4582.898</td></tr>\n",
       "<tr><td>2.5950856</td><td>0.03995798</td><td>2.9270725</td><td>-0.09884469</td><td>4584.9014</td></tr>\n",
       "<tr><td>2.5950856</td><td>0.03995798</td><td>2.9297862</td><td>0.29953516</td><td>4586.9033</td></tr>\n",
       "<tr><td>2.5950856</td><td>0.03995798</td><td>2.9325018</td><td>-0.59169257</td><td>4588.906</td></tr>\n",
       "<tr><td>2.5950856</td><td>0.03995798</td><td>2.9352193</td><td>0.11125143</td><td>4590.907</td></tr>\n",
       "<tr><td>2.5950856</td><td>0.03995798</td><td>2.9379385</td><td>-0.8568085</td><td>4592.9077</td></tr>\n",
       "<tr><td>2.5950856</td><td>0.03995798</td><td>2.9406595</td><td>0.9868907</td><td>4594.908</td></tr>\n",
       "<tr><td>...</td><td>...</td><td>...</td><td>...</td><td>...</td></tr>\n",
       "<tr><td>2.6371665</td><td>0.06261407</td><td>3.0706985</td><td>-0.17032763</td><td>4688.2437</td></tr>\n",
       "<tr><td>2.6371665</td><td>0.06261407</td><td>3.0735114</td><td>0.027964989</td><td>4690.215</td></tr>\n",
       "<tr><td>2.6371665</td><td>0.06261407</td><td>3.0763261</td><td>0.11831474</td><td>4692.186</td></tr>\n",
       "<tr><td>2.6371665</td><td>0.06261407</td><td>3.079143</td><td>0.17852738</td><td>4694.1562</td></tr>\n",
       "<tr><td>2.6371665</td><td>0.06261407</td><td>3.0819616</td><td>-0.04038557</td><td>4696.1255</td></tr>\n",
       "<tr><td>2.6371665</td><td>0.06261407</td><td>3.0847824</td><td>0.55585515</td><td>4698.0947</td></tr>\n",
       "<tr><td>2.6371665</td><td>0.06261407</td><td>3.087605</td><td>-0.055570967</td><td>4700.0635</td></tr>\n",
       "<tr><td>2.6371665</td><td>0.06261407</td><td>3.0904295</td><td>0.46264818</td><td>4702.0312</td></tr>\n",
       "<tr><td>2.6371665</td><td>0.06261407</td><td>3.0932562</td><td>-0.76064426</td><td>4703.9985</td></tr>\n",
       "<tr><td>2.6371665</td><td>0.06261407</td><td>3.0960846</td><td>0.6033599</td><td>4705.9653</td></tr>\n",
       "</table>"
      ],
      "text/plain": [
       "<Table length=80748>\n",
       "    ra       dec         z        delta      comoving\n",
       " float32   float32    float32    float32     float32 \n",
       "--------- ---------- --------- ------------ ---------\n",
       "2.5950856 0.03995798 2.9162366    0.5633348 4576.8843\n",
       "2.5950856 0.03995798  2.918943  -0.16900143 4578.8896\n",
       "2.5950856 0.03995798  2.921651     0.680851  4580.894\n",
       "2.5950856 0.03995798 2.9243608    1.1129243  4582.898\n",
       "2.5950856 0.03995798 2.9270725  -0.09884469 4584.9014\n",
       "2.5950856 0.03995798 2.9297862   0.29953516 4586.9033\n",
       "2.5950856 0.03995798 2.9325018  -0.59169257  4588.906\n",
       "2.5950856 0.03995798 2.9352193   0.11125143  4590.907\n",
       "2.5950856 0.03995798 2.9379385   -0.8568085 4592.9077\n",
       "2.5950856 0.03995798 2.9406595    0.9868907  4594.908\n",
       "      ...        ...       ...          ...       ...\n",
       "2.6371665 0.06261407 3.0706985  -0.17032763 4688.2437\n",
       "2.6371665 0.06261407 3.0735114  0.027964989  4690.215\n",
       "2.6371665 0.06261407 3.0763261   0.11831474  4692.186\n",
       "2.6371665 0.06261407  3.079143   0.17852738 4694.1562\n",
       "2.6371665 0.06261407 3.0819616  -0.04038557 4696.1255\n",
       "2.6371665 0.06261407 3.0847824   0.55585515 4698.0947\n",
       "2.6371665 0.06261407  3.087605 -0.055570967 4700.0635\n",
       "2.6371665 0.06261407 3.0904295   0.46264818 4702.0312\n",
       "2.6371665 0.06261407 3.0932562  -0.76064426 4703.9985\n",
       "2.6371665 0.06261407 3.0960846    0.6033599 4705.9653"
      ]
     },
     "execution_count": 25,
     "metadata": {},
     "output_type": "execute_result"
    }
   ],
   "source": [
    "deltas = load_data_to_Table(\"/global/homes/s/schampat/Voids/Void_analysis/Data/Slice_Plots/Comoving-deltas.fits\")\n",
    "deltas"
   ]
  },
  {
   "cell_type": "code",
   "execution_count": 26,
   "id": "465fc863-71ae-4183-8103-77f76a8d16ab",
   "metadata": {},
   "outputs": [
    {
     "data": {
      "text/html": [
       "<i>Table length=481</i>\n",
       "<table id=\"table23455442009392\" class=\"table-striped table-bordered table-condensed\">\n",
       "<thead><tr><th>ra</th><th>dec</th><th>z</th><th>comoving</th></tr></thead>\n",
       "<thead><tr><th>float32</th><th>float32</th><th>float32</th><th>float32</th></tr></thead>\n",
       "<tr><td>2.5950856</td><td>0.03995798</td><td>3.577208</td><td>5014.4043</td></tr>\n",
       "<tr><td>2.5953968</td><td>0.043061696</td><td>2.8750079</td><td>4546.0903</td></tr>\n",
       "<tr><td>2.6006157</td><td>0.045104377</td><td>2.1048005</td><td>3869.383</td></tr>\n",
       "<tr><td>2.5965052</td><td>0.0481664</td><td>2.7702327</td><td>4465.6816</td></tr>\n",
       "<tr><td>2.6094496</td><td>0.050539482</td><td>2.860919</td><td>4535.46</td></tr>\n",
       "<tr><td>2.6042798</td><td>0.052977987</td><td>3.296496</td><td>4840.517</td></tr>\n",
       "<tr><td>2.6035767</td><td>0.04906695</td><td>2.2546446</td><td>4018.3489</td></tr>\n",
       "<tr><td>2.6000605</td><td>0.049357306</td><td>2.4691103</td><td>4215.754</td></tr>\n",
       "<tr><td>2.6092472</td><td>0.048566528</td><td>2.3779464</td><td>4133.982</td></tr>\n",
       "<tr><td>2.600598</td><td>0.054412395</td><td>4.0157514</td><td>5257.043</td></tr>\n",
       "<tr><td>...</td><td>...</td><td>...</td><td>...</td></tr>\n",
       "<tr><td>2.6391466</td><td>0.054676227</td><td>2.90303</td><td>4567.0713</td></tr>\n",
       "<tr><td>2.6353672</td><td>0.055932242</td><td>2.2058415</td><td>3970.8882</td></tr>\n",
       "<tr><td>2.6392</td><td>0.05787554</td><td>2.5535944</td><td>4288.8853</td></tr>\n",
       "<tr><td>2.6290839</td><td>0.062288746</td><td>2.8776336</td><td>4548.0654</td></tr>\n",
       "<tr><td>2.6335952</td><td>0.060542647</td><td>2.32117</td><td>4081.479</td></tr>\n",
       "<tr><td>2.6331627</td><td>0.059795804</td><td>2.9062414</td><td>4569.462</td></tr>\n",
       "<tr><td>2.640442</td><td>0.05929424</td><td>2.9740548</td><td>4619.2954</td></tr>\n",
       "<tr><td>2.6385143</td><td>0.061055563</td><td>2.2301946</td><td>3994.6953</td></tr>\n",
       "<tr><td>2.6380715</td><td>0.06098642</td><td>2.5671928</td><td>4300.4277</td></tr>\n",
       "<tr><td>2.6371665</td><td>0.06261407</td><td>3.1508186</td><td>4743.6416</td></tr>\n",
       "</table>"
      ],
      "text/plain": [
       "<Table length=481>\n",
       "    ra        dec         z      comoving\n",
       " float32    float32    float32   float32 \n",
       "--------- ----------- --------- ---------\n",
       "2.5950856  0.03995798  3.577208 5014.4043\n",
       "2.5953968 0.043061696 2.8750079 4546.0903\n",
       "2.6006157 0.045104377 2.1048005  3869.383\n",
       "2.5965052   0.0481664 2.7702327 4465.6816\n",
       "2.6094496 0.050539482  2.860919   4535.46\n",
       "2.6042798 0.052977987  3.296496  4840.517\n",
       "2.6035767  0.04906695 2.2546446 4018.3489\n",
       "2.6000605 0.049357306 2.4691103  4215.754\n",
       "2.6092472 0.048566528 2.3779464  4133.982\n",
       " 2.600598 0.054412395 4.0157514  5257.043\n",
       "      ...         ...       ...       ...\n",
       "2.6391466 0.054676227   2.90303 4567.0713\n",
       "2.6353672 0.055932242 2.2058415 3970.8882\n",
       "   2.6392  0.05787554 2.5535944 4288.8853\n",
       "2.6290839 0.062288746 2.8776336 4548.0654\n",
       "2.6335952 0.060542647   2.32117  4081.479\n",
       "2.6331627 0.059795804 2.9062414  4569.462\n",
       " 2.640442  0.05929424 2.9740548 4619.2954\n",
       "2.6385143 0.061055563 2.2301946 3994.6953\n",
       "2.6380715  0.06098642 2.5671928 4300.4277\n",
       "2.6371665  0.06261407 3.1508186 4743.6416"
      ]
     },
     "execution_count": 26,
     "metadata": {},
     "output_type": "execute_result"
    }
   ],
   "source": [
    "quasars = load_data_to_Table(\"/global/homes/s/schampat/Voids/Void_analysis/Data/Slice_Plots/Quasars-old.fits\")\n",
    "quasars"
   ]
  },
  {
   "cell_type": "code",
   "execution_count": 27,
   "id": "24f8de9e-d619-474b-acff-7851314fb363",
   "metadata": {},
   "outputs": [
    {
     "data": {
      "text/html": [
       "<i>Table length=241</i>\n",
       "<table id=\"table23455439407760\" class=\"table-striped table-bordered table-condensed\">\n",
       "<thead><tr><th>x</th><th>y</th><th>z</th><th>radius</th><th>flag</th></tr></thead>\n",
       "<thead><tr><th>float64</th><th>float64</th><th>float64</th><th>float64</th><th>int64</th></tr></thead>\n",
       "<tr><td>4773.209074484103</td><td>198.37503235743551</td><td>42.64913121846885</td><td>42.32238433562759</td><td>0</td></tr>\n",
       "<tr><td>4379.393264023859</td><td>192.85394454280998</td><td>45.21156069239764</td><td>40.82589146582112</td><td>1</td></tr>\n",
       "<tr><td>4597.874692390677</td><td>214.1018659470442</td><td>43.61834705812676</td><td>38.540597970553875</td><td>2</td></tr>\n",
       "<tr><td>3835.8284254037967</td><td>174.8892779721012</td><td>39.995720565223735</td><td>35.56580285694471</td><td>3</td></tr>\n",
       "<tr><td>3842.4490879446244</td><td>175.19392575583527</td><td>39.799538656300996</td><td>35.36201045005942</td><td>3</td></tr>\n",
       "<tr><td>4264.650163338491</td><td>176.92003892224798</td><td>35.48611967296935</td><td>35.31803041141272</td><td>4</td></tr>\n",
       "<tr><td>3898.132057958494</td><td>162.31877025641217</td><td>36.23920574524079</td><td>35.30764836275638</td><td>5</td></tr>\n",
       "<tr><td>3851.269104633594</td><td>175.5976149355048</td><td>39.74309624888672</td><td>35.295336223649485</td><td>3</td></tr>\n",
       "<tr><td>3853.4725806028973</td><td>175.69897297045605</td><td>39.624650190260915</td><td>35.17438589058678</td><td>3</td></tr>\n",
       "<tr><td>4787.913264760157</td><td>217.23082740194528</td><td>39.62482347644811</td><td>34.678499210483174</td><td>0</td></tr>\n",
       "<tr><td>...</td><td>...</td><td>...</td><td>...</td><td>...</td></tr>\n",
       "<tr><td>4274.274082706569</td><td>198.47119119598244</td><td>4.554107899472697</td><td>1.659029641429066</td><td>31</td></tr>\n",
       "<tr><td>4120.258620929495</td><td>186.82464736808532</td><td>5.421308243181471</td><td>1.6570574953046238</td><td>12</td></tr>\n",
       "<tr><td>4554.925785168947</td><td>211.1460773111893</td><td>3.2107041602090267</td><td>1.4960954361988383</td><td>43</td></tr>\n",
       "<tr><td>4524.734315187206</td><td>209.74422237137023</td><td>3.1894003315606594</td><td>1.4923667016691864</td><td>35</td></tr>\n",
       "<tr><td>4445.678222895454</td><td>204.52521588495188</td><td>5.872083577877813</td><td>1.45558617299839</td><td>13</td></tr>\n",
       "<tr><td>3995.451914499403</td><td>183.92709194845503</td><td>4.986700368342938</td><td>1.3173219196160026</td><td>42</td></tr>\n",
       "<tr><td>3899.6821892226462</td><td>177.27081989622351</td><td>4.8150116671104914</td><td>1.2842847414390282</td><td>5</td></tr>\n",
       "<tr><td>3749.4101568304054</td><td>170.9730664502136</td><td>4.543964382593456</td><td>1.2164492968631553</td><td>10</td></tr>\n",
       "<tr><td>4139.249770344825</td><td>191.67075930147664</td><td>3.1003674999306643</td><td>1.134146795271895</td><td>32</td></tr>\n",
       "<tr><td>3995.407024522655</td><td>184.9396520745539</td><td>2.9902001073801774</td><td>1.134119012451869</td><td>42</td></tr>\n",
       "</table>"
      ],
      "text/plain": [
       "<Table length=241>\n",
       "        x                  y          ...       radius        flag\n",
       "     float64            float64       ...      float64       int64\n",
       "------------------ ------------------ ... ------------------ -----\n",
       " 4773.209074484103 198.37503235743551 ...  42.32238433562759     0\n",
       " 4379.393264023859 192.85394454280998 ...  40.82589146582112     1\n",
       " 4597.874692390677  214.1018659470442 ... 38.540597970553875     2\n",
       "3835.8284254037967  174.8892779721012 ...  35.56580285694471     3\n",
       "3842.4490879446244 175.19392575583527 ...  35.36201045005942     3\n",
       " 4264.650163338491 176.92003892224798 ...  35.31803041141272     4\n",
       " 3898.132057958494 162.31877025641217 ...  35.30764836275638     5\n",
       " 3851.269104633594  175.5976149355048 ... 35.295336223649485     3\n",
       "3853.4725806028973 175.69897297045605 ...  35.17438589058678     3\n",
       " 4787.913264760157 217.23082740194528 ... 34.678499210483174     0\n",
       "               ...                ... ...                ...   ...\n",
       " 4274.274082706569 198.47119119598244 ...  1.659029641429066    31\n",
       " 4120.258620929495 186.82464736808532 ... 1.6570574953046238    12\n",
       " 4554.925785168947  211.1460773111893 ... 1.4960954361988383    43\n",
       " 4524.734315187206 209.74422237137023 ... 1.4923667016691864    35\n",
       " 4445.678222895454 204.52521588495188 ...   1.45558617299839    13\n",
       " 3995.451914499403 183.92709194845503 ... 1.3173219196160026    42\n",
       "3899.6821892226462 177.27081989622351 ... 1.2842847414390282     5\n",
       "3749.4101568304054  170.9730664502136 ... 1.2164492968631553    10\n",
       " 4139.249770344825 191.67075930147664 ...  1.134146795271895    32\n",
       " 3995.407024522655  184.9396520745539 ...  1.134119012451869    42"
      ]
     },
     "execution_count": 27,
     "metadata": {},
     "output_type": "execute_result"
    }
   ],
   "source": [
    "holes = load_data_to_Table(\"/global/homes/s/schampat/Voids/Void_analysis/Data/Slice_Plots/deltatable1-Copy1._comoving_holes_noMagCut.txt\")\n",
    "holes"
   ]
  },
  {
   "cell_type": "code",
   "execution_count": 28,
   "id": "09314d28-0a77-4928-b31f-f34dc647f66d",
   "metadata": {},
   "outputs": [],
   "source": [
    "ra_range = np.array([2.58,2.66])"
   ]
  },
  {
   "cell_type": "code",
   "execution_count": 29,
   "id": "de154cb1-1d5f-47c4-b171-bf009009f022",
   "metadata": {},
   "outputs": [
    {
     "data": {
      "image/png": "[encoded data removed]",
      "text/plain": [
       "<Figure size 1200x600 with 1 Axes>"
      ]
     },
     "metadata": {
      "needs_background": "light"
     },
     "output_type": "display_data"
    }
   ],
   "source": [
    "pvfmine(deltas, quasars, ra_range, 0.04, holes, 5, 100, 5, figure_file=None)"
   ]
  },
  {
   "cell_type": "code",
   "execution_count": null,
   "id": "1c800565-8b0a-48d4-98d9-b502c836f6c2",
   "metadata": {},
   "outputs": [],
   "source": []
  }
 ],
 "metadata": {
  "kernelspec": {
   "display_name": "DESI 21.3",
   "language": "python",
   "name": "desi-21.3"
  },
  "language_info": {
   "codemirror_mode": {
    "name": "ipython",
    "version": 3
   },
   "file_extension": ".py",
   "mimetype": "text/x-python",
   "name": "python",
   "nbconvert_exporter": "python",
   "pygments_lexer": "ipython3",
   "version": "3.8.3"
  }
 },
 "nbformat": 4,
 "nbformat_minor": 5
}
