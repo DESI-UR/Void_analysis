{
 "cells": [
  {
   "cell_type": "markdown",
   "id": "d359f880-fd9b-45bb-b503-c9ed3eb4266f",
   "metadata": {},
   "source": [
    "Check to see if there are any galaxies inside the voids."
   ]
  },
  {
   "cell_type": "code",
   "execution_count": 4,
   "id": "0582cdb0-f42f-4c70-92e9-0daf20ceaf0b",
   "metadata": {},
   "outputs": [],
   "source": [
    "from astropy.table import Table\n",
    "\n",
    "import numpy as np\n",
    "\n",
    "from sklearn.neighbors import KDTree\n",
    "\n",
    "from vast.voidfinder.table_functions import to_array"
   ]
  },
  {
   "cell_type": "markdown",
   "id": "757dc3cc-345b-405b-88fa-9bd059faf934",
   "metadata": {},
   "source": [
    "# Data"
   ]
  },
  {
   "cell_type": "code",
   "execution_count": 2,
   "id": "cdc3c2d4-c98c-4b7d-ae51-7dd90cad7e3d",
   "metadata": {},
   "outputs": [],
   "source": [
    "wall_galaxies_filename = '/Users/kellydouglass/Documents/Research/Voids/void_catalogs/SDSS/VoidFinder/python_implementation/NSA_main_wall_gal_file.txt'\n",
    "\n",
    "wall_galaxies = Table.read(wall_galaxies_filename, format='ascii.commented_header')"
   ]
  },
  {
   "cell_type": "code",
   "execution_count": 3,
   "id": "d93e6ec4-7c8b-463a-a32c-5d0c06c1db83",
   "metadata": {},
   "outputs": [],
   "source": [
    "holes_filename = '/Users/kellydouglass/Documents/Research/Voids/void_catalogs/public/v1.1.1/Planck2018/VoidFinder-nsa_v1_0_1_Planck2018_main_comoving_holes.txt'\n",
    "\n",
    "holes = Table.read(holes_filename, format='ascii.commented_header')"
   ]
  },
  {
   "cell_type": "markdown",
   "id": "d9229394-b5e2-4cc7-9a76-dbe72a89c548",
   "metadata": {},
   "source": [
    "# Are any of the galaxies inside a hole?\n",
    "\n",
    "## Build a KDTree of the galaxies"
   ]
  },
  {
   "cell_type": "code",
   "execution_count": 5,
   "id": "129e6465-4b71-40ea-8319-73a654240425",
   "metadata": {},
   "outputs": [],
   "source": [
    "gal_coords = to_array(wall_galaxies)\n",
    "\n",
    "gal_tree = KDTree(gal_coords)"
   ]
  },
  {
   "cell_type": "markdown",
   "id": "a168d545-e99f-4d94-9258-562d4d92a80a",
   "metadata": {},
   "source": [
    "## Perform a radius query on the tree for each hole\n",
    "\n",
    "We're going to search $0.99R$ around each hole center, to make sure that we don't grab any of the bounding galaxies."
   ]
  },
  {
   "cell_type": "code",
   "execution_count": 6,
   "id": "f594a146-6c5e-493f-9e2a-232cf0ccf215",
   "metadata": {},
   "outputs": [],
   "source": [
    "hole_coords = to_array(holes)\n",
    "\n",
    "ind, dist = gal_tree.query_radius(hole_coords, 0.99*holes['radius'], return_distance=True)"
   ]
  },
  {
   "cell_type": "code",
   "execution_count": 10,
   "id": "3704a4d1-1255-4477-ab89-1f5cedb69654",
   "metadata": {},
   "outputs": [],
   "source": [
    "for i in range(len(ind)):\n",
    "    if len(ind[i]) > 0:\n",
    "        print(i, ind[i], dist[i])"
   ]
  },
  {
   "cell_type": "markdown",
   "id": "914f6fff-eeb2-4b44-8ab9-1057d432da42",
   "metadata": {},
   "source": [
    "Yay!  None of the old holes had galaxies in them."
   ]
  },
  {
   "cell_type": "code",
   "execution_count": null,
   "id": "38ea2715-f19c-46d7-a862-587e807712b7",
   "metadata": {},
   "outputs": [],
   "source": []
  }
 ],
 "metadata": {
  "kernelspec": {
   "display_name": "Python 3 (ipykernel)",
   "language": "python",
   "name": "python3"
  },
  "language_info": {
   "codemirror_mode": {
    "name": "ipython",
    "version": 3
   },
   "file_extension": ".py",
   "mimetype": "text/x-python",
   "name": "python",
   "nbconvert_exporter": "python",
   "pygments_lexer": "ipython3",
   "version": "3.8.13"
  }
 },
 "nbformat": 4,
 "nbformat_minor": 5
}
