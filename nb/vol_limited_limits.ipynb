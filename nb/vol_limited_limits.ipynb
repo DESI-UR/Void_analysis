{
 "cells": [
  {
   "cell_type": "markdown",
   "metadata": {},
   "source": [
    "What are the various redshift limits to convert a magnitude-limited survey to a volume-limited survey, given some magnitude limit?"
   ]
  },
  {
   "cell_type": "code",
   "execution_count": 5,
   "metadata": {},
   "outputs": [],
   "source": [
    "import numpy as np\n",
    "\n",
    "from scipy.optimize import root_scalar\n",
    "\n",
    "from vast.voidfinder.distance import z_to_comoving_dist"
   ]
  },
  {
   "cell_type": "markdown",
   "metadata": {},
   "source": [
    "# Constants"
   ]
  },
  {
   "cell_type": "code",
   "execution_count": 8,
   "metadata": {},
   "outputs": [],
   "source": [
    "h = 1\n",
    "H0 = 100*h # km/s/Mpc\n",
    "\n",
    "c = 3e5    # km/s"
   ]
  },
  {
   "cell_type": "markdown",
   "metadata": {},
   "source": [
    "# Functions\n",
    "\n",
    "## Distance modulus"
   ]
  },
  {
   "cell_type": "code",
   "execution_count": 3,
   "metadata": {},
   "outputs": [],
   "source": [
    "def dist_mod(m,M):\n",
    "    '''\n",
    "    Calculate the distance based on the difference between apparent and absolute magnitude\n",
    "    \n",
    "    \n",
    "    PARAMETERS\n",
    "    ==========\n",
    "    \n",
    "    m : float\n",
    "        Apparent magnitude\n",
    "        \n",
    "    M : float\n",
    "        Absolute magnitude\n",
    "        \n",
    "    \n",
    "    RETURNS\n",
    "    =======\n",
    "    \n",
    "    d : float\n",
    "        Distance [Mpc/h]\n",
    "    '''\n",
    "    \n",
    "    d = 1e-5*10**((m - M)/5)\n",
    "    \n",
    "    return d"
   ]
  },
  {
   "cell_type": "markdown",
   "metadata": {},
   "source": [
    "## Redshift root"
   ]
  },
  {
   "cell_type": "code",
   "execution_count": 16,
   "metadata": {},
   "outputs": [],
   "source": [
    "def z_root(z, m, M, Omega_M=0.3, h=1):\n",
    "    '''\n",
    "    Calculate the difference between the distance modulus and the cosmological distance.\n",
    "    \n",
    "    \n",
    "    PARAMETERS\n",
    "    ==========\n",
    "    \n",
    "    z : float\n",
    "        Redshift at which to calculate the cosmological distance\n",
    "        \n",
    "    m : float\n",
    "        Apparent magnitude\n",
    "        \n",
    "    M : float\n",
    "        Absolute magnitude (in the same waveband as m)\n",
    "        \n",
    "    Omega_M : float\n",
    "        Value of the matter fraction of the universe.  Default is 0.3.\n",
    "        \n",
    "    h : float\n",
    "        Value of the reduced Hubble constant, where H0 = 100h.  Default is 1.\n",
    "        \n",
    "        \n",
    "    RETURNS\n",
    "    =======\n",
    "    \n",
    "    diff : float\n",
    "        Difference between the distance modulus and the cosmological distance\n",
    "    '''\n",
    "    \n",
    "    diff = z_to_comoving_dist(np.array([z], dtype=np.float32), Omega_M, h) - dist_mod(m,M)\n",
    "    \n",
    "    return diff"
   ]
  },
  {
   "cell_type": "markdown",
   "metadata": {},
   "source": [
    "# Magnitude limits"
   ]
  },
  {
   "cell_type": "code",
   "execution_count": 40,
   "metadata": {},
   "outputs": [],
   "source": [
    "# Apparent magnitude limit\n",
    "m_min = 17.77\n",
    "#m_min = 17.6\n",
    "\n",
    "# Absolute magnitude limit\n",
    "#M_min = -20.09\n",
    "M_min = -20"
   ]
  },
  {
   "cell_type": "markdown",
   "metadata": {},
   "source": [
    "# Solve for the redshift"
   ]
  },
  {
   "cell_type": "code",
   "execution_count": 42,
   "metadata": {},
   "outputs": [
    {
     "name": "stdout",
     "output_type": "stream",
     "text": [
      "0.11355704944572372 [331.13113]\n"
     ]
    }
   ],
   "source": [
    "z_max = root_scalar(z_root, args=(m_min, M_min, 0.315), bracket=[0,2])\n",
    "\n",
    "dist_Mpc = z_to_comoving_dist(np.array([z_max.root], dtype=np.float32), 0.315, h)\n",
    "\n",
    "print(z_max.root, dist_Mpc)"
   ]
  },
  {
   "cell_type": "code",
   "execution_count": 33,
   "metadata": {},
   "outputs": [
    {
     "data": {
      "text/plain": [
       "array([318.59412], dtype=float32)"
      ]
     },
     "execution_count": 33,
     "metadata": {},
     "output_type": "execute_result"
    }
   ],
   "source": [
    "z_to_comoving_dist(np.array([0.109], dtype=np.float32), 0.3, h)"
   ]
  },
  {
   "cell_type": "code",
   "execution_count": null,
   "metadata": {},
   "outputs": [],
   "source": []
  }
 ],
 "metadata": {
  "kernelspec": {
   "display_name": "Python 3",
   "language": "python",
   "name": "python3"
  },
  "language_info": {
   "codemirror_mode": {
    "name": "ipython",
    "version": 3
   },
   "file_extension": ".py",
   "mimetype": "text/x-python",
   "name": "python",
   "nbconvert_exporter": "python",
   "pygments_lexer": "ipython3",
   "version": "3.8.5"
  }
 },
 "nbformat": 4,
 "nbformat_minor": 4
}
