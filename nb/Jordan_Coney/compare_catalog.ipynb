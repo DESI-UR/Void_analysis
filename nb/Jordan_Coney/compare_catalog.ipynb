{
 "cells": [
  {
   "cell_type": "code",
   "execution_count": 1,
   "id": "7c446f4f",
   "metadata": {},
   "outputs": [],
   "source": [
    "from astropy.table import Table\n",
    "import matplotlib.pyplot as plt\n",
    "from mpl_toolkits import mplot3d\n",
    "import numpy as np\n",
    "import time\n",
    "from sklearn import neighbors\n",
    "from vast.voidfinder._voidfinder_cython_find_next import MaskChecker\n",
    "import pickle"
   ]
  },
  {
   "cell_type": "markdown",
   "id": "6fa71b72",
   "metadata": {},
   "source": [
    "**If observing real galaxy survey, take input of related pickle file**"
   ]
  },
  {
   "cell_type": "code",
   "execution_count": 2,
   "id": "c04c8cca",
   "metadata": {},
   "outputs": [],
   "source": [
    "# If observing real galaxy survey, take input of related pickle file\n",
    "mask_file_name = \"/Users/lorenzomendoza/Desktop/Research/Function/NSA_main_mask.pickle\""
   ]
  },
  {
   "cell_type": "code",
   "execution_count": 3,
   "id": "8fd90efd",
   "metadata": {},
   "outputs": [],
   "source": [
    "temp_infile = open(mask_file_name, \"rb\")\n",
    "mask, mask_resolution = pickle.load(temp_infile)\n",
    "temp_infile.close()"
   ]
  },
  {
   "cell_type": "code",
   "execution_count": 4,
   "id": "584687f8",
   "metadata": {},
   "outputs": [],
   "source": [
    "file_name1 = \"/Users/lorenzomendoza/Desktop/Research/Function/VoidFinder-nsa_v1_0_1_main_comoving_holes.txt\"\n",
    "data_table_V1 = Table.read(file_name1, format = \"ascii.commented_header\")\n",
    "\n",
    "file_name2 = \"/Users/lorenzomendoza/Desktop/Research/Function/VoidFinder-nsa_v1_0_1_main_comoving_maximal.txt\"\n",
    "data_table_V1max = Table.read(file_name2, format = \"ascii.commented_header\")\n",
    "\n",
    "file_name3 = \"/Users/lorenzomendoza/Desktop/Research/Function/VoidFinder-nsa_v1_0_1_main_comoving_holes.txt\"\n",
    "data_table_V2 = Table.read(file_name3, format = \"ascii.commented_header\")\n",
    "\n",
    "file_name4 = \"/Users/lorenzomendoza/Desktop/Research/Function/VoidFinder-nsa_v1_0_1_main_comoving_maximal.txt\"\n",
    "data_table_V2max = Table.read(file_name4, format = \"ascii.commented_header\")"
   ]
  },
  {
   "cell_type": "code",
   "execution_count": null,
   "id": "c2f77d1d",
   "metadata": {},
   "outputs": [],
   "source": [
    "start_time = time.time()\n",
    "\n",
    "rmin = 0\n",
    "rmax = 312.89816 # Where are these computed?\n",
    "\n",
    "points_boolean = np.ones(pts.shape[1], dtype = bool)\n",
    "\n",
    "# print(time.time() - start_time)\n",
    "\n",
    "mask_checker = MaskChecker(0,\n",
    "                        mask,\n",
    "                        mask_resolution,\n",
    "                        rmin,\n",
    "                        rmax,)\n",
    "\n",
    "start_time = time.time()\n",
    "for i in range(pts.shape[1]):\n",
    "#     print(pts[:,i].reshape((1,3)).shape)\n",
    "#     print(pts[:,i].reshape((1,3)))\n",
    "#     print(pts[:,i])\n",
    "    curr_pt = pts[:,i].reshape((1,3))\n",
    "    \n",
    "    not_in_mask = mask_checker.not_in_mask(curr_pt)\n",
    "\n",
    "    points_boolean[i] = ~not_in_mask\n",
    "                                    \n",
    "points_in_mask = pts[:,points_boolean]\n",
    "(var, n_points) = points_in_mask.shape\n",
    "print(time.time() - start_time)\n",
    "print(\"Points in Mask: \")\n",
    "print(points_in_mask.shape)\n",
    "\n",
    "print(\"Sum of Points IN: \")\n",
    "print(np.sum(points_boolean))\n",
    "\n",
    "print(\"Sum of Points OUT: \")\n",
    "print(np.sum(~points_boolean))\n",
    "\n",
    "print(\"Shape: \")\n",
    "print(points_boolean.shape)\n",
    "\n",
    "print(\"Array: \")\n",
    "print(points_in_mask)"
   ]
  }
 ],
 "metadata": {
  "kernelspec": {
   "display_name": "Python 3",
   "language": "python",
   "name": "python3"
  },
  "language_info": {
   "codemirror_mode": {
    "name": "ipython",
    "version": 3
   },
   "file_extension": ".py",
   "mimetype": "text/x-python",
   "name": "python",
   "nbconvert_exporter": "python",
   "pygments_lexer": "ipython3",
   "version": "3.8.8"
  }
 },
 "nbformat": 4,
 "nbformat_minor": 5
}
