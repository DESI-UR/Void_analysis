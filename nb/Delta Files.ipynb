{
 "cells": [
  {
   "cell_type": "code",
   "execution_count": 10,
   "id": "9fc2dd4e-fe00-442b-b8ad-7e0f66fbaff6",
   "metadata": {},
   "outputs": [],
   "source": [
    "import glob\n",
    "import sys\n",
    "import time\n",
    "import os.path\n",
    "import copy\n",
    "import numpy as np\n",
    "import healpy\n",
    "import fitsio\n",
    "from multiprocessing import Pool\n",
    "\n",
    "#from .utils import userprint\n",
    "\n",
    "import glob\n",
    "from matplotlib import pyplot as plt \n",
    "from astropy.io import fits\n",
    "from astropy.table import Table, join, vstack\n"
   ]
  },
  {
   "cell_type": "code",
   "execution_count": 11,
   "id": "9e03f48e-ef76-4be5-adbc-f87a655ae55f",
   "metadata": {},
   "outputs": [],
   "source": [
    "def userprint(*args, **kwds):\n",
    "    \"\"\"Defines an extension of the print function.\n",
    "    Args:\n",
    "        *args: arguments passed to print\n",
    "        **kwargs: keyword arguments passed to print\n",
    "    \"\"\"\n",
    "    print(*args, **kwds)\n",
    "    sys.stdout.flush()\n",
    "\n",
    "    \n",
    "#line 1439 in master/py/picca/io.py\n",
    " \n",
    "    \n",
    "def read_deltas(in_dir,\n",
    "                nside,\n",
    "                lambda_abs,\n",
    "                alpha,\n",
    "                z_ref,\n",
    "                cosmo,\n",
    "                max_num_spec=None,\n",
    "                no_project=False,\n",
    "                from_image=None,\n",
    "                nproc=None):\n",
    "    \n",
    "    files = []\n",
    "    in_dir = os.path.expandvars(in_dir)\n",
    "    if from_image is None or len(from_image) == 0:\n",
    "        if len(in_dir) > 8 and in_dir[-8:] == '.fits.gz':\n",
    "            files += sorted(glob.glob(in_dir))\n",
    "        elif len(in_dir) > 5 and in_dir[-5:] == '.fits':\n",
    "            files += sorted(glob.glob(in_dir))\n",
    "        else:\n",
    "            files += sorted(glob.glob(in_dir + '/*.fits') + glob.glob(in_dir +\n",
    "                                                               '/*.fits.gz'))\n",
    "    else:\n",
    "        for arg in from_image:\n",
    "            if len(arg) > 8 and arg[-8:] == '.fits.gz':\n",
    "                files += sorted(glob.glob(arg))\n",
    "            elif len(arg) > 5 and arg[-5:] == '.fits':\n",
    "                files += sorted(glob.glob(arg))\n",
    "            else:\n",
    "                files += sorted(glob.glob(arg + '/*.fits') + glob.glob(arg +\n",
    "                                                                '/*.fits.gz'))\n",
    "    files = sorted(files)\n",
    "\n",
    "    arguments = [(f, from_image) for f in files]\n",
    "    pool = Pool(processes=nproc)\n",
    "    results = pool.starmap(read_delta_file, arguments)\n",
    "    pool.close()\n",
    "\n",
    "    deltas = []\n",
    "    num_data = 0\n",
    "    for delta in results:\n",
    "        if delta is not None:\n",
    "            deltas += delta\n",
    "            num_data = len(deltas)\n",
    "            if (max_num_spec is not None) and (num_data > max_num_spec):\n",
    "                break\n",
    "\n",
    "    # truncate the deltas if we load too many lines of sight\n",
    "    if max_num_spec is not None:\n",
    "        deltas = deltas[:max_num_spec]\n",
    "        num_data = len(deltas)\n",
    "\n",
    "    userprint(\"\\n\")\n",
    "    \n",
    "    \n",
    "    # compute healpix numbers\n",
    "    phi = [delta.ra for delta in deltas]\n",
    "    theta = [np.pi / 2. - delta.dec for delta in deltas]\n",
    "    healpixs = healpy.ang2pix(nside, theta, phi)\n",
    "    if healpixs.size == 0:\n",
    "        raise AssertionError('ERROR: No data in {}'.format(in_dir))\n",
    "\n",
    "    data = {}\n",
    "    z_min = 10**deltas[0].log_lambda[0] / lambda_abs - 1.\n",
    "    z_max = 0.\n",
    "    for delta, healpix in zip(deltas, healpixs):\n",
    "        z = 10**delta.log_lambda / lambda_abs - 1.\n",
    "        z_min = min(z_min, z.min())\n",
    "        z_max = max(z_max, z.max())\n",
    "        delta.z = z\n",
    "        if not cosmo is None:\n",
    "            delta.r_comov = cosmo.get_r_comov(z)\n",
    "            delta.dist_m = cosmo.get_dist_m(z)\n",
    "        delta.weights *= ((1 + z) / (1 + z_ref))**(alpha - 1)\n",
    "\n",
    "        if not no_project:\n",
    "            delta.project()\n",
    "\n",
    "        if not healpix in data:\n",
    "            data[healpix] = []\n",
    "        data[healpix].append(delta)\n",
    "\n",
    "    return data, num_data, z_min, z_max"
   ]
  },
  {
   "cell_type": "code",
   "execution_count": 12,
   "id": "b22f07a6-0b93-43d0-b86e-0b9eb56098b1",
   "metadata": {},
   "outputs": [
    {
     "name": "stdout",
     "output_type": "stream",
     "text": [
      "XTENSION= 'BINTABLE'           / binary table extension                         BITPIX  =                    8 / 8-bit bytes                                    NAXIS   =                    2 / 2-dimensional binary table                     NAXIS1  =                   32 / width of table in bytes                        NAXIS2  =                  177 / number of rows in table                        PCOUNT  =                    0 / size of special data area                      GCOUNT  =                    1 / one data group (required keyword)              TFIELDS =                    4 / number of fields in each row                   TTYPE1  = 'LOGLAM  '           / label for field   1                            TFORM1  = 'D       '           / data format of field: 8-byte DOUBLE            TUNIT1  = 'log Angstrom'       / physical unit of field                         TTYPE2  = 'DELTA_BLIND'        / label for field   2                            TFORM2  = 'D       '           / data format of field: 8-byte DOUBLE            TTYPE3  = 'WEIGHT  '           / label for field   3                            TFORM3  = 'D       '           / data format of field: 8-byte DOUBLE            TTYPE4  = 'CONT    '           / label for field   4                            TFORM4  = 'D       '           / data format of field: 8-byte DOUBLE            EXTNAME = '39633559488565030'  / name of this binary table extension            RA      =     2.42055889373837 / Right Ascension [rad]                          DEC     =     1.42841019869516 / Declination [rad]                              Z       =     2.38861132083562 / Redshift                                       PMF     = '39633559488565030-39633559488565030-39633559488565030'               THING_ID=    39633559488565030 / Object identification                          PLATE   =    39633559488565030                                                  MJD     =    39633559488565030 / Modified Julian date                           FIBERID =    39633559488565030                                                  ORDER   =                    1 / Order of the continuum fit                     BLINDING= 'corr_yshift'        / String specifying the blinding strategy        END                                                                                                                                                                                                                                                                                                                                                                                                                                                                                                                                                                                                                                                             \n"
     ]
    }
   ],
   "source": [
    "filename='/global/u1/s/sgontcho/desi/desi-everest/Delta_LYA/redo-metadata/Deltas/delta-1.fits.gz' \n",
    "l_ref=1216\n",
    "hdul = fits.open(filename)\n",
    "Deltas=np.array([])\n",
    "Redshifts=np.array([])\n",
    "RAs=np.array([])\n",
    "DECs=np.array([])\n",
    "datalist=[]\n",
    "for m in range(0,173):\n",
    "    \n",
    "    data = Table(hdul[m].data)\n",
    "    for row in range(len(data)):\n",
    "        Deltas=np.append(Deltas,data.field(1)[row])\n",
    "        RAs=np.append(RAs,hdul[m].header['RA'])\n",
    "        DECs=np.append(DECs,hdul[m].header['DEC'])\n",
    "        loglam=data.field(0)[row]\n",
    "        l_obs=10**(loglam)\n",
    "        z=(l_obs-l_ref)/l_ref\n",
    "        Redshifts=np.append(Redshifts,z)\n",
    "        \n",
    "\n",
    "for m in range (len(Deltas)-1):\n",
    "    datalist.append([RAs[m],DECs[m],Redshifts[m],Deltas[m]])                               \n",
    "print(hdul[1].header)                  \n"
   ]
  },
  {
   "cell_type": "code",
   "execution_count": 5,
   "id": "5b19b3c9-f098-47a6-b09d-85acf67be10a",
   "metadata": {},
   "outputs": [],
   "source": [
    "deltatable = np.array(datalist)"
   ]
  },
  {
   "cell_type": "code",
   "execution_count": 12,
   "id": "0419f16c-7acf-4f6a-a305-7593293c30e9",
   "metadata": {},
   "outputs": [
    {
     "data": {
      "text/plain": [
       "array([[  2.42055889,   1.4284102 ,   1.96052632, -37.07653328],\n",
       "       [  2.42055889,   1.4284102 ,   1.96257208, -50.52021237],\n",
       "       [  2.42055889,   1.4284102 ,   1.96461926, -17.28094307],\n",
       "       ...,\n",
       "       [  2.34039325,   1.46710695,   2.83326572,   0.09445987],\n",
       "       [  2.34039325,   1.46710695,   2.83591457,   0.10167317],\n",
       "       [  2.34039325,   1.46710695,   2.83856524,   0.1372551 ]])"
      ]
     },
     "execution_count": 12,
     "metadata": {},
     "output_type": "execute_result"
    }
   ],
   "source": [
    "deltatable"
   ]
  },
  {
   "cell_type": "code",
   "execution_count": 13,
   "id": "16ad45f2-6ec5-4786-b7e6-5423e93b58b0",
   "metadata": {},
   "outputs": [],
   "source": [
    "col1 = fits.Column(name='ra', array=RAs, format=\"E\")\n",
    "col2 = fits.Column(name='dec', array=DECs, format=\"E\")\n",
    "col3 = fits.Column(name='z', array=Redshifts, format=\"E\")\n",
    "col4 = fits.Column(name='Delta', array=Deltas, format=\"E\")\n",
    "\n",
    "cols=fits.ColDefs([col1,col2,col3,col4])\n",
    "hdu = fits.BinTableHDU.from_columns(cols)\n",
    "hdu.writeto('/global/homes/s/schampat/Voids/Void_analysis/Data/deltatable.fits',overwrite=True)\n"
   ]
  },
  {
   "cell_type": "code",
   "execution_count": 14,
   "id": "21b73020-8c5b-43be-a5a0-06de27809ed6",
   "metadata": {
    "tags": []
   },
   "outputs": [
    {
     "data": {
      "text/html": [
       "<div><i>Table length=28591</i>\n",
       "<table id=\"table46914510339904\" class=\"table-striped table-bordered table-condensed\">\n",
       "<thead><tr><th>ra</th><th>dec</th><th>z</th><th>Delta</th></tr></thead>\n",
       "<thead><tr><th>float32</th><th>float32</th><th>float32</th><th>float32</th></tr></thead>\n",
       "<tr><td>2.420559</td><td>1.4284102</td><td>1.9605263</td><td>-37.076534</td></tr>\n",
       "<tr><td>2.420559</td><td>1.4284102</td><td>1.9625721</td><td>-50.520214</td></tr>\n",
       "<tr><td>2.420559</td><td>1.4284102</td><td>1.9646193</td><td>-17.280943</td></tr>\n",
       "<tr><td>2.420559</td><td>1.4284102</td><td>1.9666679</td><td>-36.681316</td></tr>\n",
       "<tr><td>2.420559</td><td>1.4284102</td><td>1.9687178</td><td>15.435552</td></tr>\n",
       "<tr><td>2.420559</td><td>1.4284102</td><td>1.9707693</td><td>-0.39883325</td></tr>\n",
       "<tr><td>2.420559</td><td>1.4284102</td><td>1.9728222</td><td>-68.59262</td></tr>\n",
       "<tr><td>2.420559</td><td>1.4284102</td><td>1.9748764</td><td>-25.844631</td></tr>\n",
       "<tr><td>2.420559</td><td>1.4284102</td><td>1.976932</td><td>-40.438103</td></tr>\n",
       "<tr><td>2.420559</td><td>1.4284102</td><td>1.9789891</td><td>-32.72988</td></tr>\n",
       "<tr><td>...</td><td>...</td><td>...</td><td>...</td></tr>\n",
       "<tr><td>2.3403933</td><td>1.4671069</td><td>2.817411</td><td>-1.0242473</td></tr>\n",
       "<tr><td>2.3403933</td><td>1.4671069</td><td>2.820049</td><td>0.012649149</td></tr>\n",
       "<tr><td>2.3403933</td><td>1.4671069</td><td>2.8226886</td><td>0.5192786</td></tr>\n",
       "<tr><td>2.3403933</td><td>1.4671069</td><td>2.8253303</td><td>0.4681326</td></tr>\n",
       "<tr><td>2.3403933</td><td>1.4671069</td><td>2.8279736</td><td>0.5007219</td></tr>\n",
       "<tr><td>2.3403933</td><td>1.4671069</td><td>2.8306186</td><td>0.6163148</td></tr>\n",
       "<tr><td>2.3403933</td><td>1.4671069</td><td>2.8332658</td><td>0.09445987</td></tr>\n",
       "<tr><td>2.3403933</td><td>1.4671069</td><td>2.8359146</td><td>0.10167317</td></tr>\n",
       "<tr><td>2.3403933</td><td>1.4671069</td><td>2.8385653</td><td>0.1372551</td></tr>\n",
       "<tr><td>2.3403933</td><td>1.4671069</td><td>2.8412178</td><td>-0.3120289</td></tr>\n",
       "</table></div>"
      ],
      "text/plain": [
       "<Table length=28591>\n",
       "    ra       dec        z        Delta   \n",
       " float32   float32   float32    float32  \n",
       "--------- --------- --------- -----------\n",
       " 2.420559 1.4284102 1.9605263  -37.076534\n",
       " 2.420559 1.4284102 1.9625721  -50.520214\n",
       " 2.420559 1.4284102 1.9646193  -17.280943\n",
       " 2.420559 1.4284102 1.9666679  -36.681316\n",
       " 2.420559 1.4284102 1.9687178   15.435552\n",
       " 2.420559 1.4284102 1.9707693 -0.39883325\n",
       " 2.420559 1.4284102 1.9728222   -68.59262\n",
       " 2.420559 1.4284102 1.9748764  -25.844631\n",
       " 2.420559 1.4284102  1.976932  -40.438103\n",
       " 2.420559 1.4284102 1.9789891   -32.72988\n",
       "      ...       ...       ...         ...\n",
       "2.3403933 1.4671069  2.817411  -1.0242473\n",
       "2.3403933 1.4671069  2.820049 0.012649149\n",
       "2.3403933 1.4671069 2.8226886   0.5192786\n",
       "2.3403933 1.4671069 2.8253303   0.4681326\n",
       "2.3403933 1.4671069 2.8279736   0.5007219\n",
       "2.3403933 1.4671069 2.8306186   0.6163148\n",
       "2.3403933 1.4671069 2.8332658  0.09445987\n",
       "2.3403933 1.4671069 2.8359146  0.10167317\n",
       "2.3403933 1.4671069 2.8385653   0.1372551\n",
       "2.3403933 1.4671069 2.8412178  -0.3120289"
      ]
     },
     "execution_count": 14,
     "metadata": {},
     "output_type": "execute_result"
    }
   ],
   "source": [
    "filename='/global/homes/s/schampat/Voids/Void_analysis/Data/deltatable.fits'\n",
    "hdul = fits.open(filename)\n",
    "data = Table(hdul[1].data)\n",
    "data\n",
    "\n",
    "\n"
   ]
  },
  {
   "cell_type": "code",
   "execution_count": null,
   "id": "a2c44e9b-b11a-4b5d-9557-2e61b3bd0559",
   "metadata": {},
   "outputs": [],
   "source": []
  }
 ],
 "metadata": {
  "kernelspec": {
   "display_name": "DESI master",
   "language": "python",
   "name": "desi-master"
  },
  "language_info": {
   "codemirror_mode": {
    "name": "ipython",
    "version": 3
   },
   "file_extension": ".py",
   "mimetype": "text/x-python",
   "name": "python",
   "nbconvert_exporter": "python",
   "pygments_lexer": "ipython3",
   "version": "3.9.7"
  }
 },
 "nbformat": 4,
 "nbformat_minor": 5
}
