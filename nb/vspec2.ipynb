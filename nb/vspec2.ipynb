{
 "cells": [
  {
   "cell_type": "code",
   "execution_count": 202,
   "id": "895ef723-2c02-4561-bbe2-965258600c26",
   "metadata": {
    "tags": []
   },
   "outputs": [],
   "source": [
    "import numpy as np\n",
    "import os.path\n",
    "import pickle\n",
    "import matplotlib.pyplot as plt\n",
    "import camb\n",
    "from camb import model, initialpower, CAMBError\n",
    "from scipy.interpolate import interpn,interp1d,LinearNDInterpolator\n",
    "import corner\n",
    "import emcee\n",
    "import math\n",
    "import matplotlib as mpl\n",
    "from astropy.cosmology import w0waCDM"
   ]
  },
  {
   "cell_type": "code",
   "execution_count": 3,
   "id": "2feb4a4e-f7c6-4b77-8116-60bc7fe429b7",
   "metadata": {
    "tags": []
   },
   "outputs": [
    {
     "data": {
      "image/png": "[encoded data removed]",
      "text/plain": [
       "<Figure size 432x288 with 1 Axes>"
      ]
     },
     "metadata": {
      "needs_background": "light"
     },
     "output_type": "display_data"
    }
   ],
   "source": [
    "# importing from getdist on Perlmutter seems to break pyplot for me unless I do this weird thing\n",
    "\n",
    "plt.plot([1,2],[3,4]);\n",
    "plt.show()"
   ]
  },
  {
   "cell_type": "code",
   "execution_count": 4,
   "id": "ffe1856b-5cda-43ae-856d-9ab0a4d99c65",
   "metadata": {
    "tags": []
   },
   "outputs": [],
   "source": [
    "from getdist import plots, MCSamples"
   ]
  },
  {
   "cell_type": "code",
   "execution_count": 5,
   "id": "abfcdfc3-47c9-4920-bb77-3428da68cf36",
   "metadata": {
    "tags": []
   },
   "outputs": [
    {
     "data": {
      "image/png": "[encoded data removed]",
      "text/plain": [
       "<Figure size 432x288 with 1 Axes>"
      ]
     },
     "metadata": {
      "needs_background": "light"
     },
     "output_type": "display_data"
    }
   ],
   "source": [
    "plt.plot([1,2],[3,4]);\n",
    "plt.show()"
   ]
  },
  {
   "cell_type": "code",
   "execution_count": 6,
   "id": "cf7351a0-54a3-4ba6-9102-f9049cb588fb",
   "metadata": {
    "tags": []
   },
   "outputs": [],
   "source": [
    "mpl.rcParams.update({'font.size':22})"
   ]
  },
  {
   "cell_type": "code",
   "execution_count": 29,
   "id": "3453ce20-1fe3-4b6a-a2a3-181381ee82ad",
   "metadata": {
    "tags": []
   },
   "outputs": [],
   "source": [
    "# Set the middle of the redshift bins for the entire notebook\n",
    "z_list = np.array([0.25]) #original value of 0.25 provided in notebook for sample data, .116 for abacus vollim\n",
    "z_list[::-1].sort() #sortt by decreasing reshift for use with CAMB\n",
    "# run_ID variable that groups everything into a folder\n",
    "run_ID = \"wCDM\"\n",
    "os.makedirs(\"./\"+run_ID, exist_ok=True)"
   ]
  },
  {
   "cell_type": "code",
   "execution_count": 8,
   "id": "5cf061f0-2331-4392-bd77-a60d236b27fb",
   "metadata": {
    "tags": []
   },
   "outputs": [],
   "source": [
    "# initial and base cosmologies\n",
    "\n",
    "Kos = camb.CAMBparams();\n",
    "h = 0.6781\n",
    "Kos.set_cosmology(H0=h*100);\n",
    "Kos0 = camb.CAMBparams();\n",
    "Kos0.set_cosmology(H0=h*100);\n",
    "\n",
    "Kos.omch2 = Kos0.omch2*.315/Kos0.omegam\n",
    "Kos.ombh2 = Kos0.ombh2*.315/Kos0.omegam\n",
    "Kos.omnuh2 = Kos0.omnuh2*.315/Kos0.omegam\n",
    "Kos.DarkEnergy.set_params(w=-1,wa=0)\n",
    "Kos.set_matter_power(redshifts=[0], kmax=2.0)\n",
    "results = camb.get_results(Kos)"
   ]
  },
  {
   "cell_type": "code",
   "execution_count": 203,
   "id": "0b32f574-be99-4adc-878c-99fdfe533c85",
   "metadata": {
    "tags": []
   },
   "outputs": [
    {
     "name": "stdout",
     "output_type": "stream",
     "text": [
      "[[10.5 11.5 12.5 13.5 14.5 15.5 16.5 17.5 18.5 19.5 20.5 21.5 22.5 23.5\n",
      "  24.5 25.5 26.5 27.5 28.5 29.5 30.5 31.5 32.5 33.5 34.5 35.5 36.5 37.5\n",
      "  38.5 39.5 40.5 41.5 42.5 43.5 44.5 45.5 46.5 47.5 48.5 49.5 50.5 51.5\n",
      "  52.5 53.5 54.5 55.5 56.5 57.5 58.5 59.5 60.5 61.5 62.5 63.5 64.5 65.5\n",
      "  66.5 67.5 68.5 69.5]]\n"
     ]
    }
   ],
   "source": [
    "#set up VSS bins for interpolation grid\n",
    "\n",
    "#radii are on range (r_low, r_high) with r_nbins bins\n",
    "r_low=10\n",
    "r_high=70\n",
    "r_nbins = 60\n",
    "r_hbw = (r_high-r_low)/(2*r_nbins)\n",
    "#fidcial radii\n",
    "r_fid = np.expand_dims(np.linspace(r_low,r_high,r_nbins +1)[:-1] + r_hbw,axis=0)\n",
    "print(r_fid)"
   ]
  },
  {
   "cell_type": "code",
   "execution_count": 11,
   "id": "d46fd26d-bbc5-4b4c-8e5d-04c6e1f729b4",
   "metadata": {
    "tags": []
   },
   "outputs": [],
   "source": [
    "# void size spectrum function\n",
    "h = 0.6781\n",
    "Kos2 = w0waCDM(H0=67.81,Om0=0.315,Ode0=0.685,w0=-1.,wa=0.)\n",
    "def theory_size_spectrum(delta,Om_m,w0,wa,w,z,beff,vol_norm = 1e9):\n",
    "    #create cosmology\n",
    "    Kos = camb.CAMBparams();\n",
    "    Kos.set_cosmology(H0=h*100);\n",
    "    dnlv = delta/beff\n",
    "    #set Om and DEoS in cosmology\n",
    "    Kos.omch2 = Kos0.omch2*Om_m/Kos0.omegam\n",
    "    Kos.ombh2 = Kos0.ombh2*Om_m/Kos0.omegam\n",
    "    Kos.omnuh2 = Kos0.omnuh2*Om_m/Kos0.omegam\n",
    "    Kos.DarkEnergy.set_params(w=w0,wa=wa)\n",
    "    #get results for calculating sigma_R\n",
    "    Kos.set_matter_power(redshifts=z, kmax=2.0)\n",
    "    results = camb.get_results(Kos)\n",
    "    # fiducial cosmology, accoutns for change in survey volume\n",
    "    h2   = Kos2.H(z).value\n",
    "    a2   = Kos2.angular_diameter_distance(z).value\n",
    "    # same as first cosmology KOS but with astropy\n",
    "    Kos3 = w0waCDM(H0=67.81,Om0=Om_m,Ode0=1.-Om_m,w0=w0,wa=wa)\n",
    "    h3   = Kos3.H(z).value\n",
    "    a3   = Kos3.angular_diameter_distance(z).value\n",
    "    agr = np.expand_dims( ((h2/h3)**(1./3))*((a3/a2)**(2./3)) , axis=1)\n",
    "    #non-cumulative vss\n",
    "    radii = np.repeat(r_fid,len(z),axis=0)\n",
    "    dN = dndln((radii)/agr,w,dnlv,results) * (np.log(radii+r_hbw)-np.log(radii-r_hbw))\n",
    "    \n",
    "    #get sigma 8\n",
    "    Kos.set_matter_power(redshifts=[0], kmax=2.0)\n",
    "    results = camb.get_results(Kos)\n",
    "    \n",
    "    return results.get_sigma8_0(), vol_norm * ( np.cumsum( dN [:,::-1], axis = 1 ) [:,::-1])\n",
    "    "
   ]
  },
  {
   "cell_type": "code",
   "execution_count": 14,
   "id": "60ca6d5d-c832-4717-8c6c-8d96d2944e06",
   "metadata": {
    "tags": []
   },
   "outputs": [],
   "source": [
    "# functions that go into the theoretical void size spectrum\n",
    "#warn_unsafe_sum = True\n",
    "def f(dlv, sig_r):\n",
    "    # The multiplicity function of the void size spectrum\n",
    "    # dlv (float): linear thereshold of void formation\n",
    "    # sig_r (float array): the sigma_r values for the shell radii \n",
    "    \n",
    "    #global warn_unsafe_sum\n",
    "    \n",
    "    abs_dlv = np.abs(dlv)\n",
    "    \n",
    "    # The D = |delta_v^L| / (delta_c^L + |delta_v^L|) aka \"void-and-cloud\" term in the void size spectrum\n",
    "    D = abs_dlv/(1.686+abs_dlv)\n",
    "    \n",
    "    # The x = D * sigma_r / delta_v^L term in the theoretical void size spectrum\n",
    "    xx = D*sig_r/abs_dlv\n",
    "    \n",
    "    S =np.zeros_like(xx)\n",
    "    \"\"\"\n",
    "    (Outdated code, attempting faster version of VSS caclulations)\n",
    "    # Approx for x ≤ 0.276\n",
    "    ap1_idx = xx <= 0.276 # D/xx > 6 makes this approximation bad\n",
    "    S[ap1_idx] = np.sqrt(2/np.pi) * D / xx[ap1_idx] * np.exp( -.5 * (D / xx[ap1_idx]) ** 2)\n",
    "    if np.any((D / xx[ap1_idx]) > 6) and warn_unsafe_sum:\n",
    "        print(\"Unsafe approximation: D/x > 6 occured while x <= 0.276\")\n",
    "        warn_unsafe_sum = False\n",
    "    \n",
    "    # Approx for x > 0.276\n",
    "    j = np.arange(1,5)\n",
    "    xxx = np.multiply.outer(xx[~ap1_idx], np.ones_like(j)) #expand the xx array along a new axis with len(j) columns\n",
    "    S[~ap1_idx] = 2 * np.pi * np.sum(np.exp(-.5 * (j*np.pi*xxx)**2.) * j * (xxx**2), axis = 1)\n",
    "        \n",
    "    \"\"\"\n",
    "    #Slower but safer version\n",
    "    for redshift_idx, _ in enumerate(S):\n",
    "        for i,_ in enumerate(S[redshift_idx]):\n",
    "            j = 1\n",
    "            sdd = np.inf\n",
    "            while sdd>0.:\n",
    "                sdd = np.exp(-.5 * (j*np.pi*xx[redshift_idx,i])**2.) * j * (xx[redshift_idx,i]**2)\n",
    "                sd = sdd*np.sin(j*np.pi*D)\n",
    "                S[redshift_idx,i] += sd\n",
    "                j += 1\n",
    "    S = 2 * np.pi * S\n",
    "    #older version ends here\n",
    "    return S\n",
    "\n",
    "def dlns(r,w,results):\n",
    "    # The d ln sigma^-1 / d ln r_L term in the void size spectrum\n",
    "    # rL gets passed in\n",
    "    # returns change in log(sigma_rL) divided by change in log(rL)\n",
    "    \n",
    "    # range of rL of width d ln rL = w\n",
    "    rl = np.exp(np.log(r)-w/2.)\n",
    "    rh = np.exp(np.log(r)+w/2.)\n",
    "    \n",
    "    # corresponding range of sigma\n",
    "    s2l = np.vstack([results.get_sigmaR(r_i, z_indices=i) for  i,r_i in enumerate(rl)])\n",
    "    s2h = np.vstack([results.get_sigmaR(r_i, z_indices=i) for  i,r_i in enumerate(rh)])\n",
    "    \n",
    "    # change in ln sigma^-1 over change in ln rL (recall d ln rL = w)\n",
    "    # the -1 is factored out of the log \n",
    "    return (np.log(s2h)-np.log(s2l))/(-1.*w)\n",
    "\n",
    "def rL(r,dnlv):\n",
    "    return r*((1+dnlv)**(1./3))\n",
    "\n",
    "def dlnr(r, w, dnlv):\n",
    "    # The d ln rL / d ln r term in the void size spectrum\n",
    "    # r gets passed in\n",
    "    # returns change in log(rL) divided by change in log(r)\n",
    "    \n",
    "    # range of r of width d ln r = w\n",
    "    rl = np.exp(np.log(r)-w/2.)\n",
    "    rh = np.exp(np.log(r)+w/2.)\n",
    "    \n",
    "    #corresponding range of rL\n",
    "    r2l = rL(rl,dnlv)\n",
    "    r2h = rL(rh,dnlv)\n",
    "    \n",
    "    # change in ln rL over change in ln r (w could've been used here as in dlns)\n",
    "    return (np.log(r2h)-np.log(r2l))/(np.log(rh)-np.log(rl))\n",
    "\n",
    "#Volume of sphere with radius r\n",
    "def V(r):\n",
    "    return 4*np.pi*(r**3)/3.\n",
    "\n",
    "#\n",
    "\n",
    "def dndln(r,w,dnlv,results):\n",
    "    # r (float array): shell radii array\n",
    "    # w (float): width of interval for slope caclulation\n",
    "    # dnlv (float): linear thereshold of void formation\n",
    "    # Plin (nbodykit power.linear object): the power spectrum\n",
    "    \n",
    "    dlv = 1.594*(1-((1+dnlv)**(-1./1.594)))\n",
    "    r_rL = rL(r,dnlv)  \n",
    "    sig_rL = np.vstack([results.get_sigmaR(r_i, z_indices=i) for  i,r_i in enumerate(r_rL)])\n",
    "    #sig_rL = Plin.sigma_r(r_rL)\n",
    "    #With our curent mapping r -> rL, the last term just evaluates to one and is commented out\n",
    "    return f(dlv, sig_rL) * dlns(r_rL, w, results) / V(r) # * dlnr(r, w, dnlv)"
   ]
  },
  {
   "cell_type": "code",
   "execution_count": 205,
   "id": "12eee0d8-7aac-489d-8f33-1e5db132aa94",
   "metadata": {
    "tags": []
   },
   "outputs": [],
   "source": [
    "#examples of VSS\n",
    "#theory_size_spectrum(-.7,.315,-1,0,1e-6,[.251,.25],1.5) \n",
    "#theory_size_spectrum(-.7,.315,-1,0,1e-6,[.25],1.5) "
   ]
  },
  {
   "cell_type": "code",
   "execution_count": 16,
   "id": "4a4a5e27-914b-40d7-80be-b768f74d2996",
   "metadata": {
    "tags": []
   },
   "outputs": [],
   "source": [
    "# grid settings\n",
    "Beff = 1.536\n",
    "\n",
    "# nbins and ranges for all parameters; 0 bins for constant\n",
    "nb_Omm = 15\n",
    "rn_Omm = [0.1,1.]\n",
    "nb_s8  = 0\n",
    "rn_s8  = [.811,.811]\n",
    "nb_w0  = 20\n",
    "rn_w0  = [-2.,0.]\n",
    "nb_wa  = 0\n",
    "rn_wa  = [0.,0.]\n",
    "\n",
    "nb_beff = 20\n",
    "rn_beff = [1.,3.]"
   ]
  },
  {
   "cell_type": "code",
   "execution_count": null,
   "id": "bc82662c-af1d-470a-8651-08465a9ca684",
   "metadata": {
    "tags": []
   },
   "outputs": [],
   "source": [
    "\"\"\"\n",
    "#Version of gri creation for Beff not yet calculated (WARNING: this is outdated and needs to be updated before uncommenting. match with the assumed Beff version in the next cell down)\n",
    "\n",
    "# create and save grid of theoretical spectra for interpolation\n",
    "# this has to be done for every redshift bin\n",
    "# this will take a while...\n",
    "\n",
    "# nbins and ranges for all parameters; 0 bins for constant\n",
    "nb_Omm = 15\n",
    "rn_Omm = [0.1,1.]\n",
    "nb_w0  = 20\n",
    "rn_w0  = [-2.,0.]\n",
    "nb_wa  = 0\n",
    "rn_wa  = [0.,0.]\n",
    "\n",
    "nb_beff = 20\n",
    "rn_beff = [1.,3.]\n",
    "\n",
    "bgrid = np.zeros((nb_beff+1,nb_Omm+1,nb_s8+1,nb_w0+1,nb_wa+1,len(z_list),60))\n",
    "\n",
    "error_count = 0\n",
    "\n",
    "#TODO: create another file to save sig8 values\n",
    "\n",
    "for hr in range(nb_beff+1):\n",
    "    print(\"*\",flush=True)\n",
    "    bgrid_filename = f\"{run_ID}/bgrid_z{z_grid}_{hr}.npy\"\n",
    "    \n",
    "    # If file has previsly been created, load it in\n",
    "    if os.path.isfile(bgrid_filename):\n",
    "        bgr = np.load(bgrid_filename)\n",
    "        bgrid[hr] = bgr.copy()\n",
    "    \n",
    "    # Otherwise create data and save to file\n",
    "    else:\n",
    "        Beff = rn_beff[0]+((rn_beff[1]-rn_beff[0])*hr/nb_beff)\n",
    "        for ir in range(nb_Omm+1):\n",
    "            print(\"|\",end='',flush=True)\n",
    "            Omega_m = rn_Omm[0] + ((rn_Omm[1]-rn_Omm[0])*ir/np.amax([1,nb_Omm]))\n",
    "            for jr in range(nb_s8+1):\n",
    "                s_8 = rn_s8[0] + ((rn_s8[1]-rn_s8[0])*jr/np.amax([1,nb_s8]))\n",
    "                for kr in range(nb_w0+1):\n",
    "                    w_0 = rn_w0[0] + ((rn_w0[1]-rn_w0[0])*kr/np.amax([1,nb_w0]))\n",
    "                    for lr in range(nb_wa+1):\n",
    "                        w_a = rn_wa[0] + ((rn_wa[1]-rn_wa[0])*lr/np.amax([1,nb_wa]))\n",
    "                        #print(Omega_m,s_8,w_0,w_a,Beff)\n",
    "                        try:\n",
    "                            sig8,  spectrum = getPlots(-0.7,Omega_m,s_8,w_0,w_a,0.000001,z_list,Beff)\n",
    "                            bgrid[hr][ir][jr][kr][lr] = spectrum\n",
    "                        except CAMBError:\n",
    "                            bgrid[hr][ir][jr][kr][lr] = np.array([np.inf for i in range(10,70)])\n",
    "                            error_count+=1\n",
    "        np.save(bgrid_filename, bgrid[hr])\n",
    "        \n",
    "np.save(f\"{run_ID}/bgrid_z{z_grid}.npy\",bgrid)\n",
    "\"\"\"\n",
    "print(\"\")"
   ]
  },
  {
   "cell_type": "code",
   "execution_count": 34,
   "id": "edfaa064-90d7-4a27-ba7f-8aef4a9ad05d",
   "metadata": {
    "tags": []
   },
   "outputs": [
    {
     "name": "stdout",
     "output_type": "stream",
     "text": [
      "*\n",
      "||||||||||||||||"
     ]
    }
   ],
   "source": [
    "#Version of grid creation for Beff already calculated\n",
    "Beff = 1.536\n",
    "\n",
    "# create and save grid of theoretical spectra for interpolation\n",
    "# this has to be done for every redshift bin\n",
    "# this will take a while...\n",
    "\n",
    "\n",
    "\n",
    "bgrid = np.zeros((nb_Omm+1,nb_w0+1,nb_wa+1,len(z_list),60))\n",
    "sgrid = np.zeros((nb_Omm+1,nb_w0+1,nb_wa+1))\n",
    "error_count = 0\n",
    "\n",
    "\n",
    "print(\"*\",flush=True)\n",
    "bgrid_filename = f\"{run_ID}/bgrid_final.npy\"\n",
    "sgrid_filename = f\"{run_ID}/sgrid_final.npy\"\n",
    "\n",
    "# If file has previsly been created, load it in\n",
    "if os.path.isfile(bgrid_filename) and os.path.isfile(sgrid_filename):\n",
    "    bgr = np.load(bgrid_filename)\n",
    "    bgrid = bgr.copy()\n",
    "\n",
    "# Otherwise create data and save to file\n",
    "else:\n",
    "    for ir in range(nb_Omm+1):\n",
    "        print(\"|\",end='',flush=True)\n",
    "        Omega_m = rn_Omm[0] + ((rn_Omm[1]-rn_Omm[0])*ir/np.amax([1,nb_Omm]))        \n",
    "        for kr in range(nb_w0+1):\n",
    "            w_0 = rn_w0[0] + ((rn_w0[1]-rn_w0[0])*kr/np.amax([1,nb_w0]))\n",
    "            for lr in range(nb_wa+1):\n",
    "                w_a = rn_wa[0] + ((rn_wa[1]-rn_wa[0])*lr/np.amax([1,nb_wa]))\n",
    "                #print(Omega_m,s_8,w_0,w_a,Beff)\n",
    "                try:\n",
    "                    sig8, spectrum = theory_size_spectrum(-0.7,Omega_m,w_0,w_a,0.000001,z_list,Beff)\n",
    "                    bgrid[ir][kr][lr][:] = spectrum\n",
    "                    sgrid[ir][kr][lr] = sig8\n",
    "                except CAMBError:\n",
    "                    bgrid[ir][kr][lr][:] = np.array([[np.inf for i in range(10,70)]for j in range(len(z_list))])\n",
    "                    sgrid[ir][kr][lr] = np.inf\n",
    "                    error_count+=1  \n",
    "np.save(f\"{run_ID}/bgrid_final.npy\",bgrid)\n",
    "np.save(f\"{run_ID}/sgrid_final.npy\",sgrid)"
   ]
  },
  {
   "cell_type": "code",
   "execution_count": 168,
   "id": "465952d8-95f7-4e25-90a9-c71d238f1b7e",
   "metadata": {
    "tags": []
   },
   "outputs": [
    {
     "name": "stdout",
     "output_type": "stream",
     "text": [
      "|||||||||||||||||||||||||||||||||||||||||||||||||||||||||||||||||||||||||||||||||||||||||||||||||||||"
     ]
    }
   ],
   "source": [
    "\"\"\"\n",
    "#TODO: bring this code p to date once this notebook works with varied Beff again\n",
    "\n",
    "# create and save grid of theoretical spectra using the fiducial cosmology for interpolation\n",
    "#This is only used for the Beff MCMC\n",
    "\n",
    "Bgrid_filename = f\"{run_ID}/Bgrid.npy\"\n",
    "\n",
    "# If file already exists, load it in\n",
    "if os.path.isfile(Bgrid_filename):\n",
    "    Bgrid = np.load(Bgrid_filename)\n",
    "\n",
    "# Otherwise generate and save data to file\n",
    "else:\n",
    "    Bgrid = np.zeros((101,60))\n",
    "    for ir in range(101):\n",
    "        print(\"|\",end='',flush=True)\n",
    "        Beff = 1.+(ir/50.)\n",
    "        A,B = getPlots(-0.7,0.315,0.81,-1.0,0.0,0.000001,z_grid,Beff)\n",
    "        Bgrid[ir] = (10.**9)*B\n",
    "    np.save(Bgrid_filename, Bgrid)\"\"\"\n",
    "print(\"\")"
   ]
  },
  {
   "cell_type": "code",
   "execution_count": 37,
   "id": "c4967da5-bf6a-47f3-a2f5-a2086b1523f9",
   "metadata": {
    "tags": []
   },
   "outputs": [
    {
     "name": "stdout",
     "output_type": "stream",
     "text": [
      "||||||||||||||||"
     ]
    }
   ],
   "source": [
    "# create and save grid of relative comoving volumes for interpolation\n",
    "\n",
    "cgrid_filename = f\"{run_ID}/cgrid.npy\"\n",
    "\n",
    "# If file already exists, load it in\n",
    "if os.path.isfile(cgrid_filename):\n",
    "    cgrid = np.load(cgrid_filename)\n",
    "\n",
    "# Otherwise generate and save data to file\n",
    "else:\n",
    "    cgrid = np.zeros((nb_Omm+1,nb_w0+1,nb_wa+1, len(z_list)))\n",
    "    Kos2 = w0waCDM(H0=67.81,Om0=0.315,Ode0=0.685,w0=-1.,wa=0.)\n",
    "    for ir in range(nb_Omm+1):\n",
    "        print(\"|\",end='',flush=True)\n",
    "        Omega_m = rn_Omm[0] + ((rn_Omm[1]-rn_Omm[0])*ir/np.amax([1,nb_Omm]))\n",
    "        for kr in range(nb_w0+1):\n",
    "            w_0 = rn_w0[0] + ((rn_w0[1]-rn_w0[0])*kr/np.amax([1,nb_w0]))\n",
    "            for lr in range(nb_wa+1):\n",
    "                w_a = rn_wa[0] + ((rn_wa[1]-rn_wa[0])*lr/np.amax([1,nb_wa]))\n",
    "                Kos3 = w0waCDM(H0=67.81,Om0=Omega_m,Ode0=1.-Omega_m,w0=w_0,wa=w_a)\n",
    "                for mr in range(len(z_list)):\n",
    "                    mr2  = Kos2.comoving_distance(z_list[mr]).value\n",
    "                    mr3 = Kos3.comoving_distance(z_list[mr]).value\n",
    "                    cgrid[ir][kr][lr][mr] = (mr3/mr2)**3\n",
    "    np.save(cgrid_filename, cgrid)\n"
   ]
  },
  {
   "cell_type": "code",
   "execution_count": 20,
   "id": "58940918-2ff4-4f46-8167-0d33b20581d4",
   "metadata": {
    "tags": []
   },
   "outputs": [],
   "source": [
    "\"\"\"# load in data void spectrum (currently 600-bin histogram from 10 to 70 Mpc/h) and survey volume (cubic Gpc/h)\n",
    "# this is for the Abacus cutsky BGS vollim sim\n",
    "vfv = 0.4675477120627293\n",
    "vfr = np.array([114, 156, 145, 138, 196, 168, 292, 224, 259, 274, 304, 170, 283,\n",
    "       181, 285, 182, 239, 239, 223, 337, 193, 297, 148, 157, 280, 184,\n",
    "       198, 254, 138, 221, 280, 143, 216, 229, 158, 178, 152, 189, 137,\n",
    "       135, 205, 152, 132, 158, 129, 127, 148, 116, 122, 113, 127, 133,\n",
    "        98,  93,  81, 105, 116, 111,  82,  97,  87, 101,  77,  98,  83,\n",
    "        84,  87,  62,  35,  77,  75,  87,  55,  83,  53,  59,  48,  62,\n",
    "        41,  57,  45,  46,  52,  45,  36,  41,  40,  42,  35,  46,  25,\n",
    "        45,  32,  33,  29,  30,  32,  32,  29,  28,  30,  19,  29,  21,\n",
    "        17,  27,  22,  19,  19,  16,  18,  12,  13,  23,  25,  19,  19,\n",
    "        16,  13,  21,  10,  12,  17,  13,   9,  12,  12,   8,   9,  11,\n",
    "         8,  12,  10,   7,  13,  10,  12,  13,  11,  11,   6,   4,   6,\n",
    "         4,   3,   6,   4,   4,   3,   4,   5,   1,   4,   5,   4,   5,\n",
    "         4,   4,   1,   3,   4,   3,   3,   3,   3,   2,   1,   1,   3,\n",
    "         1,   1,   4,   0,   2,   1,   1,   2,   2,   3,   1,   2,   2,\n",
    "         2,   5,   0,   2,   2,   1,   2,   1,   3,   0,   0,   3,   1,\n",
    "         1,   1,   1,   0,   1,   0,   1,   0,   0,   0,   0,   0,   3,\n",
    "         0,   0,   0,   1,   1,   1,   5,   0,   0,   0,   1,   1,   0,\n",
    "         0,   0,   0,   0,   0,   0,   0,   0,   0,   2,   0,   3,   0,\n",
    "         0,   0,   0,   1,   0,   0,   0,   0,   0,   0,   0,   1,   0,\n",
    "         0,   0,   0,   0,   0,   0,   0,   0,   0,   0,   0,   1,   0,\n",
    "         0,   0,   0,   0,   0,   0,   0,   0,   0,   1,   0,   0,   0,\n",
    "         0,   0,   0,   0,   0,   0,   0,   0,   0,   0,   0,   0,   1,\n",
    "         0,   0,   0,   0,   0,   1,   0,   0,   0,   0,   0,   0,   0,\n",
    "         0,   0,   0,   0,   0,   1,   0,   0,   0,   0,   0,   0,   0,\n",
    "         0,   0,   0,   0,   0,   0,   0,   0,   0,   0,   0,   0,   0,\n",
    "         0,   0,   0,   0,   0,   0,   0,   0,   0,   0,   1,   0,   1,\n",
    "         0,   0,   0,   0,   0,   0,   0,   0,   0,   0,   0,   0,   0,\n",
    "         0,   0,   0,   0,   0,   0,   0,   0,   0,   0,   0,   0,   0,\n",
    "         0,   0,   0,   0,   0,   0,   0,   0,   0,   0,   0,   0,   0,\n",
    "         0,   0,   0,   0,   0,   0,   0,   0,   0,   0,   0,   0,   0,\n",
    "         0,   0,   0,   0,   0,   0,   1,   0,   0,   0,   0,   0,   0,\n",
    "         0,   0,   0,   0,   0,   0,   0,   0,   0,   0,   0,   0,   0,\n",
    "         0,   0,   0,   0,   0,   0,   1,   0,   0,   0,   0,   0,   0,\n",
    "         0,   0,   0,   0,   0,   0,   0,   0,   0,   0,   0,   0,   0,\n",
    "         0,   0,   0,   0,   0,   0,   0,   0,   0,   0,   1,   0,   0,\n",
    "         0,   0,   0,   0,   0,   0,   0,   0,   0,   0,   0,   0,   0,\n",
    "         0,   0,   0,   0,   0,   0,   0,   0,   0,   0,   0,   0,   0,\n",
    "         0,   0,   0,   0,   0,   0,   0,   0,   0,   0,   0,   0,   0,\n",
    "         0,   0,   0,   0,   0,   0,   0,   0,   0,   0,   0,   0,   0,\n",
    "         0,   0,   0,   0,   0,   0,   0,   0,   0,   0,   0,   0,   0,\n",
    "         0,   0,   0,   0,   0,   0,   0,   0,   0,   0,   0,   0,   0,\n",
    "         0,   0,   0,   0,   0,   0,   0,   0,   0,   0,   0,   0,   0,\n",
    "         0,   0,   0,   0,   0,   0,   0,   0,   0,   0,   0,   0,   0,\n",
    "         0,   0,   0,   0,   0,   0,   0,   0,   0,   0,   0,   0,   0,\n",
    "         0,   0,   0,   0,   0,   0,   0,   0,   1,   0,   0,   0,   0,\n",
    "         0,   0,   0,   0,   0,   0,   0,   0,   0,   0,   0,   0,   0,\n",
    "         0,   0])\n",
    "\"\"\"\n",
    "print(\"\")"
   ]
  },
  {
   "cell_type": "code",
   "execution_count": 38,
   "id": "caeebe4a-eb8d-42ea-bc84-80ce64c867cf",
   "metadata": {
    "tags": []
   },
   "outputs": [
    {
     "name": "stdout",
     "output_type": "stream",
     "text": [
      "\n"
     ]
    }
   ],
   "source": [
    "# Original data provided with notebook\n",
    "# load in data void spectrum (currently 600-bin histogram from 10 to 70 Mpc/h) and survey volume (cubic Gpc/h)\n",
    "\n",
    "vfv = 1.012268988\n",
    "vfr = np.array([ 83,  92,  99, 143,  87, 180, 245, 160, 195, 204, 157, 268, 173,\n",
    "       256, 319, 139, 257, 169, 212, 144, 219, 258, 128, 224, 116, 287,\n",
    "       128, 242, 139, 229, 154, 199, 166, 221, 173, 123, 193, 127, 165,\n",
    "       117, 136, 192, 123, 140, 161, 114, 104, 129, 122, 124, 145, 137,\n",
    "       109, 109, 105, 151, 100,  81,  76, 120,  89,  60,  88,  84, 148,\n",
    "        83,  67,  86,  70,  81,  68, 115,  77,  63,  72,  48,  64,  58,\n",
    "        60,  62,  47,  63,  59,  60,  47,  64,  43,  54,  45,  59,  37,\n",
    "        38,  52,  50,  34,  52,  43,  40,  38,  37,  40,  30,  41,  29,\n",
    "        30,  16,  38,  36,  24,  34,  28,  17,  31,  24,  37,  18,  29,\n",
    "        25,  17,  25,  29,  23,  29,  21,  26,  15,  19,  26,  17,  24,\n",
    "        16,  23,  22,   8,  12,  12,  11,  11,  16,  10,  21,  18,  14,\n",
    "        15,  16,  11,  12,  12,  18,  15,  15,   9,   6,   8,   8,   6,\n",
    "         7,   7,   9,  11,   6,   7,   4,   7,   4,   5,   7,   4,   1,\n",
    "         4,   7,   4,   6,   7,   7,   6,   2,   3,   4,   7,   4,   4,\n",
    "         3,   4,   5,   3,   0,   2,   2,   6,   2,   4,   0,   2,   2,\n",
    "         3,   2,   2,   2,   3,   1,   4,   2,   2,   1,   3,   4,   0,\n",
    "         1,   1,   1,   0,   0,   3,   0,   3,   1,   1,   1,   0,   1,\n",
    "         0,   0,   2,   1,   0,   1,   0,   0,   2,   0,   0,   2,   0,\n",
    "         2,   0,   1,   1,   1,   0,   0,   1,   0,   0,   0,   0,   1,\n",
    "         0,   0,   0,   0,   1,   1,   0,   0,   1,   0,   0,   1,   0,\n",
    "         0,   1,   0,   0,   0,   0,   0,   0,   0,   0,   0,   0,   1,\n",
    "         0,   0,   0,   0,   0,   0,   0,   0,   0,   0,   0,   0,   0,\n",
    "         0,   0,   0,   0,   0,   1,   1,   0,   0,   0,   1,   1,   0,\n",
    "         1,   0,   0,   0,   0,   0,   0,   0,   0,   0,   0,   0,   0,\n",
    "         0,   0,   0,   0,   0,   0,   0,   1,   0,   0,   0,   0,   0,\n",
    "         0,   0,   0,   0,   0,   0,   0,   0,   0,   0,   0,   0,   0,\n",
    "         0,   0,   0,   0,   0,   0,   0,   0,   0,   0,   0,   1,   0,\n",
    "         0,   0,   0,   0,   0,   0,   0,   0,   0,   0,   0,   0,   0,\n",
    "         0,   0,   0,   0,   0,   0,   0,   0,   0,   0,   0,   0,   0,\n",
    "         0,   0,   0,   0,   0,   0,   0,   0,   0,   0,   0,   0,   0,\n",
    "         0,   0,   0,   0,   0,   0,   0,   0,   0,   0,   0,   0,   0,\n",
    "         0,   0,   0,   0,   0,   0,   0,   0,   0,   0,   0,   0,   0,\n",
    "         0,   0,   0,   0,   0,   0,   0,   0,   0,   0,   0,   0,   0,\n",
    "         0,   0,   0,   0,   0,   0,   0,   0,   0,   0,   0,   0,   0,\n",
    "         0,   0,   0,   0,   0,   0,   0,   0,   0,   0,   0,   0,   0,\n",
    "         0,   0,   0,   0,   0,   0,   0,   0,   0,   0,   0,   0,   0,\n",
    "         0,   0,   0,   0,   0,   0,   0,   0,   0,   0,   0,   0,   0,\n",
    "         0,   0,   0,   0,   0,   0,   0,   0,   0,   0,   0,   0,   0,\n",
    "         0,   0,   0,   0,   0,   0,   0,   0,   0,   0,   0,   0,   0,\n",
    "         0,   0,   0,   0,   0,   0,   0,   0,   0,   0,   0,   0,   0,\n",
    "         0,   0,   0,   0,   0,   0,   0,   0,   0,   0,   0,   0,   0,\n",
    "         0,   0,   0,   0,   0,   0,   0,   0,   0,   0,   0,   0,   0,\n",
    "         0,   0,   0,   0,   0,   0,   0,   0,   0,   0,   0,   0,   0,\n",
    "         0,   0,   0,   0,   0,   0,   0,   0,   0,   0,   0,   0,   0,\n",
    "         0,   0,   0,   0,   0,   0,   0,   0,   0,   0,   0,   0,   0,\n",
    "         0,   0,   0,   0,   0,   0,   0,   0,   0,   0,   0,   0,   0,\n",
    "         0,   0])\n",
    "\n",
    "print(\"\")"
   ]
  },
  {
   "cell_type": "code",
   "execution_count": 17,
   "id": "54538ba9-1218-48dc-97b3-d77aa7eb21d7",
   "metadata": {
    "tags": []
   },
   "outputs": [],
   "source": [
    "\"\"\"\n",
    "#TODO: bring this code up to date once notebook is made to workwith variable Beff again\n",
    "# set up MCMC for constraining F(B)\n",
    "\n",
    "vrmin = 15. # minimum void radius considered\n",
    "vrmax = 35. # maximum void radius considered\n",
    "bsize = 5.  # void radius bin size for MCMC run - larger is faster\n",
    "\n",
    "bnmin = int((vrmin-10.)/bsize)\n",
    "bnmax = int((vrmax-10.)/bsize)\n",
    "\n",
    "\n",
    "def logposterior(theta, data, sigma):\n",
    "    lp = logprior(theta) # get the prior\n",
    "    \n",
    "    if not np.isfinite(lp):\n",
    "        return -np.inf\n",
    "    \n",
    "    return lp + loglikelihood(theta, data, sigma)\n",
    "\n",
    "\n",
    "def loglikelihood(theta, data, sigma):\n",
    "    Beff, dummy = theta\n",
    "    Data = data[bnmin:bnmax]\n",
    "    \n",
    "    mdd = np.array([interpn((1.+2.*np.arange(101)/100.,0.+10.*np.arange(21)/20.),np.array([[Bgrid[ir][i] for jr in range(21)] for ir in range(101)]),theta) for i in range(60)])\n",
    "    md = np.array([(mdd[int(bsize)*i]-mdd[int(bsize)*(i+1)])[0] for i in range(bnmin,bnmax)])\n",
    "    rtrn = np.sum((Data*np.log(md*vfv))-(md*vfv)-np.array([math.lgamma(D+1) for D in Data]))\n",
    "    if np.isnan(rtrn):\n",
    "        return -np.inf\n",
    "    else:\n",
    "        return rtrn - 10000./(dummy+1)\n",
    "    \n",
    "\n",
    "def logprior(theta):\n",
    "    lp = 0.\n",
    "    \n",
    "    Beff, dummy = theta\n",
    "    \n",
    "    Bmin = 1.\n",
    "    Bmax = 3.\n",
    "    dmin = 0.\n",
    "    dmax = 10.\n",
    "    \n",
    "    lp = 0. if Bmin < Beff < Bmax else -np.inf\n",
    "    lp += 0. if dmin < dummy < dmax else -np.inf\n",
    "    \n",
    "    return lp-(10000./(dummy+1.))\n",
    "\n",
    "\n",
    "Nens = 50   # number of ensemble points\n",
    "\n",
    "Bmin = 1.1  # lower range of prior\n",
    "Bmax = 2.9   # upper range of prior\n",
    "dmin = 0.1\n",
    "dmax = 9.9\n",
    "\n",
    "cini = np.random.uniform(Bmin, Bmax, Nens)\n",
    "mini = np.random.uniform(dmin, dmax, Nens)\n",
    "\n",
    "inisamples = np.array([cini, mini]).T # initial samples\n",
    "\n",
    "ndims = inisamples.shape[1] # number of parameters/dimensions\n",
    "\n",
    "Nburnin = 500   # number of burn-in samples\n",
    "Nsamples = 500  # number of final posterior samples\n",
    "Nburnin = 50\n",
    "Nsamples = 100\n",
    "\n",
    "data = np.array([np.sum(vfr[10*int(bsize)*i:10*int(bsize)*(i+1)]) for i in range(0,int(60/bsize)-1)])\n",
    "sigma = np.sqrt(data)\n",
    "\n",
    "argslist = (data, sigma)\"\"\"\n",
    "print(\"\")"
   ]
  },
  {
   "cell_type": "code",
   "execution_count": 17,
   "id": "fc6ae386-d922-45c5-8de6-107847464b00",
   "metadata": {
    "tags": []
   },
   "outputs": [],
   "source": [
    "\"\"\"# run first MCMC\n",
    "\n",
    "sampler = emcee.EnsembleSampler(Nens, ndims, logposterior, args=argslist)\n",
    "sampler.run_mcmc(inisamples, Nsamples+Nburnin);\n",
    "postsamples = sampler.chain[:, Nburnin:, :].reshape((-1, ndims))\"\"\"\n",
    "print(\"\")"
   ]
  },
  {
   "cell_type": "code",
   "execution_count": 18,
   "id": "87abe2b4-2cff-4e08-804e-1654768eaf9d",
   "metadata": {
    "tags": []
   },
   "outputs": [],
   "source": [
    "\"\"\"# MCMC results for F(B)\n",
    "\n",
    "Beff = np.histogram(postsamples.T[0],bins=1000,range=(1,3))[1][np.argmax(np.histogram(postsamples.T[0],bins=1000,range=(1,3))[0])]\"\"\"\n",
    "print(\"\")"
   ]
  },
  {
   "cell_type": "code",
   "execution_count": 173,
   "id": "43f143ad-75a3-4640-ade0-b4989837fdca",
   "metadata": {
    "tags": []
   },
   "outputs": [],
   "source": [
    "# set up MCMC for cosmological parameters\n",
    "# use same values as first MCMC\n",
    "\n",
    "vrmin = 15.\n",
    "vrmax = 35.\n",
    "bsize = 5.\n",
    "\n",
    "bnmin = int((vrmin-10.)/bsize)\n",
    "bnmax = int((vrmax-10.)/bsize)\n",
    "#bgi   = int((Beff-1.)*10)\n",
    "#bga   = np.load(f\"{run_ID}/bgrid_z{z_grid}_{bgi}.npy\")\n",
    "#bgb   = np.load(f\"{run_ID}/bgrid_z{z_grid}_{bgi+1}.npy\")\n",
    "#bgrid = bga+((Beff-((bgi/10.)+1.))/0.1)*(bgb-bga)\n",
    "bgrid = np.squeeze(np.load(f\"./{run_ID}/bgrid_final.npy\"))\n",
    "cgrid = np.squeeze(np.load(f\"./{run_ID}/cgrid.npy\"))\n",
    "sgrid = np.squeeze(np.load(f\"./{run_ID}/sgrid_final.npy\"))\n",
    "\n",
    "Omm_grid = rn_Omm[0] + (rn_Omm[1]-rn_Omm[0])*np.arange(nb_Omm+1)/np.amax([1,nb_Omm])\n",
    "w0_grid = rn_w0[0] + (rn_w0[1]-rn_w0[0])*np.arange(nb_w0+1)/np.amax([1,nb_w0])\n",
    "wa_grid = rn_wa[0] + (rn_wa[1]-rn_wa[0])*np.arange(nb_wa+1)/np.amax([1,nb_wa])\n",
    "\n",
    "s8_train = []\n",
    "\n",
    "select = np.array([\n",
    "        len(Omm_grid),\n",
    "        len(w0_grid),\n",
    "        len(wa_grid )]\n",
    "        )>1\n",
    "\n",
    "indexes = np.array([np.arange(nb_Omm+1), np.arange(nb_w0+1), np.arange(nb_wa+1)],dtype=object)[select]\n",
    "grids = np.array([Omm_grid, w0_grid, wa_grid],dtype=object)[select]\n",
    "\n",
    "if len(z_list)>1:\n",
    "    vss_from_grid = lambda z,r: np.squeeze(bgrid[tuple(\n",
    "            np.meshgrid(*indexes, [z], [r], indexing='ij')\n",
    "    )], axis=-1)\n",
    "    c_term = lambda z: cgrid[tuple(\n",
    "        np.meshgrid(*indexes, [z], indexing='ij')\n",
    "    )]\n",
    "else:\n",
    "    vss_from_grid = lambda z,r: np.squeeze(bgrid[tuple(\n",
    "            np.meshgrid(*indexes, [r], indexing='ij')\n",
    "    )], axis=-1)    \n",
    "    c_term = lambda z: cgrid[tuple(\n",
    "        np.meshgrid(*indexes, indexing='ij')\n",
    "    )]\n",
    "\n",
    "s8_term = sgrid[tuple(\n",
    "        np.meshgrid(*indexes, indexing='ij')\n",
    ")]\n",
    "\n",
    "def logposterior(theta, data, sigma):\n",
    "    \n",
    "    lp, s_8 = logprior(theta) # get the prior\n",
    "        \n",
    "    if not np.isfinite(lp):\n",
    "        return -np.inf, np.inf\n",
    "    \n",
    "    return lp + loglikelihood(theta, data, sigma), s_8\n",
    "\n",
    "\n",
    "def loglikelihood(theta, data, sigma):\n",
    "    \n",
    "    # input: grid points xyz, data f(xyz), values to interpolate at x0y0z0\n",
    "    # returns f(x0,y0z0)\n",
    "    \n",
    "    mdd = np.array([[interpn(grids, vss_from_grid(j,i), theta) for i in range(60)] for j in range (len(z_list))])\n",
    "    md = np.array([[(mddd[int(bsize)*i]-mddd[int(bsize)*(i+1)])[0] for i in range(bnmin,bnmax)] for mddd in mdd])\n",
    "    vvm = np.array([interpn(grids, c_term(j), theta) for j in range (len(z_list))])\n",
    "    # log poisson likelihood\n",
    "    # sum ( data * log (theta) - theta - factorial(data) )\n",
    "    rtrn = np.sum((data*np.log(md*vfv*vvm))-(md*vfv*vvm)-np.array([math.lgamma(D+1) for D in data]))\n",
    "    #print(mdd)\n",
    "    if np.isnan(rtrn):\n",
    "        return -np.inf\n",
    "    else:\n",
    "        return rtrn\n",
    "    \n",
    "\n",
    "def logprior(theta):\n",
    "    \n",
    "    lp=0.\n",
    "    \n",
    "    for param, prior in zip(theta,priors):\n",
    "        #uniform prior\n",
    "        lp += 0. if prior[0] <= param <= prior[1] else -np.inf\n",
    "    s_8 = np.inf\n",
    "    if np.isfinite(lp):  \n",
    "        s_8 = interpn(grids, s8_term, theta) [0]\n",
    "        #uniform prior\n",
    "        lp += 0. if smin <= s_8 <= smax else -np.inf\n",
    "\n",
    "    return lp, s_8\n",
    "\n",
    "\n",
    "Nens = 100   # number of ensemble points\n",
    "\n",
    "Omin = rn_Omm[0]+0.02*(rn_Omm[1]-rn_Omm[0]) # lower range of prior\n",
    "Omax = rn_Omm[1]-0.02*(rn_Omm[1]-rn_Omm[0])  # upper range of prior\n",
    "smin = 0#rn_s8[0]+0.02*(rn_s8[1]-rn_s8[0])\n",
    "smax = 2#rn_s8[1]-0.02*(rn_s8[1]-rn_s8[0])\n",
    "vmin = rn_w0[0]+0.02*(rn_w0[1]-rn_w0[0])\n",
    "vmax = rn_w0[1]-0.02*(rn_w0[1]-rn_w0[0])\n",
    "wmin = rn_wa[0]+0.02*(rn_wa[1]-rn_wa[0])\n",
    "wmax = rn_wa[1]-0.02*(rn_wa[1]-rn_wa[0])\n",
    "\n",
    "priors = np.array([[Omin,Omax],[vmin,vmax],[wmin,wmax]])[select]\n",
    "\n",
    "Oini = np.random.uniform(Omin, Omax, Nens)\n",
    "#sini = np.random.uniform(smin, smax, Nens)\n",
    "vini = np.random.uniform(vmin, vmax, Nens)\n",
    "wini = np.random.uniform(wmin, wmax, Nens)\n",
    "\n",
    "inisamples = np.array([Oini, vini, wini])[select].T # initial samples\n",
    "\n",
    "ndims = inisamples.shape[1] # number of parameters/dimensions\n",
    "\n",
    "Nburnin = 500   # number of burn-in samples\n",
    "Nsamples = 500#1000  # number of final posterior samples\n",
    "Nburnin = 100#200\n",
    "\n",
    "data = np.array([np.sum(vfr[10*int(bsize)*i:10*int(bsize)*(i+1)]) for i in range(bnmin,bnmax)])\n",
    "sigma = np.sqrt(data)\n",
    "\n",
    "argslist = (data, sigma)"
   ]
  },
  {
   "cell_type": "code",
   "execution_count": 160,
   "id": "b264a72e-60c5-4472-af71-e3d10e7f616f",
   "metadata": {
    "tags": []
   },
   "outputs": [
    {
     "data": {
      "text/plain": [
       "(-40.07248470252351, 0.7973043625472915)"
      ]
     },
     "execution_count": 160,
     "metadata": {},
     "output_type": "execute_result"
    }
   ],
   "source": [
    "#example of posterior and derived sigma8\n",
    "logposterior((0.315,-1), data, sigma)"
   ]
  },
  {
   "cell_type": "code",
   "execution_count": 174,
   "id": "b297fc21-c11d-4332-897f-439b0520bfca",
   "metadata": {
    "tags": []
   },
   "outputs": [
    {
     "name": "stderr",
     "output_type": "stream",
     "text": [
      "/tmp/ipykernel_2351106/1595890240.py:88: RuntimeWarning: invalid value encountered in log\n",
      "  rtrn = np.sum((data*np.log(md*vfv*vvm))-(md*vfv*vvm)-np.array([math.lgamma(D+1) for D in data]))\n"
     ]
    }
   ],
   "source": [
    "# run second MCMC\n",
    "                                #num ensemble points, num free params, posterior, (data, std)\n",
    "sampler = emcee.EnsembleSampler(Nens, ndims, logposterior, args=argslist, blobs_dtype=[(\"s_8\", float)])\n",
    "sampler.run_mcmc(inisamples, Nsamples+Nburnin, skip_initial_state_check=True);\n",
    "#sampler.run_mcmc(inisamples, Nsamples+Nburnin, skip_initial_state_check=False);\n",
    "\n",
    "postsamples = sampler.chain[:, Nburnin:, :].reshape((-1, ndims))"
   ]
  },
  {
   "cell_type": "code",
   "execution_count": 177,
   "id": "cf230a19-25c9-417d-a410-f5d722c77649",
   "metadata": {
    "tags": []
   },
   "outputs": [
    {
     "ename": "AutocorrError",
     "evalue": "The chain is shorter than 50 times the integrated autocorrelation time for 2 parameter(s). Use this estimate with caution and run a longer chain!\nN/50 = 12;\ntau: [45.64665505 26.94328811]",
     "output_type": "error",
     "traceback": [
      "\u001b[0;31m---------------------------------------------------------------------------\u001b[0m",
      "\u001b[0;31mAutocorrError\u001b[0m                             Traceback (most recent call last)",
      "\u001b[0;32m/tmp/ipykernel_2351106/899794025.py\u001b[0m in \u001b[0;36m<module>\u001b[0;34m\u001b[0m\n\u001b[0;32m----> 1\u001b[0;31m \u001b[0mtau\u001b[0m \u001b[0;34m=\u001b[0m \u001b[0msampler\u001b[0m\u001b[0;34m.\u001b[0m\u001b[0mget_autocorr_time\u001b[0m\u001b[0;34m(\u001b[0m\u001b[0;34m)\u001b[0m\u001b[0;34m\u001b[0m\u001b[0;34m\u001b[0m\u001b[0m\n\u001b[0m",
      "\u001b[0;32m~/.local/perlmutter/3.9-anaconda-2021.11/lib/python3.9/site-packages/emcee/ensemble.py\u001b[0m in \u001b[0;36mget_autocorr_time\u001b[0;34m(self, **kwargs)\u001b[0m\n\u001b[1;32m    603\u001b[0m \u001b[0;34m\u001b[0m\u001b[0m\n\u001b[1;32m    604\u001b[0m     \u001b[0;32mdef\u001b[0m \u001b[0mget_autocorr_time\u001b[0m\u001b[0;34m(\u001b[0m\u001b[0mself\u001b[0m\u001b[0;34m,\u001b[0m \u001b[0;34m**\u001b[0m\u001b[0mkwargs\u001b[0m\u001b[0;34m)\u001b[0m\u001b[0;34m:\u001b[0m\u001b[0;34m\u001b[0m\u001b[0;34m\u001b[0m\u001b[0m\n\u001b[0;32m--> 605\u001b[0;31m         \u001b[0;32mreturn\u001b[0m \u001b[0mself\u001b[0m\u001b[0;34m.\u001b[0m\u001b[0mbackend\u001b[0m\u001b[0;34m.\u001b[0m\u001b[0mget_autocorr_time\u001b[0m\u001b[0;34m(\u001b[0m\u001b[0;34m**\u001b[0m\u001b[0mkwargs\u001b[0m\u001b[0;34m)\u001b[0m\u001b[0;34m\u001b[0m\u001b[0;34m\u001b[0m\u001b[0m\n\u001b[0m\u001b[1;32m    606\u001b[0m \u001b[0;34m\u001b[0m\u001b[0m\n\u001b[1;32m    607\u001b[0m     \u001b[0mget_autocorr_time\u001b[0m\u001b[0;34m.\u001b[0m\u001b[0m__doc__\u001b[0m \u001b[0;34m=\u001b[0m \u001b[0mBackend\u001b[0m\u001b[0;34m.\u001b[0m\u001b[0mget_autocorr_time\u001b[0m\u001b[0;34m.\u001b[0m\u001b[0m__doc__\u001b[0m\u001b[0;34m\u001b[0m\u001b[0;34m\u001b[0m\u001b[0m\n",
      "\u001b[0;32m~/.local/perlmutter/3.9-anaconda-2021.11/lib/python3.9/site-packages/emcee/backends/backend.py\u001b[0m in \u001b[0;36mget_autocorr_time\u001b[0;34m(self, discard, thin, **kwargs)\u001b[0m\n\u001b[1;32m    148\u001b[0m         \"\"\"\n\u001b[1;32m    149\u001b[0m         \u001b[0mx\u001b[0m \u001b[0;34m=\u001b[0m \u001b[0mself\u001b[0m\u001b[0;34m.\u001b[0m\u001b[0mget_chain\u001b[0m\u001b[0;34m(\u001b[0m\u001b[0mdiscard\u001b[0m\u001b[0;34m=\u001b[0m\u001b[0mdiscard\u001b[0m\u001b[0;34m,\u001b[0m \u001b[0mthin\u001b[0m\u001b[0;34m=\u001b[0m\u001b[0mthin\u001b[0m\u001b[0;34m)\u001b[0m\u001b[0;34m\u001b[0m\u001b[0;34m\u001b[0m\u001b[0m\n\u001b[0;32m--> 150\u001b[0;31m         \u001b[0;32mreturn\u001b[0m \u001b[0mthin\u001b[0m \u001b[0;34m*\u001b[0m \u001b[0mautocorr\u001b[0m\u001b[0;34m.\u001b[0m\u001b[0mintegrated_time\u001b[0m\u001b[0;34m(\u001b[0m\u001b[0mx\u001b[0m\u001b[0;34m,\u001b[0m \u001b[0;34m**\u001b[0m\u001b[0mkwargs\u001b[0m\u001b[0;34m)\u001b[0m\u001b[0;34m\u001b[0m\u001b[0;34m\u001b[0m\u001b[0m\n\u001b[0m\u001b[1;32m    151\u001b[0m \u001b[0;34m\u001b[0m\u001b[0m\n\u001b[1;32m    152\u001b[0m     \u001b[0;34m@\u001b[0m\u001b[0mproperty\u001b[0m\u001b[0;34m\u001b[0m\u001b[0;34m\u001b[0m\u001b[0m\n",
      "\u001b[0;32m~/.local/perlmutter/3.9-anaconda-2021.11/lib/python3.9/site-packages/emcee/autocorr.py\u001b[0m in \u001b[0;36mintegrated_time\u001b[0;34m(x, c, tol, quiet)\u001b[0m\n\u001b[1;32m    110\u001b[0m         \u001b[0mmsg\u001b[0m \u001b[0;34m+=\u001b[0m \u001b[0;34m\"N/{0} = {1:.0f};\\ntau: {2}\"\u001b[0m\u001b[0;34m.\u001b[0m\u001b[0mformat\u001b[0m\u001b[0;34m(\u001b[0m\u001b[0mtol\u001b[0m\u001b[0;34m,\u001b[0m \u001b[0mn_t\u001b[0m \u001b[0;34m/\u001b[0m \u001b[0mtol\u001b[0m\u001b[0;34m,\u001b[0m \u001b[0mtau_est\u001b[0m\u001b[0;34m)\u001b[0m\u001b[0;34m\u001b[0m\u001b[0;34m\u001b[0m\u001b[0m\n\u001b[1;32m    111\u001b[0m         \u001b[0;32mif\u001b[0m \u001b[0;32mnot\u001b[0m \u001b[0mquiet\u001b[0m\u001b[0;34m:\u001b[0m\u001b[0;34m\u001b[0m\u001b[0;34m\u001b[0m\u001b[0m\n\u001b[0;32m--> 112\u001b[0;31m             \u001b[0;32mraise\u001b[0m \u001b[0mAutocorrError\u001b[0m\u001b[0;34m(\u001b[0m\u001b[0mtau_est\u001b[0m\u001b[0;34m,\u001b[0m \u001b[0mmsg\u001b[0m\u001b[0;34m)\u001b[0m\u001b[0;34m\u001b[0m\u001b[0;34m\u001b[0m\u001b[0m\n\u001b[0m\u001b[1;32m    113\u001b[0m         \u001b[0mlogger\u001b[0m\u001b[0;34m.\u001b[0m\u001b[0mwarning\u001b[0m\u001b[0;34m(\u001b[0m\u001b[0mmsg\u001b[0m\u001b[0;34m)\u001b[0m\u001b[0;34m\u001b[0m\u001b[0;34m\u001b[0m\u001b[0m\n\u001b[1;32m    114\u001b[0m \u001b[0;34m\u001b[0m\u001b[0m\n",
      "\u001b[0;31mAutocorrError\u001b[0m: The chain is shorter than 50 times the integrated autocorrelation time for 2 parameter(s). Use this estimate with caution and run a longer chain!\nN/50 = 12;\ntau: [45.64665505 26.94328811]"
     ]
    }
   ],
   "source": [
    "#TODO: run longer chain to get tau\n",
    "tau = sampler.get_autocorr_time()"
   ]
  },
  {
   "cell_type": "code",
   "execution_count": 178,
   "id": "ec7dbafe-7355-4ab9-ad28-3823a82cc74f",
   "metadata": {
    "tags": []
   },
   "outputs": [],
   "source": [
    "#temporary tau value\n",
    "tau = 27//3"
   ]
  },
  {
   "cell_type": "code",
   "execution_count": 179,
   "id": "0e345812-b51e-40a0-adfc-1528c6780771",
   "metadata": {
    "tags": []
   },
   "outputs": [],
   "source": [
    "samples = sampler.get_chain(discard=Nburnin, thin = tau, flat=True)\n",
    "blobs = sampler.get_blobs(discard=Nburnin, thin = tau, flat=True)"
   ]
  },
  {
   "cell_type": "code",
   "execution_count": 198,
   "id": "0d4d3c89-a218-4a9e-84c4-175e2e5bb727",
   "metadata": {
    "tags": []
   },
   "outputs": [
    {
     "name": "stderr",
     "output_type": "stream",
     "text": [
      "/tmp/ipykernel_2351106/1835998153.py:17: UserWarning: This figure includes Axes that are not compatible with tight_layout, so results might be incorrect.\n",
      "  fig.tight_layout()\n"
     ]
    },
    {
     "data": {
      "image/png": "[encoded data removed]",
      "text/plain": [
       "<Figure size 720x504 with 3 Axes>"
      ]
     },
     "metadata": {
      "needs_background": "light"
     },
     "output_type": "display_data"
    }
   ],
   "source": [
    "fig, axes = plt.subplots(3,1, figsize=(10, 7), sharex=True,\n",
    "                         gridspec_kw={'hspace':0.1})\n",
    "good_walkers = sampler.acceptance_fraction > 0\n",
    "bad_samples = sampler.get_chain()[:,good_walkers,:]\n",
    "bad_blobs = sampler.get_blobs()\n",
    "\n",
    "labels = ['$\\Omega_m$', '$w_0$','$s_8$']\n",
    "for i in range(ndims+1): #+1 for blobs\n",
    "    ax = axes[i]\n",
    "    dat = bad_blobs[\"s_8\"][:1000,good_walkers] if i==2 else bad_samples[:1000,:,i]\n",
    "    ax.plot(dat, 'k', alpha=0.3)\n",
    "    ax.set(xlim=(0,1000), ylabel=labels[i])\n",
    "    ax.yaxis.set_label_coords(-0.11, 0.5)\n",
    "    ax.axvline(Nburnin)\n",
    "    \n",
    "axes[-1].set_xlabel('step number')\n",
    "fig.tight_layout()"
   ]
  },
  {
   "cell_type": "code",
   "execution_count": 199,
   "id": "2fc281b9-11d2-4444-b062-4e45f0cf9b96",
   "metadata": {
    "tags": []
   },
   "outputs": [],
   "source": [
    "#Results from the 2D notebook to compare with\n",
    "#global/homes/h/hrincon/mcmc2/w0/0.25/og_modded_s8/bgrid_z0.25_final.npy\n",
    "bgrid_og = np.load(\"./0.25/true_og/bgrid_z0.25_final.npy\")"
   ]
  },
  {
   "cell_type": "code",
   "execution_count": 200,
   "id": "4f92e73d-cfb1-43e9-85d6-bb1dce99e61a",
   "metadata": {
    "tags": []
   },
   "outputs": [],
   "source": [
    "import pickle\n",
    "with open(\"./0.25/true_og/samples.pickle\", 'rb') as temp_outfile:\n",
    "    samples_og = pickle.load(temp_outfile)"
   ]
  },
  {
   "cell_type": "code",
   "execution_count": 201,
   "id": "eca0631d-7fb1-41ed-bd09-b666968b01d7",
   "metadata": {
    "tags": []
   },
   "outputs": [
    {
     "name": "stdout",
     "output_type": "stream",
     "text": [
      "Removed no burn in\n"
     ]
    },
    {
     "data": {
      "image/png": "[encoded data removed]",
      "text/plain": [
       "<Figure size 576x576 with 3 Axes>"
      ]
     },
     "metadata": {
      "needs_background": "light"
     },
     "output_type": "display_data"
    }
   ],
   "source": [
    "#newresutlswith relaxed sigma8\n",
    "names = [\"Omega_m\",\"w_0\"]\n",
    "labels =  [\"\\Omega_m\",\"w_0\"]\n",
    "samples = MCSamples(samples=(postsamples),names = names, labels = labels)\n",
    "g = plots.get_subplot_plotter(width_inch=8)\n",
    "g.triangle_plot([samples,samples_og], \n",
    "                markers=[0.315,-1],\n",
    "                filled=True,\n",
    "                legend_labels=[\"4D constraint notebook\",\"2D constraint notebook\"])\n",
    "plt.show()"
   ]
  },
  {
   "cell_type": "code",
   "execution_count": 28,
   "id": "ac1a20a2-a72a-482b-bd97-af77c46c6f43",
   "metadata": {},
   "outputs": [
    {
     "name": "stdout",
     "output_type": "stream",
     "text": [
      "Removed no burn in\n"
     ]
    },
    {
     "data": {
      "image/png": "[encoded data removed]",
      "text/plain": [
       "<Figure size 288x288 with 3 Axes>"
      ]
     },
     "metadata": {
      "needs_background": "light"
     },
     "output_type": "display_data"
    }
   ],
   "source": [
    "#old (inaccurate) resutls with fixed sigma8\n",
    "# plot the results\n",
    "names = [\"Omega_m\",\"w_0\"]\n",
    "labels =  [\"\\Omega_m\",\"w_0\"]\n",
    "samples = MCSamples(samples=(postsamples[:,::2]),names = names, labels = labels)\n",
    "g = plots.get_subplot_plotter()\n",
    "g.triangle_plot([samples], markers=[0.315,-1],filled=True)\n",
    "plt.show()"
   ]
  }
 ],
 "metadata": {
  "kernelspec": {
   "display_name": "NERSC Python",
   "language": "python",
   "name": "python3"
  },
  "language_info": {
   "codemirror_mode": {
    "name": "ipython",
    "version": 3
   },
   "file_extension": ".py",
   "mimetype": "text/x-python",
   "name": "python",
   "nbconvert_exporter": "python",
   "pygments_lexer": "ipython3",
   "version": "3.9.7"
  }
 },
 "nbformat": 4,
 "nbformat_minor": 5
}
