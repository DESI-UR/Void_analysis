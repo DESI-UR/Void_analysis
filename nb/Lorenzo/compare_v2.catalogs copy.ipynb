{
 "cells": [
  {
   "cell_type": "code",
   "execution_count": 1,
   "id": "a03db698",
   "metadata": {},
   "outputs": [],
   "source": [
    "from astropy.table import Table\n",
    "\n",
    "import matplotlib.pyplot as plt\n",
    "from mpl_toolkits import mplot3d\n",
    "%matplotlib notebook\n",
    "\n",
    "import numpy as np\n",
    "import time\n",
    "from sklearn import neighbors\n",
    "from vast.voidfinder._voidfinder_cython_find_next import MaskChecker\n",
    "from vast.voidfinder.distance import z_to_comoving_dist\n",
    "from vast.voidfinder import ra_dec_to_xyz\n",
    "import pickle"
   ]
  },
  {
   "cell_type": "markdown",
   "id": "8970e0ce",
   "metadata": {},
   "source": [
    "Update:\n",
    "- Trying to figure out if we can plot ra v dec, probs not\n",
    "- If not, needed to figure out how to work with ra_dec_to_xyz() without Rgal variable (Douglass)"
   ]
  },
  {
   "cell_type": "code",
   "execution_count": 4,
   "id": "c7efc853",
   "metadata": {},
   "outputs": [],
   "source": [
    "mask_file_name = \"/Users/lorenzomendoza/Desktop/Research/Function/NSA_main_mask.pickle\""
   ]
  },
  {
   "cell_type": "code",
   "execution_count": 5,
   "id": "017aeff5",
   "metadata": {},
   "outputs": [],
   "source": [
    "temp_infile = open(mask_file_name, \"rb\")\n",
    "mask, mask_resolution = pickle.load(temp_infile)\n",
    "temp_infile.close()"
   ]
  },
  {
   "cell_type": "markdown",
   "id": "fc291759",
   "metadata": {},
   "source": [
    "## V$^2$ void catalog"
   ]
  },
  {
   "cell_type": "markdown",
   "id": "934b8e55",
   "metadata": {},
   "source": [
    "Generating galaxy array, .npy"
   ]
  },
  {
   "cell_type": "code",
   "execution_count": 6,
   "id": "5872c0c3",
   "metadata": {},
   "outputs": [],
   "source": [
    "V2_galzones = Table.read(\"/Users/lorenzomendoza/Desktop/Research/Function/V2_REVOLVER-nsa_v1_0_1_galzones.dat\",format='ascii.commented_header')\n",
    "V2_zonevoids = Table.read(\"/Users/lorenzomendoza/Desktop/Research/Function/V2_REVOLVER-nsa_v1_0_1_zonevoids.dat\",format='ascii.commented_header')\n",
    "\n",
    "V2_gz = np.zeros(len(V2_galzones['zone']),dtype=int)\n",
    "V2_gz[V2_galzones['zone'] > -1] = 1\n",
    "'''\n",
    "for i in range(len(V2_gz)):\n",
    "    if V2_galzones['zone'][i] > -1:\n",
    "        #V2_gz[i] = V2_zonevoids['void1'][V2_galzones['zone'][i]]\n",
    "        V2_gz[i] = 1\n",
    "''';"
   ]
  },
  {
   "cell_type": "markdown",
   "id": "37c9c646",
   "metadata": {},
   "source": [
    "Extract galaxy void membership. This returns the points in the data set that are V2 voids. \n",
    "\n",
    "If returns -1, then not V2"
   ]
  },
  {
   "cell_type": "code",
   "execution_count": 8,
   "id": "a16b6be3",
   "metadata": {},
   "outputs": [],
   "source": [
    "file_name = \"/Users/lorenzomendoza/Desktop/Research/Function/V2_nsa_v1_0_1_gal.txt\""
   ]
  },
  {
   "cell_type": "code",
   "execution_count": 9,
   "id": "6422055b",
   "metadata": {},
   "outputs": [],
   "source": [
    "data_table_vl = Table.read(file_name, format = \"ascii.commented_header\")"
   ]
  },
  {
   "cell_type": "code",
   "execution_count": 10,
   "id": "e8db1c24",
   "metadata": {},
   "outputs": [
    {
     "data": {
      "text/plain": [
       "astropy.table.table.Table"
      ]
     },
     "execution_count": 10,
     "metadata": {},
     "output_type": "execute_result"
    }
   ],
   "source": [
    "type(data_table_vl)"
   ]
  },
  {
   "cell_type": "code",
   "execution_count": 11,
   "id": "68740fb8",
   "metadata": {},
   "outputs": [],
   "source": [
    "omega_M = np.float32(0.3)\n",
    "h = np.float32(1.0)\n",
    "Rgal = z_to_comoving_dist(data_table_vl['redshift'].astype(np.float32),omega_M,h)\n",
    "data_table_vl['Rgal'] = Rgal"
   ]
  },
  {
   "cell_type": "code",
   "execution_count": 12,
   "id": "b286a360",
   "metadata": {},
   "outputs": [],
   "source": [
    "z_boolean = data_table_vl['redshift']>0 #Edge Case: 513626 = [[-0.  0.  0.]]\n",
    "data_table_vl = data_table_vl[z_boolean]"
   ]
  },
  {
   "cell_type": "code",
   "execution_count": 13,
   "id": "8ba49bd2",
   "metadata": {},
   "outputs": [],
   "source": [
    "galaxies_xyz = ra_dec_to_xyz(data_table_vl)"
   ]
  },
  {
   "cell_type": "code",
   "execution_count": 14,
   "id": "70031474",
   "metadata": {},
   "outputs": [
    {
     "data": {
      "text/html": [
       "<i>Table length=514398</i>\n",
       "<table id=\"table140613789631680\" class=\"table-striped table-bordered table-condensed\">\n",
       "<thead><tr><th>index</th><th>ra</th><th>dec</th><th>redshift</th><th>rabsmag</th><th>Rgal</th><th>x</th><th>y</th><th>z</th></tr></thead>\n",
       "<thead><tr><th>int64</th><th>float64</th><th>float64</th><th>float64</th><th>float64</th><th>float32</th><th>float64</th><th>float64</th><th>float64</th></tr></thead>\n",
       "<tr><td>0</td><td>146.6285851269414</td><td>-0.7651620976591762</td><td>0.0646563172340393</td><td>-19.97649574279785</td><td>190.97807</td><td>-159.47584420504052</td><td>105.0408263192713</td><td>-2.550359568207288</td></tr>\n",
       "<tr><td>1</td><td>146.9341288729797</td><td>-0.6704053610430766</td><td>0.12127048522233963</td><td>-21.559162139892578</td><td>353.4156</td><td>-296.1574894141973</td><td>192.81135899420556</td><td>-4.135143999391673</td></tr>\n",
       "<tr><td>2</td><td>146.9634997327016</td><td>-0.5447758299302171</td><td>0.055980585515499115</td><td>-19.10099220275879</td><td>165.68755</td><td>-138.89347406859915</td><td>90.32432641438558</td><td>-1.5753553055354186</td></tr>\n",
       "<tr><td>3</td><td>146.96352370262414</td><td>-0.7593404235056136</td><td>0.09708637744188309</td><td>-20.089942932128906</td><td>284.58063</td><td>-238.5497230217006</td><td>155.13200652067886</td><td>-3.771433955733498</td></tr>\n",
       "<tr><td>4</td><td>146.85984630722874</td><td>-0.8089065016506019</td><td>0.12658987939357758</td><td>-21.062517166137695</td><td>368.4445</td><td>-308.4810128885206</td><td>201.40444290203067</td><td>-5.201556625836186</td></tr>\n",
       "<tr><td>5</td><td>146.5927838471015</td><td>-0.7602574022145185</td><td>0.06495923548936844</td><td>-19.97614288330078</td><td>191.85936</td><td>-160.14597434128163</td><td>105.62575539512878</td><td>-2.5457061490638075</td></tr>\n",
       "<tr><td>6</td><td>146.72838067287842</td><td>-0.5569743913807053</td><td>0.08931196480989456</td><td>-19.900196075439453</td><td>262.2765</td><td>-219.2735589331227</td><td>143.8803771110055</td><td>-2.5495592953775956</td></tr>\n",
       "<tr><td>7</td><td>147.18677363814004</td><td>-0.4938139466493589</td><td>0.09031707048416138</td><td>-20.94278907775879</td><td>265.1649</td><td>-222.8473062347432</td><td>143.68810782814072</td><td>-2.2853428144724695</td></tr>\n",
       "<tr><td>8</td><td>146.95608041489135</td><td>-0.34230852875962586</td><td>0.13468021154403687</td><td>-21.625717163085938</td><td>391.22458</td><td>-327.9392589096939</td><td>213.3238160439749</td><td>-2.337322477587044</td></tr>\n",
       "<tr><td>9</td><td>147.17645340393182</td><td>-0.3540349522432606</td><td>0.006282840855419636</td><td>-15.534673690795898</td><td>18.80871</td><td>-15.805483229243551</td><td>10.195134547011081</td><td>-0.11621970176382058</td></tr>\n",
       "<tr><td>...</td><td>...</td><td>...</td><td>...</td><td>...</td><td>...</td><td>...</td><td>...</td><td>...</td></tr>\n",
       "<tr><td>514575</td><td>218.73111896936555</td><td>-0.45176821892594743</td><td>0.1298000067472458</td><td>-20.37791633605957</td><td>377.4945</td><td>-294.4708020579195</td><td>-236.17830160298868</td><td>-2.976454031384042</td></tr>\n",
       "<tr><td>514576</td><td>218.33408913943114</td><td>0.006570602264003904</td><td>0.05570000037550926</td><td>-17.387638092041016</td><td>164.8678</td><td>-129.323533512514</td><td>-102.25856487744035</td><td>0.018906815347595786</td></tr>\n",
       "<tr><td>514577</td><td>218.32005780355482</td><td>-1.2525971090241848</td><td>0.08207043260335922</td><td>-20.237579345703125</td><td>241.42418</td><td>-189.36633553095987</td><td>-149.6601895802606</td><td>-5.277581401685813</td></tr>\n",
       "<tr><td>514579</td><td>221.55081881922277</td><td>-1.8145565078434764</td><td>0.08038564771413803</td><td>-21.023279190063477</td><td>236.56229</td><td>-176.9468020555965</td><td>-156.829316179172</td><td>-7.490671863220648</td></tr>\n",
       "<tr><td>514580</td><td>219.74484109954423</td><td>-2.0204498002007893</td><td>0.11597869545221329</td><td>-20.93014907836914</td><td>338.42462</td><td>-260.05271632040666</td><td>-216.2439525398127</td><td>-11.93156390748343</td></tr>\n",
       "<tr><td>514581</td><td>219.69281435303517</td><td>-1.498367091421907</td><td>0.13770000636577606</td><td>-21.404783248901367</td><td>399.70352</td><td>-307.4585644845752</td><td>-255.19188822983452</td><td>-10.45163092315648</td></tr>\n",
       "<tr><td>514582</td><td>219.55194176345347</td><td>-1.5172838888725428</td><td>0.10502009093761444</td><td>-21.11517906188965</td><td>307.2538</td><td>-236.82426084465075</td><td>-195.58371042580296</td><td>-8.135621517875807</td></tr>\n",
       "<tr><td>514583</td><td>219.52219672036165</td><td>-1.4446756753043812</td><td>0.1185000017285347</td><td>-19.01321792602539</td><td>345.57217</td><td>-266.4820765906685</td><td>-219.84431651197133</td><td>-8.71245352019249</td></tr>\n",
       "<tr><td>514585</td><td>219.1754156653414</td><td>-1.4284259133402393</td><td>0.09570000320672989</td><td>-19.478748321533203</td><td>280.60956</td><td>-217.4653095364061</td><td>-177.20505673637862</td><td>-6.9950779436945485</td></tr>\n",
       "<tr><td>514586</td><td>218.91299946375833</td><td>-1.4901928289538668</td><td>0.05620000138878822</td><td>-18.471019744873047</td><td>166.32835</td><td>-129.3764298664784</td><td>-104.442092457838</td><td>-4.325508417963468</td></tr>\n",
       "</table>"
      ],
      "text/plain": [
       "<Table length=514398>\n",
       "index          ra         ...          y                   z          \n",
       "int64       float64       ...       float64             float64       \n",
       "------ ------------------ ... ------------------- --------------------\n",
       "     0  146.6285851269414 ...   105.0408263192713   -2.550359568207288\n",
       "     1  146.9341288729797 ...  192.81135899420556   -4.135143999391673\n",
       "     2  146.9634997327016 ...   90.32432641438558  -1.5753553055354186\n",
       "     3 146.96352370262414 ...  155.13200652067886   -3.771433955733498\n",
       "     4 146.85984630722874 ...  201.40444290203067   -5.201556625836186\n",
       "     5  146.5927838471015 ...  105.62575539512878  -2.5457061490638075\n",
       "     6 146.72838067287842 ...   143.8803771110055  -2.5495592953775956\n",
       "     7 147.18677363814004 ...  143.68810782814072  -2.2853428144724695\n",
       "     8 146.95608041489135 ...   213.3238160439749   -2.337322477587044\n",
       "     9 147.17645340393182 ...  10.195134547011081 -0.11621970176382058\n",
       "   ...                ... ...                 ...                  ...\n",
       "514575 218.73111896936555 ... -236.17830160298868   -2.976454031384042\n",
       "514576 218.33408913943114 ... -102.25856487744035 0.018906815347595786\n",
       "514577 218.32005780355482 ...  -149.6601895802606   -5.277581401685813\n",
       "514579 221.55081881922277 ...   -156.829316179172   -7.490671863220648\n",
       "514580 219.74484109954423 ...  -216.2439525398127   -11.93156390748343\n",
       "514581 219.69281435303517 ... -255.19188822983452   -10.45163092315648\n",
       "514582 219.55194176345347 ... -195.58371042580296   -8.135621517875807\n",
       "514583 219.52219672036165 ... -219.84431651197133    -8.71245352019249\n",
       "514585  219.1754156653414 ... -177.20505673637862  -6.9950779436945485\n",
       "514586 218.91299946375833 ...   -104.442092457838   -4.325508417963468"
      ]
     },
     "execution_count": 14,
     "metadata": {},
     "output_type": "execute_result"
    }
   ],
   "source": [
    "data_table_vl['x'] = galaxies_xyz[:,0]\n",
    "data_table_vl['y'] = galaxies_xyz[:,1]\n",
    "data_table_vl['z'] = galaxies_xyz[:,2]"
   ]
  },
  {
   "cell_type": "code",
   "execution_count": 22,
   "id": "371b2347",
   "metadata": {},
   "outputs": [],
   "source": [
    "V2_galzones['x'] = 0.\n",
    "V2_galzones['y'] = 0.\n",
    "V2_galzones['z'] = 0.\n",
    "\n",
    "for i in range(len(V2_galzones)):\n",
    "    idx = V2_galzones['gal'][i]\n",
    "    T2_idx = data_table_vl['index'] == idx\n",
    "    V2_galzones['x'][i] = data_table_vl['x'][T2_idx]\n",
    "    V2_galzones['y'][i] = data_table_vl['y'][T2_idx]\n",
    "    V2_galzones['z'][i] = data_table_vl['z'][T2_idx]\n"
   ]
  },
  {
   "cell_type": "markdown",
   "id": "4e713be1",
   "metadata": {},
   "source": [
    "## Remove all galaxies outside the mask\n",
    "\n",
    "For each galaxy, check to see if it is in the mask.  If it is, keep it!  If it is not, throw it away.\n",
    "1. Define the variables `rmin` and `rmax`. Values are input by user. \n",
    "2. Create a boolean array called `galaxies_boolean`, with the same length as `data_table_vl`, filled with `True` values.\n",
    "3. Create a `MaskChecker` object using the values `0`, `mask`, `mask_resolution`, `rmin`, and `rmax`.\n",
    "4. Iterate over each element `i` in `data_table_vl`.\n",
    "5. Define a variable `curr_gal` as the `i`-th element of the `galaxies_xyz` array reshaped into a 1x3 array.\n",
    "6. Call the `not_in_mask` method of the `mask_checker` object on `curr_gal`, and assign the result to the variable `not_in_mask`.\n",
    "7. Set the `i`-th element of the `galaxies_boolean` array to the opposite of the boolean value of `not_in_mask`.\n",
    "8. After the loop has completed, print the time to run the loop.\n",
    "9. Filter the `data_table_vl` array using the `galaxies_boolean` array to create a new array called `galaxies_in_mask`.\n",
    "10. Print the sum of the `True` values in `galaxies_boolean`, the sum of the `False` values in `galaxies_boolean`, the shape of `galaxies_boolean`, and the `galaxies_in_mask` array.\n"
   ]
  },
  {
   "cell_type": "code",
   "execution_count": 21,
   "id": "e05ab2e2",
   "metadata": {},
   "outputs": [],
   "source": [
    "def calc_volume_boundaries(void_cat_A, void_cat_B):\n",
    "    \"\"\"Compute the boundaries of the minimal rectangular volume (parallelpiped)\n",
    "    that completely contains two void catalogs.\n",
    "    \n",
    "    Parameters\n",
    "    ----------\n",
    "    void_cat_A : astropy.Table\n",
    "        Table of void data from first catalog.\n",
    "    void_cat_B : astropy.Table\n",
    "        Table of void data from second catalog.\n",
    "        \n",
    "    Returns\n",
    "    -------\n",
    "    x_min : float\n",
    "    x_max : float\n",
    "    y_min : float\n",
    "    y_max : float\n",
    "    z_min : float\n",
    "    z_max : float\n",
    "    \"\"\"\n",
    "    x_min = np.minimum(np.min(void_cat_A['x']), np.min(void_cat_B['x']))\n",
    "    x_max = np.maximum(np.max(void_cat_A['x']), np.max(void_cat_B['x']))\n",
    "    \n",
    "    y_min = np.minimum(np.min(void_cat_A['y']), np.min(void_cat_B['y']))\n",
    "    y_max = np.maximum(np.max(void_cat_A['y']), np.max(void_cat_B['y']))\n",
    "\n",
    "    z_min = np.minimum(np.min(void_cat_A['z']), np.min(void_cat_B['z']))\n",
    "    z_max = np.maximum(np.max(void_cat_A['z']), np.max(void_cat_B['z']))\n",
    "\n",
    "    return x_min, x_max, y_min, y_max, z_min, z_max\n",
    "\n",
    "def generate_grid_points(x_min, x_max, y_min, y_max, z_min, z_max):\n",
    "    \"\"\"Creates a dense rectangular grid of points in 3D for the void volume calculation.\n",
    "    \n",
    "    Returns\n",
    "    -------\n",
    "    xyz : list\n",
    "        2D list of points in 3D space.\n",
    "    \"\"\"\n",
    "    \n",
    "    x_range = np.arange(x_min, x_max) # default spacing: 1 Megaparsec\n",
    "    y_range = np.arange(y_min, y_max)\n",
    "    z_range = np.arange(z_min, z_max)\n",
    "\n",
    "\n",
    "    # Creating a meshgrid from the ranges to \n",
    "    X,Y,Z = np.meshgrid(x_range,y_range,z_range)\n",
    "\n",
    "    x_points = np.ravel(X)\n",
    "    y_points = np.ravel(Y)\n",
    "    z_points = np.ravel(Z)\n",
    "    \n",
    "    point_coords = np.array([x_points, y_points, z_points])\n",
    "    \n",
    "    return point_coords"
   ]
  },
  {
   "cell_type": "markdown",
   "id": "06c33fbb",
   "metadata": {},
   "source": [
    "xmin, xmax, ymin, ymax, zmin, zmax = calc_volume_boundaries(galaxies_in_mask, galaxies_in_mask)\n",
    "\n",
    "Calls the `calc_volume_boundaries` function on the `galaxies_in_mask` array and assigns the returned values to the variables `xmin`, `xmax`, `ymin`, `ymax`, `zmin`, and `zmax`.\n",
    "\n",
    "---\n",
    "\n",
    "pts = generate_grid_points(xmin, xmax, ymin, ymax, zmin, zmax)\n",
    "\n",
    "Calls the `generate_grid_points` function with the values `xmin`, `xmax`, `ymin`, `ymax`, `zmin`, and `zmax` as arguments and assigns the returned value to the `pts` variable.\n",
    "\n",
    "---\n",
    "\n",
    "b = pts.shape\n",
    "print(b)\n",
    "\n",
    "Gets the shape of the `pts` array and assigns it to the `b` variable. The shape of the array is printed.\n"
   ]
  },
  {
   "cell_type": "code",
   "execution_count": 22,
   "id": "494d9911",
   "metadata": {},
   "outputs": [
    {
     "name": "stdout",
     "output_type": "stream",
     "text": [
      "(3, 54394392)\n"
     ]
    }
   ],
   "source": [
    "xmin, xmax, ymin, ymax, zmin, zmax = calc_volume_boundaries(V2_galzones, V2_galzones)\n",
    "\n",
    "\n",
    "#This line makes creates the points in between \n",
    "pts = generate_grid_points(xmin, xmax, ymin, ymax, zmin, zmax)\n",
    "\n",
    "b = pts.shape\n",
    "print(b)"
   ]
  },
  {
   "cell_type": "markdown",
   "id": "9c2da819",
   "metadata": {},
   "source": [
    "MaskChecker"
   ]
  },
  {
   "cell_type": "code",
   "execution_count": 23,
   "id": "59915b79",
   "metadata": {},
   "outputs": [
    {
     "name": "stdout",
     "output_type": "stream",
     "text": [
      "82.14210200309753\n",
      "\n",
      "Points in Mask Shape: (3, 23115139)\n",
      "\n",
      "Sum of Points IN: 23115139\n",
      "\n",
      "Sum of Points OUT: 31279253\n",
      "\n",
      "Boolean Shape: (54394392,)\n",
      "\n",
      "Points in Mask: [[-121.86509181 -121.86509181 -121.86509181 ... -130.86509181\n",
      "  -130.86509181 -130.86509181]\n",
      " [-287.98706916 -287.98706916 -287.98706916 ...  268.01293084\n",
      "   268.01293084  268.01293084]\n",
      " [  -5.02479643   -4.02479643   -3.02479643 ...   91.97520357\n",
      "    92.97520357   93.97520357]]\n"
     ]
    }
   ],
   "source": [
    "start_time = time.time()\n",
    "\n",
    "rmin = 0\n",
    "rmax = 312.89816 # Where are these computed?\n",
    "\n",
    "points_boolean = np.ones(pts.shape[1], dtype = bool)\n",
    "\n",
    "# print(time.time() - start_time)\n",
    "\n",
    "# Declares MaskChecker object from VAST\n",
    "\n",
    "mask_checker = MaskChecker(0,\n",
    "                        mask,\n",
    "                        mask_resolution,\n",
    "                        rmin,\n",
    "                        rmax,)\n",
    "\n",
    "start_time = time.time()\n",
    "for i in range(pts.shape[1]):\n",
    "\n",
    "    # Current point will iterate through all points at \n",
    "    \n",
    "    curr_pt = pts[:,i].reshape((1,3))\n",
    "    \n",
    "    # References MC object to declare if not_in_mask\n",
    "    \n",
    "    not_in_mask = mask_checker.not_in_mask(curr_pt)\n",
    "#     print(not_in_mask, not bool(not_in_mask))\n",
    "\n",
    "    points_boolean[i] = not bool(not_in_mask)\n",
    "                                    \n",
    "points_in_mask = pts[:,points_boolean]\n",
    "(var, n_points) = points_in_mask.shape\n",
    "print(time.time() - start_time)\n",
    "print('\\nPoints in Mask Shape:', points_in_mask.shape)\n",
    "\n",
    "print('\\nSum of Points IN:', np.sum(points_boolean))\n",
    "\n",
    "print('\\nSum of Points OUT:', np.sum(~points_boolean))\n",
    "\n",
    "print('\\nBoolean Shape:', points_boolean.shape)\n",
    "\n",
    "print('\\nPoints in Mask:',points_in_mask)\n"
   ]
  },
  {
   "cell_type": "code",
   "execution_count": 24,
   "id": "98b893b3",
   "metadata": {},
   "outputs": [],
   "source": [
    "def kd_tree(void_cat):\n",
    "    \"\"\"We are creating a function to make a KDTree to find the number of points in \n",
    "    and out of a catalogue.\n",
    "    \n",
    "    Parameters\n",
    "    ----------\n",
    "    point_coords: ndarray has a shape of (3,N)\n",
    "        This is the list of points to query the given void catalogue. N is the number of points given. \n",
    "    void_cat: Astropy Table\n",
    "        This is the given void catalogue.\n",
    "    \n",
    "    Returns\n",
    "    -------\n",
    "    true_inside: ndarray of shape (N,1)\n",
    "        Is this the boolean array of length N (same length as point_coords). True means that 1 point \n",
    "        is inside the hole.\n",
    "    \"\"\"\n",
    "#############\n",
    "    cx = void_cat['x']\n",
    "    cy = void_cat['y']\n",
    "    cz = void_cat['z']\n",
    "\n",
    "    sphere_coords = np.array([cx, cy, cz])\n",
    "\n",
    "    #The .T is meant to transpose the array from (3,1054) to (1054,3)\n",
    "    sphere_tree = neighbors.KDTree(sphere_coords.T)\n",
    "    print(\"KDTree\")\n",
    "\n",
    "##############\n",
    "    \n",
    "    return sphere_tree"
   ]
  },
  {
   "cell_type": "code",
   "execution_count": 25,
   "id": "2191fc7c",
   "metadata": {},
   "outputs": [],
   "source": [
    "def point_query(point_coords, sphere_tree, void_cat):\n",
    "    print(\"Starting Query\")\n",
    "    #Void cat classifcation\n",
    "    true_inside = np.zeros(point_coords.shape[1])\n",
    "\n",
    "    idx = sphere_tree.query(point_coords.T, k = 1, return_distance=False)\n",
    "    print(idx)\n",
    "    \n",
    "    #true_inside = void_cat[idx]\n",
    "    for i in range(len(idx)):\n",
    "        true_inside[i] = void_cat[idx[i]]\n",
    "    \n",
    "    return true_inside"
   ]
  },
  {
   "cell_type": "code",
   "execution_count": 26,
   "id": "6fde4a38",
   "metadata": {},
   "outputs": [
    {
     "name": "stdout",
     "output_type": "stream",
     "text": [
      "KDTree\n",
      "KDTree\n"
     ]
    }
   ],
   "source": [
    "start_time = time.time()\n",
    "\n",
    "U = 1\n",
    "\n",
    "count_in_V1 = np.zeros(U)\n",
    "count_out_V1 = np.zeros(U)\n",
    "\n",
    "count_in_V2 = np.zeros(U)\n",
    "count_out_V2 = np.zeros(U)\n",
    "\n",
    "inside_both = np.zeros(U)\n",
    "inside_neither = np.zeros(U)\n",
    "inside_V1 = np.zeros(U)\n",
    "inside_V2 = np.zeros(U)\n",
    "\n",
    "points_in_mask_copy = points_in_mask.copy()\n",
    "\n",
    "kdTree_V1 = kd_tree(V2_galzones)\n",
    "kdTree_V2 = kd_tree(V2_galzones)\n",
    "    \n",
    "true_inside_V1 = point_query(points_in_mask_copy, kdTree_V1, V2_gz)\n",
    "print(time.time() - start_time)\n",
    "\n",
    "count_in_V1[i] = np.sum(true_inside_V1)\n",
    "\n",
    "    # The \"~\" inverts the array. So we have true_inside inverted to add up the falses instead of the trues\n",
    "count_out_V1[i] = np.sum(~true_inside_V1)\n",
    "    \n",
    "    # print(time.time() - start_time)\n",
    "\n",
    "    # total_KIAS = count_in_KIAS + count_out_KIAS\n",
    "\n",
    "true_inside_V2 = point_query(points_in_mask_copy, kdTree_V2, V2_gz)\n",
    "print(time.time() - start_time)\n",
    "\n",
    "count_in_V2[i] = np.sum(true_inside_V2)\n",
    "\n",
    "    # The \"~\" inverts the array. So we have true_inside inverted to add up the falses instead of the trues\n",
    "count_out_V2[i] = np.sum(~true_inside_V2)\n",
    "\n",
    "    #total_DEL = count_in_DEL + count_out_DEL\n",
    "    \n",
    "    # This is the number of points that are inside both A and B\n",
    "inside_V1_and_V2 = np.logical_and(true_inside_V1, true_inside_V2)\n",
    "inside_both[i] = np.sum(inside_V1_and_V2)\n",
    "    \n",
    "    # This is the number of points that are in neither A and B\n",
    "not_inside_V1_and_V2 = np.logical_and(~true_inside_V1, ~true_inside_V2)\n",
    "inside_neither[i] = np.sum(not_inside_V1_and_V2)\n",
    "    \n",
    "    # This is the number of points that are in A but not B\n",
    "inside_v1 = np.logical_and(true_inside_V1, ~true_inside_V2)\n",
    "inside_V1[i] = np.sum(inside_v1)\n",
    "    \n",
    "    # This is the number of points that are not in A but are in B\n",
    "inside_v2 = np.logical_and(~true_inside_V1, true_inside_V2)\n",
    "inside_V2[i] = np.sum(inside_v2)\n",
    "\n",
    "print(time.time() - start_time)\n",
    "print('\\nNumber of points inside V1:', count_in_V1)\n",
    "print('\\nNumber of points outside V2:', count_out_V1)\n",
    "print('\\nNumber of points inside V1:', count_in_V2)\n",
    "print('\\nNumber of points outside V2:', count_out_V2)\n",
    "print(\"\\nThis is the total number of points: {}\".format(n_points))\n",
    "# print(\"\\nThis is the total number of points in Delaunay: {}\".format(total_DEL))"
   ]
  },
  {
   "cell_type": "code",
   "execution_count": 32,
   "id": "b1bbd3c4",
   "metadata": {},
   "outputs": [
    {
     "data": {
      "text/plain": [
       "23115139"
      ]
     },
     "execution_count": 32,
     "metadata": {},
     "output_type": "execute_result"
    }
   ],
   "source": [
    "true_inside = np.zeros(points_in_mask_copy.shape[1])\n",
    "true_inside.size"
   ]
  },
  {
   "cell_type": "code",
   "execution_count": 34,
   "id": "6957e0da",
   "metadata": {},
   "outputs": [
    {
     "ename": "IndexError",
     "evalue": "index 428832 is out of bounds for axis 0 with size 194125",
     "output_type": "error",
     "traceback": [
      "\u001b[0;31m---------------------------------------------------------------------------\u001b[0m",
      "\u001b[0;31mIndexError\u001b[0m                                Traceback (most recent call last)",
      "\u001b[0;32m<ipython-input-34-a86a91af9b95>\u001b[0m in \u001b[0;36m<module>\u001b[0;34m\u001b[0m\n\u001b[1;32m      1\u001b[0m \u001b[0mtrue_inside\u001b[0m \u001b[0;34m=\u001b[0m \u001b[0mnp\u001b[0m\u001b[0;34m.\u001b[0m\u001b[0mzeros\u001b[0m\u001b[0;34m(\u001b[0m\u001b[0mpoints_in_mask_copy\u001b[0m\u001b[0;34m.\u001b[0m\u001b[0mshape\u001b[0m\u001b[0;34m[\u001b[0m\u001b[0;36m1\u001b[0m\u001b[0;34m]\u001b[0m\u001b[0;34m)\u001b[0m\u001b[0;34m\u001b[0m\u001b[0;34m\u001b[0m\u001b[0m\n\u001b[1;32m      2\u001b[0m \u001b[0;32mfor\u001b[0m \u001b[0mi\u001b[0m \u001b[0;32min\u001b[0m \u001b[0mrange\u001b[0m\u001b[0;34m(\u001b[0m\u001b[0mlen\u001b[0m\u001b[0;34m(\u001b[0m\u001b[0midx\u001b[0m\u001b[0;34m)\u001b[0m\u001b[0;34m)\u001b[0m\u001b[0;34m:\u001b[0m\u001b[0;34m\u001b[0m\u001b[0;34m\u001b[0m\u001b[0m\n\u001b[0;32m----> 3\u001b[0;31m     \u001b[0mtrue_inside\u001b[0m\u001b[0;34m[\u001b[0m\u001b[0mi\u001b[0m\u001b[0;34m]\u001b[0m \u001b[0;34m=\u001b[0m \u001b[0mV2_gz\u001b[0m\u001b[0;34m[\u001b[0m\u001b[0midx\u001b[0m\u001b[0;34m[\u001b[0m\u001b[0mi\u001b[0m\u001b[0;34m]\u001b[0m\u001b[0;34m]\u001b[0m\u001b[0;34m\u001b[0m\u001b[0;34m\u001b[0m\u001b[0m\n\u001b[0m",
      "\u001b[0;31mIndexError\u001b[0m: index 428832 is out of bounds for axis 0 with size 194125"
     ]
    }
   ],
   "source": [
    "true_inside = np.zeros(points_in_mask_copy.shape[1])\n",
    "\n",
    "for i in range(len(idx)):\n",
    "    true_inside[i] = V2_gz[idx[i]]"
   ]
  },
  {
   "cell_type": "code",
   "execution_count": 56,
   "id": "2fd60758",
   "metadata": {},
   "outputs": [
    {
     "data": {
      "text/plain": [
       "23115139"
      ]
     },
     "execution_count": 56,
     "metadata": {},
     "output_type": "execute_result"
    }
   ],
   "source": [
    "len(true_inside)"
   ]
  },
  {
   "cell_type": "code",
   "execution_count": 5,
   "id": "5d130523",
   "metadata": {},
   "outputs": [],
   "source": [
    "test = np.zeros(2000)"
   ]
  },
  {
   "cell_type": "code",
   "execution_count": 6,
   "id": "47d25935",
   "metadata": {},
   "outputs": [
    {
     "data": {
      "text/plain": [
       "array([0., 0., 0., ..., 0., 0., 0.])"
      ]
     },
     "execution_count": 6,
     "metadata": {},
     "output_type": "execute_result"
    }
   ],
   "source": []
  },
  {
   "cell_type": "code",
   "execution_count": null,
   "id": "7fec8588",
   "metadata": {},
   "outputs": [],
   "source": []
  }
 ],
 "metadata": {
  "kernelspec": {
   "display_name": "physics",
   "language": "python",
   "name": "python3"
  },
  "language_info": {
   "codemirror_mode": {
    "name": "ipython",
    "version": 3
   },
   "file_extension": ".py",
   "mimetype": "text/x-python",
   "name": "python",
   "nbconvert_exporter": "python",
   "pygments_lexer": "ipython3",
   "version": "3.9.13 (main, Aug 25 2022, 18:29:29) \n[Clang 12.0.0 ]"
  },
  "vscode": {
   "interpreter": {
    "hash": "436aad765654d140e77286f4d032f6ca323681fdd302c152e4201e048eb60744"
   }
  }
 },
 "nbformat": 4,
 "nbformat_minor": 5
}
