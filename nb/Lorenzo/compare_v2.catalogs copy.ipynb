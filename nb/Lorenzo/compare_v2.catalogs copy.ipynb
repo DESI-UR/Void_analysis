{
 "cells": [
  {
   "cell_type": "code",
   "execution_count": 56,
   "id": "a03db698",
   "metadata": {},
   "outputs": [],
   "source": [
    "from astropy.table import Table\n",
    "\n",
    "import matplotlib.pyplot as plt\n",
    "from mpl_toolkits import mplot3d\n",
    "%matplotlib notebook\n",
    "\n",
    "import numpy as np\n",
    "import time\n",
    "from sklearn import neighbors\n",
    "from sklearn import decomposition\n",
    "import joblib\n",
    "from vast.voidfinder._voidfinder_cython_find_next import MaskChecker\n",
    "from vast.voidfinder.distance import z_to_comoving_dist\n",
    "from vast.voidfinder import ra_dec_to_xyz\n",
    "import pickle\n",
    "import pandas as pd"
   ]
  },
  {
   "cell_type": "markdown",
   "id": "8970e0ce",
   "metadata": {},
   "source": [
    "Update:\n",
    "- Trying to figure out if we can plot ra v dec, probs not\n",
    "- If not, needed to figure out how to work with ra_dec_to_xyz() without Rgal variable (Douglass)"
   ]
  },
  {
   "cell_type": "code",
   "execution_count": 2,
   "id": "c7efc853",
   "metadata": {},
   "outputs": [],
   "source": [
    "mask_file_name = \"/Users/lorenzomendoza/Desktop/Research/Function/NSA_main_mask.pickle\""
   ]
  },
  {
   "cell_type": "code",
   "execution_count": 3,
   "id": "017aeff5",
   "metadata": {},
   "outputs": [],
   "source": [
    "temp_infile = open(mask_file_name, \"rb\")\n",
    "mask, mask_resolution = pickle.load(temp_infile)\n",
    "temp_infile.close()"
   ]
  },
  {
   "cell_type": "markdown",
   "id": "fc291759",
   "metadata": {},
   "source": [
    "## V$^2$ void catalog"
   ]
  },
  {
   "cell_type": "markdown",
   "id": "934b8e55",
   "metadata": {},
   "source": [
    "Generating galaxy array, .npy"
   ]
  },
  {
   "cell_type": "code",
   "execution_count": 4,
   "id": "5872c0c3",
   "metadata": {},
   "outputs": [],
   "source": [
    "V2_galzones = Table.read(\"/Users/lorenzomendoza/Desktop/Research/Function/V2_REVOLVER-nsa_v1_0_1_galzones.dat\",format='ascii.commented_header')\n",
    "V2_zonevoids = Table.read(\"/Users/lorenzomendoza/Desktop/Research/Function/V2_REVOLVER-nsa_v1_0_1_zonevoids.dat\",format='ascii.commented_header')\n",
    "\n",
    "# V2_gz = np.zeros(len(V2_zonevoids['zone']),dtype=int)\n",
    "# V2_gz[V2_zonevoids['zone'] > -1] = 1\n",
    "'''\n",
    "for i in range(len(V2_gz)):\n",
    "    if V2_galzones['zone'][i] > -1:\n",
    "        #V2_gz[i] = V2_zonevoids['void1'][V2_galzones['zone'][i]]\n",
    "        V2_gz[i] = 1\n",
    "''';"
   ]
  },
  {
   "cell_type": "code",
   "execution_count": 5,
   "id": "a4c01f66",
   "metadata": {},
   "outputs": [],
   "source": [
    "V2_gz = np.zeros(len(V2_galzones['zone']),dtype=int)\n",
    "\n",
    "for i in range(len(V2_gz)):\n",
    "    \n",
    "    if V2_zonevoids['void1'][V2_galzones['zone'][i]] > -1:\n",
    "        V2_gz[i] = 1"
   ]
  },
  {
   "cell_type": "code",
   "execution_count": 6,
   "id": "7c91d9ba",
   "metadata": {},
   "outputs": [
    {
     "data": {
      "text/plain": [
       "194125"
      ]
     },
     "execution_count": 6,
     "metadata": {},
     "output_type": "execute_result"
    }
   ],
   "source": [
    "len(V2_gz)"
   ]
  },
  {
   "cell_type": "code",
   "execution_count": 7,
   "id": "2176de63",
   "metadata": {},
   "outputs": [
    {
     "data": {
      "text/plain": [
       "array([0, 0, 1, ..., 1, 0, 1])"
      ]
     },
     "execution_count": 7,
     "metadata": {},
     "output_type": "execute_result"
    }
   ],
   "source": [
    "V2_gz"
   ]
  },
  {
   "cell_type": "markdown",
   "id": "37c9c646",
   "metadata": {},
   "source": [
    "Extract galaxy void membership. This returns the points in the data set that are V2 voids. \n",
    "\n",
    "If returns -1, then not V2"
   ]
  },
  {
   "cell_type": "code",
   "execution_count": 8,
   "id": "a16b6be3",
   "metadata": {},
   "outputs": [],
   "source": [
    "file_name = \"/Users/lorenzomendoza/Desktop/Research/Function/V2_nsa_v1_0_1_gal.txt\""
   ]
  },
  {
   "cell_type": "code",
   "execution_count": 9,
   "id": "6422055b",
   "metadata": {},
   "outputs": [],
   "source": [
    "data_table_vl = Table.read(file_name, format = \"ascii.commented_header\")"
   ]
  },
  {
   "cell_type": "code",
   "execution_count": 10,
   "id": "68740fb8",
   "metadata": {},
   "outputs": [],
   "source": [
    "omega_M = np.float32(0.3)\n",
    "h = np.float32(1.0)\n",
    "Rgal = z_to_comoving_dist(data_table_vl['redshift'].astype(np.float32),omega_M,h)\n",
    "data_table_vl['Rgal'] = Rgal"
   ]
  },
  {
   "cell_type": "code",
   "execution_count": 11,
   "id": "b286a360",
   "metadata": {},
   "outputs": [],
   "source": [
    "z_boolean = data_table_vl['redshift']>0 #Edge Case: 513626 = [[-0.  0.  0.]]\n",
    "data_table_vl = data_table_vl[z_boolean]"
   ]
  },
  {
   "cell_type": "code",
   "execution_count": 12,
   "id": "8ba49bd2",
   "metadata": {},
   "outputs": [],
   "source": [
    "galaxies_xyz = ra_dec_to_xyz(data_table_vl)"
   ]
  },
  {
   "cell_type": "code",
   "execution_count": 13,
   "id": "70031474",
   "metadata": {},
   "outputs": [],
   "source": [
    "data_table_vl['x'] = galaxies_xyz[:,0]\n",
    "data_table_vl['y'] = galaxies_xyz[:,1]\n",
    "data_table_vl['z'] = galaxies_xyz[:,2]"
   ]
  },
  {
   "cell_type": "code",
   "execution_count": 14,
   "id": "260cb253",
   "metadata": {},
   "outputs": [],
   "source": [
    "# create boolean mask\n",
    "boolmask = np.isin(data_table_vl['index'], V2_galzones['gal'])\n",
    "\n",
    "# assign values using boolean indexing\n",
    "V2_galzones['x'] = data_table_vl['x'][boolmask]\n",
    "V2_galzones['y'] = data_table_vl['y'][boolmask]\n",
    "V2_galzones['z'] = data_table_vl['z'][boolmask]"
   ]
  },
  {
   "cell_type": "markdown",
   "id": "4e713be1",
   "metadata": {},
   "source": [
    "## Remove all galaxies outside the mask\n",
    "\n",
    "For each galaxy, check to see if it is in the mask.  If it is, keep it!  If it is not, throw it away.\n",
    "1. Define the variables `rmin` and `rmax`. Values are input by user. \n",
    "2. Create a boolean array called `galaxies_boolean`, with the same length as `data_table_vl`, filled with `True` values.\n",
    "3. Create a `MaskChecker` object using the values `0`, `mask`, `mask_resolution`, `rmin`, and `rmax`.\n",
    "4. Iterate over each element `i` in `data_table_vl`.\n",
    "5. Define a variable `curr_gal` as the `i`-th element of the `galaxies_xyz` array reshaped into a 1x3 array.\n",
    "6. Call the `not_in_mask` method of the `mask_checker` object on `curr_gal`, and assign the result to the variable `not_in_mask`.\n",
    "7. Set the `i`-th element of the `galaxies_boolean` array to the opposite of the boolean value of `not_in_mask`.\n",
    "8. After the loop has completed, print the time to run the loop.\n",
    "9. Filter the `data_table_vl` array using the `galaxies_boolean` array to create a new array called `galaxies_in_mask`.\n",
    "10. Print the sum of the `True` values in `galaxies_boolean`, the sum of the `False` values in `galaxies_boolean`, the shape of `galaxies_boolean`, and the `galaxies_in_mask` array.\n"
   ]
  },
  {
   "cell_type": "code",
   "execution_count": 15,
   "id": "e05ab2e2",
   "metadata": {},
   "outputs": [],
   "source": [
    "def calc_volume_boundaries(void_cat_A, void_cat_B):\n",
    "    \"\"\"Compute the boundaries of the minimal rectangular volume (parallelpiped)\n",
    "    that completely contains two void catalogs.\n",
    "    \n",
    "    Parameters\n",
    "    ----------\n",
    "    void_cat_A : astropy.Table\n",
    "        Table of void data from first catalog.\n",
    "    void_cat_B : astropy.Table\n",
    "        Table of void data from second catalog.\n",
    "        \n",
    "    Returns\n",
    "    -------\n",
    "    x_min : float\n",
    "    x_max : float\n",
    "    y_min : float\n",
    "    y_max : float\n",
    "    z_min : float\n",
    "    z_max : float\n",
    "    \"\"\"\n",
    "    x_min = np.minimum(np.min(void_cat_A['x']), np.min(void_cat_B['x']))\n",
    "    x_max = np.maximum(np.max(void_cat_A['x']), np.max(void_cat_B['x']))\n",
    "    \n",
    "    y_min = np.minimum(np.min(void_cat_A['y']), np.min(void_cat_B['y']))\n",
    "    y_max = np.maximum(np.max(void_cat_A['y']), np.max(void_cat_B['y']))\n",
    "\n",
    "    z_min = np.minimum(np.min(void_cat_A['z']), np.min(void_cat_B['z']))\n",
    "    z_max = np.maximum(np.max(void_cat_A['z']), np.max(void_cat_B['z']))\n",
    "\n",
    "    return x_min, x_max, y_min, y_max, z_min, z_max\n",
    "\n",
    "def generate_grid_points(x_min, x_max, y_min, y_max, z_min, z_max):\n",
    "    \"\"\"Creates a dense rectangular grid of points in 3D for the void volume calculation.\n",
    "    \n",
    "    Returns\n",
    "    -------\n",
    "    xyz : list\n",
    "        2D list of points in 3D space.\n",
    "    \"\"\"\n",
    "    \n",
    "    x_range = np.arange(x_min, x_max) # default spacing: 1 Megaparsec\n",
    "    y_range = np.arange(y_min, y_max)\n",
    "    z_range = np.arange(z_min, z_max)\n",
    "\n",
    "\n",
    "    # Creating a meshgrid from the ranges to \n",
    "    X,Y,Z = np.meshgrid(x_range,y_range,z_range)\n",
    "\n",
    "    x_points = np.ravel(X)\n",
    "    y_points = np.ravel(Y)\n",
    "    z_points = np.ravel(Z)\n",
    "    \n",
    "    point_coords = np.array([x_points, y_points, z_points])\n",
    "    \n",
    "    return point_coords"
   ]
  },
  {
   "cell_type": "markdown",
   "id": "06c33fbb",
   "metadata": {},
   "source": [
    "xmin, xmax, ymin, ymax, zmin, zmax = calc_volume_boundaries(galaxies_in_mask, galaxies_in_mask)\n",
    "\n",
    "Calls the `calc_volume_boundaries` function on the `galaxies_in_mask` array and assigns the returned values to the variables `xmin`, `xmax`, `ymin`, `ymax`, `zmin`, and `zmax`.\n",
    "\n",
    "---\n",
    "\n",
    "pts = generate_grid_points(xmin, xmax, ymin, ymax, zmin, zmax)\n",
    "\n",
    "Calls the `generate_grid_points` function with the values `xmin`, `xmax`, `ymin`, `ymax`, `zmin`, and `zmax` as arguments and assigns the returned value to the `pts` variable.\n",
    "\n",
    "---\n",
    "\n",
    "b = pts.shape\n",
    "print(b)\n",
    "\n",
    "Gets the shape of the `pts` array and assigns it to the `b` variable. The shape of the array is printed.\n"
   ]
  },
  {
   "cell_type": "code",
   "execution_count": null,
   "id": "494d9911",
   "metadata": {},
   "outputs": [],
   "source": []
  },
  {
   "cell_type": "markdown",
   "id": "9c2da819",
   "metadata": {},
   "source": [
    "MaskChecker"
   ]
  },
  {
   "cell_type": "code",
   "execution_count": 31,
   "id": "d401e860",
   "metadata": {},
   "outputs": [],
   "source": [
    "def mask_point_filter(pts, mask, mask_resolution, rmin=0, rmax=312.89816):\n",
    "    start_time = time.time()\n",
    "    points_boolean = np.ones(pts.shape[1], dtype = bool)\n",
    "\n",
    "    mask_checker = MaskChecker(0,\n",
    "                            mask,\n",
    "                            mask_resolution,\n",
    "                            rmin,\n",
    "                            rmax)\n",
    "\n",
    "    for i in range(pts.shape[1]):\n",
    "        curr_pt = pts[:,i]\n",
    "        not_in_mask = mask_checker.not_in_mask(curr_pt)\n",
    "        points_boolean[i] = not bool(not_in_mask)\n",
    "\n",
    "    points_in_mask = pts[:,points_boolean]\n",
    "    print('Time taken:', time.time() - start_time)\n",
    "    print('Points in Mask Shape:', points_in_mask.shape)\n",
    "    print('Sum of Points IN:', np.sum(points_boolean))\n",
    "    print('Sum of Points OUT:', np.sum(~points_boolean))\n",
    "    print('Boolean Shape:', points_boolean.shape)\n",
    "    print('Points in Mask:',points_in_mask)\n",
    "    return points_in_mask, points_boolean\n"
   ]
  },
  {
   "cell_type": "code",
   "execution_count": 17,
   "id": "98b893b3",
   "metadata": {},
   "outputs": [],
   "source": [
    "def kd_tree(void_cat):\n",
    "    \"\"\"We are creating a function to make a KDTree to find the number of points in \n",
    "    and out of a catalogue.\n",
    "    \n",
    "    Parameters\n",
    "    ----------\n",
    "    point_coords: ndarray has a shape of (3,N)\n",
    "        This is the list of points to query the given void catalogue. N is the number of points given. \n",
    "    void_cat: Astropy Table\n",
    "        This is the given void catalogue.\n",
    "    \n",
    "    Returns\n",
    "    -------\n",
    "    true_inside: ndarray of shape (N,1)\n",
    "        Is this the boolean array of length N (same length as point_coords). True means that 1 point \n",
    "        is inside the hole.\n",
    "    \"\"\"\n",
    "#############\n",
    "    cx = void_cat['x']\n",
    "    cy = void_cat['y']\n",
    "    cz = void_cat['z']\n",
    "\n",
    "    sphere_coords = np.array([cx, cy, cz])\n",
    "\n",
    "    #The .T is meant to transpose the array from (3,1054) to (1054,3)\n",
    "    sphere_tree = neighbors.KDTree(sphere_coords.T)\n",
    "    # print(\"KDTree\")\n",
    "\n",
    "##############\n",
    "    \n",
    "    return sphere_tree"
   ]
  },
  {
   "cell_type": "code",
   "execution_count": 18,
   "id": "2191fc7c",
   "metadata": {},
   "outputs": [],
   "source": [
    "def point_query(point_coords, sphere_tree, void_cat):\n",
    "    # print(\"Starting Query\")\n",
    "    #Void cat classifcation\n",
    "    true_inside = np.zeros(point_coords.shape[1])\n",
    "\n",
    "    idx = sphere_tree.query(point_coords.T, k = 1, return_distance=False)\n",
    "    \n",
    "    #true_inside = void_cat[idx]\n",
    "    for i in range(len(idx)):\n",
    "        true_inside[i] = void_cat[idx[i]]\n",
    "    \n",
    "    return true_inside"
   ]
  },
  {
   "cell_type": "code",
   "execution_count": 19,
   "id": "5b67d135",
   "metadata": {},
   "outputs": [],
   "source": [
    "# start_time = time.time()\n",
    "\n",
    "# (var, n_points) = points_in_mask.shape\n",
    "\n",
    "# # Takes about 1.5 mins per query\n",
    "# points_in_mask_copy = points_in_mask.copy()\n",
    "\n",
    "# kdTree_V1 = kd_tree(V2_galzones)\n",
    "# kdTree_V2 = kd_tree(V2_galzones)\n",
    "\n",
    "# true_inside_V1 = point_query(points_in_mask_copy, kdTree_V1, V2_gz)\n",
    "# count_in_V1 = np.sum(true_inside_V1)\n",
    "# count_out_V1 = n_points - count_in_V1\n",
    "\n",
    "# true_inside_V2 = point_query(points_in_mask_copy, kdTree_V2, V2_gz)\n",
    "# count_in_V2 = np.sum(true_inside_V2)\n",
    "# count_out_V2 = n_points - count_in_V2\n",
    "\n",
    "# inside_both = np.sum(np.logical_and(true_inside_V1, true_inside_V2))\n",
    "# inside_neither = np.sum(np.logical_not(np.logical_or(true_inside_V1, true_inside_V2)))\n",
    "# inside_V1 = np.sum(np.logical_and(true_inside_V1, np.logical_not(true_inside_V2)))\n",
    "# inside_V2 = np.sum(np.logical_and(true_inside_V2, np.logical_not(true_inside_V1)))\n",
    "\n",
    "\n",
    "\n",
    "\n",
    "# print(time.time() - start_time)\n",
    "# print('\\nNumber of points inside V1:', count_in_V1)\n",
    "# print('\\nNumber of points outside V2:', count_out_V1)\n",
    "# print('\\nNumber of points inside V1:', count_in_V2)\n",
    "# print('\\nNumber of points outside V2:', count_out_V2)\n",
    "# print(\"\\nThis is the total number of points: {}\".format(n_points))\n",
    "# # print(\"\\nThis is the total number of points in Delaunay: {}\".format(total_DEL))"
   ]
  },
  {
   "cell_type": "code",
   "execution_count": 20,
   "id": "0b117222",
   "metadata": {},
   "outputs": [],
   "source": [
    "\n",
    "\n",
    "# def point_query(point_coords, sphere_tree, void_cat):\n",
    "#     # Reduce dimensionality using PCA\n",
    "#     pca = decomposition.PCA(n_components=10)\n",
    "#     point_coords_pca = pca.fit_transform(point_coords)\n",
    "\n",
    "#     # Use a pre-built index\n",
    "#     if sphere_tree is None:\n",
    "#         sphere_tree = neighbors.BallTree(point_coords_pca)\n",
    "    \n",
    "#     # Parallelize the computation\n",
    "#     true_inside = joblib.Parallel(n_jobs=-1)(\n",
    "#         joblib.delayed(_query_single_point)(\n",
    "#             point_coords_pca[i], sphere_tree, void_cat) for i in range(point_coords.shape[0])\n",
    "#     )\n",
    "\n",
    "#     return np.array(true_inside)\n",
    "\n",
    "# def _query_single_point(point, sphere_tree, void_cat):\n",
    "#     idx = sphere_tree.query(point.reshape(1, -1), k=1, return_distance=False)\n",
    "#     return void_cat[idx[0]]"
   ]
  },
  {
   "cell_type": "code",
   "execution_count": 35,
   "id": "6e093073",
   "metadata": {},
   "outputs": [],
   "source": [
    "def count_points(points_in_mask, galzones_V1, galzones_V2, V2_gz):\n",
    "    start_time = time.time()\n",
    "    (var, n_points) = points_in_mask.shape\n",
    "\n",
    "    # Takes about 1.5 mins per query\n",
    "    points_in_mask_copy = points_in_mask.copy()\n",
    "\n",
    "    kdTree_V1 = kd_tree(galzones_V1)\n",
    "    kdTree_V2 = kd_tree(galzones_V2)\n",
    "\n",
    "    true_inside_V1 = point_query(points_in_mask_copy, kdTree_V1, V2_gz)\n",
    "    count_in_V1 = np.sum(true_inside_V1)\n",
    "    count_out_V1 = n_points - count_in_V1\n",
    "\n",
    "    true_inside_V2 = point_query(points_in_mask_copy, kdTree_V2, V2_gz)\n",
    "    count_in_V2 = np.sum(true_inside_V2)\n",
    "    count_out_V2 = n_points - count_in_V2\n",
    "\n",
    "    inside_both = np.sum(np.logical_and(true_inside_V1, true_inside_V2))\n",
    "    inside_neither = np.sum(np.logical_not(np.logical_or(true_inside_V1, true_inside_V2)))\n",
    "    inside_V1 = np.sum(np.logical_and(true_inside_V1, np.logical_not(true_inside_V2)))\n",
    "    inside_V2 = np.sum(np.logical_and(true_inside_V2, np.logical_not(true_inside_V1)))\n",
    "    \n",
    "\n",
    "\n",
    "\n",
    "    print(\"Runtime:\", time.time() - start_time)\n",
    "    print('\\nNumber of points inside V1:', count_in_V1)\n",
    "    print('\\nNumber of points outside V2:', count_out_V1)\n",
    "    print('\\nNumber of points inside V1:', count_in_V2)\n",
    "    print('\\nNumber of points outside V2:', count_out_V2)\n",
    "    print(\"\\nThis is the total number of points: {}\".format(n_points))\n",
    "    # print(\"\\nThis is the total number of points in Delaunay: {}\".format(total_DEL))\n",
    "    return (count_in_V1, count_out_V1, count_in_V2, count_out_V2, inside_both, inside_neither, inside_V1, inside_V2, n_points)"
   ]
  },
  {
   "cell_type": "code",
   "execution_count": 22,
   "id": "85be6fc4",
   "metadata": {},
   "outputs": [],
   "source": [
    "xmin, xmax, ymin, ymax, zmin, zmax = calc_volume_boundaries(V2_galzones, V2_galzones)\n",
    "\n",
    "#This line makes creates the points in between \n",
    "\n"
   ]
  },
  {
   "cell_type": "code",
   "execution_count": 23,
   "id": "650b8549",
   "metadata": {},
   "outputs": [
    {
     "name": "stdout",
     "output_type": "stream",
     "text": [
      "(3, 64749960)\n"
     ]
    }
   ],
   "source": [
    "pts = generate_grid_points(xmin, xmax, ymin, ymax, zmin, zmax)\n",
    "\n",
    "b = pts.shape\n",
    "print(b)"
   ]
  },
  {
   "cell_type": "code",
   "execution_count": 33,
   "id": "57a480f6",
   "metadata": {},
   "outputs": [
    {
     "name": "stdout",
     "output_type": "stream",
     "text": [
      "Time taken: 85.28129005432129\n",
      "Points in Mask Shape: (3, 23119361)\n",
      "Sum of Points IN: 23119361\n",
      "Sum of Points OUT: 41630599\n",
      "Boolean Shape: (64749960,)\n",
      "Points in Mask: [[-108.17809884 -108.17809884 -108.17809884 ... -138.17809884\n",
      "  -138.17809884 -138.17809884]\n",
      " [-293.30349342 -293.30349342 -293.30349342 ...  270.69650658\n",
      "   270.69650658  270.69650658]\n",
      " [  -5.14470225   -4.14470225   -3.14470225 ...   71.85529775\n",
      "    72.85529775   73.85529775]]\n"
     ]
    }
   ],
   "source": [
    "points_in_mask, points_boolean = mask_point_filter(pts, mask, mask_resolution)\n"
   ]
  },
  {
   "cell_type": "code",
   "execution_count": 36,
   "id": "e979274d",
   "metadata": {},
   "outputs": [
    {
     "name": "stdout",
     "output_type": "stream",
     "text": [
      "Runtime: 192.09627866744995\n",
      "\n",
      "Number of points inside V1: 20857709.0\n",
      "\n",
      "Number of points outside V2: 2261652.0\n",
      "\n",
      "Number of points inside V1: 20857709.0\n",
      "\n",
      "Number of points outside V2: 2261652.0\n",
      "\n",
      "This is the total number of points: 23119361\n"
     ]
    }
   ],
   "source": [
    "(count_in_V1, count_out_V1, count_in_V2, count_out_V2, inside_both, inside_neither, inside_V1, inside_V2, n_points) = count_points(points_in_mask, V2_galzones, V2_galzones, V2_gz)"
   ]
  },
  {
   "cell_type": "code",
   "execution_count": 47,
   "id": "7acf0b53",
   "metadata": {},
   "outputs": [
    {
     "name": "stdout",
     "output_type": "stream",
     "text": [
      "\n",
      "Number of points inside V1: 20857709.0\n",
      "\n",
      "Number of points outside V1: 2261652.0\n",
      "\n",
      "Standard Deviation of V1: 0.0\n",
      "\n",
      "Ratio of  V1 Points: 0.9021749779329974\n",
      "\n",
      "Ratio SD of V1: 0.0\n",
      "\n",
      "Number of points inside V2: 20857709.0\n",
      "\n",
      "Number of points outside V2: 2261652.0\n",
      "\n",
      "Standard Deviation of V2: 0.0\n",
      "\n",
      "Ratio of V2 Points: 0.9021749779329974\n",
      "\n",
      "Ratio SD of V2: 0.0\n",
      "\n",
      "Number of points inside both: 20857709\n",
      "\n",
      "Number of points outside both: 2261652\n",
      "\n",
      "Standard Deviation of both: 0.0\n",
      "\n",
      "Ratio of Points Inside: 0.9021749779329974\n",
      "\n",
      "Ratio SD of Both: 0.0\n",
      "\n",
      "Number of points inside neither: 2261652\n",
      "\n",
      "Number of points outside neither: 2261652\n",
      "\n",
      "Ratio of Points Outside: 0.09782502206700264\n",
      "\n",
      "Ratio SD of Neither: 0.0\n"
     ]
    }
   ],
   "source": [
    "r_V1 = count_in_V1 / n_points\n",
    "r_V2 = count_in_V2 / n_points\n",
    "r_V1_V2 = np.sum(inside_both) / n_points\n",
    "r_not_V1_V2 = np.sum(inside_neither) / n_points\n",
    "r_V1_not_V2 = np.sum(inside_V1) / n_points\n",
    "r_V2_not_V1 = np.sum(inside_V2) / n_points\n",
    "\n",
    "average_V1 = np.mean(count_in_V1)\n",
    "r_average_V1 = average_V1 / n_points\n",
    "std_V1 = np.std(count_in_V1)\n",
    "r_std_V1 = std_V1 / n_points\n",
    "print(\"\\nNumber of points inside V1: {}\".format(count_in_V1))\n",
    "print(\"\\nNumber of points outside V1: {}\".format(count_out_V1))\n",
    "print(\"\\nStandard Deviation of V1: {}\".format(std_V1))\n",
    "\n",
    "print('\\nRatio of  V1 Points:', r_average_V1)\n",
    "print('\\nRatio SD of V1:', r_std_V1)\n",
    "      \n",
    "average_V2 = np.mean(count_in_V2)\n",
    "r_average_V2 = average_V2 / n_points\n",
    "std_V2 = np.std(count_in_V2)\n",
    "r_std_V2 = std_V2 / n_points\n",
    "print(\"\\nNumber of points inside V2: {}\".format(count_in_V2))\n",
    "print(\"\\nNumber of points outside V2: {}\".format(count_out_V2))\n",
    "print(\"\\nStandard Deviation of V2: {}\".format(std_V2))\n",
    "print('\\nRatio of V2 Points:', r_average_V2)\n",
    "print('\\nRatio SD of V2:', r_std_V2)\n",
    "\n",
    "\n",
    "average_inside = np.mean(inside_both)\n",
    "r_average_inside = average_inside / n_points\n",
    "\n",
    "std_both = np.std(inside_both)\n",
    "r_std_both = std_both / n_points\n",
    "print(\"\\nNumber of points inside both: {}\".format(inside_both))\n",
    "print(\"\\nNumber of points outside both: {}\".format(inside_neither))\n",
    "print(\"\\nStandard Deviation of both: {}\".format(std_both))\n",
    "print('\\nRatio of Points Inside:', r_average_inside)\n",
    "print('\\nRatio SD of Both:', r_std_both)\n",
    "\n",
    "\n",
    "average_outside = np.mean(inside_neither)\n",
    "r_average_outside = average_outside / n_points\n",
    "\n",
    "std_outside = np.std(inside_neither)\n",
    "r_std_outside = std_outside / n_points\n",
    "print(\"\\nNumber of points inside neither: {}\".format(inside_neither))\n",
    "print(\"\\nNumber of points outside neither: {}\".format(inside_neither))\n",
    "print('\\nRatio of Points Outside:', r_average_outside)\n",
    "print('\\nRatio SD of Neither:', r_std_outside)\n",
    "\n",
    "\n",
    "# average_in_V1 = np.mean(inside_V1)\n",
    "# r_average_in_V1 = average_in_V1 / n_points\n",
    "\n",
    "# std_in_V1 = np.std(inside_neither)\n",
    "# r_std_in_V1 = std_in_V1 / n_points\n",
    "\n",
    "\n",
    "# print('\\nRatio of Points in V1:', r_average_in_V1)\n",
    "# print('\\nRatio SD:', r_std_in_V1)\n",
    "\n",
    "\n",
    "# average_in_V2 = np.mean(inside_V2)\n",
    "# r_average_in_V2 = average_in_V2 / n_points\n",
    "\n",
    "# std_in_V2 = np.std(inside_neither)\n",
    "# r_std_in_V2 = std_in_V2 / n_points\n",
    "\n",
    "# print('\\nRatio of Points in V2:', average_in_V2)\n",
    "# print('\\nRatio SD:', r_std_in_V2)"
   ]
  },
  {
   "cell_type": "code",
   "execution_count": 44,
   "id": "dfde952d",
   "metadata": {},
   "outputs": [
    {
     "name": "stdout",
     "output_type": "stream",
     "text": [
      "\n",
      "Number of points inside V2: 20857709.0\n",
      "\n",
      "Number of points outside V2: 2261652.0\n",
      "\n",
      "Standard Deviation of V2: 0.0\n",
      "\n",
      "Ratio of V2 Points: 0.9021749779329974\n",
      "\n",
      "Ratio SD: 0.0\n"
     ]
    }
   ],
   "source": [
    "average_V2 = np.mean(count_in_V2)\n",
    "r_average_V2 = average_V2 / n_points\n",
    "std_V2 = np.std(count_in_V2)\n",
    "r_std_V2 = std_V2 / n_points\n",
    "print(\"\\nNumber of points inside V2: {}\".format(count_in_V2))\n",
    "print(\"\\nNumber of points outside V2: {}\".format(count_out_V2))\n",
    "print(\"\\nStandard Deviation of V2: {}\".format(std_V2))\n",
    "print('\\nRatio of V2 Points:', r_average_V2)\n",
    "print('\\nRatio SD:', r_std_V2)\n",
    "\n",
    "\n"
   ]
  },
  {
   "cell_type": "code",
   "execution_count": 45,
   "id": "5f2738aa",
   "metadata": {},
   "outputs": [
    {
     "name": "stdout",
     "output_type": "stream",
     "text": [
      "\n",
      "Number of points inside both: 20857709\n",
      "\n",
      "Number of points outside both: 2261652\n",
      "\n",
      "Standard Deviation of both: 0.0\n",
      "\n",
      "Ratio of Points Inside: 0.9021749779329974\n",
      "\n",
      "Ratio SD: 0.0\n"
     ]
    }
   ],
   "source": [
    "average_inside = np.mean(inside_both)\n",
    "r_average_inside = average_inside / n_points\n",
    "\n",
    "std_both = np.std(inside_both)\n",
    "r_std_both = std_both / n_points\n",
    "print(\"\\nNumber of points inside both: {}\".format(inside_both))\n",
    "print(\"\\nNumber of points outside both: {}\".format(inside_neither))\n",
    "print(\"\\nStandard Deviation of both: {}\".format(std_both))\n",
    "print('\\nRatio of Points Inside:', r_average_inside)\n",
    "print('\\nRatio SD:', r_std_both)\n",
    "\n",
    "\n"
   ]
  },
  {
   "cell_type": "code",
   "execution_count": 46,
   "id": "c7c64940",
   "metadata": {},
   "outputs": [
    {
     "name": "stdout",
     "output_type": "stream",
     "text": [
      "\n",
      "Number of points inside neither: 2261652\n",
      "\n",
      "Number of points outside neither: 2261652\n",
      "\n",
      "Standard Deviation of neither: 0.0\n",
      "\n",
      "Ratio of Points Outside: 0.09782502206700264\n",
      "\n",
      "Ratio SD: 0.0\n"
     ]
    }
   ],
   "source": [
    "average_outside = np.mean(inside_neither)\n",
    "r_average_outside = average_outside / n_points\n",
    "\n",
    "std_outside = np.std(inside_neither)\n",
    "r_std_outside = std_outside / n_points\n",
    "print(\"\\nNumber of points inside neither: {}\".format(inside_neither))\n",
    "print(\"\\nNumber of points outside neither: {}\".format(inside_neither))\n",
    "print(\"\\nStandard Deviation of neither: {}\".format(std_outside))\n",
    "print('\\nRatio of Points Outside:', r_average_outside)\n",
    "print('\\nRatio SD:', r_std_outside)"
   ]
  },
  {
   "cell_type": "code",
   "execution_count": 60,
   "id": "2df3b1f9",
   "metadata": {},
   "outputs": [],
   "source": [
    "def calculate_ratios_and_stats(count_in_V1, count_out_V1, count_in_V2, count_out_V2, inside_both, inside_neither, inside_V1, inside_V2, n_points):\n",
    "    r_V1 = count_in_V1 / n_points\n",
    "    r_V2 = count_in_V2 / n_points\n",
    "    r_V1_V2 = np.sum(inside_both) / n_points\n",
    "    r_not_V1_V2 = np.sum(inside_neither) / n_points\n",
    "    r_V1_not_V2 = np.sum(inside_V1) / n_points\n",
    "    r_V2_not_V1 = np.sum(inside_V2) / n_points\n",
    "\n",
    "    average_V1 = np.mean(count_in_V1)\n",
    "    r_average_V1 = average_V1 / n_points\n",
    "    std_V1 = np.std(count_in_V1)\n",
    "    r_std_V1 = std_V1 / n_points\n",
    "\n",
    "    average_V2 = np.mean(count_in_V2)\n",
    "    r_average_V2 = average_V2 / n_points\n",
    "    std_V2 = np.std(count_in_V2)\n",
    "    r_std_V2 = std_V2 / n_points\n",
    "\n",
    "    average_inside = np.mean(inside_both)\n",
    "    r_average_inside = average_inside / n_points\n",
    "    std_both = np.std(inside_both)\n",
    "    r_std_both = std_both / n_points\n",
    "\n",
    "    average_outside = np.mean(inside_neither)\n",
    "    r_average_outside = average_outside / n_points\n",
    "    std_outside = np.std(inside_neither)\n",
    "    r_std_outside = std_outside / n_points\n",
    "\n",
    "    results = {\n",
    "        'V1': [average_V1, std_V1, r_V1, r_average_V1, r_std_V1, r_V1_not_V2],\n",
    "        'V2': [average_V2, std_V2, r_V2, r_average_V2, r_std_V2, r_V2_not_V1],\n",
    "        'Both': [average_inside, std_both, r_V1_V2, r_average_inside, r_std_both, \"N/A\"],\n",
    "        'Neither': [average_outside, std_outside, r_not_V1_V2, r_average_outside, r_std_outside, \"N/A\"],\n",
    "    }\n",
    "    # Create a pandas DataFrame with the results\n",
    "    results_df = pd.DataFrame.from_dict(results, orient='index', columns=['Average', 'SD', 'Ratio', 'Ratio Average', 'Ratio SD', 'In V1 & Not V2', 'In V2 & Not V1'])\n",
    "    \n",
    "    return results_df\n"
   ]
  },
  {
   "cell_type": "code",
   "execution_count": 61,
   "id": "e06299de",
   "metadata": {},
   "outputs": [],
   "source": [
    "results = calculate_ratios_and_stats(count_in_V1, count_out_V1, count_in_V2, count_out_V2, inside_both, inside_neither, inside_V1, inside_V2, n_points)\n"
   ]
  },
  {
   "cell_type": "code",
   "execution_count": 62,
   "id": "9e3a2735",
   "metadata": {},
   "outputs": [
    {
     "data": {
      "text/html": [
       "<div>\n",
       "<style scoped>\n",
       "    .dataframe tbody tr th:only-of-type {\n",
       "        vertical-align: middle;\n",
       "    }\n",
       "\n",
       "    .dataframe tbody tr th {\n",
       "        vertical-align: top;\n",
       "    }\n",
       "\n",
       "    .dataframe thead th {\n",
       "        text-align: right;\n",
       "    }\n",
       "</style>\n",
       "<table border=\"1\" class=\"dataframe\">\n",
       "  <thead>\n",
       "    <tr style=\"text-align: right;\">\n",
       "      <th></th>\n",
       "      <th>Average</th>\n",
       "      <th>SD</th>\n",
       "      <th>Ratio</th>\n",
       "      <th>Ratio Average</th>\n",
       "      <th>Ratio SD</th>\n",
       "    </tr>\n",
       "  </thead>\n",
       "  <tbody>\n",
       "    <tr>\n",
       "      <th>V1</th>\n",
       "      <td>20857709.0</td>\n",
       "      <td>0.0</td>\n",
       "      <td>0.902175</td>\n",
       "      <td>0.902175</td>\n",
       "      <td>0.0</td>\n",
       "    </tr>\n",
       "    <tr>\n",
       "      <th>V2</th>\n",
       "      <td>20857709.0</td>\n",
       "      <td>0.0</td>\n",
       "      <td>0.902175</td>\n",
       "      <td>0.902175</td>\n",
       "      <td>0.0</td>\n",
       "    </tr>\n",
       "    <tr>\n",
       "      <th>Both</th>\n",
       "      <td>20857709.0</td>\n",
       "      <td>0.0</td>\n",
       "      <td>0.902175</td>\n",
       "      <td>0.902175</td>\n",
       "      <td>0.0</td>\n",
       "    </tr>\n",
       "    <tr>\n",
       "      <th>Neither</th>\n",
       "      <td>2261652.0</td>\n",
       "      <td>0.0</td>\n",
       "      <td>0.097825</td>\n",
       "      <td>0.097825</td>\n",
       "      <td>0.0</td>\n",
       "    </tr>\n",
       "  </tbody>\n",
       "</table>\n",
       "</div>"
      ],
      "text/plain": [
       "            Average   SD     Ratio  Ratio Average  Ratio SD\n",
       "V1       20857709.0  0.0  0.902175       0.902175       0.0\n",
       "V2       20857709.0  0.0  0.902175       0.902175       0.0\n",
       "Both     20857709.0  0.0  0.902175       0.902175       0.0\n",
       "Neither   2261652.0  0.0  0.097825       0.097825       0.0"
      ]
     },
     "execution_count": 62,
     "metadata": {},
     "output_type": "execute_result"
    }
   ],
   "source": [
    "results"
   ]
  }
 ],
 "metadata": {
  "kernelspec": {
   "display_name": "physics",
   "language": "python",
   "name": "python3"
  },
  "language_info": {
   "codemirror_mode": {
    "name": "ipython",
    "version": 3
   },
   "file_extension": ".py",
   "mimetype": "text/x-python",
   "name": "python",
   "nbconvert_exporter": "python",
   "pygments_lexer": "ipython3",
   "version": "3.9.13"
  },
  "vscode": {
   "interpreter": {
    "hash": "436aad765654d140e77286f4d032f6ca323681fdd302c152e4201e048eb60744"
   }
  }
 },
 "nbformat": 4,
 "nbformat_minor": 5
}
