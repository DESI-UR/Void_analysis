{
 "cells": [
  {
   "cell_type": "code",
   "execution_count": 1,
   "id": "f7a5a06d",
   "metadata": {},
   "outputs": [],
   "source": [
    "from astropy.table import Table\n",
    "import matplotlib.pyplot as plt\n",
    "from mpl_toolkits import mplot3d\n",
    "import numpy as np\n",
    "import time\n",
    "from sklearn import neighbors \n",
    "from vast.voidfinder.voidfinder_functions import not_in_mask\n",
    "import pickle\n",
    "from scipy.spatial import cKDTree\n",
    "from vast.voidfinder import ra_dec_to_xyz"
   ]
  },
  {
   "cell_type": "code",
   "execution_count": 2,
   "id": "e4080261",
   "metadata": {},
   "outputs": [],
   "source": [
    "file_namevf_holes = \"/Users/jordanconey/Documents/Summer_2021_REU/CN_vf_Comp/dsim_200_128_t4_voids.txt\""
   ]
  },
  {
   "cell_type": "code",
   "execution_count": 3,
   "id": "117db20a",
   "metadata": {},
   "outputs": [],
   "source": [
    "data_table_vf_holes = Table.read(file_namevf_holes, format = \"ascii.commented_header\")"
   ]
  },
  {
   "cell_type": "code",
   "execution_count": 4,
   "id": "b5c61c21",
   "metadata": {},
   "outputs": [],
   "source": [
    "file_namevf_max = \"/Users/jordanconey/Documents/Summer_2021_REU/CN_vf_Comp/dsim_200_128_t4_maximals.txt\""
   ]
  },
  {
   "cell_type": "code",
   "execution_count": 5,
   "id": "b881bde2",
   "metadata": {},
   "outputs": [],
   "source": [
    "data_table_vf_max = Table.read(file_namevf_max, format = \"ascii.commented_header\")"
   ]
  },
  {
   "cell_type": "code",
   "execution_count": 6,
   "id": "82ab076e",
   "metadata": {},
   "outputs": [],
   "source": [
    "file_namegalaxies = \"/Users/jordanconey/Documents/Summer_2021_REU/CN_vf_Comp/out_200_128.dat\""
   ]
  },
  {
   "cell_type": "code",
   "execution_count": 7,
   "id": "dc9c6f17",
   "metadata": {},
   "outputs": [],
   "source": [
    "data_table_galaxies = Table.read(file_namegalaxies, format = \"ascii.commented_header\")"
   ]
  },
  {
   "cell_type": "code",
   "execution_count": 8,
   "id": "c625a4a6",
   "metadata": {},
   "outputs": [],
   "source": [
    "file_namecn = \"/Users/jordanconey/Documents/Summer_2021_REU/CN_vf_Comp/CN_200_128.npy\""
   ]
  },
  {
   "cell_type": "code",
   "execution_count": 9,
   "id": "af814c3d",
   "metadata": {},
   "outputs": [],
   "source": [
    "data_table_cn = np.load(file_namecn)"
   ]
  },
  {
   "cell_type": "code",
   "execution_count": 10,
   "id": "fed72437",
   "metadata": {},
   "outputs": [],
   "source": [
    "file_namegv = \"/Users/jordanconey/Documents/Summer_2021_REU/CN_vf_Comp/DR7_gv2.npy\""
   ]
  },
  {
   "cell_type": "code",
   "execution_count": 11,
   "id": "6fca97bd",
   "metadata": {},
   "outputs": [
    {
     "ename": "FileNotFoundError",
     "evalue": "[Errno 2] No such file or directory: '/Users/jordanconey/Documents/Summer_2021_REU/CN_vf_Comp/DR7_gv2.npy'",
     "output_type": "error",
     "traceback": [
      "\u001b[0;31m---------------------------------------------------------------------------\u001b[0m",
      "\u001b[0;31mFileNotFoundError\u001b[0m                         Traceback (most recent call last)",
      "\u001b[0;32m<ipython-input-11-79aa70531356>\u001b[0m in \u001b[0;36m<module>\u001b[0;34m\u001b[0m\n\u001b[0;32m----> 1\u001b[0;31m \u001b[0mdata_table_gv\u001b[0m \u001b[0;34m=\u001b[0m \u001b[0mnp\u001b[0m\u001b[0;34m.\u001b[0m\u001b[0mload\u001b[0m\u001b[0;34m(\u001b[0m\u001b[0mfile_namegv\u001b[0m\u001b[0;34m)\u001b[0m\u001b[0;34m\u001b[0m\u001b[0;34m\u001b[0m\u001b[0m\n\u001b[0m",
      "\u001b[0;32m~/opt/anaconda3/lib/python3.8/site-packages/numpy/lib/npyio.py\u001b[0m in \u001b[0;36mload\u001b[0;34m(file, mmap_mode, allow_pickle, fix_imports, encoding)\u001b[0m\n\u001b[1;32m    415\u001b[0m             \u001b[0mown_fid\u001b[0m \u001b[0;34m=\u001b[0m \u001b[0;32mFalse\u001b[0m\u001b[0;34m\u001b[0m\u001b[0;34m\u001b[0m\u001b[0m\n\u001b[1;32m    416\u001b[0m         \u001b[0;32melse\u001b[0m\u001b[0;34m:\u001b[0m\u001b[0;34m\u001b[0m\u001b[0;34m\u001b[0m\u001b[0m\n\u001b[0;32m--> 417\u001b[0;31m             \u001b[0mfid\u001b[0m \u001b[0;34m=\u001b[0m \u001b[0mstack\u001b[0m\u001b[0;34m.\u001b[0m\u001b[0menter_context\u001b[0m\u001b[0;34m(\u001b[0m\u001b[0mopen\u001b[0m\u001b[0;34m(\u001b[0m\u001b[0mos_fspath\u001b[0m\u001b[0;34m(\u001b[0m\u001b[0mfile\u001b[0m\u001b[0;34m)\u001b[0m\u001b[0;34m,\u001b[0m \u001b[0;34m\"rb\"\u001b[0m\u001b[0;34m)\u001b[0m\u001b[0;34m)\u001b[0m\u001b[0;34m\u001b[0m\u001b[0;34m\u001b[0m\u001b[0m\n\u001b[0m\u001b[1;32m    418\u001b[0m             \u001b[0mown_fid\u001b[0m \u001b[0;34m=\u001b[0m \u001b[0;32mTrue\u001b[0m\u001b[0;34m\u001b[0m\u001b[0;34m\u001b[0m\u001b[0m\n\u001b[1;32m    419\u001b[0m \u001b[0;34m\u001b[0m\u001b[0m\n",
      "\u001b[0;31mFileNotFoundError\u001b[0m: [Errno 2] No such file or directory: '/Users/jordanconey/Documents/Summer_2021_REU/CN_vf_Comp/DR7_gv2.npy'"
     ]
    }
   ],
   "source": [
    "data_table_gv = np.load(file_namegv)"
   ]
  },
  {
   "cell_type": "code",
   "execution_count": null,
   "id": "504cc454",
   "metadata": {},
   "outputs": [],
   "source": [
    "file_namevollim = \"/Users/jordanconey/Documents/Summer_2021_REU/CN_vf_Comp/vollim_dr7_cbp_102709.dat\""
   ]
  },
  {
   "cell_type": "code",
   "execution_count": null,
   "id": "3660cef7",
   "metadata": {},
   "outputs": [],
   "source": [
    "data_table_vl = Table.read(file_namevollim, format = \"ascii.commented_header\")"
   ]
  },
  {
   "cell_type": "code",
   "execution_count": null,
   "id": "e756232c",
   "metadata": {},
   "outputs": [],
   "source": [
    "data_table_vf_holes"
   ]
  },
  {
   "cell_type": "code",
   "execution_count": null,
   "id": "a293f8b9",
   "metadata": {},
   "outputs": [],
   "source": [
    "data_table_vf_max"
   ]
  },
  {
   "cell_type": "code",
   "execution_count": null,
   "id": "abfbcf1f",
   "metadata": {},
   "outputs": [],
   "source": [
    "data_table_galaxies"
   ]
  },
  {
   "cell_type": "markdown",
   "id": "c846bcf4",
   "metadata": {},
   "source": [
    "## Add CN to `data_table_galaxies` column"
   ]
  },
  {
   "cell_type": "code",
   "execution_count": null,
   "id": "d80b8c2e",
   "metadata": {},
   "outputs": [],
   "source": [
    "data_table_cn.shape"
   ]
  },
  {
   "cell_type": "code",
   "execution_count": null,
   "id": "b145ef37",
   "metadata": {},
   "outputs": [],
   "source": [
    "data_table_galaxies['CN'] = data_table_cn\n",
    "data_table_galaxies[\"X\"].name = \"x\"\n",
    "data_table_galaxies[\"Y\"].name = \"y\"\n",
    "data_table_galaxies[\"Z\"].name = \"z\""
   ]
  },
  {
   "cell_type": "markdown",
   "id": "d75283bd",
   "metadata": {},
   "source": [
    "# Add GV to `data_table_vl` column"
   ]
  },
  {
   "cell_type": "code",
   "execution_count": null,
   "id": "fbbe635b",
   "metadata": {},
   "outputs": [],
   "source": [
    "data_table_vl['GV'] = data_table_gv\n"
   ]
  },
  {
   "cell_type": "code",
   "execution_count": null,
   "id": "db63702f",
   "metadata": {},
   "outputs": [],
   "source": [
    "galaxies_xyz = ra_dec_to_xyz(data_table_vl)\n"
   ]
  },
  {
   "cell_type": "code",
   "execution_count": null,
   "id": "7faf9e5d",
   "metadata": {},
   "outputs": [],
   "source": [
    "data_table_vl['x'] = galaxies_xyz[:,0]\n",
    "data_table_vl['y'] = galaxies_xyz[:,1]\n",
    "data_table_vl['z'] = galaxies_xyz[:,2]\n",
    "data_table_vl"
   ]
  },
  {
   "cell_type": "code",
   "execution_count": null,
   "id": "5e7556ba",
   "metadata": {},
   "outputs": [],
   "source": [
    "fig = plt.figure(figsize=(12, 12))\n",
    "ax = fig.add_subplot(projection='3d')\n",
    "ax.scatter(data_table_vf_max['x'],data_table_vf_max['y'], data_table_vf_max['z'],\n",
    "           color = 'green', s=10, alpha=0.5,\n",
    "           label='max')\n",
    "ax.set(xlabel='X [Mpc/h]',\n",
    "       ylabel='Y [Mpc/h]',\n",
    "       zlabel='Z [Mpc/h]')\n",
    "\n",
    "ax.legend(loc='upper right', fontsize=10)\n",
    "plt.title(\"Maximal Spheres of VoidFinder\");"
   ]
  },
  {
   "cell_type": "code",
   "execution_count": null,
   "id": "02c583b9",
   "metadata": {},
   "outputs": [],
   "source": [
    "# p_size = 100\n",
    "fig = plt.figure(figsize=(12, 12))\n",
    "ax = fig.add_subplot(projection='3d')\n",
    "\n",
    "ax.scatter(data_table_vf_holes['x'],data_table_vf_holes['y'], data_table_vf_holes['z'],\n",
    "           color = 'black', s=0.3, alpha=1.0,\n",
    "           label='holes')\n",
    "ax.scatter(data_table_vf_max['x'],data_table_vf_max['y'],data_table_vf_max['z'],\n",
    "           color = 'gold', s=30, alpha=1.0,\n",
    "           label='max')\n",
    "ax.set(xlabel='X [Mpc/h]',\n",
    "       ylabel='Y [Mpc/h]',\n",
    "       zlabel='Z [Mpc/h]')\n",
    "\n",
    "ax.legend(loc='upper right', fontsize=10)\n",
    "\n",
    "plt.title(\"Maximal Sphere and Holes of VoidFinder\");"
   ]
  },
  {
   "cell_type": "code",
   "execution_count": null,
   "id": "401d35b2",
   "metadata": {},
   "outputs": [],
   "source": [
    "def calc_volume_boundaries(void_cat_A, void_cat_B):\n",
    "    \"\"\"Compute the boundaries of the minimal rectangular volume (parallelpiped)\n",
    "    that completely contains two void catalogs.\n",
    "    \n",
    "    Parameters\n",
    "    ----------\n",
    "    void_cat_A : astropy.Table\n",
    "        Table of void data from first catalog.\n",
    "    void_cat_B : astropy.Table\n",
    "        Table of void data from second catalog.\n",
    "        \n",
    "    Returns\n",
    "    -------\n",
    "    x_min : float\n",
    "    x_max : float\n",
    "    y_min : float\n",
    "    y_max : float\n",
    "    z_min : float\n",
    "    z_max : float\n",
    "    \"\"\"\n",
    "    x_min = np.minimum(np.min(void_cat_A['x']), np.min(void_cat_B['x']))\n",
    "    x_max = np.maximum(np.max(void_cat_A['x']), np.max(void_cat_B['x']))\n",
    "    \n",
    "    y_min = np.minimum(np.min(void_cat_A['y']), np.min(void_cat_B['y']))\n",
    "    y_max = np.maximum(np.max(void_cat_A['y']), np.max(void_cat_B['y']))\n",
    "\n",
    "    z_min = np.minimum(np.min(void_cat_A['z']), np.min(void_cat_B['z']))\n",
    "    z_max = np.maximum(np.max(void_cat_A['z']), np.max(void_cat_B['z']))\n",
    "\n",
    "    return x_min, x_max, y_min, y_max, z_min, z_max\n",
    "\n",
    "def generate_grid_points(x_min, x_max, y_min, y_max, z_min, z_max):\n",
    "    \"\"\"Creates a dense rectangular grid of points in 3D for the void volume calculation.\n",
    "    \n",
    "    Returns\n",
    "    -------\n",
    "    xyz : list\n",
    "        2D list of points in 3D space.\n",
    "    \"\"\"\n",
    "    x_range = np.arange(x_min, x_max)\n",
    "    y_range = np.arange(y_min, y_max)\n",
    "    z_range = np.arange(z_min, z_max)\n",
    "\n",
    "    # Creating a meshgrid from the ranges to \n",
    "    X,Y,Z = np.meshgrid(x_range,y_range,z_range)\n",
    "\n",
    "    x_points = np.ravel(X)\n",
    "    y_points = np.ravel(Y)\n",
    "    z_points = np.ravel(Z)\n",
    "    \n",
    "    point_coords = np.array([x_points, y_points, z_points])\n",
    "    \n",
    "    return point_coords"
   ]
  },
  {
   "cell_type": "code",
   "execution_count": null,
   "id": "f0f67d15",
   "metadata": {},
   "outputs": [],
   "source": [
    "#This line creates the boundaries (like the whole min and max)\n",
    "xmin, xmax, ymin, ymax, zmin, zmax = calc_volume_boundaries(data_table_vf_holes, data_table_vl)\n",
    "\n",
    "#This line makes creates the points in between \n",
    "pts = generate_grid_points(xmin, xmax, ymin, ymax, zmin, zmax)\n",
    "\n",
    "b = pts.shape\n",
    "print(b)"
   ]
  },
  {
   "cell_type": "code",
   "execution_count": null,
   "id": "f64b73ab",
   "metadata": {},
   "outputs": [],
   "source": [
    "# # This is the cell to filter out all the points that we do not want 🥴\n",
    "# start_time = time.time()\n",
    "\n",
    "# rmin = 0\n",
    "# rmax = 312.89816\n",
    "\n",
    "# points_boolean = np.ones(pts.shape[1], dtype = bool)\n",
    "\n",
    "# print(time.time() - start_time)\n",
    "\n",
    "# start_time = time.time()\n",
    "# for i in range(pts.shape[1]):\n",
    "    \n",
    "#     #   print(pts[:,i].reshape((1,3)).shape)\n",
    "#     #   print(pts[:,i].reshape((1,3)))\n",
    "#     #   print(pts[:,i])\n",
    "#     points_boolean[i] = not_in_mask(pts[:,i].reshape((1,3)), mask, mask_resolution, rmin, rmax)        \n",
    "\n",
    "\n",
    "# points_in_mask = pts[:,~points_boolean]\n",
    "# print(time.time() - start_time)\n",
    "# print(points_in_mask.shape)\n",
    "# print(np.sum(points_boolean))\n",
    "# print(np.sum(~points_boolean))\n",
    "# print(points_boolean.shape)"
   ]
  },
  {
   "cell_type": "code",
   "execution_count": null,
   "id": "bc3a676a",
   "metadata": {},
   "outputs": [],
   "source": [
    "# should give me my good cube shape\n",
    "start_time = time.time()\n",
    "fig = plt.figure(figsize=(12, 12))\n",
    "ax = fig.add_subplot(projection='3d')\n",
    "ax.scatter(pts[0,:],pts[1,:], pts[2,:],\n",
    "           color = 'blue', s=10, alpha=0.5,\n",
    "           label='max')\n",
    "# ax.set(xlabel='X [Mpc/h]',\n",
    "#        ylabel='Y [Mpc/h]',\n",
    "#        zlabel='Z [Mpc/h]')\n",
    "\n",
    "# plt.title(\"Points\");\n",
    "print(time.time() - start_time)"
   ]
  },
  {
   "cell_type": "code",
   "execution_count": null,
   "id": "a34fbfe6",
   "metadata": {},
   "outputs": [],
   "source": [
    "def point_query(point_coords, void_cat,V2):\n",
    "    \"\"\"We are creating a function to make a KDTree to find the number of points in \n",
    "    and out of a catalogue.\n",
    "    \n",
    "    Parameters\n",
    "    ----------\n",
    "    point_coords: ndarray has a shape of (3,N)\n",
    "        This is the list of points to query the given void catalogue. N is the number of points given. \n",
    "    void_cat: Astropy Table\n",
    "        This is the given void catalogue.\n",
    "    V2: boolean \n",
    "        This tells me if my catalog is a V2 catalog or not a V2 catalog.\n",
    "    \n",
    "    Returns\n",
    "    -------\n",
    "    true_inside: ndarray of shape (N,1)\n",
    "        Is this the boolean array of length N (same length as point_coords). True means that 1 point \n",
    "        is inside the hole.\n",
    "    \"\"\"\n",
    "    \n",
    "    cx = void_cat['x']\n",
    "    cy = void_cat['y']\n",
    "    cz = void_cat['z']\n",
    "\n",
    "    sphere_coords = np.array([cx, cy, cz])\n",
    "\n",
    "    start_time = time.time()\n",
    "\n",
    "    #The .T is meant to transpose the array from (3,1054) to (1054,3)\n",
    "    sphere_tree = neighbors.KDTree(sphere_coords.T)\n",
    "\n",
    "    print(time.time() - start_time)\n",
    "\n",
    "    start_time = time.time()\n",
    "\n",
    "    dist, idx = sphere_tree.query(point_coords.T, k = 1)\n",
    "    \n",
    "    if not V2:\n",
    "\n",
    "        true_inside = dist < void_cat['radius'][idx]\n",
    "    \n",
    "    else: \n",
    "        \"\"\"What goes into the square braket is whatever the name of the column that tells\n",
    "        me what is in a wall and what in a void\n",
    "        \n",
    "        May need adjust \n",
    "        \"\"\"\n",
    "\n",
    "        true_inside = void_cat[\"GV\"][idx] == True\n",
    "    \n",
    "    return true_inside"
   ]
  },
  {
   "cell_type": "code",
   "execution_count": null,
   "id": "8db64f80",
   "metadata": {},
   "outputs": [],
   "source": [
    "start_time = time.time()\n",
    "\n",
    "true_inside_vf = point_query(pts, data_table_vf_holes,False)\n",
    "\n",
    "count_in_vf = np.sum(true_inside_vf)\n",
    "\n",
    "# The \"~\" inverts the array. So we have true_inside inverted to add up the falses instead of the trues\n",
    "count_out_vf = np.sum(~true_inside_vf)\n",
    "print(time.time() - start_time)\n",
    "\n",
    "total_vf = count_in_vf + count_out_vf\n",
    "\n",
    "true_inside_vl = point_query(pts, data_table_vl,True)\n",
    "\n",
    "count_in_vl = np.sum(true_inside_vl)\n",
    "\n",
    "# The \"~\" inverts the array. So we have true_inside inverted to add up the falses instead of the trues\n",
    "count_out_vl = np.sum(~true_inside_vl)\n",
    "\n",
    "total_vl = count_in_vl + count_out_vl\n",
    "\n",
    "print(time.time() - start_time)\n",
    "print('\\nNumber of points inside VoidFinder: {}'.format(count_in_vf))\n",
    "print('\\nNumber of points outside VoidFinder: {}'.format(count_out_vf))\n",
    "print('\\nNumber of points inside V2: {}'.format(count_in_vl))\n",
    "print('\\nNumber of points outside V2: {}'.format(count_out_vl))\n",
    "print(\"\\nThis is the total number of points VoidFinder: {}\".format(total_vf))\n",
    "print(\"\\nThis is the total number of points in V2: {}\".format(total_vl))"
   ]
  },
  {
   "cell_type": "markdown",
   "id": "867a1cb6",
   "metadata": {},
   "source": [
    "## This is the number of points that are inside both A and B"
   ]
  },
  {
   "cell_type": "code",
   "execution_count": null,
   "id": "687cb981",
   "metadata": {},
   "outputs": [],
   "source": [
    "inside_A_and_B = np.logical_and(true_inside_vf, true_inside_CN)\n",
    "\n",
    "np.sum(inside_A_and_B), count_in_vf, count_in_CN"
   ]
  },
  {
   "cell_type": "markdown",
   "id": "7ee7b694",
   "metadata": {},
   "source": [
    "## This is the number of points that are in neither A and B"
   ]
  },
  {
   "cell_type": "code",
   "execution_count": null,
   "id": "6c43c370",
   "metadata": {},
   "outputs": [],
   "source": [
    "not_inside_A_and_B = np.logical_and(~true_inside_vf, ~true_inside_CN)\n",
    "\n",
    "np.sum(not_inside_A_and_B), count_in_vf, count_in_CN"
   ]
  },
  {
   "cell_type": "markdown",
   "id": "4e984f52",
   "metadata": {},
   "source": [
    "## This is the number of points that are in A but not B"
   ]
  },
  {
   "cell_type": "code",
   "execution_count": null,
   "id": "b73a1f0c",
   "metadata": {},
   "outputs": [],
   "source": [
    "inside_A = np.logical_and(true_inside_vf, ~true_inside_CN)\n",
    "\n",
    "np.sum(inside_A)"
   ]
  },
  {
   "cell_type": "markdown",
   "id": "724217c4",
   "metadata": {},
   "source": [
    "## This is the number of points that are not in A but are in B"
   ]
  },
  {
   "cell_type": "code",
   "execution_count": null,
   "id": "5a9a59a1",
   "metadata": {},
   "outputs": [],
   "source": [
    "inside_B = np.logical_and(~true_inside_vf, true_inside_CN)\n",
    "\n",
    "np.sum(inside_B)"
   ]
  },
  {
   "cell_type": "markdown",
   "id": "47b8cedf",
   "metadata": {},
   "source": [
    "# Fraction of points: Calculate the ratios of the given sums\n",
    "\n",
    "- in A\n",
    "- in B\n",
    "- in A & B\n",
    "- in neither A nor B\n",
    "- {in A, not B\n",
    "- {in B, not A\n",
    "-   |\n",
    "-   |\n",
    "- \\ /\n",
    "- The closer they are to zero, the more similar they are"
   ]
  },
  {
   "cell_type": "markdown",
   "id": "6e453e79",
   "metadata": {},
   "source": [
    "## This is the ratio of A"
   ]
  },
  {
   "cell_type": "code",
   "execution_count": null,
   "id": "da14ffb9",
   "metadata": {},
   "outputs": [],
   "source": [
    "r_A = count_in_vf / total_vf\n",
    "print(r_A)"
   ]
  },
  {
   "cell_type": "markdown",
   "id": "ecaf047f",
   "metadata": {},
   "source": [
    "## This is the ratio of B"
   ]
  },
  {
   "cell_type": "code",
   "execution_count": null,
   "id": "735adea9",
   "metadata": {},
   "outputs": [],
   "source": [
    "r_B = count_in_CN / total_vf\n",
    "print(r_B)"
   ]
  },
  {
   "cell_type": "markdown",
   "id": "cdd00872",
   "metadata": {},
   "source": [
    "## This is the ratio of both A and B"
   ]
  },
  {
   "cell_type": "code",
   "execution_count": null,
   "id": "52040dd2",
   "metadata": {},
   "outputs": [],
   "source": [
    "r_AB = np.sum(inside_A_and_B) / total_vf\n",
    "print(r_AB)"
   ]
  },
  {
   "cell_type": "markdown",
   "id": "fbb12094",
   "metadata": {},
   "source": [
    "## This is the ratio of neither A nor B"
   ]
  },
  {
   "cell_type": "code",
   "execution_count": null,
   "id": "4d2abf80",
   "metadata": {},
   "outputs": [],
   "source": [
    "r_notAB = np.sum(not_inside_A_and_B) / total_vf\n",
    "print(r_notAB)"
   ]
  },
  {
   "cell_type": "markdown",
   "id": "084273c1",
   "metadata": {},
   "source": [
    "## This is the ratio of A and not B"
   ]
  },
  {
   "cell_type": "code",
   "execution_count": null,
   "id": "0ee6116d",
   "metadata": {},
   "outputs": [],
   "source": [
    "r_A_not_B = np.sum(inside_A) / total_vf\n",
    "print(r_A_not_B)"
   ]
  },
  {
   "cell_type": "markdown",
   "id": "be7e7eb2",
   "metadata": {},
   "source": [
    "## This is the ratio of B and not A"
   ]
  },
  {
   "cell_type": "code",
   "execution_count": null,
   "id": "30f299dd",
   "metadata": {},
   "outputs": [],
   "source": [
    "r_B_not_A = np.sum(inside_B) / total_vf\n",
    "print(r_B_not_A)"
   ]
  },
  {
   "cell_type": "code",
   "execution_count": null,
   "id": "bf006aaf",
   "metadata": {},
   "outputs": [],
   "source": [
    "Sum = r_AB + r_notAB + r_A_not_B + r_B_not_A"
   ]
  },
  {
   "cell_type": "code",
   "execution_count": null,
   "id": "daad316e",
   "metadata": {},
   "outputs": [],
   "source": [
    "Sum"
   ]
  },
  {
   "cell_type": "markdown",
   "id": "1654f078",
   "metadata": {},
   "source": [
    "# This will be the Standard Deviation and Mean of the Data\n"
   ]
  },
  {
   "cell_type": "markdown",
   "id": "b125ba99",
   "metadata": {},
   "source": [
    "## This is the STD and Mean of KIAS\n"
   ]
  },
  {
   "cell_type": "code",
   "execution_count": null,
   "id": "9ee034c9",
   "metadata": {},
   "outputs": [],
   "source": []
  },
  {
   "cell_type": "markdown",
   "id": "b10a7515",
   "metadata": {},
   "source": [
    "## This is the STD and Mean of KIAS\n"
   ]
  },
  {
   "cell_type": "code",
   "execution_count": null,
   "id": "7dbba948",
   "metadata": {},
   "outputs": [],
   "source": []
  }
 ],
 "metadata": {
  "kernelspec": {
   "display_name": "Python 3",
   "language": "python",
   "name": "python3"
  },
  "language_info": {
   "codemirror_mode": {
    "name": "ipython",
    "version": 3
   },
   "file_extension": ".py",
   "mimetype": "text/x-python",
   "name": "python",
   "nbconvert_exporter": "python",
   "pygments_lexer": "ipython3",
   "version": "3.8.8"
  }
 },
 "nbformat": 4,
 "nbformat_minor": 5
}
