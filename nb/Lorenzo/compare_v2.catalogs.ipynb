{
 "cells": [
  {
   "cell_type": "code",
   "execution_count": 1,
   "id": "a03db698",
   "metadata": {},
   "outputs": [],
   "source": [
    "from astropy.table import Table\n",
    "\n",
    "import matplotlib.pyplot as plt\n",
    "from mpl_toolkits import mplot3d\n",
    "%matplotlib notebook\n",
    "\n",
    "import numpy as np\n",
    "import time\n",
    "from sklearn import neighbors\n",
    "from vast.voidfinder._voidfinder_cython_find_next import MaskChecker\n",
    "from vast.voidfinder.distance import z_to_comoving_dist\n",
    "from vast.voidfinder import ra_dec_to_xyz\n",
    "import pickle"
   ]
  },
  {
   "cell_type": "markdown",
   "id": "8970e0ce",
   "metadata": {},
   "source": [
    "Update:\n",
    "- Trying to figure out if we can plot ra v dec, probs not\n",
    "- If not, needed to figure out how to work with ra_dec_to_xyz() without Rgal variable (Douglass)"
   ]
  },
  {
   "cell_type": "code",
   "execution_count": 2,
   "id": "c7efc853",
   "metadata": {},
   "outputs": [],
   "source": [
    "mask_file_name = \"/Users/lorenzomendoza/Desktop/Research/Function/NSA_main_mask.pickle\""
   ]
  },
  {
   "cell_type": "code",
   "execution_count": 3,
   "id": "017aeff5",
   "metadata": {},
   "outputs": [],
   "source": [
    "temp_infile = open(mask_file_name, \"rb\")\n",
    "mask, mask_resolution = pickle.load(temp_infile)\n",
    "temp_infile.close()"
   ]
  },
  {
   "cell_type": "markdown",
   "id": "fc291759",
   "metadata": {},
   "source": [
    "## V$^2$ void catalog"
   ]
  },
  {
   "cell_type": "markdown",
   "id": "934b8e55",
   "metadata": {},
   "source": [
    "Generating galaxy array, .npy"
   ]
  },
  {
   "cell_type": "code",
   "execution_count": 4,
   "id": "5872c0c3",
   "metadata": {},
   "outputs": [],
   "source": [
    "V2_galzones = Table.read(\"/Users/lorenzomendoza/Desktop/Research/Function/V2_REVOLVER-nsa_v1_0_1_galzones.dat\",format='ascii.commented_header')\n",
    "V2_zonevoids = Table.read(\"/Users/lorenzomendoza/Desktop/Research/Function/V2_REVOLVER-nsa_v1_0_1_zonevoids.dat\",format='ascii.commented_header')\n",
    "\n",
    "V2_gz = np.zeros(len(V2_galzones['zone']),dtype=int)\n",
    "V2_gz[V2_galzones['zone'] > -1] = 1\n",
    "'''\n",
    "for i in range(len(V2_gz)):\n",
    "    if V2_galzones['zone'][i] > -1:\n",
    "        #V2_gz[i] = V2_zonevoids['void1'][V2_galzones['zone'][i]]\n",
    "        V2_gz[i] = 1\n",
    "''';"
   ]
  },
  {
   "cell_type": "code",
   "execution_count": 5,
   "id": "65b91a9d",
   "metadata": {},
   "outputs": [
    {
     "data": {
      "text/html": [
       "<i>Table length=5</i>\n",
       "<table id=\"table140613789633216\" class=\"table-striped table-bordered table-condensed\">\n",
       "<thead><tr><th>gal</th><th>zone</th><th>depth</th><th>edge</th><th>out</th></tr></thead>\n",
       "<thead><tr><th>int64</th><th>int64</th><th>int64</th><th>int64</th><th>int64</th></tr></thead>\n",
       "<tr><td>3</td><td>1036</td><td>0</td><td>1</td><td>0</td></tr>\n",
       "<tr><td>7</td><td>1036</td><td>0</td><td>1</td><td>0</td></tr>\n",
       "<tr><td>10</td><td>433</td><td>3</td><td>0</td><td>0</td></tr>\n",
       "<tr><td>12</td><td>1036</td><td>0</td><td>1</td><td>0</td></tr>\n",
       "<tr><td>13</td><td>1036</td><td>0</td><td>1</td><td>0</td></tr>\n",
       "</table>"
      ],
      "text/plain": [
       "<Table length=5>\n",
       " gal   zone depth  edge  out \n",
       "int64 int64 int64 int64 int64\n",
       "----- ----- ----- ----- -----\n",
       "    3  1036     0     1     0\n",
       "    7  1036     0     1     0\n",
       "   10   433     3     0     0\n",
       "   12  1036     0     1     0\n",
       "   13  1036     0     1     0"
      ]
     },
     "execution_count": 5,
     "metadata": {},
     "output_type": "execute_result"
    }
   ],
   "source": [
    "V2_galzones[:5]"
   ]
  },
  {
   "cell_type": "code",
   "execution_count": 6,
   "id": "afa5de10",
   "metadata": {},
   "outputs": [
    {
     "data": {
      "text/html": [
       "<i>Table length=5</i>\n",
       "<table id=\"table140613789632736\" class=\"table-striped table-bordered table-condensed\">\n",
       "<thead><tr><th>zone</th><th>void0</th><th>void1</th></tr></thead>\n",
       "<thead><tr><th>int64</th><th>int64</th><th>int64</th></tr></thead>\n",
       "<tr><td>0</td><td>0</td><td>0</td></tr>\n",
       "<tr><td>1</td><td>1</td><td>1</td></tr>\n",
       "<tr><td>2</td><td>2</td><td>2</td></tr>\n",
       "<tr><td>3</td><td>3</td><td>3</td></tr>\n",
       "<tr><td>4</td><td>4</td><td>4</td></tr>\n",
       "</table>"
      ],
      "text/plain": [
       "<Table length=5>\n",
       " zone void0 void1\n",
       "int64 int64 int64\n",
       "----- ----- -----\n",
       "    0     0     0\n",
       "    1     1     1\n",
       "    2     2     2\n",
       "    3     3     3\n",
       "    4     4     4"
      ]
     },
     "execution_count": 6,
     "metadata": {},
     "output_type": "execute_result"
    }
   ],
   "source": [
    "V2_zonevoids[:5]"
   ]
  },
  {
   "cell_type": "code",
   "execution_count": 7,
   "id": "b97420f1",
   "metadata": {},
   "outputs": [
    {
     "data": {
      "text/plain": [
       "194125"
      ]
     },
     "execution_count": 7,
     "metadata": {},
     "output_type": "execute_result"
    }
   ],
   "source": [
    "len(V2_gz)"
   ]
  },
  {
   "cell_type": "markdown",
   "id": "37c9c646",
   "metadata": {},
   "source": [
    "Extract galaxy void membership. This returns the points in the data set that are V2 voids. \n",
    "\n",
    "If returns -1, then not V2"
   ]
  },
  {
   "cell_type": "code",
   "execution_count": 8,
   "id": "a16b6be3",
   "metadata": {},
   "outputs": [],
   "source": [
    "file_name = \"/Users/lorenzomendoza/Desktop/Research/Function/V2_nsa_v1_0_1_gal.txt\""
   ]
  },
  {
   "cell_type": "code",
   "execution_count": 9,
   "id": "6422055b",
   "metadata": {},
   "outputs": [],
   "source": [
    "data_table_vl = Table.read(file_name, format = \"ascii.commented_header\")"
   ]
  },
  {
   "cell_type": "code",
   "execution_count": 10,
   "id": "e8db1c24",
   "metadata": {},
   "outputs": [
    {
     "data": {
      "text/plain": [
       "astropy.table.table.Table"
      ]
     },
     "execution_count": 10,
     "metadata": {},
     "output_type": "execute_result"
    }
   ],
   "source": [
    "type(data_table_vl)"
   ]
  },
  {
   "cell_type": "code",
   "execution_count": 11,
   "id": "68740fb8",
   "metadata": {},
   "outputs": [],
   "source": [
    "omega_M = np.float32(0.3)\n",
    "h = np.float32(1.0)\n",
    "\"\"\"    Parameters\n",
    "    ==========\n",
    "    \n",
    "    z_input : numpy.ndarray of shape (N,)\n",
    "        redshift values to compute distances for\n",
    "        \n",
    "    omega_M : float\n",
    "        Cosmological matter energy density\n",
    "        \n",
    "    h : float\n",
    "        Hubble constant factor\n",
    "\"\"\"\n",
    "Rgal = z_to_comoving_dist(data_table_vl['redshift'].astype(np.float32),omega_M,h)\n",
    "data_table_vl['Rgal'] = Rgal"
   ]
  },
  {
   "cell_type": "code",
   "execution_count": 12,
   "id": "b286a360",
   "metadata": {},
   "outputs": [],
   "source": [
    "z_boolean = data_table_vl['redshift']>0 #Edge Case: 513626 = [[-0.  0.  0.]]\n",
    "data_table_vl = data_table_vl[z_boolean]"
   ]
  },
  {
   "cell_type": "code",
   "execution_count": 13,
   "id": "8ba49bd2",
   "metadata": {},
   "outputs": [],
   "source": [
    "galaxies_xyz = ra_dec_to_xyz(data_table_vl)"
   ]
  },
  {
   "cell_type": "code",
   "execution_count": 14,
   "id": "70031474",
   "metadata": {},
   "outputs": [
    {
     "data": {
      "text/html": [
       "<i>Table length=514398</i>\n",
       "<table id=\"table140613789631680\" class=\"table-striped table-bordered table-condensed\">\n",
       "<thead><tr><th>index</th><th>ra</th><th>dec</th><th>redshift</th><th>rabsmag</th><th>Rgal</th><th>x</th><th>y</th><th>z</th></tr></thead>\n",
       "<thead><tr><th>int64</th><th>float64</th><th>float64</th><th>float64</th><th>float64</th><th>float32</th><th>float64</th><th>float64</th><th>float64</th></tr></thead>\n",
       "<tr><td>0</td><td>146.6285851269414</td><td>-0.7651620976591762</td><td>0.0646563172340393</td><td>-19.97649574279785</td><td>190.97807</td><td>-159.47584420504052</td><td>105.0408263192713</td><td>-2.550359568207288</td></tr>\n",
       "<tr><td>1</td><td>146.9341288729797</td><td>-0.6704053610430766</td><td>0.12127048522233963</td><td>-21.559162139892578</td><td>353.4156</td><td>-296.1574894141973</td><td>192.81135899420556</td><td>-4.135143999391673</td></tr>\n",
       "<tr><td>2</td><td>146.9634997327016</td><td>-0.5447758299302171</td><td>0.055980585515499115</td><td>-19.10099220275879</td><td>165.68755</td><td>-138.89347406859915</td><td>90.32432641438558</td><td>-1.5753553055354186</td></tr>\n",
       "<tr><td>3</td><td>146.96352370262414</td><td>-0.7593404235056136</td><td>0.09708637744188309</td><td>-20.089942932128906</td><td>284.58063</td><td>-238.5497230217006</td><td>155.13200652067886</td><td>-3.771433955733498</td></tr>\n",
       "<tr><td>4</td><td>146.85984630722874</td><td>-0.8089065016506019</td><td>0.12658987939357758</td><td>-21.062517166137695</td><td>368.4445</td><td>-308.4810128885206</td><td>201.40444290203067</td><td>-5.201556625836186</td></tr>\n",
       "<tr><td>5</td><td>146.5927838471015</td><td>-0.7602574022145185</td><td>0.06495923548936844</td><td>-19.97614288330078</td><td>191.85936</td><td>-160.14597434128163</td><td>105.62575539512878</td><td>-2.5457061490638075</td></tr>\n",
       "<tr><td>6</td><td>146.72838067287842</td><td>-0.5569743913807053</td><td>0.08931196480989456</td><td>-19.900196075439453</td><td>262.2765</td><td>-219.2735589331227</td><td>143.8803771110055</td><td>-2.5495592953775956</td></tr>\n",
       "<tr><td>7</td><td>147.18677363814004</td><td>-0.4938139466493589</td><td>0.09031707048416138</td><td>-20.94278907775879</td><td>265.1649</td><td>-222.8473062347432</td><td>143.68810782814072</td><td>-2.2853428144724695</td></tr>\n",
       "<tr><td>8</td><td>146.95608041489135</td><td>-0.34230852875962586</td><td>0.13468021154403687</td><td>-21.625717163085938</td><td>391.22458</td><td>-327.9392589096939</td><td>213.3238160439749</td><td>-2.337322477587044</td></tr>\n",
       "<tr><td>9</td><td>147.17645340393182</td><td>-0.3540349522432606</td><td>0.006282840855419636</td><td>-15.534673690795898</td><td>18.80871</td><td>-15.805483229243551</td><td>10.195134547011081</td><td>-0.11621970176382058</td></tr>\n",
       "<tr><td>...</td><td>...</td><td>...</td><td>...</td><td>...</td><td>...</td><td>...</td><td>...</td><td>...</td></tr>\n",
       "<tr><td>514575</td><td>218.73111896936555</td><td>-0.45176821892594743</td><td>0.1298000067472458</td><td>-20.37791633605957</td><td>377.4945</td><td>-294.4708020579195</td><td>-236.17830160298868</td><td>-2.976454031384042</td></tr>\n",
       "<tr><td>514576</td><td>218.33408913943114</td><td>0.006570602264003904</td><td>0.05570000037550926</td><td>-17.387638092041016</td><td>164.8678</td><td>-129.323533512514</td><td>-102.25856487744035</td><td>0.018906815347595786</td></tr>\n",
       "<tr><td>514577</td><td>218.32005780355482</td><td>-1.2525971090241848</td><td>0.08207043260335922</td><td>-20.237579345703125</td><td>241.42418</td><td>-189.36633553095987</td><td>-149.6601895802606</td><td>-5.277581401685813</td></tr>\n",
       "<tr><td>514579</td><td>221.55081881922277</td><td>-1.8145565078434764</td><td>0.08038564771413803</td><td>-21.023279190063477</td><td>236.56229</td><td>-176.9468020555965</td><td>-156.829316179172</td><td>-7.490671863220648</td></tr>\n",
       "<tr><td>514580</td><td>219.74484109954423</td><td>-2.0204498002007893</td><td>0.11597869545221329</td><td>-20.93014907836914</td><td>338.42462</td><td>-260.05271632040666</td><td>-216.2439525398127</td><td>-11.93156390748343</td></tr>\n",
       "<tr><td>514581</td><td>219.69281435303517</td><td>-1.498367091421907</td><td>0.13770000636577606</td><td>-21.404783248901367</td><td>399.70352</td><td>-307.4585644845752</td><td>-255.19188822983452</td><td>-10.45163092315648</td></tr>\n",
       "<tr><td>514582</td><td>219.55194176345347</td><td>-1.5172838888725428</td><td>0.10502009093761444</td><td>-21.11517906188965</td><td>307.2538</td><td>-236.82426084465075</td><td>-195.58371042580296</td><td>-8.135621517875807</td></tr>\n",
       "<tr><td>514583</td><td>219.52219672036165</td><td>-1.4446756753043812</td><td>0.1185000017285347</td><td>-19.01321792602539</td><td>345.57217</td><td>-266.4820765906685</td><td>-219.84431651197133</td><td>-8.71245352019249</td></tr>\n",
       "<tr><td>514585</td><td>219.1754156653414</td><td>-1.4284259133402393</td><td>0.09570000320672989</td><td>-19.478748321533203</td><td>280.60956</td><td>-217.4653095364061</td><td>-177.20505673637862</td><td>-6.9950779436945485</td></tr>\n",
       "<tr><td>514586</td><td>218.91299946375833</td><td>-1.4901928289538668</td><td>0.05620000138878822</td><td>-18.471019744873047</td><td>166.32835</td><td>-129.3764298664784</td><td>-104.442092457838</td><td>-4.325508417963468</td></tr>\n",
       "</table>"
      ],
      "text/plain": [
       "<Table length=514398>\n",
       "index          ra         ...          y                   z          \n",
       "int64       float64       ...       float64             float64       \n",
       "------ ------------------ ... ------------------- --------------------\n",
       "     0  146.6285851269414 ...   105.0408263192713   -2.550359568207288\n",
       "     1  146.9341288729797 ...  192.81135899420556   -4.135143999391673\n",
       "     2  146.9634997327016 ...   90.32432641438558  -1.5753553055354186\n",
       "     3 146.96352370262414 ...  155.13200652067886   -3.771433955733498\n",
       "     4 146.85984630722874 ...  201.40444290203067   -5.201556625836186\n",
       "     5  146.5927838471015 ...  105.62575539512878  -2.5457061490638075\n",
       "     6 146.72838067287842 ...   143.8803771110055  -2.5495592953775956\n",
       "     7 147.18677363814004 ...  143.68810782814072  -2.2853428144724695\n",
       "     8 146.95608041489135 ...   213.3238160439749   -2.337322477587044\n",
       "     9 147.17645340393182 ...  10.195134547011081 -0.11621970176382058\n",
       "   ...                ... ...                 ...                  ...\n",
       "514575 218.73111896936555 ... -236.17830160298868   -2.976454031384042\n",
       "514576 218.33408913943114 ... -102.25856487744035 0.018906815347595786\n",
       "514577 218.32005780355482 ...  -149.6601895802606   -5.277581401685813\n",
       "514579 221.55081881922277 ...   -156.829316179172   -7.490671863220648\n",
       "514580 219.74484109954423 ...  -216.2439525398127   -11.93156390748343\n",
       "514581 219.69281435303517 ... -255.19188822983452   -10.45163092315648\n",
       "514582 219.55194176345347 ... -195.58371042580296   -8.135621517875807\n",
       "514583 219.52219672036165 ... -219.84431651197133    -8.71245352019249\n",
       "514585  219.1754156653414 ... -177.20505673637862  -6.9950779436945485\n",
       "514586 218.91299946375833 ...   -104.442092457838   -4.325508417963468"
      ]
     },
     "execution_count": 14,
     "metadata": {},
     "output_type": "execute_result"
    }
   ],
   "source": [
    "data_table_vl['x'] = galaxies_xyz[:,0]\n",
    "data_table_vl['y'] = galaxies_xyz[:,1]\n",
    "data_table_vl['z'] = galaxies_xyz[:,2]\n",
    "data_table_vl"
   ]
  },
  {
   "cell_type": "code",
   "execution_count": 22,
   "id": "371b2347",
   "metadata": {},
   "outputs": [],
   "source": [
    "V2_galzones['x'] = 0.\n",
    "V2_galzones['y'] = 0.\n",
    "V2_galzones['z'] = 0.\n",
    "\n",
    "for i in range(len(V2_galzones)):\n",
    "    idx = V2_galzones['gal'][i]\n",
    "    T2_idx = data_table_vl['index'] == idx\n",
    "    V2_galzones['x'][i] = data_table_vl['x'][T2_idx]\n",
    "    V2_galzones['y'][i] = data_table_vl['y'][T2_idx]\n",
    "    V2_galzones['z'][i] = data_table_vl['z'][T2_idx]\n"
   ]
  },
  {
   "cell_type": "code",
   "execution_count": 23,
   "id": "3cc1a180",
   "metadata": {},
   "outputs": [
    {
     "data": {
      "text/html": [
       "<i>Table length=194125</i>\n",
       "<table id=\"table140613789473952\" class=\"table-striped table-bordered table-condensed\">\n",
       "<thead><tr><th>gal</th><th>zone</th><th>depth</th><th>edge</th><th>out</th><th>x</th><th>y</th><th>z</th></tr></thead>\n",
       "<thead><tr><th>int64</th><th>int64</th><th>int64</th><th>int64</th><th>int64</th><th>float64</th><th>float64</th><th>float64</th></tr></thead>\n",
       "<tr><td>3</td><td>1036</td><td>0</td><td>1</td><td>0</td><td>-238.5497230217006</td><td>155.13200652067886</td><td>-3.771433955733498</td></tr>\n",
       "<tr><td>7</td><td>1036</td><td>0</td><td>1</td><td>0</td><td>-222.8473062347432</td><td>143.68810782814072</td><td>-2.2853428144724695</td></tr>\n",
       "<tr><td>10</td><td>433</td><td>3</td><td>0</td><td>0</td><td>-208.19814649187606</td><td>133.92766614907325</td><td>-0.15429539345691287</td></tr>\n",
       "<tr><td>12</td><td>1036</td><td>0</td><td>1</td><td>0</td><td>-120.02429498525497</td><td>76.9669553216956</td><td>0.07190305425376976</td></tr>\n",
       "<tr><td>13</td><td>1036</td><td>0</td><td>1</td><td>0</td><td>-160.641346636131</td><td>106.03878744931015</td><td>-3.216040446517236</td></tr>\n",
       "<tr><td>15</td><td>1036</td><td>0</td><td>1</td><td>0</td><td>-159.8555305531387</td><td>105.75461131763109</td><td>-2.829596328341284</td></tr>\n",
       "<tr><td>22</td><td>1036</td><td>0</td><td>1</td><td>0</td><td>-206.29328122879542</td><td>134.56647604765928</td><td>-2.1266625329324707</td></tr>\n",
       "<tr><td>29</td><td>1036</td><td>0</td><td>1</td><td>0</td><td>-153.7215735411822</td><td>100.54651980616536</td><td>-0.6092857630969684</td></tr>\n",
       "<tr><td>31</td><td>1036</td><td>0</td><td>1</td><td>0</td><td>-165.55292743628684</td><td>111.27335857977052</td><td>-2.7613607634454933</td></tr>\n",
       "<tr><td>39</td><td>1036</td><td>0</td><td>1</td><td>0</td><td>-219.10700816731693</td><td>144.3118380575169</td><td>-2.1323654627682362</td></tr>\n",
       "<tr><td>...</td><td>...</td><td>...</td><td>...</td><td>...</td><td>...</td><td>...</td><td>...</td></tr>\n",
       "<tr><td>514564</td><td>206</td><td>1</td><td>0</td><td>0</td><td>-163.91809621886387</td><td>-133.9482910918268</td><td>-3.9615317399666177</td></tr>\n",
       "<tr><td>514565</td><td>76</td><td>5</td><td>0</td><td>0</td><td>-241.07408397330457</td><td>-196.7729253697599</td><td>-1.3482862121585448</td></tr>\n",
       "<tr><td>514567</td><td>193</td><td>4</td><td>0</td><td>0</td><td>-187.268303007011</td><td>-152.16910357424908</td><td>-2.4630386792040895</td></tr>\n",
       "<tr><td>514568</td><td>220</td><td>5</td><td>0</td><td>0</td><td>-240.55770796057965</td><td>-195.38173371194313</td><td>-6.114117877122521</td></tr>\n",
       "<tr><td>514569</td><td>76</td><td>6</td><td>0</td><td>0</td><td>-242.90093286859323</td><td>-196.69029591451823</td><td>-2.2732699992166774</td></tr>\n",
       "<tr><td>514571</td><td>76</td><td>5</td><td>0</td><td>0</td><td>-242.4542701967949</td><td>-195.98046061042922</td><td>-0.9181810787792763</td></tr>\n",
       "<tr><td>514573</td><td>220</td><td>4</td><td>0</td><td>0</td><td>-243.5420598703844</td><td>-195.73851877843688</td><td>-3.5051520310114177</td></tr>\n",
       "<tr><td>514577</td><td>193</td><td>4</td><td>0</td><td>0</td><td>-189.36633553095987</td><td>-149.6601895802606</td><td>-5.277581401685813</td></tr>\n",
       "<tr><td>514579</td><td>1036</td><td>0</td><td>1</td><td>0</td><td>-176.9468020555965</td><td>-156.829316179172</td><td>-7.490671863220648</td></tr>\n",
       "<tr><td>514582</td><td>189</td><td>2</td><td>0</td><td>0</td><td>-236.82426084465075</td><td>-195.58371042580296</td><td>-8.135621517875807</td></tr>\n",
       "</table>"
      ],
      "text/plain": [
       "<Table length=194125>\n",
       " gal    zone depth ...          y                   z          \n",
       "int64  int64 int64 ...       float64             float64       \n",
       "------ ----- ----- ... ------------------- --------------------\n",
       "     3  1036     0 ...  155.13200652067886   -3.771433955733498\n",
       "     7  1036     0 ...  143.68810782814072  -2.2853428144724695\n",
       "    10   433     3 ...  133.92766614907325 -0.15429539345691287\n",
       "    12  1036     0 ...    76.9669553216956  0.07190305425376976\n",
       "    13  1036     0 ...  106.03878744931015   -3.216040446517236\n",
       "    15  1036     0 ...  105.75461131763109   -2.829596328341284\n",
       "    22  1036     0 ...  134.56647604765928  -2.1266625329324707\n",
       "    29  1036     0 ...  100.54651980616536  -0.6092857630969684\n",
       "    31  1036     0 ...  111.27335857977052  -2.7613607634454933\n",
       "    39  1036     0 ...   144.3118380575169  -2.1323654627682362\n",
       "   ...   ...   ... ...                 ...                  ...\n",
       "514564   206     1 ...  -133.9482910918268  -3.9615317399666177\n",
       "514565    76     5 ...  -196.7729253697599  -1.3482862121585448\n",
       "514567   193     4 ... -152.16910357424908  -2.4630386792040895\n",
       "514568   220     5 ... -195.38173371194313   -6.114117877122521\n",
       "514569    76     6 ... -196.69029591451823  -2.2732699992166774\n",
       "514571    76     5 ... -195.98046061042922  -0.9181810787792763\n",
       "514573   220     4 ... -195.73851877843688  -3.5051520310114177\n",
       "514577   193     4 ...  -149.6601895802606   -5.277581401685813\n",
       "514579  1036     0 ...   -156.829316179172   -7.490671863220648\n",
       "514582   189     2 ... -195.58371042580296   -8.135621517875807"
      ]
     },
     "execution_count": 23,
     "metadata": {},
     "output_type": "execute_result"
    }
   ],
   "source": [
    "V2_galzones"
   ]
  },
  {
   "cell_type": "markdown",
   "id": "4e713be1",
   "metadata": {},
   "source": [
    "## Remove all galaxies outside the mask\n",
    "\n",
    "For each galaxy, check to see if it is in the mask.  If it is, keep it!  If it is not, throw it away.\n",
    "1. Define the variables `rmin` and `rmax`. Values are input by user. \n",
    "2. Create a boolean array called `galaxies_boolean`, with the same length as `data_table_vl`, filled with `True` values.\n",
    "3. Create a `MaskChecker` object using the values `0`, `mask`, `mask_resolution`, `rmin`, and `rmax`.\n",
    "4. Iterate over each element `i` in `data_table_vl`.\n",
    "5. Define a variable `curr_gal` as the `i`-th element of the `galaxies_xyz` array reshaped into a 1x3 array.\n",
    "6. Call the `not_in_mask` method of the `mask_checker` object on `curr_gal`, and assign the result to the variable `not_in_mask`.\n",
    "7. Set the `i`-th element of the `galaxies_boolean` array to the opposite of the boolean value of `not_in_mask`.\n",
    "8. After the loop has completed, print the time to run the loop.\n",
    "9. Filter the `data_table_vl` array using the `galaxies_boolean` array to create a new array called `galaxies_in_mask`.\n",
    "10. Print the sum of the `True` values in `galaxies_boolean`, the sum of the `False` values in `galaxies_boolean`, the shape of `galaxies_boolean`, and the `galaxies_in_mask` array.\n"
   ]
  },
  {
   "cell_type": "code",
   "execution_count": 18,
   "id": "cce0f95d",
   "metadata": {},
   "outputs": [],
   "source": [
    "# Stops at: 513625\n",
    "#514587\n",
    "#500000 - 513625"
   ]
  },
  {
   "cell_type": "code",
   "execution_count": 19,
   "id": "6abc0f20",
   "metadata": {},
   "outputs": [
    {
     "name": "stdout",
     "output_type": "stream",
     "text": [
      "Time to Run: 0.8114590644836426\n",
      "\n",
      "Sum of Points IN: 349041\n",
      "\n",
      "Sum of Points OUT: 165357\n",
      "\n",
      "Boolean Shape: (514398,)\n",
      "\n",
      "Points in Mask:\n",
      " index          ra         ...          y                   z          \n",
      "------ ------------------ ... ------------------- --------------------\n",
      "     0  146.6285851269414 ...   105.0408263192713   -2.550359568207288\n",
      "     2  146.9634997327016 ...   90.32432641438558  -1.5753553055354186\n",
      "     3 146.96352370262414 ...  155.13200652067886   -3.771433955733498\n",
      "     5  146.5927838471015 ...  105.62575539512878  -2.5457061490638075\n",
      "     6 146.72838067287842 ...   143.8803771110055  -2.5495592953775956\n",
      "     7 147.18677363814004 ...  143.68810782814072  -2.2853428144724695\n",
      "     9 147.17645340393182 ...  10.195134547011081 -0.11621970176382058\n",
      "    10 147.24803040379993 ...  133.92766614907325 -0.15429539345691287\n",
      "    12  147.3295117038904 ...    76.9669553216956  0.07190305425376976\n",
      "    13  146.5713384071946 ...  106.03878744931015   -3.216040446517236\n",
      "   ...                ... ...                 ...                  ...\n",
      "514569 218.99900258608304 ... -196.69029591451823  -2.2732699992166774\n",
      "514570 218.97558584441026 ...  -104.5926964004281   -3.710790002919059\n",
      "514571 218.94927710748095 ... -195.98046061042922  -0.9181810787792763\n",
      "514572 218.92895721463836 ... -105.87752593755515  -0.8613029536065788\n",
      "514573   218.789378198036 ... -195.73851877843688  -3.5051520310114177\n",
      "514576 218.33408913943114 ... -102.25856487744035 0.018906815347595786\n",
      "514577 218.32005780355482 ...  -149.6601895802606   -5.277581401685813\n",
      "514579 221.55081881922277 ...   -156.829316179172   -7.490671863220648\n",
      "514582 219.55194176345347 ... -195.58371042580296   -8.135621517875807\n",
      "514585  219.1754156653414 ... -177.20505673637862  -6.9950779436945485\n",
      "514586 218.91299946375833 ...   -104.442092457838   -4.325508417963468\n",
      "Length = 349041 rows\n"
     ]
    }
   ],
   "source": [
    "# start_time = time.time()\n",
    "\n",
    "# rmin = 0\n",
    "# rmax = 312.89816 # Where are these computed?\n",
    "\n",
    "# galaxies_boolean = np.ones(len(data_table_vl), dtype = bool)\n",
    "\n",
    "# # print(time.time() - start_time)\n",
    "\n",
    "# # Declares MaskChecker object from VAST\n",
    "\n",
    "# mask_checker = MaskChecker(0,\n",
    "#                         mask,\n",
    "#                         mask_resolution,\n",
    "#                         rmin,\n",
    "#                         rmax,)\n",
    "\n",
    "# start_time = time.time()\n",
    "# for i in range(len(data_table_vl)):\n",
    "    \n",
    "#     curr_gal = galaxies_xyz[i,:].reshape((1,3))\n",
    "    \n",
    "#     not_in_mask = mask_checker.not_in_mask(curr_gal)\n",
    "    \n",
    "#     galaxies_boolean[i] = not bool(not_in_mask)\n",
    "\n",
    "                                    \n",
    "# print('Time to Run:', time.time() - start_time)\n",
    "# galaxies_in_mask = data_table_vl[galaxies_boolean]\n",
    "# # print('\\nPoints in Mask Shape:', galaxies_in_mask.shape)\n",
    "\n",
    "# print('\\nSum of Points IN:', np.sum(galaxies_boolean))\n",
    "\n",
    "# print('\\nSum of Points OUT:', np.sum(~galaxies_boolean))\n",
    "\n",
    "# print('\\nBoolean Shape:', galaxies_boolean.shape)\n",
    "\n",
    "# print('\\nPoints in Mask:\\n',galaxies_in_mask)\n"
   ]
  },
  {
   "cell_type": "code",
   "execution_count": 20,
   "id": "6ff82a7b",
   "metadata": {},
   "outputs": [
    {
     "name": "stdout",
     "output_type": "stream",
     "text": [
      "[-203.6687453    46.11162026   -0.45460279]\n",
      "[-37.61319897   8.52313845   0.29940864]\n"
     ]
    },
    {
     "data": {
      "text/plain": [
       "numpy.ndarray"
      ]
     },
     "execution_count": 20,
     "metadata": {},
     "output_type": "execute_result"
    }
   ],
   "source": [
    "# curr_gal = galaxies_xyz[513625,:]\n",
    "# print(curr_gal)\n",
    "# curr_gal = galaxies_xyz[513626,:]\n",
    "# print(curr_gal)\n",
    "# type(curr_gal)\n",
    "\n",
    "# curr_gal = data_table_vl[513625,:]\n",
    "# print(crr_gal)\n",
    "\n",
    "#Galaxy 513626 = [[-0.  0.  0.]]"
   ]
  },
  {
   "cell_type": "code",
   "execution_count": 19,
   "id": "16d8af1e",
   "metadata": {},
   "outputs": [
    {
     "data": {
      "text/plain": [
       "-433.95943664150735"
      ]
     },
     "execution_count": 19,
     "metadata": {},
     "output_type": "execute_result"
    }
   ],
   "source": [
    "# xmax = np.min(data_table_vl['x'])\n",
    "# xmax"
   ]
  },
  {
   "cell_type": "code",
   "execution_count": 26,
   "id": "f039bd91",
   "metadata": {},
   "outputs": [
    {
     "data": {
      "application/javascript": "/* Put everything inside the global mpl namespace */\n/* global mpl */\nwindow.mpl = {};\n\nmpl.get_websocket_type = function () {\n    if (typeof WebSocket !== 'undefined') {\n        return WebSocket;\n    } else if (typeof MozWebSocket !== 'undefined') {\n        return MozWebSocket;\n    } else {\n        alert(\n            'Your browser does not have WebSocket support. ' +\n                'Please try Chrome, Safari or Firefox ≥ 6. ' +\n                'Firefox 4 and 5 are also supported but you ' +\n                'have to enable WebSockets in about:config.'\n        );\n    }\n};\n\nmpl.figure = function (figure_id, websocket, ondownload, parent_element) {\n    this.id = figure_id;\n\n    this.ws = websocket;\n\n    this.supports_binary = this.ws.binaryType !== undefined;\n\n    if (!this.supports_binary) {\n        var warnings = document.getElementById('mpl-warnings');\n        if (warnings) {\n            warnings.style.display = 'block';\n            warnings.textContent =\n                'This browser does not support binary websocket messages. ' +\n                'Performance may be slow.';\n        }\n    }\n\n    this.imageObj = new Image();\n\n    this.context = undefined;\n    this.message = undefined;\n    this.canvas = undefined;\n    this.rubberband_canvas = undefined;\n    this.rubberband_context = undefined;\n    this.format_dropdown = undefined;\n\n    this.image_mode = 'full';\n\n    this.root = document.createElement('div');\n    this.root.setAttribute('style', 'display: inline-block');\n    this._root_extra_style(this.root);\n\n    parent_element.appendChild(this.root);\n\n    this._init_header(this);\n    this._init_canvas(this);\n    this._init_toolbar(this);\n\n    var fig = this;\n\n    this.waiting = false;\n\n    this.ws.onopen = function () {\n        fig.send_message('supports_binary', { value: fig.supports_binary });\n        fig.send_message('send_image_mode', {});\n        if (fig.ratio !== 1) {\n            fig.send_message('set_dpi_ratio', { dpi_ratio: fig.ratio });\n        }\n        fig.send_message('refresh', {});\n    };\n\n    this.imageObj.onload = function () {\n        if (fig.image_mode === 'full') {\n            // Full images could contain transparency (where diff images\n            // almost always do), so we need to clear the canvas so that\n            // there is no ghosting.\n            fig.context.clearRect(0, 0, fig.canvas.width, fig.canvas.height);\n        }\n        fig.context.drawImage(fig.imageObj, 0, 0);\n    };\n\n    this.imageObj.onunload = function () {\n        fig.ws.close();\n    };\n\n    this.ws.onmessage = this._make_on_message_function(this);\n\n    this.ondownload = ondownload;\n};\n\nmpl.figure.prototype._init_header = function () {\n    var titlebar = document.createElement('div');\n    titlebar.classList =\n        'ui-dialog-titlebar ui-widget-header ui-corner-all ui-helper-clearfix';\n    var titletext = document.createElement('div');\n    titletext.classList = 'ui-dialog-title';\n    titletext.setAttribute(\n        'style',\n        'width: 100%; text-align: center; padding: 3px;'\n    );\n    titlebar.appendChild(titletext);\n    this.root.appendChild(titlebar);\n    this.header = titletext;\n};\n\nmpl.figure.prototype._canvas_extra_style = function (_canvas_div) {};\n\nmpl.figure.prototype._root_extra_style = function (_canvas_div) {};\n\nmpl.figure.prototype._init_canvas = function () {\n    var fig = this;\n\n    var canvas_div = (this.canvas_div = document.createElement('div'));\n    canvas_div.setAttribute(\n        'style',\n        'border: 1px solid #ddd;' +\n            'box-sizing: content-box;' +\n            'clear: both;' +\n            'min-height: 1px;' +\n            'min-width: 1px;' +\n            'outline: 0;' +\n            'overflow: hidden;' +\n            'position: relative;' +\n            'resize: both;'\n    );\n\n    function on_keyboard_event_closure(name) {\n        return function (event) {\n            return fig.key_event(event, name);\n        };\n    }\n\n    canvas_div.addEventListener(\n        'keydown',\n        on_keyboard_event_closure('key_press')\n    );\n    canvas_div.addEventListener(\n        'keyup',\n        on_keyboard_event_closure('key_release')\n    );\n\n    this._canvas_extra_style(canvas_div);\n    this.root.appendChild(canvas_div);\n\n    var canvas = (this.canvas = document.createElement('canvas'));\n    canvas.classList.add('mpl-canvas');\n    canvas.setAttribute('style', 'box-sizing: content-box;');\n\n    this.context = canvas.getContext('2d');\n\n    var backingStore =\n        this.context.backingStorePixelRatio ||\n        this.context.webkitBackingStorePixelRatio ||\n        this.context.mozBackingStorePixelRatio ||\n        this.context.msBackingStorePixelRatio ||\n        this.context.oBackingStorePixelRatio ||\n        this.context.backingStorePixelRatio ||\n        1;\n\n    this.ratio = (window.devicePixelRatio || 1) / backingStore;\n\n    var rubberband_canvas = (this.rubberband_canvas = document.createElement(\n        'canvas'\n    ));\n    rubberband_canvas.setAttribute(\n        'style',\n        'box-sizing: content-box; position: absolute; left: 0; top: 0; z-index: 1;'\n    );\n\n    // Apply a ponyfill if ResizeObserver is not implemented by browser.\n    if (this.ResizeObserver === undefined) {\n        if (window.ResizeObserver !== undefined) {\n            this.ResizeObserver = window.ResizeObserver;\n        } else {\n            var obs = _JSXTOOLS_RESIZE_OBSERVER({});\n            this.ResizeObserver = obs.ResizeObserver;\n        }\n    }\n\n    this.resizeObserverInstance = new this.ResizeObserver(function (entries) {\n        var nentries = entries.length;\n        for (var i = 0; i < nentries; i++) {\n            var entry = entries[i];\n            var width, height;\n            if (entry.contentBoxSize) {\n                if (entry.contentBoxSize instanceof Array) {\n                    // Chrome 84 implements new version of spec.\n                    width = entry.contentBoxSize[0].inlineSize;\n                    height = entry.contentBoxSize[0].blockSize;\n                } else {\n                    // Firefox implements old version of spec.\n                    width = entry.contentBoxSize.inlineSize;\n                    height = entry.contentBoxSize.blockSize;\n                }\n            } else {\n                // Chrome <84 implements even older version of spec.\n                width = entry.contentRect.width;\n                height = entry.contentRect.height;\n            }\n\n            // Keep the size of the canvas and rubber band canvas in sync with\n            // the canvas container.\n            if (entry.devicePixelContentBoxSize) {\n                // Chrome 84 implements new version of spec.\n                canvas.setAttribute(\n                    'width',\n                    entry.devicePixelContentBoxSize[0].inlineSize\n                );\n                canvas.setAttribute(\n                    'height',\n                    entry.devicePixelContentBoxSize[0].blockSize\n                );\n            } else {\n                canvas.setAttribute('width', width * fig.ratio);\n                canvas.setAttribute('height', height * fig.ratio);\n            }\n            canvas.setAttribute(\n                'style',\n                'width: ' + width + 'px; height: ' + height + 'px;'\n            );\n\n            rubberband_canvas.setAttribute('width', width);\n            rubberband_canvas.setAttribute('height', height);\n\n            // And update the size in Python. We ignore the initial 0/0 size\n            // that occurs as the element is placed into the DOM, which should\n            // otherwise not happen due to the minimum size styling.\n            if (fig.ws.readyState == 1 && width != 0 && height != 0) {\n                fig.request_resize(width, height);\n            }\n        }\n    });\n    this.resizeObserverInstance.observe(canvas_div);\n\n    function on_mouse_event_closure(name) {\n        return function (event) {\n            return fig.mouse_event(event, name);\n        };\n    }\n\n    rubberband_canvas.addEventListener(\n        'mousedown',\n        on_mouse_event_closure('button_press')\n    );\n    rubberband_canvas.addEventListener(\n        'mouseup',\n        on_mouse_event_closure('button_release')\n    );\n    // Throttle sequential mouse events to 1 every 20ms.\n    rubberband_canvas.addEventListener(\n        'mousemove',\n        on_mouse_event_closure('motion_notify')\n    );\n\n    rubberband_canvas.addEventListener(\n        'mouseenter',\n        on_mouse_event_closure('figure_enter')\n    );\n    rubberband_canvas.addEventListener(\n        'mouseleave',\n        on_mouse_event_closure('figure_leave')\n    );\n\n    canvas_div.addEventListener('wheel', function (event) {\n        if (event.deltaY < 0) {\n            event.step = 1;\n        } else {\n            event.step = -1;\n        }\n        on_mouse_event_closure('scroll')(event);\n    });\n\n    canvas_div.appendChild(canvas);\n    canvas_div.appendChild(rubberband_canvas);\n\n    this.rubberband_context = rubberband_canvas.getContext('2d');\n    this.rubberband_context.strokeStyle = '#000000';\n\n    this._resize_canvas = function (width, height, forward) {\n        if (forward) {\n            canvas_div.style.width = width + 'px';\n            canvas_div.style.height = height + 'px';\n        }\n    };\n\n    // Disable right mouse context menu.\n    this.rubberband_canvas.addEventListener('contextmenu', function (_e) {\n        event.preventDefault();\n        return false;\n    });\n\n    function set_focus() {\n        canvas.focus();\n        canvas_div.focus();\n    }\n\n    window.setTimeout(set_focus, 100);\n};\n\nmpl.figure.prototype._init_toolbar = function () {\n    var fig = this;\n\n    var toolbar = document.createElement('div');\n    toolbar.classList = 'mpl-toolbar';\n    this.root.appendChild(toolbar);\n\n    function on_click_closure(name) {\n        return function (_event) {\n            return fig.toolbar_button_onclick(name);\n        };\n    }\n\n    function on_mouseover_closure(tooltip) {\n        return function (event) {\n            if (!event.currentTarget.disabled) {\n                return fig.toolbar_button_onmouseover(tooltip);\n            }\n        };\n    }\n\n    fig.buttons = {};\n    var buttonGroup = document.createElement('div');\n    buttonGroup.classList = 'mpl-button-group';\n    for (var toolbar_ind in mpl.toolbar_items) {\n        var name = mpl.toolbar_items[toolbar_ind][0];\n        var tooltip = mpl.toolbar_items[toolbar_ind][1];\n        var image = mpl.toolbar_items[toolbar_ind][2];\n        var method_name = mpl.toolbar_items[toolbar_ind][3];\n\n        if (!name) {\n            /* Instead of a spacer, we start a new button group. */\n            if (buttonGroup.hasChildNodes()) {\n                toolbar.appendChild(buttonGroup);\n            }\n            buttonGroup = document.createElement('div');\n            buttonGroup.classList = 'mpl-button-group';\n            continue;\n        }\n\n        var button = (fig.buttons[name] = document.createElement('button'));\n        button.classList = 'mpl-widget';\n        button.setAttribute('role', 'button');\n        button.setAttribute('aria-disabled', 'false');\n        button.addEventListener('click', on_click_closure(method_name));\n        button.addEventListener('mouseover', on_mouseover_closure(tooltip));\n\n        var icon_img = document.createElement('img');\n        icon_img.src = '_images/' + image + '.png';\n        icon_img.srcset = '_images/' + image + '_large.png 2x';\n        icon_img.alt = tooltip;\n        button.appendChild(icon_img);\n\n        buttonGroup.appendChild(button);\n    }\n\n    if (buttonGroup.hasChildNodes()) {\n        toolbar.appendChild(buttonGroup);\n    }\n\n    var fmt_picker = document.createElement('select');\n    fmt_picker.classList = 'mpl-widget';\n    toolbar.appendChild(fmt_picker);\n    this.format_dropdown = fmt_picker;\n\n    for (var ind in mpl.extensions) {\n        var fmt = mpl.extensions[ind];\n        var option = document.createElement('option');\n        option.selected = fmt === mpl.default_extension;\n        option.innerHTML = fmt;\n        fmt_picker.appendChild(option);\n    }\n\n    var status_bar = document.createElement('span');\n    status_bar.classList = 'mpl-message';\n    toolbar.appendChild(status_bar);\n    this.message = status_bar;\n};\n\nmpl.figure.prototype.request_resize = function (x_pixels, y_pixels) {\n    // Request matplotlib to resize the figure. Matplotlib will then trigger a resize in the client,\n    // which will in turn request a refresh of the image.\n    this.send_message('resize', { width: x_pixels, height: y_pixels });\n};\n\nmpl.figure.prototype.send_message = function (type, properties) {\n    properties['type'] = type;\n    properties['figure_id'] = this.id;\n    this.ws.send(JSON.stringify(properties));\n};\n\nmpl.figure.prototype.send_draw_message = function () {\n    if (!this.waiting) {\n        this.waiting = true;\n        this.ws.send(JSON.stringify({ type: 'draw', figure_id: this.id }));\n    }\n};\n\nmpl.figure.prototype.handle_save = function (fig, _msg) {\n    var format_dropdown = fig.format_dropdown;\n    var format = format_dropdown.options[format_dropdown.selectedIndex].value;\n    fig.ondownload(fig, format);\n};\n\nmpl.figure.prototype.handle_resize = function (fig, msg) {\n    var size = msg['size'];\n    if (size[0] !== fig.canvas.width || size[1] !== fig.canvas.height) {\n        fig._resize_canvas(size[0], size[1], msg['forward']);\n        fig.send_message('refresh', {});\n    }\n};\n\nmpl.figure.prototype.handle_rubberband = function (fig, msg) {\n    var x0 = msg['x0'] / fig.ratio;\n    var y0 = (fig.canvas.height - msg['y0']) / fig.ratio;\n    var x1 = msg['x1'] / fig.ratio;\n    var y1 = (fig.canvas.height - msg['y1']) / fig.ratio;\n    x0 = Math.floor(x0) + 0.5;\n    y0 = Math.floor(y0) + 0.5;\n    x1 = Math.floor(x1) + 0.5;\n    y1 = Math.floor(y1) + 0.5;\n    var min_x = Math.min(x0, x1);\n    var min_y = Math.min(y0, y1);\n    var width = Math.abs(x1 - x0);\n    var height = Math.abs(y1 - y0);\n\n    fig.rubberband_context.clearRect(\n        0,\n        0,\n        fig.canvas.width / fig.ratio,\n        fig.canvas.height / fig.ratio\n    );\n\n    fig.rubberband_context.strokeRect(min_x, min_y, width, height);\n};\n\nmpl.figure.prototype.handle_figure_label = function (fig, msg) {\n    // Updates the figure title.\n    fig.header.textContent = msg['label'];\n};\n\nmpl.figure.prototype.handle_cursor = function (fig, msg) {\n    var cursor = msg['cursor'];\n    switch (cursor) {\n        case 0:\n            cursor = 'pointer';\n            break;\n        case 1:\n            cursor = 'default';\n            break;\n        case 2:\n            cursor = 'crosshair';\n            break;\n        case 3:\n            cursor = 'move';\n            break;\n    }\n    fig.rubberband_canvas.style.cursor = cursor;\n};\n\nmpl.figure.prototype.handle_message = function (fig, msg) {\n    fig.message.textContent = msg['message'];\n};\n\nmpl.figure.prototype.handle_draw = function (fig, _msg) {\n    // Request the server to send over a new figure.\n    fig.send_draw_message();\n};\n\nmpl.figure.prototype.handle_image_mode = function (fig, msg) {\n    fig.image_mode = msg['mode'];\n};\n\nmpl.figure.prototype.handle_history_buttons = function (fig, msg) {\n    for (var key in msg) {\n        if (!(key in fig.buttons)) {\n            continue;\n        }\n        fig.buttons[key].disabled = !msg[key];\n        fig.buttons[key].setAttribute('aria-disabled', !msg[key]);\n    }\n};\n\nmpl.figure.prototype.handle_navigate_mode = function (fig, msg) {\n    if (msg['mode'] === 'PAN') {\n        fig.buttons['Pan'].classList.add('active');\n        fig.buttons['Zoom'].classList.remove('active');\n    } else if (msg['mode'] === 'ZOOM') {\n        fig.buttons['Pan'].classList.remove('active');\n        fig.buttons['Zoom'].classList.add('active');\n    } else {\n        fig.buttons['Pan'].classList.remove('active');\n        fig.buttons['Zoom'].classList.remove('active');\n    }\n};\n\nmpl.figure.prototype.updated_canvas_event = function () {\n    // Called whenever the canvas gets updated.\n    this.send_message('ack', {});\n};\n\n// A function to construct a web socket function for onmessage handling.\n// Called in the figure constructor.\nmpl.figure.prototype._make_on_message_function = function (fig) {\n    return function socket_on_message(evt) {\n        if (evt.data instanceof Blob) {\n            /* FIXME: We get \"Resource interpreted as Image but\n             * transferred with MIME type text/plain:\" errors on\n             * Chrome.  But how to set the MIME type?  It doesn't seem\n             * to be part of the websocket stream */\n            evt.data.type = 'image/png';\n\n            /* Free the memory for the previous frames */\n            if (fig.imageObj.src) {\n                (window.URL || window.webkitURL).revokeObjectURL(\n                    fig.imageObj.src\n                );\n            }\n\n            fig.imageObj.src = (window.URL || window.webkitURL).createObjectURL(\n                evt.data\n            );\n            fig.updated_canvas_event();\n            fig.waiting = false;\n            return;\n        } else if (\n            typeof evt.data === 'string' &&\n            evt.data.slice(0, 21) === 'data:image/png;base64'\n        ) {\n            fig.imageObj.src = evt.data;\n            fig.updated_canvas_event();\n            fig.waiting = false;\n            return;\n        }\n\n        var msg = JSON.parse(evt.data);\n        var msg_type = msg['type'];\n\n        // Call the  \"handle_{type}\" callback, which takes\n        // the figure and JSON message as its only arguments.\n        try {\n            var callback = fig['handle_' + msg_type];\n        } catch (e) {\n            console.log(\n                \"No handler for the '\" + msg_type + \"' message type: \",\n                msg\n            );\n            return;\n        }\n\n        if (callback) {\n            try {\n                // console.log(\"Handling '\" + msg_type + \"' message: \", msg);\n                callback(fig, msg);\n            } catch (e) {\n                console.log(\n                    \"Exception inside the 'handler_\" + msg_type + \"' callback:\",\n                    e,\n                    e.stack,\n                    msg\n                );\n            }\n        }\n    };\n};\n\n// from http://stackoverflow.com/questions/1114465/getting-mouse-location-in-canvas\nmpl.findpos = function (e) {\n    //this section is from http://www.quirksmode.org/js/events_properties.html\n    var targ;\n    if (!e) {\n        e = window.event;\n    }\n    if (e.target) {\n        targ = e.target;\n    } else if (e.srcElement) {\n        targ = e.srcElement;\n    }\n    if (targ.nodeType === 3) {\n        // defeat Safari bug\n        targ = targ.parentNode;\n    }\n\n    // pageX,Y are the mouse positions relative to the document\n    var boundingRect = targ.getBoundingClientRect();\n    var x = e.pageX - (boundingRect.left + document.body.scrollLeft);\n    var y = e.pageY - (boundingRect.top + document.body.scrollTop);\n\n    return { x: x, y: y };\n};\n\n/*\n * return a copy of an object with only non-object keys\n * we need this to avoid circular references\n * http://stackoverflow.com/a/24161582/3208463\n */\nfunction simpleKeys(original) {\n    return Object.keys(original).reduce(function (obj, key) {\n        if (typeof original[key] !== 'object') {\n            obj[key] = original[key];\n        }\n        return obj;\n    }, {});\n}\n\nmpl.figure.prototype.mouse_event = function (event, name) {\n    var canvas_pos = mpl.findpos(event);\n\n    if (name === 'button_press') {\n        this.canvas.focus();\n        this.canvas_div.focus();\n    }\n\n    var x = canvas_pos.x * this.ratio;\n    var y = canvas_pos.y * this.ratio;\n\n    this.send_message(name, {\n        x: x,\n        y: y,\n        button: event.button,\n        step: event.step,\n        guiEvent: simpleKeys(event),\n    });\n\n    /* This prevents the web browser from automatically changing to\n     * the text insertion cursor when the button is pressed.  We want\n     * to control all of the cursor setting manually through the\n     * 'cursor' event from matplotlib */\n    event.preventDefault();\n    return false;\n};\n\nmpl.figure.prototype._key_event_extra = function (_event, _name) {\n    // Handle any extra behaviour associated with a key event\n};\n\nmpl.figure.prototype.key_event = function (event, name) {\n    // Prevent repeat events\n    if (name === 'key_press') {\n        if (event.which === this._key) {\n            return;\n        } else {\n            this._key = event.which;\n        }\n    }\n    if (name === 'key_release') {\n        this._key = null;\n    }\n\n    var value = '';\n    if (event.ctrlKey && event.which !== 17) {\n        value += 'ctrl+';\n    }\n    if (event.altKey && event.which !== 18) {\n        value += 'alt+';\n    }\n    if (event.shiftKey && event.which !== 16) {\n        value += 'shift+';\n    }\n\n    value += 'k';\n    value += event.which.toString();\n\n    this._key_event_extra(event, name);\n\n    this.send_message(name, { key: value, guiEvent: simpleKeys(event) });\n    return false;\n};\n\nmpl.figure.prototype.toolbar_button_onclick = function (name) {\n    if (name === 'download') {\n        this.handle_save(this, null);\n    } else {\n        this.send_message('toolbar_button', { name: name });\n    }\n};\n\nmpl.figure.prototype.toolbar_button_onmouseover = function (tooltip) {\n    this.message.textContent = tooltip;\n};\n\n///////////////// REMAINING CONTENT GENERATED BY embed_js.py /////////////////\n// prettier-ignore\nvar _JSXTOOLS_RESIZE_OBSERVER=function(A){var t,i=new WeakMap,n=new WeakMap,a=new WeakMap,r=new WeakMap,o=new Set;function s(e){if(!(this instanceof s))throw new TypeError(\"Constructor requires 'new' operator\");i.set(this,e)}function h(){throw new TypeError(\"Function is not a constructor\")}function c(e,t,i,n){e=0 in arguments?Number(arguments[0]):0,t=1 in arguments?Number(arguments[1]):0,i=2 in arguments?Number(arguments[2]):0,n=3 in arguments?Number(arguments[3]):0,this.right=(this.x=this.left=e)+(this.width=i),this.bottom=(this.y=this.top=t)+(this.height=n),Object.freeze(this)}function d(){t=requestAnimationFrame(d);var s=new WeakMap,p=new Set;o.forEach((function(t){r.get(t).forEach((function(i){var r=t instanceof window.SVGElement,o=a.get(t),d=r?0:parseFloat(o.paddingTop),f=r?0:parseFloat(o.paddingRight),l=r?0:parseFloat(o.paddingBottom),u=r?0:parseFloat(o.paddingLeft),g=r?0:parseFloat(o.borderTopWidth),m=r?0:parseFloat(o.borderRightWidth),w=r?0:parseFloat(o.borderBottomWidth),b=u+f,F=d+l,v=(r?0:parseFloat(o.borderLeftWidth))+m,W=g+w,y=r?0:t.offsetHeight-W-t.clientHeight,E=r?0:t.offsetWidth-v-t.clientWidth,R=b+v,z=F+W,M=r?t.width:parseFloat(o.width)-R-E,O=r?t.height:parseFloat(o.height)-z-y;if(n.has(t)){var k=n.get(t);if(k[0]===M&&k[1]===O)return}n.set(t,[M,O]);var S=Object.create(h.prototype);S.target=t,S.contentRect=new c(u,d,M,O),s.has(i)||(s.set(i,[]),p.add(i)),s.get(i).push(S)}))})),p.forEach((function(e){i.get(e).call(e,s.get(e),e)}))}return s.prototype.observe=function(i){if(i instanceof window.Element){r.has(i)||(r.set(i,new Set),o.add(i),a.set(i,window.getComputedStyle(i)));var n=r.get(i);n.has(this)||n.add(this),cancelAnimationFrame(t),t=requestAnimationFrame(d)}},s.prototype.unobserve=function(i){if(i instanceof window.Element&&r.has(i)){var n=r.get(i);n.has(this)&&(n.delete(this),n.size||(r.delete(i),o.delete(i))),n.size||r.delete(i),o.size||cancelAnimationFrame(t)}},A.DOMRectReadOnly=c,A.ResizeObserver=s,A.ResizeObserverEntry=h,A}; // eslint-disable-line\nmpl.toolbar_items = [[\"Home\", \"Reset original view\", \"fa fa-home icon-home\", \"home\"], [\"Back\", \"Back to previous view\", \"fa fa-arrow-left icon-arrow-left\", \"back\"], [\"Forward\", \"Forward to next view\", \"fa fa-arrow-right icon-arrow-right\", \"forward\"], [\"\", \"\", \"\", \"\"], [\"Pan\", \"Left button pans, Right button zooms\\nx/y fixes axis, CTRL fixes aspect\", \"fa fa-arrows icon-move\", \"pan\"], [\"Zoom\", \"Zoom to rectangle\\nx/y fixes axis, CTRL fixes aspect\", \"fa fa-square-o icon-check-empty\", \"zoom\"], [\"\", \"\", \"\", \"\"], [\"Download\", \"Download plot\", \"fa fa-floppy-o icon-save\", \"download\"]];\n\nmpl.extensions = [\"eps\", \"jpeg\", \"pdf\", \"png\", \"ps\", \"raw\", \"svg\", \"tif\"];\n\nmpl.default_extension = \"png\";/* global mpl */\n\nvar comm_websocket_adapter = function (comm) {\n    // Create a \"websocket\"-like object which calls the given IPython comm\n    // object with the appropriate methods. Currently this is a non binary\n    // socket, so there is still some room for performance tuning.\n    var ws = {};\n\n    ws.close = function () {\n        comm.close();\n    };\n    ws.send = function (m) {\n        //console.log('sending', m);\n        comm.send(m);\n    };\n    // Register the callback with on_msg.\n    comm.on_msg(function (msg) {\n        //console.log('receiving', msg['content']['data'], msg);\n        // Pass the mpl event to the overridden (by mpl) onmessage function.\n        ws.onmessage(msg['content']['data']);\n    });\n    return ws;\n};\n\nmpl.mpl_figure_comm = function (comm, msg) {\n    // This is the function which gets called when the mpl process\n    // starts-up an IPython Comm through the \"matplotlib\" channel.\n\n    var id = msg.content.data.id;\n    // Get hold of the div created by the display call when the Comm\n    // socket was opened in Python.\n    var element = document.getElementById(id);\n    var ws_proxy = comm_websocket_adapter(comm);\n\n    function ondownload(figure, _format) {\n        window.open(figure.canvas.toDataURL());\n    }\n\n    var fig = new mpl.figure(id, ws_proxy, ondownload, element);\n\n    // Call onopen now - mpl needs it, as it is assuming we've passed it a real\n    // web socket which is closed, not our websocket->open comm proxy.\n    ws_proxy.onopen();\n\n    fig.parent_element = element;\n    fig.cell_info = mpl.find_output_cell(\"<div id='\" + id + \"'></div>\");\n    if (!fig.cell_info) {\n        console.error('Failed to find cell for figure', id, fig);\n        return;\n    }\n    fig.cell_info[0].output_area.element.on(\n        'cleared',\n        { fig: fig },\n        fig._remove_fig_handler\n    );\n};\n\nmpl.figure.prototype.handle_close = function (fig, msg) {\n    var width = fig.canvas.width / fig.ratio;\n    fig.cell_info[0].output_area.element.off(\n        'cleared',\n        fig._remove_fig_handler\n    );\n    fig.resizeObserverInstance.unobserve(fig.canvas_div);\n\n    // Update the output cell to use the data from the current canvas.\n    fig.push_to_output();\n    var dataURL = fig.canvas.toDataURL();\n    // Re-enable the keyboard manager in IPython - without this line, in FF,\n    // the notebook keyboard shortcuts fail.\n    IPython.keyboard_manager.enable();\n    fig.parent_element.innerHTML =\n        '<img src=\"' + dataURL + '\" width=\"' + width + '\">';\n    fig.close_ws(fig, msg);\n};\n\nmpl.figure.prototype.close_ws = function (fig, msg) {\n    fig.send_message('closing', msg);\n    // fig.ws.close()\n};\n\nmpl.figure.prototype.push_to_output = function (_remove_interactive) {\n    // Turn the data on the canvas into data in the output cell.\n    var width = this.canvas.width / this.ratio;\n    var dataURL = this.canvas.toDataURL();\n    this.cell_info[1]['text/html'] =\n        '<img src=\"' + dataURL + '\" width=\"' + width + '\">';\n};\n\nmpl.figure.prototype.updated_canvas_event = function () {\n    // Tell IPython that the notebook contents must change.\n    IPython.notebook.set_dirty(true);\n    this.send_message('ack', {});\n    var fig = this;\n    // Wait a second, then push the new image to the DOM so\n    // that it is saved nicely (might be nice to debounce this).\n    setTimeout(function () {\n        fig.push_to_output();\n    }, 1000);\n};\n\nmpl.figure.prototype._init_toolbar = function () {\n    var fig = this;\n\n    var toolbar = document.createElement('div');\n    toolbar.classList = 'btn-toolbar';\n    this.root.appendChild(toolbar);\n\n    function on_click_closure(name) {\n        return function (_event) {\n            return fig.toolbar_button_onclick(name);\n        };\n    }\n\n    function on_mouseover_closure(tooltip) {\n        return function (event) {\n            if (!event.currentTarget.disabled) {\n                return fig.toolbar_button_onmouseover(tooltip);\n            }\n        };\n    }\n\n    fig.buttons = {};\n    var buttonGroup = document.createElement('div');\n    buttonGroup.classList = 'btn-group';\n    var button;\n    for (var toolbar_ind in mpl.toolbar_items) {\n        var name = mpl.toolbar_items[toolbar_ind][0];\n        var tooltip = mpl.toolbar_items[toolbar_ind][1];\n        var image = mpl.toolbar_items[toolbar_ind][2];\n        var method_name = mpl.toolbar_items[toolbar_ind][3];\n\n        if (!name) {\n            /* Instead of a spacer, we start a new button group. */\n            if (buttonGroup.hasChildNodes()) {\n                toolbar.appendChild(buttonGroup);\n            }\n            buttonGroup = document.createElement('div');\n            buttonGroup.classList = 'btn-group';\n            continue;\n        }\n\n        button = fig.buttons[name] = document.createElement('button');\n        button.classList = 'btn btn-default';\n        button.href = '#';\n        button.title = name;\n        button.innerHTML = '<i class=\"fa ' + image + ' fa-lg\"></i>';\n        button.addEventListener('click', on_click_closure(method_name));\n        button.addEventListener('mouseover', on_mouseover_closure(tooltip));\n        buttonGroup.appendChild(button);\n    }\n\n    if (buttonGroup.hasChildNodes()) {\n        toolbar.appendChild(buttonGroup);\n    }\n\n    // Add the status bar.\n    var status_bar = document.createElement('span');\n    status_bar.classList = 'mpl-message pull-right';\n    toolbar.appendChild(status_bar);\n    this.message = status_bar;\n\n    // Add the close button to the window.\n    var buttongrp = document.createElement('div');\n    buttongrp.classList = 'btn-group inline pull-right';\n    button = document.createElement('button');\n    button.classList = 'btn btn-mini btn-primary';\n    button.href = '#';\n    button.title = 'Stop Interaction';\n    button.innerHTML = '<i class=\"fa fa-power-off icon-remove icon-large\"></i>';\n    button.addEventListener('click', function (_evt) {\n        fig.handle_close(fig, {});\n    });\n    button.addEventListener(\n        'mouseover',\n        on_mouseover_closure('Stop Interaction')\n    );\n    buttongrp.appendChild(button);\n    var titlebar = this.root.querySelector('.ui-dialog-titlebar');\n    titlebar.insertBefore(buttongrp, titlebar.firstChild);\n};\n\nmpl.figure.prototype._remove_fig_handler = function (event) {\n    var fig = event.data.fig;\n    if (event.target !== this) {\n        // Ignore bubbled events from children.\n        return;\n    }\n    fig.close_ws(fig, {});\n};\n\nmpl.figure.prototype._root_extra_style = function (el) {\n    el.style.boxSizing = 'content-box'; // override notebook setting of border-box.\n};\n\nmpl.figure.prototype._canvas_extra_style = function (el) {\n    // this is important to make the div 'focusable\n    el.setAttribute('tabindex', 0);\n    // reach out to IPython and tell the keyboard manager to turn it's self\n    // off when our div gets focus\n\n    // location in version 3\n    if (IPython.notebook.keyboard_manager) {\n        IPython.notebook.keyboard_manager.register_events(el);\n    } else {\n        // location in version 2\n        IPython.keyboard_manager.register_events(el);\n    }\n};\n\nmpl.figure.prototype._key_event_extra = function (event, _name) {\n    var manager = IPython.notebook.keyboard_manager;\n    if (!manager) {\n        manager = IPython.keyboard_manager;\n    }\n\n    // Check for shift+enter\n    if (event.shiftKey && event.which === 13) {\n        this.canvas_div.blur();\n        // select the cell after this one\n        var index = IPython.notebook.find_cell_index(this.cell_info[0]);\n        IPython.notebook.select(index + 1);\n    }\n};\n\nmpl.figure.prototype.handle_save = function (fig, _msg) {\n    fig.ondownload(fig, null);\n};\n\nmpl.find_output_cell = function (html_output) {\n    // Return the cell and output element which can be found *uniquely* in the notebook.\n    // Note - this is a bit hacky, but it is done because the \"notebook_saving.Notebook\"\n    // IPython event is triggered only after the cells have been serialised, which for\n    // our purposes (turning an active figure into a static one), is too late.\n    var cells = IPython.notebook.get_cells();\n    var ncells = cells.length;\n    for (var i = 0; i < ncells; i++) {\n        var cell = cells[i];\n        if (cell.cell_type === 'code') {\n            for (var j = 0; j < cell.output_area.outputs.length; j++) {\n                var data = cell.output_area.outputs[j];\n                if (data.data) {\n                    // IPython >= 3 moved mimebundle to data attribute of output\n                    data = data.data;\n                }\n                if (data['text/html'] === html_output) {\n                    return [cell, data, j];\n                }\n            }\n        }\n    }\n};\n\n// Register the function which deals with the matplotlib target/channel.\n// The kernel may be null if the page has been refreshed.\nif (IPython.notebook.kernel !== null) {\n    IPython.notebook.kernel.comm_manager.register_target(\n        'matplotlib',\n        mpl.mpl_figure_comm\n    );\n}\n",
      "text/plain": [
       "<IPython.core.display.Javascript object>"
      ]
     },
     "metadata": {},
     "output_type": "display_data"
    },
    {
     "data": {
      "text/html": [
       "<div id='ba7cce37-40bf-4aff-8376-7d6ab3b4a3d3'></div>"
      ],
      "text/plain": [
       "<IPython.core.display.HTML object>"
      ]
     },
     "metadata": {},
     "output_type": "display_data"
    }
   ],
   "source": [
    "# fig = plt.figure(figsize=(12, 12))\n",
    "# ax = fig.add_subplot(projection='3d')\n",
    "# ax.scatter(galaxies_in_mask['x'],galaxies_in_mask['y'], galaxies_in_mask['z'],\n",
    "#            color = 'blue', s=10, alpha=0.5,\n",
    "#            label='max')\n",
    "# ax.set(xlabel='X [Mpc/h]',\n",
    "#        ylabel='Y [Mpc/h]',\n",
    "#        zlabel='Z [Mpc/h]')\n",
    "\n",
    "# ax.legend(loc='upper right', fontsize=10)\n",
    "# plt.title(\"Galaxy Structure\");\n",
    "\n"
   ]
  },
  {
   "cell_type": "code",
   "execution_count": 21,
   "id": "e05ab2e2",
   "metadata": {},
   "outputs": [],
   "source": [
    "def calc_volume_boundaries(void_cat_A, void_cat_B):\n",
    "    \"\"\"Compute the boundaries of the minimal rectangular volume (parallelpiped)\n",
    "    that completely contains two void catalogs.\n",
    "    \n",
    "    Parameters\n",
    "    ----------\n",
    "    void_cat_A : astropy.Table\n",
    "        Table of void data from first catalog.\n",
    "    void_cat_B : astropy.Table\n",
    "        Table of void data from second catalog.\n",
    "        \n",
    "    Returns\n",
    "    -------\n",
    "    x_min : float\n",
    "    x_max : float\n",
    "    y_min : float\n",
    "    y_max : float\n",
    "    z_min : float\n",
    "    z_max : float\n",
    "    \"\"\"\n",
    "    x_min = np.minimum(np.min(void_cat_A['x']), np.min(void_cat_B['x']))\n",
    "    x_max = np.maximum(np.max(void_cat_A['x']), np.max(void_cat_B['x']))\n",
    "    \n",
    "    y_min = np.minimum(np.min(void_cat_A['y']), np.min(void_cat_B['y']))\n",
    "    y_max = np.maximum(np.max(void_cat_A['y']), np.max(void_cat_B['y']))\n",
    "\n",
    "    z_min = np.minimum(np.min(void_cat_A['z']), np.min(void_cat_B['z']))\n",
    "    z_max = np.maximum(np.max(void_cat_A['z']), np.max(void_cat_B['z']))\n",
    "\n",
    "    return x_min, x_max, y_min, y_max, z_min, z_max\n",
    "\n",
    "def generate_grid_points(x_min, x_max, y_min, y_max, z_min, z_max):\n",
    "    \"\"\"Creates a dense rectangular grid of points in 3D for the void volume calculation.\n",
    "    \n",
    "    Returns\n",
    "    -------\n",
    "    xyz : list\n",
    "        2D list of points in 3D space.\n",
    "    \"\"\"\n",
    "    \n",
    "    x_range = np.arange(x_min, x_max) # default spacing: 1 Megaparsec\n",
    "    y_range = np.arange(y_min, y_max)\n",
    "    z_range = np.arange(z_min, z_max)\n",
    "\n",
    "\n",
    "    # Creating a meshgrid from the ranges to \n",
    "    X,Y,Z = np.meshgrid(x_range,y_range,z_range)\n",
    "\n",
    "    x_points = np.ravel(X)\n",
    "    y_points = np.ravel(Y)\n",
    "    z_points = np.ravel(Z)\n",
    "    \n",
    "    point_coords = np.array([x_points, y_points, z_points])\n",
    "    \n",
    "    return point_coords"
   ]
  },
  {
   "cell_type": "markdown",
   "id": "06c33fbb",
   "metadata": {},
   "source": [
    "xmin, xmax, ymin, ymax, zmin, zmax = calc_volume_boundaries(galaxies_in_mask, galaxies_in_mask)\n",
    "\n",
    "Calls the `calc_volume_boundaries` function on the `galaxies_in_mask` array and assigns the returned values to the variables `xmin`, `xmax`, `ymin`, `ymax`, `zmin`, and `zmax`.\n",
    "\n",
    "---\n",
    "\n",
    "pts = generate_grid_points(xmin, xmax, ymin, ymax, zmin, zmax)\n",
    "\n",
    "Calls the `generate_grid_points` function with the values `xmin`, `xmax`, `ymin`, `ymax`, `zmin`, and `zmax` as arguments and assigns the returned value to the `pts` variable.\n",
    "\n",
    "---\n",
    "\n",
    "b = pts.shape\n",
    "print(b)\n",
    "\n",
    "Gets the shape of the `pts` array and assigns it to the `b` variable. The shape of the array is printed.\n"
   ]
  },
  {
   "cell_type": "code",
   "execution_count": 22,
   "id": "494d9911",
   "metadata": {},
   "outputs": [
    {
     "name": "stdout",
     "output_type": "stream",
     "text": [
      "(3, 54394392)\n"
     ]
    }
   ],
   "source": [
    "xmin, xmax, ymin, ymax, zmin, zmax = calc_volume_boundaries(V2_galzones, V2_galzones)\n",
    "\n",
    "\n",
    "#This line makes creates the points in between \n",
    "pts = generate_grid_points(xmin, xmax, ymin, ymax, zmin, zmax)\n",
    "\n",
    "b = pts.shape\n",
    "print(b)"
   ]
  },
  {
   "cell_type": "code",
   "execution_count": 29,
   "id": "e8c6214e",
   "metadata": {},
   "outputs": [
    {
     "data": {
      "application/javascript": "/* Put everything inside the global mpl namespace */\n/* global mpl */\nwindow.mpl = {};\n\nmpl.get_websocket_type = function () {\n    if (typeof WebSocket !== 'undefined') {\n        return WebSocket;\n    } else if (typeof MozWebSocket !== 'undefined') {\n        return MozWebSocket;\n    } else {\n        alert(\n            'Your browser does not have WebSocket support. ' +\n                'Please try Chrome, Safari or Firefox ≥ 6. ' +\n                'Firefox 4 and 5 are also supported but you ' +\n                'have to enable WebSockets in about:config.'\n        );\n    }\n};\n\nmpl.figure = function (figure_id, websocket, ondownload, parent_element) {\n    this.id = figure_id;\n\n    this.ws = websocket;\n\n    this.supports_binary = this.ws.binaryType !== undefined;\n\n    if (!this.supports_binary) {\n        var warnings = document.getElementById('mpl-warnings');\n        if (warnings) {\n            warnings.style.display = 'block';\n            warnings.textContent =\n                'This browser does not support binary websocket messages. ' +\n                'Performance may be slow.';\n        }\n    }\n\n    this.imageObj = new Image();\n\n    this.context = undefined;\n    this.message = undefined;\n    this.canvas = undefined;\n    this.rubberband_canvas = undefined;\n    this.rubberband_context = undefined;\n    this.format_dropdown = undefined;\n\n    this.image_mode = 'full';\n\n    this.root = document.createElement('div');\n    this.root.setAttribute('style', 'display: inline-block');\n    this._root_extra_style(this.root);\n\n    parent_element.appendChild(this.root);\n\n    this._init_header(this);\n    this._init_canvas(this);\n    this._init_toolbar(this);\n\n    var fig = this;\n\n    this.waiting = false;\n\n    this.ws.onopen = function () {\n        fig.send_message('supports_binary', { value: fig.supports_binary });\n        fig.send_message('send_image_mode', {});\n        if (fig.ratio !== 1) {\n            fig.send_message('set_dpi_ratio', { dpi_ratio: fig.ratio });\n        }\n        fig.send_message('refresh', {});\n    };\n\n    this.imageObj.onload = function () {\n        if (fig.image_mode === 'full') {\n            // Full images could contain transparency (where diff images\n            // almost always do), so we need to clear the canvas so that\n            // there is no ghosting.\n            fig.context.clearRect(0, 0, fig.canvas.width, fig.canvas.height);\n        }\n        fig.context.drawImage(fig.imageObj, 0, 0);\n    };\n\n    this.imageObj.onunload = function () {\n        fig.ws.close();\n    };\n\n    this.ws.onmessage = this._make_on_message_function(this);\n\n    this.ondownload = ondownload;\n};\n\nmpl.figure.prototype._init_header = function () {\n    var titlebar = document.createElement('div');\n    titlebar.classList =\n        'ui-dialog-titlebar ui-widget-header ui-corner-all ui-helper-clearfix';\n    var titletext = document.createElement('div');\n    titletext.classList = 'ui-dialog-title';\n    titletext.setAttribute(\n        'style',\n        'width: 100%; text-align: center; padding: 3px;'\n    );\n    titlebar.appendChild(titletext);\n    this.root.appendChild(titlebar);\n    this.header = titletext;\n};\n\nmpl.figure.prototype._canvas_extra_style = function (_canvas_div) {};\n\nmpl.figure.prototype._root_extra_style = function (_canvas_div) {};\n\nmpl.figure.prototype._init_canvas = function () {\n    var fig = this;\n\n    var canvas_div = (this.canvas_div = document.createElement('div'));\n    canvas_div.setAttribute(\n        'style',\n        'border: 1px solid #ddd;' +\n            'box-sizing: content-box;' +\n            'clear: both;' +\n            'min-height: 1px;' +\n            'min-width: 1px;' +\n            'outline: 0;' +\n            'overflow: hidden;' +\n            'position: relative;' +\n            'resize: both;'\n    );\n\n    function on_keyboard_event_closure(name) {\n        return function (event) {\n            return fig.key_event(event, name);\n        };\n    }\n\n    canvas_div.addEventListener(\n        'keydown',\n        on_keyboard_event_closure('key_press')\n    );\n    canvas_div.addEventListener(\n        'keyup',\n        on_keyboard_event_closure('key_release')\n    );\n\n    this._canvas_extra_style(canvas_div);\n    this.root.appendChild(canvas_div);\n\n    var canvas = (this.canvas = document.createElement('canvas'));\n    canvas.classList.add('mpl-canvas');\n    canvas.setAttribute('style', 'box-sizing: content-box;');\n\n    this.context = canvas.getContext('2d');\n\n    var backingStore =\n        this.context.backingStorePixelRatio ||\n        this.context.webkitBackingStorePixelRatio ||\n        this.context.mozBackingStorePixelRatio ||\n        this.context.msBackingStorePixelRatio ||\n        this.context.oBackingStorePixelRatio ||\n        this.context.backingStorePixelRatio ||\n        1;\n\n    this.ratio = (window.devicePixelRatio || 1) / backingStore;\n\n    var rubberband_canvas = (this.rubberband_canvas = document.createElement(\n        'canvas'\n    ));\n    rubberband_canvas.setAttribute(\n        'style',\n        'box-sizing: content-box; position: absolute; left: 0; top: 0; z-index: 1;'\n    );\n\n    // Apply a ponyfill if ResizeObserver is not implemented by browser.\n    if (this.ResizeObserver === undefined) {\n        if (window.ResizeObserver !== undefined) {\n            this.ResizeObserver = window.ResizeObserver;\n        } else {\n            var obs = _JSXTOOLS_RESIZE_OBSERVER({});\n            this.ResizeObserver = obs.ResizeObserver;\n        }\n    }\n\n    this.resizeObserverInstance = new this.ResizeObserver(function (entries) {\n        var nentries = entries.length;\n        for (var i = 0; i < nentries; i++) {\n            var entry = entries[i];\n            var width, height;\n            if (entry.contentBoxSize) {\n                if (entry.contentBoxSize instanceof Array) {\n                    // Chrome 84 implements new version of spec.\n                    width = entry.contentBoxSize[0].inlineSize;\n                    height = entry.contentBoxSize[0].blockSize;\n                } else {\n                    // Firefox implements old version of spec.\n                    width = entry.contentBoxSize.inlineSize;\n                    height = entry.contentBoxSize.blockSize;\n                }\n            } else {\n                // Chrome <84 implements even older version of spec.\n                width = entry.contentRect.width;\n                height = entry.contentRect.height;\n            }\n\n            // Keep the size of the canvas and rubber band canvas in sync with\n            // the canvas container.\n            if (entry.devicePixelContentBoxSize) {\n                // Chrome 84 implements new version of spec.\n                canvas.setAttribute(\n                    'width',\n                    entry.devicePixelContentBoxSize[0].inlineSize\n                );\n                canvas.setAttribute(\n                    'height',\n                    entry.devicePixelContentBoxSize[0].blockSize\n                );\n            } else {\n                canvas.setAttribute('width', width * fig.ratio);\n                canvas.setAttribute('height', height * fig.ratio);\n            }\n            canvas.setAttribute(\n                'style',\n                'width: ' + width + 'px; height: ' + height + 'px;'\n            );\n\n            rubberband_canvas.setAttribute('width', width);\n            rubberband_canvas.setAttribute('height', height);\n\n            // And update the size in Python. We ignore the initial 0/0 size\n            // that occurs as the element is placed into the DOM, which should\n            // otherwise not happen due to the minimum size styling.\n            if (fig.ws.readyState == 1 && width != 0 && height != 0) {\n                fig.request_resize(width, height);\n            }\n        }\n    });\n    this.resizeObserverInstance.observe(canvas_div);\n\n    function on_mouse_event_closure(name) {\n        return function (event) {\n            return fig.mouse_event(event, name);\n        };\n    }\n\n    rubberband_canvas.addEventListener(\n        'mousedown',\n        on_mouse_event_closure('button_press')\n    );\n    rubberband_canvas.addEventListener(\n        'mouseup',\n        on_mouse_event_closure('button_release')\n    );\n    // Throttle sequential mouse events to 1 every 20ms.\n    rubberband_canvas.addEventListener(\n        'mousemove',\n        on_mouse_event_closure('motion_notify')\n    );\n\n    rubberband_canvas.addEventListener(\n        'mouseenter',\n        on_mouse_event_closure('figure_enter')\n    );\n    rubberband_canvas.addEventListener(\n        'mouseleave',\n        on_mouse_event_closure('figure_leave')\n    );\n\n    canvas_div.addEventListener('wheel', function (event) {\n        if (event.deltaY < 0) {\n            event.step = 1;\n        } else {\n            event.step = -1;\n        }\n        on_mouse_event_closure('scroll')(event);\n    });\n\n    canvas_div.appendChild(canvas);\n    canvas_div.appendChild(rubberband_canvas);\n\n    this.rubberband_context = rubberband_canvas.getContext('2d');\n    this.rubberband_context.strokeStyle = '#000000';\n\n    this._resize_canvas = function (width, height, forward) {\n        if (forward) {\n            canvas_div.style.width = width + 'px';\n            canvas_div.style.height = height + 'px';\n        }\n    };\n\n    // Disable right mouse context menu.\n    this.rubberband_canvas.addEventListener('contextmenu', function (_e) {\n        event.preventDefault();\n        return false;\n    });\n\n    function set_focus() {\n        canvas.focus();\n        canvas_div.focus();\n    }\n\n    window.setTimeout(set_focus, 100);\n};\n\nmpl.figure.prototype._init_toolbar = function () {\n    var fig = this;\n\n    var toolbar = document.createElement('div');\n    toolbar.classList = 'mpl-toolbar';\n    this.root.appendChild(toolbar);\n\n    function on_click_closure(name) {\n        return function (_event) {\n            return fig.toolbar_button_onclick(name);\n        };\n    }\n\n    function on_mouseover_closure(tooltip) {\n        return function (event) {\n            if (!event.currentTarget.disabled) {\n                return fig.toolbar_button_onmouseover(tooltip);\n            }\n        };\n    }\n\n    fig.buttons = {};\n    var buttonGroup = document.createElement('div');\n    buttonGroup.classList = 'mpl-button-group';\n    for (var toolbar_ind in mpl.toolbar_items) {\n        var name = mpl.toolbar_items[toolbar_ind][0];\n        var tooltip = mpl.toolbar_items[toolbar_ind][1];\n        var image = mpl.toolbar_items[toolbar_ind][2];\n        var method_name = mpl.toolbar_items[toolbar_ind][3];\n\n        if (!name) {\n            /* Instead of a spacer, we start a new button group. */\n            if (buttonGroup.hasChildNodes()) {\n                toolbar.appendChild(buttonGroup);\n            }\n            buttonGroup = document.createElement('div');\n            buttonGroup.classList = 'mpl-button-group';\n            continue;\n        }\n\n        var button = (fig.buttons[name] = document.createElement('button'));\n        button.classList = 'mpl-widget';\n        button.setAttribute('role', 'button');\n        button.setAttribute('aria-disabled', 'false');\n        button.addEventListener('click', on_click_closure(method_name));\n        button.addEventListener('mouseover', on_mouseover_closure(tooltip));\n\n        var icon_img = document.createElement('img');\n        icon_img.src = '_images/' + image + '.png';\n        icon_img.srcset = '_images/' + image + '_large.png 2x';\n        icon_img.alt = tooltip;\n        button.appendChild(icon_img);\n\n        buttonGroup.appendChild(button);\n    }\n\n    if (buttonGroup.hasChildNodes()) {\n        toolbar.appendChild(buttonGroup);\n    }\n\n    var fmt_picker = document.createElement('select');\n    fmt_picker.classList = 'mpl-widget';\n    toolbar.appendChild(fmt_picker);\n    this.format_dropdown = fmt_picker;\n\n    for (var ind in mpl.extensions) {\n        var fmt = mpl.extensions[ind];\n        var option = document.createElement('option');\n        option.selected = fmt === mpl.default_extension;\n        option.innerHTML = fmt;\n        fmt_picker.appendChild(option);\n    }\n\n    var status_bar = document.createElement('span');\n    status_bar.classList = 'mpl-message';\n    toolbar.appendChild(status_bar);\n    this.message = status_bar;\n};\n\nmpl.figure.prototype.request_resize = function (x_pixels, y_pixels) {\n    // Request matplotlib to resize the figure. Matplotlib will then trigger a resize in the client,\n    // which will in turn request a refresh of the image.\n    this.send_message('resize', { width: x_pixels, height: y_pixels });\n};\n\nmpl.figure.prototype.send_message = function (type, properties) {\n    properties['type'] = type;\n    properties['figure_id'] = this.id;\n    this.ws.send(JSON.stringify(properties));\n};\n\nmpl.figure.prototype.send_draw_message = function () {\n    if (!this.waiting) {\n        this.waiting = true;\n        this.ws.send(JSON.stringify({ type: 'draw', figure_id: this.id }));\n    }\n};\n\nmpl.figure.prototype.handle_save = function (fig, _msg) {\n    var format_dropdown = fig.format_dropdown;\n    var format = format_dropdown.options[format_dropdown.selectedIndex].value;\n    fig.ondownload(fig, format);\n};\n\nmpl.figure.prototype.handle_resize = function (fig, msg) {\n    var size = msg['size'];\n    if (size[0] !== fig.canvas.width || size[1] !== fig.canvas.height) {\n        fig._resize_canvas(size[0], size[1], msg['forward']);\n        fig.send_message('refresh', {});\n    }\n};\n\nmpl.figure.prototype.handle_rubberband = function (fig, msg) {\n    var x0 = msg['x0'] / fig.ratio;\n    var y0 = (fig.canvas.height - msg['y0']) / fig.ratio;\n    var x1 = msg['x1'] / fig.ratio;\n    var y1 = (fig.canvas.height - msg['y1']) / fig.ratio;\n    x0 = Math.floor(x0) + 0.5;\n    y0 = Math.floor(y0) + 0.5;\n    x1 = Math.floor(x1) + 0.5;\n    y1 = Math.floor(y1) + 0.5;\n    var min_x = Math.min(x0, x1);\n    var min_y = Math.min(y0, y1);\n    var width = Math.abs(x1 - x0);\n    var height = Math.abs(y1 - y0);\n\n    fig.rubberband_context.clearRect(\n        0,\n        0,\n        fig.canvas.width / fig.ratio,\n        fig.canvas.height / fig.ratio\n    );\n\n    fig.rubberband_context.strokeRect(min_x, min_y, width, height);\n};\n\nmpl.figure.prototype.handle_figure_label = function (fig, msg) {\n    // Updates the figure title.\n    fig.header.textContent = msg['label'];\n};\n\nmpl.figure.prototype.handle_cursor = function (fig, msg) {\n    var cursor = msg['cursor'];\n    switch (cursor) {\n        case 0:\n            cursor = 'pointer';\n            break;\n        case 1:\n            cursor = 'default';\n            break;\n        case 2:\n            cursor = 'crosshair';\n            break;\n        case 3:\n            cursor = 'move';\n            break;\n    }\n    fig.rubberband_canvas.style.cursor = cursor;\n};\n\nmpl.figure.prototype.handle_message = function (fig, msg) {\n    fig.message.textContent = msg['message'];\n};\n\nmpl.figure.prototype.handle_draw = function (fig, _msg) {\n    // Request the server to send over a new figure.\n    fig.send_draw_message();\n};\n\nmpl.figure.prototype.handle_image_mode = function (fig, msg) {\n    fig.image_mode = msg['mode'];\n};\n\nmpl.figure.prototype.handle_history_buttons = function (fig, msg) {\n    for (var key in msg) {\n        if (!(key in fig.buttons)) {\n            continue;\n        }\n        fig.buttons[key].disabled = !msg[key];\n        fig.buttons[key].setAttribute('aria-disabled', !msg[key]);\n    }\n};\n\nmpl.figure.prototype.handle_navigate_mode = function (fig, msg) {\n    if (msg['mode'] === 'PAN') {\n        fig.buttons['Pan'].classList.add('active');\n        fig.buttons['Zoom'].classList.remove('active');\n    } else if (msg['mode'] === 'ZOOM') {\n        fig.buttons['Pan'].classList.remove('active');\n        fig.buttons['Zoom'].classList.add('active');\n    } else {\n        fig.buttons['Pan'].classList.remove('active');\n        fig.buttons['Zoom'].classList.remove('active');\n    }\n};\n\nmpl.figure.prototype.updated_canvas_event = function () {\n    // Called whenever the canvas gets updated.\n    this.send_message('ack', {});\n};\n\n// A function to construct a web socket function for onmessage handling.\n// Called in the figure constructor.\nmpl.figure.prototype._make_on_message_function = function (fig) {\n    return function socket_on_message(evt) {\n        if (evt.data instanceof Blob) {\n            /* FIXME: We get \"Resource interpreted as Image but\n             * transferred with MIME type text/plain:\" errors on\n             * Chrome.  But how to set the MIME type?  It doesn't seem\n             * to be part of the websocket stream */\n            evt.data.type = 'image/png';\n\n            /* Free the memory for the previous frames */\n            if (fig.imageObj.src) {\n                (window.URL || window.webkitURL).revokeObjectURL(\n                    fig.imageObj.src\n                );\n            }\n\n            fig.imageObj.src = (window.URL || window.webkitURL).createObjectURL(\n                evt.data\n            );\n            fig.updated_canvas_event();\n            fig.waiting = false;\n            return;\n        } else if (\n            typeof evt.data === 'string' &&\n            evt.data.slice(0, 21) === 'data:image/png;base64'\n        ) {\n            fig.imageObj.src = evt.data;\n            fig.updated_canvas_event();\n            fig.waiting = false;\n            return;\n        }\n\n        var msg = JSON.parse(evt.data);\n        var msg_type = msg['type'];\n\n        // Call the  \"handle_{type}\" callback, which takes\n        // the figure and JSON message as its only arguments.\n        try {\n            var callback = fig['handle_' + msg_type];\n        } catch (e) {\n            console.log(\n                \"No handler for the '\" + msg_type + \"' message type: \",\n                msg\n            );\n            return;\n        }\n\n        if (callback) {\n            try {\n                // console.log(\"Handling '\" + msg_type + \"' message: \", msg);\n                callback(fig, msg);\n            } catch (e) {\n                console.log(\n                    \"Exception inside the 'handler_\" + msg_type + \"' callback:\",\n                    e,\n                    e.stack,\n                    msg\n                );\n            }\n        }\n    };\n};\n\n// from http://stackoverflow.com/questions/1114465/getting-mouse-location-in-canvas\nmpl.findpos = function (e) {\n    //this section is from http://www.quirksmode.org/js/events_properties.html\n    var targ;\n    if (!e) {\n        e = window.event;\n    }\n    if (e.target) {\n        targ = e.target;\n    } else if (e.srcElement) {\n        targ = e.srcElement;\n    }\n    if (targ.nodeType === 3) {\n        // defeat Safari bug\n        targ = targ.parentNode;\n    }\n\n    // pageX,Y are the mouse positions relative to the document\n    var boundingRect = targ.getBoundingClientRect();\n    var x = e.pageX - (boundingRect.left + document.body.scrollLeft);\n    var y = e.pageY - (boundingRect.top + document.body.scrollTop);\n\n    return { x: x, y: y };\n};\n\n/*\n * return a copy of an object with only non-object keys\n * we need this to avoid circular references\n * http://stackoverflow.com/a/24161582/3208463\n */\nfunction simpleKeys(original) {\n    return Object.keys(original).reduce(function (obj, key) {\n        if (typeof original[key] !== 'object') {\n            obj[key] = original[key];\n        }\n        return obj;\n    }, {});\n}\n\nmpl.figure.prototype.mouse_event = function (event, name) {\n    var canvas_pos = mpl.findpos(event);\n\n    if (name === 'button_press') {\n        this.canvas.focus();\n        this.canvas_div.focus();\n    }\n\n    var x = canvas_pos.x * this.ratio;\n    var y = canvas_pos.y * this.ratio;\n\n    this.send_message(name, {\n        x: x,\n        y: y,\n        button: event.button,\n        step: event.step,\n        guiEvent: simpleKeys(event),\n    });\n\n    /* This prevents the web browser from automatically changing to\n     * the text insertion cursor when the button is pressed.  We want\n     * to control all of the cursor setting manually through the\n     * 'cursor' event from matplotlib */\n    event.preventDefault();\n    return false;\n};\n\nmpl.figure.prototype._key_event_extra = function (_event, _name) {\n    // Handle any extra behaviour associated with a key event\n};\n\nmpl.figure.prototype.key_event = function (event, name) {\n    // Prevent repeat events\n    if (name === 'key_press') {\n        if (event.which === this._key) {\n            return;\n        } else {\n            this._key = event.which;\n        }\n    }\n    if (name === 'key_release') {\n        this._key = null;\n    }\n\n    var value = '';\n    if (event.ctrlKey && event.which !== 17) {\n        value += 'ctrl+';\n    }\n    if (event.altKey && event.which !== 18) {\n        value += 'alt+';\n    }\n    if (event.shiftKey && event.which !== 16) {\n        value += 'shift+';\n    }\n\n    value += 'k';\n    value += event.which.toString();\n\n    this._key_event_extra(event, name);\n\n    this.send_message(name, { key: value, guiEvent: simpleKeys(event) });\n    return false;\n};\n\nmpl.figure.prototype.toolbar_button_onclick = function (name) {\n    if (name === 'download') {\n        this.handle_save(this, null);\n    } else {\n        this.send_message('toolbar_button', { name: name });\n    }\n};\n\nmpl.figure.prototype.toolbar_button_onmouseover = function (tooltip) {\n    this.message.textContent = tooltip;\n};\n\n///////////////// REMAINING CONTENT GENERATED BY embed_js.py /////////////////\n// prettier-ignore\nvar _JSXTOOLS_RESIZE_OBSERVER=function(A){var t,i=new WeakMap,n=new WeakMap,a=new WeakMap,r=new WeakMap,o=new Set;function s(e){if(!(this instanceof s))throw new TypeError(\"Constructor requires 'new' operator\");i.set(this,e)}function h(){throw new TypeError(\"Function is not a constructor\")}function c(e,t,i,n){e=0 in arguments?Number(arguments[0]):0,t=1 in arguments?Number(arguments[1]):0,i=2 in arguments?Number(arguments[2]):0,n=3 in arguments?Number(arguments[3]):0,this.right=(this.x=this.left=e)+(this.width=i),this.bottom=(this.y=this.top=t)+(this.height=n),Object.freeze(this)}function d(){t=requestAnimationFrame(d);var s=new WeakMap,p=new Set;o.forEach((function(t){r.get(t).forEach((function(i){var r=t instanceof window.SVGElement,o=a.get(t),d=r?0:parseFloat(o.paddingTop),f=r?0:parseFloat(o.paddingRight),l=r?0:parseFloat(o.paddingBottom),u=r?0:parseFloat(o.paddingLeft),g=r?0:parseFloat(o.borderTopWidth),m=r?0:parseFloat(o.borderRightWidth),w=r?0:parseFloat(o.borderBottomWidth),b=u+f,F=d+l,v=(r?0:parseFloat(o.borderLeftWidth))+m,W=g+w,y=r?0:t.offsetHeight-W-t.clientHeight,E=r?0:t.offsetWidth-v-t.clientWidth,R=b+v,z=F+W,M=r?t.width:parseFloat(o.width)-R-E,O=r?t.height:parseFloat(o.height)-z-y;if(n.has(t)){var k=n.get(t);if(k[0]===M&&k[1]===O)return}n.set(t,[M,O]);var S=Object.create(h.prototype);S.target=t,S.contentRect=new c(u,d,M,O),s.has(i)||(s.set(i,[]),p.add(i)),s.get(i).push(S)}))})),p.forEach((function(e){i.get(e).call(e,s.get(e),e)}))}return s.prototype.observe=function(i){if(i instanceof window.Element){r.has(i)||(r.set(i,new Set),o.add(i),a.set(i,window.getComputedStyle(i)));var n=r.get(i);n.has(this)||n.add(this),cancelAnimationFrame(t),t=requestAnimationFrame(d)}},s.prototype.unobserve=function(i){if(i instanceof window.Element&&r.has(i)){var n=r.get(i);n.has(this)&&(n.delete(this),n.size||(r.delete(i),o.delete(i))),n.size||r.delete(i),o.size||cancelAnimationFrame(t)}},A.DOMRectReadOnly=c,A.ResizeObserver=s,A.ResizeObserverEntry=h,A}; // eslint-disable-line\nmpl.toolbar_items = [[\"Home\", \"Reset original view\", \"fa fa-home icon-home\", \"home\"], [\"Back\", \"Back to previous view\", \"fa fa-arrow-left icon-arrow-left\", \"back\"], [\"Forward\", \"Forward to next view\", \"fa fa-arrow-right icon-arrow-right\", \"forward\"], [\"\", \"\", \"\", \"\"], [\"Pan\", \"Left button pans, Right button zooms\\nx/y fixes axis, CTRL fixes aspect\", \"fa fa-arrows icon-move\", \"pan\"], [\"Zoom\", \"Zoom to rectangle\\nx/y fixes axis, CTRL fixes aspect\", \"fa fa-square-o icon-check-empty\", \"zoom\"], [\"\", \"\", \"\", \"\"], [\"Download\", \"Download plot\", \"fa fa-floppy-o icon-save\", \"download\"]];\n\nmpl.extensions = [\"eps\", \"jpeg\", \"pdf\", \"png\", \"ps\", \"raw\", \"svg\", \"tif\"];\n\nmpl.default_extension = \"png\";/* global mpl */\n\nvar comm_websocket_adapter = function (comm) {\n    // Create a \"websocket\"-like object which calls the given IPython comm\n    // object with the appropriate methods. Currently this is a non binary\n    // socket, so there is still some room for performance tuning.\n    var ws = {};\n\n    ws.close = function () {\n        comm.close();\n    };\n    ws.send = function (m) {\n        //console.log('sending', m);\n        comm.send(m);\n    };\n    // Register the callback with on_msg.\n    comm.on_msg(function (msg) {\n        //console.log('receiving', msg['content']['data'], msg);\n        // Pass the mpl event to the overridden (by mpl) onmessage function.\n        ws.onmessage(msg['content']['data']);\n    });\n    return ws;\n};\n\nmpl.mpl_figure_comm = function (comm, msg) {\n    // This is the function which gets called when the mpl process\n    // starts-up an IPython Comm through the \"matplotlib\" channel.\n\n    var id = msg.content.data.id;\n    // Get hold of the div created by the display call when the Comm\n    // socket was opened in Python.\n    var element = document.getElementById(id);\n    var ws_proxy = comm_websocket_adapter(comm);\n\n    function ondownload(figure, _format) {\n        window.open(figure.canvas.toDataURL());\n    }\n\n    var fig = new mpl.figure(id, ws_proxy, ondownload, element);\n\n    // Call onopen now - mpl needs it, as it is assuming we've passed it a real\n    // web socket which is closed, not our websocket->open comm proxy.\n    ws_proxy.onopen();\n\n    fig.parent_element = element;\n    fig.cell_info = mpl.find_output_cell(\"<div id='\" + id + \"'></div>\");\n    if (!fig.cell_info) {\n        console.error('Failed to find cell for figure', id, fig);\n        return;\n    }\n    fig.cell_info[0].output_area.element.on(\n        'cleared',\n        { fig: fig },\n        fig._remove_fig_handler\n    );\n};\n\nmpl.figure.prototype.handle_close = function (fig, msg) {\n    var width = fig.canvas.width / fig.ratio;\n    fig.cell_info[0].output_area.element.off(\n        'cleared',\n        fig._remove_fig_handler\n    );\n    fig.resizeObserverInstance.unobserve(fig.canvas_div);\n\n    // Update the output cell to use the data from the current canvas.\n    fig.push_to_output();\n    var dataURL = fig.canvas.toDataURL();\n    // Re-enable the keyboard manager in IPython - without this line, in FF,\n    // the notebook keyboard shortcuts fail.\n    IPython.keyboard_manager.enable();\n    fig.parent_element.innerHTML =\n        '<img src=\"' + dataURL + '\" width=\"' + width + '\">';\n    fig.close_ws(fig, msg);\n};\n\nmpl.figure.prototype.close_ws = function (fig, msg) {\n    fig.send_message('closing', msg);\n    // fig.ws.close()\n};\n\nmpl.figure.prototype.push_to_output = function (_remove_interactive) {\n    // Turn the data on the canvas into data in the output cell.\n    var width = this.canvas.width / this.ratio;\n    var dataURL = this.canvas.toDataURL();\n    this.cell_info[1]['text/html'] =\n        '<img src=\"' + dataURL + '\" width=\"' + width + '\">';\n};\n\nmpl.figure.prototype.updated_canvas_event = function () {\n    // Tell IPython that the notebook contents must change.\n    IPython.notebook.set_dirty(true);\n    this.send_message('ack', {});\n    var fig = this;\n    // Wait a second, then push the new image to the DOM so\n    // that it is saved nicely (might be nice to debounce this).\n    setTimeout(function () {\n        fig.push_to_output();\n    }, 1000);\n};\n\nmpl.figure.prototype._init_toolbar = function () {\n    var fig = this;\n\n    var toolbar = document.createElement('div');\n    toolbar.classList = 'btn-toolbar';\n    this.root.appendChild(toolbar);\n\n    function on_click_closure(name) {\n        return function (_event) {\n            return fig.toolbar_button_onclick(name);\n        };\n    }\n\n    function on_mouseover_closure(tooltip) {\n        return function (event) {\n            if (!event.currentTarget.disabled) {\n                return fig.toolbar_button_onmouseover(tooltip);\n            }\n        };\n    }\n\n    fig.buttons = {};\n    var buttonGroup = document.createElement('div');\n    buttonGroup.classList = 'btn-group';\n    var button;\n    for (var toolbar_ind in mpl.toolbar_items) {\n        var name = mpl.toolbar_items[toolbar_ind][0];\n        var tooltip = mpl.toolbar_items[toolbar_ind][1];\n        var image = mpl.toolbar_items[toolbar_ind][2];\n        var method_name = mpl.toolbar_items[toolbar_ind][3];\n\n        if (!name) {\n            /* Instead of a spacer, we start a new button group. */\n            if (buttonGroup.hasChildNodes()) {\n                toolbar.appendChild(buttonGroup);\n            }\n            buttonGroup = document.createElement('div');\n            buttonGroup.classList = 'btn-group';\n            continue;\n        }\n\n        button = fig.buttons[name] = document.createElement('button');\n        button.classList = 'btn btn-default';\n        button.href = '#';\n        button.title = name;\n        button.innerHTML = '<i class=\"fa ' + image + ' fa-lg\"></i>';\n        button.addEventListener('click', on_click_closure(method_name));\n        button.addEventListener('mouseover', on_mouseover_closure(tooltip));\n        buttonGroup.appendChild(button);\n    }\n\n    if (buttonGroup.hasChildNodes()) {\n        toolbar.appendChild(buttonGroup);\n    }\n\n    // Add the status bar.\n    var status_bar = document.createElement('span');\n    status_bar.classList = 'mpl-message pull-right';\n    toolbar.appendChild(status_bar);\n    this.message = status_bar;\n\n    // Add the close button to the window.\n    var buttongrp = document.createElement('div');\n    buttongrp.classList = 'btn-group inline pull-right';\n    button = document.createElement('button');\n    button.classList = 'btn btn-mini btn-primary';\n    button.href = '#';\n    button.title = 'Stop Interaction';\n    button.innerHTML = '<i class=\"fa fa-power-off icon-remove icon-large\"></i>';\n    button.addEventListener('click', function (_evt) {\n        fig.handle_close(fig, {});\n    });\n    button.addEventListener(\n        'mouseover',\n        on_mouseover_closure('Stop Interaction')\n    );\n    buttongrp.appendChild(button);\n    var titlebar = this.root.querySelector('.ui-dialog-titlebar');\n    titlebar.insertBefore(buttongrp, titlebar.firstChild);\n};\n\nmpl.figure.prototype._remove_fig_handler = function (event) {\n    var fig = event.data.fig;\n    if (event.target !== this) {\n        // Ignore bubbled events from children.\n        return;\n    }\n    fig.close_ws(fig, {});\n};\n\nmpl.figure.prototype._root_extra_style = function (el) {\n    el.style.boxSizing = 'content-box'; // override notebook setting of border-box.\n};\n\nmpl.figure.prototype._canvas_extra_style = function (el) {\n    // this is important to make the div 'focusable\n    el.setAttribute('tabindex', 0);\n    // reach out to IPython and tell the keyboard manager to turn it's self\n    // off when our div gets focus\n\n    // location in version 3\n    if (IPython.notebook.keyboard_manager) {\n        IPython.notebook.keyboard_manager.register_events(el);\n    } else {\n        // location in version 2\n        IPython.keyboard_manager.register_events(el);\n    }\n};\n\nmpl.figure.prototype._key_event_extra = function (event, _name) {\n    var manager = IPython.notebook.keyboard_manager;\n    if (!manager) {\n        manager = IPython.keyboard_manager;\n    }\n\n    // Check for shift+enter\n    if (event.shiftKey && event.which === 13) {\n        this.canvas_div.blur();\n        // select the cell after this one\n        var index = IPython.notebook.find_cell_index(this.cell_info[0]);\n        IPython.notebook.select(index + 1);\n    }\n};\n\nmpl.figure.prototype.handle_save = function (fig, _msg) {\n    fig.ondownload(fig, null);\n};\n\nmpl.find_output_cell = function (html_output) {\n    // Return the cell and output element which can be found *uniquely* in the notebook.\n    // Note - this is a bit hacky, but it is done because the \"notebook_saving.Notebook\"\n    // IPython event is triggered only after the cells have been serialised, which for\n    // our purposes (turning an active figure into a static one), is too late.\n    var cells = IPython.notebook.get_cells();\n    var ncells = cells.length;\n    for (var i = 0; i < ncells; i++) {\n        var cell = cells[i];\n        if (cell.cell_type === 'code') {\n            for (var j = 0; j < cell.output_area.outputs.length; j++) {\n                var data = cell.output_area.outputs[j];\n                if (data.data) {\n                    // IPython >= 3 moved mimebundle to data attribute of output\n                    data = data.data;\n                }\n                if (data['text/html'] === html_output) {\n                    return [cell, data, j];\n                }\n            }\n        }\n    }\n};\n\n// Register the function which deals with the matplotlib target/channel.\n// The kernel may be null if the page has been refreshed.\nif (IPython.notebook.kernel !== null) {\n    IPython.notebook.kernel.comm_manager.register_target(\n        'matplotlib',\n        mpl.mpl_figure_comm\n    );\n}\n",
      "text/plain": [
       "<IPython.core.display.Javascript object>"
      ]
     },
     "metadata": {},
     "output_type": "display_data"
    },
    {
     "data": {
      "text/html": [
       "<div id='c7d38a74-ebe1-4410-a1b5-22c66ae81fe4'></div>"
      ],
      "text/plain": [
       "<IPython.core.display.HTML object>"
      ]
     },
     "metadata": {},
     "output_type": "display_data"
    }
   ],
   "source": [
    "\"\"\" This will take the 3D array of pts and plot along each axis\n",
    "    (x, y, z)\n",
    "\"\"\"\n",
    "fig = plt.figure(figsize=(12, 12))\n",
    "ax = fig.add_subplot(projection='3d')\n",
    "ax.scatter(pts[0,::100],pts[1,::100], pts[2,::100],\n",
    "           color = 'blue', s=10, alpha=0.5,\n",
    "          )\n",
    "ax.set(xlabel='X [Mpc/h]',\n",
    "       ylabel='Y [Mpc/h]',\n",
    "       zlabel='Z [Mpc/h]')\n",
    "\n",
    "plt.title(\"Points from Void Volume\");"
   ]
  },
  {
   "cell_type": "markdown",
   "id": "9c2da819",
   "metadata": {},
   "source": [
    "MaskChecker"
   ]
  },
  {
   "cell_type": "code",
   "execution_count": 23,
   "id": "59915b79",
   "metadata": {},
   "outputs": [
    {
     "name": "stdout",
     "output_type": "stream",
     "text": [
      "82.14210200309753\n",
      "\n",
      "Points in Mask Shape: (3, 23115139)\n",
      "\n",
      "Sum of Points IN: 23115139\n",
      "\n",
      "Sum of Points OUT: 31279253\n",
      "\n",
      "Boolean Shape: (54394392,)\n",
      "\n",
      "Points in Mask: [[-121.86509181 -121.86509181 -121.86509181 ... -130.86509181\n",
      "  -130.86509181 -130.86509181]\n",
      " [-287.98706916 -287.98706916 -287.98706916 ...  268.01293084\n",
      "   268.01293084  268.01293084]\n",
      " [  -5.02479643   -4.02479643   -3.02479643 ...   91.97520357\n",
      "    92.97520357   93.97520357]]\n"
     ]
    }
   ],
   "source": [
    "start_time = time.time()\n",
    "\n",
    "rmin = 0\n",
    "rmax = 312.89816 # Where are these computed?\n",
    "\n",
    "points_boolean = np.ones(pts.shape[1], dtype = bool)\n",
    "\n",
    "# print(time.time() - start_time)\n",
    "\n",
    "# Declares MaskChecker object from VAST\n",
    "\n",
    "mask_checker = MaskChecker(0,\n",
    "                        mask,\n",
    "                        mask_resolution,\n",
    "                        rmin,\n",
    "                        rmax,)\n",
    "\n",
    "start_time = time.time()\n",
    "for i in range(pts.shape[1]):\n",
    "\n",
    "    # Current point will iterate through all points at \n",
    "    \n",
    "    curr_pt = pts[:,i].reshape((1,3))\n",
    "    \n",
    "    # References MC object to declare if not_in_mask\n",
    "    \n",
    "    not_in_mask = mask_checker.not_in_mask(curr_pt)\n",
    "#     print(not_in_mask, not bool(not_in_mask))\n",
    "\n",
    "    points_boolean[i] = not bool(not_in_mask)\n",
    "                                    \n",
    "points_in_mask = pts[:,points_boolean]\n",
    "(var, n_points) = points_in_mask.shape\n",
    "print(time.time() - start_time)\n",
    "print('\\nPoints in Mask Shape:', points_in_mask.shape)\n",
    "\n",
    "print('\\nSum of Points IN:', np.sum(points_boolean))\n",
    "\n",
    "print('\\nSum of Points OUT:', np.sum(~points_boolean))\n",
    "\n",
    "print('\\nBoolean Shape:', points_boolean.shape)\n",
    "\n",
    "print('\\nPoints in Mask:',points_in_mask)\n"
   ]
  },
  {
   "cell_type": "code",
   "execution_count": 24,
   "id": "98b893b3",
   "metadata": {},
   "outputs": [],
   "source": [
    "def kd_tree(void_cat):\n",
    "    \"\"\"We are creating a function to make a KDTree to find the number of points in \n",
    "    and out of a catalogue.\n",
    "    \n",
    "    Parameters\n",
    "    ----------\n",
    "    point_coords: ndarray has a shape of (3,N)\n",
    "        This is the list of points to query the given void catalogue. N is the number of points given. \n",
    "    void_cat: Astropy Table\n",
    "        This is the given void catalogue.\n",
    "    \n",
    "    Returns\n",
    "    -------\n",
    "    true_inside: ndarray of shape (N,1)\n",
    "        Is this the boolean array of length N (same length as point_coords). True means that 1 point \n",
    "        is inside the hole.\n",
    "    \"\"\"\n",
    "#############\n",
    "    cx = void_cat['x']\n",
    "    cy = void_cat['y']\n",
    "    cz = void_cat['z']\n",
    "\n",
    "    sphere_coords = np.array([cx, cy, cz])\n",
    "\n",
    "    #The .T is meant to transpose the array from (3,1054) to (1054,3)\n",
    "    sphere_tree = neighbors.KDTree(sphere_coords.T)\n",
    "    print(\"KDTree\")\n",
    "\n",
    "##############\n",
    "    \n",
    "    return sphere_tree"
   ]
  },
  {
   "cell_type": "code",
   "execution_count": 25,
   "id": "2191fc7c",
   "metadata": {},
   "outputs": [],
   "source": [
    "def point_query(point_coords, sphere_tree, void_cat):\n",
    "    print(\"Starting Query\")\n",
    "    #Void cat classifcation\n",
    "    true_inside = np.zeros(point_coords.shape[1])\n",
    "\n",
    "    idx = sphere_tree.query(point_coords.T, k = 1, return_distance=False)\n",
    "    print(idx)\n",
    "    \n",
    "    #true_inside = void_cat[idx]\n",
    "    for i in range(len(idx)):\n",
    "        true_inside[i] = void_cat[idx[i]]\n",
    "    \n",
    "    return true_inside"
   ]
  },
  {
   "cell_type": "code",
   "execution_count": 26,
   "id": "6fde4a38",
   "metadata": {},
   "outputs": [
    {
     "name": "stdout",
     "output_type": "stream",
     "text": [
      "KDTree\n",
      "KDTree\n"
     ]
    }
   ],
   "source": [
    "start_time = time.time()\n",
    "\n",
    "U = 1\n",
    "\n",
    "count_in_V1 = np.zeros(U)\n",
    "count_out_V1 = np.zeros(U)\n",
    "\n",
    "count_in_V2 = np.zeros(U)\n",
    "count_out_V2 = np.zeros(U)\n",
    "\n",
    "inside_both = np.zeros(U)\n",
    "inside_neither = np.zeros(U)\n",
    "inside_V1 = np.zeros(U)\n",
    "inside_V2 = np.zeros(U)\n",
    "\n",
    "points_in_mask_copy = points_in_mask.copy()\n",
    "\n",
    "kdTree_V1 = kd_tree(V2_galzones)\n",
    "kdTree_V2 = kd_tree(V2_galzones)\n",
    "    \n",
    "true_inside_V1 = point_query(points_in_mask_copy, kdTree_V1, V2_gz)\n",
    "print(time.time() - start_time)\n",
    "\n",
    "count_in_V1[i] = np.sum(true_inside_V1)\n",
    "\n",
    "    # The \"~\" inverts the array. So we have true_inside inverted to add up the falses instead of the trues\n",
    "count_out_V1[i] = np.sum(~true_inside_V1)\n",
    "    \n",
    "    # print(time.time() - start_time)\n",
    "\n",
    "    # total_KIAS = count_in_KIAS + count_out_KIAS\n",
    "\n",
    "true_inside_V2 = point_query(points_in_mask_copy, kdTree_V2, V2_gz)\n",
    "print(time.time() - start_time)\n",
    "\n",
    "count_in_V2[i] = np.sum(true_inside_V2)\n",
    "\n",
    "    # The \"~\" inverts the array. So we have true_inside inverted to add up the falses instead of the trues\n",
    "count_out_V2[i] = np.sum(~true_inside_V2)\n",
    "\n",
    "    #total_DEL = count_in_DEL + count_out_DEL\n",
    "    \n",
    "    # This is the number of points that are inside both A and B\n",
    "inside_V1_and_V2 = np.logical_and(true_inside_V1, true_inside_V2)\n",
    "inside_both[i] = np.sum(inside_V1_and_V2)\n",
    "    \n",
    "    # This is the number of points that are in neither A and B\n",
    "not_inside_V1_and_V2 = np.logical_and(~true_inside_V1, ~true_inside_V2)\n",
    "inside_neither[i] = np.sum(not_inside_V1_and_V2)\n",
    "    \n",
    "    # This is the number of points that are in A but not B\n",
    "inside_v1 = np.logical_and(true_inside_V1, ~true_inside_V2)\n",
    "inside_V1[i] = np.sum(inside_v1)\n",
    "    \n",
    "    # This is the number of points that are not in A but are in B\n",
    "inside_v2 = np.logical_and(~true_inside_V1, true_inside_V2)\n",
    "inside_V2[i] = np.sum(inside_v2)\n",
    "\n",
    "print(time.time() - start_time)\n",
    "print('\\nNumber of points inside V1:', count_in_V1)\n",
    "print('\\nNumber of points outside V2:', count_out_V1)\n",
    "print('\\nNumber of points inside V1:', count_in_V2)\n",
    "print('\\nNumber of points outside V2:', count_out_V2)\n",
    "print(\"\\nThis is the total number of points: {}\".format(n_points))\n",
    "# print(\"\\nThis is the total number of points in Delaunay: {}\".format(total_DEL))"
   ]
  },
  {
   "cell_type": "code",
   "execution_count": 27,
   "id": "a7d6c9bb",
   "metadata": {},
   "outputs": [],
   "source": [
    "idx = kdTree_V1.query(points_in_mask_copy.T, k = 1, return_distance=False)"
   ]
  },
  {
   "cell_type": "code",
   "execution_count": 30,
   "id": "edea7948",
   "metadata": {},
   "outputs": [
    {
     "data": {
      "text/plain": [
       "23115139"
      ]
     },
     "execution_count": 30,
     "metadata": {},
     "output_type": "execute_result"
    }
   ],
   "source": [
    "idx.size"
   ]
  },
  {
   "cell_type": "code",
   "execution_count": 31,
   "id": "7db1920c",
   "metadata": {},
   "outputs": [
    {
     "name": "stdout",
     "output_type": "stream",
     "text": [
      "[1 1 1 ... 1 1 1]\n"
     ]
    },
    {
     "data": {
      "text/plain": [
       "194125"
      ]
     },
     "execution_count": 31,
     "metadata": {},
     "output_type": "execute_result"
    }
   ],
   "source": [
    "print(V2_gz)\n",
    "V2_gz.size"
   ]
  },
  {
   "cell_type": "code",
   "execution_count": 32,
   "id": "b1bbd3c4",
   "metadata": {},
   "outputs": [
    {
     "data": {
      "text/plain": [
       "23115139"
      ]
     },
     "execution_count": 32,
     "metadata": {},
     "output_type": "execute_result"
    }
   ],
   "source": [
    "true_inside = np.zeros(points_in_mask_copy.shape[1])\n",
    "true_inside.size"
   ]
  },
  {
   "cell_type": "code",
   "execution_count": 34,
   "id": "6957e0da",
   "metadata": {},
   "outputs": [
    {
     "ename": "IndexError",
     "evalue": "index 428832 is out of bounds for axis 0 with size 194125",
     "output_type": "error",
     "traceback": [
      "\u001b[0;31m---------------------------------------------------------------------------\u001b[0m",
      "\u001b[0;31mIndexError\u001b[0m                                Traceback (most recent call last)",
      "\u001b[0;32m<ipython-input-34-a86a91af9b95>\u001b[0m in \u001b[0;36m<module>\u001b[0;34m\u001b[0m\n\u001b[1;32m      1\u001b[0m \u001b[0mtrue_inside\u001b[0m \u001b[0;34m=\u001b[0m \u001b[0mnp\u001b[0m\u001b[0;34m.\u001b[0m\u001b[0mzeros\u001b[0m\u001b[0;34m(\u001b[0m\u001b[0mpoints_in_mask_copy\u001b[0m\u001b[0;34m.\u001b[0m\u001b[0mshape\u001b[0m\u001b[0;34m[\u001b[0m\u001b[0;36m1\u001b[0m\u001b[0;34m]\u001b[0m\u001b[0;34m)\u001b[0m\u001b[0;34m\u001b[0m\u001b[0;34m\u001b[0m\u001b[0m\n\u001b[1;32m      2\u001b[0m \u001b[0;32mfor\u001b[0m \u001b[0mi\u001b[0m \u001b[0;32min\u001b[0m \u001b[0mrange\u001b[0m\u001b[0;34m(\u001b[0m\u001b[0mlen\u001b[0m\u001b[0;34m(\u001b[0m\u001b[0midx\u001b[0m\u001b[0;34m)\u001b[0m\u001b[0;34m)\u001b[0m\u001b[0;34m:\u001b[0m\u001b[0;34m\u001b[0m\u001b[0;34m\u001b[0m\u001b[0m\n\u001b[0;32m----> 3\u001b[0;31m     \u001b[0mtrue_inside\u001b[0m\u001b[0;34m[\u001b[0m\u001b[0mi\u001b[0m\u001b[0;34m]\u001b[0m \u001b[0;34m=\u001b[0m \u001b[0mV2_gz\u001b[0m\u001b[0;34m[\u001b[0m\u001b[0midx\u001b[0m\u001b[0;34m[\u001b[0m\u001b[0mi\u001b[0m\u001b[0;34m]\u001b[0m\u001b[0;34m]\u001b[0m\u001b[0;34m\u001b[0m\u001b[0;34m\u001b[0m\u001b[0m\n\u001b[0m",
      "\u001b[0;31mIndexError\u001b[0m: index 428832 is out of bounds for axis 0 with size 194125"
     ]
    }
   ],
   "source": [
    "true_inside = np.zeros(points_in_mask_copy.shape[1])\n",
    "\n",
    "for i in range(len(idx)):\n",
    "    true_inside[i] = V2_gz[idx[i]]"
   ]
  },
  {
   "cell_type": "code",
   "execution_count": 56,
   "id": "2fd60758",
   "metadata": {},
   "outputs": [
    {
     "data": {
      "text/plain": [
       "23115139"
      ]
     },
     "execution_count": 56,
     "metadata": {},
     "output_type": "execute_result"
    }
   ],
   "source": [
    "len(true_inside)"
   ]
  },
  {
   "cell_type": "code",
   "execution_count": 5,
   "id": "5d130523",
   "metadata": {},
   "outputs": [],
   "source": [
    "test = np.zeros(2000)"
   ]
  },
  {
   "cell_type": "code",
   "execution_count": 6,
   "id": "47d25935",
   "metadata": {},
   "outputs": [
    {
     "data": {
      "text/plain": [
       "array([0., 0., 0., ..., 0., 0., 0.])"
      ]
     },
     "execution_count": 6,
     "metadata": {},
     "output_type": "execute_result"
    }
   ],
   "source": []
  },
  {
   "cell_type": "code",
   "execution_count": null,
   "id": "7fec8588",
   "metadata": {},
   "outputs": [],
   "source": []
  }
 ],
 "metadata": {
  "kernelspec": {
   "display_name": "physics",
   "language": "python",
   "name": "python3"
  },
  "language_info": {
   "codemirror_mode": {
    "name": "ipython",
    "version": 3
   },
   "file_extension": ".py",
   "mimetype": "text/x-python",
   "name": "python",
   "nbconvert_exporter": "python",
   "pygments_lexer": "ipython3",
   "version": "3.9.13"
  },
  "vscode": {
   "interpreter": {
    "hash": "436aad765654d140e77286f4d032f6ca323681fdd302c152e4201e048eb60744"
   }
  }
 },
 "nbformat": 4,
 "nbformat_minor": 5
}
