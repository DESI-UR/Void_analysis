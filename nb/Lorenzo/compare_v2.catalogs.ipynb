{
 "cells": [
  {
   "cell_type": "code",
   "execution_count": 13,
   "id": "a03db698",
   "metadata": {},
   "outputs": [],
   "source": [
    "from astropy.table import Table\n",
    "\n",
    "import matplotlib.pyplot as plt\n",
    "from mpl_toolkits import mplot3d\n",
    "%matplotlib notebook\n",
    "\n",
    "import numpy as np\n",
    "import time\n",
    "from sklearn import neighbors\n",
    "from vast.voidfinder._voidfinder_cython_find_next import MaskChecker\n",
    "from vast.voidfinder import ra_dec_to_xyz\n",
    "import pickle"
   ]
  },
  {
   "cell_type": "markdown",
   "id": "4d7679fd",
   "metadata": {},
   "source": [
    "Update:\n",
    "- Trying to figure out if we can plot ra v dec, probs not\n",
    "- If not, needed to figure out how to work with ra_dec_to_xyz() without"
   ]
  },
  {
   "cell_type": "code",
   "execution_count": 27,
   "id": "35b1d8cd",
   "metadata": {},
   "outputs": [],
   "source": [
    "mask_file_name = \"/Users/lorenzomendoza/Desktop/Research/Function/NSA_main_mask.pickle\""
   ]
  },
  {
   "cell_type": "code",
   "execution_count": 28,
   "id": "976373ef",
   "metadata": {},
   "outputs": [],
   "source": [
    "temp_infile = open(mask_file_name, \"rb\")\n",
    "mask, mask_resolution = pickle.load(temp_infile)\n",
    "temp_infile.close()"
   ]
  },
  {
   "cell_type": "markdown",
   "id": "fc291759",
   "metadata": {},
   "source": [
    "## V$^2$ void catalog"
   ]
  },
  {
   "cell_type": "markdown",
   "id": "934b8e55",
   "metadata": {},
   "source": [
    "Generating galaxy array, .npy\n",
    "\n",
    "V2_galzones = Table.read(\"/path/to/galzones.dat\",format='ascii.commented_header')\n",
    "V2_zonevoids = Table.read(\"/path/to/zonevoids.dat\",format='ascii.commented_header')\n",
    "V2_gz = -1*np.ones(len(V2_galzones['zone']),dtype=int)\n",
    "for i in range(len(V2_gz)):\n",
    "    if V2_galzones['zone'][i]>-1:\n",
    "        V2_gz[i] = V2_zonevoids['void1'][V2_galzones['zone'][i]]"
   ]
  },
  {
   "cell_type": "code",
   "execution_count": 14,
   "id": "5872c0c3",
   "metadata": {},
   "outputs": [],
   "source": [
    "V2_galzones = Table.read(\"/Users/lorenzomendoza/Desktop/Research/Function/V2_REVOLVER-nsa_v1_0_1_galzones.dat\",format='ascii.commented_header')\n",
    "V2_zonevoids = Table.read(\"/Users/lorenzomendoza/Desktop/Research/Function/V2_REVOLVER-nsa_v1_0_1_zonevoids.dat\",format='ascii.commented_header')\n",
    "V2_gz = -1*np.ones(len(V2_galzones['zone']),dtype=int)\n",
    "for i in range(len(V2_gz)):\n",
    "    if V2_galzones['zone'][i]>-1:\n",
    "        V2_gz[i] = V2_zonevoids['void1'][V2_galzones['zone'][i]]"
   ]
  },
  {
   "cell_type": "code",
   "execution_count": 15,
   "id": "a16b6be3",
   "metadata": {},
   "outputs": [],
   "source": [
    "file_name = \"/Users/lorenzomendoza/Desktop/Research/Function/V2_nsa_v1_0_1_gal.txt\""
   ]
  },
  {
   "cell_type": "code",
   "execution_count": 16,
   "id": "6422055b",
   "metadata": {},
   "outputs": [],
   "source": [
    "data_table_vl = Table.read(file_name, format = \"ascii.commented_header\")"
   ]
  },
  {
   "cell_type": "code",
   "execution_count": 23,
   "id": "7b25ab36",
   "metadata": {},
   "outputs": [
    {
     "data": {
      "text/html": [
       "<i>Table length=514587</i>\n",
       "<table id=\"table140695626448080\" class=\"table-striped table-bordered table-condensed\">\n",
       "<thead><tr><th>index</th><th>ra</th><th>dec</th><th>redshift</th><th>rabsmag</th></tr></thead>\n",
       "<thead><tr><th>int64</th><th>float64</th><th>float64</th><th>float64</th><th>float64</th></tr></thead>\n",
       "<tr><td>0</td><td>146.6285851269414</td><td>-0.7651620976591762</td><td>0.0646563172340393</td><td>-19.97649574279785</td></tr>\n",
       "<tr><td>1</td><td>146.9341288729797</td><td>-0.6704053610430766</td><td>0.12127048522233963</td><td>-21.559162139892578</td></tr>\n",
       "<tr><td>2</td><td>146.9634997327016</td><td>-0.5447758299302171</td><td>0.055980585515499115</td><td>-19.10099220275879</td></tr>\n",
       "<tr><td>3</td><td>146.96352370262414</td><td>-0.7593404235056136</td><td>0.09708637744188309</td><td>-20.089942932128906</td></tr>\n",
       "<tr><td>4</td><td>146.85984630722874</td><td>-0.8089065016506019</td><td>0.12658987939357758</td><td>-21.062517166137695</td></tr>\n",
       "<tr><td>5</td><td>146.5927838471015</td><td>-0.7602574022145185</td><td>0.06495923548936844</td><td>-19.97614288330078</td></tr>\n",
       "<tr><td>6</td><td>146.72838067287842</td><td>-0.5569743913807053</td><td>0.08931196480989456</td><td>-19.900196075439453</td></tr>\n",
       "<tr><td>7</td><td>147.18677363814004</td><td>-0.4938139466493589</td><td>0.09031707048416138</td><td>-20.94278907775879</td></tr>\n",
       "<tr><td>8</td><td>146.95608041489135</td><td>-0.34230852875962586</td><td>0.13468021154403687</td><td>-21.625717163085938</td></tr>\n",
       "<tr><td>9</td><td>147.17645340393182</td><td>-0.3540349522432606</td><td>0.006282840855419636</td><td>-15.534673690795898</td></tr>\n",
       "<tr><td>...</td><td>...</td><td>...</td><td>...</td><td>...</td></tr>\n",
       "<tr><td>514577</td><td>218.32005780355482</td><td>-1.2525971090241848</td><td>0.08207043260335922</td><td>-20.237579345703125</td></tr>\n",
       "<tr><td>514578</td><td>221.66768455942065</td><td>-1.8316123717268293</td><td>0.0</td><td>-3.1390342712402344</td></tr>\n",
       "<tr><td>514579</td><td>221.55081881922277</td><td>-1.8145565078434764</td><td>0.08038564771413803</td><td>-21.023279190063477</td></tr>\n",
       "<tr><td>514580</td><td>219.74484109954423</td><td>-2.0204498002007893</td><td>0.11597869545221329</td><td>-20.93014907836914</td></tr>\n",
       "<tr><td>514581</td><td>219.69281435303517</td><td>-1.498367091421907</td><td>0.13770000636577606</td><td>-21.404783248901367</td></tr>\n",
       "<tr><td>514582</td><td>219.55194176345347</td><td>-1.5172838888725428</td><td>0.10502009093761444</td><td>-21.11517906188965</td></tr>\n",
       "<tr><td>514583</td><td>219.52219672036165</td><td>-1.4446756753043812</td><td>0.1185000017285347</td><td>-19.01321792602539</td></tr>\n",
       "<tr><td>514584</td><td>219.22221824841625</td><td>-1.5282385334392963</td><td>-0.0006000000284984708</td><td>-7.3696746826171875</td></tr>\n",
       "<tr><td>514585</td><td>219.1754156653414</td><td>-1.4284259133402393</td><td>0.09570000320672989</td><td>-19.478748321533203</td></tr>\n",
       "<tr><td>514586</td><td>218.91299946375833</td><td>-1.4901928289538668</td><td>0.05620000138878822</td><td>-18.471019744873047</td></tr>\n",
       "</table>"
      ],
      "text/plain": [
       "<Table length=514587>\n",
       "index          ra         ...        redshift              rabsmag      \n",
       "int64       float64       ...        float64               float64      \n",
       "------ ------------------ ... ---------------------- -------------------\n",
       "     0  146.6285851269414 ...     0.0646563172340393  -19.97649574279785\n",
       "     1  146.9341288729797 ...    0.12127048522233963 -21.559162139892578\n",
       "     2  146.9634997327016 ...   0.055980585515499115  -19.10099220275879\n",
       "     3 146.96352370262414 ...    0.09708637744188309 -20.089942932128906\n",
       "     4 146.85984630722874 ...    0.12658987939357758 -21.062517166137695\n",
       "     5  146.5927838471015 ...    0.06495923548936844  -19.97614288330078\n",
       "     6 146.72838067287842 ...    0.08931196480989456 -19.900196075439453\n",
       "     7 147.18677363814004 ...    0.09031707048416138  -20.94278907775879\n",
       "     8 146.95608041489135 ...    0.13468021154403687 -21.625717163085938\n",
       "     9 147.17645340393182 ...   0.006282840855419636 -15.534673690795898\n",
       "   ...                ... ...                    ...                 ...\n",
       "514577 218.32005780355482 ...    0.08207043260335922 -20.237579345703125\n",
       "514578 221.66768455942065 ...                    0.0 -3.1390342712402344\n",
       "514579 221.55081881922277 ...    0.08038564771413803 -21.023279190063477\n",
       "514580 219.74484109954423 ...    0.11597869545221329  -20.93014907836914\n",
       "514581 219.69281435303517 ...    0.13770000636577606 -21.404783248901367\n",
       "514582 219.55194176345347 ...    0.10502009093761444  -21.11517906188965\n",
       "514583 219.52219672036165 ...     0.1185000017285347  -19.01321792602539\n",
       "514584 219.22221824841625 ... -0.0006000000284984708 -7.3696746826171875\n",
       "514585  219.1754156653414 ...    0.09570000320672989 -19.478748321533203\n",
       "514586 218.91299946375833 ...    0.05620000138878822 -18.471019744873047"
      ]
     },
     "execution_count": 23,
     "metadata": {},
     "output_type": "execute_result"
    }
   ],
   "source": [
    "data_table_vl"
   ]
  },
  {
   "cell_type": "code",
   "execution_count": null,
   "id": "767a6b4d",
   "metadata": {},
   "outputs": [],
   "source": [
    "def calc_volume_boundaries(void_cat_A, void_cat_B):\n",
    "    \"\"\"Compute the boundaries of the minimal rectangular volume (parallelpiped)\n",
    "    that completely contains two void catalogs.\n",
    "    \n",
    "    Parameters\n",
    "    ----------\n",
    "    void_cat_A : astropy.Table\n",
    "        Table of void data from first catalog.\n",
    "    void_cat_B : astropy.Table\n",
    "        Table of void data from second catalog.\n",
    "        \n",
    "    Returns\n",
    "    -------\n",
    "    x_min : float\n",
    "    x_max : float\n",
    "    y_min : float\n",
    "    y_max : float\n",
    "    z_min : float\n",
    "    z_max : float\n",
    "    \"\"\"\n",
    "    x_min = np.minimum(np.min(void_cat_A['x']), np.min(void_cat_B['x']))\n",
    "    x_max = np.maximum(np.max(void_cat_A['x']), np.max(void_cat_B['x']))\n",
    "    \n",
    "    y_min = np.minimum(np.min(void_cat_A['y']), np.min(void_cat_B['y']))\n",
    "    y_max = np.maximum(np.max(void_cat_A['y']), np.max(void_cat_B['y']))\n",
    "\n",
    "    z_min = np.minimum(np.min(void_cat_A['z']), np.min(void_cat_B['z']))\n",
    "    z_max = np.maximum(np.max(void_cat_A['z']), np.max(void_cat_B['z']))\n",
    "\n",
    "    return x_min, x_max, y_min, y_max, z_min, z_max\n",
    "\n",
    "def generate_grid_points(x_min, x_max, y_min, y_max, z_min, z_max):\n",
    "    \"\"\"Creates a dense rectangular grid of points in 3D for the void volume calculation.\n",
    "    \n",
    "    Returns\n",
    "    -------\n",
    "    xyz : list\n",
    "        2D list of points in 3D space.\n",
    "    \"\"\"\n",
    "    \n",
    "    x_range = np.arange(x_min, x_max) # default spacing: 1 Megaparsec\n",
    "    y_range = np.arange(y_min, y_max)\n",
    "    z_range = np.arange(z_min, z_max)\n",
    "\n",
    "    # Creating a meshgrid from the ranges to \n",
    "    X,Y,Z = np.meshgrid(x_range,y_range,z_range)\n",
    "\n",
    "    x_points = np.ravel(X)\n",
    "    y_points = np.ravel(Y)\n",
    "    z_points = np.ravel(Z)\n",
    "    \n",
    "    point_coords = np.array([x_points, y_points, z_points])\n",
    "    \n",
    "    return point_coords"
   ]
  },
  {
   "cell_type": "code",
   "execution_count": 29,
   "id": "d284bbf8",
   "metadata": {},
   "outputs": [
    {
     "ename": "NameError",
     "evalue": "name 'pts' is not defined",
     "output_type": "error",
     "traceback": [
      "\u001b[0;31m---------------------------------------------------------------------------\u001b[0m",
      "\u001b[0;31mNameError\u001b[0m                                 Traceback (most recent call last)",
      "\u001b[0;32m<ipython-input-29-d16cd4a8d9f4>\u001b[0m in \u001b[0;36m<module>\u001b[0;34m\u001b[0m\n\u001b[1;32m      4\u001b[0m \u001b[0mrmax\u001b[0m \u001b[0;34m=\u001b[0m \u001b[0;36m312.89816\u001b[0m \u001b[0;31m# Where are these computed?\u001b[0m\u001b[0;34m\u001b[0m\u001b[0;34m\u001b[0m\u001b[0m\n\u001b[1;32m      5\u001b[0m \u001b[0;34m\u001b[0m\u001b[0m\n\u001b[0;32m----> 6\u001b[0;31m \u001b[0mpoints_boolean\u001b[0m \u001b[0;34m=\u001b[0m \u001b[0mnp\u001b[0m\u001b[0;34m.\u001b[0m\u001b[0mones\u001b[0m\u001b[0;34m(\u001b[0m\u001b[0mpts\u001b[0m\u001b[0;34m.\u001b[0m\u001b[0mshape\u001b[0m\u001b[0;34m[\u001b[0m\u001b[0;36m1\u001b[0m\u001b[0;34m]\u001b[0m\u001b[0;34m,\u001b[0m \u001b[0mdtype\u001b[0m \u001b[0;34m=\u001b[0m \u001b[0mbool\u001b[0m\u001b[0;34m)\u001b[0m\u001b[0;34m\u001b[0m\u001b[0;34m\u001b[0m\u001b[0m\n\u001b[0m\u001b[1;32m      7\u001b[0m \u001b[0;34m\u001b[0m\u001b[0m\n\u001b[1;32m      8\u001b[0m \u001b[0;31m# print(time.time() - start_time)\u001b[0m\u001b[0;34m\u001b[0m\u001b[0;34m\u001b[0m\u001b[0;34m\u001b[0m\u001b[0m\n",
      "\u001b[0;31mNameError\u001b[0m: name 'pts' is not defined"
     ]
    }
   ],
   "source": [
    "start_time = time.time()\n",
    "\n",
    "rmin = 0\n",
    "rmax = 312.89816 # Where are these computed?\n",
    "\n",
    "points_boolean = np.ones(pts.shape[1], dtype = bool)\n",
    "\n",
    "# print(time.time() - start_time)\n",
    "\n",
    "# Declares MaskChecker object from VAST\n",
    "\n",
    "mask_checker = MaskChecker(0,\n",
    "                        mask,\n",
    "                        mask_resolution,\n",
    "                        rmin,\n",
    "                        rmax,)\n",
    "\n",
    "start_time = time.time()\n",
    "for i in range(pts.shape[1]):\n",
    "\n",
    "    # Current point will iterate through all points at \n",
    "    \n",
    "    curr_pt = pts[:,i].reshape((1,3))\n",
    "    \n",
    "    # References MC object to declare if not_in_mask\n",
    "    \n",
    "    not_in_mask = mask_checker.not_in_mask(curr_pt)\n",
    "#     print(not_in_mask, not bool(not_in_mask))\n",
    "\n",
    "    points_boolean[i] = not bool(not_in_mask)\n",
    "                                    \n",
    "points_in_mask = pts[:,points_boolean]\n",
    "(var, n_points) = points_in_mask.shape\n",
    "print(time.time() - start_time)\n",
    "print('\\nPoints in Mask Shape:', points_in_mask.shape)\n",
    "\n",
    "print('\\nSum of Points IN:', np.sum(points_boolean))\n",
    "\n",
    "print('\\nSum of Points OUT:', np.sum(~points_boolean))\n",
    "\n",
    "print('\\nBoolean Shape:', points_boolean.shape)\n",
    "\n",
    "print('\\nPoints in Mask:',points_in_mask)"
   ]
  },
  {
   "cell_type": "code",
   "execution_count": 24,
   "id": "708c593b",
   "metadata": {},
   "outputs": [],
   "source": [
    "def kd_tree(void_cat):\n",
    "    \"\"\"We are creating a function to make a KDTree to find the number of points in \n",
    "    and out of a catalogue.\n",
    "    \n",
    "    Parameters\n",
    "    ----------\n",
    "    point_coords: ndarray has a shape of (3,N)\n",
    "        This is the list of points to query the given void catalogue. N is the number of points given. \n",
    "    void_cat: Astropy Table\n",
    "        This is the given void catalogue.\n",
    "    \n",
    "    Returns\n",
    "    -------\n",
    "    true_inside: ndarray of shape (N,1)\n",
    "        Is this the boolean array of length N (same length as point_coords). True means that 1 point \n",
    "        is inside the hole.\n",
    "    \"\"\"\n",
    "#############\n",
    "    cx = void_cat['x']\n",
    "    cy = void_cat['y']\n",
    "    cz = void_cat['z']\n",
    "\n",
    "    sphere_coords = np.array([cx, cy, cz])\n",
    "\n",
    "    #The .T is meant to transpose the array from (3,1054) to (1054,3)\n",
    "    sphere_tree = neighbors.KDTree(sphere_coords.T)\n",
    "    print(\"KDTree\")\n",
    "\n",
    "##############\n",
    "    \n",
    "    return sphere_tree"
   ]
  },
  {
   "cell_type": "code",
   "execution_count": 25,
   "id": "41782b1d",
   "metadata": {},
   "outputs": [],
   "source": [
    "def point_query(point_coords, sphere_tree, void_cat):\n",
    "\n",
    "    dist, idx = sphere_tree.query(point_coords.T, k = 1)\n",
    "\n",
    "    true_inside = dist < void_cat['radius'][idx]\n",
    "    \n",
    "    print(\"Point Query\")\n",
    "\n",
    "    return true_inside"
   ]
  },
  {
   "cell_type": "code",
   "execution_count": 26,
   "id": "b558c909",
   "metadata": {},
   "outputs": [
    {
     "ename": "NameError",
     "evalue": "name 'points_in_mask' is not defined",
     "output_type": "error",
     "traceback": [
      "\u001b[0;31m---------------------------------------------------------------------------\u001b[0m",
      "\u001b[0;31mNameError\u001b[0m                                 Traceback (most recent call last)",
      "\u001b[0;32m<ipython-input-26-445574d409f8>\u001b[0m in \u001b[0;36m<module>\u001b[0;34m\u001b[0m\n\u001b[1;32m      1\u001b[0m \u001b[0mstart_time\u001b[0m \u001b[0;34m=\u001b[0m \u001b[0mtime\u001b[0m\u001b[0;34m.\u001b[0m\u001b[0mtime\u001b[0m\u001b[0;34m(\u001b[0m\u001b[0;34m)\u001b[0m\u001b[0;34m\u001b[0m\u001b[0;34m\u001b[0m\u001b[0m\n\u001b[1;32m      2\u001b[0m \u001b[0;34m\u001b[0m\u001b[0m\n\u001b[0;32m----> 3\u001b[0;31m \u001b[0mtrue_inside_NSA\u001b[0m \u001b[0;34m=\u001b[0m \u001b[0mpoint_query\u001b[0m\u001b[0;34m(\u001b[0m\u001b[0mpoints_in_mask\u001b[0m\u001b[0;34m,\u001b[0m \u001b[0mdata_table_vl\u001b[0m\u001b[0;34m)\u001b[0m\u001b[0;34m\u001b[0m\u001b[0;34m\u001b[0m\u001b[0m\n\u001b[0m\u001b[1;32m      4\u001b[0m \u001b[0;34m\u001b[0m\u001b[0m\n\u001b[1;32m      5\u001b[0m \u001b[0mcount_in_NSA\u001b[0m \u001b[0;34m=\u001b[0m \u001b[0mnp\u001b[0m\u001b[0;34m.\u001b[0m\u001b[0msum\u001b[0m\u001b[0;34m(\u001b[0m\u001b[0mtrue_inside_NSA\u001b[0m\u001b[0;34m)\u001b[0m\u001b[0;34m\u001b[0m\u001b[0;34m\u001b[0m\u001b[0m\n",
      "\u001b[0;31mNameError\u001b[0m: name 'points_in_mask' is not defined"
     ]
    }
   ],
   "source": [
    "start_time = time.time()\n",
    "\n",
    "true_inside_NSA = point_query(points_in_mask, data_table_vl)\n",
    "\n",
    "count_in_NSA = np.sum(true_inside_NSA)\n",
    "\n",
    "# The \"~\" inverts the array. So we have true_inside inverted to add up the falses instead of the trues\n",
    "count_out_NSA = np.sum(~true_inside_NSA)\n",
    "print(time.time() - start_time)\n",
    "\n",
    "total_NSA = count_in_NSA + count_out_NSA\n",
    "\n",
    "true_inside_vl = point_query(points_in_mask, data_table_vl)\n",
    "\n",
    "count_in_vl = np.sum(true_inside_vl)\n",
    "\n",
    "# The \"~\" inverts the array. So we have true_inside inverted to add up the falses instead of the trues\n",
    "count_out_vl = np.sum(~true_inside_vl)\n",
    "\n",
    "total_vl = count_in_vl + count_out_vl\n",
    "\n",
    "print(time.time() - start_time)\n",
    "print('\\nNumber of points inside NSA VoidFinder: {}'.format(count_in_NSA))\n",
    "print('\\nNumber of points outside NSA VoidFinder: {}'.format(count_out_NSA))\n",
    "print('\\nNumber of points inside NSA V2: {}'.format(count_in_vl))\n",
    "print('\\nNumber of points outside NSA V2: {}'.format(count_out_vl))\n",
    "print(\"\\nThis is the total number of points: {}\".format(total_vl))\n",
    "# print(\"\\nThis is the total number of points in NSA: {}\".format(total_NSA))"
   ]
  },
  {
   "cell_type": "code",
   "execution_count": 26,
   "id": "962a4115",
   "metadata": {},
   "outputs": [
    {
     "name": "stdout",
     "output_type": "stream",
     "text": [
      "0.02209305763244629\n",
      "54.58035922050476\n",
      "0.24974489212036133\n",
      "120.84870409965515\n",
      "\n",
      "Number of points inside NSA VoidFinder: 15668435\n",
      "\n",
      "Number of points outside NSA VoidFinder: 12044988\n",
      "\n",
      "Number of points inside NSA V2: 17445383\n",
      "\n",
      "Number of points outside NSA V2: 10268040\n",
      "\n",
      "This is the total number of points: 27713423\n"
     ]
    }
   ],
   "source": [
    "start_time = time.time()\n",
    "\n",
    "true_inside_NSA = point_query(points_in_mask, data_table_NSA, True)\n",
    "\n",
    "count_in_NSA = np.sum(true_inside_NSA)\n",
    "\n",
    "# The \"~\" inverts the array. So we have true_inside inverted to add up the falses instead of the trues\n",
    "count_out_NSA = np.sum(~true_inside_NSA)\n",
    "print(time.time() - start_time)\n",
    "\n",
    "total_NSA = count_in_NSA + count_out_NSA\n",
    "\n",
    "true_inside_vl = point_query(points_in_mask, data_table_vl, False)\n",
    "\n",
    "count_in_vl = np.sum(true_inside_vl)\n",
    "\n",
    "# The \"~\" inverts the array. So we have true_inside inverted to add up the falses instead of the trues\n",
    "count_out_vl = np.sum(~true_inside_vl)\n",
    "\n",
    "total_vl = count_in_vl + count_out_vl\n",
    "\n",
    "print(time.time() - start_time)\n",
    "print('\\nNumber of points inside NSA VoidFinder: {}'.format(count_in_NSA))\n",
    "print('\\nNumber of points outside NSA VoidFinder: {}'.format(count_out_NSA))\n",
    "print('\\nNumber of points inside NSA V2: {}'.format(count_in_vl))\n",
    "print('\\nNumber of points outside NSA V2: {}'.format(count_out_vl))\n",
    "print(\"\\nThis is the total number of points: {}\".format(total_vl))\n",
    "# print(\"\\nThis is the total number of points in NSA: {}\".format(total_NSA))"
   ]
  },
  {
   "cell_type": "code",
   "execution_count": 27,
   "id": "156a3701",
   "metadata": {},
   "outputs": [
    {
     "name": "stdout",
     "output_type": "stream",
     "text": [
      "0.018561124801635742\n",
      "0.26370811462402344\n",
      "0.01446986198425293\n",
      "0.25725817680358887\n",
      "0.016210079193115234\n",
      "0.23992395401000977\n",
      "0.014614105224609375\n",
      "0.23403596878051758\n",
      "0.014470100402832031\n",
      "0.24205732345581055\n",
      "0.015293121337890625\n",
      "0.24218106269836426\n",
      "0.0146331787109375\n",
      "0.23405098915100098\n",
      "0.014955997467041016\n",
      "0.23619484901428223\n",
      "0.015257120132446289\n",
      "0.2515439987182617\n",
      "0.014659881591796875\n",
      "0.2498798370361328\n",
      "0.014703989028930664\n",
      "0.2763631343841553\n",
      "0.016281843185424805\n",
      "0.23839688301086426\n",
      "0.014503240585327148\n",
      "0.2481379508972168\n",
      "0.014487743377685547\n",
      "0.2470409870147705\n",
      "0.014383792877197266\n",
      "0.2391190528869629\n",
      "0.014466047286987305\n",
      "0.23961973190307617\n",
      "0.014954090118408203\n",
      "0.23621106147766113\n",
      "0.01455378532409668\n",
      "0.2384016513824463\n",
      "0.014719009399414062\n",
      "0.2351360321044922\n",
      "0.016299962997436523\n",
      "0.2504730224609375\n",
      "0.014568805694580078\n",
      "0.23735666275024414\n",
      "2599.864100217819\n",
      "\n",
      "Number of points inside KIAS: [15664340. 15669640. 15670062. 15671514. 15664576. 15665253. 15671635.\n",
      " 15668665. 15668225. 15671699. 15673881. 15673203. 15669159. 15672584.\n",
      " 15672060. 15668338. 15666275. 15671506. 15664114. 15670722. 15671653.]\n",
      "\n",
      "Number of points outside KIAS: [12049083. 12043783. 12043361. 12041909. 12048847. 12048170. 12041788.\n",
      " 12044758. 12045198. 12041724. 12039542. 12040220. 12044264. 12040839.\n",
      " 12041363. 12045085. 12047148. 12041917. 12049309. 12042701. 12041770.]\n",
      "\n",
      "Number of points inside Delaunay: [17454711. 17451997. 17449153. 17437397. 17458991. 17458398. 17439796.\n",
      " 17445440. 17454740. 17442303. 17436073. 17437440. 17445854. 17444222.\n",
      " 17445768. 17448463. 17452802. 17442572. 17455933. 17432417. 17431326.]\n",
      "\n",
      "Number of points outside Delaunay: [10258712. 10261426. 10264270. 10276026. 10254432. 10255025. 10273627.\n",
      " 10267983. 10258683. 10271120. 10277350. 10275983. 10267569. 10269201.\n",
      " 10267655. 10264960. 10260621. 10270851. 10257490. 10281006. 10282097.]\n",
      "\n",
      "This is the total number of points: 27713423\n"
     ]
    }
   ],
   "source": [
    "start_time = time.time()\n",
    "\n",
    "U = 21\n",
    "\n",
    "count_in_NSA = np.zeros(U)\n",
    "count_out_NSA = np.zeros(U)\n",
    "\n",
    "count_in_vl = np.zeros(U)\n",
    "count_out_vl = np.zeros(U)\n",
    "\n",
    "inside_both = np.zeros(U)\n",
    "inside_neither = np.zeros(U)\n",
    "inside_a = np.zeros(U)\n",
    "inside_b = np.zeros(U)\n",
    "\n",
    "points_in_mask_copy = points_in_mask.copy()\n",
    "\n",
    "for i in range(U):\n",
    "        \n",
    "    delta = np.random.rand(3)\n",
    "    \n",
    "    points_in_mask_copy[0] = points_in_mask[0] + delta[0]\n",
    "    points_in_mask_copy[1] = points_in_mask[1] + delta[1]\n",
    "    points_in_mask_copy[2] = points_in_mask[2] + delta[2]\n",
    "    \n",
    "    true_inside_NSA = point_query(points_in_mask_copy, data_table_NSA, True)\n",
    "\n",
    "    count_in_NSA[i] = np.sum(true_inside_NSA)\n",
    "\n",
    "    # The \"~\" inverts the array. So we have true_inside inverted to add up the falses instead of the trues\n",
    "    count_out_NSA[i] = np.sum(~true_inside_NSA)\n",
    "    \n",
    "    # print(time.time() - start_time)\n",
    "\n",
    "    # total_KIAS = count_in_KIAS + count_out_KIAS\n",
    "\n",
    "    true_inside_vl = point_query(points_in_mask_copy, data_table_vl, False)\n",
    "\n",
    "    count_in_vl[i] = np.sum(true_inside_vl)\n",
    "\n",
    "    # The \"~\" inverts the array. So we have true_inside inverted to add up the falses instead of the trues\n",
    "    count_out_vl[i] = np.sum(~true_inside_vl)\n",
    "\n",
    "    #total_DEL = count_in_DEL + count_out_DEL\n",
    "    \n",
    "    # This is the number of points that are inside both A and B\n",
    "    inside_A_and_B = np.logical_and(true_inside_NSA, true_inside_vl)\n",
    "    inside_both[i] = np.sum(inside_A_and_B)\n",
    "    \n",
    "    # This is the number of points that are in neither A and B\n",
    "    not_inside_A_and_B = np.logical_and(~true_inside_NSA, ~true_inside_vl)\n",
    "    inside_neither[i] = np.sum(not_inside_A_and_B)\n",
    "    \n",
    "    # This is the number of points that are in A but not B\n",
    "    inside_A = np.logical_and(true_inside_NSA, ~true_inside_vl)\n",
    "    inside_a[i] = np.sum(inside_A)\n",
    "    \n",
    "    # This is the number of points that are not in A but are in B\n",
    "    inside_B = np.logical_and(~true_inside_NSA, true_inside_vl)\n",
    "    inside_b[i] = np.sum(inside_B)\n",
    "    \n",
    "print(time.time() - start_time)\n",
    "print('\\nNumber of points inside KIAS:', count_in_NSA)\n",
    "print('\\nNumber of points outside KIAS:', count_out_NSA)\n",
    "print('\\nNumber of points inside Delaunay:', count_in_vl)\n",
    "print('\\nNumber of points outside Delaunay:', count_out_vl)\n",
    "print(\"\\nThis is the total number of points: {}\".format(n_points))\n",
    "# print(\"\\nThis is the total number of points in Delaunay: {}\".format(total_DEL))"
   ]
  },
  {
   "cell_type": "markdown",
   "id": "addb599d",
   "metadata": {},
   "source": [
    "## This is the number of points that are inside both A and B"
   ]
  },
  {
   "cell_type": "code",
   "execution_count": 28,
   "id": "9b441fc7",
   "metadata": {},
   "outputs": [
    {
     "data": {
      "text/plain": [
       "(10392041,\n",
       " array([17454711., 17451997., 17449153., 17437397., 17458991., 17458398.,\n",
       "        17439796., 17445440., 17454740., 17442303., 17436073., 17437440.,\n",
       "        17445854., 17444222., 17445768., 17448463., 17452802., 17442572.,\n",
       "        17455933., 17432417., 17431326.]),\n",
       " array([15664340., 15669640., 15670062., 15671514., 15664576., 15665253.,\n",
       "        15671635., 15668665., 15668225., 15671699., 15673881., 15673203.,\n",
       "        15669159., 15672584., 15672060., 15668338., 15666275., 15671506.,\n",
       "        15664114., 15670722., 15671653.]))"
      ]
     },
     "execution_count": 28,
     "metadata": {},
     "output_type": "execute_result"
    }
   ],
   "source": [
    "inside_A_and_B = np.logical_and(true_inside_vl, true_inside_NSA)\n",
    "\n",
    "np.sum(inside_A_and_B), count_in_vl, count_in_NSA"
   ]
  },
  {
   "cell_type": "markdown",
   "id": "ba3ce18f",
   "metadata": {},
   "source": [
    "## This is the number of points that are in neither A and B\n"
   ]
  },
  {
   "cell_type": "code",
   "execution_count": 29,
   "id": "fe7022bd",
   "metadata": {},
   "outputs": [
    {
     "data": {
      "text/plain": [
       "(5002485,\n",
       " array([17454711., 17451997., 17449153., 17437397., 17458991., 17458398.,\n",
       "        17439796., 17445440., 17454740., 17442303., 17436073., 17437440.,\n",
       "        17445854., 17444222., 17445768., 17448463., 17452802., 17442572.,\n",
       "        17455933., 17432417., 17431326.]),\n",
       " array([15664340., 15669640., 15670062., 15671514., 15664576., 15665253.,\n",
       "        15671635., 15668665., 15668225., 15671699., 15673881., 15673203.,\n",
       "        15669159., 15672584., 15672060., 15668338., 15666275., 15671506.,\n",
       "        15664114., 15670722., 15671653.]))"
      ]
     },
     "execution_count": 29,
     "metadata": {},
     "output_type": "execute_result"
    }
   ],
   "source": [
    "not_inside_A_and_B = np.logical_and(~true_inside_NSA, ~true_inside_vl)\n",
    "\n",
    "np.sum(not_inside_A_and_B), count_in_vl, count_in_NSA"
   ]
  },
  {
   "cell_type": "markdown",
   "id": "020b2c90",
   "metadata": {},
   "source": [
    "## This is the number of points that are in A but not B"
   ]
  },
  {
   "cell_type": "code",
   "execution_count": 30,
   "id": "0305a55b",
   "metadata": {},
   "outputs": [
    {
     "data": {
      "text/plain": [
       "5279612"
      ]
     },
     "execution_count": 30,
     "metadata": {},
     "output_type": "execute_result"
    }
   ],
   "source": [
    "inside_A = np.logical_and(true_inside_NSA, ~true_inside_vl)\n",
    "\n",
    "np.sum(inside_A)"
   ]
  },
  {
   "cell_type": "markdown",
   "id": "b2b30d9d",
   "metadata": {},
   "source": [
    "## This is the number of points that are not in A but are in B"
   ]
  },
  {
   "cell_type": "code",
   "execution_count": 31,
   "id": "72e14efa",
   "metadata": {},
   "outputs": [
    {
     "data": {
      "text/plain": [
       "7039285"
      ]
     },
     "execution_count": 31,
     "metadata": {},
     "output_type": "execute_result"
    }
   ],
   "source": [
    "inside_B = np.logical_and(~true_inside_NSA, true_inside_vl)\n",
    "\n",
    "np.sum(inside_B)"
   ]
  },
  {
   "cell_type": "markdown",
   "id": "64973c50",
   "metadata": {},
   "source": [
    "# Fraction of points: Calculate the ratios of the given sums\n",
    "\n",
    "- in A\n",
    "- in B\n",
    "- in A & B\n",
    "- in neither A nor B\n",
    "- {in A, not B\n",
    "- {in B, not A\n",
    "-   |\n",
    "-   |\n",
    "- \\ /\n",
    "- The closer they are to zero, the more similar they are"
   ]
  },
  {
   "cell_type": "markdown",
   "id": "c6fe366d",
   "metadata": {},
   "source": [
    "## This is the ratio of A"
   ]
  },
  {
   "cell_type": "code",
   "execution_count": 32,
   "id": "402ebf4b",
   "metadata": {},
   "outputs": [
    {
     "name": "stdout",
     "output_type": "stream",
     "text": [
      "[0.56522574 0.56541698 0.56543221 0.5654846  0.56523425 0.56525868\n",
      " 0.56548897 0.5653818  0.56536592 0.56549128 0.56557001 0.56554555\n",
      " 0.56539963 0.56552321 0.5655043  0.56537    0.56529556 0.56548431\n",
      " 0.56521758 0.56545602 0.56548962]\n"
     ]
    }
   ],
   "source": [
    "r_A = count_in_NSA / n_points\n",
    "print(r_A)"
   ]
  },
  {
   "cell_type": "markdown",
   "id": "570ccd5a",
   "metadata": {},
   "source": [
    "## This is the ratio of B\n"
   ]
  },
  {
   "cell_type": "code",
   "execution_count": 33,
   "id": "3aa09892",
   "metadata": {},
   "outputs": [
    {
     "name": "stdout",
     "output_type": "stream",
     "text": [
      "[0.62982877 0.62973083 0.62962821 0.62920401 0.6299832  0.62996181\n",
      " 0.62929058 0.62949423 0.62982981 0.62938104 0.62915624 0.62920557\n",
      " 0.62950917 0.62945028 0.62950607 0.62960332 0.62975988 0.62939075\n",
      " 0.62987286 0.62902432 0.62898495]\n"
     ]
    }
   ],
   "source": [
    "r_B = count_in_vl / n_points\n",
    "print(r_B)"
   ]
  },
  {
   "cell_type": "markdown",
   "id": "6604ebeb",
   "metadata": {},
   "source": [
    "## This is the ratio of A & B"
   ]
  },
  {
   "cell_type": "code",
   "execution_count": 34,
   "id": "1ff8500b",
   "metadata": {},
   "outputs": [
    {
     "name": "stdout",
     "output_type": "stream",
     "text": [
      "0.3749822243177972\n"
     ]
    }
   ],
   "source": [
    "r_AB = np.sum(inside_A_and_B) / n_points\n",
    "print(r_AB)"
   ]
  },
  {
   "cell_type": "markdown",
   "id": "c066b425",
   "metadata": {},
   "source": [
    "## This is the ratio of neither A nor B\n"
   ]
  },
  {
   "cell_type": "code",
   "execution_count": 35,
   "id": "6b1a6dde",
   "metadata": {},
   "outputs": [
    {
     "name": "stdout",
     "output_type": "stream",
     "text": [
      "0.1805076550810775\n"
     ]
    }
   ],
   "source": [
    "r_notAB = np.sum(not_inside_A_and_B) / n_points\n",
    "print(r_notAB)"
   ]
  },
  {
   "cell_type": "markdown",
   "id": "f6f809f1",
   "metadata": {},
   "source": [
    "## This is the ratio of A and not B"
   ]
  },
  {
   "cell_type": "code",
   "execution_count": 36,
   "id": "27421b26",
   "metadata": {},
   "outputs": [
    {
     "name": "stdout",
     "output_type": "stream",
     "text": [
      "0.1905073941966678\n"
     ]
    }
   ],
   "source": [
    "r_A_not_B = np.sum(inside_A) / n_points\n",
    "print(r_A_not_B)"
   ]
  },
  {
   "cell_type": "markdown",
   "id": "596e818f",
   "metadata": {},
   "source": [
    "## This is the ratio of B and not A\n"
   ]
  },
  {
   "cell_type": "code",
   "execution_count": 37,
   "id": "90f2ec67",
   "metadata": {},
   "outputs": [
    {
     "name": "stdout",
     "output_type": "stream",
     "text": [
      "0.25400272640445754\n"
     ]
    }
   ],
   "source": [
    "r_B_not_A = np.sum(inside_B) / n_points\n",
    "print(r_B_not_A)"
   ]
  },
  {
   "cell_type": "code",
   "execution_count": 38,
   "id": "ac814ae2",
   "metadata": {},
   "outputs": [
    {
     "data": {
      "text/plain": [
       "1.0"
      ]
     },
     "execution_count": 38,
     "metadata": {},
     "output_type": "execute_result"
    }
   ],
   "source": [
    "Sum = r_AB + r_notAB + r_A_not_B + r_B_not_A\n",
    "Sum"
   ]
  },
  {
   "cell_type": "markdown",
   "id": "54902ac6",
   "metadata": {},
   "source": [
    "# This will be the Standard Deviation and Mean of the Data\n"
   ]
  },
  {
   "cell_type": "markdown",
   "id": "b2e3926b",
   "metadata": {},
   "source": [
    "## This is the STD and Mean of VoidFinder"
   ]
  },
  {
   "cell_type": "code",
   "execution_count": 39,
   "id": "f66be336",
   "metadata": {},
   "outputs": [
    {
     "name": "stdout",
     "output_type": "stream",
     "text": [
      "0.5654112500955636\n",
      "2968.149452111202\n",
      "0.00010710151005565795\n"
     ]
    }
   ],
   "source": [
    "average_vf = np.mean(count_in_NSA)\n",
    "r_average_vf = average_vf / n_points\n",
    "\n",
    "std_vf = np.std(count_in_NSA)\n",
    "r_std_vf = std_vf / n_points\n",
    "\n",
    "print(r_average_vf)\n",
    "print(std_vf )\n",
    "print(r_std_vf)"
   ]
  },
  {
   "cell_type": "markdown",
   "id": "c88c57a2",
   "metadata": {},
   "source": [
    "## This is the STD and Mean of V2\n"
   ]
  },
  {
   "cell_type": "code",
   "execution_count": 40,
   "id": "b67c7e17",
   "metadata": {},
   "outputs": [
    {
     "name": "stdout",
     "output_type": "stream",
     "text": [
      "0.6295140909051288\n",
      "8120.404752654807\n",
      "0.0002930134163742533\n"
     ]
    }
   ],
   "source": [
    "average_vl = np.mean(count_in_vl)\n",
    "r_average_vl = average_vl / n_points\n",
    "\n",
    "std_vl = np.std(count_in_vl)\n",
    "r_std_vl = std_vl / n_points\n",
    "\n",
    "print(r_average_vl)\n",
    "print(std_vl )\n",
    "print(r_std_vl)"
   ]
  },
  {
   "cell_type": "markdown",
   "id": "d870890b",
   "metadata": {},
   "source": [
    "## This is the STD and Mean of Both \n"
   ]
  },
  {
   "cell_type": "code",
   "execution_count": 41,
   "id": "a5cbc160",
   "metadata": {},
   "outputs": [
    {
     "name": "stdout",
     "output_type": "stream",
     "text": [
      "0.3750946401883098\n",
      "1555.252133025032\n",
      "5.611909192974942e-05\n"
     ]
    },
    {
     "data": {
      "text/plain": [
       "0.0023"
      ]
     },
     "execution_count": 41,
     "metadata": {},
     "output_type": "execute_result"
    }
   ],
   "source": [
    "average_both = np.mean(inside_both)\n",
    "r_average_both = average_both / n_points\n",
    "\n",
    "std_both = np.std(inside_both)\n",
    "r_std_both = std_both / n_points\n",
    "\n",
    "print(r_average_both)\n",
    "print(std_both )\n",
    "print(r_std_both)\n",
    "\n",
    "4.632\n",
    "0.0023"
   ]
  },
  {
   "cell_type": "code",
   "execution_count": 42,
   "id": "a4efb95a",
   "metadata": {},
   "outputs": [
    {
     "name": "stdout",
     "output_type": "stream",
     "text": [
      "0.18016929918761748\n",
      "4422.898381744498\n",
      "0.0001595940848499479\n"
     ]
    }
   ],
   "source": [
    "average_neither = np.mean(inside_neither)\n",
    "r_average_neither = average_neither / n_points\n",
    "\n",
    "std_neither = np.std(inside_neither)\n",
    "r_std_neither = std_neither / n_points\n",
    "\n",
    "print(r_average_neither)\n",
    "print(std_neither )\n",
    "print(r_std_neither)\n"
   ]
  },
  {
   "cell_type": "code",
   "execution_count": 43,
   "id": "1d61d590",
   "metadata": {},
   "outputs": [
    {
     "name": "stdout",
     "output_type": "stream",
     "text": [
      "0.19031660990725377\n",
      "4169.725686339538\n",
      "0.00015045870321899745\n"
     ]
    }
   ],
   "source": [
    "average_a = np.mean(inside_a)\n",
    "r_average_a = average_a / n_points\n",
    "\n",
    "std_a = np.std(inside_a)\n",
    "r_std_a = std_a / n_points\n",
    "\n",
    "print(r_average_a)\n",
    "print(std_a )\n",
    "print(r_std_a)"
   ]
  },
  {
   "cell_type": "code",
   "execution_count": 44,
   "id": "571b7541",
   "metadata": {},
   "outputs": [
    {
     "name": "stdout",
     "output_type": "stream",
     "text": [
      "0.254419450716819\n",
      "6698.692568139621\n",
      "0.00024171292619246711\n"
     ]
    }
   ],
   "source": [
    "average_b = np.mean(inside_b)\n",
    "r_average_b = average_b / n_points\n",
    "\n",
    "std_b = np.std(inside_b)\n",
    "r_std_b = std_b / n_points\n",
    "\n",
    "print(r_average_b)\n",
    "print(std_b )\n",
    "print(r_std_b)"
   ]
  },
  {
   "cell_type": "code",
   "execution_count": null,
   "id": "4bda0971",
   "metadata": {},
   "outputs": [],
   "source": []
  }
 ],
 "metadata": {
  "kernelspec": {
   "display_name": "Python 3",
   "language": "python",
   "name": "python3"
  },
  "language_info": {
   "codemirror_mode": {
    "name": "ipython",
    "version": 3
   },
   "file_extension": ".py",
   "mimetype": "text/x-python",
   "name": "python",
   "nbconvert_exporter": "python",
   "pygments_lexer": "ipython3",
   "version": "3.8.8"
  }
 },
 "nbformat": 4,
 "nbformat_minor": 5
}
