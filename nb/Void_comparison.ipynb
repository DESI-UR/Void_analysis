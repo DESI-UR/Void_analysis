{
 "cells": [
  {
   "cell_type": "code",
   "execution_count": 1,
   "metadata": {},
   "outputs": [],
   "source": [
    "from astropy.table import Table\n",
    "\n",
    "import matplotlib.pyplot as plt\n",
    "import matplotlib.patches as patches\n",
    "\n",
    "import numpy as np\n",
    "\n",
    "import pickle"
   ]
  },
  {
   "cell_type": "code",
   "execution_count": 7,
   "metadata": {},
   "outputs": [],
   "source": [
    "def diff_voids(voids1, voids2):\n",
    "    '''\n",
    "    Compare two void catalogs (assumed to have been run on the same galaxy \n",
    "    catalog).  Retains only those voids that are not the same between the two \n",
    "    lists.\n",
    "    \n",
    "    \n",
    "    PARAMETERS\n",
    "    ==========\n",
    "    \n",
    "    voids1 : length-N astropy table\n",
    "        VoidFinder output table containing a list of all the voids.\n",
    "        \n",
    "    voids2 : length-N astropy table\n",
    "        VoidFinder output table containing a list of all the voids.  Presumably, \n",
    "        not the same list as in voids1.\n",
    "        \n",
    "        \n",
    "    RETURNS\n",
    "    =======\n",
    "    \n",
    "    unique1 : length-M astropy table\n",
    "        VoidFinder output table containing a list of all the unique voids from \n",
    "        voids1.\n",
    "        \n",
    "    unique2 : length-M astropy table\n",
    "        VoidFinder output table containing a list of all the unique voids from \n",
    "        voids2.\n",
    "    '''\n",
    "    \n",
    "    \n",
    "    ############################################################################\n",
    "    # Determine which of the two tables is shorter\n",
    "    #---------------------------------------------------------------------------\n",
    "    N1 = len(voids1)\n",
    "    N2 = len(voids2)\n",
    "    \n",
    "    if N2 < N1:\n",
    "        short = voids2\n",
    "        long = voids1\n",
    "    else:\n",
    "        short = voids1\n",
    "        long = voids2\n",
    "    ############################################################################\n",
    "    \n",
    "    \n",
    "    ############################################################################\n",
    "    # Find unique voids\n",
    "    #---------------------------------------------------------------------------\n",
    "    # List of unique void indices in the short list\n",
    "    unique_idx_short = []\n",
    "    \n",
    "    for i in range(len(short)):\n",
    "        \n",
    "        ########################################################################\n",
    "        # Is this void shared between the two tables?\n",
    "        #-----------------------------------------------------------------------\n",
    "        # Distance between the center of this void and the center of every void \n",
    "        # in the long list\n",
    "        separation = (long['x'] - short['x'][i])**2 \\\n",
    "                     + (long['y'] - short['y'][i])**2 \\\n",
    "                     + (long['z'] - short['z'][i])**2\n",
    "        \n",
    "        unique_boolean = np.sqrt(separation) <= 0.1\n",
    "        \n",
    "        if sum(unique_boolean) == 0:\n",
    "            # This void is unique!\n",
    "            unique_idx_short.append(i)\n",
    "            \n",
    "        else:\n",
    "            # This void is not unique, so we will remove all overlaps from the \n",
    "            # long catalog.\n",
    "            long.remove_rows(unique_boolean)\n",
    "        ########################################################################\n",
    "    ############################################################################\n",
    "    \n",
    "    \n",
    "    ############################################################################\n",
    "    # Build output arrays\n",
    "    #---------------------------------------------------------------------------\n",
    "    if N2 < N1:\n",
    "        unique1 = long\n",
    "        unique2 = short[unique_idx_short]\n",
    "    else:\n",
    "        unique1 = short[unique_idx_short]\n",
    "        unique2 = long\n",
    "    ############################################################################\n",
    "    \n",
    "    return unique1, unique2\n",
    "            "
   ]
  },
  {
   "cell_type": "markdown",
   "metadata": {},
   "source": [
    "# Constants and conversions"
   ]
  },
  {
   "cell_type": "code",
   "execution_count": 8,
   "metadata": {},
   "outputs": [],
   "source": [
    "RtoD = 180/np.pi"
   ]
  },
  {
   "cell_type": "markdown",
   "metadata": {},
   "source": [
    "# Survey mask"
   ]
  },
  {
   "cell_type": "code",
   "execution_count": 9,
   "metadata": {},
   "outputs": [],
   "source": [
    "mask_filename = '../../data/SDSS/dr7_mask.pickle'"
   ]
  },
  {
   "cell_type": "code",
   "execution_count": 10,
   "metadata": {},
   "outputs": [],
   "source": [
    "temp_infile = open(mask_filename, 'rb')\n",
    "mask_resolution, mask = pickle.load(temp_infile)\n",
    "temp_infile.close()"
   ]
  },
  {
   "cell_type": "markdown",
   "metadata": {},
   "source": [
    "# VoidFinder output files"
   ]
  },
  {
   "cell_type": "code",
   "execution_count": 11,
   "metadata": {},
   "outputs": [],
   "source": [
    "all_cell_search_filename = '../../data/SDSS/vollim_dr7_cbp_102709_all_cells_comoving_maximal.txt'\n",
    "empty_cell_search_filename = '../../data/SDSS/vollim_dr7_cbp_102709_empty_cells_only_comoving_maximal.txt'"
   ]
  },
  {
   "cell_type": "code",
   "execution_count": 12,
   "metadata": {},
   "outputs": [],
   "source": [
    "all_cell_search_maximals = Table.read(all_cell_search_filename, \n",
    "                                      format='ascii.commented_header')\n",
    "empty_cell_search_maximals = Table.read(empty_cell_search_filename, \n",
    "                                        format='ascii.commented_header')"
   ]
  },
  {
   "cell_type": "markdown",
   "metadata": {},
   "source": [
    "# Unique voids"
   ]
  },
  {
   "cell_type": "code",
   "execution_count": 13,
   "metadata": {},
   "outputs": [],
   "source": [
    "all_cell_unique_maximals, empty_cell_unique_maximals = diff_voids(all_cell_search_maximals,\n",
    "                                                                  empty_cell_search_maximals)"
   ]
  },
  {
   "cell_type": "code",
   "execution_count": 14,
   "metadata": {},
   "outputs": [
    {
     "data": {
      "text/plain": [
       "<matplotlib.legend.Legend at 0x1228f3f50>"
      ]
     },
     "execution_count": 14,
     "metadata": {},
     "output_type": "execute_result"
    },
    {
     "data": {
      "image/png": "[encoded data removed]",
      "text/plain": [
       "<Figure size 1440x720 with 1 Axes>"
      ]
     },
     "metadata": {
      "needs_background": "light"
     },
     "output_type": "display_data"
    }
   ],
   "source": [
    "plt.figure(figsize=(20,10))\n",
    "\n",
    "plt.scatter(mask[0], mask[1], s=5, c='gray', label='SDSS DR7 mask')\n",
    "plt.scatter(all_cell_unique_maximals['ra'], all_cell_unique_maximals['dec'], \n",
    "            s=30, c='b', label='All cell search')\n",
    "plt.scatter(empty_cell_unique_maximals['ra'], empty_cell_unique_maximals['dec'], \n",
    "            s=30, c='darkorange', label='Empty cell search')\n",
    "\n",
    "plt.title('Maximal sphere comparison')\n",
    "plt.xlabel('ra [deg]')\n",
    "plt.ylabel('dec [deg]')\n",
    "\n",
    "plt.legend()"
   ]
  },
  {
   "cell_type": "code",
   "execution_count": 17,
   "metadata": {},
   "outputs": [
    {
     "data": {
      "text/html": [
       "<i>Table length=13</i>\n",
       "<table id=\"table4874166032\" class=\"table-striped table-bordered table-condensed\">\n",
       "<thead><tr><th>x</th><th>y</th><th>z</th><th>radius</th><th>flag</th><th>r</th><th>ra</th><th>dec</th></tr></thead>\n",
       "<thead><tr><th>float64</th><th>float64</th><th>float64</th><th>float64</th><th>int64</th><th>float64</th><th>float64</th><th>float64</th></tr></thead>\n",
       "<tr><td>-62.45731516824586</td><td>105.32516069893855</td><td>81.35052854803052</td><td>12.070308731806623</td><td>410</td><td>147.0109322102501</td><td>120.66773756118323</td><td>33.598091394341196</td></tr>\n",
       "<tr><td>-88.53728245128468</td><td>-127.44489942409277</td><td>183.63776674193434</td><td>11.951978640991662</td><td>432</td><td>240.42437926932612</td><td>235.21189395939516</td><td>49.80095282455733</td></tr>\n",
       "<tr><td>-162.72663727864128</td><td>53.914992784396375</td><td>58.83060970911861</td><td>11.569965376345214</td><td>502</td><td>181.23969092255328</td><td>161.66880579899137</td><td>18.941411741211844</td></tr>\n",
       "<tr><td>-143.73730420177966</td><td>170.94954520617213</td><td>144.25633188982297</td><td>11.360359014156582</td><td>530</td><td>265.8835250926593</td><td>130.05769751609904</td><td>32.85771202955882</td></tr>\n",
       "<tr><td>-245.14035519758255</td><td>-26.885250696447866</td><td>143.41811256459098</td><td>11.142978695894625</td><td>580</td><td>285.28120418807384</td><td>186.25877975805355</td><td>30.180476595763118</td></tr>\n",
       "<tr><td>-47.33698782816491</td><td>-28.892638185836343</td><td>28.6193765291594</td><td>11.120941871303984</td><td>586</td><td>62.40708029462107</td><td>211.3982516760184</td><td>27.296277485504408</td></tr>\n",
       "<tr><td>-176.87153973804234</td><td>-0.5250031495286013</td><td>162.66754490299968</td><td>11.091591704844216</td><td>591</td><td>240.30095164685122</td><td>180.17006905916733</td><td>42.60440710759143</td></tr>\n",
       "<tr><td>-93.12877587224239</td><td>-8.014244162662344</td><td>87.24333957056612</td><td>11.026460029119534</td><td>599</td><td>127.86163343390476</td><td>184.91849992479177</td><td>43.025687262688095</td></tr>\n",
       "<tr><td>-187.02148849494577</td><td>-119.83058440724948</td><td>188.76593628666168</td><td>10.490927119832822</td><td>710</td><td>291.49439929512897</td><td>212.64897190666917</td><td>40.359390006609914</td></tr>\n",
       "<tr><td>-167.7328566652079</td><td>-164.73621692974422</td><td>112.91740965667242</td><td>10.326869787571296</td><td>747</td><td>260.8115675674062</td><td>224.48359058340714</td><td>25.654687160199654</td></tr>\n",
       "<tr><td>-235.5930843363525</td><td>-17.770975727262005</td><td>118.89496345822354</td><td>10.2129672243343</td><td>775</td><td>264.4918170778577</td><td>184.31369771312083</td><td>26.71303777248008</td></tr>\n",
       "<tr><td>-136.1033675977886</td><td>-8.329234400695759</td><td>43.26073202985989</td><td>10.176447833512066</td><td>782</td><td>143.05591128268645</td><td>183.50201138284066</td><td>17.602072248479168</td></tr>\n",
       "<tr><td>-227.31079148766284</td><td>125.52653256624596</td><td>132.02628165281448</td><td>10.063814340362773</td><td>815</td><td>291.3040428005091</td><td>151.091455210076</td><td>26.95078715457386</td></tr>\n",
       "</table>"
      ],
      "text/plain": [
       "<Table length=13>\n",
       "         x                   y          ...        dec        \n",
       "      float64             float64       ...      float64      \n",
       "------------------- ------------------- ... ------------------\n",
       " -62.45731516824586  105.32516069893855 ... 33.598091394341196\n",
       " -88.53728245128468 -127.44489942409277 ...  49.80095282455733\n",
       "-162.72663727864128  53.914992784396375 ... 18.941411741211844\n",
       "-143.73730420177966  170.94954520617213 ...  32.85771202955882\n",
       "-245.14035519758255 -26.885250696447866 ... 30.180476595763118\n",
       " -47.33698782816491 -28.892638185836343 ... 27.296277485504408\n",
       "-176.87153973804234 -0.5250031495286013 ...  42.60440710759143\n",
       " -93.12877587224239  -8.014244162662344 ... 43.025687262688095\n",
       "-187.02148849494577 -119.83058440724948 ... 40.359390006609914\n",
       " -167.7328566652079 -164.73621692974422 ... 25.654687160199654\n",
       " -235.5930843363525 -17.770975727262005 ...  26.71303777248008\n",
       " -136.1033675977886  -8.329234400695759 ... 17.602072248479168\n",
       "-227.31079148766284  125.52653256624596 ...  26.95078715457386"
      ]
     },
     "execution_count": 17,
     "metadata": {},
     "output_type": "execute_result"
    }
   ],
   "source": [
    "all_cell_unique_maximals"
   ]
  },
  {
   "cell_type": "code",
   "execution_count": 18,
   "metadata": {},
   "outputs": [
    {
     "data": {
      "text/html": [
       "<i>Table length=12</i>\n",
       "<table id=\"table4858009296\" class=\"table-striped table-bordered table-condensed\">\n",
       "<thead><tr><th>x</th><th>y</th><th>z</th><th>radius</th><th>flag</th><th>r</th><th>ra</th><th>dec</th></tr></thead>\n",
       "<thead><tr><th>float64</th><th>float64</th><th>float64</th><th>float64</th><th>int64</th><th>float64</th><th>float64</th><th>float64</th></tr></thead>\n",
       "<tr><td>-62.879120145630175</td><td>104.58995209116351</td><td>81.44908647282818</td><td>11.9864432262676</td><td>424</td><td>146.72012648569628</td><td>121.01414039374237</td><td>33.719830201025864</td></tr>\n",
       "<tr><td>-92.12228291775266</td><td>-124.55969292960971</td><td>181.23694797293544</td><td>11.898624419533288</td><td>441</td><td>238.42915808105693</td><td>233.51398494979833</td><td>49.47558283200845</td></tr>\n",
       "<tr><td>-162.90391113194744</td><td>53.68160936498691</td><td>57.68659552151045</td><td>11.401478350003403</td><td>524</td><td>180.96171625225824</td><td>161.76143484601602</td><td>18.58903343036398</td></tr>\n",
       "<tr><td>-143.5106132190009</td><td>170.51282989550666</td><td>143.77480218305982</td><td>11.237378472801014</td><td>563</td><td>265.21899443336565</td><td>130.08534525693887</td><td>32.82660307379395</td></tr>\n",
       "<tr><td>-245.25558023182782</td><td>-26.609660696633775</td><td>143.6471985665722</td><td>11.11348185436166</td><td>585</td><td>285.46959791414696</td><td>186.19223696605448</td><td>30.21168088711608</td></tr>\n",
       "<tr><td>-47.191708693860505</td><td>-27.14846674413078</td><td>27.499373201512824</td><td>11.050348326271912</td><td>593</td><td>60.994361563012085</td><td>209.91097574471604</td><td>26.798300866805842</td></tr>\n",
       "<tr><td>-93.13365539129556</td><td>-8.176992644859064</td><td>87.48093112652599</td><td>10.94401797907092</td><td>612</td><td>128.03770650094705</td><td>185.01761541292606</td><td>43.0976247207097</td></tr>\n",
       "<tr><td>-179.470657652402</td><td>-2.07252763458482</td><td>160.36654684235904</td><td>10.533750800648672</td><td>702</td><td>240.6895130144318</td><td>180.6616224055872</td><td>41.78057882658182</td></tr>\n",
       "<tr><td>-167.72068660439612</td><td>-164.86674327815194</td><td>112.98239829439211</td><td>10.297086453474451</td><td>749</td><td>260.9143424163317</td><td>224.50835515859563</td><td>25.659679506803343</td></tr>\n",
       "<tr><td>-187.3178750930078</td><td>-119.13404524186966</td><td>187.74809028097457</td><td>10.200199355178668</td><td>776</td><td>290.7408682473183</td><td>212.45633349604867</td><td>40.222492466157206</td></tr>\n",
       "<tr><td>-242.54987596752554</td><td>-14.714556844213824</td><td>126.4555512668162</td><td>10.153204620034913</td><td>789</td><td>273.9305878524303</td><td>183.4716570880312</td><td>27.4925681939372</td></tr>\n",
       "<tr><td>-133.46309469964183</td><td>-3.598216796040984</td><td>39.024440862128984</td><td>10.103848539708732</td><td>803</td><td>139.0979934992546</td><td>181.54434233517918</td><td>16.293247211348188</td></tr>\n",
       "</table>"
      ],
      "text/plain": [
       "<Table length=12>\n",
       "         x                   y          ...        dec        \n",
       "      float64             float64       ...      float64      \n",
       "------------------- ------------------- ... ------------------\n",
       "-62.879120145630175  104.58995209116351 ... 33.719830201025864\n",
       " -92.12228291775266 -124.55969292960971 ...  49.47558283200845\n",
       "-162.90391113194744   53.68160936498691 ...  18.58903343036398\n",
       " -143.5106132190009  170.51282989550666 ...  32.82660307379395\n",
       "-245.25558023182782 -26.609660696633775 ...  30.21168088711608\n",
       "-47.191708693860505  -27.14846674413078 ... 26.798300866805842\n",
       " -93.13365539129556  -8.176992644859064 ...   43.0976247207097\n",
       "  -179.470657652402   -2.07252763458482 ...  41.78057882658182\n",
       "-167.72068660439612 -164.86674327815194 ... 25.659679506803343\n",
       " -187.3178750930078 -119.13404524186966 ... 40.222492466157206\n",
       "-242.54987596752554 -14.714556844213824 ...   27.4925681939372\n",
       "-133.46309469964183  -3.598216796040984 ... 16.293247211348188"
      ]
     },
     "execution_count": 18,
     "metadata": {},
     "output_type": "execute_result"
    }
   ],
   "source": [
    "empty_cell_unique_maximals"
   ]
  },
  {
   "cell_type": "code",
   "execution_count": null,
   "metadata": {},
   "outputs": [],
   "source": []
  }
 ],
 "metadata": {
  "kernelspec": {
   "display_name": "Python 3",
   "language": "python",
   "name": "python3"
  },
  "language_info": {
   "codemirror_mode": {
    "name": "ipython",
    "version": 3
   },
   "file_extension": ".py",
   "mimetype": "text/x-python",
   "name": "python",
   "nbconvert_exporter": "python",
   "pygments_lexer": "ipython3",
   "version": "3.7.6"
  }
 },
 "nbformat": 4,
 "nbformat_minor": 4
}
