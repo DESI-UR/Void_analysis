{
 "cells": [
  {
   "cell_type": "markdown",
   "id": "6b999ee2",
   "metadata": {},
   "source": [
    "This notebook saves the volume-limited galaxy catalog used by $V^2$ to define voids.  This output is intended to be released with the associated void catalogs, so the user can map the galaxies to the `galzones` file."
   ]
  },
  {
   "cell_type": "code",
   "execution_count": 1,
   "id": "e789136e",
   "metadata": {},
   "outputs": [],
   "source": [
    "from astropy.table import Table\n",
    "\n",
    "import numpy as np"
   ]
  },
  {
   "cell_type": "markdown",
   "id": "9afb8ed9",
   "metadata": {},
   "source": [
    "# Input data"
   ]
  },
  {
   "cell_type": "code",
   "execution_count": 4,
   "id": "5fe6805a",
   "metadata": {},
   "outputs": [],
   "source": [
    "directory = '../../void_catalogs/public/v1.0.0/'"
   ]
  },
  {
   "cell_type": "code",
   "execution_count": 2,
   "id": "5e1b3c62",
   "metadata": {},
   "outputs": [],
   "source": [
    "gal_filename = directory + 'nsa_v1_0_1_main.txt'\n",
    "\n",
    "gal = Table.read(gal_filename, format='ascii.commented_header')"
   ]
  },
  {
   "cell_type": "markdown",
   "id": "d9c4debf",
   "metadata": {},
   "source": [
    "# Create volume-limited catalog\n",
    "\n",
    "- $M_r \\leq -20$\n",
    "- $z \\leq 0.114$"
   ]
  },
  {
   "cell_type": "code",
   "execution_count": 3,
   "id": "6e804c50",
   "metadata": {},
   "outputs": [],
   "source": [
    "rabsmag_boolean = gal['rabsmag'] <= -20.0\n",
    "z_boolean = gal['redshift'] <= 0.114\n",
    "\n",
    "vollim_gal = gal[rabsmag_boolean & z_boolean]"
   ]
  },
  {
   "cell_type": "markdown",
   "id": "8cd431cb",
   "metadata": {},
   "source": [
    "# Save output"
   ]
  },
  {
   "cell_type": "code",
   "execution_count": 6,
   "id": "0212150c",
   "metadata": {},
   "outputs": [],
   "source": [
    "vollim_gal.write(directory + 'V2_nsa_v1_0_1_gal.txt', format='ascii.commented_header')"
   ]
  },
  {
   "cell_type": "code",
   "execution_count": null,
   "id": "cd13b3ad",
   "metadata": {},
   "outputs": [],
   "source": []
  }
 ],
 "metadata": {
  "kernelspec": {
   "display_name": "Python 3 (ipykernel)",
   "language": "python",
   "name": "python3"
  },
  "language_info": {
   "codemirror_mode": {
    "name": "ipython",
    "version": 3
   },
   "file_extension": ".py",
   "mimetype": "text/x-python",
   "name": "python",
   "nbconvert_exporter": "python",
   "pygments_lexer": "ipython3",
   "version": "3.8.12"
  }
 },
 "nbformat": 4,
 "nbformat_minor": 5
}
